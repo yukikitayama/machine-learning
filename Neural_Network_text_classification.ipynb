{
 "cells": [
  {
   "cell_type": "markdown",
   "metadata": {},
   "source": [
    "# Neural Network Text Classification"
   ]
  },
  {
   "cell_type": "markdown",
   "metadata": {},
   "source": [
    "This text classification predicts binary value, i.e., positive or negative from texts in the review."
   ]
  },
  {
   "cell_type": "markdown",
   "metadata": {},
   "source": [
    "# Package"
   ]
  },
  {
   "cell_type": "code",
   "execution_count": 13,
   "metadata": {},
   "outputs": [],
   "source": [
    "from __future__ import absolute_import, division, print_function, unicode_literals\n",
    "\n",
    "import tensorflow as tf\n",
    "from tensorflow import keras\n",
    "from tensorflow.keras.preprocessing.sequence import pad_sequences\n",
    "\n",
    "import numpy as np\n"
   ]
  },
  {
   "cell_type": "markdown",
   "metadata": {},
   "source": [
    "# Data"
   ]
  },
  {
   "cell_type": "markdown",
   "metadata": {},
   "source": [
    "num_words allows you to have most frequent XXX words in the data, so rare words are discarded."
   ]
  },
  {
   "cell_type": "code",
   "execution_count": 2,
   "metadata": {},
   "outputs": [],
   "source": [
    "imdb = tf.keras.datasets.imdb\n",
    "\n",
    "(train_data, train_labels), (test_data, test_labels) = imdb.load_data(num_words = 10000)"
   ]
  },
  {
   "cell_type": "markdown",
   "metadata": {},
   "source": [
    "# EDA"
   ]
  },
  {
   "cell_type": "code",
   "execution_count": 3,
   "metadata": {},
   "outputs": [
    {
     "name": "stdout",
     "output_type": "stream",
     "text": [
      "Number of training data: 25000, and labels: 25000\n"
     ]
    }
   ],
   "source": [
    "print(\"Number of training data: {}, and labels: {}\".format(len(train_data), len(train_labels)))"
   ]
  },
  {
   "cell_type": "markdown",
   "metadata": {},
   "source": [
    "Each word is stored as integers, and each integer represents a word which is stored in a dictionary."
   ]
  },
  {
   "cell_type": "code",
   "execution_count": 4,
   "metadata": {},
   "outputs": [
    {
     "name": "stdout",
     "output_type": "stream",
     "text": [
      "[1, 14, 22, 16, 43, 530, 973, 1622, 1385, 65, 458, 4468, 66, 3941, 4, 173, 36, 256, 5, 25, 100, 43, 838, 112, 50, 670, 2, 9, 35, 480, 284, 5, 150, 4, 172, 112, 167, 2, 336, 385, 39, 4, 172, 4536, 1111, 17, 546, 38, 13, 447, 4, 192, 50, 16, 6, 147, 2025, 19, 14, 22, 4, 1920, 4613, 469, 4, 22, 71, 87, 12, 16, 43, 530, 38, 76, 15, 13, 1247, 4, 22, 17, 515, 17, 12, 16, 626, 18, 2, 5, 62, 386, 12, 8, 316, 8, 106, 5, 4, 2223, 5244, 16, 480, 66, 3785, 33, 4, 130, 12, 16, 38, 619, 5, 25, 124, 51, 36, 135, 48, 25, 1415, 33, 6, 22, 12, 215, 28, 77, 52, 5, 14, 407, 16, 82, 2, 8, 4, 107, 117, 5952, 15, 256, 4, 2, 7, 3766, 5, 723, 36, 71, 43, 530, 476, 26, 400, 317, 46, 7, 4, 2, 1029, 13, 104, 88, 4, 381, 15, 297, 98, 32, 2071, 56, 26, 141, 6, 194, 7486, 18, 4, 226, 22, 21, 134, 476, 26, 480, 5, 144, 30, 5535, 18, 51, 36, 28, 224, 92, 25, 104, 4, 226, 65, 16, 38, 1334, 88, 12, 16, 283, 5, 16, 4472, 113, 103, 32, 15, 16, 5345, 19, 178, 32]\n"
     ]
    }
   ],
   "source": [
    "print(train_data[0])"
   ]
  },
  {
   "cell_type": "markdown",
   "metadata": {},
   "source": [
    "Each element is one review."
   ]
  },
  {
   "cell_type": "code",
   "execution_count": 5,
   "metadata": {},
   "outputs": [
    {
     "name": "stdout",
     "output_type": "stream",
     "text": [
      "189 141\n"
     ]
    }
   ],
   "source": [
    "print(len(train_data[1]), len(train_data[2]))"
   ]
  },
  {
   "cell_type": "code",
   "execution_count": 25,
   "metadata": {},
   "outputs": [
    {
     "data": {
      "text/plain": [
       "array([1, 0, 0, ..., 0, 1, 0], dtype=int64)"
      ]
     },
     "execution_count": 25,
     "metadata": {},
     "output_type": "execute_result"
    }
   ],
   "source": [
    "train_labels"
   ]
  },
  {
   "cell_type": "markdown",
   "metadata": {},
   "source": [
    "# Convert integer to text"
   ]
  },
  {
   "cell_type": "code",
   "execution_count": 6,
   "metadata": {},
   "outputs": [],
   "source": [
    "# dictionary of integer and words\n",
    "word_index = imdb.get_word_index()\n",
    "\n",
    "# first indices are reserved?\n",
    "word_index = {k:(v+3) for k, v in word_index.items()}\n",
    "word_index[\"<PAD>\"] = 0\n",
    "word_index[\"<START>\"] = 1\n",
    "word_index[\"<UNK>\"] = 2 # unknown\n",
    "word_index[\"<UNUSED>\"] = 3\n",
    "\n",
    "reverse_word_index = dict([(value, key) for (key, value) in word_index.items()])\n",
    "\n",
    "def decode_review(text):\n",
    "    return ' '.join([reverse_word_index.get(i, '?') for i in text])"
   ]
  },
  {
   "cell_type": "code",
   "execution_count": 7,
   "metadata": {},
   "outputs": [
    {
     "data": {
      "text/plain": [
       "\"<START> this film was just brilliant casting location scenery story direction everyone's really suited the part they played and you could just imagine being there robert <UNK> is an amazing actor and now the same being director <UNK> father came from the same scottish island as myself so i loved the fact there was a real connection with this film the witty remarks throughout the film were great it was just brilliant so much that i bought the film as soon as it was released for <UNK> and would recommend it to everyone to watch and the fly fishing was amazing really cried at the end it was so sad and you know what they say if you cry at a film it must have been good and this definitely was also <UNK> to the two little boy's that played the <UNK> of norman and paul they were just brilliant children are often left out of the <UNK> list i think because the stars that play them all grown up are such a big profile for the whole film but these children are amazing and should be praised for what they have done don't you think the whole story was so lovely because it was true and was someone's life after all that was shared with us all\""
      ]
     },
     "execution_count": 7,
     "metadata": {},
     "output_type": "execute_result"
    }
   ],
   "source": [
    "decode_review(train_data[0])"
   ]
  },
  {
   "cell_type": "markdown",
   "metadata": {},
   "source": [
    "Before making model, the review needs to be the same length, use the following to standardize the length."
   ]
  },
  {
   "cell_type": "code",
   "execution_count": 15,
   "metadata": {},
   "outputs": [],
   "source": [
    "train_data = pad_sequences(train_data,\n",
    "                           value = word_index[\"<PAD>\"],\n",
    "                           padding = 'post',\n",
    "                           maxlen = 256)\n",
    "\n",
    "test_data = pad_sequences(test_data,\n",
    "                          value = word_index[\"<PAD>\"],\n",
    "                          padding = 'post',\n",
    "                          maxlen = 256)"
   ]
  },
  {
   "cell_type": "code",
   "execution_count": 16,
   "metadata": {},
   "outputs": [
    {
     "data": {
      "text/plain": [
       "(256, 256)"
      ]
     },
     "execution_count": 16,
     "metadata": {},
     "output_type": "execute_result"
    }
   ],
   "source": [
    "len(train_data[0]), len(train_data[1])"
   ]
  },
  {
   "cell_type": "code",
   "execution_count": 17,
   "metadata": {},
   "outputs": [
    {
     "name": "stdout",
     "output_type": "stream",
     "text": [
      "[   1   14   22   16   43  530  973 1622 1385   65  458 4468   66 3941\n",
      "    4  173   36  256    5   25  100   43  838  112   50  670    2    9\n",
      "   35  480  284    5  150    4  172  112  167    2  336  385   39    4\n",
      "  172 4536 1111   17  546   38   13  447    4  192   50   16    6  147\n",
      " 2025   19   14   22    4 1920 4613  469    4   22   71   87   12   16\n",
      "   43  530   38   76   15   13 1247    4   22   17  515   17   12   16\n",
      "  626   18    2    5   62  386   12    8  316    8  106    5    4 2223\n",
      " 5244   16  480   66 3785   33    4  130   12   16   38  619    5   25\n",
      "  124   51   36  135   48   25 1415   33    6   22   12  215   28   77\n",
      "   52    5   14  407   16   82    2    8    4  107  117 5952   15  256\n",
      "    4    2    7 3766    5  723   36   71   43  530  476   26  400  317\n",
      "   46    7    4    2 1029   13  104   88    4  381   15  297   98   32\n",
      " 2071   56   26  141    6  194 7486   18    4  226   22   21  134  476\n",
      "   26  480    5  144   30 5535   18   51   36   28  224   92   25  104\n",
      "    4  226   65   16   38 1334   88   12   16  283    5   16 4472  113\n",
      "  103   32   15   16 5345   19  178   32    0    0    0    0    0    0\n",
      "    0    0    0    0    0    0    0    0    0    0    0    0    0    0\n",
      "    0    0    0    0    0    0    0    0    0    0    0    0    0    0\n",
      "    0    0    0    0]\n"
     ]
    }
   ],
   "source": [
    "print(train_data[0])"
   ]
  },
  {
   "cell_type": "markdown",
   "metadata": {},
   "source": [
    "# Model"
   ]
  },
  {
   "cell_type": "markdown",
   "metadata": {},
   "source": [
    "vocab_size is used in input shape argument. It was set when we loaded data by num_words argument.\n",
    "<br>\n",
    "Embedding layer: integer to dictionary lookup\n",
    "<br>\n",
    "GlobalAveragePooling1D: make simple way of handling input variable length.\n",
    "<br>\n",
    "16 hidden units\n",
    "<br>\n",
    "sigmoid: 0 to 1 confidence level."
   ]
  },
  {
   "cell_type": "code",
   "execution_count": 18,
   "metadata": {},
   "outputs": [
    {
     "name": "stdout",
     "output_type": "stream",
     "text": [
      "WARNING:tensorflow:From C:\\Users\\yukic\\Anaconda3\\lib\\site-packages\\tensorflow\\python\\ops\\resource_variable_ops.py:435: colocate_with (from tensorflow.python.framework.ops) is deprecated and will be removed in a future version.\n",
      "Instructions for updating:\n",
      "Colocations handled automatically by placer.\n",
      "_________________________________________________________________\n",
      "Layer (type)                 Output Shape              Param #   \n",
      "=================================================================\n",
      "embedding (Embedding)        (None, None, 16)          160000    \n",
      "_________________________________________________________________\n",
      "global_average_pooling1d (Gl (None, 16)                0         \n",
      "_________________________________________________________________\n",
      "dense (Dense)                (None, 16)                272       \n",
      "_________________________________________________________________\n",
      "dense_1 (Dense)              (None, 1)                 17        \n",
      "=================================================================\n",
      "Total params: 160,289\n",
      "Trainable params: 160,289\n",
      "Non-trainable params: 0\n",
      "_________________________________________________________________\n"
     ]
    }
   ],
   "source": [
    "# input shape is the vocabulary count used for the movie reviews (10,000 words)\n",
    "vocab_size = 10000\n",
    "\n",
    "model = keras.Sequential()\n",
    "model.add(keras.layers.Embedding(vocab_size, 16)) # 16 is the argument of output_dim\n",
    "model.add(keras.layers.GlobalAveragePooling1D())\n",
    "model.add(keras.layers.Dense(16, activation = tf.nn.relu))\n",
    "model.add(keras.layers.Dense(1, activation = tf.nn.sigmoid))\n",
    "\n",
    "model.summary()"
   ]
  },
  {
   "cell_type": "code",
   "execution_count": 19,
   "metadata": {},
   "outputs": [],
   "source": [
    "model.compile(optimizer = 'adam',\n",
    "             loss = 'binary_crossentropy',\n",
    "             metrics = ['acc'])"
   ]
  },
  {
   "cell_type": "markdown",
   "metadata": {},
   "source": [
    "# Validation"
   ]
  },
  {
   "cell_type": "code",
   "execution_count": 20,
   "metadata": {},
   "outputs": [],
   "source": [
    "x_val = train_data[:10000]\n",
    "partial_x_train = train_data[10000:]\n",
    "\n",
    "y_val = train_labels[:10000]\n",
    "partial_y_train = train_labels[10000:]"
   ]
  },
  {
   "cell_type": "markdown",
   "metadata": {},
   "source": [
    "# Model training"
   ]
  },
  {
   "cell_type": "markdown",
   "metadata": {},
   "source": [
    "The following means, using 512 samples in each iteration, train model, and we have 40 iterations (epoch). In each training, use 10,000 sample to measure accuracy."
   ]
  },
  {
   "cell_type": "code",
   "execution_count": 21,
   "metadata": {},
   "outputs": [
    {
     "name": "stdout",
     "output_type": "stream",
     "text": [
      "Train on 15000 samples, validate on 10000 samples\n",
      "WARNING:tensorflow:From C:\\Users\\yukic\\Anaconda3\\lib\\site-packages\\tensorflow\\python\\ops\\math_ops.py:3066: to_int32 (from tensorflow.python.ops.math_ops) is deprecated and will be removed in a future version.\n",
      "Instructions for updating:\n",
      "Use tf.cast instead.\n",
      "Epoch 1/40\n",
      "15000/15000 [==============================] - 1s 90us/sample - loss: 0.6917 - acc: 0.6177 - val_loss: 0.6895 - val_acc: 0.6710\n",
      "Epoch 2/40\n",
      "15000/15000 [==============================] - 1s 44us/sample - loss: 0.6856 - acc: 0.7223 - val_loss: 0.6814 - val_acc: 0.7461\n",
      "Epoch 3/40\n",
      "15000/15000 [==============================] - 1s 44us/sample - loss: 0.6732 - acc: 0.7611 - val_loss: 0.6658 - val_acc: 0.7537\n",
      "Epoch 4/40\n",
      "15000/15000 [==============================] - 1s 46us/sample - loss: 0.6512 - acc: 0.7678 - val_loss: 0.6404 - val_acc: 0.7561\n",
      "Epoch 5/40\n",
      "15000/15000 [==============================] - 1s 44us/sample - loss: 0.6183 - acc: 0.7922 - val_loss: 0.6057 - val_acc: 0.7848\n",
      "Epoch 6/40\n",
      "15000/15000 [==============================] - 1s 45us/sample - loss: 0.5760 - acc: 0.8136 - val_loss: 0.5647 - val_acc: 0.8045\n",
      "Epoch 7/40\n",
      "15000/15000 [==============================] - 1s 44us/sample - loss: 0.5283 - acc: 0.8288 - val_loss: 0.5199 - val_acc: 0.8210\n",
      "Epoch 8/40\n",
      "15000/15000 [==============================] - 1s 46us/sample - loss: 0.4803 - acc: 0.8449 - val_loss: 0.4783 - val_acc: 0.8337\n",
      "Epoch 9/40\n",
      "15000/15000 [==============================] - 1s 48us/sample - loss: 0.4354 - acc: 0.8600 - val_loss: 0.4404 - val_acc: 0.8444\n",
      "Epoch 10/40\n",
      "15000/15000 [==============================] - 1s 45us/sample - loss: 0.3953 - acc: 0.8737 - val_loss: 0.4090 - val_acc: 0.8509\n",
      "Epoch 11/40\n",
      "15000/15000 [==============================] - 1s 45us/sample - loss: 0.3613 - acc: 0.8807 - val_loss: 0.3831 - val_acc: 0.8596\n",
      "Epoch 12/40\n",
      "15000/15000 [==============================] - 1s 47us/sample - loss: 0.3329 - acc: 0.8898 - val_loss: 0.3635 - val_acc: 0.8628\n",
      "Epoch 13/40\n",
      "15000/15000 [==============================] - 1s 43us/sample - loss: 0.3098 - acc: 0.8959 - val_loss: 0.3464 - val_acc: 0.8682\n",
      "Epoch 14/40\n",
      "15000/15000 [==============================] - 1s 43us/sample - loss: 0.2892 - acc: 0.9018 - val_loss: 0.3341 - val_acc: 0.8725\n",
      "Epoch 15/40\n",
      "15000/15000 [==============================] - 1s 44us/sample - loss: 0.2721 - acc: 0.9069 - val_loss: 0.3240 - val_acc: 0.8748\n",
      "Epoch 16/40\n",
      "15000/15000 [==============================] - 1s 42us/sample - loss: 0.2568 - acc: 0.9107 - val_loss: 0.3156 - val_acc: 0.8745\n",
      "Epoch 17/40\n",
      "15000/15000 [==============================] - 1s 41us/sample - loss: 0.2426 - acc: 0.9159 - val_loss: 0.3088 - val_acc: 0.8777\n",
      "Epoch 18/40\n",
      "15000/15000 [==============================] - 1s 42us/sample - loss: 0.2302 - acc: 0.9207 - val_loss: 0.3029 - val_acc: 0.8807\n",
      "Epoch 19/40\n",
      "15000/15000 [==============================] - 1s 41us/sample - loss: 0.2189 - acc: 0.9237 - val_loss: 0.2981 - val_acc: 0.8818\n",
      "Epoch 20/40\n",
      "15000/15000 [==============================] - 1s 41us/sample - loss: 0.2088 - acc: 0.9274 - val_loss: 0.2948 - val_acc: 0.8818\n",
      "Epoch 21/40\n",
      "15000/15000 [==============================] - 1s 43us/sample - loss: 0.1984 - acc: 0.9331 - val_loss: 0.2920 - val_acc: 0.8820\n",
      "Epoch 22/40\n",
      "15000/15000 [==============================] - 1s 44us/sample - loss: 0.1898 - acc: 0.9361 - val_loss: 0.2897 - val_acc: 0.8838\n",
      "Epoch 23/40\n",
      "15000/15000 [==============================] - 1s 45us/sample - loss: 0.1811 - acc: 0.9404 - val_loss: 0.2889 - val_acc: 0.8836\n",
      "Epoch 24/40\n",
      "15000/15000 [==============================] - 1s 48us/sample - loss: 0.1736 - acc: 0.9441 - val_loss: 0.2874 - val_acc: 0.8845\n",
      "Epoch 25/40\n",
      "15000/15000 [==============================] - 1s 46us/sample - loss: 0.1659 - acc: 0.9469 - val_loss: 0.2862 - val_acc: 0.8851\n",
      "Epoch 26/40\n",
      "15000/15000 [==============================] - 1s 42us/sample - loss: 0.1590 - acc: 0.9493 - val_loss: 0.2870 - val_acc: 0.8827\n",
      "Epoch 27/40\n",
      "15000/15000 [==============================] - 1s 42us/sample - loss: 0.1525 - acc: 0.9521 - val_loss: 0.2867 - val_acc: 0.8845\n",
      "Epoch 28/40\n",
      "15000/15000 [==============================] - 1s 41us/sample - loss: 0.1463 - acc: 0.9548 - val_loss: 0.2874 - val_acc: 0.8859\n",
      "Epoch 29/40\n",
      "15000/15000 [==============================] - 1s 41us/sample - loss: 0.1408 - acc: 0.9579 - val_loss: 0.2893 - val_acc: 0.8831\n",
      "Epoch 30/40\n",
      "15000/15000 [==============================] - 1s 41us/sample - loss: 0.1351 - acc: 0.9593 - val_loss: 0.2888 - val_acc: 0.8865\n",
      "Epoch 31/40\n",
      "15000/15000 [==============================] - 1s 41us/sample - loss: 0.1293 - acc: 0.9617 - val_loss: 0.2901 - val_acc: 0.8861\n",
      "Epoch 32/40\n",
      "15000/15000 [==============================] - 1s 41us/sample - loss: 0.1241 - acc: 0.9649 - val_loss: 0.2918 - val_acc: 0.8857\n",
      "Epoch 33/40\n",
      "15000/15000 [==============================] - 1s 42us/sample - loss: 0.1191 - acc: 0.9667 - val_loss: 0.2943 - val_acc: 0.8849\n",
      "Epoch 34/40\n",
      "15000/15000 [==============================] - 1s 42us/sample - loss: 0.1146 - acc: 0.9677 - val_loss: 0.2967 - val_acc: 0.8845\n",
      "Epoch 35/40\n",
      "15000/15000 [==============================] - 1s 41us/sample - loss: 0.1104 - acc: 0.9683 - val_loss: 0.2994 - val_acc: 0.8846\n",
      "Epoch 36/40\n",
      "15000/15000 [==============================] - 1s 43us/sample - loss: 0.1059 - acc: 0.9710 - val_loss: 0.3014 - val_acc: 0.8834\n",
      "Epoch 37/40\n",
      "15000/15000 [==============================] - 1s 42us/sample - loss: 0.1016 - acc: 0.9719 - val_loss: 0.3043 - val_acc: 0.8830\n",
      "Epoch 38/40\n",
      "15000/15000 [==============================] - 1s 42us/sample - loss: 0.0976 - acc: 0.9734 - val_loss: 0.3082 - val_acc: 0.8818\n",
      "Epoch 39/40\n",
      "15000/15000 [==============================] - 1s 42us/sample - loss: 0.0944 - acc: 0.9752 - val_loss: 0.3121 - val_acc: 0.8815\n",
      "Epoch 40/40\n",
      "15000/15000 [==============================] - 1s 42us/sample - loss: 0.0903 - acc: 0.9767 - val_loss: 0.3152 - val_acc: 0.8821\n"
     ]
    }
   ],
   "source": [
    "history = model.fit(partial_x_train,\n",
    "                    partial_y_train,\n",
    "                    epochs = 40,\n",
    "                    batch_size = 512,\n",
    "                    validation_data = (x_val, y_val),\n",
    "                    verbose = 1)"
   ]
  },
  {
   "cell_type": "markdown",
   "metadata": {},
   "source": [
    "# Evaluation"
   ]
  },
  {
   "cell_type": "code",
   "execution_count": 23,
   "metadata": {},
   "outputs": [
    {
     "name": "stdout",
     "output_type": "stream",
     "text": [
      "25000/25000 [==============================] - 1s 24us/sample - loss: 0.3366 - acc: 0.8705\n",
      "[0.33660174537658694, 0.87048]\n"
     ]
    }
   ],
   "source": [
    "results = model.evaluate(test_data, test_labels)\n",
    "print(results)"
   ]
  },
  {
   "cell_type": "markdown",
   "metadata": {},
   "source": [
    "It means that, from acc of test_data, we got accuracy of 87%, and, from acc of training model, we wanted the test accuracy tp get closer to 97%."
   ]
  },
  {
   "cell_type": "markdown",
   "metadata": {},
   "source": [
    "# Accuracy and loss over time"
   ]
  },
  {
   "cell_type": "markdown",
   "metadata": {},
   "source": [
    "loss and acc are of training data."
   ]
  },
  {
   "cell_type": "code",
   "execution_count": 26,
   "metadata": {},
   "outputs": [
    {
     "data": {
      "text/plain": [
       "dict_keys(['loss', 'acc', 'val_loss', 'val_acc'])"
      ]
     },
     "execution_count": 26,
     "metadata": {},
     "output_type": "execute_result"
    }
   ],
   "source": [
    "history_dict = history.history\n",
    "history_dict.keys()"
   ]
  },
  {
   "cell_type": "code",
   "execution_count": 34,
   "metadata": {},
   "outputs": [
    {
     "data": {
      "image/png": "[encoded data removed]",
      "text/plain": [
       "<Figure size 432x288 with 1 Axes>"
      ]
     },
     "metadata": {
      "needs_background": "light"
     },
     "output_type": "display_data"
    }
   ],
   "source": [
    "import matplotlib.pyplot as plt\n",
    "\n",
    "acc = history_dict['acc']\n",
    "val_acc = history_dict['val_acc']\n",
    "loss = history_dict['loss']\n",
    "val_loss = history_dict['val_loss']\n",
    "\n",
    "epochs = range(1, len(acc) + 1)\n",
    "\n",
    "# bo = blue dot\n",
    "plt.plot(epochs, loss, 'bo', label = 'Training loss')\n",
    "# b = solid blue line\n",
    "plt.plot(epochs, val_loss, 'b', label = 'Validation loss')\n",
    "plt.title('Training and validation loss')\n",
    "plt.xlabel('Epochs')\n",
    "plt.ylabel('Loss')\n",
    "plt.legend()\n",
    "\n",
    "plt.show()"
   ]
  },
  {
   "cell_type": "code",
   "execution_count": 36,
   "metadata": {},
   "outputs": [
    {
     "data": {
      "image/png": "[encoded data removed]",
      "text/plain": [
       "<Figure size 432x288 with 1 Axes>"
      ]
     },
     "metadata": {
      "needs_background": "light"
     },
     "output_type": "display_data"
    }
   ],
   "source": [
    "plt.clf() # CLear Figure\n",
    "\n",
    "plt.plot(epochs, acc, 'bo', label = 'Training acc')\n",
    "plt.plot(epochs, val_acc, 'b', label = 'Validation acc')\n",
    "plt.title('Training and validation accuracy')\n",
    "plt.xlabel('Epochs')\n",
    "plt.ylabel('Accuracy')\n",
    "plt.legend()\n",
    "\n",
    "plt.show()"
   ]
  },
  {
   "cell_type": "markdown",
   "metadata": {},
   "source": [
    "After around 30 epochs, we observe the validation acc is decreasing, meaning overfitting."
   ]
  }
 ],
 "metadata": {
  "kernelspec": {
   "display_name": "Python 3",
   "language": "python",
   "name": "python3"
  },
  "language_info": {
   "codemirror_mode": {
    "name": "ipython",
    "version": 3
   },
   "file_extension": ".py",
   "mimetype": "text/x-python",
   "name": "python",
   "nbconvert_exporter": "python",
   "pygments_lexer": "ipython3",
   "version": "3.7.1"
  }
 },
 "nbformat": 4,
 "nbformat_minor": 2
}
