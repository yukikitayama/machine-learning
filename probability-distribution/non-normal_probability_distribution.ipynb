{
 "cells": [
  {
   "cell_type": "markdown",
   "id": "b6eef76d",
   "metadata": {},
   "source": [
    "# Non-normal Probability Distribution\n",
    "\n",
    "## Explain how a probability distribution could be not normal\n",
    "\n",
    "One example that the normal distribution doesn't fit is time to failure like lifespan of machinery. The time to failure tends to cluster around the mean, but slowly decay after the mean, so the distribution is skewed to the right, right longer tail. In this case, normal distribution isn't good, but **gamma distribution** is better.\n",
    "\n",
    "Another case is the data is discrete. For example the number of car crashes on a day cannot be modeled by normal distribution because it's not continuous variable. But we can use **Poisson distribution** instread."
   ]
  }
 ],
 "metadata": {
  "kernelspec": {
   "display_name": "env-machine-learning",
   "language": "python",
   "name": "env-machine-learning"
  },
  "language_info": {
   "codemirror_mode": {
    "name": "ipython",
    "version": 3
   },
   "file_extension": ".py",
   "mimetype": "text/x-python",
   "name": "python",
   "nbconvert_exporter": "python",
   "pygments_lexer": "ipython3",
   "version": "3.9.5"
  }
 },
 "nbformat": 4,
 "nbformat_minor": 5
}
