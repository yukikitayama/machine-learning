{
 "cells": [
  {
   "cell_type": "markdown",
   "id": "9c63b471",
   "metadata": {},
   "source": [
    "# Time on Facebook Distribution\n",
    "\n",
    "What do you think the distribution of time spent per day on Facebook looks like? What metrics would you use to describe that distribution?\n",
    "\n",
    "We assume that there are 2 types of people.\n",
    "\n",
    "- People who scroll quickly and don't spend too much time\n",
    "- People who spend a large amount of their social media time on Facebook\n",
    "\n",
    "We expect the distribution is bimodal. So mean and median are not that useful. If we discretize the time into bins, mode is useful to see the centers around the distributions.\n",
    "\n",
    "Because we expect the 2-peaks bimodal distribution, the spread should be large. Standard deviation is not that useful because the mean is not that useful.\n",
    "\n",
    "It's reasonable to expect that there is one distribution at the small values of the time for the people who scroll quickly and disappear, and there is another distribution at the high values of the time for the people who use Facebook for a long time. We also expect the distribution is skewed to the right, because there could be the outlier users who use Facebook for an extremely long time.\n",
    "\n",
    "Because there could be outliers, we can use **Grubbs's test** to detect outliers by assuming that the time spent per day on Facebook come form a normal distribution.\n",
    "\n",
    "The important elements to describe a distribution is center, spread, shape and outlier.\n",
    "\n",
    "## Resource\n",
    "\n",
    "- [Grubbs's test](https://en.wikipedia.org/wiki/Grubbs%27s_test)"
   ]
  }
 ],
 "metadata": {
  "kernelspec": {
   "display_name": "env-machine-learning",
   "language": "python",
   "name": "env-machine-learning"
  },
  "language_info": {
   "codemirror_mode": {
    "name": "ipython",
    "version": 3
   },
   "file_extension": ".py",
   "mimetype": "text/x-python",
   "name": "python",
   "nbconvert_exporter": "python",
   "pygments_lexer": "ipython3",
   "version": "3.9.5"
  }
 },
 "nbformat": 4,
 "nbformat_minor": 5
}
