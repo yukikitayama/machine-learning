{
 "cells": [
  {
   "cell_type": "markdown",
   "id": "79212a55",
   "metadata": {},
   "source": [
    "# Binomial Distribution"
   ]
  },
  {
   "cell_type": "markdown",
   "id": "e6258418",
   "metadata": {},
   "source": [
    "## Dependency"
   ]
  },
  {
   "cell_type": "code",
   "execution_count": 7,
   "id": "aa9d6d17",
   "metadata": {},
   "outputs": [],
   "source": [
    "import math"
   ]
  },
  {
   "cell_type": "markdown",
   "id": "9c2cce65",
   "metadata": {},
   "source": [
    "## Problem\n",
    "\n",
    "We flip a coin 10 times, and got heads 2 times, and tails 8 times. Is this coin a fair coint?\n",
    "\n",
    "Coin toss follows a binomial distribution. We can compute the probability of how many heads we get by the following formula. $k$ is the number of heads, $n$ is the number of total tosses, $p$ is the probability of getting a head.\n",
    "\n",
    "$$\n",
    "P(k) = \\binom{n}{k} p^k (1 - p)^{n - k}\n",
    "$$\n",
    "\n",
    "where\n",
    "\n",
    "$$\n",
    "\\binom{n}{k} = \\frac{n!}{k! (n - k)!}\n",
    "$$\n",
    "\n",
    "When a coin is fair, $p = 0.5$. We got 2 heads out of 10 times, so $n = 10$ and $k = 2$. The formula gives us,\n",
    "\n",
    "$$\n",
    "\\binom{10}{2} 0.5^2 (1 - 0.5)^8\n",
    "$$\n",
    "\n",
    "$\\binom{10}{2}$ is,\n",
    "\n",
    "$$\n",
    "\\binom{10}{2} = \n",
    "$$\n",
    "$$\n",
    "= \\frac{10!}{2!8!}\n",
    "$$\n",
    "$$\n",
    "= \\frac{10 \\times 9}{2}\n",
    "$$\n",
    "$$\n",
    "= 45\n",
    "$$\n",
    "\n",
    "$0.5^2 = 0.25$ and $0.5^8$ is,"
   ]
  },
  {
   "cell_type": "code",
   "execution_count": 1,
   "id": "f71759ca",
   "metadata": {},
   "outputs": [
    {
     "data": {
      "text/plain": [
       "0.00390625"
      ]
     },
     "execution_count": 1,
     "metadata": {},
     "output_type": "execute_result"
    }
   ],
   "source": [
    "0.5**8"
   ]
  },
  {
   "cell_type": "markdown",
   "id": "d5139a0c",
   "metadata": {},
   "source": [
    "$\\binom{10}{2} 0.5^2 (1 - 0.5)^8$ is\n",
    "\n",
    "$$\n",
    "= 45 \\times 0.25 \\times 0.0039\n",
    "$$"
   ]
  },
  {
   "cell_type": "code",
   "execution_count": 3,
   "id": "bd961657",
   "metadata": {
    "scrolled": true
   },
   "outputs": [
    {
     "data": {
      "text/plain": [
       "0.0439453125"
      ]
     },
     "execution_count": 3,
     "metadata": {},
     "output_type": "execute_result"
    }
   ],
   "source": [
    "45 * 0.25 * 0.5**8"
   ]
  },
  {
   "cell_type": "markdown",
   "id": "bdcca50d",
   "metadata": {},
   "source": [
    "It's about 4%. If we think about an unfair coin like a head probability is 0.4, "
   ]
  },
  {
   "cell_type": "code",
   "execution_count": 19,
   "id": "4a3a6e54",
   "metadata": {},
   "outputs": [
    {
     "name": "stdout",
     "output_type": "stream",
     "text": [
      "12.09%\n"
     ]
    }
   ],
   "source": [
    "p = 0.4\n",
    "n = 10\n",
    "k = 2\n",
    "ans = math.comb(n, k) * p**k * (1 - p)**(n - k)\n",
    "print(f'{ans:.2%}')"
   ]
  },
  {
   "cell_type": "markdown",
   "id": "7a666f55",
   "metadata": {},
   "source": [
    "It's about 12%. With an unfair guy, we have more probability to get 2 heads out of 10 times. So it's likely that our coin is not fair."
   ]
  },
  {
   "cell_type": "markdown",
   "id": "2db1b2d7",
   "metadata": {},
   "source": [
    "## Converted sessions\n",
    "\n",
    "There are 2 user sessions that both convert with probability 0.5.\n",
    "\n",
    "What is the probability that both convert?\n",
    "\n",
    "We assume that the user sessions are independent. By the probability of independent events,\n",
    "\n",
    "$$\n",
    "P(A \\cap B) = P(A)P(B)\n",
    "$$\n",
    "$$\n",
    "= 0.5 \\times 0.5\n",
    "$$\n",
    "$$\n",
    "= 0.25\n",
    "$$\n",
    "\n",
    "The probability that both convert is 0.25.\n",
    "\n",
    "Given that there are $n$ sessions and each converts with probability $q$, what is the expected number of converted sessions?\n",
    "\n",
    "We see that there are $n$ Bernoulli random variables of convert or not convert with success probability $q$. It follows a Binomial distribution with parameter $n$ and $q$. The expected value of binomial distribution is,\n",
    "\n",
    "$$\n",
    "E[X] = nq\n",
    "$$\n",
    "\n",
    "Thus the expected number of converted sessions is $nq$."
   ]
  },
  {
   "cell_type": "markdown",
   "id": "6d809cb6",
   "metadata": {},
   "source": [
    "## Ride coupon\n",
    "\n",
    "Ride sharing app has probability $p$ of dispensing a \\\\$5 coupon to a rider. The app has $n$ riders. How much should we budget for the coupon initiative?\n",
    "\n",
    "Dispensing a coupon or not follows a binomial distribution with success probability $p$ and number of trials $n$. The expected value is $np$. This expected value is multiplied by 5 because we spend \\\\$5 every time dispensing a coupon. But we should have buffer for safety, so that we plan to add one standard diviation. The variance of a binomial distribution is $np(1 - p)$. By spending \\\\$5 every time, the standard diviation is also multiplied by 5. Thus our budget should be,\n",
    "\n",
    "$$\n",
    "5 \\times E[X] + 5 \\times \\sqrt{\\text{Var}[X]}\n",
    "$$\n",
    "$$\n",
    "= 5np + 5\\sqrt{np(1 - p)}\n",
    "$$\n",
    "$$\n",
    "= 5( np + \\sqrt{np(1 - p)})\n",
    "$$\n",
    "\n",
    "A driver using the app picks up 2 riders. What is the probability of both riders getting the coupon?\n",
    "\n",
    "Let A and B denote the 2 riders. We assume 2 riders are independent, and each has $p$ probability of getting a coupon, so\n",
    "\n",
    "$$\n",
    "P(A \\cap B)\n",
    "$$\n",
    "$$\n",
    "= P(A) \\times P(B)\n",
    "$$\n",
    "$$\n",
    "= p \\times p\n",
    "$$\n",
    "$$\n",
    "= p^2\n",
    "$$\n",
    "\n",
    "What is the probability that only one of the 2 riders will get the coupon?\n",
    "\n",
    "The probability of not getting a coupon is $(1 - p)$. The required probability is that A gets a coupon but B doesn't or A doesn't but B gets a coupon, so\n",
    "\n",
    "$$\n",
    "p (1 - p) + (1 - p) p\n",
    "$$\n",
    "$$\n",
    "2p(1- p)\n",
    "$$"
   ]
  },
  {
   "cell_type": "markdown",
   "id": "e2e65657",
   "metadata": {},
   "source": [
    "## Resource\n",
    "\n",
    "- [Checking whether a coin is fair](https://en.wikipedia.org/wiki/Checking_whether_a_coin_is_fair)"
   ]
  }
 ],
 "metadata": {
  "kernelspec": {
   "display_name": "env-machine-learning",
   "language": "python",
   "name": "env-machine-learning"
  },
  "language_info": {
   "codemirror_mode": {
    "name": "ipython",
    "version": 3
   },
   "file_extension": ".py",
   "mimetype": "text/x-python",
   "name": "python",
   "nbconvert_exporter": "python",
   "pygments_lexer": "ipython3",
   "version": "3.9.5"
  }
 },
 "nbformat": 4,
 "nbformat_minor": 5
}
