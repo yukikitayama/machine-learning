{
 "cells": [
  {
   "cell_type": "markdown",
   "id": "e29e4c5f",
   "metadata": {},
   "source": [
    "# Survey Response Randomness\n",
    "\n",
    "We have a result of survey that was sent in the multiple choice questions format. How can we test if the survey was filled at random by some people and by truthfully by other people?\n",
    "\n",
    "We can check the distribution of survey completion time. If the distribution has 2 peaks bimodal, we can guess that there would be 2 types of users, random or truthful. The peak with impossibly fast completion time could be random answers. If the distribution is close to uniform, the data around mean or median are likely to be truthful. If the uniform distribution has a long tail to the left (small completion time), there would be outliers which are likely to be random answers.\n",
    "\n",
    "We can also check the distribution of answers in each question. If one survey result has all first selection, it's likely to be random answer."
   ]
  }
 ],
 "metadata": {
  "kernelspec": {
   "display_name": "env-machine-learning",
   "language": "python",
   "name": "env-machine-learning"
  },
  "language_info": {
   "codemirror_mode": {
    "name": "ipython",
    "version": 3
   },
   "file_extension": ".py",
   "mimetype": "text/x-python",
   "name": "python",
   "nbconvert_exporter": "python",
   "pygments_lexer": "ipython3",
   "version": "3.9.5"
  }
 },
 "nbformat": 4,
 "nbformat_minor": 5
}
