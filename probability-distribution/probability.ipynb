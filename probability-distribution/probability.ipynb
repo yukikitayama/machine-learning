{
 "cells": [
  {
   "cell_type": "markdown",
   "id": "56413be0",
   "metadata": {},
   "source": [
    "# Probability\n",
    "\n",
    "## Expected value\n",
    "\n",
    "Suppose we have 2 six-sided dice, and play the following game. If the sum of the 2 dice values is equal to 7, we get $21. But we have to pay $10 every time we roll dices to do this game. Is this game worth playing?\n",
    "\n",
    "We have 6 ways to get 7, {(1, 6), (2, 5), (3, 4), (4, 3), (5, 2), (6, 1)}. And we have 36 ways for all the patterns of 2 dice combination by 6 times 6 = 36. So the probability to get \\\\$21 is $\\frac{6}{36} = \\frac{1}{6}$, but to play a game, we need to pay \\\\$10, so the actual profit is \\\\$11 by $21 - 10 = 11$. In the other situations we get \\\\$0 with the probability of $1 - \\frac{6}{36} = \\frac{30}{36} = \\frac{5}{6}$. The expected value of this game is\n",
    "\n",
    "$$\n",
    "E[X] = \\sum x P(X = x)\n",
    "$$\n",
    "$$\n",
    "= 11 \\times \\frac{1}{6} + (-10) \\times \\frac{5}{6}\n",
    "$$"
   ]
  },
  {
   "cell_type": "code",
   "execution_count": 1,
   "id": "49efd845",
   "metadata": {},
   "outputs": [
    {
     "data": {
      "text/plain": [
       "-6.500000000000001"
      ]
     },
     "execution_count": 1,
     "metadata": {},
     "output_type": "execute_result"
    }
   ],
   "source": [
    "11 * (1 / 6) + (-10) * (5 / 6)"
   ]
  },
  {
   "cell_type": "markdown",
   "id": "fa76e2e4",
   "metadata": {},
   "source": [
    "$$\n",
    "= -6.5\n",
    "$$\n",
    "\n",
    "Since the expected value is negative, on average we lose money from playing this game, so this game is not worth playing."
   ]
  },
  {
   "cell_type": "markdown",
   "id": "cbf1981a",
   "metadata": {},
   "source": [
    "## Ad raters\n",
    "\n",
    "We will ask raters to rate ads. But there are 2 types of raters. 80% of raters rate an ad as good with 60% chance and bad with 40% chance. 20% of raters rate an ad as good with 100%.\n",
    "\n",
    "1. If we have 100 raters each rating one ad randomly and independently, what's the expected number of good ads?\n",
    "\n",
    "For each rater, we have the following probability of rating an ad good.\n",
    "\n",
    "$$\n",
    "E[X] = \\sum x P(X = x)\n",
    "$$\n",
    "$$\n",
    "= 80 \\% \\times 60 \\% + 20 \\% \\times 100 \\%\n",
    "$$"
   ]
  },
  {
   "cell_type": "code",
   "execution_count": 1,
   "id": "83b0b55a",
   "metadata": {},
   "outputs": [
    {
     "data": {
      "text/plain": [
       "0.6799999999999999"
      ]
     },
     "execution_count": 1,
     "metadata": {},
     "output_type": "execute_result"
    }
   ],
   "source": [
    "0.8 * 0.6 + 0.2 * 1"
   ]
  },
  {
   "cell_type": "markdown",
   "id": "684c1af3",
   "metadata": {},
   "source": [
    "We are gonna have **binomial distribution** because we will have number of successes (here rating an ad good) in a sequence of 100 independent experiments ($n = 100$), each asking a yes-no question (here good or bad ad) with success probability of 68% ($p = 0.68$). Expected value of a binomial distribution is;\n",
    "\n",
    "$$\n",
    "E[X] = np\n",
    "$$\n",
    "$$\n",
    "= 100 \\times 0.68\n",
    "$$\n",
    "$$\n",
    "= 68\n",
    "$$\n",
    "\n",
    "2. If we have 1 rater rating 100 ads, what's the expected number of good ads?\n",
    "\n",
    "We don't have any information of the rater, so we need to use the probability of rating an add good 68%. We treat 100 ratings independently, so the math is still;\n",
    "\n",
    "$$\n",
    "E[X] = np\n",
    "$$\n",
    "$$\n",
    "= 100 \\times 0.68\n",
    "$$\n",
    "$$\n",
    "= 68\n",
    "$$\n",
    "\n",
    "3. If we have one ad rated as bad, what's the probability that the rater was 2nd type of rater which rates an add always good?\n",
    "\n",
    "We wanna know\n",
    "\n",
    "$$\n",
    "P(\\text{2nd rater} | \\text{Bad})\n",
    "$$\n",
    "\n",
    "By using Bayes' theorem\n",
    "\n",
    "$$\n",
    "P(A | B) = \\frac{P(B | A)P(A)}{P(B)}\n",
    "$$\n",
    "$$\n",
    "P(\\text{2nd rater} | \\text{Bad}) = \\frac{P(\\text{Bad} | \\text{2nd rater})P(\\text{2nd rater})}{P(\\text{Bad})}\n",
    "$$\n",
    "\n",
    "$P(\\text{Bad} | \\text{2nd rater})$ is 0 because 2nd rater will never rate an add bad. $P(\\text{2nd rater})$ is 20% because that's the given probability. $P(\\text{Bad})$ is $1 - 0.68$ because we only have two types of outcome and we computed the probability of an good ad 68%. Hence,\n",
    "\n",
    "$$\n",
    "= \\frac{0 \\times 0.2}{1 - 0.68}\n",
    "$$\n",
    "$$\n",
    "= 0\n",
    "$$"
   ]
  },
  {
   "cell_type": "markdown",
   "id": "059b5568",
   "metadata": {},
   "source": [
    "## Coin same side probability\n",
    "\n",
    "There are two coins; One fair and one unfair with the probability of having heads $\\frac{3}{4}$. We will select one coin at randome and flip it two times. What is the probability that both flips result in the same side?\n",
    "\n",
    "The same side will happen by head twice or tail twice. We will get the twice probability for each side and add them, because the OR probability is the addition of probabilities. So the probability of getting the same side twice from the unfair coin is,\n",
    "\n",
    "$$\n",
    "\\frac{3}{4} \\times \\frac{3}{4} + \\frac{1}{4} \\times \\frac{1}{4} = \\frac{10}{16}\n",
    "$$\n",
    "\n",
    "For the fair coint,\n",
    "\n",
    "$$\n",
    "\\frac{1}{2} \\times \\frac{1}{2} + \\frac{1}{2} \\times \\frac{1}{2} = \\frac{2}{4}\n",
    "$$\n",
    "\n",
    "Finally, we get the total probability by a random selection of either coin. We are equally likely to pick either coin so divide it by $frac{1}{2}$. Hence the probability that both flips result in the same side is,\n",
    "\n",
    "$$\n",
    "\\frac{\\frac{10}{16} + \\frac{2}{4}}{2}\n",
    "$$\n",
    "$$\n",
    "= \\frac{\\frac{18}{16}}{2}\n",
    "$$\n",
    "$$\n",
    "= \\frac{9}{16}\n",
    "$$"
   ]
  },
  {
   "cell_type": "markdown",
   "id": "ee08c5a3",
   "metadata": {},
   "source": [
    "## Playing card deck\n",
    "\n",
    "We have a deck of 500 cards from 1 to 500. Shuffle randomly and pick 3 cards, one at a time, don't put it back to the deck in each draw. What's the probability of each subsequent card being larger than the previous drawn card?\n",
    "\n",
    "Don't be distracted by the size of the population. The number 500 doesn't matter. All the cards are unique, so always we have a lowest card, a middle card and a high card. When we have 3 cards, we have 6 ways to order the cards and only one is a valid sequence. For example, if we have 1, 2, 3,\n",
    "\n",
    "(1, 2, 3)\n",
    "\n",
    "(1, 3, 2)\n",
    "\n",
    "(2, 1, 3)\n",
    "\n",
    "(2, 3, 1)\n",
    "\n",
    "(3, 1, 2)\n",
    "\n",
    "(3, 2, 1)\n",
    "\n",
    "In math, we have the following permutation of ordering 3 cards. $3! = 3 \\times 2 \\times 1 = 6$. And only one is valid, so $\\frac{1}{3!} = \\frac{1}{6}$. Probability is $\\frac{1}{6}$"
   ]
  },
  {
   "cell_type": "markdown",
   "id": "a9f2a045",
   "metadata": {},
   "source": [
    "## Mutated offspring\n",
    "\n",
    "An animal appears normal if it has 2 normal genes or 1 normal AND 1 mutated gene. If it has 2 mutated genes, it appears mutated. Any given animal has a 50% chance to contribute either of its genes to its offspring. Animals A and B are the parents of C and D. C and D are the parents of E. A and B both have 1 normal and 1 mutated gene. We know C and D both appear normal (meaning it should have at least 1 normal gene.) What is the probability that D has 1 normal and 1 mutated gene given that E appears normal?\n",
    "\n",
    "Denote $n$ is normal gene, $m$ is mutated gene, and $*$ is either of them because we don't know. For example, $X_{nm}$ indicates that $X$ has 1 normal gene and 1 mutated gene. $X_{n*}$ indicates that $x$ appears normal because it has at least 1 normal gene.\n",
    "\n",
    "The probability that D has 1 normal and 1 mutated gene given that E appears normal (and we are also given that C and D both appear normal) can be expressed as following.\n",
    "\n",
    "$$\n",
    "P(D_{nm} | C_{n*} \\cap D_{n*} \\cap E_{n*})\n",
    "$$\n",
    "\n",
    "By conditional probability $P(A | B) = \\frac{P(A \\cap B)}{P(B)}$\n",
    "\n",
    "$$\n",
    "P(D_{nm} | C_{n*} \\cap D_{n*} \\cap E_{n*}) = \\frac{P(D_{nm} \\cap C_{n*} \\cap D_{n*} \\cap E_{n*})}{P(C_{n*} \\cap D_{n*} \\cap E_{n*})}\n",
    "$$\n",
    "\n",
    "By rewriting the conditional probability as $P(A \\cap B) = P(A | B)P(B)$\n",
    "\n",
    "$$\n",
    "P(C_{n*} \\cap D_{n*} \\cap E_{n*}) = P(E_{n*} | C_{n*} \\cap D_{n*})P(C_{n*} \\cap D_{n*})\n",
    "$$\n",
    "\n",
    "Because C and D are independent $P(C_{n*} \\cap D_{n*}) = P(C_{n*})P(D_{n*})$\n",
    "\n",
    "$$\n",
    "P(C_{n*} \\cap D_{n*} \\cap E_{n*}) = P(E_{n*} | C_{n*} \\cap D_{n*})P(C_{n*})P(D_{n*})\n",
    "$$\n",
    "\n",
    "\n",
    "Because we already assume D has 1 normal and 1 mutated gene in $P(D_{nm} \\cap C_{n*} \\cap D_{n*} \\cap E_{n*})$,\n",
    "\n",
    "$$\n",
    "P(D_{nm} \\cap C_{n*} \\cap D_{n*} \\cap E_{n*}) = P(D_{nm} \\cap C_{n*} \\cap E_{n*})\n",
    "$$\n",
    "\n",
    "By change it to conditional probability and C and D are independent,\n",
    "\n",
    "$$\n",
    "P(D_{nm} \\cap C_{n*} \\cap E_{n*}) = P(E_{n*} | C_{n*} \\cap D_{nm}) P(C_{n*} \\cap D_{nm})\n",
    "$$\n",
    "$$\n",
    "= P(E_{n*} | C_{n*} \\cap D_{nm}) P(C_{n*}) P(D_{nm})\n",
    "$$\n",
    "\n",
    "Going back to the original equation,\n",
    "\n",
    "$$\n",
    "P(D_{nm} | C_{n*} \\cap D_{n*} \\cap E_{n*}) = \\frac{P(E_{n*} | C_{n*} \\cap D_{nm}) P(C_{n*}) P(D_{nm})}{P(E_{n*} | C_{n*} \\cap D_{n*})P(C_{n*})P(D_{n*})}\n",
    "$$\n",
    "\n",
    "### ABOVE NOT SOLVED YET!!!"
   ]
  },
  {
   "cell_type": "markdown",
   "id": "6b17ad1f",
   "metadata": {},
   "source": [
    "## First to Six\n",
    "\n",
    "Person A and B take turns in rolling a fair six-sided die. Whoever rolls a 6 first wins the game. A starts first. What's the probability that A wins?\n",
    "\n",
    "Let A and B denote that, A or B wins the game first, C denote the first winning game event. So $P(A)$ is the probability that A wins first. $P(B)$ is the probability that B wins first. $P(C)$ is the probability that the first winning game event occurs. \n",
    "\n",
    "At the beginning of the game, because A starts first,\n",
    "\n",
    "$$\n",
    "P(C) = P(A)\n",
    "$$\n",
    "\n",
    "Suppose A didn't get 6 and didn't win, now B can roll a die, so we can compute $P(B)$ by multiplying the probability that A didn't get 6 with the probability that I was able to win\n",
    "\n",
    "$$\n",
    "P(B) = P(C) \\times P(\\text{A didn't get 6})\n",
    "$$\n",
    "$$\n",
    "= P(C) \\times \\frac{5}{6}\n",
    "$$\n",
    "$$\n",
    "= P(A) \\times \\frac{5}{6}\n",
    "$$\n",
    "\n",
    "Because someone must win,\n",
    "\n",
    "$$\n",
    "P(A) + P(B) = 1\n",
    "$$\n",
    "\n",
    "With 2 equations and 2 unknow variables, make a system of equations,\n",
    "\n",
    "$$\n",
    "\\begin{equation}\n",
    "  \\begin{cases}\n",
    "    P(B) = P(A) \\times \\frac{5}{6}\\\\\n",
    "    P(A) + P(B) = 1\n",
    "  \\end{cases}\n",
    "\\end{equation}\n",
    "$$\n",
    "\n",
    "$$\n",
    "P(A) = 1 - P(B)\n",
    "$$\n",
    "$$\n",
    "= 1 - P(A) \\times \\frac{5}{6}\n",
    "$$\n",
    "$$\n",
    "\\frac{11}{6} P(A) = 1\n",
    "$$\n",
    "$$\n",
    "P(A) = \\frac{6}{11}\n",
    "$$\n",
    "\n",
    "The probability that A wins is $\\frac{6}{11}$"
   ]
  },
  {
   "cell_type": "markdown",
   "id": "c7f3b368",
   "metadata": {},
   "source": [
    "## Finding item probability\n",
    "\n",
    "The probability that item X is available at warehouse A is 0.6, and the probability that item X is available at warehouse B is 0.8. A city has access to those 2 warehouses, and we are the customer in this city. What is the probability that the item X is available?\n",
    "\n",
    "$$\n",
    "P(A) = 0.6\n",
    "$$\n",
    "$$\n",
    "P(B) = 0.8\n",
    "$$\n",
    "\n",
    "The probability that the item X is available is,\n",
    "\n",
    "$$\n",
    "P(A \\cup B)\n",
    "$$\n",
    "\n",
    "The union probability can be computed by\n",
    "\n",
    "$$\n",
    "P(A \\cup B) = P(A) + P(B) - P(A \\cap B)\n",
    "$$\n",
    "\n",
    "By assuming that A and B are independent,\n",
    "\n",
    "$$\n",
    "P(A \\cap B) = P(A) \\times P(B)\n",
    "$$\n",
    "$$\n",
    "= 0.6 \\times 0.8\n",
    "$$\n",
    "$$\n",
    "= 0.48\n",
    "$$\n",
    "\n",
    "So the union probability is,\n",
    "\n",
    "$$P(A \\cup B) = P(A) + P(B) - P(A \\cap B)\n",
    "$$\n",
    "$$\n",
    "= 0.6 + 0.8 - 0.48\n",
    "$$"
   ]
  },
  {
   "cell_type": "code",
   "execution_count": 1,
   "id": "76c4f69b",
   "metadata": {},
   "outputs": [
    {
     "data": {
      "text/plain": [
       "0.9199999999999999"
      ]
     },
     "execution_count": 1,
     "metadata": {},
     "output_type": "execute_result"
    }
   ],
   "source": [
    "0.6 + 0.8 - 0.6 * 0.8"
   ]
  },
  {
   "cell_type": "markdown",
   "id": "50d1880c",
   "metadata": {},
   "source": [
    "the probability that the item X is available is 92%"
   ]
  },
  {
   "cell_type": "markdown",
   "id": "9f596e15",
   "metadata": {},
   "source": [
    "## Lazy raters (Conditional probability)\n",
    "\n",
    "We have raters for movies in Netflix. Out of all of the raters, 80% of the raters carefully rate movies and rate 60% of the movies as good and 40% as bad. The other 20% of the raters are lazy and rate 100% of the movies as good. Assuming all raters rate the same amount of movies, what is the probability that a movie is rated good?\n",
    "\n",
    "Let $G$ denote the event that a movie is rated as good. We wanna know $P(G)$. Let $C$ and $L$ denote the events that Careful raters rate and Lazy raters rate. Given the rater is careful, they rate 60% as good, so\n",
    "\n",
    "$$\n",
    "P(G | C) = 0.6\n",
    "$$\n",
    "\n",
    "Given the rater is lazy, they rate 100% as good, so\n",
    "\n",
    "$$\n",
    "P(G | L) = 1.0\n",
    "$$\n",
    "\n",
    "Because 80% of the raters are careful, and 20% of the raters are lazy,\n",
    "\n",
    "$$\n",
    "P(C) = 0.8\n",
    "$$\n",
    "$$\n",
    "P(L) = 0.2\n",
    "$$\n",
    "\n",
    "Thus,\n",
    "\n",
    "$$\n",
    "P(G) = P(C)P(G | C) + P(L)P(G | L)\n",
    "$$\n",
    "$$\n",
    "= 0.8 \\times 0.6 + 0.2 \\times 1.0\n",
    "$$"
   ]
  },
  {
   "cell_type": "code",
   "execution_count": 1,
   "id": "39dff610",
   "metadata": {},
   "outputs": [
    {
     "data": {
      "text/plain": [
       "0.6799999999999999"
      ]
     },
     "execution_count": 1,
     "metadata": {},
     "output_type": "execute_result"
    }
   ],
   "source": [
    "0.8 * 0.6 + 0.2 * 1.0"
   ]
  },
  {
   "cell_type": "markdown",
   "id": "45551339",
   "metadata": {},
   "source": [
    "Thus the probability that a movie is rated good is 0.68."
   ]
  },
  {
   "cell_type": "markdown",
   "id": "b6569f29",
   "metadata": {},
   "source": [
    "## 3 zebras\n",
    "\n",
    "Three zebras are chilling in the desert. Suddenly a lion attacks. Each zebra is sitting on a corner of an equally length triangle. Each zebra randomly picks a direction and only runs along the outline of the triangle to either edge of the triangle. What is the probability that none of the zebras collide?\n",
    "\n",
    "2 possibilities, either all zebras run clockwise or counter-clockwise. Each zebra has 2 choices either clockwise or counter-clockwise, so the probability of going clockwise is $\\frac{1}{2}$, and there are 3 zebras, so we multiply 3 times. If all zebras go to clockwise, the probability is,\n",
    "\n",
    "$$\n",
    "\\frac{1}{2} \\times \\frac{1}{2} \\times \\frac{1}{2}\n",
    "$$\n",
    "$$\n",
    "= \\frac{1}{8}\n",
    "$$\n",
    "\n",
    "Likewise, the probability of all zebras run counter-clockwise is,\n",
    "\n",
    "$$\n",
    "\\frac{1}{2} \\times \\frac{1}{2} \\times \\frac{1}{2}\n",
    "$$\n",
    "$$\n",
    "= \\frac{1}{8}\n",
    "$$\n",
    "\n",
    "By summing up the probabilities, the probability that none of the zebras collide is,\n",
    "\n",
    "$$\n",
    "\\frac{1}{8} + \\frac{1}{8}\n",
    "$$\n",
    "$$\n",
    "= \\frac{1}{4}\n",
    "$$"
   ]
  },
  {
   "cell_type": "markdown",
   "id": "e2893b4c",
   "metadata": {},
   "source": [
    "## N dice\n",
    "\n",
    "Let’s say you’re playing a dice game. You have 2 dice.\n",
    "\n",
    "What’s the probability of rolling at least one 3?\n",
    "\n",
    "It's the at least probability question, so we will compute the probability of not getting 3 at all. Getting a 3 is $\\frac{1}{6}$ and not getting 3 is $1 - \\frac{5}{6}$. Because we have 2 dice,\n",
    "\n",
    "$$\n",
    "1 - \\frac{5}{6} \\times \\frac{5}{6}\n",
    "$$"
   ]
  },
  {
   "cell_type": "code",
   "execution_count": 1,
   "id": "6e71d0fb",
   "metadata": {},
   "outputs": [
    {
     "data": {
      "text/plain": [
       "0.30555555555555547"
      ]
     },
     "execution_count": 1,
     "metadata": {},
     "output_type": "execute_result"
    }
   ],
   "source": [
    "1 - (5 / 6) * (5 / 6) "
   ]
  },
  {
   "cell_type": "markdown",
   "id": "062e9f03",
   "metadata": {},
   "source": [
    "What’s the probability of rolling at least one 3 given NN dice?\n",
    "\n",
    "Because the probabilities are multiples,\n",
    "\n",
    "$$\n",
    "1 - (\\frac{5}{6})^N\n",
    "$$"
   ]
  },
  {
   "cell_type": "markdown",
   "id": "eaf234bd",
   "metadata": {},
   "source": [
    "## Reference\n",
    "\n",
    "- [Bayes' theorem](https://en.wikipedia.org/wiki/Bayes%27_theorem)"
   ]
  }
 ],
 "metadata": {
  "kernelspec": {
   "display_name": "env-machine-learning",
   "language": "python",
   "name": "env-machine-learning"
  },
  "language_info": {
   "codemirror_mode": {
    "name": "ipython",
    "version": 3
   },
   "file_extension": ".py",
   "mimetype": "text/x-python",
   "name": "python",
   "nbconvert_exporter": "python",
   "pygments_lexer": "ipython3",
   "version": "3.9.5"
  }
 },
 "nbformat": 4,
 "nbformat_minor": 5
}
