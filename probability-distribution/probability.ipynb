{
 "cells": [
  {
   "cell_type": "markdown",
   "id": "56413be0",
   "metadata": {},
   "source": [
    "# Probability\n",
    "\n",
    "## Expected value\n",
    "\n",
    "Suppose we have 2 six-sided dice, and play the following game. If the sum of the 2 dice values is equal to 7, we get $21. But we have to pay $10 every time we roll dices to do this game. Is this game worth playing?\n",
    "\n",
    "We have 6 ways to get 7, {(1, 6), (2, 5), (3, 4), (4, 3), (5, 2), (6, 1)}. And we have 36 ways for all the patterns of 2 dice combination by 6 times 6 = 36. So the probability to get \\\\$21 is $\\frac{6}{36} = \\frac{1}{6}$, but to play a game, we need to pay \\\\$10, so the actual profit is \\\\$11 by $21 - 10 = 11$. In the other situations we get \\\\$0 with the probability of $1 - \\frac{6}{36} = \\frac{30}{36} = \\frac{5}{6}$. The expected value of this game is\n",
    "\n",
    "$$\n",
    "E[X] = \\sum x P(X = x)\n",
    "$$\n",
    "$$\n",
    "= 11 \\times \\frac{1}{6} + (-10) \\times \\frac{5}{6}\n",
    "$$"
   ]
  },
  {
   "cell_type": "code",
   "execution_count": 1,
   "id": "49efd845",
   "metadata": {},
   "outputs": [
    {
     "data": {
      "text/plain": [
       "-6.500000000000001"
      ]
     },
     "execution_count": 1,
     "metadata": {},
     "output_type": "execute_result"
    }
   ],
   "source": [
    "11 * (1 / 6) + (-10) * (5 / 6)"
   ]
  },
  {
   "cell_type": "markdown",
   "id": "fa76e2e4",
   "metadata": {},
   "source": [
    "$$\n",
    "= -6.5\n",
    "$$\n",
    "\n",
    "Since the expected value is negative, on average we lose money from playing this game, so this game is not worth playing."
   ]
  },
  {
   "cell_type": "markdown",
   "id": "cbf1981a",
   "metadata": {},
   "source": [
    "## Ad raters\n",
    "\n",
    "We will ask raters to rate ads. But there are 2 types of raters. 80% of raters rate an ad as good with 60% chance and bad with 40% chance. 20% of raters rate an ad as good with 100%.\n",
    "\n",
    "1. If we have 100 raters each rating one ad randomly and independently, what's the expected number of good ads?\n",
    "\n",
    "For each rater, we have the following probability of rating an ad good.\n",
    "\n",
    "$$\n",
    "E[X] = \\sum x P(X = x)\n",
    "$$\n",
    "$$\n",
    "= 80 \\% \\times 60 \\% + 20 \\% \\times 100 \\%\n",
    "$$"
   ]
  },
  {
   "cell_type": "code",
   "execution_count": 1,
   "id": "83b0b55a",
   "metadata": {},
   "outputs": [
    {
     "data": {
      "text/plain": [
       "0.6799999999999999"
      ]
     },
     "execution_count": 1,
     "metadata": {},
     "output_type": "execute_result"
    }
   ],
   "source": [
    "0.8 * 0.6 + 0.2 * 1"
   ]
  },
  {
   "cell_type": "markdown",
   "id": "684c1af3",
   "metadata": {},
   "source": [
    "We are gonna have **binomial distribution** because we will have number of successes (here rating an ad good) in a sequence of 100 independent experiments ($n = 100$), each asking a yes-no question (here good or bad ad) with success probability of 68% ($p = 0.68$). Expected value of a binomial distribution is;\n",
    "\n",
    "$$\n",
    "E[X] = np\n",
    "$$\n",
    "$$\n",
    "= 100 \\times 0.68\n",
    "$$\n",
    "$$\n",
    "= 68\n",
    "$$\n",
    "\n",
    "2. If we have 1 rater rating 100 ads, what's the expected number of good ads?\n",
    "\n",
    "We don't have any information of the rater, so we need to use the probability of rating an add good 68%. We treat 100 ratings independently, so the math is still;\n",
    "\n",
    "$$\n",
    "E[X] = np\n",
    "$$\n",
    "$$\n",
    "= 100 \\times 0.68\n",
    "$$\n",
    "$$\n",
    "= 68\n",
    "$$\n",
    "\n",
    "3. If we have one ad rated as bad, what's the probability that the rater was 2nd type of rater which rates an add always good?\n",
    "\n",
    "We wanna know\n",
    "\n",
    "$$\n",
    "P(\\text{2nd rater} | \\text{Bad})\n",
    "$$\n",
    "\n",
    "By using Bayes' theorem\n",
    "\n",
    "$$\n",
    "P(A | B) = \\frac{P(B | A)P(A)}{P(B)}\n",
    "$$\n",
    "$$\n",
    "P(\\text{2nd rater} | \\text{Bad}) = \\frac{P(\\text{Bad} | \\text{2nd rater})P(\\text{2nd rater})}{P(\\text{Bad})}\n",
    "$$\n",
    "\n",
    "$P(\\text{Bad} | \\text{2nd rater})$ is 0 because 2nd rater will never rate an add bad. $P(\\text{2nd rater})$ is 20% because that's the given probability. $P(\\text{Bad})$ is $1 - 0.68$ because we only have two types of outcome and we computed the probability of an good ad 68%. Hence,\n",
    "\n",
    "$$\n",
    "= \\frac{0 \\times 0.2}{1 - 0.68}\n",
    "$$\n",
    "$$\n",
    "= 0\n",
    "$$"
   ]
  },
  {
   "cell_type": "markdown",
   "id": "059b5568",
   "metadata": {},
   "source": [
    "## Coin same side probability\n",
    "\n",
    "There are two coins; One fair and one unfair with the probability of having heads $\\frac{3}{4}$. We will select one coin at randome and flip it two times. What is the probability that both flips result in the same side?\n",
    "\n",
    "The same side will happen by head twice or tail twice. We will get the twice probability for each side and add them, because the OR probability is the addition of probabilities. So the probability of getting the same side twice from the unfair coin is,\n",
    "\n",
    "$$\n",
    "\\frac{3}{4} \\times \\frac{3}{4} + \\frac{1}{4} \\times \\frac{1}{4} = \\frac{10}{16}\n",
    "$$\n",
    "\n",
    "For the fair coint,\n",
    "\n",
    "$$\n",
    "\\frac{1}{2} \\times \\frac{1}{2} + \\frac{1}{2} \\times \\frac{1}{2} = \\frac{2}{4}\n",
    "$$\n",
    "\n",
    "Finally, we get the total probability by a random selection of either coin. We are equally likely to pick either coin so divide it by $frac{1}{2}$. Hence the probability that both flips result in the same side is,\n",
    "\n",
    "$$\n",
    "\\frac{\\frac{10}{16} + \\frac{2}{4}}{2}\n",
    "$$\n",
    "$$\n",
    "= \\frac{\\frac{18}{16}}{2}\n",
    "$$\n",
    "$$\n",
    "= \\frac{9}{16}\n",
    "$$"
   ]
  },
  {
   "cell_type": "markdown",
   "id": "ee08c5a3",
   "metadata": {},
   "source": [
    "## Playing card deck\n",
    "\n",
    "We have a deck of 500 cards from 1 to 500. Shuffle randomly and pick 3 cards, one at a time, don't put it back to the deck in each draw. What's the probability of each subsequent card being larger than the previous drawn card?\n",
    "\n",
    "Don't be distracted by the size of the population. The number 500 doesn't matter. All the cards are unique, so always we have a lowest card, a middle card and a high card. When we have 3 cards, we have 6 ways to order the cards and only one is a valid sequence. For example, if we have 1, 2, 3,\n",
    "\n",
    "(1, 2, 3)\n",
    "\n",
    "(1, 3, 2)\n",
    "\n",
    "(2, 1, 3)\n",
    "\n",
    "(2, 3, 1)\n",
    "\n",
    "(3, 1, 2)\n",
    "\n",
    "(3, 2, 1)\n",
    "\n",
    "In math, we have the following permutation of ordering 3 cards. $3! = 3 \\times 2 \\times 1 = 6$. And only one is valid, so $\\frac{1}{3!} = \\frac{1}{6}$. Probability is $\\frac{1}{6}$"
   ]
  },
  {
   "cell_type": "markdown",
   "id": "eaf234bd",
   "metadata": {},
   "source": [
    "## Reference\n",
    "\n",
    "- [Bayes' theorem](https://en.wikipedia.org/wiki/Bayes%27_theorem)"
   ]
  }
 ],
 "metadata": {
  "kernelspec": {
   "display_name": "env-machine-learning",
   "language": "python",
   "name": "env-machine-learning"
  },
  "language_info": {
   "codemirror_mode": {
    "name": "ipython",
    "version": 3
   },
   "file_extension": ".py",
   "mimetype": "text/x-python",
   "name": "python",
   "nbconvert_exporter": "python",
   "pygments_lexer": "ipython3",
   "version": "3.9.5"
  }
 },
 "nbformat": 4,
 "nbformat_minor": 5
}
