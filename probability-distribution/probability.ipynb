{
 "cells": [
  {
   "cell_type": "markdown",
   "id": "56413be0",
   "metadata": {},
   "source": [
    "# Probability\n",
    "\n",
    "## Expected value\n",
    "\n",
    "Suppose we have 2 six-sided dice, and play the following game. If the sum of the 2 dice values is equal to 7, we get $21. But we have to pay $10 every time we roll dices to do this game. Is this game worth playing?\n",
    "\n",
    "We have 6 ways to get 7, {(1, 6), (2, 5), (3, 4), (4, 3), (5, 2), (6, 1)}. And we have 36 ways for all the patterns of 2 dice combination by 6 times 6 = 36. So the probability to get \\\\$21 is $\\frac{6}{36} = \\frac{1}{6}$, but to play a game, we need to pay \\\\$10, so the actual profit is \\\\$11 by $21 - 10 = 11$. In the other situations we get \\\\$0 with the probability of $1 - \\frac{6}{36} = \\frac{30}{36} = \\frac{5}{6}$. The expected value of this game is\n",
    "\n",
    "$$\n",
    "E[X] = \\sum x P(X = x)\n",
    "$$\n",
    "$$\n",
    "= 11 \\times \\frac{1}{6} + (-10) \\times \\frac{5}{6}\n",
    "$$"
   ]
  },
  {
   "cell_type": "code",
   "execution_count": 1,
   "id": "49efd845",
   "metadata": {},
   "outputs": [
    {
     "data": {
      "text/plain": [
       "-6.500000000000001"
      ]
     },
     "execution_count": 1,
     "metadata": {},
     "output_type": "execute_result"
    }
   ],
   "source": [
    "11 * (1 / 6) + (-10) * (5 / 6)"
   ]
  },
  {
   "cell_type": "markdown",
   "id": "fa76e2e4",
   "metadata": {},
   "source": [
    "$$\n",
    "= -6.5\n",
    "$$\n",
    "\n",
    "Since the expected value is negative, on average we lose money from playing this game, so this game is not worth playing."
   ]
  }
 ],
 "metadata": {
  "kernelspec": {
   "display_name": "env-machine-learning",
   "language": "python",
   "name": "env-machine-learning"
  },
  "language_info": {
   "codemirror_mode": {
    "name": "ipython",
    "version": 3
   },
   "file_extension": ".py",
   "mimetype": "text/x-python",
   "name": "python",
   "nbconvert_exporter": "python",
   "pygments_lexer": "ipython3",
   "version": "3.9.5"
  }
 },
 "nbformat": 4,
 "nbformat_minor": 5
}
