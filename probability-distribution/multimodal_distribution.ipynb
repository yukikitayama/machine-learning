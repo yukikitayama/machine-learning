{
 "cells": [
  {
   "cell_type": "markdown",
   "id": "dc5eccaf",
   "metadata": {},
   "source": [
    "# Multimodal distribution\n",
    "\n",
    "**Multimodal distribution** is a probability distribution with more than one mode. Categorical, continuous, and discrete data can all form multimodal distributions."
   ]
  },
  {
   "cell_type": "markdown",
   "id": "047610f0",
   "metadata": {},
   "source": [
    "Function for sampling from a multimodal distribution. Given keys, weights, and size, the function returns the sampled keys."
   ]
  },
  {
   "cell_type": "code",
   "execution_count": 10,
   "id": "41dcde27",
   "metadata": {},
   "outputs": [
    {
     "name": "stdout",
     "output_type": "stream",
     "text": [
      "cum_dist: [0.07692308 0.84615385 1.        ]\n",
      "i: 1, random_number: 0.208\n",
      "i: 1, random_number: 0.562\n",
      "i: 1, random_number: 0.354\n",
      "i: 2, random_number: 0.861\n",
      "i: 1, random_number: 0.774\n"
     ]
    },
    {
     "data": {
      "text/plain": [
       "['red', 'red', 'red', 'blue', 'red']"
      ]
     },
     "execution_count": 10,
     "metadata": {},
     "output_type": "execute_result"
    }
   ],
   "source": [
    "import numpy as np\n",
    "import random\n",
    "\n",
    "def sample_from_multimodal(keys, weights, n):\n",
    "    \n",
    "    # Numbers in cum_dist will be upper bounds for each random number\n",
    "    cum_dist = np.cumsum(np.array(weights) / np.sum(weights))\n",
    "    \n",
    "    print(f'cum_dist: {cum_dist}')\n",
    "    \n",
    "    ans = []\n",
    "    \n",
    "    for _ in range(n):\n",
    "        random_number = random.random()\n",
    "        i = sum(cum_dist < random_number)\n",
    "        ans.append(keys[i])\n",
    "        \n",
    "        print(f'i: {i}, random_number: {random_number:.3f}')\n",
    "    \n",
    "    return ans\n",
    "\n",
    "    \n",
    "keys = ['green', 'red', 'blue']\n",
    "weights = [1, 10, 2]\n",
    "n = 5\n",
    "sample_from_multimodal(keys, weights, n)"
   ]
  },
  {
   "cell_type": "code",
   "execution_count": null,
   "id": "b05eaee9",
   "metadata": {},
   "outputs": [],
   "source": []
  },
  {
   "cell_type": "code",
   "execution_count": null,
   "id": "1281f9e5",
   "metadata": {},
   "outputs": [],
   "source": []
  },
  {
   "cell_type": "code",
   "execution_count": null,
   "id": "5ecb15ff",
   "metadata": {},
   "outputs": [],
   "source": []
  }
 ],
 "metadata": {
  "kernelspec": {
   "display_name": "env-machine-learning",
   "language": "python",
   "name": "env-machine-learning"
  },
  "language_info": {
   "codemirror_mode": {
    "name": "ipython",
    "version": 3
   },
   "file_extension": ".py",
   "mimetype": "text/x-python",
   "name": "python",
   "nbconvert_exporter": "python",
   "pygments_lexer": "ipython3",
   "version": "3.9.5"
  }
 },
 "nbformat": 4,
 "nbformat_minor": 5
}
