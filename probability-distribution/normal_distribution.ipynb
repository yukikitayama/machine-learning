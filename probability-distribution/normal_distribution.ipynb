{
 "cells": [
  {
   "cell_type": "markdown",
   "id": "4efcaa9d",
   "metadata": {},
   "source": [
    "# Normal Distribution\n",
    "\n",
    "Given that $X$ and $Y$ are independent random variables with normal distributions, what is the mean and variance of the distribution of $2X - Y$ when the corresponding distributions are $X \\sim N(3, 4)$ and $Y \\sim N(1, 4)$?\n",
    "\n",
    "The linear combination of 2 independent normal random variances is still normal random variable.\n",
    "\n",
    "$$\n",
    "E[2X - Y]\n",
    "$$\n",
    "$$\n",
    "= 2 E[X] - E[Y]\n",
    "$$\n",
    "$$\n",
    "= 2 \\times 3 - 1\n",
    "$$\n",
    "$$\n",
    "= 5\n",
    "$$\n",
    "\n",
    "Variance of sum of 2 random variable $aX + bY$ is given as,\n",
    "\n",
    "$$\n",
    "\\text{Var}[aX + bY]\n",
    "$$\n",
    "$$\n",
    "= a^2 \\text{Var}[X] + b^2 \\text{Var}[Y] + 2ab \\text{Cov}(X, Y)\n",
    "$$\n",
    "\n",
    "But 2 random variables $X$ and $Y$ are independent, so their covariance is 0. So $\\text{Var}[2X - Y]$ is,\n",
    "\n",
    "$$\n",
    "\\text{Var}[2X - Y]\n",
    "$$\n",
    "$$\n",
    "= 4 \\text{Var}[X] + (-1)^2 \\text{Var}[Y]\n",
    "$$\n",
    "$$\n",
    "= 4 \\times 4 + 4\n",
    "$$\n",
    "$$\n",
    "= 20\n",
    "$$"
   ]
  }
 ],
 "metadata": {
  "kernelspec": {
   "display_name": "env-machine-learning",
   "language": "python",
   "name": "env-machine-learning"
  },
  "language_info": {
   "codemirror_mode": {
    "name": "ipython",
    "version": 3
   },
   "file_extension": ".py",
   "mimetype": "text/x-python",
   "name": "python",
   "nbconvert_exporter": "python",
   "pygments_lexer": "ipython3",
   "version": "3.9.5"
  }
 },
 "nbformat": 4,
 "nbformat_minor": 5
}
