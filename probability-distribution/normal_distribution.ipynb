{
 "cells": [
  {
   "cell_type": "markdown",
   "id": "4efcaa9d",
   "metadata": {},
   "source": [
    "# Normal Distribution\n",
    "\n",
    "## Combine normal distributions\n",
    "\n",
    "Given that $X$ and $Y$ are independent random variables with normal distributions, what is the mean and variance of the distribution of $2X - Y$ when the corresponding distributions are $X \\sim N(3, 4)$ and $Y \\sim N(1, 4)$?\n",
    "\n",
    "The linear combination of 2 independent normal random variances is still normal random variable.\n",
    "\n",
    "$$\n",
    "E[2X - Y]\n",
    "$$\n",
    "$$\n",
    "= 2 E[X] - E[Y]\n",
    "$$\n",
    "$$\n",
    "= 2 \\times 3 - 1\n",
    "$$\n",
    "$$\n",
    "= 5\n",
    "$$\n",
    "\n",
    "Variance of sum of 2 random variable $aX + bY$ is given as,\n",
    "\n",
    "$$\n",
    "\\text{Var}[aX + bY]\n",
    "$$\n",
    "$$\n",
    "= a^2 \\text{Var}[X] + b^2 \\text{Var}[Y] + 2ab \\text{Cov}(X, Y)\n",
    "$$\n",
    "\n",
    "But 2 random variables $X$ and $Y$ are independent, so their covariance is 0. So $\\text{Var}[2X - Y]$ is,\n",
    "\n",
    "$$\n",
    "\\text{Var}[2X - Y]\n",
    "$$\n",
    "$$\n",
    "= 4 \\text{Var}[X] + (-1)^2 \\text{Var}[Y]\n",
    "$$\n",
    "$$\n",
    "= 4 \\times 4 + 4\n",
    "$$\n",
    "$$\n",
    "= 20\n",
    "$$\n",
    "\n",
    "## Generate standard normal distribution\n",
    "\n",
    "**Standard normal distribution** is the normal distribution with mean 0 andd standard deviation 1."
   ]
  },
  {
   "cell_type": "code",
   "execution_count": 5,
   "id": "a81c5090",
   "metadata": {},
   "outputs": [
    {
     "name": "stdout",
     "output_type": "stream",
     "text": [
      "[0.6376239836445471, -1.3971958384084202, -0.9040800758189173, 0.43384719445978753, -0.557430048422638, -1.4895876235716747, 0.17800615431281375, 0.5011214572733441, 0.20247918389040342, 1.4885900426490535]\n"
     ]
    }
   ],
   "source": [
    "import numpy as np\n",
    "\n",
    "\n",
    "def sample_from_standard_normal(n):\n",
    "    return np.random.normal(loc=0, scale=1, size=n).tolist()\n",
    "\n",
    "\n",
    "print(sample_from_standard_normal(10))"
   ]
  }
 ],
 "metadata": {
  "kernelspec": {
   "display_name": "env-machine-learning",
   "language": "python",
   "name": "env-machine-learning"
  },
  "language_info": {
   "codemirror_mode": {
    "name": "ipython",
    "version": 3
   },
   "file_extension": ".py",
   "mimetype": "text/x-python",
   "name": "python",
   "nbconvert_exporter": "python",
   "pygments_lexer": "ipython3",
   "version": "3.9.5"
  }
 },
 "nbformat": 4,
 "nbformat_minor": 5
}
