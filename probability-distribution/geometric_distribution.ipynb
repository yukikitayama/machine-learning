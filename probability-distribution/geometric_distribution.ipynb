{
 "cells": [
  {
   "cell_type": "markdown",
   "id": "1bd4b99a",
   "metadata": {},
   "source": [
    "# Geometric Distribution"
   ]
  },
  {
   "cell_type": "markdown",
   "id": "7faa7ed2",
   "metadata": {},
   "source": [
    "There are 1,000,000 users and we want to expose 1,000 users per day to a test. The same user can be selected twice for the test.\n",
    "\n",
    "1. What's the expected value of how many days someone needs to wait before they receive the test?\n",
    "\n",
    "The probability of being selected for a user is,\n",
    "\n",
    "$$\n",
    "\\frac{1}{1,000,000}\n",
    "$$\n",
    "\n",
    "The probability of not being selected for a user is,\n",
    "\n",
    "$$\n",
    "1 - \\frac{1}{1,000,000}\n",
    "$$\n",
    "\n",
    "But the 1,000 selections are performed per day, so the real probability of not being selected by 1,000 selections is,\n",
    "\n",
    "$$\n",
    "(1 - \\frac{1}{1,000,000})^{1,000}\n",
    "$$"
   ]
  },
  {
   "cell_type": "code",
   "execution_count": 1,
   "id": "4702eab4",
   "metadata": {},
   "outputs": [
    {
     "data": {
      "text/plain": [
       "0.9990004993338457"
      ]
     },
     "execution_count": 1,
     "metadata": {},
     "output_type": "execute_result"
    }
   ],
   "source": [
    "(1 - (1 / 1000000)) ** 1000"
   ]
  },
  {
   "cell_type": "markdown",
   "id": "264b4c0a",
   "metadata": {},
   "source": [
    "We have 99.9% probability that a user will not be selected on a given day. So the real probability of being selected by exposing 1,000 users is,\n",
    "\n",
    "$$\n",
    "1 - (1 - \\frac{1}{1,000,000})^{1,000}\n",
    "$$"
   ]
  },
  {
   "cell_type": "code",
   "execution_count": 2,
   "id": "f4bb639f",
   "metadata": {},
   "outputs": [
    {
     "data": {
      "text/plain": [
       "0.000999500666154285"
      ]
     },
     "execution_count": 2,
     "metadata": {},
     "output_type": "execute_result"
    }
   ],
   "source": [
    "1 - (1 - (1 / 1000000)) ** 1000"
   ]
  },
  {
   "cell_type": "markdown",
   "id": "043d24f4",
   "metadata": {},
   "source": [
    "With a certain probability, we wanna know the number of days before being selected. So we can use **geometric distribution** if we think of the number of days as trials before being selected as success. The expected value of geometric distribution with a probability $p$ is,\n",
    "\n",
    "$$\n",
    "E(X) = \\frac{1}{p}\n",
    "$$\n",
    "\n",
    "In this question, $p = 1 - (1 - \\frac{1}{1,000,000})^{1,000}$. The expected value is,\n",
    "\n",
    "$$\n",
    "\\frac{1}{1 - (1 - \\frac{1}{1,000,000})^{1,000}}\n",
    "$$"
   ]
  },
  {
   "cell_type": "code",
   "execution_count": 4,
   "id": "265ee482",
   "metadata": {},
   "outputs": [
    {
     "data": {
      "text/plain": [
       "1000.4995833045679"
      ]
     },
     "execution_count": 4,
     "metadata": {},
     "output_type": "execute_result"
    }
   ],
   "source": [
    "1 / (1 - (1 - (1 / 1000000)) ** 1000)"
   ]
  },
  {
   "cell_type": "markdown",
   "id": "e2d6ada6",
   "metadata": {},
   "source": [
    "So the expected value of the number of days ti wait before being selected for the test is 1000,5.\n",
    "\n",
    "2. What is the probability they get selected after the first day? Is it closer to 0 or 1?\n",
    "\n",
    "The probability of being selected on the first day is, as we computed above,\n",
    "\n",
    "$$\n",
    "1 - (1 - \\frac{1}{1,000,000})^{1,000}\n",
    "$$\n",
    "$$\n",
    "\\approx 0.0009995\n",
    "$$\n",
    "$$\n",
    "\\approx 0.001\n",
    "$$\n",
    "\n",
    "So the probability of being selected after the first day is the negation of the probability so,\n",
    "\n",
    "$$\n",
    "1 - \\left[ 1 - (1 - \\frac{1}{1,000,000})^{1,000} \\right]\n",
    "$$"
   ]
  },
  {
   "cell_type": "code",
   "execution_count": 7,
   "id": "ee475b10",
   "metadata": {},
   "outputs": [
    {
     "data": {
      "text/plain": [
       "0.9990004993338457"
      ]
     },
     "execution_count": 7,
     "metadata": {},
     "output_type": "execute_result"
    }
   ],
   "source": [
    "1 - (1 - (1 - (1 / 1000000))**1000)"
   ]
  },
  {
   "cell_type": "markdown",
   "id": "a698c077",
   "metadata": {},
   "source": [
    "The probability of being selected after the first day is 99.9%, so it's closer to 1."
   ]
  },
  {
   "cell_type": "markdown",
   "id": "7c2e1726",
   "metadata": {},
   "source": [
    "## Resource\n",
    "\n",
    "- [Geometric distribution](https://en.wikipedia.org/wiki/Geometric_distribution)"
   ]
  }
 ],
 "metadata": {
  "kernelspec": {
   "display_name": "env-machine-learning",
   "language": "python",
   "name": "env-machine-learning"
  },
  "language_info": {
   "codemirror_mode": {
    "name": "ipython",
    "version": 3
   },
   "file_extension": ".py",
   "mimetype": "text/x-python",
   "name": "python",
   "nbconvert_exporter": "python",
   "pygments_lexer": "ipython3",
   "version": "3.9.5"
  }
 },
 "nbformat": 4,
 "nbformat_minor": 5
}
