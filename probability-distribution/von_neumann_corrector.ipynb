{
 "cells": [
  {
   "cell_type": "markdown",
   "id": "2a0b10af",
   "metadata": {},
   "source": [
    "# Von Neumann Corrector\n",
    "\n",
    "Given an unfair coin with the probability of heads and tails not being equal, can you make an algorithm that could generate a list of uniformly distributed zeros and ones only using the results of the coin tosses?\n",
    "\n",
    "To get one result, we toss a coin 2 times. When we get head-tail, count as head. When we get tail-head, count as tail. Ignore head-head and tail-tail. This output will be 50-50 split of head and tail. But this method will discard 75% of trials on average, which I don't understand why."
   ]
  }
 ],
 "metadata": {
  "kernelspec": {
   "display_name": "env-machine-learning",
   "language": "python",
   "name": "env-machine-learning"
  },
  "language_info": {
   "codemirror_mode": {
    "name": "ipython",
    "version": 3
   },
   "file_extension": ".py",
   "mimetype": "text/x-python",
   "name": "python",
   "nbconvert_exporter": "python",
   "pygments_lexer": "ipython3",
   "version": "3.9.5"
  }
 },
 "nbformat": 4,
 "nbformat_minor": 5
}
