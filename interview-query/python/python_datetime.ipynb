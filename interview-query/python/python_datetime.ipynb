{
 "cells": [
  {
   "cell_type": "markdown",
   "id": "d2eec472-2feb-4b75-8a36-5712192b89a1",
   "metadata": {},
   "source": [
    "## Business days\n",
    "\n",
    "Given 2 dates, write a function to find the number of business days that exist between the date range."
   ]
  },
  {
   "cell_type": "code",
   "execution_count": 2,
   "id": "4f2de78c-e129-4174-b525-293ad1e5c7ab",
   "metadata": {},
   "outputs": [
    {
     "data": {
      "text/plain": [
       "14"
      ]
     },
     "execution_count": 2,
     "metadata": {},
     "output_type": "execute_result"
    }
   ],
   "source": [
    "def delta_buss_days(date1, date2):\n",
    "\n",
    "    import pandas as pd\n",
    "    \n",
    "    dates = pd.date_range(date1, date2)\n",
    "    # Mon: 1, Sat: 6, Sun: 7\n",
    "    return sum([1 for d in dates if d.isoweekday() < 6])\n",
    "    \n",
    "\n",
    "date1 = \"2021-01-31\"\n",
    "date2 = \"2021-02-18\"\n",
    "delta_buss_days(date1, date2)"
   ]
  }
 ],
 "metadata": {
  "kernelspec": {
   "display_name": "Python 3 (ipykernel)",
   "language": "python",
   "name": "python3"
  },
  "language_info": {
   "codemirror_mode": {
    "name": "ipython",
    "version": 3
   },
   "file_extension": ".py",
   "mimetype": "text/x-python",
   "name": "python",
   "nbconvert_exporter": "python",
   "pygments_lexer": "ipython3",
   "version": "3.12.0"
  }
 },
 "nbformat": 4,
 "nbformat_minor": 5
}
