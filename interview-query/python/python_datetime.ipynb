{
 "cells": [
  {
   "cell_type": "markdown",
   "id": "d2eec472-2feb-4b75-8a36-5712192b89a1",
   "metadata": {},
   "source": [
    "## Business days\n",
    "\n",
    "Given 2 dates, write a function to find the number of business days that exist between the date range."
   ]
  },
  {
   "cell_type": "code",
   "execution_count": 2,
   "id": "4f2de78c-e129-4174-b525-293ad1e5c7ab",
   "metadata": {},
   "outputs": [
    {
     "data": {
      "text/plain": [
       "14"
      ]
     },
     "execution_count": 2,
     "metadata": {},
     "output_type": "execute_result"
    }
   ],
   "source": [
    "def delta_buss_days(date1, date2):\n",
    "\n",
    "    import pandas as pd\n",
    "    \n",
    "    dates = pd.date_range(date1, date2)\n",
    "    # Mon: 1, Sat: 6, Sun: 7\n",
    "    return sum([1 for d in dates if d.isoweekday() < 6])\n",
    "    \n",
    "\n",
    "date1 = \"2021-01-31\"\n",
    "date2 = \"2021-02-18\"\n",
    "delta_buss_days(date1, date2)"
   ]
  },
  {
   "cell_type": "markdown",
   "id": "28695b37-a65b-4e3d-87e5-cf61796a3007",
   "metadata": {},
   "source": [
    "## Greater release dates\n",
    "\n",
    "Given 2 lists of release dates, return the list with more dates past a certain input variable date D. Both lists could be unequal length and in any order."
   ]
  },
  {
   "cell_type": "code",
   "execution_count": 1,
   "id": "3c41c035-eaeb-4458-82e3-fc2370eb5c4a",
   "metadata": {
    "scrolled": true
   },
   "outputs": [
    {
     "data": {
      "text/plain": [
       "['2020-01-20', '2020-04-02', '2020-02-08', '2020-03-01']"
      ]
     },
     "execution_count": 1,
     "metadata": {},
     "output_type": "execute_result"
    }
   ],
   "source": [
    "def greater_release_dates(L1, L2, D):\n",
    "    l1_count = 0\n",
    "    for d in L1:\n",
    "        if d >= D:\n",
    "            l1_count += 1\n",
    "\n",
    "    l2_count = 0\n",
    "    for d in L2:\n",
    "        if d >= D:\n",
    "            l2_count += 1\n",
    "\n",
    "    return L1 if l1_count > l2_count else L2\n",
    "\n",
    "\n",
    "\n",
    "D = \"2020-03-01\"\n",
    "L1 = [\n",
    "    \"2020-01-21\", \n",
    "    \"2020-01-09\",\n",
    "    \"2020-01-10\",\n",
    "    \"2020-02-14\",\n",
    "    \"2020-03-01\"\n",
    "]\n",
    "L2 = [\n",
    "    \"2020-01-20\", \n",
    "    \"2020-04-02\",\n",
    "    \"2020-02-08\",\n",
    "    \"2020-03-01\"\n",
    "]\n",
    "greater_release_dates(L1, L2, D)"
   ]
  },
  {
   "cell_type": "code",
   "execution_count": 2,
   "id": "684487f5-51b5-417e-8b9c-b41ed9167f5f",
   "metadata": {},
   "outputs": [
    {
     "data": {
      "text/plain": [
       "15"
      ]
     },
     "execution_count": 2,
     "metadata": {},
     "output_type": "execute_result"
    }
   ],
   "source": [
    "def digit_accumulator(s):\n",
    "    ans = 0\n",
    "    for ch in s:\n",
    "        if ch.isdigit():\n",
    "           ans += int(ch)\n",
    "    return ans\n",
    "\n",
    "\n",
    "s = \"123.0045\"\n",
    "digit_accumulator(s)"
   ]
  }
 ],
 "metadata": {
  "kernelspec": {
   "display_name": "Python 3 (ipykernel)",
   "language": "python",
   "name": "python3"
  },
  "language_info": {
   "codemirror_mode": {
    "name": "ipython",
    "version": 3
   },
   "file_extension": ".py",
   "mimetype": "text/x-python",
   "name": "python",
   "nbconvert_exporter": "python",
   "pygments_lexer": "ipython3",
   "version": "3.12.0"
  }
 },
 "nbformat": 4,
 "nbformat_minor": 5
}
