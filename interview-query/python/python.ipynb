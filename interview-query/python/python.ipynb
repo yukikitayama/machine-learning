{
 "cells": [
  {
   "cell_type": "markdown",
   "id": "46dc3e0e",
   "metadata": {},
   "source": [
    "# Python"
   ]
  },
  {
   "cell_type": "markdown",
   "id": "3ba5c92d",
   "metadata": {},
   "source": [
    "Given a string sentence, return the same string with an addendum after each character of the number of occurrences a character appeared in the sentence.\n",
    "\n",
    "Note: don’t treat the spaces \" \" as characters. Also; do not return the addendum for those characters that also appear in the discard_list."
   ]
  },
  {
   "cell_type": "code",
   "execution_count": 3,
   "id": "a6c891ea",
   "metadata": {},
   "outputs": [
    {
     "name": "stdout",
     "output_type": "stream",
     "text": [
      "Counter({'e': 3, 'r': 2, 'I': 1, 'n': 1, 't': 1, 'v': 1, 'i': 1, 'w': 1, ' ': 1, 'Q': 1, 'u': 1, 'y': 1})\n"
     ]
    },
    {
     "data": {
      "text/plain": [
       "'In1t1er2v1i1ew1 1Q1u1er2y1'"
      ]
     },
     "execution_count": 3,
     "metadata": {},
     "output_type": "execute_result"
    }
   ],
   "source": [
    "def inject_frequency(sentence, discard_list):\n",
    "    \n",
    "    import collections    \n",
    "    counter = collections.Counter(sentence)\n",
    "\n",
    "    ans = []\n",
    "    \n",
    "    discard_set = set(discard_list)\n",
    "    \n",
    "    for ch in sentence:\n",
    "        \n",
    "        if ch in discard_set:\n",
    "            ans.append(ch)\n",
    "        elif ch == ' ':\n",
    "            ans.append(' ')\n",
    "        else:\n",
    "            ans.append(f'{ch}{counter[ch]}')\n",
    "            \n",
    "    return ''.join(ans)\n",
    "    \n",
    "    \n",
    "sentence = 'Interview Query'\n",
    "discard_list = ['I', 'e']\n",
    "inject_frequency(sentence, discard_list)"
   ]
  },
  {
   "cell_type": "markdown",
   "id": "6fd4b30b",
   "metadata": {},
   "source": [
    "Write a function compute_deviation that takes in a list of dictionaries with a key and list of integers and returns a dictionary with the standard deviation of each list.\n",
    "\n",
    "Note: This should be done without using the NumPy built-in functions."
   ]
  },
  {
   "cell_type": "code",
   "execution_count": 3,
   "id": "046a552d",
   "metadata": {
    "scrolled": true
   },
   "outputs": [
    {
     "data": {
      "text/plain": [
       "{'list1': 1.118033988749895, 'list2': 14.185710239533304}"
      ]
     },
     "execution_count": 3,
     "metadata": {},
     "output_type": "execute_result"
    }
   ],
   "source": [
    "def compute_deviation(list_numbers):\n",
    "    \n",
    "    def compute_std(nums):\n",
    "        \n",
    "        # https://en.wikipedia.org/wiki/Standard_deviation\n",
    "        sum_ = sum(nums)\n",
    "        n = len(nums)\n",
    "        mu = sum_ / n\n",
    "        \n",
    "        sum_dev = 0\n",
    "        for num in nums:\n",
    "            sum_dev += (num - mu)**2\n",
    "        \n",
    "        return (sum_dev / n) ** 0.5  \n",
    "    \n",
    "    ans = {}\n",
    "    for dic in list_numbers:\n",
    "        ans[dic['key']] = compute_std(dic['values'])\n",
    "        \n",
    "    return ans\n",
    "\n",
    "\n",
    "input_ = [\n",
    "    {\n",
    "        'key': 'list1',\n",
    "        'values': [4,5,2,3,4,5,2,3],\n",
    "    },\n",
    "    {\n",
    "        'key': 'list2',\n",
    "        'values': [1,1,34,12,40,3,9,7],\n",
    "    }\n",
    "]\n",
    "\n",
    "compute_deviation(input_)"
   ]
  },
  {
   "cell_type": "markdown",
   "id": "9e895280",
   "metadata": {},
   "source": [
    "Given a string, write a function recurring_char to find its first recurring character. Return None if there is no recurring character.\n",
    "\n",
    "Treat upper and lower case letters as distinct characters.\n",
    "\n",
    "You may assume the input string includes no spaces."
   ]
  },
  {
   "cell_type": "code",
   "execution_count": 3,
   "id": "9af2d75a",
   "metadata": {},
   "outputs": [
    {
     "name": "stdout",
     "output_type": "stream",
     "text": [
      "i\n",
      "None\n"
     ]
    }
   ],
   "source": [
    "def recurring_char(input):\n",
    "    \n",
    "    char_set = set()\n",
    "    \n",
    "    for ch in input:\n",
    "        if ch in char_set:\n",
    "            return ch\n",
    "        else:\n",
    "            char_set.add(ch)\n",
    "    return None\n",
    "\n",
    "\n",
    "print(recurring_char('interviewquery'))\n",
    "print(recurring_char('interv'))"
   ]
  },
  {
   "cell_type": "markdown",
   "id": "550cd05d",
   "metadata": {},
   "source": [
    "Given two sorted lists, write a function to merge them into one sorted list.\n",
    "\n",
    "Bonus: What’s the time complexity?"
   ]
  },
  {
   "cell_type": "code",
   "execution_count": 3,
   "id": "4783722f",
   "metadata": {},
   "outputs": [
    {
     "name": "stdout",
     "output_type": "stream",
     "text": [
      "[1, 2, 2, 4, 5, 6]\n"
     ]
    }
   ],
   "source": [
    "def merge_list(test_input_list1, test_input_list2):\n",
    "    \n",
    "    p1 = p2 = 0\n",
    "    m = len(test_input_list1)\n",
    "    n = len(test_input_list2)\n",
    "    \n",
    "    ans = test_input_list1 + [0] * n\n",
    "    \n",
    "    for p in range(m + n):\n",
    "        \n",
    "        # If list1 element is smaller, or if finished iterating list2\n",
    "        if (p1 < m and test_input_list1[p1] <= test_input_list2[p2]) or p2 == n:\n",
    "            ans[p] = test_input_list1[p1]\n",
    "            p1 += 1\n",
    "        \n",
    "        else:\n",
    "            ans[p] = test_input_list2[p2]\n",
    "            p2 += 1\n",
    "    \n",
    "    return ans\n",
    "\n",
    "\n",
    "list1 = [1, 2, 5]\n",
    "list2 = [2, 4, 6]\n",
    "\n",
    "print(merge_list(list1, list2))"
   ]
  }
 ],
 "metadata": {
  "kernelspec": {
   "display_name": "env-machine-learning",
   "language": "python",
   "name": "env-machine-learning"
  },
  "language_info": {
   "codemirror_mode": {
    "name": "ipython",
    "version": 3
   },
   "file_extension": ".py",
   "mimetype": "text/x-python",
   "name": "python",
   "nbconvert_exporter": "python",
   "pygments_lexer": "ipython3",
   "version": "3.9.5"
  }
 },
 "nbformat": 4,
 "nbformat_minor": 5
}
