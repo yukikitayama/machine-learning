{
 "cells": [
  {
   "cell_type": "markdown",
   "id": "46dc3e0e",
   "metadata": {},
   "source": [
    "# Python"
   ]
  },
  {
   "cell_type": "markdown",
   "id": "3ba5c92d",
   "metadata": {},
   "source": [
    "Given a string sentence, return the same string with an addendum after each character of the number of occurrences a character appeared in the sentence.\n",
    "\n",
    "Note: don’t treat the spaces \" \" as characters. Also; do not return the addendum for those characters that also appear in the discard_list."
   ]
  },
  {
   "cell_type": "code",
   "execution_count": 3,
   "id": "a6c891ea",
   "metadata": {},
   "outputs": [
    {
     "name": "stdout",
     "output_type": "stream",
     "text": [
      "Counter({'e': 3, 'r': 2, 'I': 1, 'n': 1, 't': 1, 'v': 1, 'i': 1, 'w': 1, ' ': 1, 'Q': 1, 'u': 1, 'y': 1})\n"
     ]
    },
    {
     "data": {
      "text/plain": [
       "'In1t1er2v1i1ew1 1Q1u1er2y1'"
      ]
     },
     "execution_count": 3,
     "metadata": {},
     "output_type": "execute_result"
    }
   ],
   "source": [
    "def inject_frequency(sentence, discard_list):\n",
    "    \n",
    "    import collections    \n",
    "    counter = collections.Counter(sentence)\n",
    "\n",
    "    ans = []\n",
    "    \n",
    "    discard_set = set(discard_list)\n",
    "    \n",
    "    for ch in sentence:\n",
    "        \n",
    "        if ch in discard_set:\n",
    "            ans.append(ch)\n",
    "        elif ch == ' ':\n",
    "            ans.append(' ')\n",
    "        else:\n",
    "            ans.append(f'{ch}{counter[ch]}')\n",
    "            \n",
    "    return ''.join(ans)\n",
    "    \n",
    "    \n",
    "sentence = 'Interview Query'\n",
    "discard_list = ['I', 'e']\n",
    "inject_frequency(sentence, discard_list)"
   ]
  }
 ],
 "metadata": {
  "kernelspec": {
   "display_name": "env-machine-learning",
   "language": "python",
   "name": "env-machine-learning"
  },
  "language_info": {
   "codemirror_mode": {
    "name": "ipython",
    "version": 3
   },
   "file_extension": ".py",
   "mimetype": "text/x-python",
   "name": "python",
   "nbconvert_exporter": "python",
   "pygments_lexer": "ipython3",
   "version": "3.9.5"
  }
 },
 "nbformat": 4,
 "nbformat_minor": 5
}
