{
 "cells": [
  {
   "cell_type": "markdown",
   "id": "46dc3e0e",
   "metadata": {},
   "source": [
    "# Python"
   ]
  },
  {
   "cell_type": "markdown",
   "id": "3ba5c92d",
   "metadata": {},
   "source": [
    "Given a string sentence, return the same string with an addendum after each character of the number of occurrences a character appeared in the sentence.\n",
    "\n",
    "Note: don’t treat the spaces \" \" as characters. Also; do not return the addendum for those characters that also appear in the discard_list."
   ]
  },
  {
   "cell_type": "code",
   "execution_count": 3,
   "id": "a6c891ea",
   "metadata": {},
   "outputs": [
    {
     "name": "stdout",
     "output_type": "stream",
     "text": [
      "Counter({'e': 3, 'r': 2, 'I': 1, 'n': 1, 't': 1, 'v': 1, 'i': 1, 'w': 1, ' ': 1, 'Q': 1, 'u': 1, 'y': 1})\n"
     ]
    },
    {
     "data": {
      "text/plain": [
       "'In1t1er2v1i1ew1 1Q1u1er2y1'"
      ]
     },
     "execution_count": 3,
     "metadata": {},
     "output_type": "execute_result"
    }
   ],
   "source": [
    "def inject_frequency(sentence, discard_list):\n",
    "    \n",
    "    import collections    \n",
    "    counter = collections.Counter(sentence)\n",
    "\n",
    "    ans = []\n",
    "    \n",
    "    discard_set = set(discard_list)\n",
    "    \n",
    "    for ch in sentence:\n",
    "        \n",
    "        if ch in discard_set:\n",
    "            ans.append(ch)\n",
    "        elif ch == ' ':\n",
    "            ans.append(' ')\n",
    "        else:\n",
    "            ans.append(f'{ch}{counter[ch]}')\n",
    "            \n",
    "    return ''.join(ans)\n",
    "    \n",
    "    \n",
    "sentence = 'Interview Query'\n",
    "discard_list = ['I', 'e']\n",
    "inject_frequency(sentence, discard_list)"
   ]
  },
  {
   "cell_type": "markdown",
   "id": "6fd4b30b",
   "metadata": {},
   "source": [
    "Write a function compute_deviation that takes in a list of dictionaries with a key and list of integers and returns a dictionary with the standard deviation of each list.\n",
    "\n",
    "Note: This should be done without using the NumPy built-in functions."
   ]
  },
  {
   "cell_type": "code",
   "execution_count": 3,
   "id": "046a552d",
   "metadata": {
    "scrolled": true
   },
   "outputs": [
    {
     "data": {
      "text/plain": [
       "{'list1': 1.118033988749895, 'list2': 14.185710239533304}"
      ]
     },
     "execution_count": 3,
     "metadata": {},
     "output_type": "execute_result"
    }
   ],
   "source": [
    "def compute_deviation(list_numbers):\n",
    "    \n",
    "    def compute_std(nums):\n",
    "        \n",
    "        # https://en.wikipedia.org/wiki/Standard_deviation\n",
    "        sum_ = sum(nums)\n",
    "        n = len(nums)\n",
    "        mu = sum_ / n\n",
    "        \n",
    "        sum_dev = 0\n",
    "        for num in nums:\n",
    "            sum_dev += (num - mu)**2\n",
    "        \n",
    "        return (sum_dev / n) ** 0.5  \n",
    "    \n",
    "    ans = {}\n",
    "    for dic in list_numbers:\n",
    "        ans[dic['key']] = compute_std(dic['values'])\n",
    "        \n",
    "    return ans\n",
    "\n",
    "\n",
    "input_ = [\n",
    "    {\n",
    "        'key': 'list1',\n",
    "        'values': [4,5,2,3,4,5,2,3],\n",
    "    },\n",
    "    {\n",
    "        'key': 'list2',\n",
    "        'values': [1,1,34,12,40,3,9,7],\n",
    "    }\n",
    "]\n",
    "\n",
    "compute_deviation(input_)"
   ]
  },
  {
   "cell_type": "markdown",
   "id": "9e895280",
   "metadata": {},
   "source": [
    "Given a string, write a function recurring_char to find its first recurring character. Return None if there is no recurring character.\n",
    "\n",
    "Treat upper and lower case letters as distinct characters.\n",
    "\n",
    "You may assume the input string includes no spaces."
   ]
  },
  {
   "cell_type": "code",
   "execution_count": 3,
   "id": "9af2d75a",
   "metadata": {},
   "outputs": [
    {
     "name": "stdout",
     "output_type": "stream",
     "text": [
      "i\n",
      "None\n"
     ]
    }
   ],
   "source": [
    "def recurring_char(input):\n",
    "    \n",
    "    char_set = set()\n",
    "    \n",
    "    for ch in input:\n",
    "        if ch in char_set:\n",
    "            return ch\n",
    "        else:\n",
    "            char_set.add(ch)\n",
    "    return None\n",
    "\n",
    "\n",
    "print(recurring_char('interviewquery'))\n",
    "print(recurring_char('interv'))"
   ]
  },
  {
   "cell_type": "markdown",
   "id": "550cd05d",
   "metadata": {},
   "source": [
    "Given two sorted lists, write a function to merge them into one sorted list.\n",
    "\n",
    "Bonus: What’s the time complexity?"
   ]
  },
  {
   "cell_type": "code",
   "execution_count": 3,
   "id": "4783722f",
   "metadata": {},
   "outputs": [
    {
     "name": "stdout",
     "output_type": "stream",
     "text": [
      "[1, 2, 2, 4, 5, 6]\n"
     ]
    }
   ],
   "source": [
    "def merge_list(test_input_list1, test_input_list2):\n",
    "    \n",
    "    p1 = p2 = 0\n",
    "    m = len(test_input_list1)\n",
    "    n = len(test_input_list2)\n",
    "    \n",
    "    ans = test_input_list1 + [0] * n\n",
    "    \n",
    "    for p in range(m + n):\n",
    "        \n",
    "        # If list1 element is smaller, or if finished iterating list2\n",
    "        if (p1 < m and test_input_list1[p1] <= test_input_list2[p2]) or p2 == n:\n",
    "            ans[p] = test_input_list1[p1]\n",
    "            p1 += 1\n",
    "        \n",
    "        else:\n",
    "            ans[p] = test_input_list2[p2]\n",
    "            p2 += 1\n",
    "    \n",
    "    return ans\n",
    "\n",
    "\n",
    "list1 = [1, 2, 5]\n",
    "list2 = [2, 4, 6]\n",
    "\n",
    "print(merge_list(list1, list2))"
   ]
  },
  {
   "cell_type": "markdown",
   "id": "a789db8f",
   "metadata": {},
   "source": [
    "Given a list of timestamps in sequential order, return a list of lists grouped by week (7 days) using the first timestamp as the starting point."
   ]
  },
  {
   "cell_type": "code",
   "execution_count": 11,
   "id": "338d482f",
   "metadata": {},
   "outputs": [
    {
     "data": {
      "text/plain": [
       "[['2019-01-01', '2019-01-02'],\n",
       " ['2019-01-08'],\n",
       " ['2019-02-01', '2019-02-02'],\n",
       " ['2019-02-05']]"
      ]
     },
     "execution_count": 11,
     "metadata": {},
     "output_type": "execute_result"
    }
   ],
   "source": [
    "def weekly_aggregation(ts):\n",
    "    \n",
    "    from datetime import datetime, timedelta\n",
    "    \n",
    "    # Convert string datetime into Python datetime object to allow 7 days operation\n",
    "    curr_start = datetime.strptime(ts[0], '%Y-%m-%d')\n",
    "    curr_list = []\n",
    "    ans = [] \n",
    "    i = 0\n",
    "    \n",
    "    while i < len(ts):\n",
    "        \n",
    "        # Check i < len(ts) to avoid index out of bound error\n",
    "        while i < len(ts) and datetime.strptime(ts[i], '%Y-%m-%d') < curr_start + timedelta(days=7):\n",
    "            curr_list.append(ts[i])\n",
    "            i += 1\n",
    "            \n",
    "        # Some range of dates could be empty, but the problem doesn't require us to save empty list\n",
    "        # so save the dates only if the current list has date\n",
    "        if curr_list:\n",
    "            # curr_list[:] to append the copy of curr_list instead of saving the reference to the list\n",
    "            # otherwise values in the list change all the time\n",
    "            ans.append(curr_list[:])\n",
    "            # Reset current list\n",
    "            curr_list = []\n",
    "    \n",
    "        curr_start += timedelta(days=7)\n",
    "           \n",
    "    return ans\n",
    "\n",
    "    \n",
    "ts = [\n",
    "    '2019-01-01', \n",
    "    '2019-01-02',\n",
    "    '2019-01-08', \n",
    "    '2019-02-01', \n",
    "    '2019-02-02',\n",
    "    '2019-02-05'    \n",
    "]\n",
    "\n",
    "weekly_aggregation(ts)"
   ]
  },
  {
   "cell_type": "markdown",
   "id": "21193ad9",
   "metadata": {},
   "source": [
    "## Compute variance\n",
    "\n",
    "Write a function that outputs the (sample) variance given a list of integers. Note: round the result to 2 decimal places."
   ]
  },
  {
   "cell_type": "code",
   "execution_count": 1,
   "id": "eb3727fb",
   "metadata": {},
   "outputs": [
    {
     "data": {
      "text/plain": [
       "13.89"
      ]
     },
     "execution_count": 1,
     "metadata": {},
     "output_type": "execute_result"
    }
   ],
   "source": [
    "def get_variance(test_list):\n",
    "    \n",
    "    mu = sum(test_list) / len(test_list)\n",
    "    \n",
    "    sum_ = 0\n",
    "    \n",
    "    for i in range(len(test_list)):\n",
    "        \n",
    "        sum_ += (test_list[i] - mu) ** 2\n",
    "    \n",
    "    return round(sum_ / len(test_list), 2)\n",
    "\n",
    "\n",
    "test_list = [6, 7, 3, 9, 10, 15]\n",
    "get_variance(test_list)"
   ]
  },
  {
   "cell_type": "markdown",
   "id": "67e892d6",
   "metadata": {},
   "source": [
    "## Fill none values\n",
    "\n",
    "Given a sorted list of positive integers with some entries being None, write a function to return a new list where all None values are replaced with the most recent non-None value in the list. Note: If the first entry in the list is None, assume the previous entry was 0."
   ]
  },
  {
   "cell_type": "code",
   "execution_count": 1,
   "id": "455874f7",
   "metadata": {},
   "outputs": [
    {
     "name": "stdout",
     "output_type": "stream",
     "text": [
      "[1, 2, 2, 2, 4, 5, 5]\n"
     ]
    }
   ],
   "source": [
    "def fill_none(input_list):\n",
    "    \n",
    "    ans = []\n",
    "    prev = 0\n",
    "    \n",
    "    for i in range(len(input_list)):\n",
    "    \n",
    "        curr = input_list[i]\n",
    "    \n",
    "        if not curr:\n",
    "            ans.append(prev)\n",
    "        else:\n",
    "            ans.append(curr)\n",
    "            prev = curr\n",
    "    \n",
    "    return ans\n",
    "\n",
    "\n",
    "input_list = [1, 2, None, None, 4, 5, None]\n",
    "print(fill_none(input_list))"
   ]
  },
  {
   "cell_type": "markdown",
   "id": "e6cdf7db",
   "metadata": {},
   "source": [
    "## Valid anagram\n",
    "\n",
    "Given two strings, write a function to return True if the strings are anagrams of each other and False if they are not. Note: A word is not an anagram of itself."
   ]
  },
  {
   "cell_type": "code",
   "execution_count": 5,
   "id": "021f4947",
   "metadata": {},
   "outputs": [
    {
     "name": "stdout",
     "output_type": "stream",
     "text": [
      "True\n",
      "False\n"
     ]
    }
   ],
   "source": [
    "def is_anagram(string_1, string_2):\n",
    "\n",
    "    # A word is not an anagram of itself\n",
    "    if string_1 == string_2:\n",
    "        return False\n",
    "    \n",
    "    else:\n",
    "        # Equality of collections.Counter\n",
    "        # https://docs.python.org/3/library/collections.html#collections.Counter\n",
    "        from collections import Counter\n",
    "        return Counter(string_1) == Counter(string_2)\n",
    "\n",
    "\n",
    "print(is_anagram('listen', 'silent'))\n",
    "print(is_anagram('banana', 'bandana'))"
   ]
  },
  {
   "cell_type": "markdown",
   "id": "6c188e2f",
   "metadata": {},
   "source": [
    "## Word frequency\n",
    "\n",
    "You’re hired by a literary newspaper for an unusual project. They want you to use your data science skills to parse the most frequent words used in poems.\n",
    "\n",
    "Poems are given as a list of strings called sentences. Return a dictionary of the frequency that words are used in the poem.\n",
    "\n",
    "Your keys should be a number representing the number of times the word is used in the poem, with its value being a list of words with that frequency.\n",
    "\n",
    "Make sure to process all words as entirely lowercase. Additionally, do not worry about parsing punctuation marks."
   ]
  },
  {
   "cell_type": "code",
   "execution_count": 8,
   "id": "bfc89a12",
   "metadata": {},
   "outputs": [
    {
     "name": "stdout",
     "output_type": "stream",
     "text": [
      "{1: ['i', 'love', 'the', 'best', 'red', 'violets', 'blue'], 3: ['roses', 'are']}\n"
     ]
    }
   ],
   "source": [
    "def word_frequency(sentences):\n",
    "    import collections\n",
    "    \n",
    "    counter_all = collections.defaultdict(int)\n",
    "    \n",
    "    for i in range(len(sentences)):\n",
    "        sentence = sentences[i]\n",
    "        counter = collections.Counter(word.lower() for word in sentence.split())\n",
    "        \n",
    "        for k, v in counter.items():\n",
    "            \n",
    "            counter_all[k] += v\n",
    "\n",
    "    ans = collections.defaultdict(list)\n",
    "    \n",
    "    for k, v in counter_all.items():\n",
    "        ans[v].append(k)\n",
    "        \n",
    "    return dict(ans)\n",
    "\n",
    "\n",
    "sentences = [\n",
    "  \"I love roses\",\n",
    "  \"Roses are the best\",\n",
    "  \"Roses are red violets are blue\"\n",
    "]\n",
    "print(word_frequency(sentences))"
   ]
  },
  {
   "cell_type": "markdown",
   "id": "7f3ba11a",
   "metadata": {},
   "source": [
    "## Find the missing number\n",
    "\n",
    "You have an array of integers, nums of length n spanning 0 to n with one missing. Write a function missing_number that returns the missing number in the array. Note: Complexity of O(n)O(n) required."
   ]
  },
  {
   "cell_type": "code",
   "execution_count": 6,
   "id": "369e2012",
   "metadata": {},
   "outputs": [
    {
     "name": "stdout",
     "output_type": "stream",
     "text": [
      "3\n"
     ]
    }
   ],
   "source": [
    "def missing_number(nums):\n",
    "    \n",
    "    nums_set = set(nums)\n",
    "    \n",
    "    for i in range(len(nums)):\n",
    "        if i not in nums_set:\n",
    "            return i\n",
    "\n",
    "\n",
    "nums = [0, 1, 2, 4, 5]\n",
    "print(missing_number(nums))"
   ]
  },
  {
   "cell_type": "markdown",
   "id": "a06e99a0",
   "metadata": {},
   "source": [
    "Sum of number from 1 to n is $\\frac{n (n + 1)}{2}$, so the following math is fine too"
   ]
  },
  {
   "cell_type": "code",
   "execution_count": 8,
   "id": "d4e3db65",
   "metadata": {},
   "outputs": [
    {
     "name": "stdout",
     "output_type": "stream",
     "text": [
      "3\n"
     ]
    }
   ],
   "source": [
    "def missing_number(nums):\n",
    "    n = len(nums)\n",
    "    sum_ = (n * (n + 1)) // 2\n",
    "    return sum_ - sum(nums)\n",
    "\n",
    "\n",
    "print(missing_number([0, 1, 2, 4, 5]))"
   ]
  },
  {
   "cell_type": "markdown",
   "id": "77491cdf",
   "metadata": {},
   "source": [
    "## Term frequency"
   ]
  },
  {
   "cell_type": "code",
   "execution_count": 5,
   "id": "a58ecd42",
   "metadata": {},
   "outputs": [
    {
     "name": "stdout",
     "output_type": "stream",
     "text": [
      "{'I': 0.11, 'have': 0.11, 'a': 0.22, 'nice': 0.22, 'car': 0.11, 'with': 0.11, 'tires': 0.11}\n"
     ]
    }
   ],
   "source": [
    "def term_frequency(sentences):\n",
    "    \n",
    "    import collections\n",
    "    \n",
    "    # Make a list of words from a sentence\n",
    "    words = sentences.split()\n",
    "\n",
    "    # Count each word\n",
    "    ans = collections.Counter(words)\n",
    "    \n",
    "    # Total number of words\n",
    "    n = len(words)\n",
    "    \n",
    "    for k, v in ans.items():\n",
    "        \n",
    "        # TF value is each word count divided by the total number of words, rounded\n",
    "        ans[k] = round(v / n, 2)\n",
    "        \n",
    "    return dict(ans)\n",
    "\n",
    "\n",
    "document = 'I have a nice car with a nice tires'\n",
    "print(term_frequency(document))"
   ]
  },
  {
   "cell_type": "markdown",
   "id": "8065f234",
   "metadata": {},
   "source": [
    "## String palindromes\n",
    "\n",
    "Given a string, write a function to determine if it is palindrome or not.\n",
    "\n",
    "Note: A palindrome is a word/string that is read the same way forward as it is backward, e.g. 'reviver', 'madam', 'deified' and 'civic' are all palindromes, while 'tree', 'music' and 'person' are not palindromes."
   ]
  },
  {
   "cell_type": "code",
   "execution_count": 2,
   "id": "2da14275",
   "metadata": {},
   "outputs": [
    {
     "name": "stdout",
     "output_type": "stream",
     "text": [
      "True\n",
      "False\n"
     ]
    }
   ],
   "source": [
    "def is_palindrome(word):\n",
    "    \n",
    "    for i in range(len(word) // 2 + 1):\n",
    "        \n",
    "        if word[i] != word[-(i + 1)]:\n",
    "            return False\n",
    "        \n",
    "    return True\n",
    "\n",
    "\n",
    "print(is_palindrome('radar'))\n",
    "print(is_palindrome('tree'))"
   ]
  },
  {
   "cell_type": "markdown",
   "id": "e2f61be9",
   "metadata": {},
   "source": [
    "## Find bigrams\n",
    "\n",
    "Write a function called find_bigrams that takes a sentence or paragraph of strings and returns a list of all bigrams."
   ]
  },
  {
   "cell_type": "code",
   "execution_count": 1,
   "id": "86daee6a",
   "metadata": {},
   "outputs": [
    {
     "name": "stdout",
     "output_type": "stream",
     "text": [
      "[('have', 'free'), ('free', 'hours'), ('hours', 'and'), ('and', 'love'), ('love', 'children?'), ('children?', 'drive'), ('drive', 'kids'), ('kids', 'to'), ('to', 'school,'), ('school,', 'soccer'), ('soccer', 'practice'), ('practice', 'and'), ('and', 'other'), ('other', 'activities.')]\n"
     ]
    }
   ],
   "source": [
    "def find_bigrams(sentence):\n",
    "    words = sentence.split()\n",
    "    \n",
    "    ans = []\n",
    "    \n",
    "    for i in range(len(words) - 1):\n",
    "        ans.append((words[i].lower(), words[i + 1].lower()))\n",
    "    \n",
    "    return ans\n",
    "\n",
    "\n",
    "sentence = \"\"\"\n",
    "Have free hours and love children? \n",
    "Drive kids to school, soccer practice \n",
    "and other activities.\n",
    "\"\"\"\n",
    "print(find_bigrams(sentence))"
   ]
  }
 ],
 "metadata": {
  "kernelspec": {
   "display_name": "env-machine-learning",
   "language": "python",
   "name": "env-machine-learning"
  },
  "language_info": {
   "codemirror_mode": {
    "name": "ipython",
    "version": 3
   },
   "file_extension": ".py",
   "mimetype": "text/x-python",
   "name": "python",
   "nbconvert_exporter": "python",
   "pygments_lexer": "ipython3",
   "version": "3.9.5"
  }
 },
 "nbformat": 4,
 "nbformat_minor": 5
}
