{
 "cells": [
  {
   "cell_type": "markdown",
   "id": "94e489ef",
   "metadata": {},
   "source": [
    "# Python String Questions"
   ]
  },
  {
   "cell_type": "markdown",
   "id": "85f0423d",
   "metadata": {},
   "source": [
    "## Permutation palindrome\n",
    "\n",
    "Given a string str, write a function perm_palindrome to determine whether there exists a permutation of str that is a palindrome."
   ]
  },
  {
   "cell_type": "code",
   "execution_count": 3,
   "id": "77a06e3f",
   "metadata": {},
   "outputs": [
    {
     "name": "stdout",
     "output_type": "stream",
     "text": [
      "Counter({'c': 2, 'a': 2, 'r': 2, 'e': 1})\n",
      "True\n"
     ]
    }
   ],
   "source": [
    "\"\"\"\n",
    "Count characters\n",
    "all even, or all even except one odd\n",
    "\"\"\"\n",
    "\n",
    "def perm_palindrome(string):\n",
    "    \n",
    "    import collections\n",
    "    \n",
    "    counter = collections.Counter(string)\n",
    "    \n",
    "    odd = 0\n",
    "    \n",
    "    for k, v in counter.items():\n",
    "    \n",
    "        if v % 2 != 0:\n",
    "            odd += 1\n",
    "            \n",
    "            if odd == 2:\n",
    "                return False\n",
    "    \n",
    "    return True\n",
    "\n",
    "\n",
    "string = 'carerac'\n",
    "print(perm_palindrome(string))"
   ]
  },
  {
   "cell_type": "markdown",
   "id": "70bbcf88",
   "metadata": {},
   "source": [
    "## Common prefix\n",
    "\n",
    "Given a list of strings, write a function that returns their longest common prefix. For example, if you were given the strings “flowers”, “flow”, and “flight”, your function should return the string “fl”.\n",
    "\n",
    "If the list of strings has no common prefix, return an empty string."
   ]
  },
  {
   "cell_type": "code",
   "execution_count": 4,
   "id": "be4022f3",
   "metadata": {
    "scrolled": true
   },
   "outputs": [
    {
     "name": "stdout",
     "output_type": "stream",
     "text": [
      "fl\n"
     ]
    }
   ],
   "source": [
    "def common_prefix(strings):\n",
    "    \n",
    "    min_length = len(min(strings, key=len))\n",
    "    \n",
    "    ans = []\n",
    "    \n",
    "    for i in range(min_length):\n",
    "        \n",
    "        if all(strings[0][i] == string[i] for string in strings):\n",
    "            ans.append(strings[0][i])\n",
    "        else:\n",
    "            break\n",
    "            \n",
    "    return \"\".join(ans)\n",
    "\n",
    "\n",
    "strings = [\"flowers\", \"flow\", \"flight\"] \n",
    "print(common_prefix(strings))"
   ]
  },
  {
   "cell_type": "markdown",
   "id": "6f44d236",
   "metadata": {},
   "source": [
    "## Replace words with stems\n",
    "\n",
    "In data science, there exists the concept of stemming, which is the heuristic of chopping off the end of a word to clean and bucket it into an easier feature set. \n",
    "\n",
    "Given a dictionary consisting of many roots and a sentence, write a function replace_words to stem all the words in the sentence with the root forming it. If a word has many roots that can form it, replace it with the root with the shortest length."
   ]
  },
  {
   "cell_type": "code",
   "execution_count": 10,
   "id": "fc356405",
   "metadata": {},
   "outputs": [
    {
     "name": "stdout",
     "output_type": "stream",
     "text": [
      "['the', 'cattle', 'was', 'rattled', 'by', 'the', 'battery']\n",
      "the cat was rat by the bat\n"
     ]
    }
   ],
   "source": [
    "def replace_words(roots, sentence):\n",
    "    words = sentence.split()\n",
    "    print(words)\n",
    "    \n",
    "    i = 0\n",
    "    \n",
    "    while i < len(words):\n",
    "        \n",
    "        j = 0\n",
    "        \n",
    "        # After replacing, words[i] got shorter and j exceeds this length\n",
    "        # because bottom of this while loop does j += 1\n",
    "        # so guaranteed to have the shorted stem\n",
    "        while j < len(words[i]):\n",
    "               \n",
    "            if words[i][:j] in roots:\n",
    "                words[i] = words[i][:j]\n",
    "                \n",
    "            j += 1\n",
    "            \n",
    "        i += 1\n",
    "    \n",
    "    return ' '.join(words)\n",
    "                \n",
    "\n",
    "roots = [\"cat\", \"bat\", \"rat\", \"catt\"]\n",
    "sentence = \"the cattle was rattled by the battery\"\n",
    "print(replace_words(roots, sentence))"
   ]
  },
  {
   "cell_type": "markdown",
   "id": "060eeed0-e1ed-46f0-9d4a-dd45226d5ed6",
   "metadata": {},
   "source": [
    "## Closest key\n",
    "\n",
    "Given a dictionary with keys of letters and values of a list of letters, write a function to find the key with the input value closest to the beginning of the list."
   ]
  },
  {
   "cell_type": "code",
   "execution_count": 5,
   "id": "794f0f3d-c7ba-498c-ae82-c7cb80ab40b8",
   "metadata": {},
   "outputs": [
    {
     "data": {
      "text/plain": [
       "'a'"
      ]
     },
     "execution_count": 5,
     "metadata": {},
     "output_type": "execute_result"
    }
   ],
   "source": [
    "def closest_key(dictionary, input):\n",
    "    dist = float(\"inf\")\n",
    "\n",
    "    ans = None\n",
    "    \n",
    "    for k, v in dictionary.items():\n",
    "        d = abs(ord(input) - ord(v[0]))\n",
    "\n",
    "        if d < dist:\n",
    "            ans = k\n",
    "            dist = d\n",
    "\n",
    "    return ans\n",
    "\n",
    "\n",
    "dictionary = {\n",
    "    'a' : ['b','c','e'],\n",
    "    'm' : ['c','e'],\n",
    "}\n",
    "input = 'c'\n",
    "\n",
    "dictionary = {\"a\":[\"b\",\"c\",\"f\",\"g\",\"i\",\"e\"],\"m\":[\"k\",\"l\"]}\n",
    "input = \"e\"\n",
    "\n",
    "closest_key(dictionary, input)"
   ]
  }
 ],
 "metadata": {
  "kernelspec": {
   "display_name": "Python 3 (ipykernel)",
   "language": "python",
   "name": "python3"
  },
  "language_info": {
   "codemirror_mode": {
    "name": "ipython",
    "version": 3
   },
   "file_extension": ".py",
   "mimetype": "text/x-python",
   "name": "python",
   "nbconvert_exporter": "python",
   "pygments_lexer": "ipython3",
   "version": "3.12.0"
  }
 },
 "nbformat": 4,
 "nbformat_minor": 5
}
