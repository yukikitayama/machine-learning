{
 "cells": [
  {
   "cell_type": "markdown",
   "id": "94e489ef",
   "metadata": {},
   "source": [
    "# Python String Questions"
   ]
  },
  {
   "cell_type": "markdown",
   "id": "85f0423d",
   "metadata": {},
   "source": [
    "## Permutation palindrome\n",
    "\n",
    "Given a string str, write a function perm_palindrome to determine whether there exists a permutation of str that is a palindrome."
   ]
  },
  {
   "cell_type": "code",
   "execution_count": 3,
   "id": "77a06e3f",
   "metadata": {},
   "outputs": [
    {
     "name": "stdout",
     "output_type": "stream",
     "text": [
      "Counter({'c': 2, 'a': 2, 'r': 2, 'e': 1})\n",
      "True\n"
     ]
    }
   ],
   "source": [
    "\"\"\"\n",
    "Count characters\n",
    "all even, or all even except one odd\n",
    "\"\"\"\n",
    "\n",
    "def perm_palindrome(string):\n",
    "    \n",
    "    import collections\n",
    "    \n",
    "    counter = collections.Counter(string)\n",
    "    \n",
    "    odd = 0\n",
    "    \n",
    "    for k, v in counter.items():\n",
    "    \n",
    "        if v % 2 != 0:\n",
    "            odd += 1\n",
    "            \n",
    "            if odd == 2:\n",
    "                return False\n",
    "    \n",
    "    return True\n",
    "\n",
    "\n",
    "string = 'carerac'\n",
    "print(perm_palindrome(string))"
   ]
  }
 ],
 "metadata": {
  "kernelspec": {
   "display_name": "env-machine-learning",
   "language": "python",
   "name": "env-machine-learning"
  },
  "language_info": {
   "codemirror_mode": {
    "name": "ipython",
    "version": 3
   },
   "file_extension": ".py",
   "mimetype": "text/x-python",
   "name": "python",
   "nbconvert_exporter": "python",
   "pygments_lexer": "ipython3",
   "version": "3.9.5"
  }
 },
 "nbformat": 4,
 "nbformat_minor": 5
}
