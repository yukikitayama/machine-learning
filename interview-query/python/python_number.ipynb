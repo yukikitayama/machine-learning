{
 "cells": [
  {
   "cell_type": "markdown",
   "id": "46b74f5c",
   "metadata": {},
   "source": [
    "# Number Questions"
   ]
  },
  {
   "cell_type": "markdown",
   "id": "c6a453ea",
   "metadata": {},
   "source": [
    "## Sum to zero\n",
    "\n",
    "You are given a list of integers called numbers. Write a function to return any subset of numbers where the elements sum to zero and that does not contain the number 0.\n",
    "\n",
    "If there are no combinations of elements that sum to zero, return an empty list."
   ]
  },
  {
   "cell_type": "code",
   "execution_count": 2,
   "id": "98b47e21",
   "metadata": {
    "scrolled": true
   },
   "outputs": [
    {
     "name": "stdout",
     "output_type": "stream",
     "text": [
      "[1, -1]\n"
     ]
    }
   ],
   "source": [
    "def zero_sum(numbers):\n",
    "\n",
    "    import itertools\n",
    "    \n",
    "    # Remove 0s\n",
    "    nums = [number for number in numbers if number != 0]\n",
    "    \n",
    "    for i in range(2, len(nums) + 1):\n",
    "        for combination in itertools.combinations(nums, i):\n",
    "            if sum(combination) == 0:\n",
    "                return list(combination)\n",
    "    \n",
    "    return []\n",
    "\n",
    "\n",
    "numbers = [0,0,1,3,6,-4,-1]\n",
    "print(zero_sum(numbers))"
   ]
  },
  {
   "cell_type": "markdown",
   "id": "eb47ccbb",
   "metadata": {},
   "source": [
    "## Nxn grid traversal\n",
    "\n",
    "Given an integer nn, write a function traverse_count to determine the number of paths from the top left corner of an n\\times nn×n grid to the bottom right. You may only move right or down."
   ]
  },
  {
   "cell_type": "code",
   "execution_count": 10,
   "id": "35246f38",
   "metadata": {},
   "outputs": [
    {
     "name": "stdout",
     "output_type": "stream",
     "text": [
      "2\n",
      "6\n"
     ]
    }
   ],
   "source": [
    "def traverse_count(n):\n",
    "    \n",
    "    dp = [[1] * n for _ in range(n)]\n",
    "\n",
    "    for r in range(1, len(dp)):\n",
    "        for c in range(1, len(dp[0])):\n",
    "                        \n",
    "            dp[r][c] = dp[r - 1][c] + dp[r][c - 1]\n",
    "\n",
    "    # [print(row) for row in dp]\n",
    "    \n",
    "    return dp[-1][-1]\n",
    "\n",
    "\n",
    "n = 2\n",
    "print(traverse_count(n))\n",
    "n = 3\n",
    "print(traverse_count(n))"
   ]
  },
  {
   "cell_type": "markdown",
   "id": "b918c322",
   "metadata": {},
   "source": [
    "## Nightly job\n",
    "\n",
    "Every night between 7 pm and midnight, two computing jobs from two different sources are randomly started with each one lasting an hour.\n",
    "\n",
    "Unfortunately, when the jobs simultaneously run, they cause a failure in some of the company’s other nightly jobs, resulting in downtime for the company that costs $1000. \n",
    "\n",
    "The CEO, who has enough time today to hear one word, needs a single number representing the annual (365 days) cost of this problem.\n",
    "\n",
    "Note: Write a function to simulate this problem and output an estimated cost \n",
    "\n",
    "Bonus - How would you solve this using probability?"
   ]
  },
  {
   "cell_type": "code",
   "execution_count": 51,
   "id": "3ef00afe",
   "metadata": {},
   "outputs": [
    {
     "name": "stdout",
     "output_type": "stream",
     "text": [
      "132130.0\n"
     ]
    }
   ],
   "source": [
    "def simulate_overlap(n=1000):\n",
    "    \n",
    "    import random\n",
    "    \n",
    "    overlaps = []\n",
    "    \n",
    "    for _ in range(n):\n",
    "        \n",
    "        # End is included\n",
    "        start_first = random.randint(0, 300)\n",
    "        start_second = random.randint(0, 300)\n",
    "        \n",
    "        overlap = 0\n",
    "        if (\n",
    "            start_first < start_second and start_second <= start_first + 60\n",
    "            or start_second < start_first and start_first <= start_second + 60\n",
    "        ):\n",
    "            overlap = 1\n",
    "        overlaps.append(overlap)\n",
    "    \n",
    "    prob_overlap = sum(overlaps) / len(overlaps)\n",
    "    return prob_overlap * 365 * 1000\n",
    "\n",
    "\n",
    "ans = simulate_overlap()\n",
    "print(ans)"
   ]
  },
  {
   "cell_type": "markdown",
   "id": "eaf83a8f",
   "metadata": {},
   "source": [
    "## Greatest common denominator\n",
    "\n",
    "Given a list of integers, write a function gcd to find the greatest common denominator between them."
   ]
  },
  {
   "cell_type": "code",
   "execution_count": 1,
   "id": "b0a05896",
   "metadata": {},
   "outputs": [
    {
     "name": "stdout",
     "output_type": "stream",
     "text": [
      "8\n"
     ]
    }
   ],
   "source": [
    "def gcd(numbers):\n",
    "    \n",
    "    # https://en.wikipedia.org/wiki/Greatest_common_divisor#Euclidean_algorithm\n",
    "    def euclidean_algorithm(a, b):\n",
    "        \n",
    "        # Stop when remainder is 0\n",
    "        while b:\n",
    "            remainder = a % b\n",
    "            a = b\n",
    "            b = remainder\n",
    "            \n",
    "        return a\n",
    "    \n",
    "    ans = numbers[0]\n",
    "    \n",
    "    for number in numbers[1:]:\n",
    "        \n",
    "        ans = euclidean_algorithm(ans, number)\n",
    "    \n",
    "    return ans\n",
    "\n",
    "\n",
    "numbers = [8, 16, 24]\n",
    "print(gcd(numbers))"
   ]
  },
  {
   "cell_type": "markdown",
   "id": "52cc940b",
   "metadata": {},
   "source": [
    "## 5th Largest Number\n",
    "\n",
    "You’re given numlists, a list where each element is a list of at least five numbers.\n",
    "\n",
    "Write a function list_fifths that returns a list of the fifth-largest number from each element in numlists. Return the list in ascending order."
   ]
  },
  {
   "cell_type": "code",
   "execution_count": 2,
   "id": "bd0ca6e5",
   "metadata": {},
   "outputs": [
    {
     "data": {
      "text/plain": [
       "[1, 1, 3, 55.2]"
      ]
     },
     "execution_count": 2,
     "metadata": {},
     "output_type": "execute_result"
    }
   ],
   "source": [
    "def list_fifths(numlists):\n",
    "    \n",
    "    ans = []\n",
    "    \n",
    "    for i in range(len(numlists)):\n",
    "        nums = numlists[i]\n",
    "        nums.sort(reverse=True)\n",
    "        ans.append(nums[4])\n",
    "        \n",
    "    ans.sort()\n",
    "    \n",
    "    return ans\n",
    "\n",
    "\n",
    "numlists = [ [1,2,3,4,5], [3,1,2,5,4], [1,2,3,4,5,6,7], \n",
    "[99, 320, 400, 100.25, 55.2, 0.1] ]\n",
    "list_fifths(numlists)"
   ]
  },
  {
   "cell_type": "markdown",
   "id": "6d802e41",
   "metadata": {},
   "source": [
    "## Minimum change\n",
    "\n",
    "Write a function find_change to find the minimum number of coins that make up the given amount of change cents. Assume we only have coins of value 1, 5, 10, and 25 cents."
   ]
  },
  {
   "cell_type": "code",
   "execution_count": 3,
   "id": "9784bc4b",
   "metadata": {},
   "outputs": [
    {
     "data": {
      "text/plain": [
       "7"
      ]
     },
     "execution_count": 3,
     "metadata": {},
     "output_type": "execute_result"
    }
   ],
   "source": [
    "def minimum_change(cents):\n",
    "    \n",
    "    ans = 0\n",
    "    \n",
    "    # print(f'cents: {cents}, ans: {ans}')\n",
    "    \n",
    "    while cents > 0:\n",
    "        \n",
    "        if cents > 25:\n",
    "            q, r = divmod(cents, 25)\n",
    "        elif cents > 10:\n",
    "            q, r = divmod(cents, 10)\n",
    "        elif cents > 5:\n",
    "            q, r = divmod(cents, 5)\n",
    "        else:\n",
    "            q, r = divmod(cents, 1)\n",
    "        \n",
    "        ans += q\n",
    "        cents = r\n",
    "        \n",
    "        # print(f'cents: {cents}, ans: {ans}')\n",
    "        \n",
    "    return ans\n",
    "\n",
    "\n",
    "minimum_change(73)"
   ]
  },
  {
   "cell_type": "markdown",
   "id": "d7013bd7-a795-4b55-8b61-895be296a305",
   "metadata": {},
   "source": [
    "## Simulating coin tosses"
   ]
  },
  {
   "cell_type": "code",
   "execution_count": 1,
   "id": "4501042c-6c9c-4674-8169-80c9a69892f2",
   "metadata": {},
   "outputs": [
    {
     "data": {
      "text/plain": [
       "['T', 'T', 'H', 'H', 'H']"
      ]
     },
     "execution_count": 1,
     "metadata": {},
     "output_type": "execute_result"
    }
   ],
   "source": [
    "import random\n",
    "\n",
    "\n",
    "def coin_toss(tosses, probability_of_heads):\n",
    "    ans = []\n",
    "\n",
    "    for _ in range(tosses):\n",
    "\n",
    "        if random.random() < 0.6:\n",
    "            ans.append(\"H\")\n",
    "        else:\n",
    "            ans.append(\"T\")\n",
    "\n",
    "    return ans\n",
    "\n",
    "\n",
    "tosses = 5\n",
    "probability_of_heads = 0.6\n",
    "\n",
    "coin_toss(tosses, probability_of_heads)"
   ]
  },
  {
   "cell_type": "markdown",
   "id": "697e59bd-3d88-4aa7-bb6a-23cf55a6fa25",
   "metadata": {},
   "source": [
    "## Sum of matrix elements"
   ]
  },
  {
   "cell_type": "code",
   "execution_count": 1,
   "id": "c210f786-706c-49c1-99e3-30efac670960",
   "metadata": {},
   "outputs": [
    {
     "data": {
      "text/plain": [
       "45"
      ]
     },
     "execution_count": 1,
     "metadata": {},
     "output_type": "execute_result"
    }
   ],
   "source": [
    "def matrix_sum(matrix):\n",
    "    ans = 0\n",
    "    for row in matrix:\n",
    "        ans += sum(row)\n",
    "    return ans\n",
    "\n",
    "\n",
    "matrix = [[1, 2, 3], [4, 5, 6], [7, 8, 9]]\n",
    "matrix_sum(matrix)"
   ]
  }
 ],
 "metadata": {
  "kernelspec": {
   "display_name": "Python 3 (ipykernel)",
   "language": "python",
   "name": "python3"
  },
  "language_info": {
   "codemirror_mode": {
    "name": "ipython",
    "version": 3
   },
   "file_extension": ".py",
   "mimetype": "text/x-python",
   "name": "python",
   "nbconvert_exporter": "python",
   "pygments_lexer": "ipython3",
   "version": "3.12.0"
  }
 },
 "nbformat": 4,
 "nbformat_minor": 5
}
