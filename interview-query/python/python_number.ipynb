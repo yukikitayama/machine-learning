{
 "cells": [
  {
   "cell_type": "markdown",
   "id": "46b74f5c",
   "metadata": {},
   "source": [
    "# Number Questions"
   ]
  },
  {
   "cell_type": "markdown",
   "id": "c6a453ea",
   "metadata": {},
   "source": [
    "## Sum to zero\n",
    "\n",
    "You are given a list of integers called numbers. Write a function to return any subset of numbers where the elements sum to zero and that does not contain the number 0.\n",
    "\n",
    "If there are no combinations of elements that sum to zero, return an empty list."
   ]
  },
  {
   "cell_type": "code",
   "execution_count": 2,
   "id": "98b47e21",
   "metadata": {
    "scrolled": true
   },
   "outputs": [
    {
     "name": "stdout",
     "output_type": "stream",
     "text": [
      "[1, -1]\n"
     ]
    }
   ],
   "source": [
    "def zero_sum(numbers):\n",
    "\n",
    "    import itertools\n",
    "    \n",
    "    # Remove 0s\n",
    "    nums = [number for number in numbers if number != 0]\n",
    "    \n",
    "    for i in range(2, len(nums) + 1):\n",
    "        for combination in itertools.combinations(nums, i):\n",
    "            if sum(combination) == 0:\n",
    "                return list(combination)\n",
    "    \n",
    "    return []\n",
    "\n",
    "\n",
    "numbers = [0,0,1,3,6,-4,-1]\n",
    "print(zero_sum(numbers))"
   ]
  },
  {
   "cell_type": "markdown",
   "id": "eb47ccbb",
   "metadata": {},
   "source": [
    "## Nxn grid traversal\n",
    "\n",
    "Given an integer nn, write a function traverse_count to determine the number of paths from the top left corner of an n\\times nn×n grid to the bottom right. You may only move right or down."
   ]
  },
  {
   "cell_type": "code",
   "execution_count": 10,
   "id": "35246f38",
   "metadata": {},
   "outputs": [
    {
     "name": "stdout",
     "output_type": "stream",
     "text": [
      "2\n",
      "6\n"
     ]
    }
   ],
   "source": [
    "def traverse_count(n):\n",
    "    \n",
    "    dp = [[1] * n for _ in range(n)]\n",
    "\n",
    "    for r in range(1, len(dp)):\n",
    "        for c in range(1, len(dp[0])):\n",
    "                        \n",
    "            dp[r][c] = dp[r - 1][c] + dp[r][c - 1]\n",
    "\n",
    "    # [print(row) for row in dp]\n",
    "    \n",
    "    return dp[-1][-1]\n",
    "\n",
    "\n",
    "n = 2\n",
    "print(traverse_count(n))\n",
    "n = 3\n",
    "print(traverse_count(n))"
   ]
  }
 ],
 "metadata": {
  "kernelspec": {
   "display_name": "env-machine-learning",
   "language": "python",
   "name": "env-machine-learning"
  },
  "language_info": {
   "codemirror_mode": {
    "name": "ipython",
    "version": 3
   },
   "file_extension": ".py",
   "mimetype": "text/x-python",
   "name": "python",
   "nbconvert_exporter": "python",
   "pygments_lexer": "ipython3",
   "version": "3.9.5"
  }
 },
 "nbformat": 4,
 "nbformat_minor": 5
}
