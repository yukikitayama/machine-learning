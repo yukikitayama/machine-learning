{
 "cells": [
  {
   "cell_type": "markdown",
   "id": "ca7ab3b3-d86e-47dc-b852-a3d352af411e",
   "metadata": {},
   "source": [
    "## Text editor with OOP\n",
    "\n",
    "https://www.interviewquery.com/questions/text-editor-with-oop"
   ]
  },
  {
   "cell_type": "code",
   "execution_count": 21,
   "id": "5730b500-acc9-443f-bd86-f941bc8344c3",
   "metadata": {},
   "outputs": [
    {
     "name": "stdout",
     "output_type": "stream",
     "text": [
      "\n",
      "hello\n",
      "hellohello\n",
      "hellohe\n",
      "\n",
      "hello\n",
      "hello\n",
      "\n",
      "\n",
      "hello\n",
      "hello\n",
      "worldhello\n"
     ]
    }
   ],
   "source": [
    "class text_editor:\n",
    "    def __init__(self):\n",
    "        self.text = \"\"\n",
    "        self.cursor_at_end = True\n",
    "    \n",
    "    def write_line(self, string: str):\n",
    "        if self.cursor_at_end:\n",
    "            self.text += string\n",
    "        else:\n",
    "            self.text = string + self.text\n",
    "    \n",
    "    def delete_line(self, char_num: int):\n",
    "        if char_num < len(self.text):\n",
    "            self.text = self.text[:-char_num]\n",
    "        else:\n",
    "            self.text = \"\"\n",
    "    \n",
    "    def special_operation(self):\n",
    "        pass\n",
    "\n",
    "    def get_notes(self):\n",
    "        return self.text\n",
    "\n",
    "\n",
    "class moving_text_editor(text_editor):\n",
    "    def __init__(self):\n",
    "        super().__init__()\n",
    "    \n",
    "    def special_operation(self):\n",
    "        self.cursor_at_end = not self.cursor_at_end\n",
    "\n",
    "\n",
    "class smart_text_editor(text_editor):\n",
    "    def __init__(self):\n",
    "        super().__init__()\n",
    "        self.history = []\n",
    "\n",
    "    def write_line(self, string: str):\n",
    "        self.history.append(self.text)\n",
    "        super().write_line(string)\n",
    "\n",
    "    def delete_line(self, char_num: int):\n",
    "        self.history.append(self.text)\n",
    "        super().delete_line(char_num)\n",
    "    \n",
    "    def special_operation(self):\n",
    "        if self.history:\n",
    "            self.text = self.history.pop()\n",
    "        \n",
    "\n",
    "td = text_editor()\n",
    "print(td.text)\n",
    "td.write_line(\"hello\")\n",
    "print(td.text)\n",
    "td.write_line(\"hello\")\n",
    "print(td.text)\n",
    "td.delete_line(3)\n",
    "print(td.text)\n",
    "td.delete_line(20)\n",
    "print(td.text)\n",
    "td.write_line(\"hello\")\n",
    "print(td.text)\n",
    "print(td.get_notes())\n",
    "\n",
    "print()\n",
    "\n",
    "mte = moving_text_editor()\n",
    "print(mte.text)\n",
    "mte.write_line(\"hello\")\n",
    "print(mte.text)\n",
    "mte.special_operation()\n",
    "print(mte.text)\n",
    "mte.write_line(\"world\")\n",
    "print(mte.text)\n"
   ]
  }
 ],
 "metadata": {
  "kernelspec": {
   "display_name": "Python 3 (ipykernel)",
   "language": "python",
   "name": "python3"
  },
  "language_info": {
   "codemirror_mode": {
    "name": "ipython",
    "version": 3
   },
   "file_extension": ".py",
   "mimetype": "text/x-python",
   "name": "python",
   "nbconvert_exporter": "python",
   "pygments_lexer": "ipython3",
   "version": "3.12.0"
  }
 },
 "nbformat": 4,
 "nbformat_minor": 5
}
