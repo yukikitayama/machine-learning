{
 "cells": [
  {
   "cell_type": "markdown",
   "id": "3ce8e09a-17cc-49f1-bab7-1db41c9ba67f",
   "metadata": {},
   "source": [
    "## Last element of a singly linked list \n",
    "\n",
    "### Question\n",
    "\n",
    "You are given a singly linked list, write a function to find and return the last node of the list. If the list is empty, return null."
   ]
  },
  {
   "cell_type": "code",
   "execution_count": null,
   "id": "f79f1c88-5554-42f8-a520-79e790b2d431",
   "metadata": {},
   "outputs": [],
   "source": [
    "def get_last_node(head):\n",
    "    if not head:\n",
    "        return None\n",
    "    \n",
    "    curr = head\n",
    "    while curr[\"next\"]:\n",
    "        curr = curr[\"next\"]\n",
    "\n",
    "    return curr"
   ]
  }
 ],
 "metadata": {
  "kernelspec": {
   "display_name": "Python 3 (ipykernel)",
   "language": "python",
   "name": "python3"
  },
  "language_info": {
   "codemirror_mode": {
    "name": "ipython",
    "version": 3
   },
   "file_extension": ".py",
   "mimetype": "text/x-python",
   "name": "python",
   "nbconvert_exporter": "python",
   "pygments_lexer": "ipython3",
   "version": "3.12.0"
  }
 },
 "nbformat": 4,
 "nbformat_minor": 5
}
