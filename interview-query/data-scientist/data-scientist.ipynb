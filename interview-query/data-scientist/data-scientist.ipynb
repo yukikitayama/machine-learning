{
 "cells": [
  {
   "cell_type": "markdown",
   "id": "1b67970c-312b-4ca3-aaa9-6968cb078c9a",
   "metadata": {},
   "source": [
    "## Mouse search\n",
    "\n",
    "### Question\n",
    "\n",
    "We have 4x4 grid and we know that one of the cells has a mouse. We wanna figure out which cell the mouse is in, but we are only able to scan the grid to know whether a subset of the grid contains a mouse or not, but this scan won't tell us which cell the mouse is exactly in. How would we find which cell the mouse is in with the fewest number of scans?\n",
    "\n",
    "### Answer\n",
    "\n",
    "If we use a brute force search, it will take O(N).\n",
    "\n",
    "If we use a binary search, it will take O(logN). The way to use a binary search in this problem is, we will repeatedly divide the grid in half, and ask which half contains a mouse. Then we will divide the half containing a mouse into another half and ask which half contains a mouse. By narrowing down the search space, we can reduce the number of scans."
   ]
  }
 ],
 "metadata": {
  "kernelspec": {
   "display_name": "Python 3 (ipykernel)",
   "language": "python",
   "name": "python3"
  },
  "language_info": {
   "codemirror_mode": {
    "name": "ipython",
    "version": 3
   },
   "file_extension": ".py",
   "mimetype": "text/x-python",
   "name": "python",
   "nbconvert_exporter": "python",
   "pygments_lexer": "ipython3",
   "version": "3.12.0"
  }
 },
 "nbformat": 4,
 "nbformat_minor": 5
}
