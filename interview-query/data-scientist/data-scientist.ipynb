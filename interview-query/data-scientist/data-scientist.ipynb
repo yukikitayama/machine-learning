{
 "cells": [
  {
   "cell_type": "markdown",
   "id": "1b67970c-312b-4ca3-aaa9-6968cb078c9a",
   "metadata": {},
   "source": [
    "## Mouse search\n",
    "\n",
    "### Question\n",
    "\n",
    "We have 4x4 grid and we know that one of the cells has a mouse. We wanna figure out which cell the mouse is in, but we are only able to scan the grid to know whether a subset of the grid contains a mouse or not, but this scan won't tell us which cell the mouse is exactly in. How would we find which cell the mouse is in with the fewest number of scans?\n",
    "\n",
    "### Answer\n",
    "\n",
    "If we use a brute force search, it will take O(N).\n",
    "\n",
    "If we use a binary search, it will take O(logN). The way to use a binary search in this problem is, we will repeatedly divide the grid in half, and ask which half contains a mouse. Then we will divide the half containing a mouse into another half and ask which half contains a mouse. By narrowing down the search space, we can reduce the number of scans."
   ]
  },
  {
   "cell_type": "markdown",
   "id": "362ebcf2-3f83-42ad-932e-1d6a2bc3e53a",
   "metadata": {},
   "source": [
    "## Email blast\n",
    "\n",
    "### Question\n",
    "\n",
    "You are a data scientist working on the marketing team of a B2B SAAS business. We are nearing the end of a quarter and are missing revenue expectations by 10%. An executive asks the email marketing person to send out a huge email blast to your entire customer list asking them to buy more products. Is this a good idea? Why or why not?\n",
    "\n",
    "### Answer\n",
    "\n",
    "Revenue targets for SAAS business are measured by the total amount of recurring revenue earned. The source of the revenue can be broken down into new customers, existing customers and churned customers. I assume that the email of the question will go to the existing customers.\n",
    "\n",
    "If we want to increase revenue from the existing customers, we need to sell more products, or upgrade their existing products to a higher level. This can be additional licenses, new product lines, more expensive version of the existing products.\n",
    "\n",
    "If the email doesn't have customized targeting, it would potentially cause the customers to unsubsibe the email or reduce their email open rate, so the mass email approach could degrade the performance of emails in future.\n",
    "\n",
    "If we create a specific content catered to the right customer groups, it could be effective. We can measure this effectiveness by click-through rate in the links in the email. For example, we can analyze the customers who are more inclined to buy additional products or related products, customers who are reaching lincense limit, products which are commonly bought together, upgrade opportunity of the existing customer product based on their customer lifecycle."
   ]
  },
  {
   "cell_type": "markdown",
   "id": "6736c9e5-c2f6-4a2a-bafe-59f4242baf80",
   "metadata": {},
   "source": [
    "## Decreasing comments\n",
    "\n",
    "### Question\n",
    "\n",
    "You work for a social media company. It launched a new service in a new city. But you see a slow decrease in the average number of comments per user from January to March in this city by weekly metrics. But the company has been consistently growing new users in the city from January to March. What would be reasons why the average number of comments per user would be secreasing and what metrics would you look into?\n",
    "\n",
    "### Answer\n",
    "\n",
    "For example, in Jan, we have 10 users and they made 30 comments. It has 3 comments/user. In Feb, we have 20 users, and they made 50 comments. It has 2.5 comments/user. In Mar, we have 30 users, and they made 60 comments. It has 2 comments/user. This is the example of descreasing comments/user even if the user base is increasing.\n"
   ]
  },
  {
   "cell_type": "markdown",
   "id": "15c2682a-3860-4469-80f7-a9449693706c",
   "metadata": {},
   "source": [
    "## Dasher payment structure\n",
    "\n",
    "### Question\n",
    "\n",
    "### Answer\n",
    "\n",
    "With a new payment structure, if unit price is small, we pay more to driver, but if unit price is large, we pay less"
   ]
  },
  {
   "cell_type": "code",
   "execution_count": null,
   "id": "3dea35c3-15ee-4dd1-9e81-b2cad170b8e7",
   "metadata": {},
   "outputs": [],
   "source": [
    "n = 5\n",
    "p = 10"
   ]
  },
  {
   "cell_type": "code",
   "execution_count": 5,
   "id": "803dc25d-6daa-4009-b387-1c4fc0f63acf",
   "metadata": {},
   "outputs": [
    {
     "name": "stdout",
     "output_type": "stream",
     "text": [
      "2.5\n",
      "51.25\n",
      "250.0\n",
      "175.0\n"
     ]
    }
   ],
   "source": [
    "p = 10\n",
    "n = 5\n",
    "d = 0.05\n",
    "\n",
    "print(p * d * n)\n",
    "\n",
    "p = 10\n",
    "n = 5\n",
    "d = 0.025\n",
    "\n",
    "print(p * d * n + 50)\n",
    "\n",
    "p = 1000\n",
    "n = 5\n",
    "d = 0.05\n",
    "\n",
    "print(p * d * n)\n",
    "\n",
    "p = 1000\n",
    "n = 5\n",
    "d = 0.025\n",
    "\n",
    "print(p * d * n + 50)"
   ]
  }
 ],
 "metadata": {
  "kernelspec": {
   "display_name": "Python 3 (ipykernel)",
   "language": "python",
   "name": "python3"
  },
  "language_info": {
   "codemirror_mode": {
    "name": "ipython",
    "version": 3
   },
   "file_extension": ".py",
   "mimetype": "text/x-python",
   "name": "python",
   "nbconvert_exporter": "python",
   "pygments_lexer": "ipython3",
   "version": "3.12.0"
  }
 },
 "nbformat": 4,
 "nbformat_minor": 5
}
