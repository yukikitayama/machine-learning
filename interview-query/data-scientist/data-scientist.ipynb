{
 "cells": [
  {
   "cell_type": "markdown",
   "id": "1b67970c-312b-4ca3-aaa9-6968cb078c9a",
   "metadata": {},
   "source": [
    "## Mouse search\n",
    "\n",
    "### Question\n",
    "\n",
    "We have 4x4 grid and we know that one of the cells has a mouse. We wanna figure out which cell the mouse is in, but we are only able to scan the grid to know whether a subset of the grid contains a mouse or not, but this scan won't tell us which cell the mouse is exactly in. How would we find which cell the mouse is in with the fewest number of scans?\n",
    "\n",
    "### Answer\n",
    "\n",
    "If we use a brute force search, it will take O(N).\n",
    "\n",
    "If we use a binary search, it will take O(logN). The way to use a binary search in this problem is, we will repeatedly divide the grid in half, and ask which half contains a mouse. Then we will divide the half containing a mouse into another half and ask which half contains a mouse. By narrowing down the search space, we can reduce the number of scans."
   ]
  },
  {
   "cell_type": "markdown",
   "id": "362ebcf2-3f83-42ad-932e-1d6a2bc3e53a",
   "metadata": {},
   "source": [
    "## Email blast\n",
    "\n",
    "### Question\n",
    "\n",
    "You are a data scientist working on the marketing team of a B2B SAAS business. We are nearing the end of a quarter and are missing revenue expectations by 10%. An executive asks the email marketing person to send out a huge email blast to your entire customer list asking them to buy more products. Is this a good idea? Why or why not?\n",
    "\n",
    "### Answer\n",
    "\n",
    "Revenue targets for SAAS business are measured by the total amount of recurring revenue earned. The source of the revenue can be broken down into new customers, existing customers and churned customers. I assume that the email of the question will go to the existing customers.\n",
    "\n",
    "If we want to increase revenue from the existing customers, we need to sell more products, or upgrade their existing products to a higher level. This can be additional licenses, new product lines, more expensive version of the existing products.\n",
    "\n",
    "If the email doesn't have customized targeting, it would potentially cause the customers to unsubsibe the email or reduce their email open rate, so the mass email approach could degrade the performance of emails in future.\n",
    "\n",
    "If we create a specific content catered to the right customer groups, it could be effective. We can measure this effectiveness by click-through rate in the links in the email. For example, we can analyze the customers who are more inclined to buy additional products or related products, customers who are reaching lincense limit, products which are commonly bought together, upgrade opportunity of the existing customer product based on their customer lifecycle."
   ]
  }
 ],
 "metadata": {
  "kernelspec": {
   "display_name": "Python 3 (ipykernel)",
   "language": "python",
   "name": "python3"
  },
  "language_info": {
   "codemirror_mode": {
    "name": "ipython",
    "version": 3
   },
   "file_extension": ".py",
   "mimetype": "text/x-python",
   "name": "python",
   "nbconvert_exporter": "python",
   "pygments_lexer": "ipython3",
   "version": "3.12.0"
  }
 },
 "nbformat": 4,
 "nbformat_minor": 5
}
