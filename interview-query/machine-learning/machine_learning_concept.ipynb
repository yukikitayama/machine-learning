{
 "cells": [
  {
   "cell_type": "markdown",
   "id": "98bcf7f9-acd7-4e0d-82c0-a0a654265876",
   "metadata": {},
   "source": [
    "# Concept\n",
    "\n",
    "## Machine learning lifecycle\n",
    "\n",
    "- Data exploration and pre-processing\n",
    "- Feature selection and feature engineering\n",
    "- Model selection\n",
    "- Cross validation\n",
    "- Evaluation metrics\n",
    "- Testing and roll out"
   ]
  },
  {
   "cell_type": "markdown",
   "id": "f2b6836a-5c50-4bb1-8233-dfcd6d4ccf66",
   "metadata": {},
   "source": [
    "## Case study framework\n",
    "\n",
    "Clarify the following questions before building a model.\n",
    "- Why would we want to build this model?\n",
    "- What is the model is being used for?\n",
    "- How would the model be integrated into the product?\n",
    "- How does the model addect the business?\n",
    "- How much do we care about model accuracy?\n",
    "- Are we building a new model or improving upon an existing one?\n",
    "- Is it out of scope or not whether the user behavior based on the effect of the model output?\n",
    "- What exists in our dataset to build this model?\n",
    "\n",
    "## Data pre-processing\n",
    "\n",
    "- Check outliers\n",
    "- Check class imbalance of a target variable if the problem is classification\n",
    "  - What are the costs of misclassification\n",
    "- Check skewed data in target variable or feature variables.\n",
    "- Check missing data in the target variable or faeture variables\n",
    "  -  Do we impute ro completely dekete the data points, depending on the problem."
   ]
  },
  {
   "cell_type": "markdown",
   "id": "8321a68e-66d7-467c-965e-c30100dcd9c5",
   "metadata": {},
   "source": [
    "## Feature selection\n",
    "\n",
    "What we need to consider in feature selection phase is\n",
    "- Brainstorm the available and related features\n",
    "- Variable transformation\n",
    "- Is PCA necessary to remove correlated features and reduce dimension? But it will lose interpretability\n",
    "- Is binning (Bucketizing) continuous feature necessary? Useful for data visualization and model interpretability."
   ]
  },
  {
   "cell_type": "markdown",
   "id": "cf35b3c0-65a2-4660-82bb-b9d8e6def980",
   "metadata": {},
   "source": [
    "## Model selection\n",
    "\n",
    "It's important to prioritize what the business needs in its machine learning technical requirements against the tradeoffs.\n",
    "\n",
    "### Explainability\n",
    "\n",
    "### Categorical vs numerical features\n",
    "\n",
    "Tree based models will handle categorical variables better than linear models, while linear models cannot directly handle categorical variables, as they must be one-hot encoded.\n",
    "\n",
    "### Linearity\n",
    "\n",
    "If the data follows a linear relationship, linear regression, logistic regression and SVM are a good model\n",
    "\n",
    "### Training speed\n",
    "\n",
    "Linear regression and logistic regression are faster to train. Random forecast is fast if trained in a parallel fashion. But neural network tend to be slow to train. It depends on if the problem requires a constant model update with the frequent data update.\n",
    "\n",
    "### Prediction speed and performance\n",
    "\n",
    "For example, in Uber estimated time of arrival prediction, a user wants a ETA as fast as possible, otherwite they will close the app.\n",
    "\n",
    "Linear model tends to be fast at prediction.\n",
    "\n",
    "KNN, ensemble, deep learning models tend to be slow."
   ]
  }
 ],
 "metadata": {
  "kernelspec": {
   "display_name": "Python 3 (ipykernel)",
   "language": "python",
   "name": "python3"
  },
  "language_info": {
   "codemirror_mode": {
    "name": "ipython",
    "version": 3
   },
   "file_extension": ".py",
   "mimetype": "text/x-python",
   "name": "python",
   "nbconvert_exporter": "python",
   "pygments_lexer": "ipython3",
   "version": "3.12.0"
  }
 },
 "nbformat": 4,
 "nbformat_minor": 5
}
