{
 "cells": [
  {
   "cell_type": "markdown",
   "id": "09498b55",
   "metadata": {},
   "source": [
    "# Probability"
   ]
  },
  {
   "cell_type": "markdown",
   "id": "97b6bb0f",
   "metadata": {},
   "source": [
    "## Biased five out of six\n",
    "\n",
    "### Question\n",
    "\n",
    "We have a biased coin that comes up heads 30% of the time. What is the probability of the coin landing as heads exactly 5 times out of 6 tosses?\n",
    "\n",
    "### Answer\n",
    "\n",
    "Use **binomial distribution**. $n$ independent experiments and $p$ probability of success. \n",
    "\n",
    "$$\n",
    "P(X = k) = nCk \\times p^k \\times (1 - p)^{n - k}\n",
    "$$\n",
    "\n",
    "$$\n",
    "nCk = \\frac{n!}{k! (n - k!)}\n",
    "$$\n",
    "\n",
    "The formula with the data will be\n",
    "\n",
    "$$\n",
    "P(X = 5) = 6C5 \\times 0.3^{5} \\times 0.7^{1}\n",
    "$$\n",
    "$$\n",
    "= \\frac{6!}{5!1!} \\times 0.3^{5} \\times 0.7^{1}\n",
    "$$\n",
    "$$\n",
    "= 6 \\times 0.3^{5} \\times 0.7^{1}\n",
    "$$\n",
    "$$\n",
    "= 0.0102\n",
    "$$\n",
    "\n",
    "So the probability is about 1%."
   ]
  },
  {
   "cell_type": "code",
   "execution_count": 4,
   "id": "e81178ea",
   "metadata": {},
   "outputs": [
    {
     "name": "stdout",
     "output_type": "stream",
     "text": [
      "0.010205999999999996\n"
     ]
    }
   ],
   "source": [
    "import math\n",
    "\n",
    "n = 6\n",
    "k = 5\n",
    "p = 0.3\n",
    "\n",
    "ans = math.comb(n, k) * (p ** k) * ((1 - p) ** (n - k))\n",
    "print(ans)"
   ]
  }
 ],
 "metadata": {
  "kernelspec": {
   "display_name": "env-machine-learning",
   "language": "python",
   "name": "env-machine-learning"
  },
  "language_info": {
   "codemirror_mode": {
    "name": "ipython",
    "version": 3
   },
   "file_extension": ".py",
   "mimetype": "text/x-python",
   "name": "python",
   "nbconvert_exporter": "python",
   "pygments_lexer": "ipython3",
   "version": "3.9.5"
  }
 },
 "nbformat": 4,
 "nbformat_minor": 5
}
