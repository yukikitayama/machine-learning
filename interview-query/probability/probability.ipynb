{
 "cells": [
  {
   "cell_type": "markdown",
   "id": "09498b55",
   "metadata": {},
   "source": [
    "# Probability"
   ]
  },
  {
   "cell_type": "markdown",
   "id": "97b6bb0f",
   "metadata": {},
   "source": [
    "## Biased five out of six\n",
    "\n",
    "### Question\n",
    "\n",
    "We have a biased coin that comes up heads 30% of the time. What is the probability of the coin landing as heads exactly 5 times out of 6 tosses?\n",
    "\n",
    "### Answer\n",
    "\n",
    "Use **binomial distribution**. $n$ independent experiments and $p$ probability of success. \n",
    "\n",
    "$$\n",
    "P(X = k) = nCk \\times p^k \\times (1 - p)^{n - k}\n",
    "$$\n",
    "\n",
    "$$\n",
    "nCk = \\frac{n!}{k! (n - k!)}\n",
    "$$\n",
    "\n",
    "The formula with the data will be\n",
    "\n",
    "$$\n",
    "P(X = 5) = 6C5 \\times 0.3^{5} \\times 0.7^{1}\n",
    "$$\n",
    "$$\n",
    "= \\frac{6!}{5!1!} \\times 0.3^{5} \\times 0.7^{1}\n",
    "$$\n",
    "$$\n",
    "= 6 \\times 0.3^{5} \\times 0.7^{1}\n",
    "$$\n",
    "$$\n",
    "= 0.0102\n",
    "$$\n",
    "\n",
    "So the probability is about 1%."
   ]
  },
  {
   "cell_type": "code",
   "execution_count": 4,
   "id": "e81178ea",
   "metadata": {},
   "outputs": [
    {
     "name": "stdout",
     "output_type": "stream",
     "text": [
      "0.010205999999999996\n"
     ]
    }
   ],
   "source": [
    "import math\n",
    "\n",
    "n = 6\n",
    "k = 5\n",
    "p = 0.3\n",
    "\n",
    "ans = math.comb(n, k) * (p ** k) * ((1 - p) ** (n - k))\n",
    "print(ans)"
   ]
  },
  {
   "cell_type": "markdown",
   "id": "30860c61",
   "metadata": {},
   "source": [
    "## Drawing random variable\n",
    "\n",
    "### Question\n",
    "\n",
    "You’re drawing from a random variable that is normally distributed X∼N(0,1)  once per day.\n",
    "\n",
    "What is the expected number of days that it takes to draw a value that’s higher that 2?\n",
    "\n",
    "### Answer\n",
    "\n",
    "To simplify, we think that 95% of a normal distribution falls within +/- 2 standard deviations of the mean. Because we have standard normal distribution, the probability of getting a number above 2 is 2.5% by (1 - 95%) / 2.\n",
    "\n",
    "We are gonna have a sequence of trial days, and each trial has only two possible outcomes; higher than 2 or not. So this is **geometric distribution** with probability p = 0.025. The expected value for the number of independent trials to get the first success is,\n",
    "\n",
    "$$\n",
    "E(X) = \\frac{1}{p}\n",
    "$$\n",
    "\n",
    "So the expected number of days that it takes to draw a value that is higher than 2 is,\n",
    "\n",
    "$$\n",
    "E(X) = \\frac{1}{0.025}\n",
    "$$\n",
    "$$\n",
    "= 40\n",
    "$$\n",
    "\n",
    "About 40 days.\n",
    "\n",
    "### Reference\n",
    "\n",
    "- [Expected Number of Trials until Success](https://www.geeksforgeeks.org/expected-number-of-trials-before-success/)\n",
    "- [Geometric distribution](https://en.wikipedia.org/wiki/Geometric_distribution)"
   ]
  },
  {
   "cell_type": "code",
   "execution_count": 1,
   "id": "ca6118fb",
   "metadata": {},
   "outputs": [
    {
     "data": {
      "text/plain": [
       "40.0"
      ]
     },
     "execution_count": 1,
     "metadata": {},
     "output_type": "execute_result"
    }
   ],
   "source": [
    "1 / 0.025"
   ]
  },
  {
   "cell_type": "markdown",
   "id": "2ee3f853-882d-4229-902f-21b9737569ff",
   "metadata": {},
   "source": [
    "## Second ace\n",
    "\n",
    "### Question\n",
    "\n",
    "Let’s say you have to draw two cards from a shuffled deck, one at a time. What’s the probability that the second card is not an Ace?\n",
    "\n",
    "### Answer\n",
    "\n",
    "I would like to compute the probability of getting an Ace at the second card, and subtract this probability from 1, to get the probability that the second card is not an Ace.\n",
    "\n",
    "To get an Ace at the second card, we have 2 scenarios; 1. getting an ace at the first card and get an ace again at the second card. 2. And not getting an ace at the first card, but get an ace at the second card.\n",
    "\n",
    "Below is the computation for each scenario. Long story short, we have 92.3% probability that the second card is not an Ace."
   ]
  },
  {
   "cell_type": "code",
   "execution_count": 1,
   "id": "fc6f9508-a6db-452a-ac16-d969a5a0cadd",
   "metadata": {},
   "outputs": [
    {
     "data": {
      "text/plain": [
       "0.004524886877828055"
      ]
     },
     "execution_count": 1,
     "metadata": {},
     "output_type": "execute_result"
    }
   ],
   "source": [
    "# First scenario\n",
    "(4 / (13 * 4)) * (3 / (13 * 3 + 12))"
   ]
  },
  {
   "cell_type": "code",
   "execution_count": 3,
   "id": "a54b5f0e-ef80-4860-90ce-c9de40c360c0",
   "metadata": {},
   "outputs": [
    {
     "data": {
      "text/plain": [
       "0.07239819004524888"
      ]
     },
     "execution_count": 3,
     "metadata": {},
     "output_type": "execute_result"
    }
   ],
   "source": [
    "# Second scenario\n",
    "((13 * 4 - 4) / (13 * 4)) * (4 / (13 * 3 + 12))"
   ]
  },
  {
   "cell_type": "code",
   "execution_count": 7,
   "id": "ff5406e5-50f3-484b-b43f-a0f42a459a20",
   "metadata": {},
   "outputs": [
    {
     "data": {
      "text/plain": [
       "0.9230769230769231"
      ]
     },
     "execution_count": 7,
     "metadata": {},
     "output_type": "execute_result"
    }
   ],
   "source": [
    "# 1 minus the probability of getting an Ace at the second card draw gives us the probability that the second card is not an Ace.\n",
    "1 - ((4 / (13 * 4)) * (3 / (13 * 3 + 12)) + ((13 * 4 - 4) / (13 * 4)) * (4 / (13 * 3 + 12)))"
   ]
  },
  {
   "cell_type": "markdown",
   "id": "09a451d1-7243-4e67-ac01-cf6c32a61a10",
   "metadata": {},
   "source": [
    "## Profit-maximizing dice game\n",
    "\n",
    "### Question\n",
    "\n",
    "You’re playing casino dice game. You roll a die once. If you reroll, you earn the amount equal to the number on your second roll otherwise, you earn the amount equal to the number on your first roll. Assuming you adopt a profit-maximizing strategy, what would be the expected amount of money you would win?\n",
    "\n",
    "### Answer\n",
    "\n",
    "Let's find how much we can get by single dice roll by expected value\n",
    "\n",
    "$$\n",
    "\\frac{1 + 2 + 3 + 4 + 5 + 6}{6} = 3.5\n",
    "$$\n",
    "\n",
    "So when the first dice roll gives us 1, 2, or 3, we should roll the second dice, because it's lower than expected value 3.5. In the second dice roll, we will have the same expected value 3.5\n",
    "\n",
    "But if you get 4, 5, or 6 in the first roll, we don't need to roll the second dice. In this case, the expected value is,\n",
    "\n",
    "$$\n",
    "\\frac{4 + 5 + 6}{3} = 5\n",
    "$$\n",
    "\n",
    "So if we get 1, 2, or 3 in the first dice roll, we roll the second dice, and our profit is the expected value 3.5. If we get 4, 5, or 6 in the first dice roll, our profit is the expected value 5. So to get the overall expected value,\n",
    "\n",
    "$$\n",
    "\\frac{3.5 + 5}{2} = 4.25\n",
    "$$\n",
    "\n",
    "The expected amount of money we would win is 4.25"
   ]
  },
  {
   "cell_type": "code",
   "execution_count": 4,
   "id": "ba59cd23-b874-4981-98a8-e87cff588d72",
   "metadata": {},
   "outputs": [
    {
     "data": {
      "text/plain": [
       "3.5"
      ]
     },
     "execution_count": 4,
     "metadata": {},
     "output_type": "execute_result"
    }
   ],
   "source": [
    "(1 + 2 + 3 + 4 + 5 + 6) / 6"
   ]
  },
  {
   "cell_type": "code",
   "execution_count": 5,
   "id": "82fad18f-358e-4458-9bd4-05d809073e11",
   "metadata": {},
   "outputs": [
    {
     "data": {
      "text/plain": [
       "5.0"
      ]
     },
     "execution_count": 5,
     "metadata": {},
     "output_type": "execute_result"
    }
   ],
   "source": [
    "(4 + 5 + 6) / 3"
   ]
  },
  {
   "cell_type": "code",
   "execution_count": 6,
   "id": "79d8b249-293a-4896-ba08-514491115e8d",
   "metadata": {},
   "outputs": [
    {
     "data": {
      "text/plain": [
       "4.25"
      ]
     },
     "execution_count": 6,
     "metadata": {},
     "output_type": "execute_result"
    }
   ],
   "source": [
    "(3.5 + 5) / 2"
   ]
  },
  {
   "cell_type": "markdown",
   "id": "4010d2f5-8768-4270-92a4-2a51eed168ba",
   "metadata": {},
   "source": [
    "## Marble bucket\n",
    "\n",
    "### Question\n",
    "\n",
    "We have two buckets full of marbles. There are 30 red marbles and 10 black marbles in Bucket #1 and 20 red and 20 Black marbles in Bucket #2. Your friend secretly pulls a marble from one of the two buckets and shows you that the marble is red. What is the probability that it was pulled from Bucket #1? Let’s say your friend puts the marble back in and now picks two marbles. She draws one marble, puts it back in the same bucket, then draws a second. They both happen to be red. What is the probability that they both came from Bucket #1?\n",
    "\n",
    "### Answer\n",
    "\n",
    "b1\n",
    "30 / (30 + 10)\n",
    "\n",
    "b2\n",
    "20 / (20 + 20)\n",
    "\n",
    "We wanna know\n",
    "\n",
    "$$\n",
    "P(B1 | R)\n",
    "$$\n",
    "\n",
    "Bayes theorem says\n",
    "\n",
    "$$\n",
    "P(A | B) = \\frac{P(B | A)P(A)}{P(B)}\n",
    "$$\n",
    "\n",
    "So we have the following formula.\n",
    "\n",
    "$$\n",
    "P(B1 | R) = \\frac{P(R | B1)P(B1)}{P(R)}\n",
    "$$\n",
    "\n",
    "$P(B1) = \\frac{1}{2}$ because we only have 2 choices with no condition to pick.\n",
    "\n",
    "$P(R)$ is computed by total red marbles divided by total marbles.\n",
    "\n",
    "$$\n",
    "P(R) = \\frac{30 + 20}{30 + 10 + 20 + 20} = \\frac{50}{80} = \\frac{5}{8}\n",
    "$$\n",
    "\n",
    "$P(R | B1) = \\frac{30}{30 + 10} = \\frac{3}{4}$\n",
    "\n",
    "So by bayes theorem, $P(B1 | R)$ is\n",
    "\n",
    "$$\n",
    "P(B1 | R) = \\frac{P(R | B1)P(B1)}{P(R)}\n",
    "$$\n",
    "\n",
    "$$\n",
    "= \\frac{ \\frac{3}{4} \\frac{1}{2} }{ \\frac{5}{8} }\n",
    "$$\n",
    "\n",
    "$$\n",
    "= 0.6\n",
    "$$\n",
    "\n",
    "So we have 60% probability that the red marble was pulled from bucket #1.\n",
    "\n",
    "Our friend pulled twice, but each draw is independent. So we simply multiply the probability by the same amount to get the probability that 2 red marbles came from bucket #1\n",
    "\n",
    "$$\n",
    "0.6 \\times 0.6 = 0.36\n",
    "$$\n",
    "\n",
    "We have 36% probability that 2 red marbles came from bucket #1."
   ]
  },
  {
   "cell_type": "code",
   "execution_count": 7,
   "id": "aa98452e-9043-4ebe-9924-b09eccef7898",
   "metadata": {},
   "outputs": [
    {
     "data": {
      "text/plain": [
       "0.6"
      ]
     },
     "execution_count": 7,
     "metadata": {},
     "output_type": "execute_result"
    }
   ],
   "source": [
    "((3/4) * (1/2)) / (5/8)"
   ]
  },
  {
   "cell_type": "code",
   "execution_count": 9,
   "id": "0076953e-efdc-41d6-b4a1-577e78539f0a",
   "metadata": {},
   "outputs": [
    {
     "data": {
      "text/plain": [
       "0.36"
      ]
     },
     "execution_count": 9,
     "metadata": {},
     "output_type": "execute_result"
    }
   ],
   "source": [
    "0.6 ** 2"
   ]
  },
  {
   "cell_type": "code",
   "execution_count": 10,
   "id": "3e5a0558-1f6e-4721-9520-77d4654b8787",
   "metadata": {},
   "outputs": [
    {
     "data": {
      "text/plain": [
       "0.36"
      ]
     },
     "execution_count": 10,
     "metadata": {},
     "output_type": "execute_result"
    }
   ],
   "source": [
    "9 / 25"
   ]
  },
  {
   "cell_type": "markdown",
   "id": "7fa4364e-4b15-46f7-929f-aa3aa27a5192",
   "metadata": {},
   "source": [
    "## Expected churn\n",
    "\n",
    "### Question\n",
    "\n",
    "Let’s say you’re trying to calculate churn for a subscription product.\n",
    "\n",
    "You noticed that of all customers that bought subscriptions in January 2020, about 10% of them canceled their membership before their next cycle on February 1st.  \n",
    "\n",
    "If you assume that your new customer acquisition is uniform throughout each month and that customer churn goes down by 20% month over month, what’s the expected churn rate in March for all customers that bought the product since January 1st?\n",
    "\n",
    "### Answer\n",
    "\n",
    "Churn rate is the annual percentage rate at which customers stop subscribing to a service or employees leave a job.\n",
    "\n",
    "Let $x$ denote the number of customers who subscribe each month.\n",
    "\n",
    "We get $x$ customers in January. 10% of the customers churn, so on February 1st, we have $(1 - 0.1)x = 0.9x$ customers. The customer churn rate goes down by 20% every month, so the churn rate in February for the customer who subscribe in January is $0.1 * (1 - 0.2) = 0.08$. So on March 1st, for the January customer, we have $(1 - 0.1) \\times (1 - 0.08) \\times x = 0.9 \\times 0.92 \\times x = 0.828x$\n",
    "\n",
    "In February, we have new $x$ customers who subscribes and 0.1 churn, so at the beginning of March, we have $(1 - 0.1)x = 0.9x$\n",
    "\n",
    "So the expected rate of customer retention is\n",
    "\n",
    "$$\n",
    "\\frac{0.828x + 0.9x}{2x} = \\frac{1.728}{2} = 0.864\n",
    "$$\n",
    "\n",
    "So the expected churn rate is $1 - 0.864 = 0.136$\n",
    "\n",
    "If we suppose the number of monthly new subscription is 100 and use this number to do all the computations above, it's easy to understand."
   ]
  },
  {
   "cell_type": "code",
   "execution_count": 9,
   "id": "f4823709-cc0f-4d41-b884-386053f059db",
   "metadata": {},
   "outputs": [
    {
     "data": {
      "text/plain": [
       "0.8280000000000001"
      ]
     },
     "execution_count": 9,
     "metadata": {},
     "output_type": "execute_result"
    }
   ],
   "source": [
    "0.9 * 0.92"
   ]
  },
  {
   "cell_type": "code",
   "execution_count": 12,
   "id": "6cb63596-091e-453f-b7c0-1a5ca4e551c8",
   "metadata": {},
   "outputs": [
    {
     "data": {
      "text/plain": [
       "0.136"
      ]
     },
     "execution_count": 12,
     "metadata": {},
     "output_type": "execute_result"
    }
   ],
   "source": [
    "1 - ((0.828 + 0.9) / 2)"
   ]
  },
  {
   "cell_type": "markdown",
   "id": "da4476d5-df5b-45ba-85f8-5430cd7fe55a",
   "metadata": {},
   "source": [
    "## Different card\n",
    "\n",
    "### Question\n",
    "\n",
    "Pull two cards, one at a time, from a deck of cards without replacement. What is the probability that the second card is a different color or different suit from the first card?\n",
    "\n",
    "### Answer\n",
    "\n",
    "1st way to solve this is to use the formula $P(\\text{A or B}) = P(A) + P(B) - P(\\text{A and B})$. For a diffrent color, after the first draw, we have 51 cards and we have $13 \\times 2$ cards of different color from the first draw, so it's $\\frac{26}{51}$. For a different suit, after the first draw, we have 51 cards and we have $13 \\times 3$ cards of different suit from the first draw, so it's $\\frac{39}{51}$. For a different color and suit, at the second draw, we have 51 cards, and $13 \\times 2$ cards of different color and suit. For example, if we had Ace in the first draw, we can have Spade or Clover at the second draw. So it's $\\frac{26}{51}$. In conclusion,\n",
    "\n",
    "$$\n",
    "P(\\text{A or B}) = P(A) + P(B) - P(\\text{A and B})\n",
    "$$\n",
    "\n",
    "$$\n",
    "= \\frac{26}{51} + \\frac{39}{51} - \\frac{26}{51}\n",
    "$$\n",
    "\n",
    "$$\n",
    "= \\frac{39}{51}\n",
    "$$\n",
    "\n",
    "2nd way to solve is to use the complementary event. Find probability of having same color and same suit at the second draw. If we subtract this probability from 1, we can get the probability of different color or suit. At the second draw, we have 51 cards remaining and 12 cards to choose from the same suit, so it's $\\frac{12}{51}$. In conclusion,\n",
    "\n",
    "$$\n",
    "1 - \\frac{12}{51} = \\frac{39}{51}\n",
    "$$"
   ]
  },
  {
   "cell_type": "code",
   "execution_count": 1,
   "id": "d9a838c2-9adf-4e6b-a5bd-9031464a2ffb",
   "metadata": {},
   "outputs": [
    {
     "data": {
      "text/plain": [
       "39"
      ]
     },
     "execution_count": 1,
     "metadata": {},
     "output_type": "execute_result"
    }
   ],
   "source": [
    "51 - 12"
   ]
  }
 ],
 "metadata": {
  "kernelspec": {
   "display_name": "Python 3 (ipykernel)",
   "language": "python",
   "name": "python3"
  },
  "language_info": {
   "codemirror_mode": {
    "name": "ipython",
    "version": 3
   },
   "file_extension": ".py",
   "mimetype": "text/x-python",
   "name": "python",
   "nbconvert_exporter": "python",
   "pygments_lexer": "ipython3",
   "version": "3.12.0"
  }
 },
 "nbformat": 4,
 "nbformat_minor": 5
}
