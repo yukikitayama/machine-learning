{
 "cells": [
  {
   "cell_type": "markdown",
   "id": "09498b55",
   "metadata": {},
   "source": [
    "# Probability"
   ]
  },
  {
   "cell_type": "markdown",
   "id": "97b6bb0f",
   "metadata": {},
   "source": [
    "## Biased five out of six\n",
    "\n",
    "### Question\n",
    "\n",
    "We have a biased coin that comes up heads 30% of the time. What is the probability of the coin landing as heads exactly 5 times out of 6 tosses?\n",
    "\n",
    "### Answer\n",
    "\n",
    "Use **binomial distribution**. $n$ independent experiments and $p$ probability of success. \n",
    "\n",
    "$$\n",
    "P(X = k) = nCk \\times p^k \\times (1 - p)^{n - k}\n",
    "$$\n",
    "\n",
    "$$\n",
    "nCk = \\frac{n!}{k! (n - k!)}\n",
    "$$\n",
    "\n",
    "The formula with the data will be\n",
    "\n",
    "$$\n",
    "P(X = 5) = 6C5 \\times 0.3^{5} \\times 0.7^{1}\n",
    "$$\n",
    "$$\n",
    "= \\frac{6!}{5!1!} \\times 0.3^{5} \\times 0.7^{1}\n",
    "$$\n",
    "$$\n",
    "= 6 \\times 0.3^{5} \\times 0.7^{1}\n",
    "$$\n",
    "$$\n",
    "= 0.0102\n",
    "$$\n",
    "\n",
    "So the probability is about 1%."
   ]
  },
  {
   "cell_type": "code",
   "execution_count": 4,
   "id": "e81178ea",
   "metadata": {},
   "outputs": [
    {
     "name": "stdout",
     "output_type": "stream",
     "text": [
      "0.010205999999999996\n"
     ]
    }
   ],
   "source": [
    "import math\n",
    "\n",
    "n = 6\n",
    "k = 5\n",
    "p = 0.3\n",
    "\n",
    "ans = math.comb(n, k) * (p ** k) * ((1 - p) ** (n - k))\n",
    "print(ans)"
   ]
  },
  {
   "cell_type": "markdown",
   "id": "30860c61",
   "metadata": {},
   "source": [
    "## Drawing random variable\n",
    "\n",
    "### Question\n",
    "\n",
    "You’re drawing from a random variable that is normally distributed X∼N(0,1)  once per day.\n",
    "\n",
    "What is the expected number of days that it takes to draw a value that’s higher that 2?\n",
    "\n",
    "### Answer\n",
    "\n",
    "To simplify, we think that 95% of a normal distribution falls within +/- 2 standard deviations of the mean. Because we have standard normal distribution, the probability of getting a number above 2 is 2.5% by (1 - 95%) / 2.\n",
    "\n",
    "We are gonna have a sequence of trial days, and each trial has only two possible outcomes; higher than 2 or not. So this is **geometric distribution** with probability p = 0.025. The expected value for the number of independent trials to get the first success is,\n",
    "\n",
    "$$\n",
    "E(X) = \\frac{1}{p}\n",
    "$$\n",
    "\n",
    "So the expected number of days that it takes to draw a value that is higher than 2 is,\n",
    "\n",
    "$$\n",
    "E(X) = \\frac{1}{0.025}\n",
    "$$\n",
    "$$\n",
    "= 40\n",
    "$$\n",
    "\n",
    "About 40 days."
   ]
  },
  {
   "cell_type": "code",
   "execution_count": 1,
   "id": "ca6118fb",
   "metadata": {},
   "outputs": [
    {
     "data": {
      "text/plain": [
       "40.0"
      ]
     },
     "execution_count": 1,
     "metadata": {},
     "output_type": "execute_result"
    }
   ],
   "source": [
    "1 / 0.025"
   ]
  }
 ],
 "metadata": {
  "kernelspec": {
   "display_name": "env-machine-learning",
   "language": "python",
   "name": "env-machine-learning"
  },
  "language_info": {
   "codemirror_mode": {
    "name": "ipython",
    "version": 3
   },
   "file_extension": ".py",
   "mimetype": "text/x-python",
   "name": "python",
   "nbconvert_exporter": "python",
   "pygments_lexer": "ipython3",
   "version": "3.9.5"
  }
 },
 "nbformat": 4,
 "nbformat_minor": 5
}
