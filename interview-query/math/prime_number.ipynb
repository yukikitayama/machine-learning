{
 "cells": [
  {
   "cell_type": "markdown",
   "id": "d0d0f588",
   "metadata": {},
   "source": [
    "# Prime Number"
   ]
  },
  {
   "cell_type": "markdown",
   "id": "abca6422",
   "metadata": {},
   "source": [
    "## Prime to N\n",
    "\n",
    "Given an integer N, write a function that returns a list of all of the prime numbers up to N. Return an empty list if there are no prime numbers less than or equal to N.\n",
    "\n",
    "**Prime number** is an integer that is **greater than 1** (starting from 2), and the numbers that divide the prime numbers is 1 and prime number itself."
   ]
  },
  {
   "cell_type": "code",
   "execution_count": 3,
   "id": "ad0e8d1c",
   "metadata": {},
   "outputs": [
    {
     "data": {
      "text/plain": [
       "[2, 3]"
      ]
     },
     "execution_count": 3,
     "metadata": {},
     "output_type": "execute_result"
    }
   ],
   "source": [
    "def prime_numbers(N):\n",
    "    \n",
    "    ans = []\n",
    "\n",
    "    if N < 2:\n",
    "        return ans\n",
    "    \n",
    "    for i in range(2, N + 1):\n",
    "        \n",
    "        is_prime = True\n",
    "        \n",
    "        for j in range(2, i):\n",
    "            \n",
    "            # If we find other number can divide the number, \n",
    "            # it's not a prime number\n",
    "            if i % j == 0:\n",
    "                \n",
    "                is_prime = False\n",
    "                \n",
    "        if is_prime:\n",
    "            ans.append(i)\n",
    "    \n",
    "    return ans\n",
    "\n",
    "\n",
    "N = 3\n",
    "prime_numbers(N)"
   ]
  },
  {
   "cell_type": "markdown",
   "id": "9a6becef",
   "metadata": {},
   "source": [
    "3 optimizations\n",
    "\n",
    "1. $6n \\pm 1$\n",
    "\n",
    "Except 2 and 3, all the prime numbers have the form of $6n \\pm 1$, where $n$ is a positive integer. So if a prime number is greater than 3, $p$ is prime number\n",
    "\n",
    "$$\n",
    "p \\text{ mod } 6 = 1\n",
    "$$\n",
    "\n",
    "Or\n",
    "\n",
    "$$\n",
    "p \\text{ mod } 6 = 5\n",
    "$$\n",
    "\n",
    "Once we see a number which doesn't satisfy the above, we conclude a current number isn't a prime number so stop a for loop.\n",
    "\n",
    "2. Skip even numbers\n",
    "\n",
    "Except 2, all other even numbers are not a prime number, because it can be divided by 2. We can only iterate odd numbers in a for loop, so the for loop starts with 3 and step is 2, like {3, 5, 7, ...}\n",
    "\n",
    "3. Square root of composite number\n",
    "\n",
    "If c is not a prime number, it's a composite number so $c = a \\cdot b$, and $c = \\sqrt{c} \\cdot \\sqrt{c}$, so at least one of $a$ or $b$ is less than or equal to $\\sqrt{c}$, so we don't need to iterate until $c$, but just until $\\sqrt{c}$."
   ]
  },
  {
   "cell_type": "code",
   "execution_count": 14,
   "id": "1e0a8020",
   "metadata": {},
   "outputs": [
    {
     "name": "stdout",
     "output_type": "stream",
     "text": [
      "[2, 3]\n",
      "[2, 3, 5, 7]\n",
      "[2, 3, 5, 7, 11, 13, 17, 19, 23, 29, 31, 37, 41, 43, 47, 53, 59, 61, 67, 71, 73, 79, 83, 89, 97]\n"
     ]
    }
   ],
   "source": [
    "def prime_numbers(N):\n",
    "    \n",
    "    ans = []\n",
    "    \n",
    "    if N > 1:\n",
    "        ans.append(2)\n",
    "    if N > 2:\n",
    "        ans.append(3)\n",
    "    if N > 4:\n",
    "        \n",
    "        for i in range(4, N + 1):\n",
    "            \n",
    "            is_prime = True\n",
    "            \n",
    "            # N >= 3, prime number is either 6n + 1 or 6n - 1\n",
    "            if i % 6 == 1 or i % 6 == 5:\n",
    "                \n",
    "                # range(3, _, 2) to check only odd\n",
    "                # int(pow(i, 1/2)) because we only need until sqrt(c)\n",
    "                for j in range(3, int(pow(i, 1/2)) + 1, 2):\n",
    "                    \n",
    "                    # If there are other numbers except 1 and prime number which can divide,\n",
    "                    # it's not a prime number\n",
    "                    if i % j == 0:\n",
    "                        is_prime = False\n",
    "                        break\n",
    "                \n",
    "            else:\n",
    "                is_prime = False\n",
    "        \n",
    "            if is_prime:\n",
    "                ans.append(i)\n",
    "\n",
    "    return ans\n",
    "\n",
    "\n",
    "print(prime_numbers(3))\n",
    "print(prime_numbers(7))\n",
    "print(prime_numbers(97))"
   ]
  },
  {
   "cell_type": "markdown",
   "id": "72796131",
   "metadata": {},
   "source": [
    "## Resource\n",
    "\n",
    "- [Prime number](https://en.wikipedia.org/wiki/Prime_number)"
   ]
  }
 ],
 "metadata": {
  "kernelspec": {
   "display_name": "env-machine-learning",
   "language": "python",
   "name": "env-machine-learning"
  },
  "language_info": {
   "codemirror_mode": {
    "name": "ipython",
    "version": 3
   },
   "file_extension": ".py",
   "mimetype": "text/x-python",
   "name": "python",
   "nbconvert_exporter": "python",
   "pygments_lexer": "ipython3",
   "version": "3.9.5"
  }
 },
 "nbformat": 4,
 "nbformat_minor": 5
}
