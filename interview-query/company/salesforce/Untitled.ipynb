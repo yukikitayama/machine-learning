{
 "cells": [
  {
   "cell_type": "markdown",
   "id": "f5f26ac9-6534-42df-b377-f13aa284fcf8",
   "metadata": {},
   "source": [
    "# Salesforce"
   ]
  },
  {
   "cell_type": "markdown",
   "id": "cea1bf12-290f-433d-a296-52b69a0093b2",
   "metadata": {},
   "source": [
    "## Weighted keys\n",
    "\n",
    "Given a dictionary with weights, write a function that returns a key at random with a probability proportional to the weights"
   ]
  },
  {
   "cell_type": "code",
   "execution_count": 22,
   "id": "87ee313d-ac50-4d23-b9b4-51bf5f8bc778",
   "metadata": {},
   "outputs": [
    {
     "data": {
      "text/plain": [
       "'B'"
      ]
     },
     "execution_count": 22,
     "metadata": {},
     "output_type": "execute_result"
    }
   ],
   "source": [
    "def random_key(weights):\n",
    "    import random\n",
    "    \n",
    "    keys = []    \n",
    "    for k in weights:\n",
    "        for _ in range(weights[k]):\n",
    "            keys.append(k)\n",
    "\n",
    "    # keys = [k for k in weights for _ in range(weights[k])]\n",
    "\n",
    "    return random.choice(keys)\n",
    "\n",
    "\n",
    "weights = {\"A\": 1, \"B\": 2}\n",
    "random_key(weights)"
   ]
  },
  {
   "cell_type": "markdown",
   "id": "2d27ca3a-7dfb-4015-b8fc-2fced44dc6df",
   "metadata": {},
   "source": [
    "## Xgboost vs Random Forest\n",
    "\n",
    "### Question\n",
    "\n",
    "Explain the difference between the XGBoost and random forest algorithms and give an example where you would use one over the other.\n",
    "\n",
    "### Answer\n",
    "\n"
   ]
  }
 ],
 "metadata": {
  "kernelspec": {
   "display_name": "Python 3 (ipykernel)",
   "language": "python",
   "name": "python3"
  },
  "language_info": {
   "codemirror_mode": {
    "name": "ipython",
    "version": 3
   },
   "file_extension": ".py",
   "mimetype": "text/x-python",
   "name": "python",
   "nbconvert_exporter": "python",
   "pygments_lexer": "ipython3",
   "version": "3.12.0"
  }
 },
 "nbformat": 4,
 "nbformat_minor": 5
}
