{
 "cells": [
  {
   "cell_type": "markdown",
   "id": "b7dcfa35",
   "metadata": {},
   "source": [
    "Select only the rows where the student’s favorite color is green or red and their grade is above 90"
   ]
  },
  {
   "cell_type": "code",
   "execution_count": 3,
   "id": "52485d51",
   "metadata": {},
   "outputs": [
    {
     "data": {
      "text/html": [
       "<div>\n",
       "<style scoped>\n",
       "    .dataframe tbody tr th:only-of-type {\n",
       "        vertical-align: middle;\n",
       "    }\n",
       "\n",
       "    .dataframe tbody tr th {\n",
       "        vertical-align: top;\n",
       "    }\n",
       "\n",
       "    .dataframe thead th {\n",
       "        text-align: right;\n",
       "    }\n",
       "</style>\n",
       "<table border=\"1\" class=\"dataframe\">\n",
       "  <thead>\n",
       "    <tr style=\"text-align: right;\">\n",
       "      <th></th>\n",
       "      <th>name</th>\n",
       "      <th>age</th>\n",
       "      <th>favorite_color</th>\n",
       "      <th>grade</th>\n",
       "    </tr>\n",
       "  </thead>\n",
       "  <tbody>\n",
       "    <tr>\n",
       "      <th>0</th>\n",
       "      <td>a</td>\n",
       "      <td>19</td>\n",
       "      <td>red</td>\n",
       "      <td>91</td>\n",
       "    </tr>\n",
       "    <tr>\n",
       "      <th>4</th>\n",
       "      <td>e</td>\n",
       "      <td>23</td>\n",
       "      <td>green</td>\n",
       "      <td>93</td>\n",
       "    </tr>\n",
       "  </tbody>\n",
       "</table>\n",
       "</div>"
      ],
      "text/plain": [
       "  name  age favorite_color  grade\n",
       "0    a   19            red     91\n",
       "4    e   23          green     93"
      ]
     },
     "execution_count": 3,
     "metadata": {},
     "output_type": "execute_result"
    }
   ],
   "source": [
    "import pandas as pd\n",
    "pd.set_option('display.max_columns', None)\n",
    "pd.set_option('display.max_rows', None)\n",
    "pd.set_option('expand_frame_repr', False)\n",
    "\n",
    "students_df = pd.DataFrame(\n",
    "    data={\n",
    "        'name': ['Tim Voss', 'Nicole Johnson', 'Elsa Williams', 'John James', 'Catherine Jones'],\n",
    "        'age': [19, 20, 21, 20, 23],\n",
    "        'favorite_color': ['red', 'yellow', 'green', 'blue', 'green'],\n",
    "        'grade': [91, 95, 82, 75, 93]\n",
    "    }\n",
    ")\n",
    "\n",
    "\n",
    "def grades_colors(students_df: pd.DataFrame):\n",
    "    df = students_df.loc[\n",
    "        (students_df['favorite_color'].isin(['green', 'red']))\n",
    "        & (students_df['grade'] > 90)\n",
    "    ]\n",
    "    return df\n",
    "\n",
    "\n",
    "grades_colors(students_df)"
   ]
  }
 ],
 "metadata": {
  "kernelspec": {
   "display_name": "env-machine-learning",
   "language": "python",
   "name": "env-machine-learning"
  },
  "language_info": {
   "codemirror_mode": {
    "name": "ipython",
    "version": 3
   },
   "file_extension": ".py",
   "mimetype": "text/x-python",
   "name": "python",
   "nbconvert_exporter": "python",
   "pygments_lexer": "ipython3",
   "version": "3.9.5"
  }
 },
 "nbformat": 4,
 "nbformat_minor": 5
}
