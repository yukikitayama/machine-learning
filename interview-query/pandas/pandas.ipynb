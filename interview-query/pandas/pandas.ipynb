{
 "cells": [
  {
   "cell_type": "markdown",
   "id": "b7dcfa35",
   "metadata": {},
   "source": [
    "Select only the rows where the student’s favorite color is green or red and their grade is above 90"
   ]
  },
  {
   "cell_type": "code",
   "execution_count": 3,
   "id": "52485d51",
   "metadata": {},
   "outputs": [
    {
     "data": {
      "text/html": [
       "<div>\n",
       "<style scoped>\n",
       "    .dataframe tbody tr th:only-of-type {\n",
       "        vertical-align: middle;\n",
       "    }\n",
       "\n",
       "    .dataframe tbody tr th {\n",
       "        vertical-align: top;\n",
       "    }\n",
       "\n",
       "    .dataframe thead th {\n",
       "        text-align: right;\n",
       "    }\n",
       "</style>\n",
       "<table border=\"1\" class=\"dataframe\">\n",
       "  <thead>\n",
       "    <tr style=\"text-align: right;\">\n",
       "      <th></th>\n",
       "      <th>name</th>\n",
       "      <th>age</th>\n",
       "      <th>favorite_color</th>\n",
       "      <th>grade</th>\n",
       "    </tr>\n",
       "  </thead>\n",
       "  <tbody>\n",
       "    <tr>\n",
       "      <th>0</th>\n",
       "      <td>a</td>\n",
       "      <td>19</td>\n",
       "      <td>red</td>\n",
       "      <td>91</td>\n",
       "    </tr>\n",
       "    <tr>\n",
       "      <th>4</th>\n",
       "      <td>e</td>\n",
       "      <td>23</td>\n",
       "      <td>green</td>\n",
       "      <td>93</td>\n",
       "    </tr>\n",
       "  </tbody>\n",
       "</table>\n",
       "</div>"
      ],
      "text/plain": [
       "  name  age favorite_color  grade\n",
       "0    a   19            red     91\n",
       "4    e   23          green     93"
      ]
     },
     "execution_count": 3,
     "metadata": {},
     "output_type": "execute_result"
    }
   ],
   "source": [
    "import pandas as pd\n",
    "pd.set_option('display.max_columns', None)\n",
    "pd.set_option('display.max_rows', None)\n",
    "pd.set_option('expand_frame_repr', False)\n",
    "\n",
    "students_df = pd.DataFrame(\n",
    "    data={\n",
    "        'name': ['Tim Voss', 'Nicole Johnson', 'Elsa Williams', 'John James', 'Catherine Jones'],\n",
    "        'age': [19, 20, 21, 20, 23],\n",
    "        'favorite_color': ['red', 'yellow', 'green', 'blue', 'green'],\n",
    "        'grade': [91, 95, 82, 75, 93]\n",
    "    }\n",
    ")\n",
    "\n",
    "\n",
    "def grades_colors(students_df: pd.DataFrame):\n",
    "    df = students_df.loc[\n",
    "        (students_df['favorite_color'].isin(['green', 'red']))\n",
    "        & (students_df['grade'] > 90)\n",
    "    ]\n",
    "    return df\n",
    "\n",
    "\n",
    "grades_colors(students_df)"
   ]
  },
  {
   "cell_type": "markdown",
   "id": "96aeb65f",
   "metadata": {},
   "source": [
    "## Over 100 dollars\n",
    "\n",
    "You’re given two dataframes: transactions and products.\n",
    "\n",
    "The transactions dataframe contains transaction ids, product ids, and the total amount of each product sold.\n",
    "\n",
    "The products dataframe contains product ids and prices.\n",
    "\n",
    "Write a function to return a dataframe containing every transaction with a total value of over \\$100$100. Include the total value of the transaction as a new column in the dataframe."
   ]
  },
  {
   "cell_type": "code",
   "execution_count": 4,
   "id": "7b9d60b8",
   "metadata": {},
   "outputs": [
    {
     "data": {
      "text/html": [
       "<div>\n",
       "<style scoped>\n",
       "    .dataframe tbody tr th:only-of-type {\n",
       "        vertical-align: middle;\n",
       "    }\n",
       "\n",
       "    .dataframe tbody tr th {\n",
       "        vertical-align: top;\n",
       "    }\n",
       "\n",
       "    .dataframe thead th {\n",
       "        text-align: right;\n",
       "    }\n",
       "</style>\n",
       "<table border=\"1\" class=\"dataframe\">\n",
       "  <thead>\n",
       "    <tr style=\"text-align: right;\">\n",
       "      <th></th>\n",
       "      <th>transaction_id</th>\n",
       "      <th>product_id</th>\n",
       "      <th>amount</th>\n",
       "      <th>total_value</th>\n",
       "    </tr>\n",
       "  </thead>\n",
       "  <tbody>\n",
       "    <tr>\n",
       "      <th>1</th>\n",
       "      <td>2</td>\n",
       "      <td>102</td>\n",
       "      <td>5</td>\n",
       "      <td>105.0</td>\n",
       "    </tr>\n",
       "    <tr>\n",
       "      <th>2</th>\n",
       "      <td>3</td>\n",
       "      <td>103</td>\n",
       "      <td>8</td>\n",
       "      <td>120.0</td>\n",
       "    </tr>\n",
       "    <tr>\n",
       "      <th>4</th>\n",
       "      <td>5</td>\n",
       "      <td>105</td>\n",
       "      <td>2</td>\n",
       "      <td>104.0</td>\n",
       "    </tr>\n",
       "  </tbody>\n",
       "</table>\n",
       "</div>"
      ],
      "text/plain": [
       "   transaction_id  product_id  amount  total_value\n",
       "1               2         102       5        105.0\n",
       "2               3         103       8        120.0\n",
       "4               5         105       2        104.0"
      ]
     },
     "execution_count": 4,
     "metadata": {},
     "output_type": "execute_result"
    }
   ],
   "source": [
    "import pandas as pd\n",
    "\n",
    "\n",
    "def transactions_over_100(df_transactions: pd.DataFrame, df_products: pd.DataFrame):\n",
    "    df_tmp = df_transactions.merge(\n",
    "        df_products, \n",
    "        how='left', \n",
    "        on='product_id'\n",
    "    )\n",
    "    df_tmp['total_value'] = df_tmp['price'] * df_tmp['amount']\n",
    "    df_tmp = df_tmp.loc[df_tmp['total_value'] > 100]\n",
    "    df_tmp = df_tmp[['transaction_id', 'product_id', 'amount', 'total_value']]\n",
    "    return df_tmp\n",
    "\n",
    "\n",
    "transactions = {\"transaction_id\" : [1, 2, 3, 4, 5], \"product_id\" : [101, 102, 103, 104, 105], \"amount\" : [3, 5, 8, 3, 2]}\n",
    "products = {\"product_id\" : [101, 102, 103, 104, 105], \"price\" : [20.00, 21.00, 15.00, 16.00, 52.00]}\n",
    "\n",
    "df_transactions = pd.DataFrame(transactions)\n",
    "df_products = pd.DataFrame(products)\n",
    "df_ans = transactions_over_100(df_transactions, df_products)\n",
    "\n",
    "df_ans"
   ]
  },
  {
   "cell_type": "markdown",
   "id": "5ef05bdb",
   "metadata": {},
   "source": [
    "## Rain on rainy days\n",
    "\n",
    "You’re given a dataframe df_rain containing rainfall data. The dataframe has two columns: day of the week and rainfall in inches.\n",
    "\n",
    "Write a function median_rainfall to find the median amount of rainfall for the days on which it rained.\n",
    "\n",
    "Note: You may assume it rained on at least one of the days."
   ]
  },
  {
   "cell_type": "code",
   "execution_count": 5,
   "id": "853a293a",
   "metadata": {},
   "outputs": [
    {
     "data": {
      "text/plain": [
       "1.0"
      ]
     },
     "execution_count": 5,
     "metadata": {},
     "output_type": "execute_result"
    }
   ],
   "source": [
    "import pandas as pd\n",
    "\n",
    "\n",
    "def median_rainfall(df_rain):\n",
    "    df_tmp = df_rain.loc[df_rain['Inches'] > 0]\n",
    "    return df_tmp['Inches'].median()\n",
    "\n",
    "\n",
    "rainfall = {\"Day\" : [\"Monday\", \"Tuesday\", \"Wednesday\", \"Thursday\", \"Friday\"], \"Inches\" : [0, 1.2, 0, 0.8, 1]}\n",
    "df_rain = pd.DataFrame(rainfall)\n",
    "median_rainfall(df_rain)"
   ]
  },
  {
   "cell_type": "markdown",
   "id": "a6473115",
   "metadata": {},
   "source": [
    "## Impute median\n",
    "\n",
    "You’re given a dataframe df_cheeses containing a list of the price of various cheeses from California. The dataframe has missing values in the price column.\n",
    "\n",
    "Write a function cheese_median to impute the median price of the selected California cheeses in place of the missing values. You may assume at least one cheese is not missing its price."
   ]
  },
  {
   "cell_type": "code",
   "execution_count": 2,
   "id": "ecbf12b9",
   "metadata": {},
   "outputs": [
    {
     "data": {
      "text/html": [
       "<div>\n",
       "<style scoped>\n",
       "    .dataframe tbody tr th:only-of-type {\n",
       "        vertical-align: middle;\n",
       "    }\n",
       "\n",
       "    .dataframe tbody tr th {\n",
       "        vertical-align: top;\n",
       "    }\n",
       "\n",
       "    .dataframe thead th {\n",
       "        text-align: right;\n",
       "    }\n",
       "</style>\n",
       "<table border=\"1\" class=\"dataframe\">\n",
       "  <thead>\n",
       "    <tr style=\"text-align: right;\">\n",
       "      <th></th>\n",
       "      <th>Name</th>\n",
       "      <th>Price</th>\n",
       "    </tr>\n",
       "  </thead>\n",
       "  <tbody>\n",
       "    <tr>\n",
       "      <th>0</th>\n",
       "      <td>Bohemian Goat</td>\n",
       "      <td>15.0</td>\n",
       "    </tr>\n",
       "    <tr>\n",
       "      <th>1</th>\n",
       "      <td>Central Coast Bleu</td>\n",
       "      <td>30.0</td>\n",
       "    </tr>\n",
       "    <tr>\n",
       "      <th>2</th>\n",
       "      <td>Cowgirl Mozzarella</td>\n",
       "      <td>30.0</td>\n",
       "    </tr>\n",
       "    <tr>\n",
       "      <th>3</th>\n",
       "      <td>Cypress Grove Cheddar</td>\n",
       "      <td>30.0</td>\n",
       "    </tr>\n",
       "    <tr>\n",
       "      <th>4</th>\n",
       "      <td>Oakdale Colby</td>\n",
       "      <td>45.0</td>\n",
       "    </tr>\n",
       "  </tbody>\n",
       "</table>\n",
       "</div>"
      ],
      "text/plain": [
       "                    Name  Price\n",
       "0          Bohemian Goat   15.0\n",
       "1     Central Coast Bleu   30.0\n",
       "2     Cowgirl Mozzarella   30.0\n",
       "3  Cypress Grove Cheddar   30.0\n",
       "4          Oakdale Colby   45.0"
      ]
     },
     "execution_count": 2,
     "metadata": {},
     "output_type": "execute_result"
    }
   ],
   "source": [
    "import pandas as pd\n",
    "\n",
    "\n",
    "def cheese_median(df):\n",
    "    \n",
    "    # m = df['Price'].median()\n",
    "    # df.loc[df['Price'].isna(), 'Price'] = m\n",
    "    \n",
    "    df['Price'] = df['Price'].fillna(df['Price'].median())\n",
    "    \n",
    "    return df\n",
    "\n",
    "\n",
    "\n",
    "cheeses = {\n",
    "    \"Name\": [\n",
    "        \"Bohemian Goat\", \n",
    "        \"Central Coast Bleu\", \n",
    "        \"Cowgirl Mozzarella\", \n",
    "        \"Cypress Grove Cheddar\", \n",
    "        \"Oakdale Colby\"\n",
    "    ], \n",
    "    \"Price\" : [15.00, None, 30.00, None, 45.00]\n",
    "}\n",
    "df_cheese = pd.DataFrame(cheeses)\n",
    "cheese_median(df_cheese)"
   ]
  },
  {
   "cell_type": "markdown",
   "id": "e0c1ba48",
   "metadata": {},
   "source": [
    "## t value via pandas\n",
    "\n",
    "You are given a dataframe with a single column, 'var'.\n",
    "\n",
    "Calculated the t-value for the mean of ‘var’ against a null hypothesis that μ = μ_0μ=μ \n",
    "0\n",
    "​\n",
    " .\n",
    "\n",
    "Note: You do not have to calculate the p-value of the test or run the test."
   ]
  },
  {
   "cell_type": "code",
   "execution_count": 5,
   "id": "ab8ea82d",
   "metadata": {},
   "outputs": [
    {
     "data": {
      "text/plain": [
       "-1.015614"
      ]
     },
     "execution_count": 5,
     "metadata": {},
     "output_type": "execute_result"
    }
   ],
   "source": [
    "import pandas as pd\n",
    "\n",
    "\n",
    "def t_score(mu0, df: pd.DataFrame):\n",
    "    \n",
    "    mean = df['var'].mean()\n",
    "    n = len(df)\n",
    "    s = df['var'].var()\n",
    "    \n",
    "    t = (mean - mu0) / (s / n) ** (1 / 2)\n",
    "    \n",
    "    return t\n",
    "\n",
    "\n",
    "mu0 = 1\n",
    "df = pd.DataFrame({\n",
    "    'var': [-34, 40, -89, 5, -26]\n",
    "})\n",
    "round(t_score(mu0, df), 6)"
   ]
  }
 ],
 "metadata": {
  "kernelspec": {
   "display_name": "env-machine-learning",
   "language": "python",
   "name": "env-machine-learning"
  },
  "language_info": {
   "codemirror_mode": {
    "name": "ipython",
    "version": 3
   },
   "file_extension": ".py",
   "mimetype": "text/x-python",
   "name": "python",
   "nbconvert_exporter": "python",
   "pygments_lexer": "ipython3",
   "version": "3.9.5"
  }
 },
 "nbformat": 4,
 "nbformat_minor": 5
}
