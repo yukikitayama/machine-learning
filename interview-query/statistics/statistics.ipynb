{
 "cells": [
  {
   "cell_type": "markdown",
   "id": "53f7155b",
   "metadata": {},
   "source": [
    "# Statistics"
   ]
  },
  {
   "cell_type": "markdown",
   "id": "f0f26dee",
   "metadata": {},
   "source": [
    "## Softmax vs Logistic\n",
    "\n",
    "### Question\n",
    "\n",
    "What are the logistic and softmax functions? What is the difference between the two? What makes them useful for use in logistic regression?\n",
    "\n",
    "### Answer\n",
    "\n",
    "Logistic function outputs a value between 0 and 1. It's a scalar. It's used to compute a probability of an event. It's used for a binary classification task.\n",
    "\n",
    "$$\n",
    "\\sigma(x) = \\frac{1}{1 + e^{-x}}\n",
    "$$\n",
    "\n",
    "Softmax function outputs a vector of values between 0 and 1. It's used to compute probabilities of multiple classes. It's used for a multi-class classificaiton task. The sum of probabilities will be 1.\n",
    "\n",
    "$$\n",
    "\\sigma_K(x) = \\left[ \\frac{e^{x_i}}{\\sum_{j = 1}^{K} e^{x_j}} \\right]_{i = 1}^{K}\n",
    "$$\n",
    "\n",
    "We can convert logistic to softmax. Suppose that we will create the 3 class classification model. Create 3 logistic regression models for each class. These models output a probability for each class, but the summation of the probabilities would not be 1. But in softmax, the summation of each probability needs to be 1. Compute odds by dividing probability by (1 - probability), and compute the sum of the odds. Divide each odds by the sum of odds. This is softmax."
   ]
  }
 ],
 "metadata": {
  "kernelspec": {
   "display_name": "env-machine-learning",
   "language": "python",
   "name": "env-machine-learning"
  },
  "language_info": {
   "codemirror_mode": {
    "name": "ipython",
    "version": 3
   },
   "file_extension": ".py",
   "mimetype": "text/x-python",
   "name": "python",
   "nbconvert_exporter": "python",
   "pygments_lexer": "ipython3",
   "version": "3.9.5"
  }
 },
 "nbformat": 4,
 "nbformat_minor": 5
}
