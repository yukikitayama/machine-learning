{
 "cells": [
  {
   "cell_type": "markdown",
   "id": "13f33806",
   "metadata": {},
   "source": [
    "# Boosting"
   ]
  },
  {
   "cell_type": "code",
   "execution_count": 5,
   "id": "4c164261",
   "metadata": {},
   "outputs": [],
   "source": [
    "import numpy as np"
   ]
  },
  {
   "cell_type": "code",
   "execution_count": 2,
   "id": "1c6fbfa6",
   "metadata": {},
   "outputs": [
    {
     "name": "stdout",
     "output_type": "stream",
     "text": [
      "Weight: 0.25\n"
     ]
    }
   ],
   "source": [
    "n = 4\n",
    "w = 1/n\n",
    "print(f'Weight: {w}')"
   ]
  },
  {
   "cell_type": "code",
   "execution_count": 34,
   "id": "90353a0f",
   "metadata": {},
   "outputs": [],
   "source": [
    "act = [1, 0, 1, 0]\n",
    "pred = [1, 0, 1, 1]"
   ]
  },
  {
   "cell_type": "code",
   "execution_count": 35,
   "id": "e87f57f4",
   "metadata": {},
   "outputs": [
    {
     "name": "stdout",
     "output_type": "stream",
     "text": [
      "Error: 0.25\n",
      "Alpha: 1.0986122886681098\n"
     ]
    }
   ],
   "source": [
    "n = len(act)\n",
    "\n",
    "weights = []\n",
    "for i in range(n):\n",
    "    weights.append(1 / n)\n",
    "\n",
    "num = 0\n",
    "den = 0\n",
    "for i in range(n):\n",
    "    if act[i] != pred[i]:\n",
    "        num += weights[i] * 1\n",
    "    else:\n",
    "        num += weights[i] * 0\n",
    "    den += weights[i]\n",
    "\n",
    "err = num / den\n",
    "print(f'Error: {err}')\n",
    "\n",
    "# Alpha gets smaller, as err gets bigger\n",
    "# because as err gets bigger, numerator 1 - err gets smaller, denominator err gets bigger,\n",
    "# so (1 - err) / err gets smaller\n",
    "alpha = np.log((1 - err) / err)\n",
    "print(f'Alpha: {alpha}')"
   ]
  },
  {
   "cell_type": "code",
   "execution_count": 36,
   "id": "8d9642bd",
   "metadata": {},
   "outputs": [
    {
     "name": "stdout",
     "output_type": "stream",
     "text": [
      "3.0\n",
      "0.3333333333333333\n"
     ]
    }
   ],
   "source": [
    "print((1 - 0.25) / 0.25)\n",
    "print((1 - 0.75) / 0.75)"
   ]
  },
  {
   "cell_type": "code",
   "execution_count": 37,
   "id": "f23eb3a1",
   "metadata": {},
   "outputs": [
    {
     "name": "stdout",
     "output_type": "stream",
     "text": [
      "Initial weights: 0.25, 0.25\n",
      "Alpha: 1.099\n",
      "Exponential part: 3.000\n",
      "w_0 becomes: 0.750\n",
      "Exponential part: 1.000\n",
      "w_1 becomes: 0.250\n"
     ]
    }
   ],
   "source": [
    "w_0 = 0.25\n",
    "w_1 = 0.25\n",
    "print(f'Initial weights: {w_0}, {w_1}')\n",
    "print(f'Alpha: {alpha:.3f}')\n",
    "\n",
    "# Misclassified\n",
    "print(f'Exponential part: {np.exp(alpha * 1):.3f}')\n",
    "w_0 = w_0 * np.exp(alpha * 1)\n",
    "print(f'w_0 becomes: {w_0:.3f}')\n",
    "\n",
    "# Correct\n",
    "print(f'Exponential part: {np.exp(alpha * 0):.3f}')\n",
    "w_1 = w_1 * np.exp(alpha * 0)\n",
    "print(f'w_1 becomes: {w_1:.3f}')"
   ]
  }
 ],
 "metadata": {
  "kernelspec": {
   "display_name": "env-machine-learning",
   "language": "python",
   "name": "env-machine-learning"
  },
  "language_info": {
   "codemirror_mode": {
    "name": "ipython",
    "version": 3
   },
   "file_extension": ".py",
   "mimetype": "text/x-python",
   "name": "python",
   "nbconvert_exporter": "python",
   "pygments_lexer": "ipython3",
   "version": "3.9.5"
  }
 },
 "nbformat": 4,
 "nbformat_minor": 5
}
