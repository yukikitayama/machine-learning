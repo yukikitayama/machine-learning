{
 "cells": [
  {
   "cell_type": "markdown",
   "id": "823ed4b3",
   "metadata": {},
   "source": [
    "# Gini Index and Entropy"
   ]
  },
  {
   "cell_type": "markdown",
   "id": "87f0f53c",
   "metadata": {},
   "source": [
    "## Dependency"
   ]
  },
  {
   "cell_type": "code",
   "execution_count": 1,
   "id": "4c7064c3",
   "metadata": {},
   "outputs": [],
   "source": [
    "import numpy as np\n",
    "import matplotlib.pyplot as plt\n",
    "from collections import Counter\n",
    "import math\n",
    "from typing import List, Union"
   ]
  },
  {
   "cell_type": "markdown",
   "id": "68318fd3",
   "metadata": {},
   "source": [
    "## Function"
   ]
  },
  {
   "cell_type": "code",
   "execution_count": 2,
   "id": "611a1dc2",
   "metadata": {},
   "outputs": [],
   "source": [
    "def binary_gini(p: float) -> float:\n",
    "    return p * (1 - p) + (1 - p) * (1 - (1 - p))\n",
    "\n",
    "\n",
    "def multi_class_gini(data: List[int]) -> float:\n",
    "    counter = Counter(data)\n",
    "    proportions = [c / len(data) for c in counter.values()]\n",
    "    gini = 0\n",
    "    for proportion in proportions:\n",
    "        gini += proportion * (1 - proportion)\n",
    "    return gini\n",
    "\n",
    "\n",
    "def binary_entropy(p: float) -> float:\n",
    "    return -1 * (p * math.log(p) + (1 - p) * math.log(1 - p))\n",
    "\n",
    "\n",
    "def multi_class_entropy(data: List[int]) -> float:\n",
    "    counter = Counter(data)\n",
    "    proportions = [c / len(data) for c in counter.values()]\n",
    "    entropy = 0\n",
    "    for proportion in proportions:\n",
    "        entropy += proportion * math.log(proportion)\n",
    "    entropy *= -1\n",
    "    return entropy"
   ]
  },
  {
   "cell_type": "markdown",
   "id": "e508dbfe",
   "metadata": {},
   "source": [
    "## Classification error rate"
   ]
  },
  {
   "cell_type": "code",
   "execution_count": 3,
   "id": "058d6817",
   "metadata": {},
   "outputs": [],
   "source": [
    "classes = ['a', 'a', 'b', 'b', 'c', 'c', 'c', 'c', 'c']\n",
    "count = Counter(classes)"
   ]
  },
  {
   "cell_type": "code",
   "execution_count": 4,
   "id": "6bb180e7",
   "metadata": {},
   "outputs": [],
   "source": [
    "p = {}\n",
    "for k, v in count.items():\n",
    "    p[k] = v / len(classes)"
   ]
  },
  {
   "cell_type": "code",
   "execution_count": 5,
   "id": "8035bcbb",
   "metadata": {},
   "outputs": [
    {
     "data": {
      "text/plain": [
       "{'a': 0.2222222222222222, 'b': 0.2222222222222222, 'c': 0.5555555555555556}"
      ]
     },
     "execution_count": 5,
     "metadata": {},
     "output_type": "execute_result"
    }
   ],
   "source": [
    "p"
   ]
  },
  {
   "cell_type": "code",
   "execution_count": 6,
   "id": "1d75c00b",
   "metadata": {},
   "outputs": [],
   "source": [
    "max_p = float('-inf')\n",
    "for k, v in p.items():\n",
    "    if v > max_p:\n",
    "        max_p = v\n",
    "        max_class = k"
   ]
  },
  {
   "cell_type": "code",
   "execution_count": 7,
   "id": "8686562b",
   "metadata": {},
   "outputs": [
    {
     "name": "stdout",
     "output_type": "stream",
     "text": [
      "Error rate: 0.4444444444444444\n"
     ]
    }
   ],
   "source": [
    "error_rate = 1 - max_p\n",
    "print(f'Error rate: {error_rate}')"
   ]
  },
  {
   "cell_type": "markdown",
   "id": "32c95b04",
   "metadata": {},
   "source": [
    "- Error rate: $E = 1 - max_k(\\hat p_{mk})$\n",
    "  - $\\hat p_{mk}$ represets the proportion of training observations in the $m$th region that are from the $k$th class.\n",
    "  - The most common class is the prediction, so the rest of the classes are misclassified, so error rate is 1 minus max proportion."
   ]
  },
  {
   "cell_type": "markdown",
   "id": "6175f567",
   "metadata": {},
   "source": [
    "## Gini index"
   ]
  },
  {
   "cell_type": "markdown",
   "id": "6237d297",
   "metadata": {},
   "source": [
    "### Binary classification"
   ]
  },
  {
   "cell_type": "code",
   "execution_count": 8,
   "id": "fe5155ca",
   "metadata": {},
   "outputs": [
    {
     "name": "stdout",
     "output_type": "stream",
     "text": [
      "Count: Counter({1: 3, 0: 2})\n",
      "Proportion: {1: 0.6, 0: 0.4}\n",
      "Gini index: 0.48\n"
     ]
    }
   ],
   "source": [
    "data = [1, 1, 1, 0, 0]\n",
    "count = Counter(data)\n",
    "p = {}\n",
    "for k, v in count.items():\n",
    "    p[k] = v / len(data)\n",
    "    \n",
    "print(f'Count: {count}')\n",
    "print(f'Proportion: {p}')\n",
    "\n",
    "gini_index = 0\n",
    "for k, v in p.items():\n",
    "    gini_index += p[k] * (1 - p[k])\n",
    "\n",
    "print(f'Gini index: {gini_index}')"
   ]
  },
  {
   "cell_type": "code",
   "execution_count": 9,
   "id": "d3a276f6",
   "metadata": {},
   "outputs": [
    {
     "data": {
      "image/png": "[encoded data removed]",
      "text/plain": [
       "<Figure size 432x288 with 1 Axes>"
      ]
     },
     "metadata": {
      "needs_background": "light"
     },
     "output_type": "display_data"
    }
   ],
   "source": [
    "xs = np.linspace(0, 1, 100)\n",
    "gini_indices = [binary_gini(x) for x in xs]\n",
    "\n",
    "plt.plot(\n",
    "    xs,\n",
    "    gini_indices\n",
    ")\n",
    "plt.title('Binary Gini index')\n",
    "plt.xlabel('Proportion of a class')\n",
    "plt.ylabel('Gini index')\n",
    "plt.grid()\n",
    "plt.show()"
   ]
  },
  {
   "cell_type": "markdown",
   "id": "52995825",
   "metadata": {},
   "source": [
    "### Multi-class classification"
   ]
  },
  {
   "cell_type": "code",
   "execution_count": 15,
   "id": "719594a8",
   "metadata": {},
   "outputs": [
    {
     "name": "stdout",
     "output_type": "stream",
     "text": [
      "Gini: 0.800 from data: [0, 1, 2, 3, 4]\n",
      "Gini: 0.642 from data: [0, 0, 0, 0, 0, 1, 2, 3, 4]\n",
      "Gini: 0.198 from data: [0, 0, 0, 0, 0, 0, 0, 0, 1]\n"
     ]
    }
   ],
   "source": [
    "data = [0, 1, 2, 3, 4]\n",
    "print(f'Gini: {multi_class_gini(data):.3f} from data: {data}')\n",
    "\n",
    "data = [0, 0, 0, 0, 0, 1, 2, 3, 4]\n",
    "print(f'Gini: {multi_class_gini(data):.3f} from data: {data}')\n",
    "\n",
    "data = [0, 0, 0, 0, 0, 0, 0, 0, 1]\n",
    "print(f'Gini: {multi_class_gini(data):.3f} from data: {data}')"
   ]
  },
  {
   "cell_type": "markdown",
   "id": "25cf3b4d",
   "metadata": {},
   "source": [
    "## Entropy"
   ]
  },
  {
   "cell_type": "markdown",
   "id": "28b78a52",
   "metadata": {},
   "source": [
    "### Binary classification"
   ]
  },
  {
   "cell_type": "code",
   "execution_count": 57,
   "id": "6449bae4",
   "metadata": {
    "scrolled": true
   },
   "outputs": [
    {
     "name": "stderr",
     "output_type": "stream",
     "text": [
      "C:\\Users\\YKITAY~1\\AppData\\Local\\Temp/ipykernel_23248/671751185.py:21: RuntimeWarning: divide by zero encountered in log\n",
      "  return -1 * (p * np.log(p) + (1 - p) * np.log(1 - p))\n",
      "C:\\Users\\YKITAY~1\\AppData\\Local\\Temp/ipykernel_23248/671751185.py:21: RuntimeWarning: invalid value encountered in double_scalars\n",
      "  return -1 * (p * np.log(p) + (1 - p) * np.log(1 - p))\n"
     ]
    },
    {
     "data": {
      "image/png": "[encoded data removed]",
      "text/plain": [
       "<Figure size 432x288 with 1 Axes>"
      ]
     },
     "metadata": {
      "needs_background": "light"
     },
     "output_type": "display_data"
    }
   ],
   "source": [
    "xs = np.linspace(0, 1, 100)\n",
    "entropys = [binary_entropy(x) for x in xs]\n",
    "\n",
    "plt.plot(\n",
    "    xs,\n",
    "    entropys\n",
    ")\n",
    "plt.title('Binary Entropy')\n",
    "plt.xlabel('Proportion of a class')\n",
    "plt.ylabel('Entropy')\n",
    "plt.grid()\n",
    "plt.show()"
   ]
  },
  {
   "cell_type": "markdown",
   "id": "985c4d04",
   "metadata": {},
   "source": [
    "### Multi-class classification"
   ]
  },
  {
   "cell_type": "code",
   "execution_count": 16,
   "id": "d1cc3ca8",
   "metadata": {},
   "outputs": [
    {
     "name": "stdout",
     "output_type": "stream",
     "text": [
      "Entropy: 1.609 from data: [0, 1, 2, 3, 4]\n",
      "Entropy: 1.303 from data: [0, 0, 0, 0, 0, 1, 2, 3, 4]\n",
      "Entropy: 0.349 from data: [0, 0, 0, 0, 0, 0, 0, 0, 1]\n"
     ]
    }
   ],
   "source": [
    "data = [0, 1, 2, 3, 4]\n",
    "print(f'Entropy: {multi_class_entropy(data):.3f} from data: {data}')\n",
    "\n",
    "data = [0, 0, 0, 0, 0, 1, 2, 3, 4]\n",
    "print(f'Entropy: {multi_class_entropy(data):.3f} from data: {data}')\n",
    "\n",
    "data = [0, 0, 0, 0, 0, 0, 0, 0, 1]\n",
    "print(f'Entropy: {multi_class_entropy(data):.3f} from data: {data}')"
   ]
  },
  {
   "cell_type": "markdown",
   "id": "36d1bd9c",
   "metadata": {},
   "source": [
    "## Reference"
   ]
  },
  {
   "cell_type": "markdown",
   "id": "eb9e0ef2",
   "metadata": {},
   "source": [
    "- [SCIKIT-LEARN : DECISION TREE LEARNING I - ENTROPY, GINI, AND INFORMATION GAIN](https://www.bogotobogo.com/python/scikit-learn/scikt_machine_learning_Decision_Tree_Learning_Informatioin_Gain_IG_Impurity_Entropy_Gini_Classification_Error.php)"
   ]
  }
 ],
 "metadata": {
  "kernelspec": {
   "display_name": "env-machine-learning",
   "language": "python",
   "name": "env-machine-learning"
  },
  "language_info": {
   "codemirror_mode": {
    "name": "ipython",
    "version": 3
   },
   "file_extension": ".py",
   "mimetype": "text/x-python",
   "name": "python",
   "nbconvert_exporter": "python",
   "pygments_lexer": "ipython3",
   "version": "3.9.5"
  }
 },
 "nbformat": 4,
 "nbformat_minor": 5
}
