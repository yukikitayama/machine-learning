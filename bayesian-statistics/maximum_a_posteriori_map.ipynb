{
 "cells": [
  {
   "cell_type": "markdown",
   "id": "0e2f8bc1",
   "metadata": {},
   "source": [
    "# Maximum a Posteriori (MAP)\n",
    "\n",
    "A Bayesian-based approach to estimate a distribution and model parameters that best explain an observed data. It's also called **maximum posterior estimation**.\n",
    "\n",
    "In MAP, we treat parameters as random variables. \n",
    "\n",
    "We incorporate prior belief in estimation.\n",
    "\n",
    "Estimation approach\n",
    "\n",
    "- Set prior belief about the parameter distribution.\n",
    "- Observe data\n",
    "- Use the mode of the posterior distribution as MAP estimates.\n",
    "\n",
    "\n",
    "## Resource\n",
    "\n",
    "- [A Gentle Introduction to Maximum a Posteriori (MAP) for Machine Learning](https://machinelearningmastery.com/maximum-a-posteriori-estimation/)\n",
    "- [MLE vs MAP](https://www.interviewquery.com/questions/mle-vs-map)\n",
    "- [Chapter 7. Statistical Estimation 7.5: Maximum A Posteriori Estimation](https://courses.cs.washington.edu/courses/cse312/20su/files/student_drive/7.5.pdf)"
   ]
  }
 ],
 "metadata": {
  "kernelspec": {
   "display_name": "env-machine-learning",
   "language": "python",
   "name": "env-machine-learning"
  },
  "language_info": {
   "codemirror_mode": {
    "name": "ipython",
    "version": 3
   },
   "file_extension": ".py",
   "mimetype": "text/x-python",
   "name": "python",
   "nbconvert_exporter": "python",
   "pygments_lexer": "ipython3",
   "version": "3.9.5"
  }
 },
 "nbformat": 4,
 "nbformat_minor": 5
}
