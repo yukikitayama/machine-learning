{
 "cells": [
  {
   "cell_type": "markdown",
   "id": "3155a73f",
   "metadata": {},
   "source": [
    "# Assumption\n",
    "\n",
    "\n",
    "What are the assumptions of linear regression?\n",
    "\n",
    "- Linear relationship between the features and the response variable.\n",
    "- Data points are independent from each other.\n",
    "- Errors from regression are independent, identically distributed, and normally distributed.\n",
    "- Features are not correlated.\n",
    "- Additivity. The effect of changes in one of the features on the response variable doesn't depend on values of other features. If home size goes up, home value goes up. If home gets closer to downtonw, home value goes up. This is additivity. But home value goes up in downtown because home size goes up in downtown, it's not additivity."
   ]
  },
  {
   "cell_type": "code",
   "execution_count": null,
   "id": "e141d754",
   "metadata": {},
   "outputs": [],
   "source": []
  }
 ],
 "metadata": {
  "kernelspec": {
   "display_name": "env-machine-learning",
   "language": "python",
   "name": "env-machine-learning"
  },
  "language_info": {
   "codemirror_mode": {
    "name": "ipython",
    "version": 3
   },
   "file_extension": ".py",
   "mimetype": "text/x-python",
   "name": "python",
   "nbconvert_exporter": "python",
   "pygments_lexer": "ipython3",
   "version": "3.9.5"
  }
 },
 "nbformat": 4,
 "nbformat_minor": 5
}
