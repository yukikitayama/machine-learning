{
 "cells": [
  {
   "cell_type": "markdown",
   "id": "12f6ea2d",
   "metadata": {},
   "source": [
    "# Metrics\n",
    "\n",
    "## RMSE\n",
    "\n",
    "Root mean squared error."
   ]
  },
  {
   "cell_type": "code",
   "execution_count": 2,
   "id": "996b3b5d",
   "metadata": {},
   "outputs": [
    {
     "name": "stdout",
     "output_type": "stream",
     "text": [
      "1.632993161855452\n"
     ]
    }
   ],
   "source": [
    "import math\n",
    "\n",
    "y_pred = [3, 4, 5]\n",
    "y_true = [5, 4, 3]\n",
    "\n",
    "def calculate_rmse(y_pred, y_true):\n",
    "    \n",
    "    error = 0\n",
    "    \n",
    "    for i in range(len(y_pred)):\n",
    "        \n",
    "        error += (y_pred[i] - y_true[i])**2\n",
    "        \n",
    "    error /= len(y_pred)\n",
    "    \n",
    "    return math.sqrt(error)\n",
    "\n",
    "\n",
    "print(calculate_rmse(y_pred, y_true))"
   ]
  },
  {
   "cell_type": "markdown",
   "id": "8a83da82",
   "metadata": {},
   "source": [
    "## R squared\n",
    "\n",
    "Analyze how well a model fits the data. We want to determine a relationship between 2 variables. What is the downside of only using the R-Squared $R^2$ value to do so?\n",
    "\n",
    "Because it says R-Squared, the model should be linear regression model. \n",
    "\n",
    "Linear regression has assumptions. If only looking at R-Squared, it would miss whether the assumption is valid. For example, one assumption is that the errors are independent. But R-Squared doesn't tell this.\n",
    "\n",
    "Some models don't have R-Squared as metric, such as Logistic Regression. So only using R-Squared cannot conduct model comparisons.\n",
    "\n",
    "Linear regression can tell the correlation between the 2 variables, but R-Squared doesn't tell causal relationship.\n",
    "\n",
    "R-Squared inflates by adding more independent variables. We can see the adjusted R-Squared too. The formula is the following. $p$ is the number of independent variables. $n$ is the data size. Because $p$ is in the denominator, R-Squared gets smaller by increasing the number of independent variables.\n",
    "\n",
    "$$\n",
    "R_a^2 = 1 - \\frac{(1 - R^2)(n - 1)}{n - p - 1}\n",
    "$$"
   ]
  }
 ],
 "metadata": {
  "kernelspec": {
   "display_name": "env-machine-learning",
   "language": "python",
   "name": "env-machine-learning"
  },
  "language_info": {
   "codemirror_mode": {
    "name": "ipython",
    "version": 3
   },
   "file_extension": ".py",
   "mimetype": "text/x-python",
   "name": "python",
   "nbconvert_exporter": "python",
   "pygments_lexer": "ipython3",
   "version": "3.9.5"
  }
 },
 "nbformat": 4,
 "nbformat_minor": 5
}
