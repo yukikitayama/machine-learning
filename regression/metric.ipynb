{
 "cells": [
  {
   "cell_type": "markdown",
   "id": "12f6ea2d",
   "metadata": {},
   "source": [
    "# Metrics\n",
    "\n",
    "## RMSE\n",
    "\n",
    "Root mean squared error."
   ]
  },
  {
   "cell_type": "code",
   "execution_count": 2,
   "id": "996b3b5d",
   "metadata": {},
   "outputs": [
    {
     "name": "stdout",
     "output_type": "stream",
     "text": [
      "1.632993161855452\n"
     ]
    }
   ],
   "source": [
    "import math\n",
    "\n",
    "y_pred = [3, 4, 5]\n",
    "y_true = [5, 4, 3]\n",
    "\n",
    "def calculate_rmse(y_pred, y_true):\n",
    "    \n",
    "    error = 0\n",
    "    \n",
    "    for i in range(len(y_pred)):\n",
    "        \n",
    "        error += (y_pred[i] - y_true[i])**2\n",
    "        \n",
    "    error /= len(y_pred)\n",
    "    \n",
    "    return math.sqrt(error)\n",
    "\n",
    "\n",
    "print(calculate_rmse(y_pred, y_true))"
   ]
  }
 ],
 "metadata": {
  "kernelspec": {
   "display_name": "env-machine-learning",
   "language": "python",
   "name": "env-machine-learning"
  },
  "language_info": {
   "codemirror_mode": {
    "name": "ipython",
    "version": 3
   },
   "file_extension": ".py",
   "mimetype": "text/x-python",
   "name": "python",
   "nbconvert_exporter": "python",
   "pygments_lexer": "ipython3",
   "version": "3.9.5"
  }
 },
 "nbformat": 4,
 "nbformat_minor": 5
}
