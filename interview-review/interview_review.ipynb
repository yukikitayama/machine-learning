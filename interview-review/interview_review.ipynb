{
 "cells": [
  {
   "cell_type": "markdown",
   "id": "fb4880b3-e3e0-48d5-a0ce-1f01dff4b60e",
   "metadata": {},
   "source": [
    "# Interview Review\n",
    "\n",
    "## Law of large number\n",
    "\n",
    "### Question\n",
    "\n",
    "Is law of large number the same as central limit theorem?\n",
    "\n",
    "### Answer\n",
    "\n",
    "[placeholder]\n",
    "\n",
    "## Kurtosis\n",
    "\n",
    "### Question\n",
    "\n",
    "What is Kurtosis?\n",
    "\n",
    "### Answer\n",
    "\n",
    "[placeholder]\n",
    "\n",
    "## F1 score\n",
    "\n",
    "### Question\n",
    "\n",
    "What's the mathe behind F1 score?\n",
    "\n",
    "### Answer\n",
    "\n",
    "[placeholder]"
   ]
  }
 ],
 "metadata": {
  "kernelspec": {
   "display_name": "Python 3 (ipykernel)",
   "language": "python",
   "name": "python3"
  },
  "language_info": {
   "codemirror_mode": {
    "name": "ipython",
    "version": 3
   },
   "file_extension": ".py",
   "mimetype": "text/x-python",
   "name": "python",
   "nbconvert_exporter": "python",
   "pygments_lexer": "ipython3",
   "version": "3.12.0"
  }
 },
 "nbformat": 4,
 "nbformat_minor": 5
}
