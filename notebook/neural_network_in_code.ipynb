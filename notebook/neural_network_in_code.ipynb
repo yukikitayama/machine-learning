{
 "cells": [
  {
   "cell_type": "markdown",
   "id": "962e9c63",
   "metadata": {},
   "source": [
    "# Neural Network in Code"
   ]
  },
  {
   "cell_type": "markdown",
   "id": "3733d724",
   "metadata": {},
   "source": [
    "## Dependency"
   ]
  },
  {
   "cell_type": "code",
   "execution_count": 10,
   "id": "3ad25199",
   "metadata": {},
   "outputs": [],
   "source": [
    "import tensorflow as tf\n",
    "from sklearn.preprocessing import StandardScaler\n",
    "import numpy as np\n",
    "import gcsfs\n",
    "import h5py\n",
    "import pickle"
   ]
  },
  {
   "cell_type": "markdown",
   "id": "9b0c2665",
   "metadata": {},
   "source": [
    "## Parameter"
   ]
  },
  {
   "cell_type": "code",
   "execution_count": null,
   "id": "cfc17c97",
   "metadata": {},
   "outputs": [],
   "source": []
  },
  {
   "cell_type": "markdown",
   "id": "9b1afc69",
   "metadata": {},
   "source": [
    "## Regression"
   ]
  },
  {
   "cell_type": "code",
   "execution_count": 7,
   "id": "e1f58e20",
   "metadata": {},
   "outputs": [
    {
     "name": "stdout",
     "output_type": "stream",
     "text": [
      "Model: \"Demo model\"\n",
      "_________________________________________________________________\n",
      " Layer (type)                Output Shape              Param #   \n",
      "=================================================================\n",
      " dense_8 (Dense)             (None, 120)               720       \n",
      "                                                                 \n",
      " batch_normalization_6 (Batc  (None, 120)              480       \n",
      " hNormalization)                                                 \n",
      "                                                                 \n",
      " dense_9 (Dense)             (None, 120)               14520     \n",
      "                                                                 \n",
      " batch_normalization_7 (Batc  (None, 120)              480       \n",
      " hNormalization)                                                 \n",
      "                                                                 \n",
      " dropout_2 (Dropout)         (None, 120)               0         \n",
      "                                                                 \n",
      " dense_10 (Dense)            (None, 1)                 121       \n",
      "                                                                 \n",
      "=================================================================\n",
      "Total params: 16,321\n",
      "Trainable params: 15,841\n",
      "Non-trainable params: 480\n",
      "_________________________________________________________________\n"
     ]
    }
   ],
   "source": [
    "# Number of features\n",
    "p = 5\n",
    "\n",
    "model = tf.keras.Sequential(name=\"Demo model\")\n",
    "model.add(tf.keras.layers.Dense(units=120, activation='relu', kernel_initializer='he_uniform', input_shape=(p,)))\n",
    "model.add(tf.keras.layers.BatchNormalization())\n",
    "model.add(tf.keras.layers.Dense(units=120, activation='relu', kernel_initializer='he_uniform', input_shape=(p,)))\n",
    "model.add(tf.keras.layers.BatchNormalization())\n",
    "model.add(tf.keras.layers.Dropout(0.5))\n",
    "# Dense(1) for regression in the output layer\n",
    "model.add(tf.keras.layers.Dense(1))\n",
    "\n",
    "model.compile(\n",
    "    # If we wanna change loss function\n",
    "    loss=tf.keras.losses.Huber(delta=0.1),\n",
    "    optimizer=tf.keras.optimizers.Adam(learning_rate=0.001),\n",
    "    # If we wanna monitor loss over training iterations\n",
    "    metrics=[\n",
    "        tf.keras.metrics.MeanSquaredError(),\n",
    "        tf.keras.metrics.MeanAbsoluteError()\n",
    "    ]\n",
    ")\n",
    "\n",
    "model.summary()\n",
    "\n",
    "# Data preparation\n",
    "# scaler = StandardScaler()\n",
    "# X_train_scaled = scaler.fit_transform(X_train)\n",
    "# X_test_scaled = scaler.transform(X_test)\n",
    "# X_train_scaled = np.clip(X_train_scaled, -4.0, 4.0)\n",
    "# X_test_scaled = np.clip(X_test_scaled, -4.0, 4.0)\n",
    "\n",
    "# To terminate training\n",
    "callbacks = tf.keras.callbacks.EarlyStopping(\n",
    "    monitor='val_loss',\n",
    "    verbose=1,\n",
    "    patience=30,\n",
    "    mode='min',\n",
    "    restore_best_weights=True\n",
    ")\n",
    "\n",
    "# Training\n",
    "# history = model.fit(\n",
    "#     X_train_scaled,\n",
    "#     y_train,\n",
    "#     batch_size=10,\n",
    "#     epochs=100,\n",
    "#     callbacks=[callbacks],\n",
    "#     validation_data=(X_vali_scaled, y_vali),\n",
    "#     verbose=2\n",
    "# )\n",
    "\n",
    "# Save model\n",
    "# model.save('nn')\n",
    "# model.save('nn.h5')\n",
    "\n",
    "# Save scaler\n",
    "pickle.dump(scaler, open('scaler.pkl', 'wb'))\n",
    "\n",
    "# Load model\n",
    "# model = tf.keras.models.load_model('nn')\n",
    "\n",
    "# Prediction\n",
    "# pred = model.predict(X_test_scaled)"
   ]
  },
  {
   "cell_type": "markdown",
   "id": "badc87ee",
   "metadata": {},
   "source": [
    "## Load TensorFlow .h5 model from Cloud Storage"
   ]
  },
  {
   "cell_type": "code",
   "execution_count": null,
   "id": "07ba539e",
   "metadata": {},
   "outputs": [],
   "source": [
    "# Running below code requires that this script is authenticated to use the Google Cloud Project\n",
    "# by GOOGLE_APPLICATIONS_CREDENTIAL environment variable or service account\n",
    "fs = gcsfs.GCSFileSystem(project='GOOGLE_CLOUD_PROJECT')\n",
    "\n",
    "# Use gsutil URL found in Cloud Storage\n",
    "with fs.open('gs://PROJECT_NAME/FOLDER/MODEL.h5', 'rb') as model_file:\n",
    "    model_gcs = h5py.File(model_file, 'r')\n",
    "    model = tf.keras.models.load_model(model_gcs)"
   ]
  },
  {
   "cell_type": "code",
   "execution_count": null,
   "id": "c19bffd3",
   "metadata": {},
   "outputs": [],
   "source": []
  },
  {
   "cell_type": "code",
   "execution_count": null,
   "id": "4c3c34cd",
   "metadata": {},
   "outputs": [],
   "source": []
  },
  {
   "cell_type": "code",
   "execution_count": null,
   "id": "313b94b3",
   "metadata": {},
   "outputs": [],
   "source": []
  }
 ],
 "metadata": {
  "kernelspec": {
   "display_name": "env-machine-learning",
   "language": "python",
   "name": "env-machine-learning"
  },
  "language_info": {
   "codemirror_mode": {
    "name": "ipython",
    "version": 3
   },
   "file_extension": ".py",
   "mimetype": "text/x-python",
   "name": "python",
   "nbconvert_exporter": "python",
   "pygments_lexer": "ipython3",
   "version": "3.9.5"
  }
 },
 "nbformat": 4,
 "nbformat_minor": 5
}
