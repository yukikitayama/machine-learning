{
 "cells": [
  {
   "cell_type": "markdown",
   "id": "7cd7fed6",
   "metadata": {},
   "source": [
    "# Support Vector Machine\n",
    "\n",
    "I think support vector machine (SVM) is confusing, because different people have different ways to treat response $y$ and different ways to treat the bias variance tradeoff parameters $C$ and $\\gamma$."
   ]
  },
  {
   "cell_type": "markdown",
   "id": "24f5960b",
   "metadata": {},
   "source": [
    "## Dependency"
   ]
  },
  {
   "cell_type": "code",
   "execution_count": 2,
   "id": "03b40563",
   "metadata": {
    "scrolled": true
   },
   "outputs": [],
   "source": [
    "import pandas as pd\n",
    "import numpy as np\n",
    "import matplotlib.pyplot as plt\n",
    "from sklearn import datasets\n",
    "from sklearn.model_selection import train_test_split\n",
    "from sklearn.svm import SVC\n",
    "from sklearn.metrics import accuracy_score, precision_score, recall_score\n",
    "from collections import Counter\n",
    "pd.set_option('display.max_columns', None)\n",
    "pd.set_option('expand_frame_repr', False)"
   ]
  },
  {
   "cell_type": "markdown",
   "id": "cd756da8",
   "metadata": {},
   "source": [
    "## Concept"
   ]
  },
  {
   "cell_type": "markdown",
   "id": "82433ec2",
   "metadata": {},
   "source": [
    "In **binary classification**, where **y** is labeled **0 for negative** and **1 for positive**, **optimization objective** of SVM is the following.\n",
    "\n",
    "$$\n",
    "\\underset{\\theta}{\\min} C \\sum_{i = 1}^{n} \\left[ y^{(i)} cost_1 (\\theta^T x^{(i)}) + (1 - y^{(i)}) cost_0 (\\theta^T x^{(i)}) \\right] + \\frac{1}{2} \\sum_{i = 1}^{p} \\theta_j^2\n",
    "$$\n",
    "\n",
    "This math takes the form of,\n",
    "\n",
    "$$\n",
    "C \\times \\text{Loss} + \\text{Regularization}\n",
    "$$\n",
    "\n",
    "- $cost_1(\\theta^T x^)$ is a cost function when $y = 1$. When $\\theta^T x \\ge 1$  (not just $\\ge$ 0), cost is 0. When $\\theta^T x \\le 1$, cost linearly increases as $\\theta^T x$ gets smaller.\n",
    "- $cost_0(\\theta^T x^)$ is a cost function when $y = 0$. When $\\theta^T x \\le -1$  (not just $\\le$ 0), cost is 0. When $\\theta^T x \\ge -1$, cost linearly increases as $\\theta^T x$ gets larger.\n",
    "\n",
    "In ISL Chapter 9.5 Relationship to Logistic Regression,\n",
    "\n",
    "$$\n",
    "\\underset{\\theta}{\\min} \\{ \\sum_{i = 1}^{n} \\max [0, 1 - y_i f(x_i)] + \\lambda \\sum_{j = 1}^{p} \\beta_j^2 \\}\n",
    "$$\n",
    "\n",
    "This math takes the form of,\n",
    "\n",
    "$$\n",
    "\\text{Loss} + \\lambda \\times \\text{Regularization}\n",
    "$$\n",
    "\n",
    "$\\max [0, 1 - y_i f(x_i)]$ works the same as the cost functions. But in ISL, **y** is labeled **-1 for negative** and **1 for positive**.\n",
    "\n",
    "- When $y = 1$, $\\max [0, 1 - y_i f(x_i)]$ produces 0 if $f(x_i) \\ge 1$. Loss is $\\ge 0$ when $f(x_i) \\le 1$ and increase as $f(x_i)$ gets smaller.  \n",
    "- When $y = -1$, $\\max [0, 1 - y_i f(x_i)]$ produces 0 if $f(x_i) \\le -1$. Loss is $\\ge 0$ when $f(x_i) \\ge -1$ and increase as $f(x_i)$ gets larger.  \n",
    "\n",
    "This loss functions is known as **hinge loss**\n",
    "\n",
    "$$\n",
    "L(X, y, \\beta) = \\sum_{i = 1}^{n}\\max [0, 1 - y_i \\beta x_i]\n",
    "$$\n",
    "\n",
    "To see the relationship with logistic regression,\n",
    "\n",
    "$$\n",
    "C = \\frac{1}{\\lambda}\n",
    "$$\n",
    "\n",
    "\n",
    "Cost function of logistic regression that we wanna minimize. $n$ is the number of data. $p$ is the number of features.\n",
    "\n",
    "$$\n",
    "\\underset{\\theta}{\\min} \\frac{1}{n} \\left[ \\sum_{i = 1}^{n} y^{(i)} \\left(- \\log h_{\\theta} (x^{(i)}) \\right) + (1 - y^{(i)}) \\left( - \\log (1 - h_{\\theta} (x^{(i)})) \\right) \\right] + \\frac{\\lambda}{2n} \\sum_{j = 1}^{p} \\theta_j^2\n",
    "$$\n",
    "\n",
    "$h_{\\theta}(x)$ is the below sigmoid function used in logistic regression.\n",
    "\n",
    "$$\n",
    "h_{\\theta}(x) = \\frac {1} {1 + e^{-\\theta^T x}}\n",
    "$$\n",
    "\n",
    "- When $y = 1$, we want $h_{\\theta}(x) \\approx 1$ ($h_{\\theta}(x)$ to be close to $1$), we want $e^{-\\theta^T x}$ small, we want $\\theta^T x \\gg 0$ ($\\theta^T x$ is much larger than 0).\n",
    "- When $y = 0$, we want $h_{\\theta}(x) \\approx 0$ ($h_{\\theta}(x)$ to be close to $0$), we want $e^{-\\theta^T x}$ large, we want $\\theta^T x \\ll 0$ ($\\theta^T x$ is much smaller than 0).\n",
    "\n",
    "In SVM,\n",
    "\n",
    "$$\n",
    "C A + B\n",
    "$$\n",
    "\n",
    "In logistic regression,\n",
    "\n",
    "$$\n",
    "A + \\lambda B\n",
    "$$\n",
    "\n",
    "To understand why SVM produces large margin, rewrite the optimization objective of SVM,\n",
    "\n",
    "$$\n",
    "\\underset{\\theta}{\\min} \\frac{1}{2} \\sum_{j = 1}^{p} \\theta_j^2 = \\frac{1}{2} \\| \\theta \\|^2\n",
    "$$\n",
    "$$\n",
    "\\text{s.t.}\n",
    "$$\n",
    "$$\n",
    "p^{(i)} \\cdot \\| \\theta \\| \\ge 1 \\quad \\text{if } y^{(i)} = 1\n",
    "$$\n",
    "$$\n",
    "p^{(i)} \\cdot \\| \\theta \\| \\le 1 \\quad \\text{if } y^{(i)} = 0\n",
    "$$\n",
    "\n",
    "$p^{(i)} \\cdot \\theta$ comes from\n",
    "\n",
    "$$\n",
    "\\theta^T x^{(i)} = p^{(i)} \\cdot \\| \\theta \\|\n",
    "$$\n",
    "\n",
    "$p$ is the projection of $x$ onto $\\theta$. $p$ is a scaled version of $\\theta$ but it's a vector that $x$ is orthogonally projected onto $\\theta$.\n",
    "\n",
    "$\\frac{1}{2} \\| \\theta \\|^2$ comes from, in $p = 2$,\n",
    "\n",
    "$$\n",
    "\\frac{1}{2} \\sum_{j = 1}^{p} \\theta_j^2 = \\frac{1}{2} (\\theta_1^2 + \\theta_2^2) = \\frac{1}{2} \\left( \\sqrt{ \\theta_1^2 + \\theta_2^2 } \\right)^2 = \\frac{1}{2} \\| \\theta \\|^2\n",
    "$$\n",
    "\n",
    "So the oprimization objective of SVM wants to minimize $\\| \\theta \\|$\n",
    "\n",
    "$\\theta$ is orthogonal to the decision boundary of SVM. \n",
    "\n",
    "- When margin is small, $x$ is projected onto $\\theta$, $p$ is small.\n",
    "  - When $y = 1$, we need $p^{(i)} \\cdot \\| \\theta \\| \\ge 1$, because $p$ is small, $\\| \\theta \\|$ needs to be large.\n",
    "- When margin is large, $x$ is projected onto $\\theta$, $p$ is large\n",
    "  - When $y = 1$, we need $p^{(i)} \\cdot \\| \\theta \\| \\ge 1$, because $p$ is large, $\\| \\theta \\|$ can be small.\n",
    "\n",
    "Because we want to minimize $\\| \\theta \\|$, SVM will get a large $p$. Large $p$ means that $x$ is far from a decision boundary. So SVM finds a large margin.\n",
    "\n",
    "### Kernel\n",
    "\n",
    "**Kernel** is a method that converts a linear classifier SVM into a nonlinear classifier, so the model could be a higher accuracy model. Kernel is a transformation applied to input data $x$. **Linear kernel** and **Gaussian kernel** are the popular choice for kernel.\n",
    "\n",
    "**Linear kernel** means just saying the model doesn't use a kernel. It's just use linear combination $\\theta^T x$ instead of $\\theta^T f$. It gives us a standard linear classifier. When $p$ number of features is large, and $n$ number of data is small, maybe it's a good idea to implement a simple model by linear kernel, instead of making SVM complicated, because you don't have enough data. It could have overfitting.\n",
    "\n",
    "$$\n",
    "\\sum_{j = 1}^{p} x_{ij} x_{i'j}\n",
    "$$\n",
    "\n",
    "**Gaussian kernel (Radial kernel, Radial basis function, RBF)** . When $p$ the number of features is small and $n$ the number of data is large. When data is big, we can use kernel to make SVM complex to have a better accuracy. Do perform feature scaling before using this kernel, because Gaussian kernel compute squares for each features and the final summed squared will be dominated by large unit features. \n",
    "\n",
    "$$\n",
    "\\exp(- \\frac{\\| x_i - x_j \\|^2}{2 \\sigma^2})\n",
    "$$\n",
    "\n",
    "$$\n",
    "\\exp \\left( - \\gamma \\sum_{j = 1}^{p} \\left( x_{ij} - x_{i'j} \\right)^2 \\right)\n",
    "$$\n",
    "\n",
    "This function produces a number between 0 and 1. The shape looks like a Gaussian distribution, smooth bell curve.\n",
    "\n",
    "- When two data are close, it's close to 1. \n",
    "- When two data are far away, it's close to 0.\n",
    "\n",
    "When $\\sigma$ is large, the Gaussian gets wider. So when we take a large $\\sigma$, regardless of how far the two data are, Gaussian kernel produces the similar number, so SVM doesn't classifiy so differently.\n",
    "\n",
    "Because Gaussian kernel produces a contour like curvy numerical difference by the distance between data, the decision boundary of SVM becomes non-linear.\n",
    "\n",
    "**scikit-learn** by default uses **rbf (radial basis function)** for kernel. In **ISL**,  radial kernel is described as followed,\n",
    "\n",
    "$$\n",
    "K(x_i, x_{i'}) = \\exp \\left( - \\gamma \\sum_{j = 1}^{p} (x_{ij} - x_{i'j})^2 \\right)\n",
    "$$\n",
    "\n",
    "Basically, this radial kernel math and the above Gaussian kernel math are the same. Getting a distance by sum of squared difference between two data by each feature, and exponential convertion to make it between o and 1, but scaling expressions are different either using $\\gamma$ or $\\frac{1}{\\sigma}$\n",
    "\n",
    "When using kernel $f$, optimization objective of SVM changes from\n",
    "\n",
    "$$\n",
    "\\underset{\\theta}{\\min} C \\sum_{i = 1}^{n} \\left[ y^{(i)} cost_1 (\\theta^T x^{(i)}) + (1 - y^{(i)}) cost_0 (\\theta^T x^{(i)})  + \\frac{1}{2} \\sum_{i = 1}^{p} \\theta_j^2 \\right]\n",
    "$$\n",
    "\n",
    "to\n",
    "$$\n",
    "\\underset{\\theta}{\\min} C \\sum_{i = 1}^{n} \\left[ y^{(i)} cost_1 (\\theta^T f^{(i)}) + (1 - y^{(i)}) cost_0 (\\theta^T f^{(i)})  + \\frac{1}{2} \\sum_{i = 1}^{p} \\theta_j^2 \\right]\n",
    "$$\n",
    "\n",
    "\n",
    "### Bias Variance Tradeoff\n",
    "\n",
    "Bias variance tradeoff of SVM is controlled by $C \\left( = \\frac{1}{\\lambda} \\right)$ and Gaussian kernel parameter $\\sigma^2$.\n",
    "\n",
    "In the **above optimization objective** of SVM (This is **opposite** of ISL, but same as scikit-learn),\n",
    "\n",
    "- When $C$ is large, lower bias and higher variance\n",
    "- When $C$ is small, higher bias and lower variance\n",
    "\n",
    "Because $C$ acts like $\\frac{1}{\\lambda}$, large $C$ means small regularization parameter $\\lambda$, so could overfit.\n",
    "\n",
    "In **ISL**, becuase $C$ is the sum of violations (distance in the wrong margin side and wrong hyperplane side), the effect is opposite.\n",
    "\n",
    "- Larger $C$, wider margin, more violations, more support vectors, higher bias, lower variance\n",
    "- Smaller $C$, narrower margin, less violations, fewer suppoer vectors, lower bias, higher variance\n",
    "\n",
    "For $\\sigma$ Gaussian kernel parameter,\n",
    "\n",
    "- When $\\sigma^2$ is large, Gaussian get wider, vary more smoothly, higher bias and lower variance\n",
    "- When $\\sigma^2$ is small, Gaussian get narrower, vary more quickly, lower bias and higher variance\n",
    "\n",
    "In scikit-learn, Gaussian kernel parameter is implemented as multiplication by $\\gamma$, not division by $\\sigma$, so the effect is opposite.\n",
    "\n",
    "Scikit-learn official webpage about $C$ and $\\gamma$ [RBF SVM parameters](https://scikit-learn.org/stable/auto_examples/svm/plot_rbf_parameters.html) is helpful to understand how bias variance tradeoff changes by increasing or decreasing $C$ and $\\gamma$.\n",
    "\n",
    "In **scikit-learn**, \n",
    "\n",
    "$C$\n",
    "\n",
    "- Larger $C$, smaller margin, lower bias, higher variance\n",
    "- Smaller $C$, larger margin, higher bias, lower variance\n",
    "\n",
    "$\\gamma$\n",
    "\n",
    "- Larger $\\gamma$, Gaussian is narrower, lower bias, higher variance\n",
    "- Smaller $\\gamma$, Gaussian is wider, higher bias, lower variance\n",
    "\n",
    "\n",
    "### SVM vs. Logistic Regression\n",
    "\n",
    "Let $p$ be the number of features, $n$ be the number of data.\n",
    "\n",
    "- When $p$ is large relative to $n$, use logistic regression or SVM with linear kernel (SVM without a kernel)\n",
    "- When $p$ is small and $n$ is intermediate, use SVM with Gaussian kernel\n",
    "- When $p$ is small and $n$ is large, making more features and use logistic regression or SVM with linear kernel. \n",
    "  - People might argue that when data is large, Gaussian kernel computation could be slow. In that case, you can use SVM without a kernel (linear kernel) instead.\n",
    "  - Making more features is the idea that you wanna use simple linear model but try to improve accuracy by feature engineering\n",
    "  \n",
    "Logistic regression and SVM with a linear kernel (no kernel) should be producing a similar result, but the benefit of SVM is to allow us to use kernel to make it a nonlinear classifier.\n",
    "\n",
    "ISL argues,\n",
    "\n",
    "- When classes are well separated, SVM tend to be better than logistic regression\n",
    "- When overlapping classes, logistic regression is preferred.\n",
    "\n",
    "### Compared with other models\n",
    "\n",
    "SVM is **hinge loss** + **L2 penalty regularization**\n",
    "\n",
    "$$\n",
    "\\underset{\\beta}{\\min} { \\sum_{i = 1}^{n} max[0, 1 - y_i f(x_i)] + \\lambda \\sum_{j = 1}^{p} \\beta_j^2 } \n",
    "$$\n",
    "\n",
    "Ridge regression is **squared loss** + **L2 penalty regularization**\n",
    "\n",
    "$$\n",
    "\\underset{\\beta}{\\min} { \\sum_{i = 1}^{n} \\left( y_i - \\beta X \\right)^2 + \\lambda \\sum_{j = 1}^{p} \\beta_j^2 } \n",
    "$$\n",
    "\n",
    "Lasso is **squared loss** + **L1 penalty regularization**\n",
    "\n",
    "$$\n",
    "\\underset{\\beta}{\\min} { \\sum_{i = 1}^{n} \\left( y_i - \\beta X \\right)^2 + \\lambda \\sum_{j = 1}^{p} | \\beta_j | } \n",
    "$$\n",
    "\n",
    "### Terminology\n",
    "\n",
    "**Nonseparable case** means because the classes overlap, the classes may not be separable by a linear boundary.\n",
    "\n",
    "**Separating hyperplane** produces a linear decision boundary, applicable only in **separable case**, and classify depending on which side of a separating hyperlane a data is located. You can draw infinite number of lines to separate.\n",
    "\n",
    "**Maximal margin classifier** is a model to determine the infinite number of separating hyperplanes into a single one. Draw a line which is perpendicular to all the data in both sides. You can find the minimum distance. Try to find the line which has the largest minimum distance. It means a line which is the farthest from all the data but right in the middle of the both sides. Only applicable in **separable case**.\n",
    "\n",
    "**Support vectors** are the data points which are nearest to the hyperplane of maximal margin classifier. If they are removed, the position of hyperplane is changed.\n",
    "\n",
    "**Support vector classifier (soft margin classifier)** is modification to maximal margin classifier such that it allows some data to be in the margin or in the wrong side of the hyperplane. So applicable in **nonseparable case**. Maximal margin classifier doesn't allow the data to be in the margin and in the wrong side.\n",
    "\n",
    "**Support vector machine** is an extension of support vector classifier by enlarging feature space by using **kernels** to produce non-linear boundary in an efficient way. Why efficient? Because kernel is an inner product of two data between all pairs of the data and scaling depending on a different kernel.\n",
    "\n",
    "**ISL** argues that people sometimes refer to **maximal margin classifier**, **support vector classifier (soft margin classifier)** and **support vector machine** as support vector machine, but ISL distinguishes them."
   ]
  },
  {
   "cell_type": "code",
   "execution_count": 62,
   "id": "43522ed7",
   "metadata": {},
   "outputs": [],
   "source": [
    "# from math behind large margin classification"
   ]
  },
  {
   "cell_type": "code",
   "execution_count": 15,
   "id": "69025328",
   "metadata": {
    "scrolled": true
   },
   "outputs": [
    {
     "data": {
      "image/png": "[encoded data removed]",
      "text/plain": [
       "<Figure size 432x288 with 1 Axes>"
      ]
     },
     "metadata": {
      "needs_background": "light"
     },
     "output_type": "display_data"
    }
   ],
   "source": [
    "x = np.linspace(-5, 5, 100)\n",
    "plt.plot(x, np.exp(-x))\n",
    "plt.title('$e^{-x}$\\nWhen x gets larger, $e^{-x}$ gets smaller')\n",
    "plt.grid()\n",
    "plt.show()"
   ]
  },
  {
   "cell_type": "code",
   "execution_count": 26,
   "id": "515853dc",
   "metadata": {
    "scrolled": true
   },
   "outputs": [
    {
     "data": {
      "image/png": "[encoded data removed]",
      "text/plain": [
       "<Figure size 432x288 with 1 Axes>"
      ]
     },
     "metadata": {
      "needs_background": "light"
     },
     "output_type": "display_data"
    }
   ],
   "source": [
    "def sigmoid(x):\n",
    "    return 1 / (1 + np.exp(-x))\n",
    "\n",
    "x = np.linspace(-7, 7, 100)\n",
    "plt.plot(x, sigmoid(x))\n",
    "plt.title('Sigmoid function')\n",
    "plt.grid()\n",
    "plt.show()"
   ]
  },
  {
   "cell_type": "code",
   "execution_count": 5,
   "id": "59e16f07",
   "metadata": {
    "scrolled": false
   },
   "outputs": [
    {
     "data": {
      "image/png": "[encoded data removed]",
      "text/plain": [
       "<Figure size 864x360 with 2 Axes>"
      ]
     },
     "metadata": {
      "needs_background": "light"
     },
     "output_type": "display_data"
    }
   ],
   "source": [
    "def sigmoid_y_1(z):\n",
    "    return - np.log(1 / (1 + np.exp(-z)))\n",
    "\n",
    "\n",
    "def sigmoid_y_0(z):\n",
    "    return - np.log(1 - 1 / (1 + np.exp(-z)))\n",
    "\n",
    "\n",
    "def svm_y_1(z):\n",
    "    return np.where(z >= 1, 0, -z + 1)\n",
    "#     return np.where(z >= 0, 0, -z)\n",
    "\n",
    "\n",
    "def svm_y_0(z):\n",
    "    return np.where(z <= -1, 0, z + 1)\n",
    "\n",
    "\n",
    "plt.figure(figsize=(12, 5))\n",
    "\n",
    "plt.subplot(121)\n",
    "z = np.linspace(-3, 3, 100)\n",
    "plt.plot(z, sigmoid_y_1(z), label='Logistic regression')\n",
    "plt.plot(z, svm_y_1(z), label='SVM')\n",
    "plt.title('Cost function when y = 1')\n",
    "plt.xlabel('theta^T x = z')\n",
    "plt.ylabel('Cost')\n",
    "plt.legend()\n",
    "plt.grid()\n",
    "plt.axis('square')\n",
    "\n",
    "plt.subplot(122)\n",
    "z = np.linspace(-3, 3, 100)\n",
    "plt.plot(z, sigmoid_y_0(z), label='Logistic regression')\n",
    "plt.plot(z, svm_y_0(z), label='SVM')\n",
    "plt.title('Cost function when y = 0')\n",
    "plt.xlabel('theta^T x = z')\n",
    "plt.ylabel('Cost')\n",
    "plt.legend()\n",
    "plt.grid()\n",
    "plt.axis('square')\n",
    "\n",
    "plt.show()"
   ]
  },
  {
   "cell_type": "code",
   "execution_count": 21,
   "id": "5520c274",
   "metadata": {
    "scrolled": false
   },
   "outputs": [
    {
     "data": {
      "image/png": "[encoded data removed]",
      "text/plain": [
       "<Figure size 432x288 with 1 Axes>"
      ]
     },
     "metadata": {
      "needs_background": "light"
     },
     "output_type": "display_data"
    },
    {
     "data": {
      "image/png": "[encoded data removed]",
      "text/plain": [
       "<Figure size 432x288 with 1 Axes>"
      ]
     },
     "metadata": {
      "needs_background": "light"
     },
     "output_type": "display_data"
    }
   ],
   "source": [
    "def gaussian_kernel(x_1, x_2, sigma):\n",
    "    return np.exp(-1 * (abs(x_1 - x_2) ** 2) / (2 * sigma **2 ) )\n",
    "\n",
    "x_1 = 0\n",
    "x_2 = np.linspace(-5, 5, 100)\n",
    "sigma = 1\n",
    "plt.plot(x_2, gaussian_kernel(x_1, x_2, sigma), label='Gaussian kernel')\n",
    "plt.axvline(x=x_1, color='tab:red', label='x_1')\n",
    "plt.title(f'Gaussian kernel output\\nwhen x_1 is fixed and x_2 varies and sigma is {sigma}')\n",
    "plt.xlabel('x_2')\n",
    "plt.ylabel('Gaussian kernel')\n",
    "plt.show()\n",
    "\n",
    "x_1 = 0\n",
    "x_2 = np.linspace(-5, 5, 100)\n",
    "sigma = 2\n",
    "plt.plot(x_2, gaussian_kernel(x_1, x_2, sigma), label='Gaussian kernel')\n",
    "plt.axvline(x=x_1, color='tab:red', label='x_1')\n",
    "plt.title(f'Gaussian kernel output\\nwhen x_1 is fixed and x_2 varies and sigma is {sigma}')\n",
    "plt.xlabel('x_2')\n",
    "plt.ylabel('Gaussian kernel')\n",
    "plt.show()"
   ]
  },
  {
   "cell_type": "code",
   "execution_count": 57,
   "id": "fa8d3594",
   "metadata": {
    "scrolled": false
   },
   "outputs": [
    {
     "data": {
      "image/png": "[encoded data removed]",
      "text/plain": [
       "<Figure size 864x432 with 2 Axes>"
      ]
     },
     "metadata": {
      "needs_background": "light"
     },
     "output_type": "display_data"
    }
   ],
   "source": [
    "def isl_svm_loss(x, y):\n",
    "    return max(0, 1 - y * x)\n",
    "\n",
    "\n",
    "xs = np.linspace(-3, 3, 100)\n",
    "\n",
    "y = 1\n",
    "losses_1 = []\n",
    "for x in xs:\n",
    "    losses_1.append(isl_svm_loss(x, y))\n",
    "\n",
    "y = -1\n",
    "losses_0 = []\n",
    "for x in xs:\n",
    "    losses_0.append(isl_svm_loss(x, y))\n",
    "\n",
    "    \n",
    "plt.figure(figsize=(12, 6))\n",
    "\n",
    "plt.subplot(121)\n",
    "plt.plot(xs, losses_1)\n",
    "plt.title('When y = 1')\n",
    "plt.xlabel('f(x_i), x_i, theta^T x_i, z')\n",
    "plt.ylabel('Loss')\n",
    "plt.axis('square')\n",
    "plt.grid()\n",
    "\n",
    "plt.subplot(122)\n",
    "plt.plot(xs, losses_0)\n",
    "plt.title('When y = -1')\n",
    "plt.xlabel('f(x_i), x_i, theta^T x_i, z')\n",
    "plt.ylabel('Loss')\n",
    "plt.axis('square')\n",
    "plt.grid()\n",
    "\n",
    "plt.show()"
   ]
  },
  {
   "cell_type": "markdown",
   "id": "38765a5e",
   "metadata": {},
   "source": [
    "## Parameter"
   ]
  },
  {
   "cell_type": "code",
   "execution_count": 37,
   "id": "142cf52f",
   "metadata": {
    "scrolled": true
   },
   "outputs": [],
   "source": [
    "CSV_01 = '../data/breast_cancer_wisconsin_diagnostic.csv'\n",
    "target_to_class = {\n",
    "    0: 'Malignant',\n",
    "    1: 'Benign'\n",
    "}\n",
    "TEST_SIZE = 0.3\n",
    "RANDOM_STATE = 109"
   ]
  },
  {
   "cell_type": "markdown",
   "id": "16f065d3",
   "metadata": {},
   "source": [
    "## Get data"
   ]
  },
  {
   "cell_type": "code",
   "execution_count": 27,
   "id": "da726134",
   "metadata": {
    "scrolled": true
   },
   "outputs": [],
   "source": [
    "# cancer = datasets.load_breast_cancer()\n",
    "# df = pd.DataFrame(cancer.data, columns=cancer.feature_names)\n",
    "# df.insert(loc=0, column='target', value=cancer.target)\n",
    "# df.to_csv(CSV_01, index=False)"
   ]
  },
  {
   "cell_type": "code",
   "execution_count": 28,
   "id": "58f1bbe8",
   "metadata": {
    "scrolled": true
   },
   "outputs": [],
   "source": [
    "df = pd.read_csv(CSV_01)"
   ]
  },
  {
   "cell_type": "code",
   "execution_count": 29,
   "id": "e0661e63",
   "metadata": {
    "scrolled": true
   },
   "outputs": [
    {
     "name": "stdout",
     "output_type": "stream",
     "text": [
      "(569, 31)\n"
     ]
    }
   ],
   "source": [
    "print(df.shape)"
   ]
  },
  {
   "cell_type": "code",
   "execution_count": 30,
   "id": "00d972e4",
   "metadata": {
    "scrolled": true
   },
   "outputs": [
    {
     "data": {
      "text/html": [
       "<div>\n",
       "<style scoped>\n",
       "    .dataframe tbody tr th:only-of-type {\n",
       "        vertical-align: middle;\n",
       "    }\n",
       "\n",
       "    .dataframe tbody tr th {\n",
       "        vertical-align: top;\n",
       "    }\n",
       "\n",
       "    .dataframe thead th {\n",
       "        text-align: right;\n",
       "    }\n",
       "</style>\n",
       "<table border=\"1\" class=\"dataframe\">\n",
       "  <thead>\n",
       "    <tr style=\"text-align: right;\">\n",
       "      <th></th>\n",
       "      <th>target</th>\n",
       "      <th>mean radius</th>\n",
       "      <th>mean texture</th>\n",
       "      <th>mean perimeter</th>\n",
       "      <th>mean area</th>\n",
       "      <th>mean smoothness</th>\n",
       "      <th>mean compactness</th>\n",
       "      <th>mean concavity</th>\n",
       "      <th>mean concave points</th>\n",
       "      <th>mean symmetry</th>\n",
       "      <th>mean fractal dimension</th>\n",
       "      <th>radius error</th>\n",
       "      <th>texture error</th>\n",
       "      <th>perimeter error</th>\n",
       "      <th>area error</th>\n",
       "      <th>smoothness error</th>\n",
       "      <th>compactness error</th>\n",
       "      <th>concavity error</th>\n",
       "      <th>concave points error</th>\n",
       "      <th>symmetry error</th>\n",
       "      <th>fractal dimension error</th>\n",
       "      <th>worst radius</th>\n",
       "      <th>worst texture</th>\n",
       "      <th>worst perimeter</th>\n",
       "      <th>worst area</th>\n",
       "      <th>worst smoothness</th>\n",
       "      <th>worst compactness</th>\n",
       "      <th>worst concavity</th>\n",
       "      <th>worst concave points</th>\n",
       "      <th>worst symmetry</th>\n",
       "      <th>worst fractal dimension</th>\n",
       "    </tr>\n",
       "  </thead>\n",
       "  <tbody>\n",
       "    <tr>\n",
       "      <th>0</th>\n",
       "      <td>0</td>\n",
       "      <td>17.99</td>\n",
       "      <td>10.38</td>\n",
       "      <td>122.80</td>\n",
       "      <td>1001.0</td>\n",
       "      <td>0.11840</td>\n",
       "      <td>0.27760</td>\n",
       "      <td>0.3001</td>\n",
       "      <td>0.14710</td>\n",
       "      <td>0.2419</td>\n",
       "      <td>0.07871</td>\n",
       "      <td>1.0950</td>\n",
       "      <td>0.9053</td>\n",
       "      <td>8.589</td>\n",
       "      <td>153.40</td>\n",
       "      <td>0.006399</td>\n",
       "      <td>0.04904</td>\n",
       "      <td>0.05373</td>\n",
       "      <td>0.01587</td>\n",
       "      <td>0.03003</td>\n",
       "      <td>0.006193</td>\n",
       "      <td>25.38</td>\n",
       "      <td>17.33</td>\n",
       "      <td>184.60</td>\n",
       "      <td>2019.0</td>\n",
       "      <td>0.1622</td>\n",
       "      <td>0.6656</td>\n",
       "      <td>0.7119</td>\n",
       "      <td>0.2654</td>\n",
       "      <td>0.4601</td>\n",
       "      <td>0.11890</td>\n",
       "    </tr>\n",
       "    <tr>\n",
       "      <th>1</th>\n",
       "      <td>0</td>\n",
       "      <td>20.57</td>\n",
       "      <td>17.77</td>\n",
       "      <td>132.90</td>\n",
       "      <td>1326.0</td>\n",
       "      <td>0.08474</td>\n",
       "      <td>0.07864</td>\n",
       "      <td>0.0869</td>\n",
       "      <td>0.07017</td>\n",
       "      <td>0.1812</td>\n",
       "      <td>0.05667</td>\n",
       "      <td>0.5435</td>\n",
       "      <td>0.7339</td>\n",
       "      <td>3.398</td>\n",
       "      <td>74.08</td>\n",
       "      <td>0.005225</td>\n",
       "      <td>0.01308</td>\n",
       "      <td>0.01860</td>\n",
       "      <td>0.01340</td>\n",
       "      <td>0.01389</td>\n",
       "      <td>0.003532</td>\n",
       "      <td>24.99</td>\n",
       "      <td>23.41</td>\n",
       "      <td>158.80</td>\n",
       "      <td>1956.0</td>\n",
       "      <td>0.1238</td>\n",
       "      <td>0.1866</td>\n",
       "      <td>0.2416</td>\n",
       "      <td>0.1860</td>\n",
       "      <td>0.2750</td>\n",
       "      <td>0.08902</td>\n",
       "    </tr>\n",
       "    <tr>\n",
       "      <th>2</th>\n",
       "      <td>0</td>\n",
       "      <td>19.69</td>\n",
       "      <td>21.25</td>\n",
       "      <td>130.00</td>\n",
       "      <td>1203.0</td>\n",
       "      <td>0.10960</td>\n",
       "      <td>0.15990</td>\n",
       "      <td>0.1974</td>\n",
       "      <td>0.12790</td>\n",
       "      <td>0.2069</td>\n",
       "      <td>0.05999</td>\n",
       "      <td>0.7456</td>\n",
       "      <td>0.7869</td>\n",
       "      <td>4.585</td>\n",
       "      <td>94.03</td>\n",
       "      <td>0.006150</td>\n",
       "      <td>0.04006</td>\n",
       "      <td>0.03832</td>\n",
       "      <td>0.02058</td>\n",
       "      <td>0.02250</td>\n",
       "      <td>0.004571</td>\n",
       "      <td>23.57</td>\n",
       "      <td>25.53</td>\n",
       "      <td>152.50</td>\n",
       "      <td>1709.0</td>\n",
       "      <td>0.1444</td>\n",
       "      <td>0.4245</td>\n",
       "      <td>0.4504</td>\n",
       "      <td>0.2430</td>\n",
       "      <td>0.3613</td>\n",
       "      <td>0.08758</td>\n",
       "    </tr>\n",
       "    <tr>\n",
       "      <th>3</th>\n",
       "      <td>0</td>\n",
       "      <td>11.42</td>\n",
       "      <td>20.38</td>\n",
       "      <td>77.58</td>\n",
       "      <td>386.1</td>\n",
       "      <td>0.14250</td>\n",
       "      <td>0.28390</td>\n",
       "      <td>0.2414</td>\n",
       "      <td>0.10520</td>\n",
       "      <td>0.2597</td>\n",
       "      <td>0.09744</td>\n",
       "      <td>0.4956</td>\n",
       "      <td>1.1560</td>\n",
       "      <td>3.445</td>\n",
       "      <td>27.23</td>\n",
       "      <td>0.009110</td>\n",
       "      <td>0.07458</td>\n",
       "      <td>0.05661</td>\n",
       "      <td>0.01867</td>\n",
       "      <td>0.05963</td>\n",
       "      <td>0.009208</td>\n",
       "      <td>14.91</td>\n",
       "      <td>26.50</td>\n",
       "      <td>98.87</td>\n",
       "      <td>567.7</td>\n",
       "      <td>0.2098</td>\n",
       "      <td>0.8663</td>\n",
       "      <td>0.6869</td>\n",
       "      <td>0.2575</td>\n",
       "      <td>0.6638</td>\n",
       "      <td>0.17300</td>\n",
       "    </tr>\n",
       "    <tr>\n",
       "      <th>4</th>\n",
       "      <td>0</td>\n",
       "      <td>20.29</td>\n",
       "      <td>14.34</td>\n",
       "      <td>135.10</td>\n",
       "      <td>1297.0</td>\n",
       "      <td>0.10030</td>\n",
       "      <td>0.13280</td>\n",
       "      <td>0.1980</td>\n",
       "      <td>0.10430</td>\n",
       "      <td>0.1809</td>\n",
       "      <td>0.05883</td>\n",
       "      <td>0.7572</td>\n",
       "      <td>0.7813</td>\n",
       "      <td>5.438</td>\n",
       "      <td>94.44</td>\n",
       "      <td>0.011490</td>\n",
       "      <td>0.02461</td>\n",
       "      <td>0.05688</td>\n",
       "      <td>0.01885</td>\n",
       "      <td>0.01756</td>\n",
       "      <td>0.005115</td>\n",
       "      <td>22.54</td>\n",
       "      <td>16.67</td>\n",
       "      <td>152.20</td>\n",
       "      <td>1575.0</td>\n",
       "      <td>0.1374</td>\n",
       "      <td>0.2050</td>\n",
       "      <td>0.4000</td>\n",
       "      <td>0.1625</td>\n",
       "      <td>0.2364</td>\n",
       "      <td>0.07678</td>\n",
       "    </tr>\n",
       "  </tbody>\n",
       "</table>\n",
       "</div>"
      ],
      "text/plain": [
       "   target  mean radius  mean texture  mean perimeter  mean area  mean smoothness  mean compactness  mean concavity  mean concave points  mean symmetry  mean fractal dimension  radius error  texture error  perimeter error  area error  smoothness error  compactness error  concavity error  concave points error  symmetry error  fractal dimension error  worst radius  worst texture  worst perimeter  worst area  worst smoothness  worst compactness  worst concavity  worst concave points  worst symmetry  worst fractal dimension\n",
       "0       0        17.99         10.38          122.80     1001.0          0.11840           0.27760          0.3001              0.14710         0.2419                 0.07871        1.0950         0.9053            8.589      153.40          0.006399            0.04904          0.05373               0.01587         0.03003                 0.006193         25.38          17.33           184.60      2019.0            0.1622             0.6656           0.7119                0.2654          0.4601                  0.11890\n",
       "1       0        20.57         17.77          132.90     1326.0          0.08474           0.07864          0.0869              0.07017         0.1812                 0.05667        0.5435         0.7339            3.398       74.08          0.005225            0.01308          0.01860               0.01340         0.01389                 0.003532         24.99          23.41           158.80      1956.0            0.1238             0.1866           0.2416                0.1860          0.2750                  0.08902\n",
       "2       0        19.69         21.25          130.00     1203.0          0.10960           0.15990          0.1974              0.12790         0.2069                 0.05999        0.7456         0.7869            4.585       94.03          0.006150            0.04006          0.03832               0.02058         0.02250                 0.004571         23.57          25.53           152.50      1709.0            0.1444             0.4245           0.4504                0.2430          0.3613                  0.08758\n",
       "3       0        11.42         20.38           77.58      386.1          0.14250           0.28390          0.2414              0.10520         0.2597                 0.09744        0.4956         1.1560            3.445       27.23          0.009110            0.07458          0.05661               0.01867         0.05963                 0.009208         14.91          26.50            98.87       567.7            0.2098             0.8663           0.6869                0.2575          0.6638                  0.17300\n",
       "4       0        20.29         14.34          135.10     1297.0          0.10030           0.13280          0.1980              0.10430         0.1809                 0.05883        0.7572         0.7813            5.438       94.44          0.011490            0.02461          0.05688               0.01885         0.01756                 0.005115         22.54          16.67           152.20      1575.0            0.1374             0.2050           0.4000                0.1625          0.2364                  0.07678"
      ]
     },
     "execution_count": 30,
     "metadata": {},
     "output_type": "execute_result"
    }
   ],
   "source": [
    "df.head()"
   ]
  },
  {
   "cell_type": "code",
   "execution_count": 31,
   "id": "6397a0a3",
   "metadata": {
    "scrolled": true
   },
   "outputs": [
    {
     "data": {
      "text/html": [
       "<div>\n",
       "<style scoped>\n",
       "    .dataframe tbody tr th:only-of-type {\n",
       "        vertical-align: middle;\n",
       "    }\n",
       "\n",
       "    .dataframe tbody tr th {\n",
       "        vertical-align: top;\n",
       "    }\n",
       "\n",
       "    .dataframe thead th {\n",
       "        text-align: right;\n",
       "    }\n",
       "</style>\n",
       "<table border=\"1\" class=\"dataframe\">\n",
       "  <thead>\n",
       "    <tr style=\"text-align: right;\">\n",
       "      <th></th>\n",
       "      <th>target</th>\n",
       "      <th>mean radius</th>\n",
       "      <th>mean texture</th>\n",
       "      <th>mean perimeter</th>\n",
       "      <th>mean area</th>\n",
       "      <th>mean smoothness</th>\n",
       "      <th>mean compactness</th>\n",
       "      <th>mean concavity</th>\n",
       "      <th>mean concave points</th>\n",
       "      <th>mean symmetry</th>\n",
       "      <th>mean fractal dimension</th>\n",
       "      <th>radius error</th>\n",
       "      <th>texture error</th>\n",
       "      <th>perimeter error</th>\n",
       "      <th>area error</th>\n",
       "      <th>smoothness error</th>\n",
       "      <th>compactness error</th>\n",
       "      <th>concavity error</th>\n",
       "      <th>concave points error</th>\n",
       "      <th>symmetry error</th>\n",
       "      <th>fractal dimension error</th>\n",
       "      <th>worst radius</th>\n",
       "      <th>worst texture</th>\n",
       "      <th>worst perimeter</th>\n",
       "      <th>worst area</th>\n",
       "      <th>worst smoothness</th>\n",
       "      <th>worst compactness</th>\n",
       "      <th>worst concavity</th>\n",
       "      <th>worst concave points</th>\n",
       "      <th>worst symmetry</th>\n",
       "      <th>worst fractal dimension</th>\n",
       "    </tr>\n",
       "  </thead>\n",
       "  <tbody>\n",
       "    <tr>\n",
       "      <th>564</th>\n",
       "      <td>0</td>\n",
       "      <td>21.56</td>\n",
       "      <td>22.39</td>\n",
       "      <td>142.00</td>\n",
       "      <td>1479.0</td>\n",
       "      <td>0.11100</td>\n",
       "      <td>0.11590</td>\n",
       "      <td>0.24390</td>\n",
       "      <td>0.13890</td>\n",
       "      <td>0.1726</td>\n",
       "      <td>0.05623</td>\n",
       "      <td>1.1760</td>\n",
       "      <td>1.256</td>\n",
       "      <td>7.673</td>\n",
       "      <td>158.70</td>\n",
       "      <td>0.010300</td>\n",
       "      <td>0.02891</td>\n",
       "      <td>0.05198</td>\n",
       "      <td>0.02454</td>\n",
       "      <td>0.01114</td>\n",
       "      <td>0.004239</td>\n",
       "      <td>25.450</td>\n",
       "      <td>26.40</td>\n",
       "      <td>166.10</td>\n",
       "      <td>2027.0</td>\n",
       "      <td>0.14100</td>\n",
       "      <td>0.21130</td>\n",
       "      <td>0.4107</td>\n",
       "      <td>0.2216</td>\n",
       "      <td>0.2060</td>\n",
       "      <td>0.07115</td>\n",
       "    </tr>\n",
       "    <tr>\n",
       "      <th>565</th>\n",
       "      <td>0</td>\n",
       "      <td>20.13</td>\n",
       "      <td>28.25</td>\n",
       "      <td>131.20</td>\n",
       "      <td>1261.0</td>\n",
       "      <td>0.09780</td>\n",
       "      <td>0.10340</td>\n",
       "      <td>0.14400</td>\n",
       "      <td>0.09791</td>\n",
       "      <td>0.1752</td>\n",
       "      <td>0.05533</td>\n",
       "      <td>0.7655</td>\n",
       "      <td>2.463</td>\n",
       "      <td>5.203</td>\n",
       "      <td>99.04</td>\n",
       "      <td>0.005769</td>\n",
       "      <td>0.02423</td>\n",
       "      <td>0.03950</td>\n",
       "      <td>0.01678</td>\n",
       "      <td>0.01898</td>\n",
       "      <td>0.002498</td>\n",
       "      <td>23.690</td>\n",
       "      <td>38.25</td>\n",
       "      <td>155.00</td>\n",
       "      <td>1731.0</td>\n",
       "      <td>0.11660</td>\n",
       "      <td>0.19220</td>\n",
       "      <td>0.3215</td>\n",
       "      <td>0.1628</td>\n",
       "      <td>0.2572</td>\n",
       "      <td>0.06637</td>\n",
       "    </tr>\n",
       "    <tr>\n",
       "      <th>566</th>\n",
       "      <td>0</td>\n",
       "      <td>16.60</td>\n",
       "      <td>28.08</td>\n",
       "      <td>108.30</td>\n",
       "      <td>858.1</td>\n",
       "      <td>0.08455</td>\n",
       "      <td>0.10230</td>\n",
       "      <td>0.09251</td>\n",
       "      <td>0.05302</td>\n",
       "      <td>0.1590</td>\n",
       "      <td>0.05648</td>\n",
       "      <td>0.4564</td>\n",
       "      <td>1.075</td>\n",
       "      <td>3.425</td>\n",
       "      <td>48.55</td>\n",
       "      <td>0.005903</td>\n",
       "      <td>0.03731</td>\n",
       "      <td>0.04730</td>\n",
       "      <td>0.01557</td>\n",
       "      <td>0.01318</td>\n",
       "      <td>0.003892</td>\n",
       "      <td>18.980</td>\n",
       "      <td>34.12</td>\n",
       "      <td>126.70</td>\n",
       "      <td>1124.0</td>\n",
       "      <td>0.11390</td>\n",
       "      <td>0.30940</td>\n",
       "      <td>0.3403</td>\n",
       "      <td>0.1418</td>\n",
       "      <td>0.2218</td>\n",
       "      <td>0.07820</td>\n",
       "    </tr>\n",
       "    <tr>\n",
       "      <th>567</th>\n",
       "      <td>0</td>\n",
       "      <td>20.60</td>\n",
       "      <td>29.33</td>\n",
       "      <td>140.10</td>\n",
       "      <td>1265.0</td>\n",
       "      <td>0.11780</td>\n",
       "      <td>0.27700</td>\n",
       "      <td>0.35140</td>\n",
       "      <td>0.15200</td>\n",
       "      <td>0.2397</td>\n",
       "      <td>0.07016</td>\n",
       "      <td>0.7260</td>\n",
       "      <td>1.595</td>\n",
       "      <td>5.772</td>\n",
       "      <td>86.22</td>\n",
       "      <td>0.006522</td>\n",
       "      <td>0.06158</td>\n",
       "      <td>0.07117</td>\n",
       "      <td>0.01664</td>\n",
       "      <td>0.02324</td>\n",
       "      <td>0.006185</td>\n",
       "      <td>25.740</td>\n",
       "      <td>39.42</td>\n",
       "      <td>184.60</td>\n",
       "      <td>1821.0</td>\n",
       "      <td>0.16500</td>\n",
       "      <td>0.86810</td>\n",
       "      <td>0.9387</td>\n",
       "      <td>0.2650</td>\n",
       "      <td>0.4087</td>\n",
       "      <td>0.12400</td>\n",
       "    </tr>\n",
       "    <tr>\n",
       "      <th>568</th>\n",
       "      <td>1</td>\n",
       "      <td>7.76</td>\n",
       "      <td>24.54</td>\n",
       "      <td>47.92</td>\n",
       "      <td>181.0</td>\n",
       "      <td>0.05263</td>\n",
       "      <td>0.04362</td>\n",
       "      <td>0.00000</td>\n",
       "      <td>0.00000</td>\n",
       "      <td>0.1587</td>\n",
       "      <td>0.05884</td>\n",
       "      <td>0.3857</td>\n",
       "      <td>1.428</td>\n",
       "      <td>2.548</td>\n",
       "      <td>19.15</td>\n",
       "      <td>0.007189</td>\n",
       "      <td>0.00466</td>\n",
       "      <td>0.00000</td>\n",
       "      <td>0.00000</td>\n",
       "      <td>0.02676</td>\n",
       "      <td>0.002783</td>\n",
       "      <td>9.456</td>\n",
       "      <td>30.37</td>\n",
       "      <td>59.16</td>\n",
       "      <td>268.6</td>\n",
       "      <td>0.08996</td>\n",
       "      <td>0.06444</td>\n",
       "      <td>0.0000</td>\n",
       "      <td>0.0000</td>\n",
       "      <td>0.2871</td>\n",
       "      <td>0.07039</td>\n",
       "    </tr>\n",
       "  </tbody>\n",
       "</table>\n",
       "</div>"
      ],
      "text/plain": [
       "     target  mean radius  mean texture  mean perimeter  mean area  mean smoothness  mean compactness  mean concavity  mean concave points  mean symmetry  mean fractal dimension  radius error  texture error  perimeter error  area error  smoothness error  compactness error  concavity error  concave points error  symmetry error  fractal dimension error  worst radius  worst texture  worst perimeter  worst area  worst smoothness  worst compactness  worst concavity  worst concave points  worst symmetry  worst fractal dimension\n",
       "564       0        21.56         22.39          142.00     1479.0          0.11100           0.11590         0.24390              0.13890         0.1726                 0.05623        1.1760          1.256            7.673      158.70          0.010300            0.02891          0.05198               0.02454         0.01114                 0.004239        25.450          26.40           166.10      2027.0           0.14100            0.21130           0.4107                0.2216          0.2060                  0.07115\n",
       "565       0        20.13         28.25          131.20     1261.0          0.09780           0.10340         0.14400              0.09791         0.1752                 0.05533        0.7655          2.463            5.203       99.04          0.005769            0.02423          0.03950               0.01678         0.01898                 0.002498        23.690          38.25           155.00      1731.0           0.11660            0.19220           0.3215                0.1628          0.2572                  0.06637\n",
       "566       0        16.60         28.08          108.30      858.1          0.08455           0.10230         0.09251              0.05302         0.1590                 0.05648        0.4564          1.075            3.425       48.55          0.005903            0.03731          0.04730               0.01557         0.01318                 0.003892        18.980          34.12           126.70      1124.0           0.11390            0.30940           0.3403                0.1418          0.2218                  0.07820\n",
       "567       0        20.60         29.33          140.10     1265.0          0.11780           0.27700         0.35140              0.15200         0.2397                 0.07016        0.7260          1.595            5.772       86.22          0.006522            0.06158          0.07117               0.01664         0.02324                 0.006185        25.740          39.42           184.60      1821.0           0.16500            0.86810           0.9387                0.2650          0.4087                  0.12400\n",
       "568       1         7.76         24.54           47.92      181.0          0.05263           0.04362         0.00000              0.00000         0.1587                 0.05884        0.3857          1.428            2.548       19.15          0.007189            0.00466          0.00000               0.00000         0.02676                 0.002783         9.456          30.37            59.16       268.6           0.08996            0.06444           0.0000                0.0000          0.2871                  0.07039"
      ]
     },
     "execution_count": 31,
     "metadata": {},
     "output_type": "execute_result"
    }
   ],
   "source": [
    "df.tail()"
   ]
  },
  {
   "cell_type": "code",
   "execution_count": 36,
   "id": "796c19b4",
   "metadata": {
    "scrolled": false
   },
   "outputs": [
    {
     "name": "stdout",
     "output_type": "stream",
     "text": [
      "Class: Malignant, proportion: 37.3%\n",
      "Class: Benign, proportion: 62.7%\n"
     ]
    }
   ],
   "source": [
    "counter = Counter(df['target'])\n",
    "for k, v in counter.items():\n",
    "    print(f'Class: {target_to_class[k]}, proportion: {v / len(df):.1%}')"
   ]
  },
  {
   "cell_type": "markdown",
   "id": "d612a6cf",
   "metadata": {},
   "source": [
    "## Split data"
   ]
  },
  {
   "cell_type": "code",
   "execution_count": 39,
   "id": "8a6c0b96",
   "metadata": {
    "scrolled": true
   },
   "outputs": [],
   "source": [
    "df_tmp = df.copy()\n",
    "y = df_tmp.pop('target')\n",
    "X = df_tmp\n",
    "X_train, X_test, y_train, y_test = train_test_split(X, y, test_size=TEST_SIZE, random_state=RANDOM_STATE)"
   ]
  },
  {
   "cell_type": "code",
   "execution_count": 40,
   "id": "aa4b0e66",
   "metadata": {
    "scrolled": true
   },
   "outputs": [
    {
     "name": "stdout",
     "output_type": "stream",
     "text": [
      "Train, (398, 30), (398,)\n",
      "Test, (171, 30), (171,)\n"
     ]
    }
   ],
   "source": [
    "print(f'Train, {X_train.shape}, {y_train.shape}')\n",
    "print(f'Test, {X_test.shape}, {y_test.shape}')"
   ]
  },
  {
   "cell_type": "markdown",
   "id": "54084403",
   "metadata": {},
   "source": [
    "## Train model"
   ]
  },
  {
   "cell_type": "code",
   "execution_count": 42,
   "id": "5bd77ae4",
   "metadata": {
    "scrolled": true
   },
   "outputs": [
    {
     "data": {
      "text/plain": [
       "SVC(kernel='linear')"
      ]
     },
     "execution_count": 42,
     "metadata": {},
     "output_type": "execute_result"
    }
   ],
   "source": [
    "model = SVC(kernel='linear')\n",
    "model.fit(X_train, y_train)"
   ]
  },
  {
   "cell_type": "markdown",
   "id": "d723fb7f",
   "metadata": {},
   "source": [
    "## Evaluate model"
   ]
  },
  {
   "cell_type": "code",
   "execution_count": 47,
   "id": "bdd3b145",
   "metadata": {
    "scrolled": true
   },
   "outputs": [],
   "source": [
    "y_pred = model.predict(X_test)\n",
    "accuracy = accuracy_score(y_test, y_pred)\n",
    "precision = precision_score(y_test, y_pred)\n",
    "recall = recall_score(y_test, y_pred)"
   ]
  },
  {
   "cell_type": "code",
   "execution_count": 49,
   "id": "464bdf92",
   "metadata": {
    "scrolled": true
   },
   "outputs": [
    {
     "name": "stdout",
     "output_type": "stream",
     "text": [
      "Accuracy: 96.5%, precision: 98.1%, recall: 96.3%\n"
     ]
    }
   ],
   "source": [
    "print(f'Accuracy: {accuracy:.1%}, precision: {precision:.1%}, recall: {recall:.1%}')"
   ]
  },
  {
   "cell_type": "markdown",
   "id": "fc6c884a",
   "metadata": {},
   "source": [
    "## Reference\n",
    "- [Support Vector Machines with Scikit-learn](https://www.datacamp.com/community/tutorials/svm-classification-scikit-learn-python)\n",
    "- [RBF SVM parameters](https://scikit-learn.org/stable/auto_examples/svm/plot_rbf_parameters.html)\n",
    "- ISL, Chapter 9, Support Vector Machines\n",
    "- ESL, Chapter 12, Support Vector Machines and Flexible Discriminants\n",
    "- [Radial Basis Function (RBF) Kernel: The Go-To Kernel](https://towardsdatascience.com/radial-basis-function-rbf-kernel-the-go-to-kernel-acf0d22c798a)"
   ]
  }
 ],
 "metadata": {
  "kernelspec": {
   "display_name": "env-machine-learning",
   "language": "python",
   "name": "env-machine-learning"
  },
  "language_info": {
   "codemirror_mode": {
    "name": "ipython",
    "version": 3
   },
   "file_extension": ".py",
   "mimetype": "text/x-python",
   "name": "python",
   "nbconvert_exporter": "python",
   "pygments_lexer": "ipython3",
   "version": "3.9.5"
  }
 },
 "nbformat": 4,
 "nbformat_minor": 5
}
