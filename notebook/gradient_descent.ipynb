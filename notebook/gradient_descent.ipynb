{
 "cells": [
  {
   "cell_type": "markdown",
   "id": "c6958faf",
   "metadata": {},
   "source": [
    "# Gradient Descent"
   ]
  },
  {
   "cell_type": "markdown",
   "id": "79dcc3ed",
   "metadata": {},
   "source": [
    "- Start with some $\\theta$\n",
    "- Keep changing $\\theta$ to reduce cost function $J(\\theta)$\n",
    "- Repeat until it ends up at a minimum\n",
    "\n",
    "Gradient descent algorithm\n",
    "\n",
    "$$\n",
    "\\theta_j = \\theta_j - \\alpha \\frac{\\partial}{\\partial \\theta_j} J(\\theta)\n",
    "$$\n",
    "\n",
    "$j$ is index for $p$ features. Repeat it until convergence. For each parameter, take derivative of cost function with respect to each parameter. Simultaneously update all the j $\\theta$'s\n",
    "\n",
    "Correct (Simultaneous update)\n",
    "\n",
    "temp0 = $\\theta_0 - \\alpha \\frac{\\partial}{\\partial \\theta_0} J(\\theta)$\n",
    "\n",
    "temp1 = $\\theta_1 - \\alpha \\frac{\\partial}{\\partial \\theta_1} J(\\theta)$\n",
    "\n",
    "$\\theta_0 = $ temp0\n",
    "\n",
    "$\\theta_1 = $ temp1\n",
    "\n",
    "Incorrect (Not simultaneous update)\n",
    "\n",
    "temp0 = $\\theta_0 - \\alpha \\frac{\\partial}{\\partial \\theta_0} J(\\theta)$\n",
    "\n",
    "$\\theta_0 = $ temp0\n",
    "\n",
    "temp1 = $\\theta_1 - \\alpha \\frac{\\partial}{\\partial \\theta_1} J(\\theta)$\n",
    "\n",
    "$\\theta_1 = $ temp1\n"
   ]
  },
  {
   "cell_type": "code",
   "execution_count": null,
   "id": "1428d0ee",
   "metadata": {},
   "outputs": [],
   "source": []
  },
  {
   "cell_type": "code",
   "execution_count": null,
   "id": "5623fbe2",
   "metadata": {},
   "outputs": [],
   "source": []
  },
  {
   "cell_type": "code",
   "execution_count": null,
   "id": "16b84be3",
   "metadata": {},
   "outputs": [],
   "source": []
  },
  {
   "cell_type": "code",
   "execution_count": null,
   "id": "b76b82e6",
   "metadata": {},
   "outputs": [],
   "source": []
  }
 ],
 "metadata": {
  "kernelspec": {
   "display_name": "env-machine-learning",
   "language": "python",
   "name": "env-machine-learning"
  },
  "language_info": {
   "codemirror_mode": {
    "name": "ipython",
    "version": 3
   },
   "file_extension": ".py",
   "mimetype": "text/x-python",
   "name": "python",
   "nbconvert_exporter": "python",
   "pygments_lexer": "ipython3",
   "version": "3.9.5"
  }
 },
 "nbformat": 4,
 "nbformat_minor": 5
}
