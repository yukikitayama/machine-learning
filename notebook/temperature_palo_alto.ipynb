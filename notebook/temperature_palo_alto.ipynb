{
 "cells": [
  {
   "cell_type": "markdown",
   "id": "3dbd0cc6",
   "metadata": {},
   "source": [
    "# Temperature at Palo Alto"
   ]
  },
  {
   "cell_type": "markdown",
   "id": "068d726a",
   "metadata": {},
   "source": [
    "## Dependency"
   ]
  },
  {
   "cell_type": "code",
   "execution_count": 37,
   "id": "aba0c288",
   "metadata": {},
   "outputs": [],
   "source": [
    "import eeweather\n",
    "import pandas as pd\n",
    "import matplotlib.pyplot as plt\n",
    "import pytz\n",
    "from datetime import datetime\n",
    "pd.set_option('display.max_columns', None)\n",
    "pd.set_option('display.max_rows', None)\n",
    "pd.set_option('expand_frame_repr', False)\n",
    "plt.style.use('default')"
   ]
  },
  {
   "cell_type": "markdown",
   "id": "972dbe33",
   "metadata": {},
   "source": [
    "## Parameter"
   ]
  },
  {
   "cell_type": "code",
   "execution_count": 59,
   "id": "ad8462f7",
   "metadata": {},
   "outputs": [],
   "source": [
    "# Yuki's location\n",
    "LAT = 37.41\n",
    "LON = -122.12\n",
    "# START = datetime(2021, 1, 1, tzinfo=pytz.UTC)\n",
    "START = datetime(2012, 1, 1, tzinfo=pytz.UTC)\n",
    "END = datetime(2021, 12, 31, tzinfo=pytz.UTC)"
   ]
  },
  {
   "cell_type": "markdown",
   "id": "fb9be099",
   "metadata": {},
   "source": [
    "## Get temperature data"
   ]
  },
  {
   "cell_type": "code",
   "execution_count": 60,
   "id": "fa7fc067",
   "metadata": {},
   "outputs": [
    {
     "name": "stdout",
     "output_type": "stream",
     "text": [
      "Station name: PALO ALTO AIRPORT OF SANTA CLARA COUNTY\n",
      "Station coordinates: (37.467, -122.117)\n",
      "Station ID: 724937\n"
     ]
    }
   ],
   "source": [
    "ranked_station = eeweather.rank_stations(LAT, LON)\n",
    "station, _ = eeweather.select_station(ranked_station)\n",
    "\n",
    "print(f'Station name: {station.name}')\n",
    "print(f'Station coordinates: {station.coords}')\n",
    "print(f'Station ID: {station.usaf_id}')\n",
    "\n",
    "temp_c = station.load_isd_hourly_temp_data(START, END)[0]\n",
    "temp_f = temp_c * 1.8 + 32\n",
    "\n",
    "df = pd.DataFrame({\n",
    "    'temp_c': temp_c,\n",
    "    'temp_f': temp_f\n",
    "})\n",
    "df['date'] = df.index.date"
   ]
  },
  {
   "cell_type": "code",
   "execution_count": 61,
   "id": "3762096b",
   "metadata": {},
   "outputs": [
    {
     "data": {
      "text/plain": [
       "(87649, 3)"
      ]
     },
     "execution_count": 61,
     "metadata": {},
     "output_type": "execute_result"
    }
   ],
   "source": [
    "df.shape"
   ]
  },
  {
   "cell_type": "code",
   "execution_count": 62,
   "id": "486448a1",
   "metadata": {},
   "outputs": [
    {
     "data": {
      "text/plain": [
       "temp_c    float64\n",
       "temp_f    float64\n",
       "date       object\n",
       "dtype: object"
      ]
     },
     "execution_count": 62,
     "metadata": {},
     "output_type": "execute_result"
    }
   ],
   "source": [
    "df.dtypes"
   ]
  },
  {
   "cell_type": "code",
   "execution_count": 63,
   "id": "a6f863e0",
   "metadata": {},
   "outputs": [
    {
     "data": {
      "text/html": [
       "<div>\n",
       "<style scoped>\n",
       "    .dataframe tbody tr th:only-of-type {\n",
       "        vertical-align: middle;\n",
       "    }\n",
       "\n",
       "    .dataframe tbody tr th {\n",
       "        vertical-align: top;\n",
       "    }\n",
       "\n",
       "    .dataframe thead th {\n",
       "        text-align: right;\n",
       "    }\n",
       "</style>\n",
       "<table border=\"1\" class=\"dataframe\">\n",
       "  <thead>\n",
       "    <tr style=\"text-align: right;\">\n",
       "      <th></th>\n",
       "      <th>temp_c</th>\n",
       "      <th>temp_f</th>\n",
       "      <th>date</th>\n",
       "    </tr>\n",
       "  </thead>\n",
       "  <tbody>\n",
       "    <tr>\n",
       "      <th>2012-01-01 00:00:00+00:00</th>\n",
       "      <td>12.700000</td>\n",
       "      <td>54.8600</td>\n",
       "      <td>2012-01-01</td>\n",
       "    </tr>\n",
       "    <tr>\n",
       "      <th>2012-01-01 01:00:00+00:00</th>\n",
       "      <td>10.875000</td>\n",
       "      <td>51.5750</td>\n",
       "      <td>2012-01-01</td>\n",
       "    </tr>\n",
       "    <tr>\n",
       "      <th>2012-01-01 02:00:00+00:00</th>\n",
       "      <td>7.961667</td>\n",
       "      <td>46.3310</td>\n",
       "      <td>2012-01-01</td>\n",
       "    </tr>\n",
       "    <tr>\n",
       "      <th>2012-01-01 03:00:00+00:00</th>\n",
       "      <td>7.686667</td>\n",
       "      <td>45.8360</td>\n",
       "      <td>2012-01-01</td>\n",
       "    </tr>\n",
       "    <tr>\n",
       "      <th>2012-01-01 04:00:00+00:00</th>\n",
       "      <td>7.995667</td>\n",
       "      <td>46.3922</td>\n",
       "      <td>2012-01-01</td>\n",
       "    </tr>\n",
       "  </tbody>\n",
       "</table>\n",
       "</div>"
      ],
      "text/plain": [
       "                              temp_c   temp_f        date\n",
       "2012-01-01 00:00:00+00:00  12.700000  54.8600  2012-01-01\n",
       "2012-01-01 01:00:00+00:00  10.875000  51.5750  2012-01-01\n",
       "2012-01-01 02:00:00+00:00   7.961667  46.3310  2012-01-01\n",
       "2012-01-01 03:00:00+00:00   7.686667  45.8360  2012-01-01\n",
       "2012-01-01 04:00:00+00:00   7.995667  46.3922  2012-01-01"
      ]
     },
     "execution_count": 63,
     "metadata": {},
     "output_type": "execute_result"
    }
   ],
   "source": [
    "df.head()"
   ]
  },
  {
   "cell_type": "code",
   "execution_count": 64,
   "id": "502b210f",
   "metadata": {},
   "outputs": [
    {
     "data": {
      "text/html": [
       "<div>\n",
       "<style scoped>\n",
       "    .dataframe tbody tr th:only-of-type {\n",
       "        vertical-align: middle;\n",
       "    }\n",
       "\n",
       "    .dataframe tbody tr th {\n",
       "        vertical-align: top;\n",
       "    }\n",
       "\n",
       "    .dataframe thead th {\n",
       "        text-align: right;\n",
       "    }\n",
       "</style>\n",
       "<table border=\"1\" class=\"dataframe\">\n",
       "  <thead>\n",
       "    <tr style=\"text-align: right;\">\n",
       "      <th></th>\n",
       "      <th>temp_c</th>\n",
       "      <th>temp_f</th>\n",
       "      <th>date</th>\n",
       "    </tr>\n",
       "  </thead>\n",
       "  <tbody>\n",
       "    <tr>\n",
       "      <th>2021-12-30 20:00:00+00:00</th>\n",
       "      <td>9.0000</td>\n",
       "      <td>48.20000</td>\n",
       "      <td>2021-12-30</td>\n",
       "    </tr>\n",
       "    <tr>\n",
       "      <th>2021-12-30 21:00:00+00:00</th>\n",
       "      <td>9.0433</td>\n",
       "      <td>48.27794</td>\n",
       "      <td>2021-12-30</td>\n",
       "    </tr>\n",
       "    <tr>\n",
       "      <th>2021-12-30 22:00:00+00:00</th>\n",
       "      <td>10.3733</td>\n",
       "      <td>50.67194</td>\n",
       "      <td>2021-12-30</td>\n",
       "    </tr>\n",
       "    <tr>\n",
       "      <th>2021-12-30 23:00:00+00:00</th>\n",
       "      <td>10.9884</td>\n",
       "      <td>51.77912</td>\n",
       "      <td>2021-12-30</td>\n",
       "    </tr>\n",
       "    <tr>\n",
       "      <th>2021-12-31 00:00:00+00:00</th>\n",
       "      <td>10.6756</td>\n",
       "      <td>51.21608</td>\n",
       "      <td>2021-12-31</td>\n",
       "    </tr>\n",
       "  </tbody>\n",
       "</table>\n",
       "</div>"
      ],
      "text/plain": [
       "                            temp_c    temp_f        date\n",
       "2021-12-30 20:00:00+00:00   9.0000  48.20000  2021-12-30\n",
       "2021-12-30 21:00:00+00:00   9.0433  48.27794  2021-12-30\n",
       "2021-12-30 22:00:00+00:00  10.3733  50.67194  2021-12-30\n",
       "2021-12-30 23:00:00+00:00  10.9884  51.77912  2021-12-30\n",
       "2021-12-31 00:00:00+00:00  10.6756  51.21608  2021-12-31"
      ]
     },
     "execution_count": 64,
     "metadata": {},
     "output_type": "execute_result"
    }
   ],
   "source": [
    "df.tail()"
   ]
  },
  {
   "cell_type": "markdown",
   "id": "3a3f1725",
   "metadata": {},
   "source": [
    "## Visualize temperature data"
   ]
  },
  {
   "cell_type": "code",
   "execution_count": 65,
   "id": "920f7a54",
   "metadata": {},
   "outputs": [],
   "source": [
    "df_daily_max = df.groupby('date').max()"
   ]
  },
  {
   "cell_type": "code",
   "execution_count": 67,
   "id": "3165cdd7",
   "metadata": {},
   "outputs": [
    {
     "data": {
      "text/html": [
       "<div>\n",
       "<style scoped>\n",
       "    .dataframe tbody tr th:only-of-type {\n",
       "        vertical-align: middle;\n",
       "    }\n",
       "\n",
       "    .dataframe tbody tr th {\n",
       "        vertical-align: top;\n",
       "    }\n",
       "\n",
       "    .dataframe thead th {\n",
       "        text-align: right;\n",
       "    }\n",
       "</style>\n",
       "<table border=\"1\" class=\"dataframe\">\n",
       "  <thead>\n",
       "    <tr style=\"text-align: right;\">\n",
       "      <th></th>\n",
       "      <th>temp_c</th>\n",
       "      <th>temp_f</th>\n",
       "    </tr>\n",
       "    <tr>\n",
       "      <th>date</th>\n",
       "      <th></th>\n",
       "      <th></th>\n",
       "    </tr>\n",
       "  </thead>\n",
       "  <tbody>\n",
       "    <tr>\n",
       "      <th>2012-01-01</th>\n",
       "      <td>16.665000</td>\n",
       "      <td>61.997</td>\n",
       "    </tr>\n",
       "    <tr>\n",
       "      <th>2012-01-02</th>\n",
       "      <td>13.875000</td>\n",
       "      <td>56.975</td>\n",
       "    </tr>\n",
       "    <tr>\n",
       "      <th>2012-01-03</th>\n",
       "      <td>12.956667</td>\n",
       "      <td>55.322</td>\n",
       "    </tr>\n",
       "    <tr>\n",
       "      <th>2012-01-04</th>\n",
       "      <td>18.913333</td>\n",
       "      <td>66.044</td>\n",
       "    </tr>\n",
       "    <tr>\n",
       "      <th>2012-01-05</th>\n",
       "      <td>17.621667</td>\n",
       "      <td>63.719</td>\n",
       "    </tr>\n",
       "  </tbody>\n",
       "</table>\n",
       "</div>"
      ],
      "text/plain": [
       "               temp_c  temp_f\n",
       "date                         \n",
       "2012-01-01  16.665000  61.997\n",
       "2012-01-02  13.875000  56.975\n",
       "2012-01-03  12.956667  55.322\n",
       "2012-01-04  18.913333  66.044\n",
       "2012-01-05  17.621667  63.719"
      ]
     },
     "execution_count": 67,
     "metadata": {},
     "output_type": "execute_result"
    }
   ],
   "source": [
    "df_daily_max.head()"
   ]
  },
  {
   "cell_type": "code",
   "execution_count": 68,
   "id": "0ec7afc2",
   "metadata": {
    "scrolled": true
   },
   "outputs": [
    {
     "data": {
      "text/html": [
       "<div>\n",
       "<style scoped>\n",
       "    .dataframe tbody tr th:only-of-type {\n",
       "        vertical-align: middle;\n",
       "    }\n",
       "\n",
       "    .dataframe tbody tr th {\n",
       "        vertical-align: top;\n",
       "    }\n",
       "\n",
       "    .dataframe thead th {\n",
       "        text-align: right;\n",
       "    }\n",
       "</style>\n",
       "<table border=\"1\" class=\"dataframe\">\n",
       "  <thead>\n",
       "    <tr style=\"text-align: right;\">\n",
       "      <th></th>\n",
       "      <th>temp_c</th>\n",
       "      <th>temp_f</th>\n",
       "    </tr>\n",
       "    <tr>\n",
       "      <th>date</th>\n",
       "      <th></th>\n",
       "      <th></th>\n",
       "    </tr>\n",
       "  </thead>\n",
       "  <tbody>\n",
       "    <tr>\n",
       "      <th>2021-12-27</th>\n",
       "      <td>8.9549</td>\n",
       "      <td>48.11882</td>\n",
       "    </tr>\n",
       "    <tr>\n",
       "      <th>2021-12-28</th>\n",
       "      <td>9.0000</td>\n",
       "      <td>48.20000</td>\n",
       "    </tr>\n",
       "    <tr>\n",
       "      <th>2021-12-29</th>\n",
       "      <td>12.0000</td>\n",
       "      <td>53.60000</td>\n",
       "    </tr>\n",
       "    <tr>\n",
       "      <th>2021-12-30</th>\n",
       "      <td>10.9884</td>\n",
       "      <td>51.77912</td>\n",
       "    </tr>\n",
       "    <tr>\n",
       "      <th>2021-12-31</th>\n",
       "      <td>10.6756</td>\n",
       "      <td>51.21608</td>\n",
       "    </tr>\n",
       "  </tbody>\n",
       "</table>\n",
       "</div>"
      ],
      "text/plain": [
       "             temp_c    temp_f\n",
       "date                         \n",
       "2021-12-27   8.9549  48.11882\n",
       "2021-12-28   9.0000  48.20000\n",
       "2021-12-29  12.0000  53.60000\n",
       "2021-12-30  10.9884  51.77912\n",
       "2021-12-31  10.6756  51.21608"
      ]
     },
     "execution_count": 68,
     "metadata": {},
     "output_type": "execute_result"
    }
   ],
   "source": [
    "df_daily_max.tail()"
   ]
  },
  {
   "cell_type": "code",
   "execution_count": 88,
   "id": "63e7f3b2",
   "metadata": {},
   "outputs": [
    {
     "data": {
      "text/html": [
       "<div>\n",
       "<style scoped>\n",
       "    .dataframe tbody tr th:only-of-type {\n",
       "        vertical-align: middle;\n",
       "    }\n",
       "\n",
       "    .dataframe tbody tr th {\n",
       "        vertical-align: top;\n",
       "    }\n",
       "\n",
       "    .dataframe thead th {\n",
       "        text-align: right;\n",
       "    }\n",
       "</style>\n",
       "<table border=\"1\" class=\"dataframe\">\n",
       "  <thead>\n",
       "    <tr style=\"text-align: right;\">\n",
       "      <th></th>\n",
       "      <th>temp_c</th>\n",
       "      <th>temp_f</th>\n",
       "    </tr>\n",
       "    <tr>\n",
       "      <th>date</th>\n",
       "      <th></th>\n",
       "      <th></th>\n",
       "    </tr>\n",
       "  </thead>\n",
       "  <tbody>\n",
       "    <tr>\n",
       "      <th>2017-09-01</th>\n",
       "      <td>41.5567</td>\n",
       "      <td>106.80206</td>\n",
       "    </tr>\n",
       "    <tr>\n",
       "      <th>2017-09-02</th>\n",
       "      <td>40.6433</td>\n",
       "      <td>105.15794</td>\n",
       "    </tr>\n",
       "    <tr>\n",
       "      <th>2017-09-03</th>\n",
       "      <td>39.4967</td>\n",
       "      <td>103.09406</td>\n",
       "    </tr>\n",
       "    <tr>\n",
       "      <th>2020-09-06</th>\n",
       "      <td>38.9567</td>\n",
       "      <td>102.12206</td>\n",
       "    </tr>\n",
       "    <tr>\n",
       "      <th>2020-09-07</th>\n",
       "      <td>38.8167</td>\n",
       "      <td>101.87006</td>\n",
       "    </tr>\n",
       "  </tbody>\n",
       "</table>\n",
       "</div>"
      ],
      "text/plain": [
       "             temp_c     temp_f\n",
       "date                          \n",
       "2017-09-01  41.5567  106.80206\n",
       "2017-09-02  40.6433  105.15794\n",
       "2017-09-03  39.4967  103.09406\n",
       "2020-09-06  38.9567  102.12206\n",
       "2020-09-07  38.8167  101.87006"
      ]
     },
     "execution_count": 88,
     "metadata": {},
     "output_type": "execute_result"
    }
   ],
   "source": [
    "df_daily_max.loc[df_daily_max['temp_f'] >= 100]"
   ]
  },
  {
   "cell_type": "code",
   "execution_count": 72,
   "id": "44e4c127",
   "metadata": {},
   "outputs": [
    {
     "data": {
      "image/png": "[encoded data removed]",
      "text/plain": [
       "<Figure size 640x480 with 1 Axes>"
      ]
     },
     "metadata": {},
     "output_type": "display_data"
    }
   ],
   "source": [
    "plt.hist(df_daily_max['temp_f'], bins=30, density=True)\n",
    "plt.title('Daily max temperature histogram')\n",
    "plt.xlabel('Fahrenheit')\n",
    "plt.ylabel('Density')\n",
    "plt.grid()\n",
    "plt.show()"
   ]
  },
  {
   "cell_type": "code",
   "execution_count": 90,
   "id": "d0ecdf47",
   "metadata": {},
   "outputs": [
    {
     "data": {
      "image/png": "[encoded data removed]",
      "text/plain": [
       "<Figure size 640x480 with 1 Axes>"
      ]
     },
     "metadata": {},
     "output_type": "display_data"
    }
   ],
   "source": [
    "plt.hist(df_daily_max['temp_c'], bins=30, density=True)\n",
    "plt.title('Daily max temperature histogram')\n",
    "plt.xlabel('Celsius')\n",
    "plt.ylabel('Density')\n",
    "plt.grid()\n",
    "plt.show()"
   ]
  },
  {
   "cell_type": "code",
   "execution_count": 89,
   "id": "3946e003",
   "metadata": {},
   "outputs": [
    {
     "name": "stdout",
     "output_type": "stream",
     "text": [
      "Probability to hit max temperature above 100F: 0.1%\n",
      "Number of days to hit the temperature per year: 0.5 days\n",
      "\n",
      "Probability to hit max temperature above 90F: 1.5%\n",
      "Number of days to hit the temperature per year: 5.3 days\n"
     ]
    }
   ],
   "source": [
    "prob_over_100 = sum(df_daily_max['temp_f'] > 100) / len(df_daily_max)\n",
    "prob_over_90 = sum(df_daily_max['temp_f'] > 90) / len(df_daily_max)\n",
    "\n",
    "print(f'Probability to hit max temperature above 100F: {prob_over_100:.1%}')\n",
    "print(f'Number of days to hit the temperature per year: {365 * prob_over_100:.1f} days')\n",
    "print()\n",
    "print(f'Probability to hit max temperature above 90F: {prob_over_90:.1%}')\n",
    "print(f'Number of days to hit the temperature per year: {365 * prob_over_90:.1f} days')"
   ]
  }
 ],
 "metadata": {
  "kernelspec": {
   "display_name": "env-machine-learning",
   "language": "python",
   "name": "env-machine-learning"
  },
  "language_info": {
   "codemirror_mode": {
    "name": "ipython",
    "version": 3
   },
   "file_extension": ".py",
   "mimetype": "text/x-python",
   "name": "python",
   "nbconvert_exporter": "python",
   "pygments_lexer": "ipython3",
   "version": "3.9.5"
  }
 },
 "nbformat": 4,
 "nbformat_minor": 5
}
