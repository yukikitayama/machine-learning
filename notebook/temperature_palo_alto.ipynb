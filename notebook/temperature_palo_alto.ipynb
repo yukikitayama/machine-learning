{
 "cells": [
  {
   "cell_type": "markdown",
   "id": "3dbd0cc6",
   "metadata": {},
   "source": [
    "# Temperature at Palo Alto"
   ]
  },
  {
   "cell_type": "markdown",
   "id": "068d726a",
   "metadata": {},
   "source": [
    "## Dependency"
   ]
  },
  {
   "cell_type": "code",
   "execution_count": 107,
   "id": "aba0c288",
   "metadata": {},
   "outputs": [],
   "source": [
    "import eeweather\n",
    "import pandas as pd\n",
    "import matplotlib.pyplot as plt\n",
    "import pytz\n",
    "from datetime import datetime, date\n",
    "pd.set_option('display.max_columns', None)\n",
    "pd.set_option('display.max_rows', None)\n",
    "pd.set_option('expand_frame_repr', False)\n",
    "plt.style.use('default')"
   ]
  },
  {
   "cell_type": "markdown",
   "id": "972dbe33",
   "metadata": {},
   "source": [
    "## Parameter"
   ]
  },
  {
   "cell_type": "code",
   "execution_count": 92,
   "id": "ad8462f7",
   "metadata": {},
   "outputs": [],
   "source": [
    "# Yuki's location\n",
    "LAT = 37.41\n",
    "LON = -122.12\n",
    "# START = datetime(2021, 1, 1, tzinfo=pytz.UTC)\n",
    "START = datetime(2012, 1, 1, tzinfo=pytz.UTC)\n",
    "END = datetime(2021, 12, 31, tzinfo=pytz.UTC)"
   ]
  },
  {
   "cell_type": "markdown",
   "id": "fb9be099",
   "metadata": {},
   "source": [
    "## Get temperature data"
   ]
  },
  {
   "cell_type": "code",
   "execution_count": 93,
   "id": "fa7fc067",
   "metadata": {},
   "outputs": [
    {
     "name": "stdout",
     "output_type": "stream",
     "text": [
      "Station name: PALO ALTO AIRPORT OF SANTA CLARA COUNTY\n",
      "Station coordinates: (37.467, -122.117)\n",
      "Station ID: 724937\n"
     ]
    }
   ],
   "source": [
    "ranked_station = eeweather.rank_stations(LAT, LON)\n",
    "station, _ = eeweather.select_station(ranked_station)\n",
    "\n",
    "print(f'Station name: {station.name}')\n",
    "print(f'Station coordinates: {station.coords}')\n",
    "print(f'Station ID: {station.usaf_id}')\n",
    "\n",
    "temp_c = station.load_isd_hourly_temp_data(START, END)[0]\n",
    "temp_f = temp_c * 1.8 + 32\n",
    "\n",
    "df = pd.DataFrame({\n",
    "    'temp_c': temp_c,\n",
    "    'temp_f': temp_f\n",
    "})\n",
    "df['date'] = df.index.date"
   ]
  },
  {
   "cell_type": "code",
   "execution_count": 94,
   "id": "3762096b",
   "metadata": {},
   "outputs": [
    {
     "data": {
      "text/plain": [
       "(87649, 3)"
      ]
     },
     "execution_count": 94,
     "metadata": {},
     "output_type": "execute_result"
    }
   ],
   "source": [
    "df.shape"
   ]
  },
  {
   "cell_type": "code",
   "execution_count": 95,
   "id": "486448a1",
   "metadata": {},
   "outputs": [
    {
     "data": {
      "text/plain": [
       "temp_c    float64\n",
       "temp_f    float64\n",
       "date       object\n",
       "dtype: object"
      ]
     },
     "execution_count": 95,
     "metadata": {},
     "output_type": "execute_result"
    }
   ],
   "source": [
    "df.dtypes"
   ]
  },
  {
   "cell_type": "code",
   "execution_count": 96,
   "id": "a6f863e0",
   "metadata": {},
   "outputs": [
    {
     "data": {
      "text/html": [
       "<div>\n",
       "<style scoped>\n",
       "    .dataframe tbody tr th:only-of-type {\n",
       "        vertical-align: middle;\n",
       "    }\n",
       "\n",
       "    .dataframe tbody tr th {\n",
       "        vertical-align: top;\n",
       "    }\n",
       "\n",
       "    .dataframe thead th {\n",
       "        text-align: right;\n",
       "    }\n",
       "</style>\n",
       "<table border=\"1\" class=\"dataframe\">\n",
       "  <thead>\n",
       "    <tr style=\"text-align: right;\">\n",
       "      <th></th>\n",
       "      <th>temp_c</th>\n",
       "      <th>temp_f</th>\n",
       "      <th>date</th>\n",
       "    </tr>\n",
       "  </thead>\n",
       "  <tbody>\n",
       "    <tr>\n",
       "      <th>2012-01-01 00:00:00+00:00</th>\n",
       "      <td>12.7000</td>\n",
       "      <td>54.86000</td>\n",
       "      <td>2012-01-01</td>\n",
       "    </tr>\n",
       "    <tr>\n",
       "      <th>2012-01-01 01:00:00+00:00</th>\n",
       "      <td>10.8750</td>\n",
       "      <td>51.57500</td>\n",
       "      <td>2012-01-01</td>\n",
       "    </tr>\n",
       "    <tr>\n",
       "      <th>2012-01-01 02:00:00+00:00</th>\n",
       "      <td>7.9617</td>\n",
       "      <td>46.33106</td>\n",
       "      <td>2012-01-01</td>\n",
       "    </tr>\n",
       "    <tr>\n",
       "      <th>2012-01-01 03:00:00+00:00</th>\n",
       "      <td>7.6867</td>\n",
       "      <td>45.83606</td>\n",
       "      <td>2012-01-01</td>\n",
       "    </tr>\n",
       "    <tr>\n",
       "      <th>2012-01-01 04:00:00+00:00</th>\n",
       "      <td>7.9957</td>\n",
       "      <td>46.39226</td>\n",
       "      <td>2012-01-01</td>\n",
       "    </tr>\n",
       "  </tbody>\n",
       "</table>\n",
       "</div>"
      ],
      "text/plain": [
       "                            temp_c    temp_f        date\n",
       "2012-01-01 00:00:00+00:00  12.7000  54.86000  2012-01-01\n",
       "2012-01-01 01:00:00+00:00  10.8750  51.57500  2012-01-01\n",
       "2012-01-01 02:00:00+00:00   7.9617  46.33106  2012-01-01\n",
       "2012-01-01 03:00:00+00:00   7.6867  45.83606  2012-01-01\n",
       "2012-01-01 04:00:00+00:00   7.9957  46.39226  2012-01-01"
      ]
     },
     "execution_count": 96,
     "metadata": {},
     "output_type": "execute_result"
    }
   ],
   "source": [
    "df.head()"
   ]
  },
  {
   "cell_type": "code",
   "execution_count": 97,
   "id": "502b210f",
   "metadata": {},
   "outputs": [
    {
     "data": {
      "text/html": [
       "<div>\n",
       "<style scoped>\n",
       "    .dataframe tbody tr th:only-of-type {\n",
       "        vertical-align: middle;\n",
       "    }\n",
       "\n",
       "    .dataframe tbody tr th {\n",
       "        vertical-align: top;\n",
       "    }\n",
       "\n",
       "    .dataframe thead th {\n",
       "        text-align: right;\n",
       "    }\n",
       "</style>\n",
       "<table border=\"1\" class=\"dataframe\">\n",
       "  <thead>\n",
       "    <tr style=\"text-align: right;\">\n",
       "      <th></th>\n",
       "      <th>temp_c</th>\n",
       "      <th>temp_f</th>\n",
       "      <th>date</th>\n",
       "    </tr>\n",
       "  </thead>\n",
       "  <tbody>\n",
       "    <tr>\n",
       "      <th>2021-12-30 20:00:00+00:00</th>\n",
       "      <td>9.0000</td>\n",
       "      <td>48.20000</td>\n",
       "      <td>2021-12-30</td>\n",
       "    </tr>\n",
       "    <tr>\n",
       "      <th>2021-12-30 21:00:00+00:00</th>\n",
       "      <td>9.0433</td>\n",
       "      <td>48.27794</td>\n",
       "      <td>2021-12-30</td>\n",
       "    </tr>\n",
       "    <tr>\n",
       "      <th>2021-12-30 22:00:00+00:00</th>\n",
       "      <td>10.3733</td>\n",
       "      <td>50.67194</td>\n",
       "      <td>2021-12-30</td>\n",
       "    </tr>\n",
       "    <tr>\n",
       "      <th>2021-12-30 23:00:00+00:00</th>\n",
       "      <td>10.9884</td>\n",
       "      <td>51.77912</td>\n",
       "      <td>2021-12-30</td>\n",
       "    </tr>\n",
       "    <tr>\n",
       "      <th>2021-12-31 00:00:00+00:00</th>\n",
       "      <td>10.6756</td>\n",
       "      <td>51.21608</td>\n",
       "      <td>2021-12-31</td>\n",
       "    </tr>\n",
       "  </tbody>\n",
       "</table>\n",
       "</div>"
      ],
      "text/plain": [
       "                            temp_c    temp_f        date\n",
       "2021-12-30 20:00:00+00:00   9.0000  48.20000  2021-12-30\n",
       "2021-12-30 21:00:00+00:00   9.0433  48.27794  2021-12-30\n",
       "2021-12-30 22:00:00+00:00  10.3733  50.67194  2021-12-30\n",
       "2021-12-30 23:00:00+00:00  10.9884  51.77912  2021-12-30\n",
       "2021-12-31 00:00:00+00:00  10.6756  51.21608  2021-12-31"
      ]
     },
     "execution_count": 97,
     "metadata": {},
     "output_type": "execute_result"
    }
   ],
   "source": [
    "df.tail()"
   ]
  },
  {
   "cell_type": "markdown",
   "id": "3a3f1725",
   "metadata": {},
   "source": [
    "## Visualize temperature data"
   ]
  },
  {
   "cell_type": "code",
   "execution_count": 98,
   "id": "920f7a54",
   "metadata": {},
   "outputs": [],
   "source": [
    "df_daily_max = df.groupby('date').max()"
   ]
  },
  {
   "cell_type": "code",
   "execution_count": 99,
   "id": "3165cdd7",
   "metadata": {},
   "outputs": [
    {
     "data": {
      "text/html": [
       "<div>\n",
       "<style scoped>\n",
       "    .dataframe tbody tr th:only-of-type {\n",
       "        vertical-align: middle;\n",
       "    }\n",
       "\n",
       "    .dataframe tbody tr th {\n",
       "        vertical-align: top;\n",
       "    }\n",
       "\n",
       "    .dataframe thead th {\n",
       "        text-align: right;\n",
       "    }\n",
       "</style>\n",
       "<table border=\"1\" class=\"dataframe\">\n",
       "  <thead>\n",
       "    <tr style=\"text-align: right;\">\n",
       "      <th></th>\n",
       "      <th>temp_c</th>\n",
       "      <th>temp_f</th>\n",
       "    </tr>\n",
       "    <tr>\n",
       "      <th>date</th>\n",
       "      <th></th>\n",
       "      <th></th>\n",
       "    </tr>\n",
       "  </thead>\n",
       "  <tbody>\n",
       "    <tr>\n",
       "      <th>2012-01-01</th>\n",
       "      <td>16.6650</td>\n",
       "      <td>61.99700</td>\n",
       "    </tr>\n",
       "    <tr>\n",
       "      <th>2012-01-02</th>\n",
       "      <td>13.8750</td>\n",
       "      <td>56.97500</td>\n",
       "    </tr>\n",
       "    <tr>\n",
       "      <th>2012-01-03</th>\n",
       "      <td>12.9567</td>\n",
       "      <td>55.32206</td>\n",
       "    </tr>\n",
       "    <tr>\n",
       "      <th>2012-01-04</th>\n",
       "      <td>18.9133</td>\n",
       "      <td>66.04394</td>\n",
       "    </tr>\n",
       "    <tr>\n",
       "      <th>2012-01-05</th>\n",
       "      <td>17.6217</td>\n",
       "      <td>63.71906</td>\n",
       "    </tr>\n",
       "  </tbody>\n",
       "</table>\n",
       "</div>"
      ],
      "text/plain": [
       "             temp_c    temp_f\n",
       "date                         \n",
       "2012-01-01  16.6650  61.99700\n",
       "2012-01-02  13.8750  56.97500\n",
       "2012-01-03  12.9567  55.32206\n",
       "2012-01-04  18.9133  66.04394\n",
       "2012-01-05  17.6217  63.71906"
      ]
     },
     "execution_count": 99,
     "metadata": {},
     "output_type": "execute_result"
    }
   ],
   "source": [
    "df_daily_max.head()"
   ]
  },
  {
   "cell_type": "code",
   "execution_count": 100,
   "id": "0ec7afc2",
   "metadata": {
    "scrolled": true
   },
   "outputs": [
    {
     "data": {
      "text/html": [
       "<div>\n",
       "<style scoped>\n",
       "    .dataframe tbody tr th:only-of-type {\n",
       "        vertical-align: middle;\n",
       "    }\n",
       "\n",
       "    .dataframe tbody tr th {\n",
       "        vertical-align: top;\n",
       "    }\n",
       "\n",
       "    .dataframe thead th {\n",
       "        text-align: right;\n",
       "    }\n",
       "</style>\n",
       "<table border=\"1\" class=\"dataframe\">\n",
       "  <thead>\n",
       "    <tr style=\"text-align: right;\">\n",
       "      <th></th>\n",
       "      <th>temp_c</th>\n",
       "      <th>temp_f</th>\n",
       "    </tr>\n",
       "    <tr>\n",
       "      <th>date</th>\n",
       "      <th></th>\n",
       "      <th></th>\n",
       "    </tr>\n",
       "  </thead>\n",
       "  <tbody>\n",
       "    <tr>\n",
       "      <th>2021-12-27</th>\n",
       "      <td>8.9549</td>\n",
       "      <td>48.11882</td>\n",
       "    </tr>\n",
       "    <tr>\n",
       "      <th>2021-12-28</th>\n",
       "      <td>9.0000</td>\n",
       "      <td>48.20000</td>\n",
       "    </tr>\n",
       "    <tr>\n",
       "      <th>2021-12-29</th>\n",
       "      <td>12.0000</td>\n",
       "      <td>53.60000</td>\n",
       "    </tr>\n",
       "    <tr>\n",
       "      <th>2021-12-30</th>\n",
       "      <td>10.9884</td>\n",
       "      <td>51.77912</td>\n",
       "    </tr>\n",
       "    <tr>\n",
       "      <th>2021-12-31</th>\n",
       "      <td>10.6756</td>\n",
       "      <td>51.21608</td>\n",
       "    </tr>\n",
       "  </tbody>\n",
       "</table>\n",
       "</div>"
      ],
      "text/plain": [
       "             temp_c    temp_f\n",
       "date                         \n",
       "2021-12-27   8.9549  48.11882\n",
       "2021-12-28   9.0000  48.20000\n",
       "2021-12-29  12.0000  53.60000\n",
       "2021-12-30  10.9884  51.77912\n",
       "2021-12-31  10.6756  51.21608"
      ]
     },
     "execution_count": 100,
     "metadata": {},
     "output_type": "execute_result"
    }
   ],
   "source": [
    "df_daily_max.tail()"
   ]
  },
  {
   "cell_type": "code",
   "execution_count": 101,
   "id": "63e7f3b2",
   "metadata": {},
   "outputs": [
    {
     "data": {
      "text/html": [
       "<div>\n",
       "<style scoped>\n",
       "    .dataframe tbody tr th:only-of-type {\n",
       "        vertical-align: middle;\n",
       "    }\n",
       "\n",
       "    .dataframe tbody tr th {\n",
       "        vertical-align: top;\n",
       "    }\n",
       "\n",
       "    .dataframe thead th {\n",
       "        text-align: right;\n",
       "    }\n",
       "</style>\n",
       "<table border=\"1\" class=\"dataframe\">\n",
       "  <thead>\n",
       "    <tr style=\"text-align: right;\">\n",
       "      <th></th>\n",
       "      <th>temp_c</th>\n",
       "      <th>temp_f</th>\n",
       "    </tr>\n",
       "    <tr>\n",
       "      <th>date</th>\n",
       "      <th></th>\n",
       "      <th></th>\n",
       "    </tr>\n",
       "  </thead>\n",
       "  <tbody>\n",
       "    <tr>\n",
       "      <th>2017-09-01</th>\n",
       "      <td>41.5567</td>\n",
       "      <td>106.80206</td>\n",
       "    </tr>\n",
       "    <tr>\n",
       "      <th>2017-09-02</th>\n",
       "      <td>40.6433</td>\n",
       "      <td>105.15794</td>\n",
       "    </tr>\n",
       "    <tr>\n",
       "      <th>2017-09-03</th>\n",
       "      <td>39.4967</td>\n",
       "      <td>103.09406</td>\n",
       "    </tr>\n",
       "    <tr>\n",
       "      <th>2020-09-06</th>\n",
       "      <td>38.9567</td>\n",
       "      <td>102.12206</td>\n",
       "    </tr>\n",
       "    <tr>\n",
       "      <th>2020-09-07</th>\n",
       "      <td>38.8167</td>\n",
       "      <td>101.87006</td>\n",
       "    </tr>\n",
       "  </tbody>\n",
       "</table>\n",
       "</div>"
      ],
      "text/plain": [
       "             temp_c     temp_f\n",
       "date                          \n",
       "2017-09-01  41.5567  106.80206\n",
       "2017-09-02  40.6433  105.15794\n",
       "2017-09-03  39.4967  103.09406\n",
       "2020-09-06  38.9567  102.12206\n",
       "2020-09-07  38.8167  101.87006"
      ]
     },
     "execution_count": 101,
     "metadata": {},
     "output_type": "execute_result"
    }
   ],
   "source": [
    "df_daily_max.loc[df_daily_max['temp_f'] >= 100]"
   ]
  },
  {
   "cell_type": "code",
   "execution_count": 102,
   "id": "44e4c127",
   "metadata": {},
   "outputs": [
    {
     "data": {
      "image/png": "[encoded data removed]",
      "text/plain": [
       "<Figure size 640x480 with 1 Axes>"
      ]
     },
     "metadata": {},
     "output_type": "display_data"
    }
   ],
   "source": [
    "plt.hist(df_daily_max['temp_f'], bins=30, density=True)\n",
    "plt.title('Daily max temperature histogram')\n",
    "plt.xlabel('Fahrenheit')\n",
    "plt.ylabel('Density')\n",
    "plt.grid()\n",
    "plt.show()"
   ]
  },
  {
   "cell_type": "code",
   "execution_count": 103,
   "id": "d0ecdf47",
   "metadata": {},
   "outputs": [
    {
     "data": {
      "image/png": "[encoded data removed]",
      "text/plain": [
       "<Figure size 640x480 with 1 Axes>"
      ]
     },
     "metadata": {},
     "output_type": "display_data"
    }
   ],
   "source": [
    "plt.hist(df_daily_max['temp_c'], bins=30, density=True)\n",
    "plt.title('Daily max temperature histogram')\n",
    "plt.xlabel('Celsius')\n",
    "plt.ylabel('Density')\n",
    "plt.grid()\n",
    "plt.show()"
   ]
  },
  {
   "cell_type": "code",
   "execution_count": 104,
   "id": "3946e003",
   "metadata": {},
   "outputs": [
    {
     "name": "stdout",
     "output_type": "stream",
     "text": [
      "Probability to hit max temperature above 100F: 0.1%\n",
      "Number of days to hit the temperature per year: 0.5 days\n",
      "\n",
      "Probability to hit max temperature above 90F: 1.5%\n",
      "Number of days to hit the temperature per year: 5.3 days\n"
     ]
    }
   ],
   "source": [
    "prob_over_100 = sum(df_daily_max['temp_f'] > 100) / len(df_daily_max)\n",
    "prob_over_90 = sum(df_daily_max['temp_f'] > 90) / len(df_daily_max)\n",
    "\n",
    "print(f'Probability to hit max temperature above 100F: {prob_over_100:.1%}')\n",
    "print(f'Number of days to hit the temperature per year: {365 * prob_over_100:.1f} days')\n",
    "print()\n",
    "print(f'Probability to hit max temperature above 90F: {prob_over_90:.1%}')\n",
    "print(f'Number of days to hit the temperature per year: {365 * prob_over_90:.1f} days')"
   ]
  },
  {
   "cell_type": "code",
   "execution_count": 111,
   "id": "f88ae0ca",
   "metadata": {},
   "outputs": [
    {
     "data": {
      "image/png": "[encoded data removed]",
      "text/plain": [
       "<Figure size 640x480 with 1 Axes>"
      ]
     },
     "metadata": {},
     "output_type": "display_data"
    }
   ],
   "source": [
    "df_tmp = df_daily_max.loc[df_daily_max.index >= date(2021, 5, 1)]\n",
    "plt.plot(df_tmp['temp_f'])\n",
    "plt.xticks(rotation=45)\n",
    "plt.show()"
   ]
  },
  {
   "cell_type": "code",
   "execution_count": null,
   "id": "a48e3870",
   "metadata": {},
   "outputs": [],
   "source": []
  }
 ],
 "metadata": {
  "kernelspec": {
   "display_name": "env-machine-learning",
   "language": "python",
   "name": "env-machine-learning"
  },
  "language_info": {
   "codemirror_mode": {
    "name": "ipython",
    "version": 3
   },
   "file_extension": ".py",
   "mimetype": "text/x-python",
   "name": "python",
   "nbconvert_exporter": "python",
   "pygments_lexer": "ipython3",
   "version": "3.9.5"
  }
 },
 "nbformat": 4,
 "nbformat_minor": 5
}
