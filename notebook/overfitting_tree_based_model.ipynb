{
 "cells": [
  {
   "cell_type": "markdown",
   "id": "145e6fc8",
   "metadata": {},
   "source": [
    "# Overfitting of Tree-Based Model\n",
    "\n",
    "## Techniques to avoid overfitting in decision trees\n",
    "\n",
    "- Pruning\n",
    "- Ensemble method\n",
    "\n",
    "Pruning reduces the size of the trees. The reducing can be made by tuning the hyperparameters. For example, these can stop the growth of trees.\n",
    "\n",
    "- Reduce the maximum depth of trees\n",
    "- Increase minimum sample leaf\n",
    "- Increase minimum samples to split.\n",
    "\n",
    "In ensembling, we take the average of many trees. This reduces the variance of models so that the models are not overfitting."
   ]
  }
 ],
 "metadata": {
  "kernelspec": {
   "display_name": "env-machine-learning",
   "language": "python",
   "name": "env-machine-learning"
  },
  "language_info": {
   "codemirror_mode": {
    "name": "ipython",
    "version": 3
   },
   "file_extension": ".py",
   "mimetype": "text/x-python",
   "name": "python",
   "nbconvert_exporter": "python",
   "pygments_lexer": "ipython3",
   "version": "3.9.5"
  }
 },
 "nbformat": 4,
 "nbformat_minor": 5
}
