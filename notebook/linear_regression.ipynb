{
 "cells": [
  {
   "cell_type": "markdown",
   "id": "c1a14f99",
   "metadata": {},
   "source": [
    "# Linear Regression"
   ]
  },
  {
   "cell_type": "markdown",
   "id": "43f2861e",
   "metadata": {},
   "source": [
    "Gradient descent without regularization\n",
    "\n",
    "Gradient descent with regularization\n",
    "\n",
    "Normal equation with regularization\n",
    "\n",
    "Non-invertible to invertible\n",
    "\n",
    "$h_{\\theta}(x)$ means, for fixed $\\theta$, this is a function of $x$. Hypothesis function. For example, in linear regression, $h_{\\theta}(x) = \\theta^T x$\n",
    "\n",
    "$J(\\theta)$ means a function of the parameter $\\theta$. Cost function. For example, in linear regression, $\\frac{1}{2n} \\sum_{i = 1}^{n} (h_{\\theta}(x^{(i)}) - y^{(i)})^2$"
   ]
  },
  {
   "cell_type": "code",
   "execution_count": null,
   "id": "159f9015",
   "metadata": {},
   "outputs": [],
   "source": []
  },
  {
   "cell_type": "code",
   "execution_count": null,
   "id": "3f6c78b5",
   "metadata": {},
   "outputs": [],
   "source": []
  },
  {
   "cell_type": "code",
   "execution_count": null,
   "id": "90eff3b8",
   "metadata": {},
   "outputs": [],
   "source": []
  }
 ],
 "metadata": {
  "kernelspec": {
   "display_name": "env-machine-learning",
   "language": "python",
   "name": "env-machine-learning"
  },
  "language_info": {
   "codemirror_mode": {
    "name": "ipython",
    "version": 3
   },
   "file_extension": ".py",
   "mimetype": "text/x-python",
   "name": "python",
   "nbconvert_exporter": "python",
   "pygments_lexer": "ipython3",
   "version": "3.9.5"
  }
 },
 "nbformat": 4,
 "nbformat_minor": 5
}
