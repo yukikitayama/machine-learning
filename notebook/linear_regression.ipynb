{
 "cells": [
  {
   "cell_type": "markdown",
   "id": "c1a14f99",
   "metadata": {},
   "source": [
    "# Linear Regression"
   ]
  },
  {
   "cell_type": "markdown",
   "id": "43f2861e",
   "metadata": {},
   "source": [
    "Gradient descent without regularization\n",
    "\n",
    "Gradient descent with regularization\n",
    "\n",
    "Normal equation with regularization\n",
    "\n",
    "Non-invertible to invertible\n",
    "\n",
    "$h_{\\theta}(x)$ means, for fixed $\\theta$, this is a function of $x$. Hypothesis function. For example, in linear regression, $h_{\\theta}(x) = \\theta^T x$\n",
    "\n",
    "$J(\\theta)$ means a function of the parameter $\\theta$. Cost function. For example, in linear regression, $\\frac{1}{2n} \\sum_{i = 1}^{n} (h_{\\theta}(x^{(i)}) - y^{(i)})^2$\n",
    "\n",
    "## Gradient Descent\n",
    "\n",
    "$$\n",
    "J(\\theta) = \\frac{1}{2n} \\sum_{i = 1}^{n} (h_{\\theta}(x^{(i)}) - y^{(i)})^2\n",
    "$$\n",
    "\n",
    "When $h_{\\theta}(x) = \\theta_0 + \\theta_1 x$,\n",
    "\n",
    "For $\\theta_0$,\n",
    "\n",
    "$$\n",
    "\\frac{\\partial}{\\partial \\theta_0} J(\\theta_0, \\theta_1) \n",
    "$$\n",
    "$$\n",
    "= \\frac{\\partial}{\\partial \\theta_0} \\frac{1}{2n} \\sum_{i = 1}^{n} (h_{\\theta}(x^{(i)}) - y^{(i)})^2\n",
    "$$\n",
    "$$\n",
    "= \\frac{1}{2n} \\sum_{i = 1}^{n} \\frac{\\partial}{\\partial \\theta_0} (\\theta_0 + \\theta_1 x^{(i)} - y^{(i)})^2\n",
    "$$\n",
    "\n",
    "Because of **chain rule**,\n",
    "\n",
    "$$\n",
    "= \\frac{1}{2n} 2 \\sum_{i = 1}^{n} (\\theta_0 + \\theta_1 x^{(i)} - y^{(i)}) \\frac{\\partial}{\\partial \\theta_0} (\\theta_0 + \\theta_1 x^{(i)} - y^{(i)})\n",
    "$$\n",
    "$$\n",
    "= \\frac{1}{n} \\sum_{i = 1}^{n} (\\theta_0 + \\theta_1 x^{(i)} - y^{(i)}) 1\n",
    "$$\n",
    "$$\n",
    "= \\frac{1}{n} \\sum_{i = 1}^{n} (\\theta_0 + \\theta_1 x^{(i)} - y^{(i)})\n",
    "$$\n",
    "\n",
    "Because $h_{\\theta}(x) = \\theta_0 + \\theta_1 x$,\n",
    "\n",
    "$$\n",
    "\\frac{\\partial}{\\partial \\theta_0} J(\\theta_0, \\theta_1) = \\frac{1}{n} \\sum_{i = 1}^{n} (h_{\\theta}(x^{(i)}) - y^{(i)})\n",
    "$$\n",
    "\n",
    "For $\\theta_1$,\n",
    "\n",
    "$$\n",
    "\\frac{\\partial}{\\partial \\theta_1} J(\\theta_0, \\theta_1)\n",
    "$$\n",
    "$$\n",
    "= \\frac{\\partial}{\\partial \\theta_1} \\frac{1}{2n} \\sum_{i = 1}^{n} (h_{\\theta}(x^{(i)}) - y^{(i)})^2\n",
    "$$\n",
    "$$\n",
    "= \\frac{1}{2n} \\sum_{i = 1}^{n} \\frac{\\partial}{\\partial \\theta_1} (\\theta_0 + \\theta_1 x^{(i)} - y^{(i)})^2\n",
    "$$\n",
    "$$\n",
    "= \\frac{1}{2n} 2 \\sum_{i = 1}^{n} (\\theta_0 + \\theta_1 x^{(i)} - y^{(i)}) \\frac{\\partial}{\\partial \\theta_1} (\\theta_0 + \\theta_1 x^{(i)} - y^{(i)})\n",
    "$$\n",
    "$$\n",
    "= \\frac{1}{n} \\sum_{i = 1}^{n} (\\theta_0 + \\theta_1 x^{(i)} - y^{(i)}) x^{(i)}\n",
    "$$\n",
    "$$\n",
    "= \\frac{1}{n} \\sum_{i = 1}^{n} (h_{\\theta}(x^{(i)}) - y^{(i)}) x^{(i)}\n",
    "$$\n",
    "\n",
    "Cost function (or loss function) for linear regression is always **convex** function. It doesn't have a local optimum except the global optimum."
   ]
  },
  {
   "cell_type": "code",
   "execution_count": null,
   "id": "159f9015",
   "metadata": {},
   "outputs": [],
   "source": []
  },
  {
   "cell_type": "code",
   "execution_count": null,
   "id": "3f6c78b5",
   "metadata": {},
   "outputs": [],
   "source": []
  },
  {
   "cell_type": "code",
   "execution_count": null,
   "id": "90eff3b8",
   "metadata": {},
   "outputs": [],
   "source": []
  }
 ],
 "metadata": {
  "kernelspec": {
   "display_name": "env-machine-learning",
   "language": "python",
   "name": "env-machine-learning"
  },
  "language_info": {
   "codemirror_mode": {
    "name": "ipython",
    "version": 3
   },
   "file_extension": ".py",
   "mimetype": "text/x-python",
   "name": "python",
   "nbconvert_exporter": "python",
   "pygments_lexer": "ipython3",
   "version": "3.9.5"
  }
 },
 "nbformat": 4,
 "nbformat_minor": 5
}
