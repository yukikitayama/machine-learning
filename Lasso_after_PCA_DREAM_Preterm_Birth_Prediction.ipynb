{
 "cells": [
  {
   "cell_type": "markdown",
   "metadata": {},
   "source": [
    "<font color = 'red'> Set p-value threshold in backward elimination. Make k-fold cross validation. Also try lasso after lasso."
   ]
  },
  {
   "cell_type": "markdown",
   "metadata": {},
   "source": [
    "# DREAM Preterm Birth Prediction challenge"
   ]
  },
  {
   "cell_type": "markdown",
   "metadata": {},
   "source": [
    "This is analysis of data competition \"DREAM Preterm Birth Prediction challenge\". The goal is to predict the gestational age, the months from the last period after pregnancy and the child birth, based on the blood genome data. The main difficulty is to extract important features from the data, which has 30,000 columns."
   ]
  },
  {
   "cell_type": "markdown",
   "metadata": {},
   "source": [
    "# Package"
   ]
  },
  {
   "cell_type": "code",
   "execution_count": 2,
   "metadata": {},
   "outputs": [],
   "source": [
    "import pandas as pd\n",
    "import numpy as np\n",
    "import matplotlib.pyplot as plt\n",
    "\n",
    "import statistics\n",
    "import math\n",
    "import statsmodels.api as sm\n",
    "\n",
    "from sklearn.preprocessing import StandardScaler\n",
    "from sklearn.decomposition import PCA\n",
    "from sklearn.linear_model import LinearRegression, Ridge, Lasso\n",
    "from sklearn.model_selection import cross_val_score, GridSearchCV, train_test_split\n",
    "from sklearn.metrics import accuracy_score\n",
    "\n",
    "import tensorflow as tf\n",
    "from tensorflow import keras\n",
    "from tensorflow.keras import Sequential, layers"
   ]
  },
  {
   "cell_type": "markdown",
   "metadata": {},
   "source": [
    "# Data "
   ]
  },
  {
   "cell_type": "markdown",
   "metadata": {},
   "source": [
    "The following data was preprocessed in R, by merging eset_HTA20 and anoSC1_v11_nokey.csv. It contains both train and test observations."
   ]
  },
  {
   "cell_type": "code",
   "execution_count": 3,
   "metadata": {},
   "outputs": [
    {
     "data": {
      "text/html": [
       "<div>\n",
       "<style scoped>\n",
       "    .dataframe tbody tr th:only-of-type {\n",
       "        vertical-align: middle;\n",
       "    }\n",
       "\n",
       "    .dataframe tbody tr th {\n",
       "        vertical-align: top;\n",
       "    }\n",
       "\n",
       "    .dataframe thead th {\n",
       "        text-align: right;\n",
       "    }\n",
       "</style>\n",
       "<table border=\"1\" class=\"dataframe\">\n",
       "  <thead>\n",
       "    <tr style=\"text-align: right;\">\n",
       "      <th></th>\n",
       "      <th>Unnamed: 0</th>\n",
       "      <th>g_1</th>\n",
       "      <th>g_2</th>\n",
       "      <th>g_3</th>\n",
       "      <th>g_4</th>\n",
       "      <th>g_5</th>\n",
       "      <th>g_6</th>\n",
       "      <th>g_7</th>\n",
       "      <th>g_8</th>\n",
       "      <th>g_9</th>\n",
       "      <th>...</th>\n",
       "      <th>g_32827</th>\n",
       "      <th>g_32828</th>\n",
       "      <th>g_32829</th>\n",
       "      <th>g_32830</th>\n",
       "      <th>SampleID</th>\n",
       "      <th>GA</th>\n",
       "      <th>Batch</th>\n",
       "      <th>Set</th>\n",
       "      <th>Train</th>\n",
       "      <th>Platform</th>\n",
       "    </tr>\n",
       "  </thead>\n",
       "  <tbody>\n",
       "    <tr>\n",
       "      <th>0</th>\n",
       "      <td>1</td>\n",
       "      <td>6.062215</td>\n",
       "      <td>3.796484</td>\n",
       "      <td>5.849338</td>\n",
       "      <td>3.567779</td>\n",
       "      <td>6.166815</td>\n",
       "      <td>4.443027</td>\n",
       "      <td>5.836522</td>\n",
       "      <td>6.330018</td>\n",
       "      <td>4.922339</td>\n",
       "      <td>...</td>\n",
       "      <td>8.972873</td>\n",
       "      <td>10.440245</td>\n",
       "      <td>12.101476</td>\n",
       "      <td>13.695705</td>\n",
       "      <td>Tarca_001_P1A01</td>\n",
       "      <td>11.0</td>\n",
       "      <td>1</td>\n",
       "      <td>PRB_HTA</td>\n",
       "      <td>1</td>\n",
       "      <td>HTA20</td>\n",
       "    </tr>\n",
       "    <tr>\n",
       "      <th>1</th>\n",
       "      <td>2</td>\n",
       "      <td>6.125023</td>\n",
       "      <td>3.805305</td>\n",
       "      <td>6.191562</td>\n",
       "      <td>3.452524</td>\n",
       "      <td>5.678373</td>\n",
       "      <td>4.773199</td>\n",
       "      <td>6.143398</td>\n",
       "      <td>5.601745</td>\n",
       "      <td>4.711765</td>\n",
       "      <td>...</td>\n",
       "      <td>9.376194</td>\n",
       "      <td>10.845176</td>\n",
       "      <td>12.370891</td>\n",
       "      <td>13.635522</td>\n",
       "      <td>Tarca_003_P1A03</td>\n",
       "      <td>NaN</td>\n",
       "      <td>1</td>\n",
       "      <td>PRB_HTA</td>\n",
       "      <td>0</td>\n",
       "      <td>HTA20</td>\n",
       "    </tr>\n",
       "    <tr>\n",
       "      <th>2</th>\n",
       "      <td>3</td>\n",
       "      <td>5.875502</td>\n",
       "      <td>3.450245</td>\n",
       "      <td>6.550525</td>\n",
       "      <td>3.316134</td>\n",
       "      <td>6.185059</td>\n",
       "      <td>4.393488</td>\n",
       "      <td>5.898364</td>\n",
       "      <td>6.137984</td>\n",
       "      <td>4.628124</td>\n",
       "      <td>...</td>\n",
       "      <td>8.843612</td>\n",
       "      <td>10.493416</td>\n",
       "      <td>12.295786</td>\n",
       "      <td>13.616688</td>\n",
       "      <td>Tarca_004_P1A04</td>\n",
       "      <td>32.6</td>\n",
       "      <td>1</td>\n",
       "      <td>PRB_HTA</td>\n",
       "      <td>1</td>\n",
       "      <td>HTA20</td>\n",
       "    </tr>\n",
       "    <tr>\n",
       "      <th>3</th>\n",
       "      <td>4</td>\n",
       "      <td>6.126131</td>\n",
       "      <td>3.628411</td>\n",
       "      <td>6.421877</td>\n",
       "      <td>3.432451</td>\n",
       "      <td>5.633757</td>\n",
       "      <td>4.623783</td>\n",
       "      <td>6.019792</td>\n",
       "      <td>5.787502</td>\n",
       "      <td>4.796283</td>\n",
       "      <td>...</td>\n",
       "      <td>9.191471</td>\n",
       "      <td>10.879879</td>\n",
       "      <td>12.249936</td>\n",
       "      <td>13.524328</td>\n",
       "      <td>Tarca_005_P1A05</td>\n",
       "      <td>30.6</td>\n",
       "      <td>1</td>\n",
       "      <td>PRB_HTA</td>\n",
       "      <td>1</td>\n",
       "      <td>HTA20</td>\n",
       "    </tr>\n",
       "    <tr>\n",
       "      <th>4</th>\n",
       "      <td>5</td>\n",
       "      <td>6.146466</td>\n",
       "      <td>3.446812</td>\n",
       "      <td>6.260962</td>\n",
       "      <td>3.477162</td>\n",
       "      <td>5.313198</td>\n",
       "      <td>4.422651</td>\n",
       "      <td>6.407699</td>\n",
       "      <td>5.830437</td>\n",
       "      <td>4.726488</td>\n",
       "      <td>...</td>\n",
       "      <td>9.247768</td>\n",
       "      <td>10.754316</td>\n",
       "      <td>12.245458</td>\n",
       "      <td>13.509353</td>\n",
       "      <td>Tarca_006_P1A06</td>\n",
       "      <td>NaN</td>\n",
       "      <td>1</td>\n",
       "      <td>PRB_HTA</td>\n",
       "      <td>0</td>\n",
       "      <td>HTA20</td>\n",
       "    </tr>\n",
       "  </tbody>\n",
       "</table>\n",
       "<p>5 rows × 32837 columns</p>\n",
       "</div>"
      ],
      "text/plain": [
       "   Unnamed: 0       g_1       g_2       g_3       g_4       g_5       g_6  \\\n",
       "0           1  6.062215  3.796484  5.849338  3.567779  6.166815  4.443027   \n",
       "1           2  6.125023  3.805305  6.191562  3.452524  5.678373  4.773199   \n",
       "2           3  5.875502  3.450245  6.550525  3.316134  6.185059  4.393488   \n",
       "3           4  6.126131  3.628411  6.421877  3.432451  5.633757  4.623783   \n",
       "4           5  6.146466  3.446812  6.260962  3.477162  5.313198  4.422651   \n",
       "\n",
       "        g_7       g_8       g_9    ...      g_32827    g_32828    g_32829  \\\n",
       "0  5.836522  6.330018  4.922339    ...     8.972873  10.440245  12.101476   \n",
       "1  6.143398  5.601745  4.711765    ...     9.376194  10.845176  12.370891   \n",
       "2  5.898364  6.137984  4.628124    ...     8.843612  10.493416  12.295786   \n",
       "3  6.019792  5.787502  4.796283    ...     9.191471  10.879879  12.249936   \n",
       "4  6.407699  5.830437  4.726488    ...     9.247768  10.754316  12.245458   \n",
       "\n",
       "     g_32830         SampleID    GA  Batch      Set  Train  Platform  \n",
       "0  13.695705  Tarca_001_P1A01  11.0      1  PRB_HTA      1     HTA20  \n",
       "1  13.635522  Tarca_003_P1A03   NaN      1  PRB_HTA      0     HTA20  \n",
       "2  13.616688  Tarca_004_P1A04  32.6      1  PRB_HTA      1     HTA20  \n",
       "3  13.524328  Tarca_005_P1A05  30.6      1  PRB_HTA      1     HTA20  \n",
       "4  13.509353  Tarca_006_P1A06   NaN      1  PRB_HTA      0     HTA20  \n",
       "\n",
       "[5 rows x 32837 columns]"
      ]
     },
     "execution_count": 3,
     "metadata": {},
     "output_type": "execute_result"
    }
   ],
   "source": [
    "alldata = pd.read_csv(\"alldata.csv\")\n",
    "alldata.head()"
   ]
  },
  {
   "cell_type": "markdown",
   "metadata": {},
   "source": [
    "# Train and test split"
   ]
  },
  {
   "cell_type": "code",
   "execution_count": 4,
   "metadata": {},
   "outputs": [
    {
     "name": "stdout",
     "output_type": "stream",
     "text": [
      "X_train dimension: (367, 32830)\n",
      "y_train dimension: (367,)\n",
      "X_test dimension: (368, 32830)\n"
     ]
    }
   ],
   "source": [
    "X_train_df = alldata.loc[alldata['Train'] == 1, 'g_1':'g_32830']\n",
    "y_train_df = alldata.loc[alldata['Train'] == 1, 'GA']\n",
    "X_test_df = alldata.loc[alldata['Train'] == 0, 'g_1':'g_32830']\n",
    "ID_test_df = alldata.loc[alldata['Train'] == 0, 'SampleID']\n",
    "print(\"X_train dimension:\", X_train_df.shape)\n",
    "print(\"y_train dimension:\", y_train_df.shape)\n",
    "print(\"X_test dimension:\", X_test_df.shape)"
   ]
  },
  {
   "cell_type": "markdown",
   "metadata": {},
   "source": [
    "# Principal components analysis"
   ]
  },
  {
   "cell_type": "code",
   "execution_count": 5,
   "metadata": {},
   "outputs": [],
   "source": [
    "scaler = StandardScaler()\n",
    "scaler.fit(X_train_df)\n",
    "X_train_scaled = scaler.transform(X_train_df)"
   ]
  },
  {
   "cell_type": "code",
   "execution_count": 6,
   "metadata": {},
   "outputs": [
    {
     "data": {
      "text/plain": [
       "PCA(copy=True, iterated_power='auto', n_components=None, random_state=None,\n",
       "  svd_solver='auto', tol=0.0, whiten=False)"
      ]
     },
     "execution_count": 6,
     "metadata": {},
     "output_type": "execute_result"
    }
   ],
   "source": [
    "pca = PCA()\n",
    "pca.fit(X_train_scaled)"
   ]
  },
  {
   "cell_type": "code",
   "execution_count": 25,
   "metadata": {},
   "outputs": [
    {
     "data": {
      "text/plain": [
       "0.8008095329277931"
      ]
     },
     "execution_count": 25,
     "metadata": {},
     "output_type": "execute_result"
    }
   ],
   "source": [
    "sum(pca.explained_variance_ratio_[0:150])"
   ]
  },
  {
   "cell_type": "code",
   "execution_count": 33,
   "metadata": {},
   "outputs": [
    {
     "name": "stdout",
     "output_type": "stream",
     "text": [
      "0.8008095329277931\n",
      "150\n"
     ]
    }
   ],
   "source": [
    "pca_2 = PCA(0.8)\n",
    "pca_2.fit(X_train_scaled)\n",
    "print(sum(pca_2.explained_variance_ratio_))\n",
    "print(pca_2.n_components_)"
   ]
  },
  {
   "cell_type": "code",
   "execution_count": 34,
   "metadata": {},
   "outputs": [
    {
     "data": {
      "text/plain": [
       "(367, 150)"
      ]
     },
     "execution_count": 34,
     "metadata": {},
     "output_type": "execute_result"
    }
   ],
   "source": [
    "X_train_pca = pca_2.transform(X_train_scaled)\n",
    "X_train_pca.shape"
   ]
  },
  {
   "cell_type": "markdown",
   "metadata": {},
   "source": [
    "By PCA, training data dimension reduced from 32,830 to 150, which explained 80% of total variance."
   ]
  },
  {
   "cell_type": "markdown",
   "metadata": {},
   "source": [
    "# Lasso"
   ]
  },
  {
   "cell_type": "code",
   "execution_count": 38,
   "metadata": {},
   "outputs": [
    {
     "name": "stdout",
     "output_type": "stream",
     "text": [
      "Tuned lasso regression hyperparameters: {'alpha': 0.024}\n",
      "Best score: 0.30\n",
      "RMSE: 5.82\n",
      "Number of predictors: 41\n"
     ]
    },
    {
     "name": "stderr",
     "output_type": "stream",
     "text": [
      "C:\\Users\\yukic\\Anaconda3\\lib\\site-packages\\sklearn\\model_selection\\_search.py:841: DeprecationWarning: The default of the `iid` parameter will change from True to False in version 0.22 and will be removed in 0.24. This will change numeric results when test-set sizes are unequal.\n",
      "  DeprecationWarning)\n"
     ]
    },
    {
     "data": {
      "image/png": "[encoded data removed]",
      "text/plain": [
       "<Figure size 432x288 with 1 Axes>"
      ]
     },
     "metadata": {
      "needs_background": "light"
     },
     "output_type": "display_data"
    }
   ],
   "source": [
    "k = 10\n",
    "alpha_lower = 0.005\n",
    "alpha_upper = 0.05\n",
    "\n",
    "# Setup the parameter grid\n",
    "alpha_space = np.arange(alpha_lower, alpha_upper, 0.001)\n",
    "param_grid = {'alpha':alpha_space}\n",
    "\n",
    "# Instantiate a lasso regression\n",
    "lasso = Lasso(normalize = True)\n",
    "\n",
    "# Instantiate the GridSearchCV object\n",
    "lasso_cv = GridSearchCV(lasso, param_grid, cv = k)\n",
    "\n",
    "# Fit it to data\n",
    "lasso_cv.fit(X_train_pca, y_train_df.values)\n",
    "\n",
    "# Calculate training accuracy by RMSE\n",
    "y_pred = lasso_cv.predict(X_train_pca)\n",
    "rmse = math.sqrt(statistics.mean((y_train_df.values - y_pred)**2))\n",
    "\n",
    "# Predictors\n",
    "best_alpha = lasso_cv.best_params_['alpha']\n",
    "lasso = Lasso(alpha = best_alpha, normalize = True)\n",
    "lasso.fit(X_train_pca, y_train_df.values)\n",
    "lasso_coef = lasso.coef_\n",
    "p = sum(abs(lasso_coef) > 0)\n",
    "\n",
    "# Print the tuned parameters and score\n",
    "print(\"Tuned lasso regression hyperparameters: {}\".format(lasso_cv.best_params_))\n",
    "print(\"Best score: {0:.2f}\".format(lasso_cv.best_score_))\n",
    "print(\"RMSE: {0:.2f}\".format(rmse))\n",
    "print(\"Number of predictors: {}\".format(p))\n",
    "\n",
    "# Check alpha and score\n",
    "_ = plt.plot(alpha_space, lasso_cv.cv_results_['mean_test_score'])\n",
    "plt.show()"
   ]
  },
  {
   "cell_type": "markdown",
   "metadata": {},
   "source": [
    "After lasso variable selection, we still have 41 variables, which is not much different from lasso variable selection without PCA."
   ]
  }
 ],
 "metadata": {
  "kernelspec": {
   "display_name": "Python 3",
   "language": "python",
   "name": "python3"
  },
  "language_info": {
   "codemirror_mode": {
    "name": "ipython",
    "version": 3
   },
   "file_extension": ".py",
   "mimetype": "text/x-python",
   "name": "python",
   "nbconvert_exporter": "python",
   "pygments_lexer": "ipython3",
   "version": "3.7.1"
  }
 },
 "nbformat": 4,
 "nbformat_minor": 2
}
