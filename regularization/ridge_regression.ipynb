{
 "cells": [
  {
   "cell_type": "markdown",
   "id": "418f0b5c",
   "metadata": {},
   "source": [
    "# Ridge Regression"
   ]
  },
  {
   "cell_type": "markdown",
   "id": "2bfa99f2",
   "metadata": {},
   "source": [
    "## Dependency"
   ]
  },
  {
   "cell_type": "code",
   "execution_count": 4,
   "id": "6811fac9",
   "metadata": {},
   "outputs": [],
   "source": [
    "import numpy as np\n",
    "from sklearn.linear_model import Ridge"
   ]
  },
  {
   "cell_type": "markdown",
   "id": "d5c0ed35",
   "metadata": {},
   "source": [
    "## How to Compute Ridge Regression Coefficient $\\hat {\\beta}^{ridge}$"
   ]
  },
  {
   "cell_type": "markdown",
   "id": "5749bd39",
   "metadata": {},
   "source": [
    "$$\n",
    "\\hat {\\beta}^{ridge} = \\underset{\\beta}{argmin} \\{ \\sum_{i = 1}^{N} (y_i - \\beta_0 - \\sum_{j = 1}^{p} x_{ij} \\beta_j)^2 + \\lambda \\sum_{j = 1}^{p} \\beta_{j}^2 \\}\n",
    "$$\n",
    "\n",
    "$$\n",
    "RSS(\\lambda) = (y - X \\beta)^T (y - X \\beta) + \\lambda \\beta^T \\beta \n",
    "$$\n",
    "\n",
    "$$\n",
    "= (y^T - \\beta^T X^T ) (y - X \\beta) + \\lambda \\beta^T \\beta \n",
    "$$\n",
    "$$\n",
    "= y^T y - 2 \\beta^T X^T y + \\beta^T X^T X \\beta + \\lambda \\beta^T \\beta \n",
    "$$\n",
    "\n",
    "$$\n",
    "\\frac {\\partial RSS(\\lambda)} {\\partial \\beta} = - 2 X^T y + 2 X^T X \\beta + 2 \\lambda \\beta\n",
    "$$\n",
    "\n",
    "Setting the first derivative to zero,\n",
    "\n",
    "$$\n",
    "- 2 X^T y + 2 X^T X \\beta + 2 \\lambda \\beta = 0\n",
    "$$\n",
    "$$\n",
    "- X^T y + X^T X \\beta + \\lambda \\beta = 0\n",
    "$$\n",
    "$$\n",
    "X^T X \\beta + \\lambda \\beta = X^T y\n",
    "$$\n",
    "$$\n",
    "(X^T X + \\lambda I) \\beta = X^T y\n",
    "$$\n",
    "$$\n",
    "(X^T X + \\lambda I)^{-1} (X^T X + \\lambda I) \\beta = (X^T X + \\lambda I)^{-1} X^T y\n",
    "$$\n",
    "$$\n",
    "\\beta = (X^T X + \\lambda I)^{-1} X^T y\n",
    "$$"
   ]
  },
  {
   "cell_type": "code",
   "execution_count": 58,
   "id": "14c880db",
   "metadata": {},
   "outputs": [
    {
     "name": "stdout",
     "output_type": "stream",
     "text": [
      "Intercept by manual: -0.0592\n",
      "Coefficients by manual: [[ 0.1009 -0.0495]]\n",
      "\n",
      "Intercept by sklearn: -0.0592\n",
      "Coefficient by sklearn: [[ 0.1009 -0.0495]]\n",
      "\n"
     ]
    }
   ],
   "source": [
    "np.random.seed(0)\n",
    "\n",
    "# Number of data\n",
    "n = 100\n",
    "# Number of features\n",
    "p = 2\n",
    "# Ridge regression lambda\n",
    "l = 10\n",
    "\n",
    "# Make the given data\n",
    "X = np.random.randn(n, p)\n",
    "y = np.random.randn(n, 1)\n",
    "\n",
    "# Center input\n",
    "X = X - np.mean(X, axis=0)\n",
    "\n",
    "# Compute ridge regression manually\n",
    "# Intercept is just mean of y, and design matrix doesn't include all 1s column\n",
    "intercept = np.mean(y)\n",
    "coefficients = np.linalg.inv(X.T @ X + l * np.eye(p)) @ X.T @ y\n",
    "coefficients = coefficients.reshape((1, 2))\n",
    "\n",
    "print(f'Intercept by manual: {intercept:.4f}')\n",
    "print(f'Coefficients by manual: {np.round(coefficients, 4)}')\n",
    "print()\n",
    "\n",
    "# Compute ridge regression by sklearn\n",
    "ridge = Ridge(10)\n",
    "ridge.fit(X, y)\n",
    "print(f'Intercept by sklearn: {ridge.intercept_[0]:.4f}')\n",
    "print(f'Coefficient by sklearn: {np.round(ridge.coef_, 4)}')\n",
    "print()"
   ]
  },
  {
   "cell_type": "code",
   "execution_count": null,
   "id": "b503b95e",
   "metadata": {},
   "outputs": [],
   "source": [
    "64"
   ]
  },
  {
   "cell_type": "code",
   "execution_count": null,
   "id": "282b6336",
   "metadata": {},
   "outputs": [],
   "source": []
  },
  {
   "cell_type": "markdown",
   "id": "2c07312e",
   "metadata": {},
   "source": [
    "## Reference\n",
    "- [Statistical Modeling and Analysis of Neural Data (NEU 560)](http://pillowlab.princeton.edu/teaching/statneuro2018/slides/notes03b_LeastSquaresRegression.pdf)"
   ]
  }
 ],
 "metadata": {
  "kernelspec": {
   "display_name": "env-machine-learning",
   "language": "python",
   "name": "env-machine-learning"
  },
  "language_info": {
   "codemirror_mode": {
    "name": "ipython",
    "version": 3
   },
   "file_extension": ".py",
   "mimetype": "text/x-python",
   "name": "python",
   "nbconvert_exporter": "python",
   "pygments_lexer": "ipython3",
   "version": "3.9.5"
  }
 },
 "nbformat": 4,
 "nbformat_minor": 5
}
