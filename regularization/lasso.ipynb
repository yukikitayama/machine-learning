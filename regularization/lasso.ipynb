{
 "cells": [
  {
   "cell_type": "markdown",
   "id": "16edc0b8",
   "metadata": {},
   "source": [
    "# Lasso"
   ]
  },
  {
   "cell_type": "markdown",
   "id": "527f08a7",
   "metadata": {},
   "source": [
    "Because of $L_1$ **lasso penalty** $\\sum_{1}^{p} |\\beta_j|$, lasso does not have the closed form expression as in ridge regression. Ridge regression has the following closed form\n",
    "\n",
    "$$\n",
    "\\beta = (X^T X + \\lambda I)^{-1} X^T y\n",
    "$$\n",
    "\n",
    "Define $t$ as followed,\n",
    "\n",
    "$$\n",
    "\\sum_{j = 1}^{p} |\\beta_j| \\le t\n",
    "$$\n",
    "\n",
    "In math, making t small will cause some of the coefficients to 0. But in practice, $t$ should be chosen to minimize the test error.\n",
    "\n",
    "In 2 coefficients, the constraint region of coefficients for lasso is **diamond** $|\\beta_1| + |\\beta_2| \\le t$. As the residual sum of squares ellipse expands, it touches on a corner of diamond, so one parameter is equal to 0."
   ]
  },
  {
   "cell_type": "code",
   "execution_count": null,
   "id": "e0d63e40",
   "metadata": {},
   "outputs": [],
   "source": []
  },
  {
   "cell_type": "code",
   "execution_count": null,
   "id": "48b1555b",
   "metadata": {},
   "outputs": [],
   "source": []
  },
  {
   "cell_type": "code",
   "execution_count": null,
   "id": "777ba947",
   "metadata": {},
   "outputs": [],
   "source": []
  }
 ],
 "metadata": {
  "kernelspec": {
   "display_name": "env-machine-learning",
   "language": "python",
   "name": "env-machine-learning"
  },
  "language_info": {
   "codemirror_mode": {
    "name": "ipython",
    "version": 3
   },
   "file_extension": ".py",
   "mimetype": "text/x-python",
   "name": "python",
   "nbconvert_exporter": "python",
   "pygments_lexer": "ipython3",
   "version": "3.9.5"
  }
 },
 "nbformat": 4,
 "nbformat_minor": 5
}
