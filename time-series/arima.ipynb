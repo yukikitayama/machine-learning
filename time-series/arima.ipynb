{
 "cells": [
  {
   "cell_type": "markdown",
   "id": "f17341de",
   "metadata": {},
   "source": [
    "# ARIMA model\n",
    "\n",
    "What do the AR and MA components of ARIMA models refer to?\n",
    "\n",
    "AR stands for AutoRegressive. The current value is determined in part by the previous value. AR has p paramters and curernt value is modeled as the sum of previous values.\n",
    "\n",
    "$$\n",
    "x_t = \\sum_{i = 1}^{p} (\\phi_i x_{t - i}) + \\varepsilon_t\n",
    "$$\n",
    "\n",
    "Where\n",
    "\n",
    "$$\n",
    "| \\phi | < 1\n",
    "$$\n",
    "$$\n",
    "\\varepsilon \\thicksim N(0, \\sigma^2)\n",
    "$$\n",
    "\n",
    "MA stands for Moving Average. The mean of the random noise of a random process changes over time. MA has q parameters. The current value is modeled as the sum of the previous errors.\n",
    "\n",
    "$$\n",
    "x_t = \\mu + \\sum_{i = 1}^{q} (\\theta_i \\varepsilon_{t - i}) + \\varepsilon_t \n",
    "$$\n",
    "\n",
    "Where\n",
    "\n",
    "$$\n",
    "| \\theta | < 1\n",
    "$$\n",
    "$$\n",
    "\\varepsilon \\thicksim N(0, \\sigma^2)\n",
    "$$\n",
    "\n",
    "ARIMA model contains both AR and MA components. The current value is assumed to be the result of the last p values and last q errors with some random noise.\n",
    "\n",
    "How do we determine the order of p and q?\n",
    "\n",
    "The order of p and q are determined by grid search and AIC. Define the bounds for p and q, abd compute models for every combination of p and q until the bounds. Compute AIC for each model and compare models. **The preferred model is the one with the minimum AIC**. P and q can be found by autocorrelation function and partial autocorrelation function as well.\n",
    "\n",
    "## Resource\n",
    "\n",
    "- [https://en.wikipedia.org/wiki/Autoregressive_integrated_moving_average](https://en.wikipedia.org/wiki/Autoregressive_integrated_moving_average)\n",
    "- [Akaike information criterion](https://en.wikipedia.org/wiki/Akaike_information_criterion)"
   ]
  }
 ],
 "metadata": {
  "kernelspec": {
   "display_name": "env-machine-learning",
   "language": "python",
   "name": "env-machine-learning"
  },
  "language_info": {
   "codemirror_mode": {
    "name": "ipython",
    "version": 3
   },
   "file_extension": ".py",
   "mimetype": "text/x-python",
   "name": "python",
   "nbconvert_exporter": "python",
   "pygments_lexer": "ipython3",
   "version": "3.9.5"
  }
 },
 "nbformat": 4,
 "nbformat_minor": 5
}
