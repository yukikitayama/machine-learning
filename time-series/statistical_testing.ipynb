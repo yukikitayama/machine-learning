{
 "cells": [
  {
   "cell_type": "markdown",
   "id": "00ee1265",
   "metadata": {},
   "source": [
    "# Statistical Testing"
   ]
  },
  {
   "cell_type": "markdown",
   "id": "91429955",
   "metadata": {},
   "source": [
    "## Significance time series\n",
    "\n",
    "You have a time series dataset grouped monthly for the past 5 years. How would you find out if the difference between the current month and the previous month was significant or not?\n",
    "\n",
    "Take the difference between every month and the month after it, and we can have a population of differences. Then we take the difference between the current month and the previous month, and run a **t-test** against the population we have. Compute **t-statistic** and calculate **p-value**. If the p-value is less than a threshold, we conclude that the difference is significant.\n",
    "\n",
    "But we need to consider if there would be **confounding factors (confounder)**. For example, monthly or yearly seasonality.\n",
    "\n",
    "If the dataset is the number of visitors to a website, we can think about whether there was a campaign to increase traffic, or business was done better this year.\n",
    "\n",
    "We can also build a time series model to forecast the value at current month and every month compare it with the actual value of the current month, by such as ARIMA model or moving average. Then set a threshold for the variance between the forecast and the actual, and judge that if the variance is above the threshold, the difference is significant."
   ]
  },
  {
   "cell_type": "markdown",
   "id": "18c7d026",
   "metadata": {},
   "source": [
    "## Resource\n",
    "\n",
    "- [Confounding](https://en.wikipedia.org/wiki/Confounding)"
   ]
  }
 ],
 "metadata": {
  "kernelspec": {
   "display_name": "env-machine-learning",
   "language": "python",
   "name": "env-machine-learning"
  },
  "language_info": {
   "codemirror_mode": {
    "name": "ipython",
    "version": 3
   },
   "file_extension": ".py",
   "mimetype": "text/x-python",
   "name": "python",
   "nbconvert_exporter": "python",
   "pygments_lexer": "ipython3",
   "version": "3.9.5"
  }
 },
 "nbformat": 4,
 "nbformat_minor": 5
}
