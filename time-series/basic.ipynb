{
 "cells": [
  {
   "cell_type": "markdown",
   "id": "bb10613d-ae31-47b7-bcf1-276b71b794de",
   "metadata": {},
   "source": [
    "# Basic"
   ]
  },
  {
   "cell_type": "markdown",
   "id": "75a9d49e-7cdf-4c7a-ba44-b77505c32488",
   "metadata": {},
   "source": [
    "## Why do we need time series models?\n",
    "\n",
    "Standard regression model assumes no autocorrelation. A data point at the current time is not influenced by a data point in the past. To do inference on data that has autocorrelation, we need model that can control autocorrelation like ARIMA."
   ]
  }
 ],
 "metadata": {
  "kernelspec": {
   "display_name": "Python 3 (ipykernel)",
   "language": "python",
   "name": "python3"
  },
  "language_info": {
   "codemirror_mode": {
    "name": "ipython",
    "version": 3
   },
   "file_extension": ".py",
   "mimetype": "text/x-python",
   "name": "python",
   "nbconvert_exporter": "python",
   "pygments_lexer": "ipython3",
   "version": "3.12.0"
  }
 },
 "nbformat": 4,
 "nbformat_minor": 5
}
