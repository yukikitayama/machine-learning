{
 "cells": [
  {
   "cell_type": "markdown",
   "metadata": {},
   "source": [
    "# Autoencoder for dimension reduction"
   ]
  },
  {
   "cell_type": "markdown",
   "metadata": {},
   "source": [
    "When you apply encoder, the first part of an autoencoder, to your data, it reduces the dimension of the data with the pre-specifed dimension in encoder."
   ]
  },
  {
   "cell_type": "markdown",
   "metadata": {},
   "source": [
    "## Setup"
   ]
  },
  {
   "cell_type": "code",
   "execution_count": 49,
   "metadata": {},
   "outputs": [],
   "source": [
    "from tensorflow.keras.layers import Input, Dense\n",
    "from tensorflow.keras.models import Model, Sequential\n",
    "from tensorflow.keras.datasets import mnist\n",
    "\n",
    "import numpy as np\n",
    "from matplotlib import pyplot as plt"
   ]
  },
  {
   "cell_type": "markdown",
   "metadata": {},
   "source": [
    "## Data"
   ]
  },
  {
   "cell_type": "code",
   "execution_count": 27,
   "metadata": {},
   "outputs": [],
   "source": [
    "(x_train, y_train), (x_test, y_test) = mnist.load_data()\n",
    "# (x_train, _), (x_test, _) = mnist.load_data()"
   ]
  },
  {
   "cell_type": "markdown",
   "metadata": {},
   "source": [
    "## Preprocess"
   ]
  },
  {
   "cell_type": "code",
   "execution_count": 28,
   "metadata": {},
   "outputs": [
    {
     "name": "stdout",
     "output_type": "stream",
     "text": [
      "(60000, 784)\n",
      "(10000, 784)\n"
     ]
    }
   ],
   "source": [
    "x_train = x_train.astype('float32')\n",
    "x_train /= 255.\n",
    "# np.prod works as flatten here, 28*28 to 784\n",
    "x_train = x_train.reshape((len(x_train), np.prod(x_train.shape[1:])))\n",
    "\n",
    "x_test = x_test.astype('float32')\n",
    "x_test /= 255.\n",
    "x_test = x_test.reshape((len(x_test), np.prod(x_test.shape[1:])))\n",
    "\n",
    "print(x_train.shape)\n",
    "print(x_test.shape)"
   ]
  },
  {
   "cell_type": "markdown",
   "metadata": {},
   "source": [
    "## Autoencoder"
   ]
  },
  {
   "cell_type": "code",
   "execution_count": 43,
   "metadata": {},
   "outputs": [
    {
     "name": "stdout",
     "output_type": "stream",
     "text": [
      "_________________________________________________________________\n",
      "Layer (type)                 Output Shape              Param #   \n",
      "=================================================================\n",
      "input_7 (InputLayer)         (None, 784)               0         \n",
      "_________________________________________________________________\n",
      "dense_6 (Dense)              (None, 32)                25120     \n",
      "_________________________________________________________________\n",
      "dense_7 (Dense)              (None, 784)               25872     \n",
      "=================================================================\n",
      "Total params: 50,992\n",
      "Trainable params: 50,992\n",
      "Non-trainable params: 0\n",
      "_________________________________________________________________\n"
     ]
    }
   ],
   "source": [
    "encoding_dim = 32\n",
    "original_dim = 28 * 28\n",
    "\n",
    "input_img = Input(shape = (original_dim, ))\n",
    "\n",
    "encoded = Dense(encoding_dim, activation = 'relu')(input_img)\n",
    "decoded = Dense(original_dim, activation = 'sigmoid')(encoded)\n",
    "\n",
    "autoencoder = Model(input_img, decoded)\n",
    "\n",
    "autoencoder.summary()"
   ]
  },
  {
   "cell_type": "markdown",
   "metadata": {},
   "source": [
    "## Encoder"
   ]
  },
  {
   "cell_type": "code",
   "execution_count": 44,
   "metadata": {},
   "outputs": [],
   "source": [
    "encoder = Model(input_img, encoded)"
   ]
  },
  {
   "cell_type": "markdown",
   "metadata": {},
   "source": [
    "## Decoder"
   ]
  },
  {
   "cell_type": "code",
   "execution_count": 45,
   "metadata": {},
   "outputs": [],
   "source": [
    "encoded_input = Input(shape = (encoding_dim, ))\n",
    "decoder_layer = autoencoder.layers[-1]\n",
    "decoder = Model(encoded_input, decoder_layer(encoded_input))"
   ]
  },
  {
   "cell_type": "code",
   "execution_count": 46,
   "metadata": {},
   "outputs": [],
   "source": [
    "autoencoder.compile(optimizer = 'adadelta',\n",
    "                    loss = 'binary_crossentropy')"
   ]
  },
  {
   "cell_type": "markdown",
   "metadata": {},
   "source": [
    "## Training"
   ]
  },
  {
   "cell_type": "code",
   "execution_count": 47,
   "metadata": {},
   "outputs": [
    {
     "name": "stdout",
     "output_type": "stream",
     "text": [
      "Train on 60000 samples, validate on 10000 samples\n",
      "Epoch 1/20\n",
      " - 3s - loss: 0.3685 - val_loss: 0.2700\n",
      "Epoch 2/20\n",
      " - 2s - loss: 0.2613 - val_loss: 0.2489\n",
      "Epoch 3/20\n",
      " - 2s - loss: 0.2374 - val_loss: 0.2242\n",
      "Epoch 4/20\n",
      " - 2s - loss: 0.2161 - val_loss: 0.2063\n",
      "Epoch 5/20\n",
      " - 2s - loss: 0.2015 - val_loss: 0.1943\n",
      "Epoch 6/20\n",
      " - 3s - loss: 0.1913 - val_loss: 0.1855\n",
      "Epoch 7/20\n",
      " - 4s - loss: 0.1832 - val_loss: 0.1779\n",
      "Epoch 8/20\n",
      " - 4s - loss: 0.1762 - val_loss: 0.1714\n",
      "Epoch 9/20\n",
      " - 4s - loss: 0.1700 - val_loss: 0.1657\n",
      "Epoch 10/20\n",
      " - 3s - loss: 0.1647 - val_loss: 0.1609\n",
      "Epoch 11/20\n",
      " - 3s - loss: 0.1601 - val_loss: 0.1564\n",
      "Epoch 12/20\n",
      " - 3s - loss: 0.1559 - val_loss: 0.1525\n",
      "Epoch 13/20\n",
      " - 3s - loss: 0.1522 - val_loss: 0.1489\n",
      "Epoch 14/20\n",
      " - 3s - loss: 0.1488 - val_loss: 0.1458\n",
      "Epoch 15/20\n",
      " - 3s - loss: 0.1457 - val_loss: 0.1426\n",
      "Epoch 16/20\n",
      " - 3s - loss: 0.1428 - val_loss: 0.1398\n",
      "Epoch 17/20\n",
      " - 3s - loss: 0.1401 - val_loss: 0.1374\n",
      "Epoch 18/20\n",
      " - 4s - loss: 0.1376 - val_loss: 0.1349\n",
      "Epoch 19/20\n",
      " - 3s - loss: 0.1353 - val_loss: 0.1326\n",
      "Epoch 20/20\n",
      " - 3s - loss: 0.1331 - val_loss: 0.1304\n"
     ]
    },
    {
     "data": {
      "text/plain": [
       "<tensorflow.python.keras.callbacks.History at 0x22dc278fa20>"
      ]
     },
     "execution_count": 47,
     "metadata": {},
     "output_type": "execute_result"
    }
   ],
   "source": [
    "autoencoder.fit(x_train,\n",
    "                x_train,\n",
    "                epochs = 20,\n",
    "                batch_size = 256,\n",
    "                shuffle = True,\n",
    "                verbose = 2,\n",
    "                validation_data = (x_test, x_test))"
   ]
  },
  {
   "cell_type": "markdown",
   "metadata": {},
   "source": [
    "## Encoded images and Reconstructed images"
   ]
  },
  {
   "cell_type": "code",
   "execution_count": 36,
   "metadata": {},
   "outputs": [],
   "source": [
    "# Encoded images\n",
    "encoded_imgs = encoder.predict(x_test)\n",
    "\n",
    "# Reconstructed images\n",
    "decoded_imgs = decoder.predict(encoded_imgs)"
   ]
  },
  {
   "cell_type": "code",
   "execution_count": 40,
   "metadata": {},
   "outputs": [
    {
     "data": {
      "image/png": "[encoded data removed]",
      "text/plain": [
       "<Figure size 1440x288 with 10 Axes>"
      ]
     },
     "metadata": {
      "needs_background": "light"
     },
     "output_type": "display_data"
    }
   ],
   "source": [
    "n = 5\n",
    "\n",
    "plt.figure(figsize = (20, 4))\n",
    "\n",
    "for i in range(n):\n",
    "    \n",
    "    # original images\n",
    "    ax = plt.subplot(2, n, i + 1)\n",
    "    plt.imshow(x_test[i].reshape(28, 28))\n",
    "    plt.gray()\n",
    "    plt.title(\"Original\")\n",
    "    ax.get_xaxis().set_visible(False)\n",
    "    ax.get_yaxis().set_visible(False)\n",
    "    \n",
    "    # reconstructed images\n",
    "    ax = plt.subplot(2, n, i + 1 + n)\n",
    "    plt.imshow(decoded_imgs[i].reshape(28, 28))\n",
    "    plt.gray()\n",
    "    plt.title(\"Reconstructed\")\n",
    "    ax.get_xaxis().set_visible(False)\n",
    "    ax.get_yaxis().set_visible(False)\n",
    "    \n",
    "plt.show()"
   ]
  },
  {
   "cell_type": "markdown",
   "metadata": {},
   "source": [
    "## Dimension reduction"
   ]
  },
  {
   "cell_type": "code",
   "execution_count": 62,
   "metadata": {},
   "outputs": [
    {
     "data": {
      "text/plain": [
       "(60000, 32)"
      ]
     },
     "execution_count": 62,
     "metadata": {},
     "output_type": "execute_result"
    }
   ],
   "source": [
    "# encoder produces dimension reduced output\n",
    "encoded_imgs = encoder.predict(x_train)\n",
    "encoded_imgs.shape"
   ]
  },
  {
   "cell_type": "markdown",
   "metadata": {},
   "source": [
    "## Model"
   ]
  },
  {
   "cell_type": "code",
   "execution_count": 63,
   "metadata": {},
   "outputs": [
    {
     "name": "stdout",
     "output_type": "stream",
     "text": [
      "_________________________________________________________________\n",
      "Layer (type)                 Output Shape              Param #   \n",
      "=================================================================\n",
      "dense_16 (Dense)             (None, 12)                396       \n",
      "_________________________________________________________________\n",
      "dense_17 (Dense)             (None, 10)                130       \n",
      "=================================================================\n",
      "Total params: 526\n",
      "Trainable params: 526\n",
      "Non-trainable params: 0\n",
      "_________________________________________________________________\n"
     ]
    }
   ],
   "source": [
    "model = Sequential()\n",
    "model.add(Dense(12, activation = 'relu', input_shape = (encoding_dim,)))\n",
    "model.add(Dense(10, activation = 'sigmoid'))\n",
    "\n",
    "model.summary()"
   ]
  },
  {
   "cell_type": "code",
   "execution_count": 64,
   "metadata": {},
   "outputs": [],
   "source": [
    "model.compile(optimizer = 'adam',\n",
    "              loss = 'sparse_categorical_crossentropy',\n",
    "              metrics = ['acc'])"
   ]
  },
  {
   "cell_type": "code",
   "execution_count": 65,
   "metadata": {},
   "outputs": [
    {
     "name": "stdout",
     "output_type": "stream",
     "text": [
      "Train on 48000 samples, validate on 12000 samples\n",
      "Epoch 1/10\n",
      "48000/48000 [==============================] - 3s 56us/sample - loss: 1.1504 - acc: 0.5440 - val_loss: 0.5322 - val_acc: 0.8380\n",
      "Epoch 2/10\n",
      "48000/48000 [==============================] - 2s 46us/sample - loss: 0.5083 - acc: 0.8411 - val_loss: 0.4355 - val_acc: 0.8673\n",
      "Epoch 3/10\n",
      "48000/48000 [==============================] - 2s 50us/sample - loss: 0.4439 - acc: 0.8633 - val_loss: 0.4074 - val_acc: 0.8737\n",
      "Epoch 4/10\n",
      "48000/48000 [==============================] - 2s 46us/sample - loss: 0.4105 - acc: 0.8729 - val_loss: 0.3737 - val_acc: 0.8837\n",
      "Epoch 5/10\n",
      "48000/48000 [==============================] - 2s 51us/sample - loss: 0.3909 - acc: 0.8805 - val_loss: 0.3623 - val_acc: 0.8915\n",
      "Epoch 6/10\n",
      "48000/48000 [==============================] - 2s 47us/sample - loss: 0.3763 - acc: 0.8860 - val_loss: 0.3486 - val_acc: 0.8940\n",
      "Epoch 7/10\n",
      "48000/48000 [==============================] - 2s 52us/sample - loss: 0.3659 - acc: 0.8899 - val_loss: 0.3370 - val_acc: 0.8976\n",
      "Epoch 8/10\n",
      "48000/48000 [==============================] - 2s 43us/sample - loss: 0.3590 - acc: 0.8919 - val_loss: 0.3449 - val_acc: 0.8988\n",
      "Epoch 9/10\n",
      "48000/48000 [==============================] - 2s 51us/sample - loss: 0.3547 - acc: 0.8926 - val_loss: 0.3289 - val_acc: 0.9028\n",
      "Epoch 10/10\n",
      "48000/48000 [==============================] - 2s 44us/sample - loss: 0.3489 - acc: 0.8951 - val_loss: 0.3378 - val_acc: 0.8969\n"
     ]
    }
   ],
   "source": [
    "history = model.fit(encoded_imgs,\n",
    "                    y_train,\n",
    "                    epochs = 10,\n",
    "                    validation_split = 0.2)"
   ]
  },
  {
   "cell_type": "markdown",
   "metadata": {},
   "source": [
    "## Evaluation"
   ]
  },
  {
   "cell_type": "code",
   "execution_count": 67,
   "metadata": {},
   "outputs": [
    {
     "data": {
      "image/png": "[encoded data removed]",
      "text/plain": [
       "<Figure size 432x288 with 1 Axes>"
      ]
     },
     "metadata": {
      "needs_background": "light"
     },
     "output_type": "display_data"
    }
   ],
   "source": [
    "plt.clf()\n",
    "\n",
    "history_dict = history.history\n",
    "acc_values = history_dict['acc']\n",
    "val_acc_values = history_dict['val_acc']\n",
    "epochs = range(1, len(acc_values) + 1)\n",
    "\n",
    "plt.plot(epochs, acc_values, 'bo', label = \"Training acc\")\n",
    "plt.plot(epochs, val_acc_values, 'b', label = \"Validation acc\")\n",
    "plt.title(\"Training and validation accuracy\")\n",
    "plt.xlabel(\"Epochs\")\n",
    "plt.ylabel(\"Accuracy\")\n",
    "plt.legend()\n",
    "\n",
    "plt.show()"
   ]
  },
  {
   "cell_type": "markdown",
   "metadata": {},
   "source": [
    "## Prediction"
   ]
  },
  {
   "cell_type": "code",
   "execution_count": 69,
   "metadata": {},
   "outputs": [
    {
     "name": "stdout",
     "output_type": "stream",
     "text": [
      " - 0s - loss: 0.3429 - acc: 0.8942\n",
      "\n",
      "Test accuracy: 0.8942\n"
     ]
    }
   ],
   "source": [
    "encoded_imgs = encoder.predict(x_test)\n",
    "test_loss, test_acc = model.evaluate(encoded_imgs,  y_test, verbose=2)\n",
    "\n",
    "print('\\nTest accuracy:', test_acc)"
   ]
  }
 ],
 "metadata": {
  "kernelspec": {
   "display_name": "Python 3",
   "language": "python",
   "name": "python3"
  },
  "language_info": {
   "codemirror_mode": {
    "name": "ipython",
    "version": 3
   },
   "file_extension": ".py",
   "mimetype": "text/x-python",
   "name": "python",
   "nbconvert_exporter": "python",
   "pygments_lexer": "ipython3",
   "version": "3.7.1"
  }
 },
 "nbformat": 4,
 "nbformat_minor": 2
}
