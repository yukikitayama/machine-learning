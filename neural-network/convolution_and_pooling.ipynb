{
 "cells": [
  {
   "cell_type": "markdown",
   "id": "13852e2c",
   "metadata": {},
   "source": [
    "# Convolution and Pooling"
   ]
  },
  {
   "cell_type": "code",
   "execution_count": 8,
   "id": "43915025",
   "metadata": {},
   "outputs": [],
   "source": [
    "import tensorflow as tf\n",
    "import matplotlib.pyplot as plt"
   ]
  },
  {
   "cell_type": "code",
   "execution_count": 3,
   "id": "e75ab191",
   "metadata": {},
   "outputs": [],
   "source": [
    "fmnist = tf.keras.datasets.fashion_mnist\n",
    "(training_images, training_labels), (test_images, test_labels) = fmnist.load_data()\n",
    "training_images = training_images / 255\n",
    "test_images = test_images / 255"
   ]
  },
  {
   "cell_type": "code",
   "execution_count": 7,
   "id": "539d3a24",
   "metadata": {},
   "outputs": [
    {
     "name": "stdout",
     "output_type": "stream",
     "text": [
      "Model: \"sequential_1\"\n",
      "_________________________________________________________________\n",
      " Layer (type)                Output Shape              Param #   \n",
      "=================================================================\n",
      " conv2d_4 (Conv2D)           (None, 26, 26, 32)        320       \n",
      "                                                                 \n",
      " max_pooling2d_4 (MaxPooling  (None, 13, 13, 32)       0         \n",
      " 2D)                                                             \n",
      "                                                                 \n",
      " conv2d_5 (Conv2D)           (None, 11, 11, 32)        9248      \n",
      "                                                                 \n",
      " max_pooling2d_5 (MaxPooling  (None, 5, 5, 32)         0         \n",
      " 2D)                                                             \n",
      "                                                                 \n",
      " flatten_1 (Flatten)         (None, 800)               0         \n",
      "                                                                 \n",
      " dense_2 (Dense)             (None, 128)               102528    \n",
      "                                                                 \n",
      " dense_3 (Dense)             (None, 10)                1290      \n",
      "                                                                 \n",
      "=================================================================\n",
      "Total params: 113,386\n",
      "Trainable params: 113,386\n",
      "Non-trainable params: 0\n",
      "_________________________________________________________________\n",
      "\n",
      "Model training:\n",
      "Epoch 1/5\n",
      "1875/1875 [==============================] - 21s 11ms/step - loss: 0.4716 - accuracy: 0.8291\n",
      "Epoch 2/5\n",
      "1875/1875 [==============================] - 20s 11ms/step - loss: 0.3132 - accuracy: 0.8865\n",
      "Epoch 3/5\n",
      "1875/1875 [==============================] - 20s 11ms/step - loss: 0.2680 - accuracy: 0.9007\n",
      "Epoch 4/5\n",
      "1875/1875 [==============================] - 21s 11ms/step - loss: 0.2384 - accuracy: 0.9115\n",
      "Epoch 5/5\n",
      "1875/1875 [==============================] - 21s 11ms/step - loss: 0.2160 - accuracy: 0.9194\n",
      "\n",
      "Model evaluation:\n",
      "313/313 [==============================] - 2s 5ms/step - loss: 0.2605 - accuracy: 0.9068\n",
      "\n",
      "Output of evaluate\n",
      "[0.26051756739616394, 0.9067999720573425]\n"
     ]
    }
   ],
   "source": [
    "model = tf.keras.models.Sequential([\n",
    "    \n",
    "    # Add convolution and max pooling\n",
    "    tf.keras.layers.Conv2D(32, (3, 3), activation='relu', input_shape=(28, 28, 1)),\n",
    "    tf.keras.layers.MaxPooling2D(2, 2),\n",
    "    tf.keras.layers.Conv2D(32, (3, 3), activation='relu'),\n",
    "    tf.keras.layers.MaxPooling2D(2, 2),\n",
    "    \n",
    "    tf.keras.layers.Flatten(),\n",
    "    tf.keras.layers.Dense(128, activation='relu'),\n",
    "    tf.keras.layers.Dense(10, activation='softmax')\n",
    "])\n",
    "\n",
    "model.summary()\n",
    "\n",
    "model.compile(\n",
    "    optimizer='adam',\n",
    "    loss='sparse_categorical_crossentropy',\n",
    "    metrics=['accuracy']\n",
    ")\n",
    "\n",
    "print()\n",
    "print('Model training:')\n",
    "model.fit(\n",
    "    training_images,\n",
    "    training_labels,\n",
    "    epochs=5\n",
    ")\n",
    "print()\n",
    "\n",
    "print('Model evaluation:')\n",
    "test_loss = model.evaluate(test_images, test_labels)\n",
    "print()\n",
    "\n",
    "print('Output of evaluate')\n",
    "print(test_loss)"
   ]
  },
  {
   "cell_type": "markdown",
   "id": "c81a8a90",
   "metadata": {},
   "source": [
    "## Visualize Convolution and Pooling"
   ]
  },
  {
   "cell_type": "code",
   "execution_count": 23,
   "id": "935fc1fc",
   "metadata": {},
   "outputs": [
    {
     "name": "stdout",
     "output_type": "stream",
     "text": [
      "layer_outputs\n",
      "KerasTensor(type_spec=TensorSpec(shape=(None, 26, 26, 32), dtype=tf.float32, name=None), name='conv2d_4/Relu:0', description=\"created by layer 'conv2d_4'\")\n",
      "KerasTensor(type_spec=TensorSpec(shape=(None, 13, 13, 32), dtype=tf.float32, name=None), name='max_pooling2d_4/MaxPool:0', description=\"created by layer 'max_pooling2d_4'\")\n",
      "KerasTensor(type_spec=TensorSpec(shape=(None, 11, 11, 32), dtype=tf.float32, name=None), name='conv2d_5/Relu:0', description=\"created by layer 'conv2d_5'\")\n",
      "KerasTensor(type_spec=TensorSpec(shape=(None, 5, 5, 32), dtype=tf.float32, name=None), name='max_pooling2d_5/MaxPool:0', description=\"created by layer 'max_pooling2d_5'\")\n",
      "KerasTensor(type_spec=TensorSpec(shape=(None, 800), dtype=tf.float32, name=None), name='flatten_1/Reshape:0', description=\"created by layer 'flatten_1'\")\n",
      "KerasTensor(type_spec=TensorSpec(shape=(None, 128), dtype=tf.float32, name=None), name='dense_2/Relu:0', description=\"created by layer 'dense_2'\")\n",
      "KerasTensor(type_spec=TensorSpec(shape=(None, 10), dtype=tf.float32, name=None), name='dense_3/Softmax:0', description=\"created by layer 'dense_3'\")\n",
      "\n",
      "type(pred): <class 'list'>\n",
      "type(pred[0]): <class 'numpy.ndarray'>\n",
      "\n"
     ]
    },
    {
     "data": {
      "image/png": "[encoded data removed]",
      "text/plain": [
       "<Figure size 432x288 with 1 Axes>"
      ]
     },
     "metadata": {
      "needs_background": "light"
     },
     "output_type": "display_data"
    },
    {
     "data": {
      "image/png": "[encoded data removed]",
      "text/plain": [
       "<Figure size 432x288 with 1 Axes>"
      ]
     },
     "metadata": {
      "needs_background": "light"
     },
     "output_type": "display_data"
    },
    {
     "data": {
      "image/png": "[encoded data removed]",
      "text/plain": [
       "<Figure size 432x288 with 1 Axes>"
      ]
     },
     "metadata": {
      "needs_background": "light"
     },
     "output_type": "display_data"
    },
    {
     "data": {
      "image/png": "[encoded data removed]",
      "text/plain": [
       "<Figure size 432x288 with 1 Axes>"
      ]
     },
     "metadata": {
      "needs_background": "light"
     },
     "output_type": "display_data"
    }
   ],
   "source": [
    "idx = 0\n",
    "convolution_number = 0\n",
    "\n",
    "# layer_outputs is a list of layer objects\n",
    "layer_outputs = [layer.output for layer in model.layers]\n",
    "\n",
    "print('layer_outputs')\n",
    "for layer in layer_outputs:\n",
    "    print(layer)\n",
    "\n",
    "# This model can output a list of each layer output\n",
    "activation_model = tf.keras.models.Model(\n",
    "    inputs=model.input,\n",
    "    outputs=layer_outputs\n",
    ")\n",
    "\n",
    "# Get output of each layer\n",
    "test_image = test_images[idx]\n",
    "test_image = test_image.reshape(1, 28, 28, 1)\n",
    "pred = activation_model.predict(test_image)\n",
    "\n",
    "print()\n",
    "print(f'type(pred): {type(pred)}')\n",
    "print(f'type(pred[0]): {type(pred[0])}')\n",
    "print()\n",
    "\n",
    "# The first 4 layers are convolution and pooling\n",
    "titles = [\n",
    "    '1st convolution',\n",
    "    '1st pooling',\n",
    "    '2nd convolution',\n",
    "    '2nd pooling'\n",
    "]\n",
    "for i in range(4):\n",
    "    output = pred[i]\n",
    "    plt.imshow(output[0, :, :, convolution_number])\n",
    "    plt.title(titles[i])\n",
    "    plt.show()"
   ]
  },
  {
   "cell_type": "code",
   "execution_count": null,
   "id": "15d4f4a9",
   "metadata": {},
   "outputs": [],
   "source": [
    "# https://www.coursera.org/learn/introduction-tensorflow/supplement/mLx0E/experiment-with-filters-and-pools-lab-2"
   ]
  },
  {
   "cell_type": "markdown",
   "id": "7e2c4f2e",
   "metadata": {},
   "source": [
    "## Reference\n",
    "\n",
    "- [Ungraded Lab: Improving Computer Vision Accuracy using Convolutions](https://github.com/https-deeplearning-ai/tensorflow-1-public/blob/main/C1/W3/ungraded_labs/C1_W3_Lab_1_improving_accuracy_using_convolutions.ipynb)"
   ]
  },
  {
   "cell_type": "code",
   "execution_count": null,
   "id": "c32c1cb4",
   "metadata": {},
   "outputs": [],
   "source": []
  }
 ],
 "metadata": {
  "kernelspec": {
   "display_name": "env-machine-learning",
   "language": "python",
   "name": "env-machine-learning"
  },
  "language_info": {
   "codemirror_mode": {
    "name": "ipython",
    "version": 3
   },
   "file_extension": ".py",
   "mimetype": "text/x-python",
   "name": "python",
   "nbconvert_exporter": "python",
   "pygments_lexer": "ipython3",
   "version": "3.9.5"
  }
 },
 "nbformat": 4,
 "nbformat_minor": 5
}
