{
  "nbformat": 4,
  "nbformat_minor": 0,
  "metadata": {
    "colab": {
      "name": "Save_and_download_object_in_Colab.ipynb",
      "provenance": [],
      "collapsed_sections": []
    },
    "kernelspec": {
      "name": "python3",
      "display_name": "Python 3"
    }
  },
  "cells": [
    {
      "cell_type": "code",
      "metadata": {
        "id": "p-zo5rQ5wxUs",
        "colab_type": "code",
        "colab": {
          "base_uri": "https://localhost:8080/",
          "height": 35
        },
        "outputId": "46ae4008-8efa-42ce-98d0-55ebccd48df6"
      },
      "source": [
        "# Suppose we are running the below in Colab\n",
        "tmp = [1, 2, 3]\n",
        "print(tmp)\n",
        "\n",
        "import pickle\n",
        "\n",
        "filename = \"tmp.sav\"\n",
        "pickle.dump(tmp, open(filename, 'wb'))\n",
        "\n",
        "from google.colab import files\n",
        "\n",
        "# files.download will invoke a browser download of the file to your local computer\n",
        "files.download('tmp.sav')"
      ],
      "execution_count": 3,
      "outputs": [
        {
          "output_type": "stream",
          "text": [
            "[1, 2, 3]\n"
          ],
          "name": "stdout"
        }
      ]
    }
  ]
}