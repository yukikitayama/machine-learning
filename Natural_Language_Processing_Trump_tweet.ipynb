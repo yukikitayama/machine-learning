{
 "cells": [
  {
   "cell_type": "markdown",
   "metadata": {},
   "source": [
    "# Natural language processing to Trump tweet"
   ]
  },
  {
   "cell_type": "markdown",
   "metadata": {},
   "source": [
    "This analysis performs natural language processing to tweets made by President Trump."
   ]
  },
  {
   "cell_type": "markdown",
   "metadata": {},
   "source": [
    "## Setup"
   ]
  },
  {
   "cell_type": "code",
   "execution_count": 2,
   "metadata": {},
   "outputs": [
    {
     "name": "stderr",
     "output_type": "stream",
     "text": [
      "C:\\Users\\yukic\\Anaconda3\\lib\\site-packages\\gensim\\utils.py:1197: UserWarning: detected Windows; aliasing chunkize to chunkize_serial\n",
      "  warnings.warn(\"detected Windows; aliasing chunkize to chunkize_serial\")\n"
     ]
    }
   ],
   "source": [
    "import tweepy as tw\n",
    "\n",
    "import nltk\n",
    "from nltk.tokenize import word_tokenize, TweetTokenizer\n",
    "from nltk.stem import WordNetLemmatizer\n",
    "from nltk.corpus import stopwords\n",
    "from nltk.sentiment.vader import SentimentIntensityAnalyzer\n",
    "from gensim.corpora.dictionary import Dictionary\n",
    "from textblob import TextBlob\n",
    "from wordcloud import WordCloud\n",
    "\n",
    "import pandas as pd\n",
    "import numpy as np\n",
    "import matplotlib.pyplot as plt\n",
    "\n",
    "import datetime\n",
    "from collections import Counter\n",
    "\n",
    "from sklearn.feature_extraction.text import CountVectorizer"
   ]
  },
  {
   "cell_type": "code",
   "execution_count": 3,
   "metadata": {},
   "outputs": [
    {
     "name": "stderr",
     "output_type": "stream",
     "text": [
      "[nltk_data] Downloading package punkt to\n",
      "[nltk_data]     C:\\Users\\yukic\\AppData\\Roaming\\nltk_data...\n",
      "[nltk_data]   Package punkt is already up-to-date!\n",
      "[nltk_data] Downloading package stopwords to\n",
      "[nltk_data]     C:\\Users\\yukic\\AppData\\Roaming\\nltk_data...\n",
      "[nltk_data]   Package stopwords is already up-to-date!\n",
      "[nltk_data] Downloading package wordnet to\n",
      "[nltk_data]     C:\\Users\\yukic\\AppData\\Roaming\\nltk_data...\n",
      "[nltk_data]   Package wordnet is already up-to-date!\n",
      "[nltk_data] Downloading package vader_lexicon to\n",
      "[nltk_data]     C:\\Users\\yukic\\AppData\\Roaming\\nltk_data...\n",
      "[nltk_data]   Package vader_lexicon is already up-to-date!\n"
     ]
    },
    {
     "data": {
      "text/plain": [
       "True"
      ]
     },
     "execution_count": 3,
     "metadata": {},
     "output_type": "execute_result"
    }
   ],
   "source": [
    "nltk.download('punkt')\n",
    "nltk.download('stopwords')\n",
    "nltk.download('wordnet')\n",
    "nltk.download('vader_lexicon')"
   ]
  },
  {
   "cell_type": "markdown",
   "metadata": {},
   "source": [
    "## Authentication"
   ]
  },
  {
   "cell_type": "markdown",
   "metadata": {},
   "source": [
    "Get your onw authentication information from Twitter Developer and fill in."
   ]
  },
  {
   "cell_type": "code",
   "execution_count": 3,
   "metadata": {},
   "outputs": [],
   "source": [
    "access_token = \"AAAAAAAAAA\"\n",
    "access_token_secret = \"BBBBBBBBBB\"\n",
    "consumer_key = \"CCCCCCCCCC\"\n",
    "consumer_secret = \"DDDDDDDDDD\"\n",
    "\n",
    "auth = tw.OAuthHandler(consumer_key, consumer_secret)\n",
    "auth.set_access_token(access_token, access_token_secret)\n",
    "\n",
    "api = tw.API(auth, wait_on_rate_limit = True)"
   ]
  },
  {
   "cell_type": "markdown",
   "metadata": {},
   "source": [
    "## Getting data"
   ]
  },
  {
   "cell_type": "markdown",
   "metadata": {},
   "source": [
    "When you download tweets, you get only recent tweets, so comment out the below to make data fixed."
   ]
  },
  {
   "cell_type": "code",
   "execution_count": 4,
   "metadata": {},
   "outputs": [],
   "source": [
    "NAME = \"realDonaldTrump\"\n",
    "COUNT = 1000\n",
    "\n",
    "tweets = api.user_timeline(screen_name = NAME, count = COUNT, include_rts = False)\n",
    "\n",
    "# Get necesarry data\n",
    "tweet = [[t.user.screen_name, t.user.name, t.created_at, t.text, t.favorite_count] for t in tweets]\n",
    "\n",
    "# make it pandas datafram\n",
    "tweet_df = pd.DataFrame(tweet, columns = [\"screen_name\", \"user_name\", \"created_at\", \"text\", \"favorite_count\"])"
   ]
  },
  {
   "cell_type": "markdown",
   "metadata": {},
   "source": [
    "Created_at returns datetime (year, month, day, hour, minute, second), but timezone is not adjusted. Created_at is UTC time when the Tweet was created. UTC is Coordinated Universal Time, so created_at returns time at Greenwitch Mean Time at UK."
   ]
  },
  {
   "cell_type": "markdown",
   "metadata": {},
   "source": [
    "## Save tweet data"
   ]
  },
  {
   "cell_type": "code",
   "execution_count": 26,
   "metadata": {},
   "outputs": [],
   "source": [
    "# tweet_df.to_csv('C:\\\\Users\\\\yukic\\\\Documents\\\\Twitter\\\\trump_tweet_data_20190806.csv', index = None)"
   ]
  },
  {
   "cell_type": "markdown",
   "metadata": {},
   "source": [
    "## Load tweet data from csv"
   ]
  },
  {
   "cell_type": "markdown",
   "metadata": {},
   "source": [
    "Since the tweets that we can get using Twitter API change every time, we fix for now and load from the stored CSV file."
   ]
  },
  {
   "cell_type": "code",
   "execution_count": 8,
   "metadata": {},
   "outputs": [
    {
     "data": {
      "text/html": [
       "<div>\n",
       "<style scoped>\n",
       "    .dataframe tbody tr th:only-of-type {\n",
       "        vertical-align: middle;\n",
       "    }\n",
       "\n",
       "    .dataframe tbody tr th {\n",
       "        vertical-align: top;\n",
       "    }\n",
       "\n",
       "    .dataframe thead th {\n",
       "        text-align: right;\n",
       "    }\n",
       "</style>\n",
       "<table border=\"1\" class=\"dataframe\">\n",
       "  <thead>\n",
       "    <tr style=\"text-align: right;\">\n",
       "      <th></th>\n",
       "      <th>screen_name</th>\n",
       "      <th>user_name</th>\n",
       "      <th>created_at</th>\n",
       "      <th>text</th>\n",
       "      <th>favorite_count</th>\n",
       "    </tr>\n",
       "  </thead>\n",
       "  <tbody>\n",
       "    <tr>\n",
       "      <th>0</th>\n",
       "      <td>realDonaldTrump</td>\n",
       "      <td>Donald J. Trump</td>\n",
       "      <td>2019-08-06 16:28:23</td>\n",
       "      <td>Thank you @JimCramer @CNBC! https://t.co/DW7HD...</td>\n",
       "      <td>10923</td>\n",
       "    </tr>\n",
       "    <tr>\n",
       "      <th>1</th>\n",
       "      <td>realDonaldTrump</td>\n",
       "      <td>Donald J. Trump</td>\n",
       "      <td>2019-08-06 16:24:54</td>\n",
       "      <td>Thank you Mr. Wonderful, I like you too! @kevi...</td>\n",
       "      <td>12985</td>\n",
       "    </tr>\n",
       "    <tr>\n",
       "      <th>2</th>\n",
       "      <td>realDonaldTrump</td>\n",
       "      <td>Donald J. Trump</td>\n",
       "      <td>2019-08-06 12:36:44</td>\n",
       "      <td>As they have learned in the last two years, ou...</td>\n",
       "      <td>55276</td>\n",
       "    </tr>\n",
       "    <tr>\n",
       "      <th>3</th>\n",
       "      <td>realDonaldTrump</td>\n",
       "      <td>Donald J. Trump</td>\n",
       "      <td>2019-08-06 12:00:41</td>\n",
       "      <td>Massive amounts of money from China and other ...</td>\n",
       "      <td>49902</td>\n",
       "    </tr>\n",
       "    <tr>\n",
       "      <th>4</th>\n",
       "      <td>realDonaldTrump</td>\n",
       "      <td>Donald J. Trump</td>\n",
       "      <td>2019-08-06 11:47:06</td>\n",
       "      <td>....in 2020.” Lou Dobbs stated that this is a ...</td>\n",
       "      <td>57432</td>\n",
       "    </tr>\n",
       "  </tbody>\n",
       "</table>\n",
       "</div>"
      ],
      "text/plain": [
       "       screen_name        user_name           created_at  \\\n",
       "0  realDonaldTrump  Donald J. Trump  2019-08-06 16:28:23   \n",
       "1  realDonaldTrump  Donald J. Trump  2019-08-06 16:24:54   \n",
       "2  realDonaldTrump  Donald J. Trump  2019-08-06 12:36:44   \n",
       "3  realDonaldTrump  Donald J. Trump  2019-08-06 12:00:41   \n",
       "4  realDonaldTrump  Donald J. Trump  2019-08-06 11:47:06   \n",
       "\n",
       "                                                text  favorite_count  \n",
       "0  Thank you @JimCramer @CNBC! https://t.co/DW7HD...           10923  \n",
       "1  Thank you Mr. Wonderful, I like you too! @kevi...           12985  \n",
       "2  As they have learned in the last two years, ou...           55276  \n",
       "3  Massive amounts of money from China and other ...           49902  \n",
       "4  ....in 2020.” Lou Dobbs stated that this is a ...           57432  "
      ]
     },
     "execution_count": 8,
     "metadata": {},
     "output_type": "execute_result"
    }
   ],
   "source": [
    "tweet_df = pd.read_csv(\"trump_tweet_data_20190806.csv\")\n",
    "tweet_df.head()"
   ]
  },
  {
   "cell_type": "markdown",
   "metadata": {},
   "source": [
    "## Explore data"
   ]
  },
  {
   "cell_type": "code",
   "execution_count": 9,
   "metadata": {},
   "outputs": [
    {
     "name": "stdout",
     "output_type": "stream",
     "text": [
      "Thank you @JimCramer @CNBC! https://t.co/DW7HDA0WEK\n",
      "Thank you Mr. Wonderful, I like you too! @kevinolearytv @CNBC https://t.co/8n5qcTVSp2\n",
      "As they have learned in the last two years, our great American Farmers know that China will not be able to hurt the… https://t.co/qlBy5ZKcJj\n"
     ]
    }
   ],
   "source": [
    "m = 3\n",
    "index = np.random.randint(0, tweet_df.shape[1], m)\n",
    "\n",
    "for i in range(m):\n",
    "    print(tweet_df['text'][i])"
   ]
  },
  {
   "cell_type": "code",
   "execution_count": 10,
   "metadata": {},
   "outputs": [],
   "source": [
    "# making proper time series setting\n",
    "tweet_df['created_at'] = pd.to_datetime(tweet_df['created_at'])\n",
    "tweet_df = tweet_df.set_index('created_at')"
   ]
  },
  {
   "cell_type": "code",
   "execution_count": 11,
   "metadata": {},
   "outputs": [
    {
     "name": "stdout",
     "output_type": "stream",
     "text": [
      "Average number of Trump daily tweets: 13.3\n",
      "Standard deviation of the tweets: 5.4\n"
     ]
    }
   ],
   "source": [
    "count_daily = tweet_df['screen_name'].resample('D').count()\n",
    "\n",
    "mean_trump = np.mean(count_daily)\n",
    "std_trump = np.std(count_daily)\n",
    "print(\"Average number of Trump daily tweets: {:.1f}\".format(mean_trump))\n",
    "print(\"Standard deviation of the tweets: {:.1f}\".format(std_trump))"
   ]
  },
  {
   "cell_type": "code",
   "execution_count": 12,
   "metadata": {},
   "outputs": [
    {
     "data": {
      "image/png": "[encoded data removed]",
      "text/plain": [
       "<Figure size 432x288 with 1 Axes>"
      ]
     },
     "metadata": {
      "needs_background": "light"
     },
     "output_type": "display_data"
    }
   ],
   "source": [
    "plt.plot(count_daily.index, count_daily)\n",
    "plt.title(\"tweets\")\n",
    "plt.xlabel(\"Date\")\n",
    "plt.ylabel(\"Number of tweets\")\n",
    "plt.ylim((0, max(count_daily)+1))\n",
    "plt.xticks(rotation = 45)\n",
    "plt.show()"
   ]
  },
  {
   "cell_type": "code",
   "execution_count": 13,
   "metadata": {},
   "outputs": [
    {
     "data": {
      "image/png": "[encoded data removed]",
      "text/plain": [
       "<Figure size 432x288 with 1 Axes>"
      ]
     },
     "metadata": {
      "needs_background": "light"
     },
     "output_type": "display_data"
    }
   ],
   "source": [
    "favorite_daily = tweet_df['favorite_count'].resample('D').sum()\n",
    "\n",
    "plt.plot(favorite_daily.index, favorite_daily)\n",
    "plt.title(\"Favorites\")\n",
    "plt.xlabel(\"Date\")\n",
    "plt.ylabel(\"Total number of favorites\")\n",
    "plt.ylim((0, max(favorite_daily)+200000))\n",
    "plt.xticks(rotation = 45)\n",
    "plt.show()"
   ]
  },
  {
   "cell_type": "markdown",
   "metadata": {},
   "source": [
    "## Tokenization"
   ]
  },
  {
   "cell_type": "markdown",
   "metadata": {},
   "source": [
    "Tokenization is cutting sentences into pieces process. There are several ways to do it, so we try them to single tweet and check how the results look like. Some terminology with respect to tokenization is the following. <br>\n",
    "<font color = red> **Stop words** </font>: commonly used words, such as \"the\", \"a\", that usually search engine is programmed to ignore. <br>\n",
    "<font color = red> **Lemmatization** </font>: removing inflectional endings and return the base or dictionary form of words."
   ]
  },
  {
   "cell_type": "code",
   "execution_count": 14,
   "metadata": {},
   "outputs": [
    {
     "data": {
      "text/plain": [
       "'Thank you Mr. Wonderful, I like you too! @kevinolearytv @CNBC https://t.co/8n5qcTVSp2'"
      ]
     },
     "execution_count": 14,
     "metadata": {},
     "output_type": "execute_result"
    }
   ],
   "source": [
    "text = tweet_df['text'][1]\n",
    "text"
   ]
  },
  {
   "cell_type": "code",
   "execution_count": 15,
   "metadata": {},
   "outputs": [
    {
     "data": {
      "text/plain": [
       "array(['Thank', 'you', 'Mr', '.', 'Wonderful', ',', 'I', 'like', 'you',\n",
       "       'too', '!', '@', 'kevinolearytv', '@', 'CNBC', 'https', ':',\n",
       "       '//t.co/8n5qcTVSp2'], dtype='<U17')"
      ]
     },
     "execution_count": 15,
     "metadata": {},
     "output_type": "execute_result"
    }
   ],
   "source": [
    "# word_tokenize\n",
    "wt = word_tokenize(text)\n",
    "np.transpose(wt)"
   ]
  },
  {
   "cell_type": "code",
   "execution_count": 16,
   "metadata": {},
   "outputs": [
    {
     "data": {
      "text/plain": [
       "array(['Thank', 'you', 'Mr', '.', 'Wonderful', ',', 'I', 'like', 'you',\n",
       "       'too', '!', '@kevinolearytv', '@CNBC', 'https://t.co/8n5qcTVSp2'],\n",
       "      dtype='<U23')"
      ]
     },
     "execution_count": 16,
     "metadata": {},
     "output_type": "execute_result"
    }
   ],
   "source": [
    "# TweetTokenizer\n",
    "tknzr = TweetTokenizer()\n",
    "tt = tknzr.tokenize(text)\n",
    "np.transpose(tt)"
   ]
  },
  {
   "cell_type": "code",
   "execution_count": 17,
   "metadata": {},
   "outputs": [
    {
     "data": {
      "text/plain": [
       "array(['thank', 'you', 'wonderful', 'i', 'like', 'you', 'too',\n",
       "       'kevinolearytv', 'cnbc', 'https'], dtype='<U13')"
      ]
     },
     "execution_count": 17,
     "metadata": {},
     "output_type": "execute_result"
    }
   ],
   "source": [
    "# word_tokenize with lowercase and only alphabetical words\n",
    "wt_lower_isalpha = [w for w in word_tokenize(text.lower()) if w.isalpha()]\n",
    "np.transpose(wt_lower_isalpha)"
   ]
  },
  {
   "cell_type": "code",
   "execution_count": 18,
   "metadata": {},
   "outputs": [
    {
     "data": {
      "text/plain": [
       "array(['Thank', 'Mr', '.', 'Wonderful', ',', 'I', 'like', '!', '@',\n",
       "       'kevinolearytv', '@', 'CNBC', 'https', ':', '//t.co/8n5qcTVSp2'],\n",
       "      dtype='<U17')"
      ]
     },
     "execution_count": 18,
     "metadata": {},
     "output_type": "execute_result"
    }
   ],
   "source": [
    "# word_tokenize with removing English stopwords\n",
    "wt = word_tokenize(text)\n",
    "no_stops = [t for t in wt if t not in stopwords.words('english')]\n",
    "np.transpose(no_stops)"
   ]
  },
  {
   "cell_type": "code",
   "execution_count": 19,
   "metadata": {},
   "outputs": [
    {
     "data": {
      "text/plain": [
       "array(['Thank', 'you', 'Mr', '.', 'Wonderful', ',', 'I', 'like', 'you',\n",
       "       'too', '!', '@', 'kevinolearytv', '@', 'CNBC', 'http', ':',\n",
       "       '//t.co/8n5qcTVSp2'], dtype='<U17')"
      ]
     },
     "execution_count": 19,
     "metadata": {},
     "output_type": "execute_result"
    }
   ],
   "source": [
    "# using lemmatization\n",
    "wordnet_lemmatizer = WordNetLemmatizer()\n",
    "wt = word_tokenize(text)\n",
    "np.transpose([wordnet_lemmatizer.lemmatize(t) for t in wt])"
   ]
  },
  {
   "cell_type": "code",
   "execution_count": 20,
   "metadata": {},
   "outputs": [
    {
     "data": {
      "text/plain": [
       "['thank', 'wonderful', 'like', 'kevinolearytv', 'cnbc', 'https']"
      ]
     },
     "execution_count": 20,
     "metadata": {},
     "output_type": "execute_result"
    }
   ],
   "source": [
    "# One way of combination\n",
    "tokens = [w for w in word_tokenize(text.lower()) if w.isalpha()]\n",
    "no_stops = [t for t in tokens if t not in stopwords.words('english')]\n",
    "no_stops"
   ]
  },
  {
   "cell_type": "code",
   "execution_count": 21,
   "metadata": {},
   "outputs": [
    {
     "data": {
      "text/plain": [
       "['thank', 'wonderful', 'like', 'kevinolearytv', 'cnbc', 'http']"
      ]
     },
     "execution_count": 21,
     "metadata": {},
     "output_type": "execute_result"
    }
   ],
   "source": [
    "# Another way of combination\n",
    "alpha_only = [w for w in word_tokenize(text.lower()) if w.isalpha()]\n",
    "no_stops = [t for t in alpha_only if t not in stopwords.words('english')]\n",
    "lemmatized = [wordnet_lemmatizer.lemmatize(t) for t in no_stops]\n",
    "lemmatized"
   ]
  },
  {
   "cell_type": "code",
   "execution_count": 22,
   "metadata": {},
   "outputs": [
    {
     "data": {
      "text/plain": [
       "['thank', 'wonderful', 'like', 'kevinolearytv', 'cnbc']"
      ]
     },
     "execution_count": 22,
     "metadata": {},
     "output_type": "execute_result"
    }
   ],
   "source": [
    "# ruling out specific words, here https and http\n",
    "tokens = [w for w in word_tokenize(text.lower()) if w.isalpha()]\n",
    "no_stops = [t for t in tokens if t not in stopwords.words('english')]\n",
    "customized = [c for c in no_stops if c not in [\"https\", \"http\"]]\n",
    "customized"
   ]
  },
  {
   "cell_type": "markdown",
   "metadata": {},
   "source": [
    "The last way of tokenization seems to be nice."
   ]
  },
  {
   "cell_type": "markdown",
   "metadata": {},
   "source": [
    "## Bag-of-words from several tweets"
   ]
  },
  {
   "cell_type": "markdown",
   "metadata": {},
   "source": [
    "We apply tokenization to all the tweets, and we cound the number of each word appearing, which is called bag-of-words, i.e. word frequency."
   ]
  },
  {
   "cell_type": "code",
   "execution_count": 23,
   "metadata": {},
   "outputs": [],
   "source": [
    "n = tweet_df.shape[0]\n",
    "joined_tweets = []\n",
    "\n",
    "for i in range(n):\n",
    "    # get each tweet\n",
    "    text = tweet_df['text'][i]\n",
    "    # tokenize only alphabetical words with lowercase\n",
    "    tokens = [w for w in word_tokenize(text.lower()) if w.isalpha()]\n",
    "    # remove stop words to get only more meaningful words for analysis\n",
    "    no_stops = [t for t in tokens if t not in stopwords.words('english')]\n",
    "    # customized filtering\n",
    "    customized = [c for c in no_stops if c not in [\"https\", \"http\"]]\n",
    "    \n",
    "    joined_tweets = joined_tweets + customized"
   ]
  },
  {
   "cell_type": "code",
   "execution_count": 24,
   "metadata": {},
   "outputs": [
    {
     "data": {
      "text/plain": [
       "[('great', 28), ('thank', 15), ('china', 15)]"
      ]
     },
     "execution_count": 24,
     "metadata": {},
     "output_type": "execute_result"
    }
   ],
   "source": [
    "counter = Counter(joined_tweets)\n",
    "counter.most_common(3)"
   ]
  },
  {
   "cell_type": "markdown",
   "metadata": {},
   "source": [
    "I kinda feel happy to see \"great\" is the most frequent, becuase I have impression that President Trump always says great."
   ]
  },
  {
   "cell_type": "markdown",
   "metadata": {},
   "source": [
    "## Visualize word frequency"
   ]
  },
  {
   "cell_type": "code",
   "execution_count": 25,
   "metadata": {},
   "outputs": [
    {
     "data": {
      "image/png": "[encoded data removed]",
      "text/plain": [
       "<Figure size 576x576 with 1 Axes>"
      ]
     },
     "metadata": {
      "needs_background": "light"
     },
     "output_type": "display_data"
    }
   ],
   "source": [
    "word_df = pd.DataFrame(counter.most_common(10), columns = ['word', 'count'])\n",
    "\n",
    "fig, ax = plt.subplots(figsize = (8, 8))\n",
    "word_df.sort_values(by = 'count').plot.barh(x = 'word', y = 'count', ax = ax)\n",
    "plt.show()"
   ]
  },
  {
   "cell_type": "markdown",
   "metadata": {},
   "source": [
    "## Word cloud"
   ]
  },
  {
   "cell_type": "markdown",
   "metadata": {},
   "source": [
    "Word cloud is one way of visualiaing word frequency. The more frequently words appear, the bigger the words show up in an image."
   ]
  },
  {
   "cell_type": "code",
   "execution_count": 26,
   "metadata": {},
   "outputs": [
    {
     "data": {
      "image/png": "[encoded data removed]",
      "text/plain": [
       "<Figure size 432x288 with 1 Axes>"
      ]
     },
     "metadata": {
      "needs_background": "light"
     },
     "output_type": "display_data"
    }
   ],
   "source": [
    "sep = ' '\n",
    "joined_tweets_str = sep.join(joined_tweets)\n",
    "\n",
    "SEED = 8\n",
    "\n",
    "cloud = WordCloud(max_font_size = 80, max_words = 50, \n",
    "                  background_color = 'white', random_state = SEED).generate(joined_tweets_str)\n",
    "\n",
    "plt.imshow(cloud, interpolation = 'bilinear')\n",
    "plt.axis('off')\n",
    "plt.show()"
   ]
  },
  {
   "cell_type": "code",
   "execution_count": 27,
   "metadata": {},
   "outputs": [
    {
     "data": {
      "text/plain": [
       "<wordcloud.wordcloud.WordCloud at 0x21774d1bdd8>"
      ]
     },
     "execution_count": 27,
     "metadata": {},
     "output_type": "execute_result"
    }
   ],
   "source": [
    "# save the image\n",
    "cloud.to_file(\"cloud.png\")"
   ]
  },
  {
   "cell_type": "code",
   "execution_count": 28,
   "metadata": {
    "scrolled": true
   },
   "outputs": [
    {
     "data": {
      "image/png": "[encoded data removed]",
      "text/plain": [
       "<Figure size 432x288 with 1 Axes>"
      ]
     },
     "metadata": {
      "needs_background": "light"
     },
     "output_type": "display_data"
    }
   ],
   "source": [
    "# making circle word cloud\n",
    "x, y = np.ogrid[:300, :300]\n",
    "\n",
    "mask = (x - 150) ** 2 + (y - 150) ** 2 > 130 ** 2\n",
    "mask = 255 * mask.astype(int)\n",
    "\n",
    "wc = WordCloud(max_font_size = 80, max_words = 50, \n",
    "               background_color = 'white', random_state = SEED,\n",
    "               mask = mask).generate(joined_tweets_str)\n",
    "\n",
    "plt.axis('off')\n",
    "plt.imshow(wc, interpolation = 'bilinear')\n",
    "plt.show()"
   ]
  },
  {
   "cell_type": "markdown",
   "metadata": {},
   "source": [
    "## Sentiment analysis by textblob"
   ]
  },
  {
   "cell_type": "markdown",
   "metadata": {},
   "source": [
    "TextBlob method sentiment returns polarity score and subjectivity score. <br>\n",
    "<font color = red> **Polarity** </font>: value from -1 to 1, -1 means negative statements and 1 means positive. <br>\n",
    "<font color = red> **Subjectivity** </font>: from 0 to 1, if the statement is more personal opinion, emotional, judgemental, the score is higher."
   ]
  },
  {
   "cell_type": "code",
   "execution_count": 29,
   "metadata": {},
   "outputs": [
    {
     "data": {
      "text/html": [
       "<div>\n",
       "<style scoped>\n",
       "    .dataframe tbody tr th:only-of-type {\n",
       "        vertical-align: middle;\n",
       "    }\n",
       "\n",
       "    .dataframe tbody tr th {\n",
       "        vertical-align: top;\n",
       "    }\n",
       "\n",
       "    .dataframe thead th {\n",
       "        text-align: right;\n",
       "    }\n",
       "</style>\n",
       "<table border=\"1\" class=\"dataframe\">\n",
       "  <thead>\n",
       "    <tr style=\"text-align: right;\">\n",
       "      <th></th>\n",
       "      <th>screen_name</th>\n",
       "      <th>user_name</th>\n",
       "      <th>text</th>\n",
       "      <th>favorite_count</th>\n",
       "      <th>polarity</th>\n",
       "      <th>subjectivity</th>\n",
       "    </tr>\n",
       "    <tr>\n",
       "      <th>created_at</th>\n",
       "      <th></th>\n",
       "      <th></th>\n",
       "      <th></th>\n",
       "      <th></th>\n",
       "      <th></th>\n",
       "      <th></th>\n",
       "    </tr>\n",
       "  </thead>\n",
       "  <tbody>\n",
       "    <tr>\n",
       "      <th>2019-08-06 16:28:23</th>\n",
       "      <td>realDonaldTrump</td>\n",
       "      <td>Donald J. Trump</td>\n",
       "      <td>Thank you @JimCramer @CNBC! https://t.co/DW7HD...</td>\n",
       "      <td>10923</td>\n",
       "      <td>0.0000</td>\n",
       "      <td>0.000000</td>\n",
       "    </tr>\n",
       "    <tr>\n",
       "      <th>2019-08-06 16:24:54</th>\n",
       "      <td>realDonaldTrump</td>\n",
       "      <td>Donald J. Trump</td>\n",
       "      <td>Thank you Mr. Wonderful, I like you too! @kevi...</td>\n",
       "      <td>12985</td>\n",
       "      <td>1.0000</td>\n",
       "      <td>1.000000</td>\n",
       "    </tr>\n",
       "    <tr>\n",
       "      <th>2019-08-06 12:36:44</th>\n",
       "      <td>realDonaldTrump</td>\n",
       "      <td>Donald J. Trump</td>\n",
       "      <td>As they have learned in the last two years, ou...</td>\n",
       "      <td>55276</td>\n",
       "      <td>0.0000</td>\n",
       "      <td>0.066667</td>\n",
       "    </tr>\n",
       "    <tr>\n",
       "      <th>2019-08-06 12:00:41</th>\n",
       "      <td>realDonaldTrump</td>\n",
       "      <td>Donald J. Trump</td>\n",
       "      <td>Massive amounts of money from China and other ...</td>\n",
       "      <td>49902</td>\n",
       "      <td>-0.0625</td>\n",
       "      <td>0.687500</td>\n",
       "    </tr>\n",
       "    <tr>\n",
       "      <th>2019-08-06 11:47:06</th>\n",
       "      <td>realDonaldTrump</td>\n",
       "      <td>Donald J. Trump</td>\n",
       "      <td>....in 2020.” Lou Dobbs stated that this is a ...</td>\n",
       "      <td>57432</td>\n",
       "      <td>0.0000</td>\n",
       "      <td>0.000000</td>\n",
       "    </tr>\n",
       "  </tbody>\n",
       "</table>\n",
       "</div>"
      ],
      "text/plain": [
       "                         screen_name        user_name  \\\n",
       "created_at                                              \n",
       "2019-08-06 16:28:23  realDonaldTrump  Donald J. Trump   \n",
       "2019-08-06 16:24:54  realDonaldTrump  Donald J. Trump   \n",
       "2019-08-06 12:36:44  realDonaldTrump  Donald J. Trump   \n",
       "2019-08-06 12:00:41  realDonaldTrump  Donald J. Trump   \n",
       "2019-08-06 11:47:06  realDonaldTrump  Donald J. Trump   \n",
       "\n",
       "                                                                  text  \\\n",
       "created_at                                                               \n",
       "2019-08-06 16:28:23  Thank you @JimCramer @CNBC! https://t.co/DW7HD...   \n",
       "2019-08-06 16:24:54  Thank you Mr. Wonderful, I like you too! @kevi...   \n",
       "2019-08-06 12:36:44  As they have learned in the last two years, ou...   \n",
       "2019-08-06 12:00:41  Massive amounts of money from China and other ...   \n",
       "2019-08-06 11:47:06  ....in 2020.” Lou Dobbs stated that this is a ...   \n",
       "\n",
       "                     favorite_count  polarity  subjectivity  \n",
       "created_at                                                   \n",
       "2019-08-06 16:28:23           10923    0.0000      0.000000  \n",
       "2019-08-06 16:24:54           12985    1.0000      1.000000  \n",
       "2019-08-06 12:36:44           55276    0.0000      0.066667  \n",
       "2019-08-06 12:00:41           49902   -0.0625      0.687500  \n",
       "2019-08-06 11:47:06           57432    0.0000      0.000000  "
      ]
     },
     "execution_count": 29,
     "metadata": {},
     "output_type": "execute_result"
    }
   ],
   "source": [
    "text_list = tweet_df['text'].to_string(header = False, index = False).split('\\n')\n",
    "\n",
    "# empty list to store sentiment data\n",
    "polarity_list = []\n",
    "subjectivity_list = []\n",
    "\n",
    "for i in range(len(text_list)):\n",
    "    \n",
    "    # get sentiment\n",
    "    valance = TextBlob(text_list[i])\n",
    "    \n",
    "    # extract polarity and subjectivity scores\n",
    "    pol = valance.sentiment.polarity\n",
    "    sub = valance.sentiment.subjectivity\n",
    "    \n",
    "    # save results\n",
    "    polarity_list.append(pol)\n",
    "    subjectivity_list.append(sub)\n",
    "    \n",
    "tweet_df['polarity'] = polarity_list\n",
    "tweet_df['subjectivity'] = subjectivity_list\n",
    "tweet_df.head()"
   ]
  },
  {
   "cell_type": "code",
   "execution_count": 42,
   "metadata": {},
   "outputs": [
    {
     "data": {
      "image/png": "[encoded data removed]",
      "text/plain": [
       "<Figure size 432x288 with 1 Axes>"
      ]
     },
     "metadata": {
      "needs_background": "light"
     },
     "output_type": "display_data"
    }
   ],
   "source": [
    "plt.hist(tweet_df['polarity'])\n",
    "plt.title('Polarity distribution')\n",
    "plt.xlabel('Polarity score')\n",
    "plt.ylabel('Count')\n",
    "plt.show()"
   ]
  },
  {
   "cell_type": "code",
   "execution_count": 31,
   "metadata": {},
   "outputs": [
    {
     "data": {
      "text/plain": [
       "array(['Thank you Mr. Wonderful, I like you too! @kevinolearytv @CNBC https://t.co/8n5qcTVSp2',\n",
       "       'A great couple! https://t.co/h0o1laZ7e3',\n",
       "       '....I am very happy for Eddie Gallagher and his family!'],\n",
       "      dtype=object)"
      ]
     },
     "execution_count": 31,
     "metadata": {},
     "output_type": "execute_result"
    }
   ],
   "source": [
    "tweet_df.loc[tweet_df['polarity'] > 0.9, \"text\"].values"
   ]
  },
  {
   "cell_type": "code",
   "execution_count": 32,
   "metadata": {},
   "outputs": [
    {
     "data": {
      "text/plain": [
       "array(['Terrible shootings in ElPaso, Texas. Reports are very bad, many killed. Working with State and Local authorities, a… https://t.co/p9I5Pnj6ej',\n",
       "       'China is doing very badly, worst year in 27 - was supposed to start buying our agricultural product now - no signs… https://t.co/P5IZSWbosI',\n",
       "       'Baltimore’s numbers are the worst in the United States on Crime and the Economy. Billions of dollars have been pump… https://t.co/8mYWBiEs51',\n",
       "       'Very disappointed in Prime Minister Stefan Löfven for being unable to act. Sweden has let our African American Comm… https://t.co/f0hfApJ8tz'],\n",
       "      dtype=object)"
      ]
     },
     "execution_count": 32,
     "metadata": {},
     "output_type": "execute_result"
    }
   ],
   "source": [
    "tweet_df.loc[tweet_df['polarity'] < -0.9, \"text\"].values"
   ]
  },
  {
   "cell_type": "code",
   "execution_count": 43,
   "metadata": {},
   "outputs": [
    {
     "data": {
      "image/png": "[encoded data removed]",
      "text/plain": [
       "<Figure size 432x288 with 1 Axes>"
      ]
     },
     "metadata": {
      "needs_background": "light"
     },
     "output_type": "display_data"
    }
   ],
   "source": [
    "plt.hist(tweet_df['subjectivity'])\n",
    "plt.title('Subjectivity distribution')\n",
    "plt.xlabel('Subjectivity score')\n",
    "plt.ylabel('Count')\n",
    "plt.show()"
   ]
  },
  {
   "cell_type": "code",
   "execution_count": 34,
   "metadata": {},
   "outputs": [
    {
     "data": {
      "text/plain": [
       "array(['Thank you Mr. Wonderful, I like you too! @kevinolearytv @CNBC https://t.co/8n5qcTVSp2',\n",
       "       '....this legislation with desperately needed immigration reform. We must have something good, if not GREAT, come ou… https://t.co/RgrBOhEU9F',\n",
       "       '....Melania and I send our heartfelt thoughts and prayers to the great people of Texas.',\n",
       "       'Terrible shootings in ElPaso, Texas. Reports are very bad, many killed. Working with State and Local authorities, a… https://t.co/p9I5Pnj6ej',\n",
       "       'Beautiful evening in Cincinnati, Ohio tonight — with GREAT American Patriots! #KAG2020 https://t.co/wDN5B4Gp87',\n",
       "       '....I am very happy for Eddie Gallagher and his family!',\n",
       "       'Wow! Morning Joe &amp; Psycho ratings have really crashed. Very small audience. People are tired of hearing Fake News d… https://t.co/UtIc2v8yIw',\n",
       "       'China is doing very badly, worst year in 27 - was supposed to start buying our agricultural product now - no signs… https://t.co/P5IZSWbosI',\n",
       "       'Baltimore’s numbers are the worst in the United States on Crime and the Economy. Billions of dollars have been pump… https://t.co/8mYWBiEs51',\n",
       "       '....a look, the facts speak far louder than words! The Democrats always play the Race Card, when in fact they have… https://t.co/tYJ0hBwAOU',\n",
       "       'Rep, Elijah Cummings has been a brutal bully, shouting and screaming at the great men &amp; women of Border Patrol abou… https://t.co/7svlPwKJu5',\n",
       "       'I am pleased to announce the House has passed our budget deal 284-149. Great for our Military and our Vets. A big thank you!',\n",
       "       'Very disappointed in Prime Minister Stefan Löfven for being unable to act. Sweden has let our African American Comm… https://t.co/f0hfApJ8tz'],\n",
       "      dtype=object)"
      ]
     },
     "execution_count": 34,
     "metadata": {},
     "output_type": "execute_result"
    }
   ],
   "source": [
    "tweet_df.loc[tweet_df['subjectivity'] > 0.9, \"text\"].values"
   ]
  },
  {
   "cell_type": "markdown",
   "metadata": {},
   "source": [
    "My impression is if tweets with higher absolute value of polarity tend to show up higher subjectivity."
   ]
  },
  {
   "cell_type": "markdown",
   "metadata": {},
   "source": [
    "## Sentiment analysis by vader"
   ]
  },
  {
   "cell_type": "markdown",
   "metadata": {},
   "source": [
    "SentimentIntensityAnalyzer of vader module returns neg (negative), neu (neutral), pos (positive), and compound. <br>\n",
    "the first three represent the proportion that a certain statement fall in. <br>\n",
    "<font color = red> **Compound** </font>: from -1 to 1, -1 negative, 1 positive. <br>"
   ]
  },
  {
   "cell_type": "code",
   "execution_count": 35,
   "metadata": {},
   "outputs": [],
   "source": [
    "#instantiate\n",
    "sid = SentimentIntensityAnalyzer()\n",
    "\n",
    "# calculate sentiment score\n",
    "sentiment_score = tweet_df['text'].apply(sid.polarity_scores)\n",
    "\n",
    "# merge with original dataframe\n",
    "sentiment_score_df = pd.DataFrame.from_records(sentiment_score)\n",
    "sentiment_score_df = sentiment_score_df.set_index(tweet_df.index)\n",
    "\n",
    "tweet_df = pd.concat([tweet_df, sentiment_score_df], axis = 1)"
   ]
  },
  {
   "cell_type": "code",
   "execution_count": 36,
   "metadata": {},
   "outputs": [
    {
     "data": {
      "text/html": [
       "<div>\n",
       "<style scoped>\n",
       "    .dataframe tbody tr th:only-of-type {\n",
       "        vertical-align: middle;\n",
       "    }\n",
       "\n",
       "    .dataframe tbody tr th {\n",
       "        vertical-align: top;\n",
       "    }\n",
       "\n",
       "    .dataframe thead th {\n",
       "        text-align: right;\n",
       "    }\n",
       "</style>\n",
       "<table border=\"1\" class=\"dataframe\">\n",
       "  <thead>\n",
       "    <tr style=\"text-align: right;\">\n",
       "      <th></th>\n",
       "      <th>screen_name</th>\n",
       "      <th>user_name</th>\n",
       "      <th>text</th>\n",
       "      <th>favorite_count</th>\n",
       "      <th>polarity</th>\n",
       "      <th>subjectivity</th>\n",
       "      <th>compound</th>\n",
       "      <th>neg</th>\n",
       "      <th>neu</th>\n",
       "      <th>pos</th>\n",
       "    </tr>\n",
       "    <tr>\n",
       "      <th>created_at</th>\n",
       "      <th></th>\n",
       "      <th></th>\n",
       "      <th></th>\n",
       "      <th></th>\n",
       "      <th></th>\n",
       "      <th></th>\n",
       "      <th></th>\n",
       "      <th></th>\n",
       "      <th></th>\n",
       "      <th></th>\n",
       "    </tr>\n",
       "  </thead>\n",
       "  <tbody>\n",
       "    <tr>\n",
       "      <th>2019-08-06 16:28:23</th>\n",
       "      <td>realDonaldTrump</td>\n",
       "      <td>Donald J. Trump</td>\n",
       "      <td>Thank you @JimCramer @CNBC! https://t.co/DW7HD...</td>\n",
       "      <td>10923</td>\n",
       "      <td>0.0000</td>\n",
       "      <td>0.000000</td>\n",
       "      <td>0.4199</td>\n",
       "      <td>0.000</td>\n",
       "      <td>0.589</td>\n",
       "      <td>0.411</td>\n",
       "    </tr>\n",
       "    <tr>\n",
       "      <th>2019-08-06 16:24:54</th>\n",
       "      <td>realDonaldTrump</td>\n",
       "      <td>Donald J. Trump</td>\n",
       "      <td>Thank you Mr. Wonderful, I like you too! @kevi...</td>\n",
       "      <td>12985</td>\n",
       "      <td>1.0000</td>\n",
       "      <td>1.000000</td>\n",
       "      <td>0.8398</td>\n",
       "      <td>0.000</td>\n",
       "      <td>0.438</td>\n",
       "      <td>0.562</td>\n",
       "    </tr>\n",
       "    <tr>\n",
       "      <th>2019-08-06 12:36:44</th>\n",
       "      <td>realDonaldTrump</td>\n",
       "      <td>Donald J. Trump</td>\n",
       "      <td>As they have learned in the last two years, ou...</td>\n",
       "      <td>55276</td>\n",
       "      <td>0.0000</td>\n",
       "      <td>0.066667</td>\n",
       "      <td>0.1779</td>\n",
       "      <td>0.115</td>\n",
       "      <td>0.746</td>\n",
       "      <td>0.139</td>\n",
       "    </tr>\n",
       "    <tr>\n",
       "      <th>2019-08-06 12:00:41</th>\n",
       "      <td>realDonaldTrump</td>\n",
       "      <td>Donald J. Trump</td>\n",
       "      <td>Massive amounts of money from China and other ...</td>\n",
       "      <td>49902</td>\n",
       "      <td>-0.0625</td>\n",
       "      <td>0.687500</td>\n",
       "      <td>0.4215</td>\n",
       "      <td>0.000</td>\n",
       "      <td>0.887</td>\n",
       "      <td>0.113</td>\n",
       "    </tr>\n",
       "    <tr>\n",
       "      <th>2019-08-06 11:47:06</th>\n",
       "      <td>realDonaldTrump</td>\n",
       "      <td>Donald J. Trump</td>\n",
       "      <td>....in 2020.” Lou Dobbs stated that this is a ...</td>\n",
       "      <td>57432</td>\n",
       "      <td>0.0000</td>\n",
       "      <td>0.000000</td>\n",
       "      <td>-0.4215</td>\n",
       "      <td>0.167</td>\n",
       "      <td>0.746</td>\n",
       "      <td>0.088</td>\n",
       "    </tr>\n",
       "  </tbody>\n",
       "</table>\n",
       "</div>"
      ],
      "text/plain": [
       "                         screen_name        user_name  \\\n",
       "created_at                                              \n",
       "2019-08-06 16:28:23  realDonaldTrump  Donald J. Trump   \n",
       "2019-08-06 16:24:54  realDonaldTrump  Donald J. Trump   \n",
       "2019-08-06 12:36:44  realDonaldTrump  Donald J. Trump   \n",
       "2019-08-06 12:00:41  realDonaldTrump  Donald J. Trump   \n",
       "2019-08-06 11:47:06  realDonaldTrump  Donald J. Trump   \n",
       "\n",
       "                                                                  text  \\\n",
       "created_at                                                               \n",
       "2019-08-06 16:28:23  Thank you @JimCramer @CNBC! https://t.co/DW7HD...   \n",
       "2019-08-06 16:24:54  Thank you Mr. Wonderful, I like you too! @kevi...   \n",
       "2019-08-06 12:36:44  As they have learned in the last two years, ou...   \n",
       "2019-08-06 12:00:41  Massive amounts of money from China and other ...   \n",
       "2019-08-06 11:47:06  ....in 2020.” Lou Dobbs stated that this is a ...   \n",
       "\n",
       "                     favorite_count  polarity  subjectivity  compound    neg  \\\n",
       "created_at                                                                     \n",
       "2019-08-06 16:28:23           10923    0.0000      0.000000    0.4199  0.000   \n",
       "2019-08-06 16:24:54           12985    1.0000      1.000000    0.8398  0.000   \n",
       "2019-08-06 12:36:44           55276    0.0000      0.066667    0.1779  0.115   \n",
       "2019-08-06 12:00:41           49902   -0.0625      0.687500    0.4215  0.000   \n",
       "2019-08-06 11:47:06           57432    0.0000      0.000000   -0.4215  0.167   \n",
       "\n",
       "                       neu    pos  \n",
       "created_at                         \n",
       "2019-08-06 16:28:23  0.589  0.411  \n",
       "2019-08-06 16:24:54  0.438  0.562  \n",
       "2019-08-06 12:36:44  0.746  0.139  \n",
       "2019-08-06 12:00:41  0.887  0.113  \n",
       "2019-08-06 11:47:06  0.746  0.088  "
      ]
     },
     "execution_count": 36,
     "metadata": {},
     "output_type": "execute_result"
    }
   ],
   "source": [
    "tweet_df.head()"
   ]
  },
  {
   "cell_type": "code",
   "execution_count": 44,
   "metadata": {},
   "outputs": [
    {
     "data": {
      "image/png": "[encoded data removed]",
      "text/plain": [
       "<Figure size 432x288 with 1 Axes>"
      ]
     },
     "metadata": {
      "needs_background": "light"
     },
     "output_type": "display_data"
    }
   ],
   "source": [
    "plt.hist(tweet_df['compound'])\n",
    "plt.title('Compound distribution')\n",
    "plt.xlabel('Compound score')\n",
    "plt.ylabel('Count')\n",
    "plt.show()"
   ]
  },
  {
   "cell_type": "code",
   "execution_count": 38,
   "metadata": {},
   "outputs": [
    {
     "data": {
      "text/plain": [
       "array(['Great working with you John. A big win for our amazing ranchers! https://t.co/m2PjlbTHA9',\n",
       "       '....Chariman Kim has a great and beautiful vision for his country, and only the United States, with me as President… https://t.co/Nn56xpzKr2',\n",
       "       'It is the 25th Anniversary of a GREAT Organization run by people who truly love our Country, @JudicialWatch. On beh… https://t.co/HFCWOPNGH5'],\n",
       "      dtype=object)"
      ]
     },
     "execution_count": 38,
     "metadata": {},
     "output_type": "execute_result"
    }
   ],
   "source": [
    "tweet_df.loc[tweet_df[\"compound\"] > 0.9, \"text\"].values"
   ]
  },
  {
   "cell_type": "code",
   "execution_count": 39,
   "metadata": {},
   "outputs": [
    {
     "data": {
      "text/plain": [
       "array(['....used currency manipulation to steal our businesses and factories, hurt our jobs, depress our workers’ wages and… https://t.co/UUdKKRsePC',\n",
       "       'Terrible shootings in ElPaso, Texas. Reports are very bad, many killed. Working with State and Local authorities, a… https://t.co/p9I5Pnj6ej'],\n",
       "      dtype=object)"
      ]
     },
     "execution_count": 39,
     "metadata": {},
     "output_type": "execute_result"
    }
   ],
   "source": [
    "tweet_df.loc[tweet_df[\"compound\"] < -0.9, \"text\"].values"
   ]
  },
  {
   "cell_type": "code",
   "execution_count": 40,
   "metadata": {},
   "outputs": [
    {
     "data": {
      "image/png": "[encoded data removed]",
      "text/plain": [
       "<Figure size 432x288 with 1 Axes>"
      ]
     },
     "metadata": {
      "needs_background": "light"
     },
     "output_type": "display_data"
    }
   ],
   "source": [
    "plt.scatter(tweet_df['polarity'], tweet_df['compound'])\n",
    "plt.title('relationship between textblob polarity and vader compound')\n",
    "plt.xlabel('textblob polarity')\n",
    "plt.ylabel('vader compound')\n",
    "plt.show()"
   ]
  },
  {
   "cell_type": "markdown",
   "metadata": {},
   "source": [
    "Textblob often can't calculate polarity and returns 0, but Vader compound seems to be able to calculate some kind of score in many cases. But generally, polarity and compound keeps positive correlation and similar results."
   ]
  },
  {
   "cell_type": "code",
   "execution_count": 50,
   "metadata": {},
   "outputs": [
    {
     "data": {
      "image/png": "[encoded data removed]",
      "text/plain": [
       "<Figure size 432x288 with 1 Axes>"
      ]
     },
     "metadata": {
      "needs_background": "light"
     },
     "output_type": "display_data"
    }
   ],
   "source": [
    "compound_daily = tweet_df['compound'].resample('D').mean()\n",
    "\n",
    "plt.plot(compound_daily.index, compound_daily.values)\n",
    "plt.title(\"Trump daily sentiment\")\n",
    "plt.xlabel(\"Date\")\n",
    "plt.ylabel(\"Average compound score\")\n",
    "plt.ylim((-0.5, 0.5))\n",
    "plt.xticks(rotation = 45)\n",
    "plt.show()"
   ]
  },
  {
   "cell_type": "markdown",
   "metadata": {},
   "source": [
    "This is one way of visualize the trend of Trump sentiment over time, by taking average of compound scores."
   ]
  }
 ],
 "metadata": {
  "kernelspec": {
   "display_name": "Python 3",
   "language": "python",
   "name": "python3"
  },
  "language_info": {
   "codemirror_mode": {
    "name": "ipython",
    "version": 3
   },
   "file_extension": ".py",
   "mimetype": "text/x-python",
   "name": "python",
   "nbconvert_exporter": "python",
   "pygments_lexer": "ipython3",
   "version": "3.7.1"
  }
 },
 "nbformat": 4,
 "nbformat_minor": 2
}
