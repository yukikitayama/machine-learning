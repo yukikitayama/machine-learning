{
 "cells": [
  {
   "cell_type": "markdown",
   "id": "5328daee",
   "metadata": {},
   "source": [
    "# Permutation Test for t-test"
   ]
  },
  {
   "cell_type": "markdown",
   "id": "768cfb4b",
   "metadata": {},
   "source": [
    "## Dependency"
   ]
  },
  {
   "cell_type": "code",
   "execution_count": 1,
   "id": "66ac38f7",
   "metadata": {},
   "outputs": [],
   "source": [
    "import matplotlib.pyplot as plt\n",
    "import numpy as np\n",
    "import scipy.stats as stats"
   ]
  },
  {
   "cell_type": "markdown",
   "id": "b755d291",
   "metadata": {},
   "source": [
    "## Concept\n",
    "\n",
    "We don't make any assumption about where the null hypothesis distribution comes from or shape. Instead we will compute the null hypothesis distribution from the data, and interpret observed statisitc value relative to the **empirical distribution**. \n",
    "\n",
    "## Computation\n",
    "\n",
    "- Pool the data, and shuffle the label, compute statistic value and use it as one of the data for the distribution.\n",
    "- Continue until we can have a distribution. We use it as the null hypothesis distribution\n",
    "- Compute $z$\n",
    "- Look $z$ up the normal distribution to convert it to p-value\n",
    "\n",
    "When the empirical null hypothesis distribution is **approximately Gaussian**, \n",
    "\n",
    "$$\n",
    "Z = \\frac{\\text{observed statistic} - E[H_0]}{std[H_0]}\n",
    "$$\n",
    "\n",
    "Otherwise, use generally appropriate approach,\n",
    "\n",
    "$$\n",
    "p_c = \\frac{\\sum (H_0 > \\text{obs})}{N_{H_0}}\n",
    "$$\n",
    "\n",
    "This is counting how many empirical distribution larger than observed statistic we have out of all the empirical distribution."
   ]
  },
  {
   "cell_type": "code",
   "execution_count": 2,
   "id": "1b10dd86",
   "metadata": {},
   "outputs": [],
   "source": [
    "# 127. Code: permutation testing"
   ]
  },
  {
   "cell_type": "code",
   "execution_count": null,
   "id": "067df34f",
   "metadata": {},
   "outputs": [],
   "source": []
  },
  {
   "cell_type": "code",
   "execution_count": null,
   "id": "e810784d",
   "metadata": {},
   "outputs": [],
   "source": []
  }
 ],
 "metadata": {
  "kernelspec": {
   "display_name": "env-machine-learning",
   "language": "python",
   "name": "env-machine-learning"
  },
  "language_info": {
   "codemirror_mode": {
    "name": "ipython",
    "version": 3
   },
   "file_extension": ".py",
   "mimetype": "text/x-python",
   "name": "python",
   "nbconvert_exporter": "python",
   "pygments_lexer": "ipython3",
   "version": "3.8.10"
  }
 },
 "nbformat": 4,
 "nbformat_minor": 5
}
