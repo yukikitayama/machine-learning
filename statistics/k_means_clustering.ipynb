{
 "cells": [
  {
   "cell_type": "markdown",
   "id": "e60a413d",
   "metadata": {},
   "source": [
    "# K-means Clustering\n",
    "\n",
    "## Concept\n",
    "\n",
    "**K-means clustering** attempts to minimize within-group distances and maximize between-group distances.\n",
    "\n",
    "It's difficult to know the proper $k$ a priori.\n",
    "\n",
    "**Silhouette test** measures quality of clustering, \n",
    "\n",
    "The more clusters we have, the sum of squared distances between each data and centroid will be smaller."
   ]
  },
  {
   "cell_type": "code",
   "execution_count": null,
   "id": "d0955c92",
   "metadata": {},
   "outputs": [],
   "source": []
  },
  {
   "cell_type": "code",
   "execution_count": null,
   "id": "882cdacd",
   "metadata": {},
   "outputs": [],
   "source": []
  },
  {
   "cell_type": "code",
   "execution_count": null,
   "id": "b1adf4a4",
   "metadata": {},
   "outputs": [],
   "source": []
  },
  {
   "cell_type": "code",
   "execution_count": null,
   "id": "aa7214d4",
   "metadata": {},
   "outputs": [],
   "source": []
  },
  {
   "cell_type": "code",
   "execution_count": null,
   "id": "5054d147",
   "metadata": {},
   "outputs": [],
   "source": []
  },
  {
   "cell_type": "code",
   "execution_count": null,
   "id": "8db85442",
   "metadata": {},
   "outputs": [],
   "source": []
  }
 ],
 "metadata": {
  "kernelspec": {
   "display_name": "env-machine-learning",
   "language": "python",
   "name": "env-machine-learning"
  },
  "language_info": {
   "codemirror_mode": {
    "name": "ipython",
    "version": 3
   },
   "file_extension": ".py",
   "mimetype": "text/x-python",
   "name": "python",
   "nbconvert_exporter": "python",
   "pygments_lexer": "ipython3",
   "version": "3.9.5"
  }
 },
 "nbformat": 4,
 "nbformat_minor": 5
}
