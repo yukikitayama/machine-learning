{
 "cells": [
  {
   "cell_type": "markdown",
   "id": "9e00c3b8",
   "metadata": {},
   "source": [
    "# Mean Median Mode\n",
    "\n",
    "Considering mean, median, and mode, when would be use one measure over the other?\n",
    "\n",
    "Generally the mean is the default metric. But when we have extreme values, the mean is misleading. For example, income of a country tends to have extremely high values even if these data is a small proportion of the overall data. In this case, the median is better. For the integer score data, the median and mode are good. For the categorical data, the mode is good.\n",
    "\n",
    "How do we calculate the confidence interval of each measure?\n",
    "\n",
    "When the data is large, the sample mean follows a normal distribution. Confidence interval of a mean is computed by the following.\n",
    "\n",
    "$$\n",
    "CI = \\bar{x} \\pm z_{\\alpha} \\frac{\\sigma}{\\sqrt{n}}\n",
    "$$\n",
    "\n",
    "$n$ is sample size. $\\bar{x}$ is sample mean. $\\sigma$ is below\n",
    "\n",
    "$$\n",
    "\\sigma = \\sqrt{ \\frac{\\sum (x - \\bar{x})^2}{n - 1} }\n",
    "$$\n",
    "\n",
    "$z_{\\alpha}$ is the z score of a given significance level $\\alpha$.\n",
    "\n",
    "When the data is small, we replace $z_{\\alpha}$ with $t_{\\alpha}$\n",
    "\n",
    "For the median, if the data is large, we can use the normal approximation to the binomial distribution, because the median has a binomial distribution with parameters $n$ and $p = 0.5$. $p = 0.5$ because the half of the values should be above the median. In binomial distribution, the mean is $np$ and the variance is $np(1-p)$. Let $m$ denote the median, so the confidence interval of the median is computed by the following.\n",
    "\n",
    "$$\n",
    "CI = m \\pm z_{\\alpha} \\frac{\\sigma}{\\sqrt{n}}\n",
    "$$\n",
    "$$\n",
    "= m \\pm z_{\\alpha} \\frac{\\sqrt{np(1 - p)}}{\\sqrt{n}}\n",
    "$$\n",
    "$$\n",
    "= m \\pm z_{\\alpha} \\sqrt{\\frac{n \\times 0.5 \\times 0.5}{n}}\n",
    "$$\n",
    "$$\n",
    "= m \\pm 0.5 z_{\\alpha}\n",
    "$$\n",
    "\n",
    "The confidence interval of the mode is out of scope. The model is often used in Bayesian Statistics, but it doesn't compute confidence interval.\n",
    "\n",
    "## Resource\n",
    "\n",
    "- [19.1 - For A Median](https://online.stat.psu.edu/stat415/lesson/19/19.1)"
   ]
  }
 ],
 "metadata": {
  "kernelspec": {
   "display_name": "env-machine-learning",
   "language": "python",
   "name": "env-machine-learning"
  },
  "language_info": {
   "codemirror_mode": {
    "name": "ipython",
    "version": 3
   },
   "file_extension": ".py",
   "mimetype": "text/x-python",
   "name": "python",
   "nbconvert_exporter": "python",
   "pygments_lexer": "ipython3",
   "version": "3.9.5"
  }
 },
 "nbformat": 4,
 "nbformat_minor": 5
}
