{
 "cells": [
  {
   "cell_type": "markdown",
   "id": "c371ad7e",
   "metadata": {},
   "source": [
    "# Correlation"
   ]
  },
  {
   "cell_type": "markdown",
   "id": "dae343ae",
   "metadata": {},
   "source": [
    "## Dependency"
   ]
  },
  {
   "cell_type": "code",
   "execution_count": 5,
   "id": "f82ae9fd",
   "metadata": {},
   "outputs": [],
   "source": [
    "import numpy as np\n",
    "import matplotlib.pyplot as plt\n",
    "plt.style.use('default')"
   ]
  },
  {
   "cell_type": "markdown",
   "id": "9b0a02a8",
   "metadata": {},
   "source": [
    "**Pearson correlation coefficient** is a single number that shows the linear relationship between two variables. A corresponding **p-value** must be computed to interpret its statistical significance. Pearson correlation can over- or under-represent relationships if the data contains the nonlinearities or outliers. Pearson is appropriate for **normally distributed data** without outliers.\n",
    "\n",
    "Correlation is the scaled covariance. Covariance is a single number that measures the linear relationship between two variables.\n",
    "\n",
    "$c$ is covariance. $n$ is the number of data.\n",
    "\n",
    "$$\n",
    "c = \\frac{1}{n - 1} \\sum_{i = 1}^{n} (x_i - \\bar{x}) (y_i - \\bar{y})\n",
    "$$\n",
    "\n",
    "It's doing element-wise multiplication and sum, like a **dot product**.\n",
    "\n",
    "$r$ is correlation coefficient\n",
    "\n",
    "$$\n",
    "r = \\frac{\\sum_{i = 1}^{n} (x_i - \\bar{x})(y_i - \\bar{y})}{\\sqrt{\\sum_{i = 1}^{n} (x_i - \\bar{x})^2 \\sum_{i = 1}^{n} (y_i - \\bar{y})^2}}\n",
    "$$\n",
    "\n",
    "p-value\n",
    "\n",
    "$$\n",
    "t_{n - 2} = \\frac{r \\sqrt{n - 2}}{1 - r^2}\n",
    "$$\n",
    "\n",
    "- When we have a larger sample size, numerator gets bigger, t-value gets larger, and we get a small p-value\n",
    "- When we have $r$ closer to 1 or -1, denominator gets smaller, t-value gets larger, and we get a small p-value.\n",
    "\n",
    "\n"
   ]
  },
  {
   "cell_type": "code",
   "execution_count": 1,
   "id": "b8ab534c",
   "metadata": {},
   "outputs": [],
   "source": [
    "# 138. Code: correlation coefficient"
   ]
  },
  {
   "cell_type": "markdown",
   "id": "705530be",
   "metadata": {},
   "source": [
    "## Simulated data with specified correlation"
   ]
  },
  {
   "cell_type": "code",
   "execution_count": 12,
   "id": "93956106",
   "metadata": {},
   "outputs": [
    {
     "data": {
      "image/png": "[encoded data removed]",
      "text/plain": [
       "<Figure size 432x288 with 1 Axes>"
      ]
     },
     "metadata": {
      "needs_background": "light"
     },
     "output_type": "display_data"
    },
    {
     "name": "stdout",
     "output_type": "stream",
     "text": [
      "Desired r: 0.7, empirical r: 0.749\n"
     ]
    }
   ],
   "source": [
    "n = 100\n",
    "r = 0.7\n",
    "\n",
    "x = np.random.randn(n)\n",
    "y = np.random.randn(n)\n",
    "\n",
    "y = x * r + y * np.sqrt(1 - r**2)\n",
    "\n",
    "plt.scatter(x, y)\n",
    "plt.xlabel('Variable X')\n",
    "plt.ylabel('Variable Y')\n",
    "plt.show()\n",
    "\n",
    "empirical_r = np.corrcoef(x, y)\n",
    "\n",
    "print(f'Desired r: {r}, empirical r: {empirical_r[0, 1]:.3f}')"
   ]
  },
  {
   "cell_type": "markdown",
   "id": "c136d239",
   "metadata": {},
   "source": [
    "## Partial correlation\n",
    "\n",
    "We wanna know the correlation between 2 variables when partialling out the effect of another variable.\n",
    "\n",
    "Partial correlation between $x$ and $y$ when accounting for the shared variable $z$ is,\n",
    "\n",
    "$$\n",
    "\\rho_{xy|z} = \\frac{r_{xy} - r_{xz} r_{yz}}{\\sqrt{1 - r_{xz}^2} \\sqrt{1 - r_{yz}^2}}\n",
    "$$\n",
    "\n",
    "The numerator is the thing we are interested in minus the thing we are not interested in. \n",
    "\n",
    "When there is no correlation between $x$ and $z$, and between $y$ and $z$, $r_{xz} = 0$ and $r_{yz} = 0$, numerator multiplication term will be 0, and denominator will be 1, so $\\rho_{xy|z} = r_{xy}$."
   ]
  },
  {
   "cell_type": "code",
   "execution_count": 1,
   "id": "221404a8",
   "metadata": {},
   "outputs": [],
   "source": [
    "# 145. Code: partial correlation"
   ]
  },
  {
   "cell_type": "markdown",
   "id": "77bf62dd",
   "metadata": {},
   "source": [
    "## Spearman (rank) correlation\n",
    "\n",
    "1. Transform **both** variables to **rank**, e.g. $[12345, -50, 1, 0] \\rightarrow [4, 1, 3, 2]$\n",
    "2. Compute Pearson correlation coefficient on ranks.\n",
    "3. P-value is the same as for regular Pearson coefficient.\n",
    "\n",
    "It's a major **non-parametric** correlation method as an alternative to Pearson correlation."
   ]
  },
  {
   "cell_type": "code",
   "execution_count": null,
   "id": "3a65ded6",
   "metadata": {},
   "outputs": [],
   "source": []
  },
  {
   "cell_type": "code",
   "execution_count": null,
   "id": "5fcc4084",
   "metadata": {},
   "outputs": [],
   "source": []
  }
 ],
 "metadata": {
  "kernelspec": {
   "display_name": "env-machine-learning",
   "language": "python",
   "name": "env-machine-learning"
  },
  "language_info": {
   "codemirror_mode": {
    "name": "ipython",
    "version": 3
   },
   "file_extension": ".py",
   "mimetype": "text/x-python",
   "name": "python",
   "nbconvert_exporter": "python",
   "pygments_lexer": "ipython3",
   "version": "3.9.5"
  }
 },
 "nbformat": 4,
 "nbformat_minor": 5
}
