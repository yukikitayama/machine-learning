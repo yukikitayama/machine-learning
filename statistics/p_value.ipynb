{
 "cells": [
  {
   "cell_type": "markdown",
   "id": "4e2908d3",
   "metadata": {},
   "source": [
    "# P Value"
   ]
  },
  {
   "cell_type": "markdown",
   "id": "85377b63",
   "metadata": {},
   "source": [
    "## Concept\n",
    "\n",
    "We have null hypothesis $H_0$ distribution and alternative hypothesis $H_A$ value, and how likely is the $H_A$ value to occur if $H_0$ is true?\n",
    "\n",
    "What is the probability of observing a parameter estimate of $H_A$ or larger, given that there is no true effect, meaning if we retain the null hypothesis.\n",
    "\n",
    "The probability in these statements is $P(H_A | H_0).\n",
    "\n",
    "We cannot prove that $H_A$ is true. We can only compute the probability that the test statistic associated with $H_A$ could be observed **given that there is no true effect**.\n",
    "\n",
    "P-values are probabilities, ranging from 0 to 1.\n",
    "\n",
    "- P-values closer to 0, low probability of $H_A | H_0$, so $H_0$ is not true. \n",
    "- P-values closer to 1, high probability of $H_A | H_0$, so $H_0$ is true.\n",
    "\n",
    "## Compute p-value\n",
    "\n",
    "The ways to compute a p-value depend on the specific statistical test and assumptions made.\n",
    "\n",
    "But the interpretation of a p-value is always the same, regardless of how the p-value was computed.\n",
    "\n",
    "## Statistical significance\n",
    "\n",
    "**Statistical significance** is the probability of observing a test statistic this large given that the null hypothesis is true.\n",
    "\n",
    "Statistically significant if the test statistic is greater than a threshold, so $p(H_A) < p(\\alpha)$\n",
    "\n",
    "## Tail\n",
    "\n",
    "Hypotheses should be as specific as possible, so should use **one-tailed**, but in practice, statistical tests are nearly always done **two-tailed**.\n",
    "\n",
    "## One-tailed p-z pair\n",
    "\n",
    "- $p = .05 \\Leftrightarrow z = 1.64$\n",
    "  - Our observed data is 1.64 standard deviation away from the mean of the null hypothesis distribution\n",
    "- $p = .01 \\Leftrightarrow z = 2.32$\n",
    "- $p = .001 \\Leftrightarrow z = 3.09$\n",
    "\n",
    "## Two-tailed p-z pair\n",
    "\n",
    "- $p = .05 \\Leftrightarrow z = \\pm 1.96$\n",
    "- $p = .01 \\Leftrightarrow z = \\pm 2.58$\n",
    "- $p = .001 \\Leftrightarrow z = \\pm 3.29$\n"
   ]
  },
  {
   "cell_type": "code",
   "execution_count": null,
   "id": "13658407",
   "metadata": {},
   "outputs": [],
   "source": []
  },
  {
   "cell_type": "code",
   "execution_count": null,
   "id": "a6dc8681",
   "metadata": {},
   "outputs": [],
   "source": []
  },
  {
   "cell_type": "code",
   "execution_count": null,
   "id": "8be69873",
   "metadata": {},
   "outputs": [],
   "source": []
  },
  {
   "cell_type": "code",
   "execution_count": null,
   "id": "6fec4f18",
   "metadata": {},
   "outputs": [],
   "source": []
  },
  {
   "cell_type": "code",
   "execution_count": null,
   "id": "cc618255",
   "metadata": {},
   "outputs": [],
   "source": []
  }
 ],
 "metadata": {
  "kernelspec": {
   "display_name": "env-machine-learning",
   "language": "python",
   "name": "env-machine-learning"
  },
  "language_info": {
   "codemirror_mode": {
    "name": "ipython",
    "version": 3
   },
   "file_extension": ".py",
   "mimetype": "text/x-python",
   "name": "python",
   "nbconvert_exporter": "python",
   "pygments_lexer": "ipython3",
   "version": "3.8.10"
  }
 },
 "nbformat": 4,
 "nbformat_minor": 5
}
