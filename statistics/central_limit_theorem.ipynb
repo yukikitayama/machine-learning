{
 "cells": [
  {
   "cell_type": "markdown",
   "id": "97037d3b",
   "metadata": {},
   "source": [
    "# Central Limit Theorem"
   ]
  },
  {
   "cell_type": "markdown",
   "id": "d455cd9b",
   "metadata": {},
   "source": [
    "## Concept\n",
    "\n",
    "**Central limit theorem** is important because many statistical analyses rely on the assumption of normality (roughly Gaussian distribution). Gaussian distributions are easy to parameterize by mean, variance, skew and kurtosis, and compute confidence intervals around.\n",
    "\n",
    "The distribution of sample means approaches a Gaussian distribution, regardless of the original shape of the population distribution. The means of the random samples from data will tend towards Gaussian distribution regardless of the shape of the distribution of the data.\n",
    "\n",
    "Random samples from independent variables (e.g. adding the two values) will tend towards a normal (Gaussian) distribution, even if the variables each are non-normally distributed."
   ]
  },
  {
   "cell_type": "code",
   "execution_count": null,
   "id": "ee089a65",
   "metadata": {},
   "outputs": [],
   "source": []
  },
  {
   "cell_type": "code",
   "execution_count": null,
   "id": "998c286e",
   "metadata": {},
   "outputs": [],
   "source": []
  },
  {
   "cell_type": "code",
   "execution_count": null,
   "id": "1f410af1",
   "metadata": {},
   "outputs": [],
   "source": []
  },
  {
   "cell_type": "code",
   "execution_count": null,
   "id": "d1cd0031",
   "metadata": {},
   "outputs": [],
   "source": []
  },
  {
   "cell_type": "code",
   "execution_count": null,
   "id": "256c078a",
   "metadata": {},
   "outputs": [],
   "source": []
  }
 ],
 "metadata": {
  "kernelspec": {
   "display_name": "env-machine-learning",
   "language": "python",
   "name": "env-machine-learning"
  },
  "language_info": {
   "codemirror_mode": {
    "name": "ipython",
    "version": 3
   },
   "file_extension": ".py",
   "mimetype": "text/x-python",
   "name": "python",
   "nbconvert_exporter": "python",
   "pygments_lexer": "ipython3",
   "version": "3.8.10"
  }
 },
 "nbformat": 4,
 "nbformat_minor": 5
}
