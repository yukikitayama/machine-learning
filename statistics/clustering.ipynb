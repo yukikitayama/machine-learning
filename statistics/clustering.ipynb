{
 "cells": [
  {
   "cell_type": "markdown",
   "id": "dcadc6ad",
   "metadata": {},
   "source": [
    "# Clustering\n",
    "\n",
    "## K-means clustering\n",
    "\n",
    "**K-means clustering** attempts to minimize within-group distances and maximize between-group distances.\n",
    "\n",
    "It's difficult to know the proper $k$ a priori.\n",
    "\n",
    "**Silhouette test** measures quality of clustering, \n",
    "\n",
    "The more clusters we have, the sum of squared distances between each data and centroid will be smaller.\n",
    "\n",
    "## dbscan\n",
    "\n",
    "**dbscan** stands for **density-based spatial clustering of applications with noise**\n",
    "\n",
    "By using a **distance parameter**, for each data, check whether there is any data within a distance from the data. If nothing is nearby, this data is to be noise. If there is any, they will be a cluster. Then by using the **minimum number of data points parameter**, determine which data belongs to which cluster.\n",
    "\n",
    "**Epsilon** $\\epsilon$\n",
    "\n",
    "- Step size for finding clusters. Radius distance around a data point.\n",
    "- Too small -> clusters broken up into many clusters.\n",
    "- Too large -> separate clusters combined into one\n",
    "\n",
    "Typically use **eucledian distance**\n",
    "\n",
    "**Minimum points**\n",
    "\n",
    "- Minimum number of data points to be a cluster\n",
    "- Too small -> many small clusters\n",
    "- Too large -> true small clusters ignored.\n",
    "\n",
    "$\\epsilon$ is sensitive to the scale of the data. For example, if we normalize the data, we need to find another $\\epsilon$ which fits the normalized data.\n",
    "\n",
    "## K-means vs. dbscan\n",
    "\n",
    "K-means:\n",
    "\n",
    "- Distances to **centroids**\n",
    "- **Global** distances\n",
    "- Users specify **number of clusters**, and algorithm determines **distance thresholds**\n",
    "- Good for **spherical clusters** like a circle and a ball\n",
    "- Each point is assigned to a cluster\n",
    "\n",
    "dbscan:\n",
    "\n",
    "- Distances to **neighbors**\n",
    "- **Local** distances\n",
    "- Users specify **distance threshold**, and algorithm determines **number of clusters**\n",
    "- Good for **any shapes**\n",
    "- Points can be unassigned to a cluster, if they are considered as a noise."
   ]
  },
  {
   "cell_type": "code",
   "execution_count": null,
   "id": "2d66a821",
   "metadata": {},
   "outputs": [],
   "source": []
  },
  {
   "cell_type": "code",
   "execution_count": null,
   "id": "46faaa6a",
   "metadata": {},
   "outputs": [],
   "source": []
  },
  {
   "cell_type": "code",
   "execution_count": null,
   "id": "f7f1d00f",
   "metadata": {},
   "outputs": [],
   "source": []
  },
  {
   "cell_type": "code",
   "execution_count": null,
   "id": "bf4b8ff4",
   "metadata": {},
   "outputs": [],
   "source": []
  },
  {
   "cell_type": "code",
   "execution_count": null,
   "id": "daa224c6",
   "metadata": {},
   "outputs": [],
   "source": []
  },
  {
   "cell_type": "code",
   "execution_count": null,
   "id": "257b844b",
   "metadata": {},
   "outputs": [],
   "source": []
  }
 ],
 "metadata": {
  "kernelspec": {
   "display_name": "env-machine-learning",
   "language": "python",
   "name": "env-machine-learning"
  },
  "language_info": {
   "codemirror_mode": {
    "name": "ipython",
    "version": 3
   },
   "file_extension": ".py",
   "mimetype": "text/x-python",
   "name": "python",
   "nbconvert_exporter": "python",
   "pygments_lexer": "ipython3",
   "version": "3.9.5"
  }
 },
 "nbformat": 4,
 "nbformat_minor": 5
}
