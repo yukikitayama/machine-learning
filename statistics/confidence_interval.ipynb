{
 "cells": [
  {
   "cell_type": "markdown",
   "id": "f0aa5aeb",
   "metadata": {},
   "source": [
    "# Confidence Interval"
   ]
  },
  {
   "cell_type": "markdown",
   "id": "c4275e63",
   "metadata": {},
   "source": [
    "## Dependency"
   ]
  },
  {
   "cell_type": "code",
   "execution_count": 25,
   "id": "43692431",
   "metadata": {},
   "outputs": [],
   "source": [
    "import matplotlib.pyplot as plt\n",
    "import numpy as np\n",
    "import scipy.stats as stats\n",
    "from matplotlib.patches import Polygon\n",
    "plt.style.use('default')"
   ]
  },
  {
   "cell_type": "markdown",
   "id": "054d9a91",
   "metadata": {},
   "source": [
    "## Concept\n",
    "\n",
    "**Confidence interval** is the probability that an unknown population parameter falls within a range of values in repeated samples. It's the proportion of a large number of samples that will include the population parameter within its confidence interval. \n",
    "\n",
    "$L$ is a lower boundary. $U$ is a upper boundary. $c$ is proportion of confidence interval. $\\mu$ is population mean.\n",
    "\n",
    "$$\n",
    "P(L < \\mu < U) = c\n",
    "$$\n",
    "$$\n",
    "c = \\{ 0.95, 0.99, 0.9 \\}\n",
    "$$\n",
    "\n",
    "Factors that influence confidence intervals\n",
    "\n",
    "- When sample size is larger, confidence intervals gets narrower\n",
    "- When the variance is smaller, confidence intervals get narrower\n",
    "\n",
    "$\\bar{x}$ is sample mean. $t^*$ is t-value with $k$ degrees of freedom. $s$ is sample standard deviation. $n$ is sample size.\n",
    "\n",
    "$$\n",
    "\\text{C.I.} = \\bar{x} \\pm t^* (k) \\frac{s}{\\sqrt{n}}\n",
    "$$\n",
    "$$\n",
    "t^* = tinv(\\frac{1 - C}{2}, n - 1) = \\frac{1 - C}{2}\n",
    "$$\n",
    "$$\n",
    "C = 0.95\n",
    "$$\n",
    "\n",
    "Assumptions\n",
    "\n",
    "- $s$ is an appropriate measure of variability\n",
    "\n",
    "## Bootstrapping\n",
    "\n",
    "Pretend that our sample is the population and the resampling is the sample by repeatedly randomly resampling from our dataset. and compute C.I. directly based on the data.\n",
    "\n",
    "**Resample with replacement**\n",
    "\n",
    "## Interpretation\n",
    "\n",
    "- 95% of confidence intervals in repeated samples will contain the true population mean.\n",
    "- Confidence refers to the estimate, not to the population parameter.\n",
    "- Confidence interval is not based on the raw data; it's based on the descriptive statistics of the sample data.\n",
    "- Confidence interval refers to the estimate of a parameter, not to the relationship between parameters."
   ]
  },
  {
   "cell_type": "code",
   "execution_count": 4,
   "id": "2a522a15",
   "metadata": {},
   "outputs": [],
   "source": [
    "# 131. Code: compute confidence intervals by formula"
   ]
  },
  {
   "cell_type": "code",
   "execution_count": 34,
   "id": "08b0afdf",
   "metadata": {},
   "outputs": [
    {
     "data": {
      "image/png": "[encoded data removed]",
      "text/plain": [
       "<Figure size 640x480 with 1 Axes>"
      ]
     },
     "metadata": {},
     "output_type": "display_data"
    },
    {
     "name": "stdout",
     "output_type": "stream",
     "text": [
      "Empirical: 8.26 - 18.39\n",
      "Analytic: 7.63 - 18.49\n"
     ]
    }
   ],
   "source": [
    "n = int(1e7)\n",
    "\n",
    "population = (4 * np.random.randn(n)) ** 2\n",
    "population_mean = np.mean(population)\n",
    "\n",
    "sample_size = 40\n",
    "confidence = 95\n",
    "\n",
    "rand_samples = np.random.randint(low=0, high=n, size=sample_size)\n",
    "sample_data = population[rand_samples]\n",
    "sample_mean = np.mean(population[rand_samples])\n",
    "sample_std = np.std(population[rand_samples], ddof=1)\n",
    "\n",
    "num_boots = 1000\n",
    "boot_means = np.zeros(num_boots)\n",
    "\n",
    "for boot_i in range(num_boots):\n",
    "    boot_means[boot_i] = np.mean(np.random.choice(sample_data, sample_size))\n",
    "\n",
    "confint = [0, 0]\n",
    "confint[0] = np.percentile(boot_means, (100 - confidence) / 2)\n",
    "confint[1] = np.percentile(boot_means, 100 - (100 - confidence) / 2)\n",
    "\n",
    "fig, ax = plt.subplots(1, 1)\n",
    "\n",
    "y, x = np.histogram(boot_means, 40)\n",
    "y = y / max(y)\n",
    "x = (x[:-1] + x[1:]) / 2\n",
    "ax.bar(x, y)\n",
    "\n",
    "y = np.array([\n",
    "    [confint[0], 0],\n",
    "    [confint[1], 0],\n",
    "    [confint[1], 1],\n",
    "    [confint[0], 1]\n",
    "])\n",
    "p = Polygon(y, facecolor='g', alpha=.3)\n",
    "ax.add_patch(p)\n",
    "\n",
    "ax.plot([population_mean, population_mean], [0, 1.5], 'k:', linewidth=2)\n",
    "ax.plot([sample_mean, sample_mean], [0, 1], 'r--', linewidth=3)\n",
    "ax.set_xlim([population_mean - 30, population_mean + 30])\n",
    "ax.set_yticks([])\n",
    "ax.set_xlabel('Data values')\n",
    "ax.legend((\n",
    "    f'{confidence}% CI region',\n",
    "    'True mean',\n",
    "    'Sample mean',\n",
    "    'Empirical dist.'\n",
    "))\n",
    "\n",
    "plt.show()\n",
    "\n",
    "citmp = (1 - confidence / 100) / 2\n",
    "confint2 = sample_mean + stats.t.ppf([citmp, 1 - citmp], sample_size - 1) * sample_std / np.sqrt(sample_size)\n",
    "\n",
    "print(f'Empirical: {confint[0]:.2f} - {confint[1]:.2f}')\n",
    "print(f'Analytic: {confint2[0]:.2f} - {confint2[1]:.2f}')"
   ]
  },
  {
   "cell_type": "code",
   "execution_count": null,
   "id": "72923a2e",
   "metadata": {},
   "outputs": [],
   "source": []
  }
 ],
 "metadata": {
  "kernelspec": {
   "display_name": "env-machine-learning",
   "language": "python",
   "name": "env-machine-learning"
  },
  "language_info": {
   "codemirror_mode": {
    "name": "ipython",
    "version": 3
   },
   "file_extension": ".py",
   "mimetype": "text/x-python",
   "name": "python",
   "nbconvert_exporter": "python",
   "pygments_lexer": "ipython3",
   "version": "3.8.10"
  }
 },
 "nbformat": 4,
 "nbformat_minor": 5
}
