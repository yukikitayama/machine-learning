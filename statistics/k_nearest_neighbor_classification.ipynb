{
 "cells": [
  {
   "cell_type": "markdown",
   "id": "69c91b36",
   "metadata": {},
   "source": [
    "# K-nearest neighbor classification (KNN)\n",
    "\n",
    "## Concept\n",
    "\n",
    "- Toss a new data to already categorized dataset, and measure distances between the new and the rest of the data\n",
    "- Use $k$ parameter to determine how many nearest data points to be used to find the majority.\n",
    "\n",
    "## KNN vs. K-means\n",
    "\n",
    "- KNN is to classify a new data point where clusters already exist\n",
    "  - KNN starts with already categorized data\n",
    "- K-means is to find clusters in the first place when you already don't have labels.\n",
    "  - K-means starts with uncategorized data, and try to make clusters by distances."
   ]
  },
  {
   "cell_type": "code",
   "execution_count": null,
   "id": "b1c4fad6",
   "metadata": {},
   "outputs": [],
   "source": []
  },
  {
   "cell_type": "code",
   "execution_count": null,
   "id": "9bdf0d96",
   "metadata": {},
   "outputs": [],
   "source": []
  },
  {
   "cell_type": "code",
   "execution_count": null,
   "id": "0c943453",
   "metadata": {},
   "outputs": [],
   "source": []
  },
  {
   "cell_type": "code",
   "execution_count": null,
   "id": "4fd3d7ee",
   "metadata": {},
   "outputs": [],
   "source": []
  },
  {
   "cell_type": "code",
   "execution_count": null,
   "id": "5b09b431",
   "metadata": {},
   "outputs": [],
   "source": []
  }
 ],
 "metadata": {
  "kernelspec": {
   "display_name": "env-machine-learning",
   "language": "python",
   "name": "env-machine-learning"
  },
  "language_info": {
   "codemirror_mode": {
    "name": "ipython",
    "version": 3
   },
   "file_extension": ".py",
   "mimetype": "text/x-python",
   "name": "python",
   "nbconvert_exporter": "python",
   "pygments_lexer": "ipython3",
   "version": "3.9.5"
  }
 },
 "nbformat": 4,
 "nbformat_minor": 5
}
