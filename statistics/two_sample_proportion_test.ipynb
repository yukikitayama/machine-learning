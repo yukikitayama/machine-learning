{
 "cells": [
  {
   "cell_type": "markdown",
   "id": "1a8417da",
   "metadata": {},
   "source": [
    "# Hypothesis Testing for Two-Sample Proportions\n",
    "\n",
    "There are 2 types of parcels. Parcel A is damaged during shipment with probability of p, while parcel B is damaged with probability q. What statistical test do we use to determine which parcel is better? What would the statistical test conclude if $p = 0.4$ and $q = 0.6$? $p$ and $q$ are obtained by 100 parcel A delivery and 100 parcel B delivery.\n",
    "\n",
    "We use hypothesis testing for two-sample proportions because we wanna compare the difference in the success rate of 2 types of parcels. Because we wanna determine which is better, we use the one-sided version. Better means damaged probability should be small. So the hypotheses are,\n",
    "\n",
    "$$\n",
    "H_0: p \\ge q\n",
    "$$\n",
    "$$\n",
    "H_a: p \\lt q\n",
    "$$\n",
    "\n",
    "We assume the p and q are the same for the test though we will reject it, so that define the estimate proportion $p^*$ as,\n",
    "\n",
    "$$\n",
    "p^* = \\frac{x_A + x_B}{n_A + n_B}\n",
    "$$ \n",
    "$$\n",
    "= \\frac{40 + 60}{100 + 100}\n",
    "$$\n",
    "$$\n",
    "= \\frac{100}{200}\n",
    "$$\n",
    "$$\n",
    "= 0.5\n",
    "$$\n",
    "\n",
    "It's with the standard error of, for i = 1, 2,\n",
    "\n",
    "$$\n",
    "\\sqrt{\\frac{p^* (1 - p^*)}{n_i}}\n",
    "$$\n",
    "\n",
    "Thus the test statistic is\n",
    "\n",
    "$$\n",
    "z = \\frac{p - q}{\\sqrt{p^* (1 - p^*) (\\frac{1}{n_A} + \\frac{1}{n_B})}}\n",
    "$$\n",
    "$$\n",
    "= \\frac{0.4 - 0.6}{\\sqrt{0.5 \\times 0.5 \\times \\frac{2}{100}}}\n",
    "$$"
   ]
  },
  {
   "cell_type": "code",
   "execution_count": 1,
   "id": "edba3c38",
   "metadata": {},
   "outputs": [
    {
     "data": {
      "text/plain": [
       "-2.8284271247461894"
      ]
     },
     "execution_count": 1,
     "metadata": {},
     "output_type": "execute_result"
    }
   ],
   "source": [
    "import math\n",
    "\n",
    "(0.4 - 0.6) / math.sqrt(0.5 * 0.5 * (2 / 100))"
   ]
  },
  {
   "cell_type": "markdown",
   "id": "8e7d7c42",
   "metadata": {},
   "source": [
    "The test statistic has a large magnitude so that we reject the null hypothesis. Thus we conclude that parcel A is better than parcel B."
   ]
  },
  {
   "cell_type": "markdown",
   "id": "651ea3b5",
   "metadata": {},
   "source": [
    "## Resource\n",
    "\n",
    "- [5.5 - Hypothesis Testing for Two-Sample Proportions](https://online.stat.psu.edu/stat800/lesson/5/5.5)"
   ]
  }
 ],
 "metadata": {
  "kernelspec": {
   "display_name": "env-machine-learning",
   "language": "python",
   "name": "env-machine-learning"
  },
  "language_info": {
   "codemirror_mode": {
    "name": "ipython",
    "version": 3
   },
   "file_extension": ".py",
   "mimetype": "text/x-python",
   "name": "python",
   "nbconvert_exporter": "python",
   "pygments_lexer": "ipython3",
   "version": "3.9.5"
  }
 },
 "nbformat": 4,
 "nbformat_minor": 5
}
