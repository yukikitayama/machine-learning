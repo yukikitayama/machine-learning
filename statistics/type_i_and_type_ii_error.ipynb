{
 "cells": [
  {
   "cell_type": "markdown",
   "id": "d961bc7d",
   "metadata": {},
   "source": [
    "# Type I and Type II Errors"
   ]
  },
  {
   "cell_type": "markdown",
   "id": "6ddf5524",
   "metadata": {},
   "source": [
    "## Type I error\n",
    "\n",
    "**Type I error** is false positive. When $H_0$ is true, reject $H_0$. $H_0$ is true, but we happened to get a large test statistic by chance.\n",
    "\n",
    "This is **significance threshold** $\\alpha$.\n",
    "\n",
    "By increasing significance threshold, **reducing Type I errors will also reduce true positives**.\n",
    "\n",
    "## Type II error\n",
    "\n",
    "**Type II error** is false negative. When $H_0$ is false, do not reject $H_0$. We are not gonna reject $H_0$ because we don't have enough evidence to reject the null hypothesis in favor of the alternative hypothesis $H_A$. \n",
    "\n",
    "This is **statistical power** $\\beta$.\n",
    "\n",
    "By reducing significance threshold, **increasing true positives will also increase Type I errors**.\n",
    "\n",
    "## How to minimize statistical errors\n",
    "\n",
    "- Look for a larger effect to increase the distance between the null hypothesis distribution and the alternative hypothesis distribution.\n",
    "- Get a larger sample size generally to decrease the width of the distributions, so reduce the overlap between the null hypothesis and the alternative hypothesis."
   ]
  },
  {
   "cell_type": "code",
   "execution_count": null,
   "id": "a24cf56d",
   "metadata": {},
   "outputs": [],
   "source": []
  },
  {
   "cell_type": "code",
   "execution_count": null,
   "id": "3c5b2793",
   "metadata": {},
   "outputs": [],
   "source": []
  }
 ],
 "metadata": {
  "kernelspec": {
   "display_name": "env-machine-learning",
   "language": "python",
   "name": "env-machine-learning"
  },
  "language_info": {
   "codemirror_mode": {
    "name": "ipython",
    "version": 3
   },
   "file_extension": ".py",
   "mimetype": "text/x-python",
   "name": "python",
   "nbconvert_exporter": "python",
   "pygments_lexer": "ipython3",
   "version": "3.8.10"
  }
 },
 "nbformat": 4,
 "nbformat_minor": 5
}
