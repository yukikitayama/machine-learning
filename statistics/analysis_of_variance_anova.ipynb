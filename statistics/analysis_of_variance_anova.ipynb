{
 "cells": [
  {
   "cell_type": "markdown",
   "id": "a943a9ef",
   "metadata": {},
   "source": [
    "# Analysis of Variance (ANOVA)"
   ]
  },
  {
   "cell_type": "markdown",
   "id": "8cdd40d1",
   "metadata": {},
   "source": [
    "## Concept\n",
    "\n",
    "The goal is to determine the effects of **discrete** independent variables on a **continuous** dependent variable.\n",
    "\n",
    "Mostly we are concerned with main effect of a factor and interactions between factors.\n",
    "\n",
    "**Main effect** is one factor which influences the dependent variable even when ignoring all other factors. For example, young people's symptoms improve faster than older people's symptoms, regardless of medication type\n",
    "\n",
    "**Interactions** are the effect of one factor depends on the levels of another factor. For example, medication A works better in older people.\n",
    "\n",
    "**Intercept** is when the average dependent variable is different from 0, but the intercept of the ANOVA is usually **ignored**. For example, symptoms improve for almost everyone after 10 days.\n",
    "\n",
    "**Factor** means an independent variable. **Level** means categorical values of each factor, independent variable.\n",
    "\n",
    "For X-way ANOVA, X means the number of factors, number of independent variables.\n",
    "\n",
    "**Repeated-measures ANOVA** means at least one factor involves multiple measurements, same factor but different level, from the same individual.\n",
    "\n",
    "**MANOVA** is multivariate ANOVA, multiple dependent variables. For example, it's testing the effects of medication type and age on Covid-19 symptions and total medical expenses. Here, there are 2 dependent variables; symptions and expenses.\n",
    "\n",
    "## Assumption\n",
    "\n",
    "- The data are **sampled independently** of each other in the population.\n",
    "- The **residuals**, unexplained variance after fitting the model, are **normally, Gaussian distributed**\n",
    "- The variance within each cell, level or level by level cell, is roughly the same (**heteroscedasticity**, homogeneity of variance).\n",
    "\n",
    "When assumption doesn't work, we can use non-parameteric one-way ANOVA, **Kruskal-Wallis test (KW-ANOVA)**, but it's rarely used, because ANOVAs are **generally robust to violations of the assumptions**.\n",
    "\n",
    "## Hypothesis\n",
    "\n",
    "The hypothesis that ANOVA is testing is the following. $\\mu_i$ is the mean of each cell by levels.\n",
    "\n",
    "$$\n",
    "H_0: \\mu_1 = \\mu_1 = ... = \\mu_k\n",
    "$$\n",
    "$$\n",
    "H_A: \\mu_i \\ne \\mu_j \n",
    "$$\n",
    "\n",
    "The alternative hypothesis means that, at least one mean is different from at least one other mean. So when we do ANOVA, we don't actually immediately get the answer of which means are different from which other means. We have to do further investigation to know that.\n",
    "\n",
    "## Computation\n",
    "\n",
    "We first define **sum of squares (SS)**.\n",
    "\n",
    "$$\n",
    "SS = \\sum_{i = 1}^{n} (x_i - \\bar{x})^2\n",
    "$$\n",
    "$$\n",
    "\\text{Total SS} = \\text{Within-group SS} + \\text{Between-group SS}\n",
    "$$\n",
    "\n",
    "It means that the total variation in the dataset is, the sum of the variation across individuals within each group, AND the variation across the different levels.\n",
    "\n",
    "$$\n",
    "F = \\frac{\\text{Explained variance}}{\\text{Unexplained variance}}\n",
    "$$\n",
    "$$\n",
    "= \\frac{\\text{Dues to factors}}{\\text{Natural variation}}\n",
    "$$\n",
    "\n",
    "ANOVA is statistically significant when explained variance is much bigger than unexplained variance.\n",
    "\n",
    "\n",
    "\n"
   ]
  },
  {
   "cell_type": "code",
   "execution_count": 1,
   "id": "0a84016a",
   "metadata": {},
   "outputs": [],
   "source": [
    "# 160. Sum of squares 11:05"
   ]
  },
  {
   "cell_type": "code",
   "execution_count": null,
   "id": "18ee4963",
   "metadata": {},
   "outputs": [],
   "source": []
  },
  {
   "cell_type": "code",
   "execution_count": null,
   "id": "c6726db9",
   "metadata": {},
   "outputs": [],
   "source": []
  }
 ],
 "metadata": {
  "kernelspec": {
   "display_name": "env-machine-learning",
   "language": "python",
   "name": "env-machine-learning"
  },
  "language_info": {
   "codemirror_mode": {
    "name": "ipython",
    "version": 3
   },
   "file_extension": ".py",
   "mimetype": "text/x-python",
   "name": "python",
   "nbconvert_exporter": "python",
   "pygments_lexer": "ipython3",
   "version": "3.9.5"
  }
 },
 "nbformat": 4,
 "nbformat_minor": 5
}
