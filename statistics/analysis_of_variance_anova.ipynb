{
 "cells": [
  {
   "cell_type": "markdown",
   "id": "a943a9ef",
   "metadata": {},
   "source": [
    "# Analysis of Variance (ANOVA)"
   ]
  },
  {
   "cell_type": "markdown",
   "id": "3afa8d39",
   "metadata": {},
   "source": [
    "## Concept\n",
    "\n",
    "The goal is to determine the effects of **discrete** independent variables on a **continuous** dependent variable.\n",
    "\n",
    "Mostly we are concerned with main effect of a factor and interactions between factors.\n",
    "\n",
    "**Main effect** is one factor which influences the dependent variable even when ignoring all other factors. For example, young people's symptoms improve faster than older people's symptoms, regardless of medication type\n",
    "\n",
    "**Interactions** are the effect of one factor depends on the levels of another factor. For example, medication A works better in older people.\n",
    "\n",
    "**Intercept** is when the average dependent variable is different from 0, but the intercept of the ANOVA is usually **ignored**. For example, symptoms improve for almost everyone after 10 days.\n",
    "\n",
    "\n",
    "\n"
   ]
  },
  {
   "cell_type": "code",
   "execution_count": null,
   "id": "0a84016a",
   "metadata": {},
   "outputs": [],
   "source": []
  },
  {
   "cell_type": "code",
   "execution_count": null,
   "id": "18ee4963",
   "metadata": {},
   "outputs": [],
   "source": []
  },
  {
   "cell_type": "code",
   "execution_count": null,
   "id": "c6726db9",
   "metadata": {},
   "outputs": [],
   "source": []
  }
 ],
 "metadata": {
  "kernelspec": {
   "display_name": "env-machine-learning",
   "language": "python",
   "name": "env-machine-learning"
  },
  "language_info": {
   "codemirror_mode": {
    "name": "ipython",
    "version": 3
   },
   "file_extension": ".py",
   "mimetype": "text/x-python",
   "name": "python",
   "nbconvert_exporter": "python",
   "pygments_lexer": "ipython3",
   "version": "3.9.5"
  }
 },
 "nbformat": 4,
 "nbformat_minor": 5
}
