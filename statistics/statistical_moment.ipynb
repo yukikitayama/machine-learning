{
 "cells": [
  {
   "cell_type": "markdown",
   "id": "c1542716",
   "metadata": {},
   "source": [
    "# Statistical Moment"
   ]
  },
  {
   "cell_type": "markdown",
   "id": "ac7dbbcb",
   "metadata": {},
   "source": [
    "**1st moment** is mean for average value.\n",
    "\n",
    "$$\n",
    "m_1 = n^{-1} \\sum_{i = 1}^{n} x_i\n",
    "$$\n",
    "\n",
    "**2nd moment** is variance for dispersion.\n",
    "\n",
    "$$\n",
    "m_2 = n^{-1} \\sum_{i = 1}^{n} (x_i - \\bar{x})^2\n",
    "$$\n",
    "\n",
    "**3rd moment** is **skewness** for dispersion asymmetry. Positive skew means right skew, which means a longer tail to the right. Negative skew means left skew, which means a longer left tail.\n",
    "\n",
    "$$\n",
    "m_3 = (n \\sigma^3)^{-1} \\sum_{i = 1}^{n} (x_i - \\bar{x})^3\n",
    "$$\n",
    "\n",
    "**4th moment** is **kurtosis** for tail fatness. Large kurtosis means a wider distribution and fat tail. Small kurtosis means a tight distribution and thin tails.\n",
    "\n",
    "$$\n",
    "m_4 = (n \\sigma^4)^{-1} \\sum_{i = 1}^{n} (x_i - \\bar{x})^4\n",
    "$$\n",
    "\n",
    "The general formula for moment is,\n",
    "\n",
    "$$\n",
    "m_k = n^{-1} \\sum_{i = 1}^{n} (x_i - \\bar{x})^k\n",
    "$$\n",
    "\n",
    "The first moment drops the $k$ and subtracting average, otherwise the average will be always 0. Skewness and kurtosis add extra $\\sigma$ to scale down the quantity, because the 3rd and 4th power make the quantity big."
   ]
  },
  {
   "cell_type": "code",
   "execution_count": null,
   "id": "96ef1c8a",
   "metadata": {},
   "outputs": [],
   "source": []
  },
  {
   "cell_type": "code",
   "execution_count": null,
   "id": "c80b4b61",
   "metadata": {},
   "outputs": [],
   "source": []
  },
  {
   "cell_type": "code",
   "execution_count": null,
   "id": "c492d0c6",
   "metadata": {},
   "outputs": [],
   "source": []
  }
 ],
 "metadata": {
  "kernelspec": {
   "display_name": "env-machine-learning",
   "language": "python",
   "name": "env-machine-learning"
  },
  "language_info": {
   "codemirror_mode": {
    "name": "ipython",
    "version": 3
   },
   "file_extension": ".py",
   "mimetype": "text/x-python",
   "name": "python",
   "nbconvert_exporter": "python",
   "pygments_lexer": "ipython3",
   "version": "3.8.10"
  }
 },
 "nbformat": 4,
 "nbformat_minor": 5
}
