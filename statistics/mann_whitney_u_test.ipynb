{
 "cells": [
  {
   "cell_type": "markdown",
   "id": "654ea079",
   "metadata": {},
   "source": [
    "# Mann-Whitney U Test"
   ]
  },
  {
   "cell_type": "markdown",
   "id": "e4f9715d",
   "metadata": {},
   "source": [
    "## Concept\n",
    "\n",
    "**Mann-whitney u test** is \n",
    "- two-samples t-test with **unpaied** samples\n",
    "- Used when the data do not conform to the normality assumption\n",
    "- Two groups do not need to have the same sample size.\n",
    "- Test for differences in **medians** instead of differences in means.\n",
    "\n",
    "It's also called **Mann-Whitney-Wilcoxon U test** and **Wilcoxon rank-sum test**.\n",
    "\n",
    "## Computation\n",
    "\n",
    "1. Get number of samples\n",
    "2. Pool data and get rank\n",
    "3. Compute $U$ by summing ranks\n",
    "4. Convert it to $z$\n",
    "\n",
    "$Z$ is normally distributed under $H_0$ and can be converted to a p-value."
   ]
  },
  {
   "cell_type": "code",
   "execution_count": null,
   "id": "25532c72",
   "metadata": {},
   "outputs": [],
   "source": []
  },
  {
   "cell_type": "code",
   "execution_count": null,
   "id": "0e5d32c6",
   "metadata": {},
   "outputs": [],
   "source": []
  },
  {
   "cell_type": "code",
   "execution_count": null,
   "id": "6fa055dd",
   "metadata": {},
   "outputs": [],
   "source": []
  }
 ],
 "metadata": {
  "kernelspec": {
   "display_name": "env-machine-learning",
   "language": "python",
   "name": "env-machine-learning"
  },
  "language_info": {
   "codemirror_mode": {
    "name": "ipython",
    "version": 3
   },
   "file_extension": ".py",
   "mimetype": "text/x-python",
   "name": "python",
   "nbconvert_exporter": "python",
   "pygments_lexer": "ipython3",
   "version": "3.8.10"
  }
 },
 "nbformat": 4,
 "nbformat_minor": 5
}
