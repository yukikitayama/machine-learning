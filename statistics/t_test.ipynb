{
 "cells": [
  {
   "cell_type": "markdown",
   "id": "b536af5a",
   "metadata": {},
   "source": [
    "# t-test"
   ]
  },
  {
   "cell_type": "markdown",
   "id": "2d07bb55",
   "metadata": {},
   "source": [
    "## Formula\n",
    "\n",
    "$$\n",
    "t_k = \\frac{\\bar{x} - \\bar{y}}{s / \\sqrt{n}} = \\frac{\\text{Difference of means}}{\\text{Standard deviations}}\n",
    "$$\n",
    "\n",
    "The way to think about this is T-test measures the difference of means scaled by or normalized by standard deviations.\n",
    "\n",
    "We want to have a positevely or negatively large t-value to reject the null hypothesis.\n",
    "\n",
    "How can we get a large t-value?\n",
    "\n",
    "$$\n",
    "t_k = \\frac{\\bar{x} - \\bar{y}}{s / \\sqrt{n}} = \\frac{\\bar{x} - \\bar{y} \\sqrt{n}}{s}\n",
    "$$\n",
    "\n",
    "The $t$ will be larger if\n",
    "\n",
    "- Increase the group difference $(\\bar{x} - \\bar{y})$\n",
    "- Reduce variance $s$\n",
    "- Increase sample size $n$"
   ]
  },
  {
   "cell_type": "code",
   "execution_count": null,
   "id": "968bf73b",
   "metadata": {},
   "outputs": [],
   "source": []
  },
  {
   "cell_type": "code",
   "execution_count": null,
   "id": "2ef0a65d",
   "metadata": {},
   "outputs": [],
   "source": []
  },
  {
   "cell_type": "code",
   "execution_count": null,
   "id": "450cbcce",
   "metadata": {},
   "outputs": [],
   "source": []
  },
  {
   "cell_type": "code",
   "execution_count": null,
   "id": "faa29bac",
   "metadata": {},
   "outputs": [],
   "source": []
  }
 ],
 "metadata": {
  "kernelspec": {
   "display_name": "env-machine-learning",
   "language": "python",
   "name": "env-machine-learning"
  },
  "language_info": {
   "codemirror_mode": {
    "name": "ipython",
    "version": 3
   },
   "file_extension": ".py",
   "mimetype": "text/x-python",
   "name": "python",
   "nbconvert_exporter": "python",
   "pygments_lexer": "ipython3",
   "version": "3.8.10"
  }
 },
 "nbformat": 4,
 "nbformat_minor": 5
}
