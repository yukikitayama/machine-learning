{
 "cells": [
  {
   "cell_type": "markdown",
   "id": "7b9227b8",
   "metadata": {},
   "source": [
    "# Statistical Power"
   ]
  },
  {
   "cell_type": "markdown",
   "id": "dfaca687",
   "metadata": {},
   "source": [
    "## Concept\n",
    "\n",
    "Reviewing errors in statistical tests,\n",
    "\n",
    "- P-value is $\\alpha$ and **Type I error**. It means when $H_0$ is true, reject $H_0$. **False positive**.\n",
    "- **Type II error** is that, when $H_0$ is false, don't reject $H_0$. This is $\\beta$. **False negative**.\n",
    "- **True negative** is $1 - \\alpha$. When $H_0$ is true, don't reject $H_0$.\n",
    "- **True positive** is $1 - \\beta$. When $H_0$ is false, reject $H_0$. **This is statistical power**.\n",
    "\n",
    "**Statistical power** is\n",
    "\n",
    "- P(reject $H_0$ | $H_0$ is false).\n",
    "- The probability of finding an effect when it is really there.\n",
    "- Expressed as a probability 0% to 100%\n",
    "- We want the statistical power to be **as high as possible**\n",
    "- The density of $H_A$ distribution **above the significance threshold** $\\alpha$.\n",
    "\n",
    "Statistical power can increase by\n",
    "\n",
    "- Increase the sample size\n",
    "- Increase the effect size\n",
    "- Lower $\\alpha$ meaning use a bigger significance threshold like 10% instead of 5% (But it's not a good idea).\n",
    "\n",
    "Statistical power decreases when\n",
    "\n",
    "- The data has a larger variability\n",
    "- Using the higher $\\alpha$ meaning use 1% significance threshold instead of 5%.\n",
    "\n",
    "The problem with power is\n",
    "\n",
    "- Decreasing $alpha$ can increase statistical power, but also increase **Type I error**, because it's $\\alpha$.\n",
    "- Some factors influencing statistical power are out of our control. For example, sample size, variability in the given data.\n",
    "\n",
    "## Compute statistical power\n",
    "\n",
    "$$\n",
    "z = \\frac{\\bar{x} - \\mu_0}{\\sigma / \\sqrt{n}}\n",
    "$$\n",
    "\n",
    "$z$ is z-value proportional to statistical power. $\\bar{x} - \\mu_0$ is **effect size**. $\\sigma / \\sqrt{n}$ is **standard error**. \n",
    "\n",
    "$$\n",
    "= \\frac{(\\bar{x} - \\mu_0) \\sqrt{n}}{\\sigma}\n",
    "$$\n",
    "\n",
    "This tells us that statistical power increases when\n",
    "\n",
    "- The effect size $\\bar{x} - \\mu_0$ gets bigger\n",
    "- The sample size $\\sqrt{n}$ gets bigger\n",
    "- The variability of data $\\sigma$ gets smaller\n",
    "\n",
    "With this $z$, statistical power $1 - \\beta$ is\n",
    "\n",
    "$$\n",
    "1 - \\beta = 1 - P(Z > z)\n",
    "$$\n",
    "\n",
    "We can find the sample size by solving for $n$ from the above formula\n",
    "\n",
    "$$\n",
    "n = (\\frac{z \\sigma}{\\bar{x} - \\mu_0})^2\n",
    "$$\n",
    "\n",
    "But this formula shows the ambiguity that before collecting data, how can you know $\\bar{x}$ or $\\sigma$? It means that we can do **a priori power**, meaning get the effect size and standard deviation from the published studies or from the pilot data, so that we can compute the desired sample size. We can also do **post-hoc power** meaning compute the power from our study. But it's just proportional to the p-value that we can compute, so it doesn't provide the new information by computing the power.\n",
    "\n"
   ]
  },
  {
   "cell_type": "code",
   "execution_count": null,
   "id": "33de169b",
   "metadata": {},
   "outputs": [],
   "source": []
  },
  {
   "cell_type": "code",
   "execution_count": null,
   "id": "11d1c08f",
   "metadata": {},
   "outputs": [],
   "source": []
  },
  {
   "cell_type": "code",
   "execution_count": null,
   "id": "4c379181",
   "metadata": {},
   "outputs": [],
   "source": []
  }
 ],
 "metadata": {
  "kernelspec": {
   "display_name": "env-machine-learning",
   "language": "python",
   "name": "env-machine-learning"
  },
  "language_info": {
   "codemirror_mode": {
    "name": "ipython",
    "version": 3
   },
   "file_extension": ".py",
   "mimetype": "text/x-python",
   "name": "python",
   "nbconvert_exporter": "python",
   "pygments_lexer": "ipython3",
   "version": "3.9.5"
  }
 },
 "nbformat": 4,
 "nbformat_minor": 5
}
