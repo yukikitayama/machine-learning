{
 "cells": [
  {
   "cell_type": "markdown",
   "id": "721cf5ce",
   "metadata": {},
   "source": [
    "# Variance"
   ]
  },
  {
   "cell_type": "markdown",
   "id": "0ad54b07",
   "metadata": {},
   "source": [
    "## Dependency"
   ]
  },
  {
   "cell_type": "code",
   "execution_count": 2,
   "id": "c2537d19",
   "metadata": {},
   "outputs": [],
   "source": [
    "import numpy as np"
   ]
  },
  {
   "cell_type": "markdown",
   "id": "d6e4cb82",
   "metadata": {},
   "source": [
    "Formula of **variance** $\\sigma^2$ is the following. $n$ is the number of data. $x_i$ is each data. $\\bar{x}$ is the average of the data.\n",
    "\n",
    "$$\n",
    "\\sigma^2 = \\frac{1}{n - 1} \\sum_{i = 1}^{n} (x_i - \\bar{x})^2\n",
    "$$\n",
    "\n",
    "$-\\bar{x}$ is **mean-center**. Variance indicates the dispersion around the average. The following two datasets should have the same variance. But without mean-center, the measurement will be different. It's just the d2 data are shifted by 100, but the dispersion are the same."
   ]
  },
  {
   "cell_type": "code",
   "execution_count": 12,
   "id": "6c4bf01c",
   "metadata": {},
   "outputs": [
    {
     "name": "stdout",
     "output_type": "stream",
     "text": [
      "d1 variance: 0.67\n",
      "d2 variance: 0.67\n",
      "\n",
      "d1 wrong variance: 5.60\n",
      "d2 wrong variance: 12485.60\n"
     ]
    }
   ],
   "source": [
    "d1 = np.array([1, 2, 3, 3, 2, 1])\n",
    "d2 = np.array([101, 102, 103, 103, 102, 101])\n",
    "\n",
    "var1 = np.var(d1)\n",
    "var2 = np.var(d2)\n",
    "\n",
    "print(f'd1 variance: {var1:.2f}')\n",
    "print(f'd2 variance: {var2:.2f}')\n",
    "print()\n",
    "\n",
    "\n",
    "def wrong_variance(data):\n",
    "    return np.divide(1, len(data) - 1) * np.sum(np.square(data))\n",
    "\n",
    "\n",
    "wrong_var1 = wrong_variance(d1)\n",
    "wrong_var2 = wrong_variance(d2)\n",
    "\n",
    "print(f'd1 wrong variance: {wrong_var1:.2f}')\n",
    "print(f'd2 wrong variance: {wrong_var2:.2f}')"
   ]
  },
  {
   "cell_type": "markdown",
   "id": "3febc113",
   "metadata": {},
   "source": [
    "Variance is computed by dividing by $n - 1$.\n",
    "\n",
    "- Dividing by $n - 1$ is for **sample** variance.\n",
    "- Dividing by $n$ is for **population** variance. \n",
    "\n",
    "Population **mean** is a theoretical quantity, which theoretically doesn't change because we don't sample data. But sample mean is an empirical quantity, which differ for every single sample drawn from the population. \n",
    "\n",
    "\n",
    "Why divide by $n - 1$? It will be clear by an example of a die.\n",
    "\n",
    "The population mean of a die is 3.5 because $1 + 2 + 3 + 4 + 5 + 6 = 21$, and $21 / 6 = 3.5$. But if we choose the number of samples of rolling a die, for example 4 times, so $n = 4$, and if this sample mean is 3, we only need to know values from $n - 1 = 4 - 1 = 3$ samples to know all 4 values. When 3 samples values are [1, 2, 4],\n",
    "\n",
    "$$\n",
    "\\frac{\\text{sum of values}}{4} = 3\n",
    "$$\n",
    "$$\n",
    "\\text{sum of values} = 12\n",
    "$$\n",
    "$$\n",
    "12 - (1 + 2 + 4) = 5\n",
    "$$\n",
    "\n",
    "This means that we have $n - 1$ free values, but the last one will be automatically fixed in the relationship. We can change, when sample size is 4, any values for [1, 2, 4], but the last one is always fixed because the sample mean is 3. This is called **degrees of freedom**.\n",
    "\n",
    "## Fano Factor\n",
    "\n",
    "**Fano factor** $F$ is a normalized measure of variability. $\\sigma^2$ is variance. $\\mu$ is mean. Only used of the dataset with positive values, otherwise $\\mu$ could be 0, and we can't 0 division.\n",
    "\n",
    "$$\n",
    "F = \\frac{\\sigma^2}{\\mu}\n",
    "$$\n",
    "\n",
    "## Coefficient of Variation\n",
    "\n",
    "**Coefficient of variation** $CV$ is also a normalized measure of variability. $\\sigma$ is standard deviation. Only used of the dataset with positive values, otherwise $\\mu$ could be 0, and we can't 0 division.\n",
    "\n",
    "$$\n",
    "CV = \\frac{\\sigma}{\\mu}\n",
    "$$"
   ]
  }
 ],
 "metadata": {
  "kernelspec": {
   "display_name": "env-machine-learning",
   "language": "python",
   "name": "env-machine-learning"
  },
  "language_info": {
   "codemirror_mode": {
    "name": "ipython",
    "version": 3
   },
   "file_extension": ".py",
   "mimetype": "text/x-python",
   "name": "python",
   "nbconvert_exporter": "python",
   "pygments_lexer": "ipython3",
   "version": "3.8.10"
  }
 },
 "nbformat": 4,
 "nbformat_minor": 5
}
