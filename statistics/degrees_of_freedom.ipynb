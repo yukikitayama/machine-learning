{
 "cells": [
  {
   "cell_type": "markdown",
   "id": "c9e3da55",
   "metadata": {},
   "source": [
    "# Degrees of Freedom"
   ]
  },
  {
   "cell_type": "markdown",
   "id": "6051ded8",
   "metadata": {},
   "source": [
    "## Concept\n",
    "\n",
    "For example, when $x = \\{ a, b, c, d \\}$, and its mean $\\bar{x} = 5$, it has 3 degrees of freedom. It's because once we are given values for $\\{ a, b, c \\}$, we know the value of $\\{ d \\}$. So 3 variables have freedom to be any values, but the last value dones't. Any 3 samples are unknown, but the 4th is necessarily known.\n",
    "\n",
    "Degrees of freedom determines the shape of $H_0$ distributions.\n",
    "\n",
    "Higher degrees of freedom indicates more power to reject the null hypothesis.\n",
    "\n",
    "Degrees of freedom:\n",
    "\n",
    "- The number of independent sample values\n",
    "- The number of sample data points that can vary\n",
    "- The number of data values that are unconstrained by the rest of the data values.\n",
    "\n",
    "Generally, $N$ is the number of data points, $k$ is the number of parameters.\n",
    "\n",
    "$$\n",
    "\\text{degrees of freedom} = N - k\n",
    "$$\n",
    "\n"
   ]
  },
  {
   "cell_type": "code",
   "execution_count": null,
   "id": "c96b3388",
   "metadata": {},
   "outputs": [],
   "source": []
  },
  {
   "cell_type": "code",
   "execution_count": null,
   "id": "818524b0",
   "metadata": {},
   "outputs": [],
   "source": []
  },
  {
   "cell_type": "code",
   "execution_count": null,
   "id": "42ead0f5",
   "metadata": {},
   "outputs": [],
   "source": []
  },
  {
   "cell_type": "code",
   "execution_count": null,
   "id": "978380d1",
   "metadata": {},
   "outputs": [],
   "source": []
  }
 ],
 "metadata": {
  "kernelspec": {
   "display_name": "env-machine-learning",
   "language": "python",
   "name": "env-machine-learning"
  },
  "language_info": {
   "codemirror_mode": {
    "name": "ipython",
    "version": 3
   },
   "file_extension": ".py",
   "mimetype": "text/x-python",
   "name": "python",
   "nbconvert_exporter": "python",
   "pygments_lexer": "ipython3",
   "version": "3.8.10"
  }
 },
 "nbformat": 4,
 "nbformat_minor": 5
}
