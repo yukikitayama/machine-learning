{
 "cells": [
  {
   "cell_type": "markdown",
   "id": "98dd3d7d",
   "metadata": {},
   "source": [
    "# Wilcoxon Signed-Rank Test"
   ]
  },
  {
   "cell_type": "markdown",
   "id": "75a19eee",
   "metadata": {},
   "source": [
    "## Concept\n",
    "\n",
    "**Wilcoxon signed-rank test** is a nonparameteric t-test. One of the assumptions of t-test is mean and standard diviation are valid descriptors of central tendency and dispersion and data are approximately normally distributed. When our data vaiolates this, we can use wilcoxon signed-rank test. That is, wilcoxon signed-rank test is used when **data do not conform to the normality assumption**.\n",
    "\n",
    "Wilcoxon signed-rank test is also a test for differences in **medians** instead of differences in means.\n",
    "\n",
    "Wilcoxon signed-rank test is also called **Signed-rank test**\n",
    "\n",
    "Wilcoxon signed-rank test is for\n",
    "\n",
    "- One-sample\n",
    "- Two dependent **paired** samples\n",
    "\n",
    "## Big picture\n",
    "\n",
    "1. Remove equal pairs\n",
    "2. Rank-transform differences\n",
    "3. Sum ranks where $x > y$\n",
    "4. Convert to z\n",
    "\n",
    "Then $z$ is normally distributed under $H_0$ and can be converted to a p-value."
   ]
  },
  {
   "cell_type": "code",
   "execution_count": null,
   "id": "ab1b2811",
   "metadata": {},
   "outputs": [],
   "source": []
  },
  {
   "cell_type": "code",
   "execution_count": null,
   "id": "7291767b",
   "metadata": {},
   "outputs": [],
   "source": []
  },
  {
   "cell_type": "code",
   "execution_count": null,
   "id": "4bf6a06c",
   "metadata": {},
   "outputs": [],
   "source": []
  },
  {
   "cell_type": "code",
   "execution_count": null,
   "id": "6e9a0f5b",
   "metadata": {},
   "outputs": [],
   "source": []
  }
 ],
 "metadata": {
  "kernelspec": {
   "display_name": "env-machine-learning",
   "language": "python",
   "name": "env-machine-learning"
  },
  "language_info": {
   "codemirror_mode": {
    "name": "ipython",
    "version": 3
   },
   "file_extension": ".py",
   "mimetype": "text/x-python",
   "name": "python",
   "nbconvert_exporter": "python",
   "pygments_lexer": "ipython3",
   "version": "3.8.10"
  }
 },
 "nbformat": 4,
 "nbformat_minor": 5
}
