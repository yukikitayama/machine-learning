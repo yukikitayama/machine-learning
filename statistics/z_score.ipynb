{
 "cells": [
  {
   "cell_type": "markdown",
   "id": "25de82b6",
   "metadata": {},
   "source": [
    "# Z-score"
   ]
  },
  {
   "cell_type": "markdown",
   "id": "1208f5ff",
   "metadata": {},
   "source": [
    "## Dependency"
   ]
  },
  {
   "cell_type": "code",
   "execution_count": 8,
   "id": "2730b319",
   "metadata": {},
   "outputs": [],
   "source": [
    "import matplotlib.pyplot as plt\n",
    "import numpy as np\n",
    "from scipy import stats\n",
    "import collections"
   ]
  },
  {
   "cell_type": "markdown",
   "id": "ea1bdf6a",
   "metadata": {},
   "source": [
    "## Concept\n",
    "\n",
    "**Z-score** can be computed by the **z-transformation**.\n",
    "\n",
    "$$\n",
    "z_i = \\frac{x_i - \\bar{x}}{\\sigma_x}\n",
    "$$\n",
    "\n",
    "It means that, first we do mean-center by subtracting the average from each individual value. Then, variance-normalize it by dividing by the standard deviation. The z-scores are interpreted as standard deviation units away from the center of the distribution.\n",
    "\n",
    "This z-transform only shifts and stretches the distribution, but doesn't change the shape.\n",
    "\n",
    "## Assumption\n",
    "\n",
    "Z-transformation depends on mean and standard deviation. So the distribution of the data needs to be roughly Gaussian, so that the mean and standard deviation are the valid description of the distribution's central tendency and dispersion. For example, z-score is not valid if the distribution is bimodal distribution, or heavily skewed.\n",
    "\n",
    "## Example\n",
    "\n",
    "The below tests computing z-score. After z-transformation, the data has 0 mean and 1 standard deviation. It is a nature of z-score."
   ]
  },
  {
   "cell_type": "code",
   "execution_count": 21,
   "id": "2e348ee1",
   "metadata": {},
   "outputs": [
    {
     "data": {
      "image/png": "[encoded data removed]",
      "text/plain": [
       "<Figure size 432x288 with 1 Axes>"
      ]
     },
     "metadata": {
      "needs_background": "light"
     },
     "output_type": "display_data"
    },
    {
     "data": {
      "image/png": "[encoded data removed]",
      "text/plain": [
       "<Figure size 432x288 with 1 Axes>"
      ]
     },
     "metadata": {
      "needs_background": "light"
     },
     "output_type": "display_data"
    }
   ],
   "source": [
    "# Generate random data\n",
    "n = 1000\n",
    "lam = 3\n",
    "data = np.random.poisson(lam, n)\n",
    "\n",
    "mean = np.mean(data)\n",
    "# We assume data is our sample so the denominator of std is (n - 1), so use degree of freedom 1\n",
    "std = np.std(data, ddof=1)\n",
    "\n",
    "counter = collections.Counter(data)\n",
    "plt.bar(counter.keys(), counter.values())\n",
    "plt.xlabel('Data')\n",
    "plt.ylabel('Count')\n",
    "plt.title(f'Mean: {mean:.2f}, std: {std:.2f}')\n",
    "plt.show()\n",
    "\n",
    "# Compute z-score\n",
    "z_scores = (data - mean) / std\n",
    "\n",
    "# Scipy also has function to compute z score\n",
    "# z_score = stats.zscore(data)\n",
    "\n",
    "mean_z = np.mean(z_scores)\n",
    "std_z = np.std(z_scores)\n",
    "\n",
    "z_score_discretized = np.round(z_scores, 1)\n",
    "counter = collections.Counter(z_score_discretized)\n",
    "plt.bar(counter.keys(), counter.values())\n",
    "plt.xlabel('Data')\n",
    "plt.ylabel('Count')\n",
    "plt.title(f'Mean: {mean_z:.2f}, std: {std_z:.2f}')\n",
    "plt.show()"
   ]
  },
  {
   "cell_type": "markdown",
   "id": "e2ae1b2d",
   "metadata": {},
   "source": [
    "## Remove outliers by z-score method\n",
    "\n",
    "1. Convert data to z-score\n",
    "2. A data point is an outlier if it exceeds some standard deviation threshold\n",
    "  - Often 3 standard deviations, but it's arbitrary.\n",
    "\n",
    "xxx 70. code: z-score for outlier removal\n",
    "\n",
    "xxx 73. code: euclidean distance for outlier removal\n",
    "\n",
    "## Z-score with median\n",
    "\n",
    "xxx 69 the modified z-score method\n",
    "\n",
    "This z-score using median will be similar to a regular z-score if the most of the data roughly follows Gaussian. Z-score with median and the regular z-score will differ when the distribution is strongly not Gaussian."
   ]
  },
  {
   "cell_type": "code",
   "execution_count": null,
   "id": "f7ade7de",
   "metadata": {},
   "outputs": [],
   "source": []
  }
 ],
 "metadata": {
  "kernelspec": {
   "display_name": "env-machine-learning",
   "language": "python",
   "name": "env-machine-learning"
  },
  "language_info": {
   "codemirror_mode": {
    "name": "ipython",
    "version": 3
   },
   "file_extension": ".py",
   "mimetype": "text/x-python",
   "name": "python",
   "nbconvert_exporter": "python",
   "pygments_lexer": "ipython3",
   "version": "3.8.10"
  }
 },
 "nbformat": 4,
 "nbformat_minor": 5
}
