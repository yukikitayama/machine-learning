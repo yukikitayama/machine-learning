{
 "cells": [
  {
   "cell_type": "markdown",
   "id": "7e12ddbd",
   "metadata": {},
   "source": [
    "# Outlier"
   ]
  },
  {
   "cell_type": "markdown",
   "id": "06daad22",
   "metadata": {},
   "source": [
    "74, 75"
   ]
  },
  {
   "cell_type": "code",
   "execution_count": null,
   "id": "a5e77e4b",
   "metadata": {},
   "outputs": [],
   "source": []
  },
  {
   "cell_type": "code",
   "execution_count": null,
   "id": "8a0a5231",
   "metadata": {},
   "outputs": [],
   "source": []
  }
 ],
 "metadata": {
  "kernelspec": {
   "display_name": "env-machine-learning",
   "language": "python",
   "name": "env-machine-learning"
  },
  "language_info": {
   "codemirror_mode": {
    "name": "ipython",
    "version": 3
   },
   "file_extension": ".py",
   "mimetype": "text/x-python",
   "name": "python",
   "nbconvert_exporter": "python",
   "pygments_lexer": "ipython3",
   "version": "3.8.10"
  }
 },
 "nbformat": 4,
 "nbformat_minor": 5
}
