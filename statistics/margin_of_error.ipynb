{
 "cells": [
  {
   "cell_type": "markdown",
   "id": "1c449957",
   "metadata": {},
   "source": [
    "# Margin of Error\n",
    "\n",
    "## Concept\n",
    "\n",
    "**Margin of error** is the amount of random sampling error in the results of a survey. The larger the margin of error, the less confidence one should have that a survey result would reflect the result of the entire population. Margin of error is computed by the following where $Z$ is Z-score, $\\sigma^2$ is variance, and $n$ is sample size.\n",
    "\n",
    "$$\n",
    "\\text{Margin of error} = Z \\sqrt \\frac{\\sigma^2}{n}\n",
    "$$\n",
    "\n",
    "If the margin of error for the current sample size is given, how many more samples do we need to decrease the margin of error to a certain smaller number? For example, current margin of error is 3, and we want to reduce it to 0.3. The current margin of error is expressed as,\n",
    "\n",
    "$$\n",
    "3 = Z \\sqrt \\frac{\\sigma^2}{n}\n",
    "$$\n",
    "$$\n",
    "9 = Z^2 \\frac{\\sigma^2}{n}\n",
    "$$\n",
    "$$\n",
    "n = \\frac{Z^2 \\sigma^2}{9}\n",
    "$$\n",
    "\n",
    "Margin of error decrease if we increase sample size $n$ because $n$ is denominator. We use $+ k$ to express how many more samples we wanna add, so the equation will be,\n",
    "\n",
    "$$\n",
    "0.3 = Z \\sqrt \\frac{\\sigma^2}{n + k}\n",
    "$$\n",
    "$$\n",
    "0.09 = Z^2 \\frac{\\sigma^2}{n + k}\n",
    "$$\n",
    "$$\n",
    "n + k = \\frac{Z^2 \\sigma^2}{0.09}\n",
    "$$\n",
    "$$\n",
    "k = \\frac{Z^2 \\sigma^2}{0.09} - n\n",
    "$$\n",
    "$$\n",
    "k = \\frac{Z^2 \\sigma^2}{0.09} - \\frac{Z^2 \\sigma^2}{9}\n",
    "$$\n",
    "$$\n",
    "k = Z^2 \\sigma^2 ( \\frac{1}{0.09} - \\frac{1}{9} )\n",
    "$$\n",
    "$$\n",
    "k = Z^2 \\sigma^2 ( \\frac{100 - 1}{9} )\n",
    "$$\n",
    "$$\n",
    "k = Z^2 \\sigma^2 ( \\frac{99}{9} )\n",
    "$$\n",
    "$$\n",
    "k = 11 Z^2 \\sigma^2 \n",
    "$$\n",
    "\n",
    "So we need to increase sample size by $11 Z^2 \\sigma^2$.\n",
    "\n",
    "## Resource\n",
    "\n",
    "- [Margin of error](https://en.wikipedia.org/wiki/Margin_of_error)"
   ]
  }
 ],
 "metadata": {
  "kernelspec": {
   "display_name": "env-machine-learning",
   "language": "python",
   "name": "env-machine-learning"
  },
  "language_info": {
   "codemirror_mode": {
    "name": "ipython",
    "version": 3
   },
   "file_extension": ".py",
   "mimetype": "text/x-python",
   "name": "python",
   "nbconvert_exporter": "python",
   "pygments_lexer": "ipython3",
   "version": "3.9.5"
  }
 },
 "nbformat": 4,
 "nbformat_minor": 5
}
