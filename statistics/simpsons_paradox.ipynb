{
 "cells": [
  {
   "cell_type": "markdown",
   "id": "0355373a",
   "metadata": {},
   "source": [
    "# Simpson's Paradox\n",
    "\n",
    "We checked the overall approval rate over several products. It was 82% last week but it went down to 79% this week. But when we see the individual approval rate by product, they stayed the same or even went up from last week to this week. What could be the cause of the decrease of the overall approval rate? The individual approval rates by product are the following:\n",
    "\n",
    "- Product 1: 84% -> 85%\n",
    "- Product 2: 77% -> 77%\n",
    "- Product 3: 81% -> 82%\n",
    "- Product 4: 88% -> 88%\n",
    "\n",
    "We are only given approval rates, but we don't know the numerators and denominators of each approval rate. Also the denominator could change from last week to this week. Suppose we had equal applications for each product last week. The overall approval rate last week is the equally weighted average of each approval rate. But if the application for the product 2 increased this week, the overall approval rate is computed by the weighted average putting more weight on product 2 due to more application. In that case, overall approval rate can decrease even if the individual approval rates stayed the same or increased. This phenomenon is **Simpson's Paradox**. We observe certain trend or pattern in groups but when aggregating them, it disappears or gets reversed. Example computation is the below."
   ]
  },
  {
   "cell_type": "code",
   "execution_count": 33,
   "id": "2fdf460c",
   "metadata": {},
   "outputs": [
    {
     "name": "stdout",
     "output_type": "stream",
     "text": [
      "Approval rate by individual product\n",
      "Product 1: 84% -> 85%\n",
      "Product 2: 77% -> 77%\n",
      "Product 3: 81% -> 82%\n",
      "Product 4: 88% -> 88%\n",
      "\n",
      "Overall approval rate\n",
      "From 82% with numerator: 330, denominator: 400\n",
      "To 79% with numerator: 1025, denominator: 1300\n"
     ]
    }
   ],
   "source": [
    "n1 = 100\n",
    "a1_before = 84\n",
    "a1_after = 85\n",
    "\n",
    "n2_before = 100\n",
    "n2_after = 1000\n",
    "a2_before = 77\n",
    "a2_after = 770\n",
    "\n",
    "n3 = 100\n",
    "a3_before = 81\n",
    "a3_after = 82\n",
    "\n",
    "n4 = 100\n",
    "a4_before = 88\n",
    "a4_after = 88\n",
    "\n",
    "print('Approval rate by individual product')\n",
    "print(f'Product 1: {a1_before / n1:.0%} -> {a1_after / n1:.0%}')\n",
    "print(f'Product 2: {a2_before / n2_before:.0%} -> {a2_after / n2_after:.0%}')\n",
    "print(f'Product 3: {a3_before / n3:.0%} -> {a3_after / n3:.0%}')\n",
    "print(f'Product 4: {a4_before / n4:.0%} -> {a4_after / n4:.0%}')\n",
    "print()\n",
    "\n",
    "num_before = a1_before + a2_before + a3_before + a4_before\n",
    "den_before = n1 + n2_before + n3 + n4\n",
    "num_after = a1_after + a2_after + a3_after + a4_after\n",
    "den_after = n1 + n2_after + n3 + n4\n",
    "\n",
    "\n",
    "print('Overall approval rate')\n",
    "print(f'From {num_before / den_before:.0%} with numerator: {num_before}, denominator: {den_before}')\n",
    "print(f'To {num_after / den_after:.0%} with numerator: {num_after}, denominator: {den_after}')"
   ]
  },
  {
   "cell_type": "code",
   "execution_count": null,
   "id": "905d749d",
   "metadata": {},
   "outputs": [],
   "source": []
  },
  {
   "cell_type": "code",
   "execution_count": null,
   "id": "3e4eb59f",
   "metadata": {},
   "outputs": [],
   "source": []
  }
 ],
 "metadata": {
  "kernelspec": {
   "display_name": "env-machine-learning",
   "language": "python",
   "name": "env-machine-learning"
  },
  "language_info": {
   "codemirror_mode": {
    "name": "ipython",
    "version": 3
   },
   "file_extension": ".py",
   "mimetype": "text/x-python",
   "name": "python",
   "nbconvert_exporter": "python",
   "pygments_lexer": "ipython3",
   "version": "3.9.5"
  }
 },
 "nbformat": 4,
 "nbformat_minor": 5
}
