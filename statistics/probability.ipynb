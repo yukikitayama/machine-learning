{
 "cells": [
  {
   "cell_type": "markdown",
   "id": "ea69c250",
   "metadata": {},
   "source": [
    "# Probability\n",
    "\n",
    "## Concept\n",
    "\n",
    "The chance that an event will occur\n",
    "\n",
    "## Probability mass\n",
    "\n",
    "A function that describes probabilities for a set of exclusive **discrete** event.\n",
    "\n",
    "## Probability density\n",
    "\n",
    "A function that describes probabilities for a set of exclusive **continuous** event.\n",
    "\n",
    "$$\n",
    "P(a \\le X \\le b) = \\int_{a}^{b} f(X)dx\n",
    "$$\n",
    "\n",
    "$$\n",
    "P(X \\le b) = \\int_{-\\infty}^{b} f(X)dx\n",
    "$$\n",
    "\n",
    "## Conditional probability\n",
    "\n",
    "What is the probability that you will pass your statistics course.\n",
    "\n",
    "What is the probability that you will pass your statistics course, given that you've been studying for weeks?\n",
    "\n",
    "The probability of event A changes based on what you know about event B.\n",
    "\n",
    "$$\n",
    "P(A | B) = \\frac{P(A \\cap B)}{P(B)}\n",
    "$$\n",
    "\n",
    "\n",
    "## Independence\n",
    "\n",
    "$$\n",
    "P(A \\cap B) = P(A) P(B)\n",
    "$$"
   ]
  }
 ],
 "metadata": {
  "kernelspec": {
   "display_name": "env-machine-learning",
   "language": "python",
   "name": "env-machine-learning"
  },
  "language_info": {
   "codemirror_mode": {
    "name": "ipython",
    "version": 3
   },
   "file_extension": ".py",
   "mimetype": "text/x-python",
   "name": "python",
   "nbconvert_exporter": "python",
   "pygments_lexer": "ipython3",
   "version": "3.8.10"
  }
 },
 "nbformat": 4,
 "nbformat_minor": 5
}
