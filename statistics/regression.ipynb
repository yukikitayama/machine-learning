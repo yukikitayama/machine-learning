{
 "cells": [
  {
   "cell_type": "markdown",
   "id": "4cc9f83d",
   "metadata": {},
   "source": [
    "# Regression"
   ]
  },
  {
   "cell_type": "markdown",
   "id": "c2874b81",
   "metadata": {},
   "source": [
    "## ANOVA vs. regression\n",
    "\n",
    "- Use ANOVA when all independent variables are **discrete** (usually categorical)\n",
    "- Use a regression when at least some independent variables are **continuous**\n",
    "\n",
    "## Linear model\n",
    "\n",
    "**Linear** means that **scalar-multiplication** and **addition** of regressors. ANOVA, regression, correlation are all linear models. They are called **General Linear Model (GLM)** By contrast, **non-linear operations** are log, square root, powers, trigonometry etc. In GLM, the data themselve can have **nonlinearities**, but only the GLM parameters must be linear in the model. But nonlinear data are often linearized to facilitate interpretation.\n",
    "\n",
    "## Evaluation\n",
    "\n",
    "$\\text{R}^2$ is often used in model comparisons."
   ]
  },
  {
   "cell_type": "code",
   "execution_count": null,
   "id": "8cfeb4a9",
   "metadata": {},
   "outputs": [],
   "source": []
  },
  {
   "cell_type": "code",
   "execution_count": null,
   "id": "3b13a967",
   "metadata": {},
   "outputs": [],
   "source": []
  },
  {
   "cell_type": "code",
   "execution_count": null,
   "id": "5971d064",
   "metadata": {},
   "outputs": [],
   "source": []
  },
  {
   "cell_type": "code",
   "execution_count": null,
   "id": "5fd4a3de",
   "metadata": {},
   "outputs": [],
   "source": []
  }
 ],
 "metadata": {
  "kernelspec": {
   "display_name": "env-machine-learning",
   "language": "python",
   "name": "env-machine-learning"
  },
  "language_info": {
   "codemirror_mode": {
    "name": "ipython",
    "version": 3
   },
   "file_extension": ".py",
   "mimetype": "text/x-python",
   "name": "python",
   "nbconvert_exporter": "python",
   "pygments_lexer": "ipython3",
   "version": "3.9.5"
  }
 },
 "nbformat": 4,
 "nbformat_minor": 5
}
