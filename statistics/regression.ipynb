{
 "cells": [
  {
   "cell_type": "markdown",
   "id": "4cc9f83d",
   "metadata": {},
   "source": [
    "# Regression"
   ]
  },
  {
   "cell_type": "markdown",
   "id": "c2874b81",
   "metadata": {},
   "source": [
    "## ANOVA vs. regression\n",
    "\n",
    "- Use ANOVA when all independent variables are **discrete** (usually categorical)\n",
    "- Use a regression when at least some independent variables are **continuous**\n",
    "\n",
    "## Linear model\n",
    "\n",
    "**Linear** means that **scalar-multiplication** and **addition** of regressors. ANOVA, regression, correlation are all linear models. They are called **General Linear Model (GLM)** By contrast, **non-linear operations** are log, square root, powers, trigonometry etc. In GLM, the data themselve can have **nonlinearities**, but only the GLM parameters must be linear in the model. But nonlinear data are often linearized to facilitate interpretation.\n",
    "\n",
    "## Evaluation\n",
    "\n",
    "$$\n",
    "\\hat{y} = \\beta_0 + \\beta_1 x_1 + ... + \\beta_k x_k\n",
    "$$\n",
    "$$\n",
    "\\epsilon = y - \\hat{y}\n",
    "$$\n",
    "$$\n",
    "\\text{SS}_{\\epsilon} = \\sum (y_i - \\hat{y}_i)^2\n",
    "$$\n",
    "$$\n",
    "\\text{SS}_{\\text{Total}} = \\sum (y_i - \\bar{y})^2\n",
    "$$\n",
    "$$\n",
    "\\text{R}^2 = 1 - \\frac{\\text{SS}_{\\epsilon}}{\\text{SS}_{\\text{Total}}}\n",
    "$$\n",
    "\n",
    "When a model fits the data well, $\\text{SS}_{\\epsilon}$ gets small. The numerater gets small. So the ratio gets small. We have little thing to subtract from 1, so $\\text{R}^2$ gets large.\n",
    "\n",
    "$\\text{R}^2$ is often used in model comparisons.\n",
    "\n",
    "## F-test evaluation\n",
    "\n",
    "**F-test** evaluation of model statistical significance has the following null hypothesis.\n",
    "\n",
    "$$\n",
    "H_0: \\beta_{1-k} = 0\n",
    "$$\n",
    "\n",
    "The beta coefficients 1 throuhg k are equal to 0. It starts from 1 because the intercept term is 0, $\\beta_0$.\n",
    "\n",
    "$$\n",
    "H_A: \\text{At least one }\\beta \\ne 0\n",
    "$$\n",
    "\n",
    "At least one beta coefficient is not 0, but it doesn't tell us which one and how many coefficients.\n",
    "\n",
    "To test the above, we need to compute F test statistic.\n",
    "\n",
    "$$\n",
    "\\text{SS}_{\\epsilon} = \\sum (y_i - \\hat{y}_i)^2\n",
    "$$\n",
    "$$\n",
    "\\text{SS}_{\\text{Model}} = \\sum (\\hat{y_i} - \\bar{y})^2\n",
    "$$\n",
    "$$\n",
    "\\text{F}_{(k - 1, N - k)} = \\frac{\\text{SS}_{\\text{Model}} / (k - 1)}{\\text{SS}_{\\epsilon} / (N - k)}\n",
    "$$\n",
    "\n",
    "This only tells us the entire model, and it doesn't say whether any individual coefficients are significant. If this F statistic is statistically significant, we can evaluate each individual $\\beta$ coefficient by **t-test**.\n",
    "\n",
    "F statistic could be more significant if we have more data, so the denominator gets smaller, and F statistic gets larger, and the model gets more significant.\n",
    "\n",
    "Here $k$ is the total number of parameters including the intercept.\n",
    "\n",
    "$$\n",
    "t_{N - k} = \\frac{\\beta_i}{s_{\\beta_i}}\n",
    "$$\n",
    "\n",
    "## Multiple regression\n",
    "\n",
    "Interpretation is $\\beta_i$ reflects the effect of a unit change in $x_i$ on $y$ **when all other variables are held constant**.\n",
    "\n"
   ]
  },
  {
   "cell_type": "code",
   "execution_count": null,
   "id": "8cfeb4a9",
   "metadata": {},
   "outputs": [],
   "source": []
  },
  {
   "cell_type": "code",
   "execution_count": null,
   "id": "3b13a967",
   "metadata": {},
   "outputs": [],
   "source": []
  },
  {
   "cell_type": "code",
   "execution_count": null,
   "id": "5971d064",
   "metadata": {},
   "outputs": [],
   "source": []
  },
  {
   "cell_type": "code",
   "execution_count": null,
   "id": "5fd4a3de",
   "metadata": {},
   "outputs": [],
   "source": []
  }
 ],
 "metadata": {
  "kernelspec": {
   "display_name": "env-machine-learning",
   "language": "python",
   "name": "env-machine-learning"
  },
  "language_info": {
   "codemirror_mode": {
    "name": "ipython",
    "version": 3
   },
   "file_extension": ".py",
   "mimetype": "text/x-python",
   "name": "python",
   "nbconvert_exporter": "python",
   "pygments_lexer": "ipython3",
   "version": "3.9.5"
  }
 },
 "nbformat": 4,
 "nbformat_minor": 5
}
