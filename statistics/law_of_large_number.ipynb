{
 "cells": [
  {
   "cell_type": "markdown",
   "id": "d2e192c2",
   "metadata": {},
   "source": [
    "# Law of Large Number"
   ]
  },
  {
   "cell_type": "markdown",
   "id": "a732ab26",
   "metadata": {},
   "source": [
    "## Concept\n",
    "\n",
    "As the number of experiment repetitions increases, the average of the sample means better approximates the population mean\n",
    "\n",
    "$$\n",
    "\\lim_{n \\to \\infty} P(|\\bar{x}_n - \\mu| > \\epsilon) = 0\n",
    "$$\n",
    "\n",
    "This means that, $n$ is the number of experiment repetitions, not the sample size. Even if the sample size is the same in each repetition, when the number of repetitions gets larger. $\\bar{x}_n$ means the average of all the $n$ sample means. $\\mu$ is the true population mean which we typically don't know. By taking the absolute, we wanna know how far off from the true. $\\epsilon$ means arbitrary small number still greater than 0. So the entire thing means that **probability of the divergence between the average of sample means and true mean greater than 0 is approaching 0**. So as we have more repetition, the divergence gets better.\n",
    "\n",
    "Sampling many times can provide an accurate measure of the true population mean."
   ]
  },
  {
   "cell_type": "code",
   "execution_count": null,
   "id": "9cb438a5",
   "metadata": {},
   "outputs": [],
   "source": []
  },
  {
   "cell_type": "code",
   "execution_count": null,
   "id": "565aeca6",
   "metadata": {},
   "outputs": [],
   "source": []
  },
  {
   "cell_type": "code",
   "execution_count": null,
   "id": "16567c57",
   "metadata": {},
   "outputs": [],
   "source": []
  },
  {
   "cell_type": "code",
   "execution_count": null,
   "id": "24da33dd",
   "metadata": {},
   "outputs": [],
   "source": []
  }
 ],
 "metadata": {
  "kernelspec": {
   "display_name": "env-machine-learning",
   "language": "python",
   "name": "env-machine-learning"
  },
  "language_info": {
   "codemirror_mode": {
    "name": "ipython",
    "version": 3
   },
   "file_extension": ".py",
   "mimetype": "text/x-python",
   "name": "python",
   "nbconvert_exporter": "python",
   "pygments_lexer": "ipython3",
   "version": "3.8.10"
  }
 },
 "nbformat": 4,
 "nbformat_minor": 5
}
