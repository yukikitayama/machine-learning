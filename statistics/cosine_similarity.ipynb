{
 "cells": [
  {
   "cell_type": "markdown",
   "id": "16efb76d",
   "metadata": {},
   "source": [
    "# Cosine Similarity"
   ]
  },
  {
   "cell_type": "markdown",
   "id": "2a7dd058",
   "metadata": {},
   "source": [
    "## Concept\n",
    "\n",
    "**Cosine similarity** is the cosine of the angle between 2 variables. Cosine similarity formula is almost identical to **Pearson correlation coefficient** formula. Only difference is that Pearson subtracts the mean from each data. So when the data is already mean centered, the cosine similarity and pearson correlation coefficient are exactly the same. Cosine of an angle between 2 vectors is equal to the dot product of those vectors divided by the product of the norms, euclidean two norm of those vectors.\n",
    "\n",
    "Cosine similarity has the formula below.\n",
    "\n",
    "$$\n",
    "\\cos{(\\theta)} = \\frac{\\sum_{i = 1}^{n} x_i y_i}{\\sqrt{\\sum_{i = 1}^{n} x_i^{2}} \\sqrt{\\sum_{i = 1}^{n} y_i^2}}\n",
    "$$\n",
    "\n",
    "Pearson correlation coefficient is,\n",
    "\n",
    "$$\n",
    "r = \\frac{\\sum_{i = 1}^{n} (x_i - \\bar{x}) (y_i - \\bar{y})}{\\sqrt{\\sum_{i = 1}^{n} (x_i - \\bar{x})^2} \\sqrt{\\sum_{i = 1}^{n} (y_i - \\bar{y})^2}}\n",
    "$$\n"
   ]
  },
  {
   "cell_type": "code",
   "execution_count": null,
   "id": "03a6d53d",
   "metadata": {},
   "outputs": [],
   "source": []
  },
  {
   "cell_type": "code",
   "execution_count": null,
   "id": "5cc832c4",
   "metadata": {},
   "outputs": [],
   "source": []
  },
  {
   "cell_type": "code",
   "execution_count": null,
   "id": "8091287b",
   "metadata": {},
   "outputs": [],
   "source": []
  }
 ],
 "metadata": {
  "kernelspec": {
   "display_name": "env-machine-learning",
   "language": "python",
   "name": "env-machine-learning"
  },
  "language_info": {
   "codemirror_mode": {
    "name": "ipython",
    "version": 3
   },
   "file_extension": ".py",
   "mimetype": "text/x-python",
   "name": "python",
   "nbconvert_exporter": "python",
   "pygments_lexer": "ipython3",
   "version": "3.9.5"
  }
 },
 "nbformat": 4,
 "nbformat_minor": 5
}
