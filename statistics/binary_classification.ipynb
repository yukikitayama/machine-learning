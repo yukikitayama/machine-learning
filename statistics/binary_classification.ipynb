{
 "cells": [
  {
   "cell_type": "markdown",
   "id": "fd355f55",
   "metadata": {},
   "source": [
    "# Binary Classification"
   ]
  },
  {
   "cell_type": "markdown",
   "id": "8dddebf0",
   "metadata": {},
   "source": [
    "## d-prime\n",
    "\n",
    "xxx\n",
    "\n",
    "## Response bias\n",
    "\n",
    "The tendency to respond \"Yes\" more often or \"No\" more often. \n",
    "\n",
    "Response bias is orthogonal to (unrelated to) d-prime, because very different d-primes can be associated with the same bias.\n",
    "\n",
    "Compute response bias xxx"
   ]
  },
  {
   "cell_type": "code",
   "execution_count": null,
   "id": "d2e9cc2a",
   "metadata": {},
   "outputs": [],
   "source": []
  },
  {
   "cell_type": "code",
   "execution_count": null,
   "id": "6f00e672",
   "metadata": {},
   "outputs": [],
   "source": []
  },
  {
   "cell_type": "code",
   "execution_count": null,
   "id": "6c1eef7d",
   "metadata": {},
   "outputs": [],
   "source": []
  },
  {
   "cell_type": "code",
   "execution_count": null,
   "id": "39c1fba2",
   "metadata": {},
   "outputs": [],
   "source": []
  },
  {
   "cell_type": "code",
   "execution_count": null,
   "id": "6c0444aa",
   "metadata": {},
   "outputs": [],
   "source": []
  }
 ],
 "metadata": {
  "kernelspec": {
   "display_name": "env-machine-learning",
   "language": "python",
   "name": "env-machine-learning"
  },
  "language_info": {
   "codemirror_mode": {
    "name": "ipython",
    "version": 3
   },
   "file_extension": ".py",
   "mimetype": "text/x-python",
   "name": "python",
   "nbconvert_exporter": "python",
   "pygments_lexer": "ipython3",
   "version": "3.9.5"
  }
 },
 "nbformat": 4,
 "nbformat_minor": 5
}
