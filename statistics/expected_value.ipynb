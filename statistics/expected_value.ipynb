{
 "cells": [
  {
   "cell_type": "markdown",
   "id": "a210ab07",
   "metadata": {},
   "source": [
    "# Expected Value\n",
    "\n",
    "Average\n",
    "\n",
    "$$\n",
    "\\bar{x} = \\sum_{i = 1}^{n} \\frac{x_i}{n}\n",
    "$$\n",
    "\n",
    "Expected value\n",
    "\n",
    "$$\n",
    "\\text{E}[X] = \\sum_{i = 1}^{n} x_i p_i\n",
    "$$\n",
    "\n",
    "The two formulas are equal when $p_i = \\frac{1}{n}$, when all data values are equally likely to occur."
   ]
  },
  {
   "cell_type": "code",
   "execution_count": null,
   "id": "2bba79a9",
   "metadata": {},
   "outputs": [],
   "source": []
  },
  {
   "cell_type": "code",
   "execution_count": null,
   "id": "b083a399",
   "metadata": {},
   "outputs": [],
   "source": []
  },
  {
   "cell_type": "code",
   "execution_count": null,
   "id": "b5d6e8c5",
   "metadata": {},
   "outputs": [],
   "source": []
  },
  {
   "cell_type": "code",
   "execution_count": null,
   "id": "d22ac798",
   "metadata": {},
   "outputs": [],
   "source": []
  }
 ],
 "metadata": {
  "kernelspec": {
   "display_name": "env-machine-learning",
   "language": "python",
   "name": "env-machine-learning"
  },
  "language_info": {
   "codemirror_mode": {
    "name": "ipython",
    "version": 3
   },
   "file_extension": ".py",
   "mimetype": "text/x-python",
   "name": "python",
   "nbconvert_exporter": "python",
   "pygments_lexer": "ipython3",
   "version": "3.8.10"
  }
 },
 "nbformat": 4,
 "nbformat_minor": 5
}
