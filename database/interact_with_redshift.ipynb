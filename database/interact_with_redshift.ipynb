{
 "cells": [
  {
   "cell_type": "markdown",
   "id": "91c92c01",
   "metadata": {},
   "source": [
    "# Redshift"
   ]
  },
  {
   "cell_type": "markdown",
   "id": "d0039c85",
   "metadata": {},
   "source": [
    "## Dependency"
   ]
  },
  {
   "cell_type": "code",
   "execution_count": 2,
   "id": "33bd872f",
   "metadata": {},
   "outputs": [],
   "source": [
    "import redshift_connector\n",
    "from datetime import datetime"
   ]
  },
  {
   "cell_type": "code",
   "execution_count": 11,
   "id": "7cd8c09c",
   "metadata": {},
   "outputs": [],
   "source": [
    "conn = redshift_connector.connect(\n",
    "    host='',\n",
    "    port=5439,\n",
    "    database='dev',\n",
    "    user='',\n",
    "    password=''\n",
    ")"
   ]
  },
  {
   "cell_type": "code",
   "execution_count": 12,
   "id": "bd2a60f0",
   "metadata": {},
   "outputs": [],
   "source": [
    "cursor = conn.cursor()"
   ]
  },
  {
   "cell_type": "code",
   "execution_count": 13,
   "id": "f4e9e089",
   "metadata": {},
   "outputs": [
    {
     "name": "stdout",
     "output_type": "stream",
     "text": [
      "([1, '0.0.0.0', '/', datetime.datetime(2022, 8, 6, 12, 1)], [4, '0.0.0.0', '/', datetime.datetime(2022, 8, 7, 1, 0)], [6, '0.0.0.0', '/', datetime.datetime(2022, 8, 6, 8, 57)])\n"
     ]
    }
   ],
   "source": [
    "cursor.execute('select * from webapp.access_log')\n",
    "result = cursor.fetchall()\n",
    "print(result)"
   ]
  },
  {
   "cell_type": "code",
   "execution_count": 15,
   "id": "3d03553a",
   "metadata": {},
   "outputs": [
    {
     "name": "stdout",
     "output_type": "stream",
     "text": [
      "\n",
      "insert into webapp.access_log (ip_address, path, created_at)\n",
      "values ('0.0.0.0', '/', '2022-08-07 04:06:28');\n",
      "\n"
     ]
    }
   ],
   "source": [
    "query = f\"\"\"\n",
    "insert into webapp.access_log (ip_address, path, created_at)\n",
    "values ('0.0.0.0', '/', '{datetime.utcnow().strftime(\"%Y-%m-%d %H:%M:%S\")}');\n",
    "\"\"\"\n",
    "print(query)\n",
    "cursor.execute(query)\n",
    "conn.commit()"
   ]
  },
  {
   "cell_type": "code",
   "execution_count": 16,
   "id": "99d2fff4",
   "metadata": {},
   "outputs": [
    {
     "name": "stdout",
     "output_type": "stream",
     "text": [
      "([1, '0.0.0.0', '/', datetime.datetime(2022, 8, 6, 12, 1)], [4, '0.0.0.0', '/', datetime.datetime(2022, 8, 7, 1, 0)], [6, '0.0.0.0', '/', datetime.datetime(2022, 8, 6, 8, 57)], [7, '0.0.0.0', '/', datetime.datetime(2022, 8, 7, 4, 6, 28)])\n"
     ]
    }
   ],
   "source": [
    "cursor.execute('select * from webapp.access_log')\n",
    "result = cursor.fetchall()\n",
    "print(result)"
   ]
  }
 ],
 "metadata": {
  "kernelspec": {
   "display_name": "env-machine-learning",
   "language": "python",
   "name": "env-machine-learning"
  },
  "language_info": {
   "codemirror_mode": {
    "name": "ipython",
    "version": 3
   },
   "file_extension": ".py",
   "mimetype": "text/x-python",
   "name": "python",
   "nbconvert_exporter": "python",
   "pygments_lexer": "ipython3",
   "version": "3.9.5"
  }
 },
 "nbformat": 4,
 "nbformat_minor": 5
}
