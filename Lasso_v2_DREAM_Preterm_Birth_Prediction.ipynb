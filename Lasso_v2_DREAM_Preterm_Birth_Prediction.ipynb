{
 "cells": [
  {
   "cell_type": "code",
   "execution_count": 60,
   "metadata": {},
   "outputs": [],
   "source": [
    "import pandas as pd\n",
    "import numpy as np\n",
    "import matplotlib.pyplot as plt\n",
    "\n",
    "import statistics\n",
    "import math\n",
    "import statsmodels.api as sm\n",
    "\n",
    "from sklearn.preprocessing import StandardScaler\n",
    "from sklearn.decomposition import PCA\n",
    "from sklearn.linear_model import LinearRegression, Ridge, Lasso\n",
    "from sklearn.model_selection import cross_val_score, GridSearchCV, train_test_split\n",
    "from sklearn.metrics import accuracy_score"
   ]
  },
  {
   "cell_type": "markdown",
   "metadata": {},
   "source": [
    "# Import data "
   ]
  },
  {
   "cell_type": "markdown",
   "metadata": {},
   "source": [
    "The following data was preprocessed in R, by merging eset_HTA20 and anoSC1_v11_nokey.csv"
   ]
  },
  {
   "cell_type": "code",
   "execution_count": 2,
   "metadata": {},
   "outputs": [],
   "source": [
    "alldata = pd.read_csv(\"alldata.csv\")"
   ]
  },
  {
   "cell_type": "markdown",
   "metadata": {},
   "source": [
    "Check the data"
   ]
  },
  {
   "cell_type": "code",
   "execution_count": 3,
   "metadata": {},
   "outputs": [
    {
     "data": {
      "text/html": [
       "<div>\n",
       "<style scoped>\n",
       "    .dataframe tbody tr th:only-of-type {\n",
       "        vertical-align: middle;\n",
       "    }\n",
       "\n",
       "    .dataframe tbody tr th {\n",
       "        vertical-align: top;\n",
       "    }\n",
       "\n",
       "    .dataframe thead th {\n",
       "        text-align: right;\n",
       "    }\n",
       "</style>\n",
       "<table border=\"1\" class=\"dataframe\">\n",
       "  <thead>\n",
       "    <tr style=\"text-align: right;\">\n",
       "      <th></th>\n",
       "      <th>Unnamed: 0</th>\n",
       "      <th>g_1</th>\n",
       "      <th>g_2</th>\n",
       "      <th>g_3</th>\n",
       "      <th>g_4</th>\n",
       "      <th>g_5</th>\n",
       "      <th>g_6</th>\n",
       "      <th>g_7</th>\n",
       "      <th>g_8</th>\n",
       "      <th>g_9</th>\n",
       "      <th>...</th>\n",
       "      <th>g_32827</th>\n",
       "      <th>g_32828</th>\n",
       "      <th>g_32829</th>\n",
       "      <th>g_32830</th>\n",
       "      <th>SampleID</th>\n",
       "      <th>GA</th>\n",
       "      <th>Batch</th>\n",
       "      <th>Set</th>\n",
       "      <th>Train</th>\n",
       "      <th>Platform</th>\n",
       "    </tr>\n",
       "  </thead>\n",
       "  <tbody>\n",
       "    <tr>\n",
       "      <th>0</th>\n",
       "      <td>1</td>\n",
       "      <td>6.062215</td>\n",
       "      <td>3.796484</td>\n",
       "      <td>5.849338</td>\n",
       "      <td>3.567779</td>\n",
       "      <td>6.166815</td>\n",
       "      <td>4.443027</td>\n",
       "      <td>5.836522</td>\n",
       "      <td>6.330018</td>\n",
       "      <td>4.922339</td>\n",
       "      <td>...</td>\n",
       "      <td>8.972873</td>\n",
       "      <td>10.440245</td>\n",
       "      <td>12.101476</td>\n",
       "      <td>13.695705</td>\n",
       "      <td>Tarca_001_P1A01</td>\n",
       "      <td>11.0</td>\n",
       "      <td>1</td>\n",
       "      <td>PRB_HTA</td>\n",
       "      <td>1</td>\n",
       "      <td>HTA20</td>\n",
       "    </tr>\n",
       "    <tr>\n",
       "      <th>1</th>\n",
       "      <td>2</td>\n",
       "      <td>6.125023</td>\n",
       "      <td>3.805305</td>\n",
       "      <td>6.191562</td>\n",
       "      <td>3.452524</td>\n",
       "      <td>5.678373</td>\n",
       "      <td>4.773199</td>\n",
       "      <td>6.143398</td>\n",
       "      <td>5.601745</td>\n",
       "      <td>4.711765</td>\n",
       "      <td>...</td>\n",
       "      <td>9.376194</td>\n",
       "      <td>10.845176</td>\n",
       "      <td>12.370891</td>\n",
       "      <td>13.635522</td>\n",
       "      <td>Tarca_003_P1A03</td>\n",
       "      <td>NaN</td>\n",
       "      <td>1</td>\n",
       "      <td>PRB_HTA</td>\n",
       "      <td>0</td>\n",
       "      <td>HTA20</td>\n",
       "    </tr>\n",
       "    <tr>\n",
       "      <th>2</th>\n",
       "      <td>3</td>\n",
       "      <td>5.875502</td>\n",
       "      <td>3.450245</td>\n",
       "      <td>6.550525</td>\n",
       "      <td>3.316134</td>\n",
       "      <td>6.185059</td>\n",
       "      <td>4.393488</td>\n",
       "      <td>5.898364</td>\n",
       "      <td>6.137984</td>\n",
       "      <td>4.628124</td>\n",
       "      <td>...</td>\n",
       "      <td>8.843612</td>\n",
       "      <td>10.493416</td>\n",
       "      <td>12.295786</td>\n",
       "      <td>13.616688</td>\n",
       "      <td>Tarca_004_P1A04</td>\n",
       "      <td>32.6</td>\n",
       "      <td>1</td>\n",
       "      <td>PRB_HTA</td>\n",
       "      <td>1</td>\n",
       "      <td>HTA20</td>\n",
       "    </tr>\n",
       "    <tr>\n",
       "      <th>3</th>\n",
       "      <td>4</td>\n",
       "      <td>6.126131</td>\n",
       "      <td>3.628411</td>\n",
       "      <td>6.421877</td>\n",
       "      <td>3.432451</td>\n",
       "      <td>5.633757</td>\n",
       "      <td>4.623783</td>\n",
       "      <td>6.019792</td>\n",
       "      <td>5.787502</td>\n",
       "      <td>4.796283</td>\n",
       "      <td>...</td>\n",
       "      <td>9.191471</td>\n",
       "      <td>10.879879</td>\n",
       "      <td>12.249936</td>\n",
       "      <td>13.524328</td>\n",
       "      <td>Tarca_005_P1A05</td>\n",
       "      <td>30.6</td>\n",
       "      <td>1</td>\n",
       "      <td>PRB_HTA</td>\n",
       "      <td>1</td>\n",
       "      <td>HTA20</td>\n",
       "    </tr>\n",
       "    <tr>\n",
       "      <th>4</th>\n",
       "      <td>5</td>\n",
       "      <td>6.146466</td>\n",
       "      <td>3.446812</td>\n",
       "      <td>6.260962</td>\n",
       "      <td>3.477162</td>\n",
       "      <td>5.313198</td>\n",
       "      <td>4.422651</td>\n",
       "      <td>6.407699</td>\n",
       "      <td>5.830437</td>\n",
       "      <td>4.726488</td>\n",
       "      <td>...</td>\n",
       "      <td>9.247768</td>\n",
       "      <td>10.754316</td>\n",
       "      <td>12.245458</td>\n",
       "      <td>13.509353</td>\n",
       "      <td>Tarca_006_P1A06</td>\n",
       "      <td>NaN</td>\n",
       "      <td>1</td>\n",
       "      <td>PRB_HTA</td>\n",
       "      <td>0</td>\n",
       "      <td>HTA20</td>\n",
       "    </tr>\n",
       "  </tbody>\n",
       "</table>\n",
       "<p>5 rows × 32837 columns</p>\n",
       "</div>"
      ],
      "text/plain": [
       "   Unnamed: 0       g_1       g_2       g_3       g_4       g_5       g_6  \\\n",
       "0           1  6.062215  3.796484  5.849338  3.567779  6.166815  4.443027   \n",
       "1           2  6.125023  3.805305  6.191562  3.452524  5.678373  4.773199   \n",
       "2           3  5.875502  3.450245  6.550525  3.316134  6.185059  4.393488   \n",
       "3           4  6.126131  3.628411  6.421877  3.432451  5.633757  4.623783   \n",
       "4           5  6.146466  3.446812  6.260962  3.477162  5.313198  4.422651   \n",
       "\n",
       "        g_7       g_8       g_9    ...      g_32827    g_32828    g_32829  \\\n",
       "0  5.836522  6.330018  4.922339    ...     8.972873  10.440245  12.101476   \n",
       "1  6.143398  5.601745  4.711765    ...     9.376194  10.845176  12.370891   \n",
       "2  5.898364  6.137984  4.628124    ...     8.843612  10.493416  12.295786   \n",
       "3  6.019792  5.787502  4.796283    ...     9.191471  10.879879  12.249936   \n",
       "4  6.407699  5.830437  4.726488    ...     9.247768  10.754316  12.245458   \n",
       "\n",
       "     g_32830         SampleID    GA  Batch      Set  Train  Platform  \n",
       "0  13.695705  Tarca_001_P1A01  11.0      1  PRB_HTA      1     HTA20  \n",
       "1  13.635522  Tarca_003_P1A03   NaN      1  PRB_HTA      0     HTA20  \n",
       "2  13.616688  Tarca_004_P1A04  32.6      1  PRB_HTA      1     HTA20  \n",
       "3  13.524328  Tarca_005_P1A05  30.6      1  PRB_HTA      1     HTA20  \n",
       "4  13.509353  Tarca_006_P1A06   NaN      1  PRB_HTA      0     HTA20  \n",
       "\n",
       "[5 rows x 32837 columns]"
      ]
     },
     "execution_count": 3,
     "metadata": {},
     "output_type": "execute_result"
    }
   ],
   "source": [
    "alldata.head()"
   ]
  },
  {
   "cell_type": "markdown",
   "metadata": {},
   "source": [
    "# Make train and test dataset"
   ]
  },
  {
   "cell_type": "code",
   "execution_count": 4,
   "metadata": {},
   "outputs": [],
   "source": [
    "X_train = alldata.loc[alldata['Train'] == 1, 'g_1':'g_32830'].values\n",
    "X_train_df = alldata.loc[alldata['Train'] == 1, 'g_1':'g_32830']"
   ]
  },
  {
   "cell_type": "code",
   "execution_count": 5,
   "metadata": {},
   "outputs": [],
   "source": [
    "y_train = alldata.loc[alldata['Train'] == 1, 'GA'].values\n",
    "y_train_df = alldata.loc[alldata['Train'] == 1, 'GA']"
   ]
  },
  {
   "cell_type": "code",
   "execution_count": 49,
   "metadata": {},
   "outputs": [],
   "source": [
    "# X_test = alldata.loc[alldata['Train'] == 0, 'g_1':'g_32830'].values\n",
    "X_test_df = alldata.loc[alldata['Train'] == 0, 'g_1':'g_32830']\n",
    "ID_test = alldata.loc[alldata['Train'] == 0, 'SampleID'].values"
   ]
  },
  {
   "cell_type": "code",
   "execution_count": 7,
   "metadata": {},
   "outputs": [
    {
     "name": "stdout",
     "output_type": "stream",
     "text": [
      "(367, 32830)\n",
      "(367,)\n"
     ]
    }
   ],
   "source": [
    "print(X_train.shape)\n",
    "print(y_train.shape)"
   ]
  },
  {
   "cell_type": "markdown",
   "metadata": {},
   "source": [
    "# EDA"
   ]
  },
  {
   "cell_type": "code",
   "execution_count": 8,
   "metadata": {},
   "outputs": [
    {
     "data": {
      "image/png": "[encoded data removed]",
      "text/plain": [
       "<Figure size 432x288 with 1 Axes>"
      ]
     },
     "metadata": {
      "needs_background": "light"
     },
     "output_type": "display_data"
    }
   ],
   "source": [
    "_ = plt.hist(y_train)\n",
    "_ = plt.xlabel(\"Gestational age\")\n",
    "_ = plt.ylabel(\"Number of observed data\")\n",
    "_ = plt.title(\"Histogram of gestational age\")\n",
    "plt.show()"
   ]
  },
  {
   "cell_type": "markdown",
   "metadata": {},
   "source": [
    "# Lasso regression"
   ]
  },
  {
   "cell_type": "code",
   "execution_count": 9,
   "metadata": {},
   "outputs": [
    {
     "name": "stdout",
     "output_type": "stream",
     "text": [
      "(32830,)\n",
      "[ 0.  0. -0. -0. -0.]\n",
      "[-0. -0. -0. -0. -0.]\n"
     ]
    },
    {
     "data": {
      "image/png": "[encoded data removed]",
      "text/plain": [
       "<Figure size 432x288 with 1 Axes>"
      ]
     },
     "metadata": {
      "needs_background": "light"
     },
     "output_type": "display_data"
    }
   ],
   "source": [
    "alpha = 0.1\n",
    "lasso = Lasso(alpha = alpha, normalize = True)\n",
    "lasso.fit(X_train, y_train)\n",
    "lasso_coef = lasso.coef_\n",
    "print(lasso_coef.shape)\n",
    "print(lasso_coef[0:5])\n",
    "print(lasso_coef[32825:32831])\n",
    "_ = plt.plot(lasso_coef)\n",
    "plt.show()"
   ]
  },
  {
   "cell_type": "code",
   "execution_count": 10,
   "metadata": {},
   "outputs": [
    {
     "name": "stdout",
     "output_type": "stream",
     "text": [
      "  Variable  Lasso_coefficient\n",
      "0  g_14088           1.287940\n",
      "1  g_15452           1.197929\n",
      "2  g_16391           0.931973\n",
      "3  g_22398           1.476096\n",
      "4  g_22824          -4.424946\n",
      "5  g_27389          -1.089270\n",
      "6  g_32432          -2.418021\n"
     ]
    }
   ],
   "source": [
    "COLUMNS = alldata.loc[alldata['Train'] == 1, 'g_1':'g_32830'].columns\n",
    "var = pd.Series(COLUMNS[abs(lasso_coef) > 0.5])\n",
    "coef = pd.Series(lasso_coef[abs(lasso_coef) > 0.5])\n",
    "lasso_result = pd.concat(objs = [var, coef],\n",
    "                         axis = 1,\n",
    "                         keys = ['Variable', 'Lasso_coefficient'])\n",
    "print(lasso_result)"
   ]
  },
  {
   "cell_type": "markdown",
   "metadata": {},
   "source": [
    "# Trial prediction"
   ]
  },
  {
   "cell_type": "markdown",
   "metadata": {},
   "source": [
    "DREAM rules predicted gestational age in fractional weeks up to one decimal place."
   ]
  },
  {
   "cell_type": "code",
   "execution_count": 11,
   "metadata": {},
   "outputs": [
    {
     "data": {
      "text/html": [
       "<div>\n",
       "<style scoped>\n",
       "    .dataframe tbody tr th:only-of-type {\n",
       "        vertical-align: middle;\n",
       "    }\n",
       "\n",
       "    .dataframe tbody tr th {\n",
       "        vertical-align: top;\n",
       "    }\n",
       "\n",
       "    .dataframe thead th {\n",
       "        text-align: right;\n",
       "    }\n",
       "</style>\n",
       "<table border=\"1\" class=\"dataframe\">\n",
       "  <thead>\n",
       "    <tr style=\"text-align: right;\">\n",
       "      <th></th>\n",
       "      <th>GA_act</th>\n",
       "      <th>GA_pred</th>\n",
       "    </tr>\n",
       "  </thead>\n",
       "  <tbody>\n",
       "    <tr>\n",
       "      <th>0</th>\n",
       "      <td>11.0</td>\n",
       "      <td>12.2</td>\n",
       "    </tr>\n",
       "    <tr>\n",
       "      <th>1</th>\n",
       "      <td>32.6</td>\n",
       "      <td>33.4</td>\n",
       "    </tr>\n",
       "    <tr>\n",
       "      <th>2</th>\n",
       "      <td>30.6</td>\n",
       "      <td>23.6</td>\n",
       "    </tr>\n",
       "    <tr>\n",
       "      <th>3</th>\n",
       "      <td>26.1</td>\n",
       "      <td>22.6</td>\n",
       "    </tr>\n",
       "    <tr>\n",
       "      <th>4</th>\n",
       "      <td>22.6</td>\n",
       "      <td>24.6</td>\n",
       "    </tr>\n",
       "  </tbody>\n",
       "</table>\n",
       "</div>"
      ],
      "text/plain": [
       "   GA_act  GA_pred\n",
       "0    11.0     12.2\n",
       "1    32.6     33.4\n",
       "2    30.6     23.6\n",
       "3    26.1     22.6\n",
       "4    22.6     24.6"
      ]
     },
     "execution_count": 11,
     "metadata": {},
     "output_type": "execute_result"
    }
   ],
   "source": [
    "COLUMNS = lasso_result['Variable'].tolist()\n",
    "X = X_train_df[COLUMNS].values\n",
    "y = y_train\n",
    "model = LinearRegression()\n",
    "model.fit(X, y)\n",
    "train_pred = model.predict(X).round(1)\n",
    "result = pd.concat([pd.Series(y_train), pd.Series(train_pred)], \n",
    "                   axis = 1,\n",
    "                   keys = ['GA_act', 'GA_pred'])\n",
    "result.head()"
   ]
  },
  {
   "cell_type": "markdown",
   "metadata": {},
   "source": [
    "# Training accuracy"
   ]
  },
  {
   "cell_type": "markdown",
   "metadata": {},
   "source": [
    "DREAM judges by Root Mean Squared Error."
   ]
  },
  {
   "cell_type": "code",
   "execution_count": 12,
   "metadata": {},
   "outputs": [
    {
     "data": {
      "text/plain": [
       "6.425040421208954"
      ]
     },
     "execution_count": 12,
     "metadata": {},
     "output_type": "execute_result"
    }
   ],
   "source": [
    "math.sqrt(statistics.mean((result['GA_act'] - result['GA_pred'])**2))"
   ]
  },
  {
   "cell_type": "markdown",
   "metadata": {},
   "source": [
    "# Prediction in test data"
   ]
  },
  {
   "cell_type": "code",
   "execution_count": 13,
   "metadata": {},
   "outputs": [
    {
     "data": {
      "text/html": [
       "<div>\n",
       "<style scoped>\n",
       "    .dataframe tbody tr th:only-of-type {\n",
       "        vertical-align: middle;\n",
       "    }\n",
       "\n",
       "    .dataframe tbody tr th {\n",
       "        vertical-align: top;\n",
       "    }\n",
       "\n",
       "    .dataframe thead th {\n",
       "        text-align: right;\n",
       "    }\n",
       "</style>\n",
       "<table border=\"1\" class=\"dataframe\">\n",
       "  <thead>\n",
       "    <tr style=\"text-align: right;\">\n",
       "      <th></th>\n",
       "      <th>SampleID</th>\n",
       "      <th>GA</th>\n",
       "    </tr>\n",
       "  </thead>\n",
       "  <tbody>\n",
       "    <tr>\n",
       "      <th>0</th>\n",
       "      <td>Tarca_003_P1A03</td>\n",
       "      <td>27.4</td>\n",
       "    </tr>\n",
       "    <tr>\n",
       "      <th>1</th>\n",
       "      <td>Tarca_006_P1A06</td>\n",
       "      <td>25.4</td>\n",
       "    </tr>\n",
       "    <tr>\n",
       "      <th>2</th>\n",
       "      <td>Tarca_011_P1A11</td>\n",
       "      <td>22.9</td>\n",
       "    </tr>\n",
       "    <tr>\n",
       "      <th>3</th>\n",
       "      <td>Tarca_012_P1A12</td>\n",
       "      <td>35.9</td>\n",
       "    </tr>\n",
       "    <tr>\n",
       "      <th>4</th>\n",
       "      <td>Tarca_015_P1B03</td>\n",
       "      <td>25.4</td>\n",
       "    </tr>\n",
       "  </tbody>\n",
       "</table>\n",
       "</div>"
      ],
      "text/plain": [
       "          SampleID    GA\n",
       "0  Tarca_003_P1A03  27.4\n",
       "1  Tarca_006_P1A06  25.4\n",
       "2  Tarca_011_P1A11  22.9\n",
       "3  Tarca_012_P1A12  35.9\n",
       "4  Tarca_015_P1B03  25.4"
      ]
     },
     "execution_count": 13,
     "metadata": {},
     "output_type": "execute_result"
    }
   ],
   "source": [
    "COLUMNS = lasso_result['Variable'].tolist()\n",
    "X_test = X_test_df[COLUMNS].values\n",
    "test_pred = model.predict(X_test).round(1)\n",
    "result = pd.concat([pd.Series(ID_test), pd.Series(test_pred)],\n",
    "                  axis = 1,\n",
    "                  keys = ['SampleID', 'GA'])\n",
    "result.head()"
   ]
  },
  {
   "cell_type": "code",
   "execution_count": 14,
   "metadata": {},
   "outputs": [
    {
     "data": {
      "text/plain": [
       "count    368.000000\n",
       "mean      26.029076\n",
       "std        5.683093\n",
       "min        8.100000\n",
       "25%       22.550000\n",
       "50%       26.200000\n",
       "75%       29.925000\n",
       "max       42.800000\n",
       "Name: GA, dtype: float64"
      ]
     },
     "execution_count": 14,
     "metadata": {},
     "output_type": "execute_result"
    }
   ],
   "source": [
    "result['GA'].describe()"
   ]
  },
  {
   "cell_type": "markdown",
   "metadata": {},
   "source": [
    "# Adjustment"
   ]
  },
  {
   "cell_type": "markdown",
   "metadata": {},
   "source": [
    "DREAM suggests that values are expected to be >8 and <42, so adjusts predicted values.\n",
    "<br>\n",
    "https://www.synapse.org/#!Synapse:syn18380862/wiki/590817"
   ]
  },
  {
   "cell_type": "code",
   "execution_count": 15,
   "metadata": {},
   "outputs": [
    {
     "data": {
      "text/plain": [
       "1"
      ]
     },
     "execution_count": 15,
     "metadata": {},
     "output_type": "execute_result"
    }
   ],
   "source": [
    "(result['GA'] >= 42).sum()"
   ]
  },
  {
   "cell_type": "code",
   "execution_count": 16,
   "metadata": {},
   "outputs": [],
   "source": [
    "result.loc[result['GA'] >= 42, 'GA'] = 41.9"
   ]
  },
  {
   "cell_type": "code",
   "execution_count": 17,
   "metadata": {},
   "outputs": [
    {
     "data": {
      "text/plain": [
       "SampleID    Tarca_844_P8D10\n",
       "GA                     41.9\n",
       "Name: 350, dtype: object"
      ]
     },
     "execution_count": 17,
     "metadata": {},
     "output_type": "execute_result"
    }
   ],
   "source": [
    "result.iloc[350]"
   ]
  },
  {
   "cell_type": "code",
   "execution_count": 18,
   "metadata": {},
   "outputs": [
    {
     "data": {
      "text/plain": [
       "count    368.000000\n",
       "mean      26.026630\n",
       "std        5.676045\n",
       "min        8.100000\n",
       "25%       22.550000\n",
       "50%       26.200000\n",
       "75%       29.925000\n",
       "max       41.900000\n",
       "Name: GA, dtype: float64"
      ]
     },
     "execution_count": 18,
     "metadata": {},
     "output_type": "execute_result"
    }
   ],
   "source": [
    "result['GA'].describe()"
   ]
  },
  {
   "cell_type": "markdown",
   "metadata": {},
   "source": [
    "# Export prediction"
   ]
  },
  {
   "cell_type": "code",
   "execution_count": 19,
   "metadata": {},
   "outputs": [],
   "source": [
    "sub = result"
   ]
  },
  {
   "cell_type": "code",
   "execution_count": 20,
   "metadata": {},
   "outputs": [],
   "source": [
    "# sub.to_csv('C:\\\\Users\\\\yukic\\\\Documents\\\\DREAM\\\\submission_190707.csv', index = False)"
   ]
  },
  {
   "cell_type": "markdown",
   "metadata": {},
   "source": [
    "# Check relationship between response and selected features"
   ]
  },
  {
   "cell_type": "code",
   "execution_count": 21,
   "metadata": {},
   "outputs": [
    {
     "data": {
      "text/html": [
       "<div>\n",
       "<style scoped>\n",
       "    .dataframe tbody tr th:only-of-type {\n",
       "        vertical-align: middle;\n",
       "    }\n",
       "\n",
       "    .dataframe tbody tr th {\n",
       "        vertical-align: top;\n",
       "    }\n",
       "\n",
       "    .dataframe thead th {\n",
       "        text-align: right;\n",
       "    }\n",
       "</style>\n",
       "<table border=\"1\" class=\"dataframe\">\n",
       "  <thead>\n",
       "    <tr style=\"text-align: right;\">\n",
       "      <th></th>\n",
       "      <th>g_14088</th>\n",
       "      <th>g_15452</th>\n",
       "      <th>g_16391</th>\n",
       "      <th>g_22398</th>\n",
       "      <th>g_22824</th>\n",
       "      <th>g_27389</th>\n",
       "      <th>g_32432</th>\n",
       "      <th>GA</th>\n",
       "    </tr>\n",
       "  </thead>\n",
       "  <tbody>\n",
       "    <tr>\n",
       "      <th>0</th>\n",
       "      <td>7.326387</td>\n",
       "      <td>4.405139</td>\n",
       "      <td>4.911448</td>\n",
       "      <td>8.828278</td>\n",
       "      <td>3.159517</td>\n",
       "      <td>5.849807</td>\n",
       "      <td>6.428600</td>\n",
       "      <td>11.0</td>\n",
       "    </tr>\n",
       "    <tr>\n",
       "      <th>2</th>\n",
       "      <td>8.033351</td>\n",
       "      <td>4.878254</td>\n",
       "      <td>6.225319</td>\n",
       "      <td>8.947091</td>\n",
       "      <td>2.675184</td>\n",
       "      <td>5.368895</td>\n",
       "      <td>5.923751</td>\n",
       "      <td>32.6</td>\n",
       "    </tr>\n",
       "    <tr>\n",
       "      <th>3</th>\n",
       "      <td>7.576564</td>\n",
       "      <td>4.396103</td>\n",
       "      <td>5.644666</td>\n",
       "      <td>8.804537</td>\n",
       "      <td>2.823732</td>\n",
       "      <td>5.646030</td>\n",
       "      <td>6.044667</td>\n",
       "      <td>30.6</td>\n",
       "    </tr>\n",
       "    <tr>\n",
       "      <th>5</th>\n",
       "      <td>8.541571</td>\n",
       "      <td>4.323788</td>\n",
       "      <td>5.553091</td>\n",
       "      <td>9.020144</td>\n",
       "      <td>2.904048</td>\n",
       "      <td>5.804934</td>\n",
       "      <td>6.412359</td>\n",
       "      <td>26.1</td>\n",
       "    </tr>\n",
       "    <tr>\n",
       "      <th>6</th>\n",
       "      <td>7.581693</td>\n",
       "      <td>4.180898</td>\n",
       "      <td>4.995425</td>\n",
       "      <td>9.294483</td>\n",
       "      <td>2.788135</td>\n",
       "      <td>5.802293</td>\n",
       "      <td>5.754789</td>\n",
       "      <td>22.6</td>\n",
       "    </tr>\n",
       "  </tbody>\n",
       "</table>\n",
       "</div>"
      ],
      "text/plain": [
       "    g_14088   g_15452   g_16391   g_22398   g_22824   g_27389   g_32432    GA\n",
       "0  7.326387  4.405139  4.911448  8.828278  3.159517  5.849807  6.428600  11.0\n",
       "2  8.033351  4.878254  6.225319  8.947091  2.675184  5.368895  5.923751  32.6\n",
       "3  7.576564  4.396103  5.644666  8.804537  2.823732  5.646030  6.044667  30.6\n",
       "5  8.541571  4.323788  5.553091  9.020144  2.904048  5.804934  6.412359  26.1\n",
       "6  7.581693  4.180898  4.995425  9.294483  2.788135  5.802293  5.754789  22.6"
      ]
     },
     "execution_count": 21,
     "metadata": {},
     "output_type": "execute_result"
    }
   ],
   "source": [
    "COLUMNS = lasso_result['Variable'].tolist()\n",
    "COLUMNS.append('GA')\n",
    "df = alldata.loc[alldata['Train'] == 1, COLUMNS]\n",
    "df.head()"
   ]
  },
  {
   "cell_type": "code",
   "execution_count": 22,
   "metadata": {},
   "outputs": [
    {
     "data": {
      "image/png": "[encoded data removed]",
      "text/plain": [
       "<Figure size 432x288 with 1 Axes>"
      ]
     },
     "metadata": {
      "needs_background": "light"
     },
     "output_type": "display_data"
    },
    {
     "data": {
      "image/png": "[encoded data removed]",
      "text/plain": [
       "<Figure size 432x288 with 1 Axes>"
      ]
     },
     "metadata": {
      "needs_background": "light"
     },
     "output_type": "display_data"
    },
    {
     "data": {
      "image/png": "[encoded data removed]",
      "text/plain": [
       "<Figure size 432x288 with 1 Axes>"
      ]
     },
     "metadata": {
      "needs_background": "light"
     },
     "output_type": "display_data"
    },
    {
     "data": {
      "image/png": "[encoded data removed]",
      "text/plain": [
       "<Figure size 432x288 with 1 Axes>"
      ]
     },
     "metadata": {
      "needs_background": "light"
     },
     "output_type": "display_data"
    },
    {
     "data": {
      "image/png": "[encoded data removed]",
      "text/plain": [
       "<Figure size 432x288 with 1 Axes>"
      ]
     },
     "metadata": {
      "needs_background": "light"
     },
     "output_type": "display_data"
    },
    {
     "data": {
      "image/png": "[encoded data removed]",
      "text/plain": [
       "<Figure size 432x288 with 1 Axes>"
      ]
     },
     "metadata": {
      "needs_background": "light"
     },
     "output_type": "display_data"
    },
    {
     "data": {
      "image/png": "[encoded data removed]",
      "text/plain": [
       "<Figure size 432x288 with 1 Axes>"
      ]
     },
     "metadata": {
      "needs_background": "light"
     },
     "output_type": "display_data"
    }
   ],
   "source": [
    "for i in np.arange(0, (df.shape[1]-1), 1):\n",
    "    _ = plt.scatter(x = df[COLUMNS[i]], y = df['GA'])\n",
    "    _ = plt.title(COLUMNS[i])\n",
    "    _ = plt.ylabel('Gestational age')\n",
    "    plt.show()"
   ]
  },
  {
   "cell_type": "markdown",
   "metadata": {},
   "source": [
    "Most look like a linear relationship, no special things. I suppose for now, if I choose an appropriate number of features in lasso regression, I might improve my ranking in leadger board."
   ]
  },
  {
   "cell_type": "markdown",
   "metadata": {},
   "source": [
    "We split our training dataset into training dataset and validation dataset. In training dataset, we search grid of alpha and make several models with different number of features. And then, in the validation dataset, find the number of features which achieve the best accuracy."
   ]
  },
  {
   "cell_type": "markdown",
   "metadata": {},
   "source": [
    "# Train validation split"
   ]
  },
  {
   "cell_type": "code",
   "execution_count": 23,
   "metadata": {},
   "outputs": [],
   "source": [
    "X_train = alldata.loc[alldata['Train'] == 1, 'g_1':'g_32830'].values\n",
    "y_train = alldata.loc[alldata['Train'] == 1, 'GA'].values\n",
    "\n",
    "X_train, X_vali, y_train, y_vali = train_test_split(X_train, y_train, test_size = 0.3, random_state = 21)"
   ]
  },
  {
   "cell_type": "markdown",
   "metadata": {},
   "source": [
    "In each step, we store the information about the number of parameters whose absolute value is bigger than 0, the index of those parameters, and their coefficients. "
   ]
  },
  {
   "cell_type": "code",
   "execution_count": 24,
   "metadata": {},
   "outputs": [
    {
     "name": "stdout",
     "output_type": "stream",
     "text": [
      "[24, 21, 19, 12, 8, 8, 7, 5, 3, 2]\n"
     ]
    }
   ],
   "source": [
    "k = 10\n",
    "a = 0.08\n",
    "b = 0.17\n",
    "alpha_space = np.linspace(a, b, num = k)\n",
    "p_list = []\n",
    "param_index_list = []\n",
    "coef_list = []\n",
    "\n",
    "for i in np.arange(0, k, 1):\n",
    "    # Instantiate a lasso regression\n",
    "    lasso = Lasso(alpha = alpha_space[i], normalize = True)\n",
    "\n",
    "    # Fit lasso\n",
    "    lasso.fit(X_train, y_train)\n",
    "\n",
    "    # number of parameters\n",
    "    p = sum(abs(lasso.coef_) > 0)\n",
    "\n",
    "    # index of parameters\n",
    "    param_index = np.where([abs(lasso.coef_) > 0])[1]\n",
    "\n",
    "    # coefficients of parameters\n",
    "    coef = lasso.coef_[abs(lasso.coef_) > 0]\n",
    "\n",
    "    # store resutls\n",
    "    p_list.append(p)\n",
    "    param_index_list.append(param_index)\n",
    "    coef_list.append(coef)\n",
    "\n",
    "print(p_list)"
   ]
  },
  {
   "cell_type": "markdown",
   "metadata": {},
   "source": [
    "Actually I don't have to store the parameter index and each coefficients, because what I wanna know is the only information that achieve the best accuracy in the validation dataset. So I modify my code."
   ]
  },
  {
   "cell_type": "code",
   "execution_count": 30,
   "metadata": {},
   "outputs": [
    {
     "name": "stdout",
     "output_type": "stream",
     "text": [
      "[7.26410380522211, 7.129444433955589, 7.277245271146074, 7.4714872754577835, 7.729282452818131, 8.009476172704417, 8.195899755402017, 8.37019362036897, 8.52326372997547, 8.646501757419898]\n",
      "[114, 67, 43, 27, 21, 12, 8, 8, 5, 2]\n"
     ]
    }
   ],
   "source": [
    "k = 10\n",
    "a = 0.03\n",
    "b = 0.17\n",
    "alpha_space = np.linspace(a, b, num = k)\n",
    "\n",
    "accuracy = []\n",
    "p_list = []\n",
    "\n",
    "for i in np.arange(0, k, 1):\n",
    "    # Instantiate a lasso regression\n",
    "    lasso = Lasso(alpha = alpha_space[i], normalize = True)\n",
    "\n",
    "    # Fit lasso\n",
    "    lasso.fit(X_train, y_train)\n",
    "\n",
    "    # number of parameters\n",
    "    p = sum(abs(lasso.coef_) > 0)\n",
    "\n",
    "    # predict validation set\n",
    "    y_pred = lasso.predict(X_vali)\n",
    "    \n",
    "    # accuracy\n",
    "    rmse = math.sqrt(statistics.mean((y_vali - y_pred)**2))\n",
    "    \n",
    "    # store result\n",
    "    accuracy.append(rmse)\n",
    "    p_list.append(p)\n",
    "\n",
    "print(accuracy)\n",
    "print(p_list)"
   ]
  },
  {
   "cell_type": "markdown",
   "metadata": {},
   "source": [
    "Why does the model with many predictors have better accuracy?"
   ]
  },
  {
   "cell_type": "code",
   "execution_count": 33,
   "metadata": {},
   "outputs": [
    {
     "data": {
      "text/plain": [
       "0.04555555555555556"
      ]
     },
     "execution_count": 33,
     "metadata": {},
     "output_type": "execute_result"
    }
   ],
   "source": [
    "alpha_space[np.argmin(accuracy)]"
   ]
  },
  {
   "cell_type": "markdown",
   "metadata": {},
   "source": [
    "# Hyperparameter tuning with GridSearchCV"
   ]
  },
  {
   "cell_type": "code",
   "execution_count": 35,
   "metadata": {},
   "outputs": [
    {
     "name": "stderr",
     "output_type": "stream",
     "text": [
      "C:\\Users\\yukic\\Anaconda3\\lib\\site-packages\\sklearn\\model_selection\\_search.py:841: DeprecationWarning: The default of the `iid` parameter will change from True to False in version 0.22 and will be removed in 0.24. This will change numeric results when test-set sizes are unequal.\n",
      "  DeprecationWarning)\n"
     ]
    },
    {
     "name": "stdout",
     "output_type": "stream",
     "text": [
      "Tuned lasso regression parameters: {'alpha': 0.04}\n",
      "Best score is 0.3306733244806871\n"
     ]
    }
   ],
   "source": [
    "# Setup the parameter grid\n",
    "alpha_space = np.arange(0.01, 0.1, 0.01)\n",
    "param_grid = {'alpha':alpha_space}\n",
    "\n",
    "# Instantiate a lasso regression\n",
    "lasso = Lasso(normalize = True)\n",
    "\n",
    "# Instantiate the GridSearchCV object\n",
    "lasso_cv = GridSearchCV(lasso, param_grid, cv = 10)\n",
    "\n",
    "# Fit it to data\n",
    "lasso_cv.fit(X_train, y_train)\n",
    "\n",
    "# Print the tuned parameters and score\n",
    "print(\"Tuned lasso regression parameters: {}\".format(lasso_cv.best_params_))\n",
    "print(\"Best score is {}\".format(lasso_cv.best_score_))"
   ]
  },
  {
   "cell_type": "markdown",
   "metadata": {},
   "source": [
    "# Training accuracy by GridSearchCV"
   ]
  },
  {
   "cell_type": "code",
   "execution_count": 46,
   "metadata": {},
   "outputs": [
    {
     "data": {
      "text/plain": [
       "4.1855739226639175"
      ]
     },
     "execution_count": 46,
     "metadata": {},
     "output_type": "execute_result"
    }
   ],
   "source": [
    "# predict train\n",
    "y_pred = lasso_cv.predict(X_train)\n",
    "\n",
    "# RMSE\n",
    "math.sqrt(statistics.mean((y_train - y_pred)**2))"
   ]
  },
  {
   "cell_type": "markdown",
   "metadata": {},
   "source": [
    "# Check variables from GridSearchCV"
   ]
  },
  {
   "cell_type": "code",
   "execution_count": 44,
   "metadata": {},
   "outputs": [
    {
     "data": {
      "text/plain": [
       "84"
      ]
     },
     "execution_count": 44,
     "metadata": {},
     "output_type": "execute_result"
    }
   ],
   "source": [
    "# Run lasso regression\n",
    "alpha = 0.04\n",
    "lasso = Lasso(alpha = alpha, normalize = True)\n",
    "lasso.fit(X_train, y_train)\n",
    "lasso_coef = lasso.coef_\n",
    "\n",
    "sum(abs(lasso_coef) > 0)"
   ]
  },
  {
   "cell_type": "markdown",
   "metadata": {},
   "source": [
    "# Prediction in test set"
   ]
  },
  {
   "cell_type": "code",
   "execution_count": 48,
   "metadata": {},
   "outputs": [
    {
     "name": "stdout",
     "output_type": "stream",
     "text": [
      "   Variable  Lasso_coefficient\n",
      "0     g_110           1.862604\n",
      "1     g_484          -0.197969\n",
      "2     g_966           0.163110\n",
      "3    g_1318           0.072114\n",
      "4    g_1453           0.377071\n",
      "5    g_1953           2.012364\n",
      "6    g_3468          -1.880732\n",
      "7    g_3759           0.234664\n",
      "8    g_3960           0.100381\n",
      "9    g_4095           0.014637\n",
      "10   g_4126           0.033769\n",
      "11   g_4492          -0.510741\n",
      "12   g_4994          -2.167656\n",
      "13   g_5323           0.296196\n",
      "14   g_5347          -0.249893\n",
      "15   g_5475           2.040734\n",
      "16   g_5687          -1.331722\n",
      "17   g_5795          -2.718004\n",
      "18   g_5825          -1.374470\n",
      "19   g_6173           0.897351\n",
      "20   g_6330          -0.360880\n",
      "21   g_6452           2.237383\n",
      "22   g_6631          -0.722724\n",
      "23   g_6695           0.001689\n",
      "24   g_6773           0.339069\n",
      "25   g_7395          -0.158843\n",
      "26   g_7422           0.805033\n",
      "27   g_7821           0.477779\n",
      "28   g_8114          -1.036198\n",
      "29   g_8281          -0.070900\n",
      "..      ...                ...\n",
      "54  g_18672          -3.125022\n",
      "55  g_19074          -0.647522\n",
      "56  g_19437          -2.149044\n",
      "57  g_19866          -0.082175\n",
      "58  g_19883           0.183046\n",
      "59  g_20214           0.580842\n",
      "60  g_21538           0.275446\n",
      "61  g_22158           0.593686\n",
      "62  g_22394          -2.073809\n",
      "63  g_22824          -7.098883\n",
      "64  g_22840          -1.370165\n",
      "65  g_24049           2.141257\n",
      "66  g_24070           0.121095\n",
      "67  g_24619           0.142474\n",
      "68  g_25724           0.449772\n",
      "69  g_26524          -0.247925\n",
      "70  g_26812           0.081270\n",
      "71  g_26873           1.556950\n",
      "72  g_26984           3.148674\n",
      "73  g_27174          -0.021159\n",
      "74  g_27688          -3.740111\n",
      "75  g_28914           5.773214\n",
      "76  g_29064          -0.356977\n",
      "77  g_29133          -0.021570\n",
      "78  g_29220          -0.125002\n",
      "79  g_29804           4.090021\n",
      "80  g_29967           2.214368\n",
      "81  g_30426          -0.652103\n",
      "82  g_30914           2.640567\n",
      "83  g_32432          -5.010988\n",
      "\n",
      "[84 rows x 2 columns]\n"
     ]
    }
   ],
   "source": [
    "COLUMNS = alldata.loc[alldata['Train'] == 1, 'g_1':'g_32830'].columns\n",
    "var = pd.Series(COLUMNS[abs(lasso_coef) > 0])\n",
    "coef = pd.Series(lasso_coef[abs(lasso_coef) > 0])\n",
    "lasso_result = pd.concat(objs = [var, coef],\n",
    "                         axis = 1,\n",
    "                         keys = ['Variable', 'Lasso_coefficient'])\n",
    "print(lasso_result)"
   ]
  },
  {
   "cell_type": "code",
   "execution_count": 86,
   "metadata": {},
   "outputs": [
    {
     "data": {
      "text/html": [
       "<div>\n",
       "<style scoped>\n",
       "    .dataframe tbody tr th:only-of-type {\n",
       "        vertical-align: middle;\n",
       "    }\n",
       "\n",
       "    .dataframe tbody tr th {\n",
       "        vertical-align: top;\n",
       "    }\n",
       "\n",
       "    .dataframe thead th {\n",
       "        text-align: right;\n",
       "    }\n",
       "</style>\n",
       "<table border=\"1\" class=\"dataframe\">\n",
       "  <thead>\n",
       "    <tr style=\"text-align: right;\">\n",
       "      <th></th>\n",
       "      <th>SampleID</th>\n",
       "      <th>GA</th>\n",
       "    </tr>\n",
       "  </thead>\n",
       "  <tbody>\n",
       "    <tr>\n",
       "      <th>0</th>\n",
       "      <td>Tarca_003_P1A03</td>\n",
       "      <td>23.7</td>\n",
       "    </tr>\n",
       "    <tr>\n",
       "      <th>1</th>\n",
       "      <td>Tarca_006_P1A06</td>\n",
       "      <td>21.2</td>\n",
       "    </tr>\n",
       "    <tr>\n",
       "      <th>2</th>\n",
       "      <td>Tarca_011_P1A11</td>\n",
       "      <td>26.3</td>\n",
       "    </tr>\n",
       "    <tr>\n",
       "      <th>3</th>\n",
       "      <td>Tarca_012_P1A12</td>\n",
       "      <td>39.3</td>\n",
       "    </tr>\n",
       "    <tr>\n",
       "      <th>4</th>\n",
       "      <td>Tarca_015_P1B03</td>\n",
       "      <td>24.4</td>\n",
       "    </tr>\n",
       "  </tbody>\n",
       "</table>\n",
       "</div>"
      ],
      "text/plain": [
       "          SampleID    GA\n",
       "0  Tarca_003_P1A03  23.7\n",
       "1  Tarca_006_P1A06  21.2\n",
       "2  Tarca_011_P1A11  26.3\n",
       "3  Tarca_012_P1A12  39.3\n",
       "4  Tarca_015_P1B03  24.4"
      ]
     },
     "execution_count": 86,
     "metadata": {},
     "output_type": "execute_result"
    }
   ],
   "source": [
    "# rebuild model\n",
    "X_train = alldata.loc[alldata['Train'] == 1, 'g_1':'g_32830']\n",
    "y_train = alldata.loc[alldata['Train'] == 1, 'GA']\n",
    "COLUMNS = lasso_result['Variable'].tolist()\n",
    "X = X_train[COLUMNS].values\n",
    "y = y_train.values\n",
    "model = LinearRegression()\n",
    "model.fit(X, y)\n",
    "\n",
    "# predict test set\n",
    "X_test = alldata.loc[alldata['Train'] == 0, 'g_1':'g_32830']\n",
    "X_test = X_test[COLUMNS].values\n",
    "test_pred = model.predict(X_test).round(1)\n",
    "result = pd.concat([pd.Series(ID_test), pd.Series(test_pred)],\n",
    "                  axis = 1,\n",
    "                  keys = ['SampleID', 'GA'])\n",
    "result.head()"
   ]
  },
  {
   "cell_type": "code",
   "execution_count": 87,
   "metadata": {},
   "outputs": [
    {
     "data": {
      "text/plain": [
       "count    368.000000\n",
       "mean      27.020380\n",
       "std        7.350934\n",
       "min        3.500000\n",
       "25%       21.900000\n",
       "50%       26.400000\n",
       "75%       32.225000\n",
       "max       46.100000\n",
       "Name: GA, dtype: float64"
      ]
     },
     "execution_count": 87,
     "metadata": {},
     "output_type": "execute_result"
    }
   ],
   "source": [
    "result['GA'].describe()"
   ]
  },
  {
   "cell_type": "markdown",
   "metadata": {},
   "source": [
    "# Correlation among predictors"
   ]
  },
  {
   "cell_type": "code",
   "execution_count": 88,
   "metadata": {},
   "outputs": [
    {
     "data": {
      "text/html": [
       "<div>\n",
       "<style scoped>\n",
       "    .dataframe tbody tr th:only-of-type {\n",
       "        vertical-align: middle;\n",
       "    }\n",
       "\n",
       "    .dataframe tbody tr th {\n",
       "        vertical-align: top;\n",
       "    }\n",
       "\n",
       "    .dataframe thead th {\n",
       "        text-align: right;\n",
       "    }\n",
       "</style>\n",
       "<table border=\"1\" class=\"dataframe\">\n",
       "  <thead>\n",
       "    <tr style=\"text-align: right;\">\n",
       "      <th></th>\n",
       "      <th>var_1</th>\n",
       "      <th>var_2</th>\n",
       "      <th>correlation</th>\n",
       "    </tr>\n",
       "  </thead>\n",
       "  <tbody>\n",
       "    <tr>\n",
       "      <th>3996</th>\n",
       "      <td>g_17147</td>\n",
       "      <td>g_17294</td>\n",
       "      <td>0.630385</td>\n",
       "    </tr>\n",
       "    <tr>\n",
       "      <th>4079</th>\n",
       "      <td>g_17294</td>\n",
       "      <td>g_17147</td>\n",
       "      <td>0.630385</td>\n",
       "    </tr>\n",
       "    <tr>\n",
       "      <th>6697</th>\n",
       "      <td>g_29804</td>\n",
       "      <td>g_22158</td>\n",
       "      <td>0.627796</td>\n",
       "    </tr>\n",
       "    <tr>\n",
       "      <th>5203</th>\n",
       "      <td>g_22158</td>\n",
       "      <td>g_29804</td>\n",
       "      <td>0.627796</td>\n",
       "    </tr>\n",
       "    <tr>\n",
       "      <th>6937</th>\n",
       "      <td>g_30914</td>\n",
       "      <td>g_17516</td>\n",
       "      <td>0.582550</td>\n",
       "    </tr>\n",
       "    <tr>\n",
       "      <th>4198</th>\n",
       "      <td>g_17516</td>\n",
       "      <td>g_30914</td>\n",
       "      <td>0.582550</td>\n",
       "    </tr>\n",
       "    <tr>\n",
       "      <th>3432</th>\n",
       "      <td>g_14088</td>\n",
       "      <td>g_26984</td>\n",
       "      <td>0.525037</td>\n",
       "    </tr>\n",
       "    <tr>\n",
       "      <th>6088</th>\n",
       "      <td>g_26984</td>\n",
       "      <td>g_14088</td>\n",
       "      <td>0.525037</td>\n",
       "    </tr>\n",
       "    <tr>\n",
       "      <th>5432</th>\n",
       "      <td>g_22840</td>\n",
       "      <td>g_19437</td>\n",
       "      <td>0.514181</td>\n",
       "    </tr>\n",
       "    <tr>\n",
       "      <th>4768</th>\n",
       "      <td>g_19437</td>\n",
       "      <td>g_22840</td>\n",
       "      <td>0.514181</td>\n",
       "    </tr>\n",
       "    <tr>\n",
       "      <th>240</th>\n",
       "      <td>g_966</td>\n",
       "      <td>g_26984</td>\n",
       "      <td>0.511374</td>\n",
       "    </tr>\n",
       "    <tr>\n",
       "      <th>6050</th>\n",
       "      <td>g_26984</td>\n",
       "      <td>g_966</td>\n",
       "      <td>0.511374</td>\n",
       "    </tr>\n",
       "    <tr>\n",
       "      <th>6046</th>\n",
       "      <td>g_26873</td>\n",
       "      <td>g_30914</td>\n",
       "      <td>0.506707</td>\n",
       "    </tr>\n",
       "    <tr>\n",
       "      <th>6959</th>\n",
       "      <td>g_30914</td>\n",
       "      <td>g_26873</td>\n",
       "      <td>0.506707</td>\n",
       "    </tr>\n",
       "    <tr>\n",
       "      <th>6674</th>\n",
       "      <td>g_29804</td>\n",
       "      <td>g_11366</td>\n",
       "      <td>0.483132</td>\n",
       "    </tr>\n",
       "  </tbody>\n",
       "</table>\n",
       "</div>"
      ],
      "text/plain": [
       "        var_1    var_2  correlation\n",
       "3996  g_17147  g_17294     0.630385\n",
       "4079  g_17294  g_17147     0.630385\n",
       "6697  g_29804  g_22158     0.627796\n",
       "5203  g_22158  g_29804     0.627796\n",
       "6937  g_30914  g_17516     0.582550\n",
       "4198  g_17516  g_30914     0.582550\n",
       "3432  g_14088  g_26984     0.525037\n",
       "6088  g_26984  g_14088     0.525037\n",
       "5432  g_22840  g_19437     0.514181\n",
       "4768  g_19437  g_22840     0.514181\n",
       "240     g_966  g_26984     0.511374\n",
       "6050  g_26984    g_966     0.511374\n",
       "6046  g_26873  g_30914     0.506707\n",
       "6959  g_30914  g_26873     0.506707\n",
       "6674  g_29804  g_11366     0.483132"
      ]
     },
     "execution_count": 88,
     "metadata": {},
     "output_type": "execute_result"
    }
   ],
   "source": [
    "COLUMNS = lasso_result['Variable'].tolist()\n",
    "X_train = alldata.loc[alldata['Train'] == 1, COLUMNS]\n",
    "corrmat = X_train.corr()\n",
    "corrmat = corrmat.rename_axis(None).rename_axis(None, axis = 1)\n",
    "corrmat = corrmat.stack().reset_index()\n",
    "corrmat.columns = ['var_1', 'var_2', 'correlation']\n",
    "corrmat = corrmat[corrmat['correlation'] != 1]\n",
    "corrmat.sort_values(by = 'correlation', ascending = False).head(15)"
   ]
  },
  {
   "cell_type": "markdown",
   "metadata": {},
   "source": [
    "I forgot to check the p-values of those 84 predictors."
   ]
  },
  {
   "cell_type": "code",
   "execution_count": 89,
   "metadata": {},
   "outputs": [
    {
     "name": "stdout",
     "output_type": "stream",
     "text": [
      "                            OLS Regression Results                            \n",
      "==============================================================================\n",
      "Dep. Variable:                      y   R-squared:                       0.978\n",
      "Model:                            OLS   Adj. R-squared:                  0.971\n",
      "Method:                 Least Squares   F-statistic:                     147.4\n",
      "Date:                Tue, 09 Jul 2019   Prob (F-statistic):          1.19e-193\n",
      "Time:                        20:51:23   Log-Likelihood:                -1037.8\n",
      "No. Observations:                 367   AIC:                             2244.\n",
      "Df Residuals:                     283   BIC:                             2572.\n",
      "Df Model:                          84                                         \n",
      "Covariance Type:            nonrobust                                         \n",
      "==============================================================================\n",
      "                 coef    std err          t      P>|t|      [0.025      0.975]\n",
      "------------------------------------------------------------------------------\n",
      "x1             2.6606      1.767      1.506      0.133      -0.817       6.138\n",
      "x2            -0.6901      0.874     -0.789      0.431      -2.411       1.031\n",
      "x3             0.2322      0.430      0.540      0.589      -0.614       1.078\n",
      "x4             0.6529      1.212      0.539      0.590      -1.732       3.038\n",
      "x5             1.7950      1.754      1.023      0.307      -1.658       5.249\n",
      "x6             2.9435      2.200      1.338      0.182      -1.387       7.274\n",
      "x7             1.8229      3.624      0.503      0.615      -5.310       8.956\n",
      "x8             0.2147      1.438      0.149      0.881      -2.616       3.045\n",
      "x9             1.7532      2.120      0.827      0.409      -2.419       5.925\n",
      "x10           -0.6323      1.575     -0.401      0.688      -3.733       2.468\n",
      "x11            9.6304      3.258      2.956      0.003       3.217      16.044\n",
      "x12           -3.2644      3.067     -1.065      0.288      -9.301       2.772\n",
      "x13           -1.6148      4.082     -0.396      0.693      -9.651       6.421\n",
      "x14           -2.6990      2.020     -1.336      0.182      -6.674       1.276\n",
      "x15           -1.7320      1.564     -1.107      0.269      -4.812       1.347\n",
      "x16            3.7958      2.296      1.653      0.099      -0.724       8.316\n",
      "x17           -6.2522      3.540     -1.766      0.078     -13.220       0.715\n",
      "x18           -0.7798      3.978     -0.196      0.845      -8.610       7.051\n",
      "x19           -0.1114      2.094     -0.053      0.958      -4.234       4.011\n",
      "x20            0.7538      1.818      0.415      0.679      -2.825       4.332\n",
      "x21           -6.1521      1.958     -3.142      0.002     -10.006      -2.298\n",
      "x22            0.8024      1.781      0.450      0.653      -2.704       4.309\n",
      "x23           -2.4947      1.808     -1.380      0.169      -6.053       1.064\n",
      "x24            0.9903      1.408      0.703      0.483      -1.782       3.763\n",
      "x25            1.7465      1.148      1.521      0.129      -0.514       4.007\n",
      "x26           -1.6526      1.330     -1.242      0.215      -4.271       0.966\n",
      "x27            1.4291      1.266      1.129      0.260      -1.063       3.921\n",
      "x28            0.0724      0.827      0.088      0.930      -1.555       1.700\n",
      "x29           -1.2985      1.815     -0.716      0.475      -4.870       2.273\n",
      "x30           -0.3830      1.014     -0.378      0.706      -2.379       1.613\n",
      "x31            1.4953      1.414      1.057      0.291      -1.288       4.279\n",
      "x32            3.2693      1.452      2.252      0.025       0.412       6.127\n",
      "x33           -0.9935      1.938     -0.513      0.609      -4.808       2.821\n",
      "x34            1.3750      1.434      0.959      0.338      -1.447       4.197\n",
      "x35            1.8173      1.064      1.709      0.089      -0.276       3.911\n",
      "x36            0.6681      0.918      0.728      0.467      -1.139       2.476\n",
      "x37            2.9673      1.692      1.754      0.081      -0.363       6.298\n",
      "x38           -1.9183      3.083     -0.622      0.534      -7.987       4.150\n",
      "x39            0.3186      1.712      0.186      0.853      -3.052       3.689\n",
      "x40            0.0735      2.045      0.036      0.971      -3.953       4.100\n",
      "x41            1.0258      0.713      1.439      0.151      -0.377       2.429\n",
      "x42           -2.6163      2.163     -1.210      0.227      -6.874       1.642\n",
      "x43            2.6750      1.947      1.374      0.171      -1.158       6.508\n",
      "x44           -0.3296      1.124     -0.293      0.770      -2.542       1.883\n",
      "x45           -4.1856      2.211     -1.893      0.059      -8.539       0.167\n",
      "x46            0.5780      1.263      0.458      0.647      -1.907       3.063\n",
      "x47           -5.8328      2.098     -2.780      0.006      -9.963      -1.702\n",
      "x48           -0.7163      0.721     -0.993      0.322      -2.136       0.704\n",
      "x49            0.7219      0.623      1.159      0.248      -0.505       1.948\n",
      "x50           -0.6308      2.668     -0.236      0.813      -5.882       4.620\n",
      "x51           -2.9559      1.017     -2.905      0.004      -4.959      -0.953\n",
      "x52           -2.2161      1.878     -1.180      0.239      -5.912       1.480\n",
      "x53           -1.1943      2.172     -0.550      0.583      -5.470       3.081\n",
      "x54           -3.9989      3.736     -1.070      0.285     -11.353       3.355\n",
      "x55           -5.2157      2.989     -1.745      0.082     -11.099       0.668\n",
      "x56           -3.4192      2.670     -1.281      0.201      -8.674       1.836\n",
      "x57            0.0711      3.573      0.020      0.984      -6.962       7.104\n",
      "x58           -0.9110      1.510     -0.603      0.547      -3.883       2.061\n",
      "x59            0.4402      1.173      0.375      0.708      -1.868       2.748\n",
      "x60           -1.7534      1.420     -1.235      0.218      -4.548       1.041\n",
      "x61            1.3870      1.138      1.218      0.224      -0.854       3.628\n",
      "x62            2.5490      1.812      1.407      0.161      -1.018       6.116\n",
      "x63           -2.6342      3.185     -0.827      0.409      -8.903       3.635\n",
      "x64           -5.7485      3.324     -1.729      0.085     -12.291       0.795\n",
      "x65           -4.8625      3.092     -1.573      0.117     -10.948       1.223\n",
      "x66            7.4974      3.839      1.953      0.052      -0.059      15.053\n",
      "x67            2.9740      3.082      0.965      0.335      -3.092       9.040\n",
      "x68            0.5656      1.062      0.533      0.595      -1.524       2.656\n",
      "x69            2.7971      1.146      2.441      0.015       0.541       5.053\n",
      "x70           -1.5511      1.831     -0.847      0.398      -5.155       2.053\n",
      "x71            1.0072      1.387      0.726      0.468      -1.724       3.738\n",
      "x72            1.7760      0.755      2.353      0.019       0.290       3.262\n",
      "x73            6.8983      1.326      5.201      0.000       4.288       9.509\n",
      "x74           -0.7534      1.125     -0.670      0.504      -2.968       1.461\n",
      "x75           -4.8187      4.798     -1.004      0.316     -14.263       4.626\n",
      "x76           11.2934      2.887      3.912      0.000       5.611      16.976\n",
      "x77            1.8620      3.581      0.520      0.604      -5.187       8.911\n",
      "x78            3.1355      2.234      1.404      0.162      -1.262       7.533\n",
      "x79           -1.9697      1.710     -1.152      0.250      -5.336       1.397\n",
      "x80            7.5907      2.308      3.289      0.001       3.048      12.133\n",
      "x81            3.1606      2.549      1.240      0.216      -1.858       8.179\n",
      "x82           -6.5125      3.157     -2.063      0.040     -12.726      -0.299\n",
      "x83            5.2289      2.367      2.209      0.028       0.570       9.888\n",
      "x84           -4.2886      1.369     -3.132      0.002      -6.984      -1.594\n",
      "==============================================================================\n",
      "Omnibus:                       27.934   Durbin-Watson:                   1.647\n",
      "Prob(Omnibus):                  0.000   Jarque-Bera (JB):               38.584\n",
      "Skew:                           0.564   Prob(JB):                     4.18e-09\n",
      "Kurtosis:                       4.119   Cond. No.                     1.05e+03\n",
      "==============================================================================\n",
      "\n",
      "Warnings:\n",
      "[1] Standard Errors assume that the covariance matrix of the errors is correctly specified.\n",
      "[2] The condition number is large, 1.05e+03. This might indicate that there are\n",
      "strong multicollinearity or other numerical problems.\n"
     ]
    }
   ],
   "source": [
    "result = sm.OLS(y, X).fit()\n",
    "print(result.summary())"
   ]
  },
  {
   "cell_type": "markdown",
   "metadata": {},
   "source": [
    "Drop predictors which has high p-values."
   ]
  },
  {
   "cell_type": "code",
   "execution_count": 90,
   "metadata": {},
   "outputs": [
    {
     "data": {
      "text/plain": [
       "10     g_4126\n",
       "20     g_6330\n",
       "31     g_8660\n",
       "46    g_17136\n",
       "50    g_17631\n",
       "68    g_25724\n",
       "71    g_26873\n",
       "72    g_26984\n",
       "75    g_28914\n",
       "79    g_29804\n",
       "81    g_30426\n",
       "82    g_30914\n",
       "83    g_32432\n",
       "dtype: object"
      ]
     },
     "execution_count": 90,
     "metadata": {},
     "output_type": "execute_result"
    }
   ],
   "source": [
    "COLUMNS = var[result.pvalues < 0.05]\n",
    "COLUMNS"
   ]
  },
  {
   "cell_type": "markdown",
   "metadata": {},
   "source": [
    "With low p-value predictors, rebuild model"
   ]
  },
  {
   "cell_type": "code",
   "execution_count": 91,
   "metadata": {},
   "outputs": [
    {
     "name": "stdout",
     "output_type": "stream",
     "text": [
      "                            OLS Regression Results                            \n",
      "==============================================================================\n",
      "Dep. Variable:                      y   R-squared:                       0.953\n",
      "Model:                            OLS   Adj. R-squared:                  0.952\n",
      "Method:                 Least Squares   F-statistic:                     556.5\n",
      "Date:                Tue, 09 Jul 2019   Prob (F-statistic):          1.65e-226\n",
      "Time:                        20:51:28   Log-Likelihood:                -1172.9\n",
      "No. Observations:                 367   AIC:                             2372.\n",
      "Df Residuals:                     354   BIC:                             2423.\n",
      "Df Model:                          13                                         \n",
      "Covariance Type:            nonrobust                                         \n",
      "==============================================================================\n",
      "                 coef    std err          t      P>|t|      [0.025      0.975]\n",
      "------------------------------------------------------------------------------\n",
      "x1             8.8541      3.296      2.686      0.008       2.372      15.337\n",
      "x2            -7.3473      2.207     -3.330      0.001     -11.687      -3.008\n",
      "x3             3.3993      1.520      2.236      0.026       0.410       6.389\n",
      "x4           -12.9856      2.179     -5.961      0.000     -17.270      -8.701\n",
      "x5            -6.7054      0.986     -6.802      0.000      -8.644      -4.767\n",
      "x6             2.8684      1.071      2.679      0.008       0.763       4.974\n",
      "x7             1.0432      0.670      1.558      0.120      -0.274       2.360\n",
      "x8             3.7739      0.844      4.473      0.000       2.114       5.433\n",
      "x9            12.1015      2.846      4.252      0.000       6.504      17.699\n",
      "x10            7.6441      1.276      5.992      0.000       5.135      10.153\n",
      "x11          -11.7424      3.318     -3.539      0.000     -18.268      -5.217\n",
      "x12            6.3171      2.180      2.898      0.004       2.029      10.605\n",
      "x13           -8.6580      1.207     -7.175      0.000     -11.031      -6.285\n",
      "==============================================================================\n",
      "Omnibus:                        0.385   Durbin-Watson:                   1.764\n",
      "Prob(Omnibus):                  0.825   Jarque-Bera (JB):                0.225\n",
      "Skew:                          -0.041   Prob(JB):                        0.893\n",
      "Kurtosis:                       3.090   Cond. No.                         223.\n",
      "==============================================================================\n",
      "\n",
      "Warnings:\n",
      "[1] Standard Errors assume that the covariance matrix of the errors is correctly specified.\n"
     ]
    }
   ],
   "source": [
    "# rebuild model\n",
    "X_train = alldata.loc[alldata['Train'] == 1, 'g_1':'g_32830']\n",
    "y_train = alldata.loc[alldata['Train'] == 1, 'GA']\n",
    "X = X_train[COLUMNS].values\n",
    "y = y_train.values\n",
    "result = sm.OLS(y, X).fit()\n",
    "print(result.summary())"
   ]
  },
  {
   "cell_type": "markdown",
   "metadata": {},
   "source": [
    "Still one predictor is left with high p-value, so remove this predictor."
   ]
  },
  {
   "cell_type": "code",
   "execution_count": 95,
   "metadata": {},
   "outputs": [
    {
     "data": {
      "text/plain": [
       "10     g_4126\n",
       "20     g_6330\n",
       "31     g_8660\n",
       "46    g_17136\n",
       "50    g_17631\n",
       "68    g_25724\n",
       "72    g_26984\n",
       "75    g_28914\n",
       "79    g_29804\n",
       "81    g_30426\n",
       "82    g_30914\n",
       "83    g_32432\n",
       "dtype: object"
      ]
     },
     "execution_count": 95,
     "metadata": {},
     "output_type": "execute_result"
    }
   ],
   "source": [
    "COLUMNS = COLUMNS[result.pvalues < 0.05]\n",
    "COLUMNS"
   ]
  },
  {
   "cell_type": "code",
   "execution_count": 99,
   "metadata": {},
   "outputs": [
    {
     "name": "stdout",
     "output_type": "stream",
     "text": [
      "                            OLS Regression Results                            \n",
      "==============================================================================\n",
      "Dep. Variable:                      y   R-squared:                       0.953\n",
      "Model:                            OLS   Adj. R-squared:                  0.951\n",
      "Method:                 Least Squares   F-statistic:                     600.3\n",
      "Date:                Tue, 09 Jul 2019   Prob (F-statistic):          2.21e-227\n",
      "Time:                        20:53:40   Log-Likelihood:                -1174.2\n",
      "No. Observations:                 367   AIC:                             2372.\n",
      "Df Residuals:                     355   BIC:                             2419.\n",
      "Df Model:                          12                                         \n",
      "Covariance Type:            nonrobust                                         \n",
      "==============================================================================\n",
      "                 coef    std err          t      P>|t|      [0.025      0.975]\n",
      "------------------------------------------------------------------------------\n",
      "x1             8.4212      3.291      2.559      0.011       1.949      14.893\n",
      "x2            -7.0639      2.203     -3.206      0.001     -11.397      -2.731\n",
      "x3             3.2288      1.519      2.126      0.034       0.241       6.216\n",
      "x4           -12.7670      2.178     -5.861      0.000     -17.051      -8.483\n",
      "x5            -6.8023      0.986     -6.901      0.000      -8.741      -4.864\n",
      "x6             2.8003      1.072      2.613      0.009       0.692       4.908\n",
      "x7             3.9498      0.838      4.714      0.000       2.302       5.598\n",
      "x8            11.8111      2.846      4.150      0.000       6.214      17.408\n",
      "x9             8.2272      1.222      6.732      0.000       5.824      10.631\n",
      "x10          -11.2898      3.312     -3.409      0.001     -17.803      -4.776\n",
      "x11            8.1513      1.838      4.434      0.000       4.536      11.767\n",
      "x12           -8.9783      1.191     -7.536      0.000     -11.321      -6.635\n",
      "==============================================================================\n",
      "Omnibus:                        0.399   Durbin-Watson:                   1.775\n",
      "Prob(Omnibus):                  0.819   Jarque-Bera (JB):                0.226\n",
      "Skew:                          -0.033   Prob(JB):                        0.893\n",
      "Kurtosis:                       3.102   Cond. No.                         189.\n",
      "==============================================================================\n",
      "\n",
      "Warnings:\n",
      "[1] Standard Errors assume that the covariance matrix of the errors is correctly specified.\n"
     ]
    }
   ],
   "source": [
    "# rebuild model\n",
    "X_train = alldata.loc[alldata['Train'] == 1, 'g_1':'g_32830']\n",
    "y_train = alldata.loc[alldata['Train'] == 1, 'GA']\n",
    "X = X_train[COLUMNS].values\n",
    "y = y_train.values\n",
    "model = sm.OLS(y, X).fit()\n",
    "print(model.summary())"
   ]
  },
  {
   "cell_type": "code",
   "execution_count": 100,
   "metadata": {},
   "outputs": [
    {
     "data": {
      "text/html": [
       "<div>\n",
       "<style scoped>\n",
       "    .dataframe tbody tr th:only-of-type {\n",
       "        vertical-align: middle;\n",
       "    }\n",
       "\n",
       "    .dataframe tbody tr th {\n",
       "        vertical-align: top;\n",
       "    }\n",
       "\n",
       "    .dataframe thead th {\n",
       "        text-align: right;\n",
       "    }\n",
       "</style>\n",
       "<table border=\"1\" class=\"dataframe\">\n",
       "  <thead>\n",
       "    <tr style=\"text-align: right;\">\n",
       "      <th></th>\n",
       "      <th>SampleID</th>\n",
       "      <th>GA</th>\n",
       "    </tr>\n",
       "  </thead>\n",
       "  <tbody>\n",
       "    <tr>\n",
       "      <th>0</th>\n",
       "      <td>Tarca_003_P1A03</td>\n",
       "      <td>20.4</td>\n",
       "    </tr>\n",
       "    <tr>\n",
       "      <th>1</th>\n",
       "      <td>Tarca_006_P1A06</td>\n",
       "      <td>26.4</td>\n",
       "    </tr>\n",
       "    <tr>\n",
       "      <th>2</th>\n",
       "      <td>Tarca_011_P1A11</td>\n",
       "      <td>24.8</td>\n",
       "    </tr>\n",
       "    <tr>\n",
       "      <th>3</th>\n",
       "      <td>Tarca_012_P1A12</td>\n",
       "      <td>37.3</td>\n",
       "    </tr>\n",
       "    <tr>\n",
       "      <th>4</th>\n",
       "      <td>Tarca_015_P1B03</td>\n",
       "      <td>24.8</td>\n",
       "    </tr>\n",
       "  </tbody>\n",
       "</table>\n",
       "</div>"
      ],
      "text/plain": [
       "          SampleID    GA\n",
       "0  Tarca_003_P1A03  20.4\n",
       "1  Tarca_006_P1A06  26.4\n",
       "2  Tarca_011_P1A11  24.8\n",
       "3  Tarca_012_P1A12  37.3\n",
       "4  Tarca_015_P1B03  24.8"
      ]
     },
     "execution_count": 100,
     "metadata": {},
     "output_type": "execute_result"
    }
   ],
   "source": [
    "# predict test set\n",
    "X_test = alldata.loc[alldata['Train'] == 0, COLUMNS].values\n",
    "test_pred = model.predict(X_test).round(1)\n",
    "result = pd.concat([pd.Series(ID_test), pd.Series(test_pred)],\n",
    "                  axis = 1,\n",
    "                  keys = ['SampleID', 'GA'])\n",
    "result.head()"
   ]
  },
  {
   "cell_type": "code",
   "execution_count": 101,
   "metadata": {},
   "outputs": [
    {
     "data": {
      "text/plain": [
       "count    368.000000\n",
       "mean      26.747011\n",
       "std        6.385913\n",
       "min        9.900000\n",
       "25%       21.775000\n",
       "50%       26.450000\n",
       "75%       31.725000\n",
       "max       47.700000\n",
       "Name: GA, dtype: float64"
      ]
     },
     "execution_count": 101,
     "metadata": {},
     "output_type": "execute_result"
    }
   ],
   "source": [
    "result['GA'].describe()"
   ]
  }
 ],
 "metadata": {
  "kernelspec": {
   "display_name": "Python 3",
   "language": "python",
   "name": "python3"
  },
  "language_info": {
   "codemirror_mode": {
    "name": "ipython",
    "version": 3
   },
   "file_extension": ".py",
   "mimetype": "text/x-python",
   "name": "python",
   "nbconvert_exporter": "python",
   "pygments_lexer": "ipython3",
   "version": "3.7.1"
  }
 },
 "nbformat": 4,
 "nbformat_minor": 2
}
