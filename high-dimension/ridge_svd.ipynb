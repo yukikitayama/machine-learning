{
 "cells": [
  {
   "cell_type": "code",
   "execution_count": 32,
   "id": "a951af23",
   "metadata": {},
   "outputs": [],
   "source": [
    "from sklearn.linear_model import Ridge\n",
    "from sklearn.preprocessing import StandardScaler\n",
    "from sklearn.utils import shuffle\n",
    "import pandas as pd\n",
    "import numpy as np\n",
    "import matplotlib.pyplot as plt\n",
    "from collections import Counter\n",
    "pd.set_option('display.max_columns', None)\n",
    "pd.set_option('expand_frame_repr', False)\n",
    "plt.style.use('default')"
   ]
  },
  {
   "cell_type": "code",
   "execution_count": 20,
   "id": "bb346970",
   "metadata": {},
   "outputs": [],
   "source": [
    "CSV_01 = '../data/creditcard.csv'\n",
    "RANDOM_STATE = 0\n",
    "ALPHA = 1.0  # Ridge Lambda regularization parameter"
   ]
  },
  {
   "cell_type": "code",
   "execution_count": 14,
   "id": "25a4ae85",
   "metadata": {},
   "outputs": [
    {
     "name": "stdout",
     "output_type": "stream",
     "text": [
      "(284807, 31)\n",
      "(284807, 29)\n",
      "(984, 29)\n"
     ]
    }
   ],
   "source": [
    "# Read imbalanced original data\n",
    "df = pd.read_csv(CSV_01)\n",
    "print(df.shape)\n",
    "\n",
    "# Organize columns\n",
    "df = df.drop(columns=['Time', 'Amount'])\n",
    "response = df.pop('Class')\n",
    "df.insert(0, 'Class', response)\n",
    "print(df.shape)\n",
    "\n",
    "# Make it balanced\n",
    "df = shuffle(df, random_state=RANDOM_STATE)\n",
    "df_1 = df.loc[df['Class'] == 1]\n",
    "df_0 = df.loc[df['Class'] == 0][:len(df_1)]\n",
    "df = pd.concat([df_1, df_0])\n",
    "df = shuffle(df, random_state=RANDOM_STATE)\n",
    "print(df.shape)"
   ]
  },
  {
   "cell_type": "code",
   "execution_count": 15,
   "id": "ab348bed",
   "metadata": {},
   "outputs": [
    {
     "data": {
      "text/html": [
       "<div>\n",
       "<style scoped>\n",
       "    .dataframe tbody tr th:only-of-type {\n",
       "        vertical-align: middle;\n",
       "    }\n",
       "\n",
       "    .dataframe tbody tr th {\n",
       "        vertical-align: top;\n",
       "    }\n",
       "\n",
       "    .dataframe thead th {\n",
       "        text-align: right;\n",
       "    }\n",
       "</style>\n",
       "<table border=\"1\" class=\"dataframe\">\n",
       "  <thead>\n",
       "    <tr style=\"text-align: right;\">\n",
       "      <th></th>\n",
       "      <th>Class</th>\n",
       "      <th>V1</th>\n",
       "      <th>V2</th>\n",
       "      <th>V3</th>\n",
       "      <th>V4</th>\n",
       "      <th>V5</th>\n",
       "      <th>V6</th>\n",
       "      <th>V7</th>\n",
       "      <th>V8</th>\n",
       "      <th>V9</th>\n",
       "      <th>V10</th>\n",
       "      <th>V11</th>\n",
       "      <th>V12</th>\n",
       "      <th>V13</th>\n",
       "      <th>V14</th>\n",
       "      <th>V15</th>\n",
       "      <th>V16</th>\n",
       "      <th>V17</th>\n",
       "      <th>V18</th>\n",
       "      <th>V19</th>\n",
       "      <th>V20</th>\n",
       "      <th>V21</th>\n",
       "      <th>V22</th>\n",
       "      <th>V23</th>\n",
       "      <th>V24</th>\n",
       "      <th>V25</th>\n",
       "      <th>V26</th>\n",
       "      <th>V27</th>\n",
       "      <th>V28</th>\n",
       "    </tr>\n",
       "  </thead>\n",
       "  <tbody>\n",
       "    <tr>\n",
       "      <th>74794</th>\n",
       "      <td>1</td>\n",
       "      <td>-6.003422</td>\n",
       "      <td>-3.930731</td>\n",
       "      <td>-0.007045</td>\n",
       "      <td>1.714669</td>\n",
       "      <td>3.414667</td>\n",
       "      <td>-2.329583</td>\n",
       "      <td>-1.901512</td>\n",
       "      <td>-2.746111</td>\n",
       "      <td>0.887673</td>\n",
       "      <td>-0.049233</td>\n",
       "      <td>-0.153131</td>\n",
       "      <td>-0.814310</td>\n",
       "      <td>-1.894796</td>\n",
       "      <td>-0.831483</td>\n",
       "      <td>1.387289</td>\n",
       "      <td>1.188907</td>\n",
       "      <td>0.536817</td>\n",
       "      <td>-0.051403</td>\n",
       "      <td>-1.231386</td>\n",
       "      <td>-4.128186</td>\n",
       "      <td>1.101671</td>\n",
       "      <td>-0.992494</td>\n",
       "      <td>-0.698259</td>\n",
       "      <td>0.139898</td>\n",
       "      <td>-0.205151</td>\n",
       "      <td>-0.472412</td>\n",
       "      <td>1.775378</td>\n",
       "      <td>-0.104285</td>\n",
       "    </tr>\n",
       "    <tr>\n",
       "      <th>264755</th>\n",
       "      <td>0</td>\n",
       "      <td>0.285994</td>\n",
       "      <td>-3.500172</td>\n",
       "      <td>0.120214</td>\n",
       "      <td>2.870073</td>\n",
       "      <td>-2.219233</td>\n",
       "      <td>1.735747</td>\n",
       "      <td>-0.809120</td>\n",
       "      <td>0.517737</td>\n",
       "      <td>1.304203</td>\n",
       "      <td>0.572238</td>\n",
       "      <td>-0.843588</td>\n",
       "      <td>-0.095421</td>\n",
       "      <td>-1.652901</td>\n",
       "      <td>-0.781826</td>\n",
       "      <td>-2.591612</td>\n",
       "      <td>1.292730</td>\n",
       "      <td>-0.278208</td>\n",
       "      <td>0.348355</td>\n",
       "      <td>-0.443393</td>\n",
       "      <td>1.347581</td>\n",
       "      <td>0.495849</td>\n",
       "      <td>-0.060820</td>\n",
       "      <td>-0.444735</td>\n",
       "      <td>-0.340144</td>\n",
       "      <td>-1.153573</td>\n",
       "      <td>2.258126</td>\n",
       "      <td>-0.248557</td>\n",
       "      <td>0.067937</td>\n",
       "    </tr>\n",
       "    <tr>\n",
       "      <th>223572</th>\n",
       "      <td>1</td>\n",
       "      <td>-2.729482</td>\n",
       "      <td>3.312495</td>\n",
       "      <td>-4.242710</td>\n",
       "      <td>5.036985</td>\n",
       "      <td>-0.376561</td>\n",
       "      <td>-1.532462</td>\n",
       "      <td>-3.449159</td>\n",
       "      <td>1.856839</td>\n",
       "      <td>-3.623334</td>\n",
       "      <td>-5.653638</td>\n",
       "      <td>3.942316</td>\n",
       "      <td>-5.883724</td>\n",
       "      <td>-1.347814</td>\n",
       "      <td>-9.266120</td>\n",
       "      <td>-2.459556</td>\n",
       "      <td>-2.205644</td>\n",
       "      <td>-5.709087</td>\n",
       "      <td>-1.113937</td>\n",
       "      <td>-1.556530</td>\n",
       "      <td>0.164288</td>\n",
       "      <td>0.727415</td>\n",
       "      <td>-0.301432</td>\n",
       "      <td>-0.502433</td>\n",
       "      <td>-0.462309</td>\n",
       "      <td>0.510683</td>\n",
       "      <td>0.046665</td>\n",
       "      <td>0.514646</td>\n",
       "      <td>0.140999</td>\n",
       "    </tr>\n",
       "    <tr>\n",
       "      <th>119634</th>\n",
       "      <td>0</td>\n",
       "      <td>0.364647</td>\n",
       "      <td>-1.868803</td>\n",
       "      <td>0.195291</td>\n",
       "      <td>0.395567</td>\n",
       "      <td>-1.140283</td>\n",
       "      <td>0.370634</td>\n",
       "      <td>-0.015770</td>\n",
       "      <td>-0.027628</td>\n",
       "      <td>1.157162</td>\n",
       "      <td>-0.683766</td>\n",
       "      <td>-1.618061</td>\n",
       "      <td>0.478853</td>\n",
       "      <td>0.640767</td>\n",
       "      <td>-0.588908</td>\n",
       "      <td>-0.213943</td>\n",
       "      <td>0.216853</td>\n",
       "      <td>-0.230232</td>\n",
       "      <td>-0.263339</td>\n",
       "      <td>0.690443</td>\n",
       "      <td>0.948612</td>\n",
       "      <td>-0.007493</td>\n",
       "      <td>-0.815611</td>\n",
       "      <td>-0.467571</td>\n",
       "      <td>-0.500501</td>\n",
       "      <td>0.109927</td>\n",
       "      <td>0.952522</td>\n",
       "      <td>-0.122180</td>\n",
       "      <td>0.087820</td>\n",
       "    </tr>\n",
       "    <tr>\n",
       "      <th>82678</th>\n",
       "      <td>0</td>\n",
       "      <td>1.277862</td>\n",
       "      <td>-1.218097</td>\n",
       "      <td>0.436517</td>\n",
       "      <td>-1.443919</td>\n",
       "      <td>-0.943716</td>\n",
       "      <td>0.816429</td>\n",
       "      <td>-1.234908</td>\n",
       "      <td>0.338397</td>\n",
       "      <td>-1.845883</td>\n",
       "      <td>1.249644</td>\n",
       "      <td>0.727192</td>\n",
       "      <td>-0.541243</td>\n",
       "      <td>0.093744</td>\n",
       "      <td>-0.108782</td>\n",
       "      <td>1.664313</td>\n",
       "      <td>-1.748267</td>\n",
       "      <td>1.848211</td>\n",
       "      <td>-2.056222</td>\n",
       "      <td>-1.922357</td>\n",
       "      <td>-0.460539</td>\n",
       "      <td>-0.066430</td>\n",
       "      <td>0.302245</td>\n",
       "      <td>0.191320</td>\n",
       "      <td>-0.666031</td>\n",
       "      <td>0.013571</td>\n",
       "      <td>-0.098652</td>\n",
       "      <td>0.096963</td>\n",
       "      <td>0.011778</td>\n",
       "    </tr>\n",
       "  </tbody>\n",
       "</table>\n",
       "</div>"
      ],
      "text/plain": [
       "        Class        V1        V2        V3        V4        V5        V6        V7        V8        V9       V10       V11       V12       V13       V14       V15       V16       V17       V18       V19       V20       V21       V22       V23       V24       V25       V26       V27       V28\n",
       "74794       1 -6.003422 -3.930731 -0.007045  1.714669  3.414667 -2.329583 -1.901512 -2.746111  0.887673 -0.049233 -0.153131 -0.814310 -1.894796 -0.831483  1.387289  1.188907  0.536817 -0.051403 -1.231386 -4.128186  1.101671 -0.992494 -0.698259  0.139898 -0.205151 -0.472412  1.775378 -0.104285\n",
       "264755      0  0.285994 -3.500172  0.120214  2.870073 -2.219233  1.735747 -0.809120  0.517737  1.304203  0.572238 -0.843588 -0.095421 -1.652901 -0.781826 -2.591612  1.292730 -0.278208  0.348355 -0.443393  1.347581  0.495849 -0.060820 -0.444735 -0.340144 -1.153573  2.258126 -0.248557  0.067937\n",
       "223572      1 -2.729482  3.312495 -4.242710  5.036985 -0.376561 -1.532462 -3.449159  1.856839 -3.623334 -5.653638  3.942316 -5.883724 -1.347814 -9.266120 -2.459556 -2.205644 -5.709087 -1.113937 -1.556530  0.164288  0.727415 -0.301432 -0.502433 -0.462309  0.510683  0.046665  0.514646  0.140999\n",
       "119634      0  0.364647 -1.868803  0.195291  0.395567 -1.140283  0.370634 -0.015770 -0.027628  1.157162 -0.683766 -1.618061  0.478853  0.640767 -0.588908 -0.213943  0.216853 -0.230232 -0.263339  0.690443  0.948612 -0.007493 -0.815611 -0.467571 -0.500501  0.109927  0.952522 -0.122180  0.087820\n",
       "82678       0  1.277862 -1.218097  0.436517 -1.443919 -0.943716  0.816429 -1.234908  0.338397 -1.845883  1.249644  0.727192 -0.541243  0.093744 -0.108782  1.664313 -1.748267  1.848211 -2.056222 -1.922357 -0.460539 -0.066430  0.302245  0.191320 -0.666031  0.013571 -0.098652  0.096963  0.011778"
      ]
     },
     "execution_count": 15,
     "metadata": {},
     "output_type": "execute_result"
    }
   ],
   "source": [
    "df.head()"
   ]
  },
  {
   "cell_type": "code",
   "execution_count": 18,
   "id": "ce1f1002",
   "metadata": {},
   "outputs": [
    {
     "name": "stdout",
     "output_type": "stream",
     "text": [
      "Counter({1: 492, 0: 492})\n"
     ]
    }
   ],
   "source": [
    "c = Counter(df['Class'])\n",
    "print(c)"
   ]
  },
  {
   "cell_type": "code",
   "execution_count": 35,
   "id": "6d8b3c63",
   "metadata": {},
   "outputs": [],
   "source": [
    "model = Ridge(alpha=ALPHA)\n",
    "\n",
    "df_tmp = df.copy()\n",
    "y = df_tmp.pop('Class')\n",
    "X = df_tmp\n",
    "features = X.columns\n",
    "scaler = StandardScaler()\n",
    "X = scaler.fit_transform(X)\n",
    "\n",
    "model.fit(X, y)\n",
    "\n",
    "ridge_coef = model.coef_"
   ]
  },
  {
   "cell_type": "code",
   "execution_count": 39,
   "id": "8291c41a",
   "metadata": {},
   "outputs": [
    {
     "data": {
      "image/png": "[encoded data removed]",
      "text/plain": [
       "<Figure size 640x480 with 1 Axes>"
      ]
     },
     "metadata": {},
     "output_type": "display_data"
    }
   ],
   "source": [
    "zipped_lists = zip(ridge_coef, features)\n",
    "sorted_pairs = sorted(zipped_lists, reverse=True)\n",
    "tuples = zip(*sorted_pairs)\n",
    "ridge_coef, features = [list(tuple) for tuple in tuples]\n",
    "\n",
    "plt.bar(features, ridge_coef)\n",
    "plt.title('Ridge regression')\n",
    "plt.xlabel('Features')\n",
    "plt.ylabel('Ridge coefficient')\n",
    "plt.xticks(rotation=90)\n",
    "plt.grid()\n",
    "plt.tight_layout()\n",
    "plt.show()"
   ]
  },
  {
   "cell_type": "code",
   "execution_count": 50,
   "id": "7ca0125e",
   "metadata": {},
   "outputs": [
    {
     "name": "stdout",
     "output_type": "stream",
     "text": [
      "X: (984, 28), u: (984, 984), s: (28,), vh: (28, 28)\n"
     ]
    }
   ],
   "source": [
    "u, s, vh = np.linalg.svd(X)\n",
    "print(f'X: {X.shape}, u: {u.shape}, s: {s.shape}, vh: {vh.shape}')"
   ]
  },
  {
   "cell_type": "code",
   "execution_count": 55,
   "id": "97f1cbcc",
   "metadata": {},
   "outputs": [
    {
     "data": {
      "image/png": "[encoded data removed]",
      "text/plain": [
       "<Figure size 640x480 with 1 Axes>"
      ]
     },
     "metadata": {},
     "output_type": "display_data"
    }
   ],
   "source": [
    "plt.bar(range(len(s)), s)\n",
    "plt.show()"
   ]
  }
 ],
 "metadata": {
  "kernelspec": {
   "display_name": "env-machine-learning",
   "language": "python",
   "name": "env-machine-learning"
  },
  "language_info": {
   "codemirror_mode": {
    "name": "ipython",
    "version": 3
   },
   "file_extension": ".py",
   "mimetype": "text/x-python",
   "name": "python",
   "nbconvert_exporter": "python",
   "pygments_lexer": "ipython3",
   "version": "3.9.5"
  }
 },
 "nbformat": 4,
 "nbformat_minor": 5
}
