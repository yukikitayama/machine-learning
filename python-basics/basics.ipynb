{
 "cells": [
  {
   "cell_type": "markdown",
   "id": "fb5bcdda",
   "metadata": {},
   "source": [
    "## String shift"
   ]
  },
  {
   "cell_type": "code",
   "execution_count": 3,
   "id": "1414a240",
   "metadata": {},
   "outputs": [
    {
     "name": "stdout",
     "output_type": "stream",
     "text": [
      "False\n",
      "False\n",
      "False\n",
      "True\n",
      "False\n"
     ]
    }
   ],
   "source": [
    "a = 'abcde'\n",
    "b = 'cdeab'\n",
    "\n",
    "\n",
    "def can_shift(a: str, b: str) -> bool:\n",
    "    \n",
    "    if len(a) != len(b):\n",
    "        return False\n",
    "    \n",
    "    for i in range(len(b)):\n",
    "        \n",
    "        if a == b[i:] + b[:i]:\n",
    "            return True\n",
    "        \n",
    "    return False\n",
    "\n",
    "\n",
    "can_shift(a, b)"
   ]
  },
  {
   "cell_type": "code",
   "execution_count": null,
   "id": "3deedb41",
   "metadata": {},
   "outputs": [],
   "source": []
  }
 ],
 "metadata": {
  "kernelspec": {
   "display_name": "env-machine-learning",
   "language": "python",
   "name": "env-machine-learning"
  },
  "language_info": {
   "codemirror_mode": {
    "name": "ipython",
    "version": 3
   },
   "file_extension": ".py",
   "mimetype": "text/x-python",
   "name": "python",
   "nbconvert_exporter": "python",
   "pygments_lexer": "ipython3",
   "version": "3.9.5"
  }
 },
 "nbformat": 4,
 "nbformat_minor": 5
}
