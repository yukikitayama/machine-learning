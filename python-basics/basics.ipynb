{
 "cells": [
  {
   "cell_type": "markdown",
   "id": "fb5bcdda",
   "metadata": {},
   "source": [
    "## String shift"
   ]
  },
  {
   "cell_type": "code",
   "execution_count": 3,
   "id": "1414a240",
   "metadata": {},
   "outputs": [
    {
     "name": "stdout",
     "output_type": "stream",
     "text": [
      "False\n",
      "False\n",
      "False\n",
      "True\n",
      "False\n"
     ]
    }
   ],
   "source": [
    "a = 'abcde'\n",
    "b = 'cdeab'\n",
    "\n",
    "\n",
    "def can_shift(a: str, b: str) -> bool:\n",
    "    \n",
    "    if len(a) != len(b):\n",
    "        return False\n",
    "    \n",
    "    for i in range(len(b)):\n",
    "        \n",
    "        if a == b[i:] + b[:i]:\n",
    "            return True\n",
    "        \n",
    "    return False\n",
    "\n",
    "\n",
    "can_shift(a, b)"
   ]
  },
  {
   "cell_type": "markdown",
   "id": "2680516e",
   "metadata": {},
   "source": [
    "## Bucket test scores"
   ]
  },
  {
   "cell_type": "code",
   "execution_count": 26,
   "id": "fe2e31fb",
   "metadata": {},
   "outputs": [
    {
     "name": "stdout",
     "output_type": "stream",
     "text": [
      "   user_id  grade  test score\n",
      "0        1     10          85\n",
      "1        2     10          60\n",
      "2        3     11          90\n",
      "3        4     10          30\n",
      "4        5     11          99\n",
      "   grade test score percentage\n",
      "0     10        <50        33%\n",
      "1     10        <75        66%\n",
      "2     10        <90       100%\n",
      "3     10       <100       100%\n",
      "4     11        <50         0%\n",
      "5     11        <75         0%\n",
      "6     11        <90        50%\n",
      "7     11       <100       100%\n"
     ]
    }
   ],
   "source": [
    "import pandas as pd\n",
    "\n",
    "\n",
    "df_grades = pd.DataFrame({\n",
    "    'user_id': [1, 2, 3, 4, 5],\n",
    "    'grade': [10, 10, 11, 10, 11],\n",
    "    'test score': [85, 60, 90, 30, 99]\n",
    "})\n",
    "\n",
    "print(df_grades)\n",
    "\n",
    "\n",
    "def bucket_test_scores(df):\n",
    "\n",
    "    bins = [0, 50, 75, 90, 100]\n",
    "    labels = ['<50', '<75', '<90', '<100']\n",
    "    df['test score'] = pd.cut(\n",
    "        x=df['test score'],\n",
    "        bins=bins,\n",
    "        labels=labels\n",
    "    )\n",
    "\n",
    "    df = (df\n",
    "        .groupby(['grade', 'test score'])\n",
    "        .agg({'user_id': 'count'})\n",
    "        .groupby(['grade']).apply(lambda x: 100 * x / float(x.sum()))\n",
    "        .groupby(['grade']).cumsum()\n",
    "        .reset_index()\n",
    "    )\n",
    "    \n",
    "    df['percentage'] = df.user_id.astype(int).astype(str) + '%'\n",
    "    df = df.drop(columns=['user_id'])\n",
    "    \n",
    "    return df\n",
    "\n",
    "\n",
    "print(bucket_test_scores(df_grades))"
   ]
  },
  {
   "cell_type": "markdown",
   "id": "22841bdd",
   "metadata": {},
   "source": [
    "- Within grade and within score bucket, cumulatively count the number of user_id\n",
    "- Divide the numbers of the total number of user_id within grade"
   ]
  }
 ],
 "metadata": {
  "kernelspec": {
   "display_name": "env-machine-learning",
   "language": "python",
   "name": "env-machine-learning"
  },
  "language_info": {
   "codemirror_mode": {
    "name": "ipython",
    "version": 3
   },
   "file_extension": ".py",
   "mimetype": "text/x-python",
   "name": "python",
   "nbconvert_exporter": "python",
   "pygments_lexer": "ipython3",
   "version": "3.9.5"
  }
 },
 "nbformat": 4,
 "nbformat_minor": 5
}
