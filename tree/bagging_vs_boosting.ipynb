{
 "cells": [
  {
   "cell_type": "markdown",
   "id": "af7e1c8c",
   "metadata": {},
   "source": [
    "# Bagging vs. Boosting\n",
    "\n",
    "We are comparing 2 machine learning algorithms. In which case do we use bagging versus boosting? Explain an example of the tradeoffs between the two.\n",
    "\n",
    "Both are ensemble learning. We train multiple estimators and combine to form a single model. The main difference is that bagging estimators are independent and boosting estimators are dependent.\n",
    "\n",
    "Bagging stands for bootstrap aggregating. Individual estimators are trained with randomly sampled data with replacement. The final model is the weighted average of the individual estimators. Random Forest is an example of bagging. Because each individual estimator is trained independently, it's useful for bagging to be used if **parallel computing** is available. Bagging **reduce overfitting** because each estimator is trained on random sample and get the average.\n",
    "\n",
    "Boosting is dependent because weak learners are trained sequentially. The sequential training improve learners by using the information gained at each previous one. The errors are reduced at each step. But boosting cannot use parallel computing. Boosting is to optimized for the entire dataset, but bagging is a part of the entire dataset. Boosting could overfit but could be mitigated by reducing tree depth. In imbalanced class dataset, boosting could be better than bagging because boosting uses the entire dataset, compute weight from the missed minority class errors and use it at the next sequence, but bagging has fewer data from the minority class in the random sample."
   ]
  }
 ],
 "metadata": {
  "kernelspec": {
   "display_name": "env-machine-learning",
   "language": "python",
   "name": "env-machine-learning"
  },
  "language_info": {
   "codemirror_mode": {
    "name": "ipython",
    "version": 3
   },
   "file_extension": ".py",
   "mimetype": "text/x-python",
   "name": "python",
   "nbconvert_exporter": "python",
   "pygments_lexer": "ipython3",
   "version": "3.9.5"
  }
 },
 "nbformat": 4,
 "nbformat_minor": 5
}
