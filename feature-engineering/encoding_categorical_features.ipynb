{
 "cells": [
  {
   "cell_type": "markdown",
   "id": "22f167c1",
   "metadata": {},
   "source": [
    "# Encoding Categorical Features\n",
    "\n",
    "How would we encode a categorical feature which has thousands of distinct values?\n",
    "\n",
    "In regression, we can sort the feature values by the response, and then split the feature into buckets based on the grouping of the response.\n",
    "\n",
    "\n",
    "## Resource\n",
    "\n",
    "- []()"
   ]
  }
 ],
 "metadata": {
  "kernelspec": {
   "display_name": "env-machine-learning",
   "language": "python",
   "name": "env-machine-learning"
  },
  "language_info": {
   "codemirror_mode": {
    "name": "ipython",
    "version": 3
   },
   "file_extension": ".py",
   "mimetype": "text/x-python",
   "name": "python",
   "nbconvert_exporter": "python",
   "pygments_lexer": "ipython3",
   "version": "3.9.5"
  }
 },
 "nbformat": 4,
 "nbformat_minor": 5
}
