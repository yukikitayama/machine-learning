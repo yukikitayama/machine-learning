{
 "cells": [
  {
   "cell_type": "markdown",
   "id": "3497f81a",
   "metadata": {},
   "source": [
    "# Matrix Asymmetry Index (MAI)"
   ]
  },
  {
   "cell_type": "code",
   "execution_count": 15,
   "id": "4484794f",
   "metadata": {},
   "outputs": [],
   "source": [
    "import numpy as np\n",
    "import matplotlib.pyplot as plt"
   ]
  },
  {
   "cell_type": "markdown",
   "id": "2b517069",
   "metadata": {},
   "source": [
    "## Skewed-symmetric matrix and its index"
   ]
  },
  {
   "cell_type": "code",
   "execution_count": 14,
   "id": "e021dbb9",
   "metadata": {},
   "outputs": [
    {
     "name": "stdout",
     "output_type": "stream",
     "text": [
      "Matrix asymmetry index of skewed-symmetric matrix: 1.0\n"
     ]
    }
   ],
   "source": [
    "A = np.array([\n",
    "    [0, 1],\n",
    "    [-1, 0]\n",
    "])\n",
    "\n",
    "A_tilda = (A - A.T) / 2\n",
    "\n",
    "a_i = np.linalg.norm(A_tilda) / np.linalg.norm(A)\n",
    "\n",
    "print(f'Matrix asymmetry index of skewed-symmetric matrix: {a_i}')"
   ]
  },
  {
   "cell_type": "markdown",
   "id": "2bf7fb23",
   "metadata": {},
   "source": [
    "## Plot MAI"
   ]
  },
  {
   "cell_type": "code",
   "execution_count": 16,
   "id": "b4d69fe2",
   "metadata": {},
   "outputs": [],
   "source": [
    "def MAI(A):\n",
    "    Aanti = (A - A.T) / 2\n",
    "    mai = np.linalg.norm(Aanti) / np.linalg.norm(A)\n",
    "    return mai"
   ]
  },
  {
   "cell_type": "code",
   "execution_count": 22,
   "id": "acb92291",
   "metadata": {},
   "outputs": [
    {
     "name": "stdout",
     "output_type": "stream",
     "text": [
      "Symmetric matrix\n",
      "[[ 0.2  1.2 -0.7 -0.6 -0.2]\n",
      " [ 1.2  0.5 -0.6 -0.8  0.8]\n",
      " [-0.7 -0.6  1.7 -0.3  1.8]\n",
      " [-0.6 -0.8 -0.3  1.1  1.2]\n",
      " [-0.2  0.8  1.8  1.2  0.3]]\n",
      "\n",
      "MAI of symmetric matrix: 0.0\n",
      "\n",
      "Skewed-symmetric matrix\n",
      "[[ 0.   0.2 -0.8 -0.9 -0.5]\n",
      " [-0.2  0.   0.2 -0.3  0.4]\n",
      " [ 0.8 -0.2  0.   0.1 -0.2]\n",
      " [ 0.9  0.3 -0.1  0.  -0.2]\n",
      " [ 0.5 -0.4  0.2  0.2  0. ]]\n",
      "\n",
      "MAI of skewed-symmetric matrix: 1.0\n",
      "\n",
      "Random matrix\n",
      "[[-0.1  2.2 -0.2  0.4  0.4]\n",
      " [-0.6  0.3  0.2 -0.1 -0.1]\n",
      " [-0.3  1.1  0.6  1.2 -0.3]\n",
      " [-0.2  3.2 -1.7 -0.1 -0.4]\n",
      " [-1.1 -1.5 -0.7 -0.8  1. ]]\n",
      "\n",
      "MAI of random matrix: 0.7676128262209171\n",
      "\n"
     ]
    }
   ],
   "source": [
    "# Symmetric matrix\n",
    "A = np.random.randn(5, 5)\n",
    "A = (A + A.T) / 2\n",
    "print('Symmetric matrix')\n",
    "print(np.round(A, 1))\n",
    "print()\n",
    "\n",
    "print(f'MAI of symmetric matrix: {MAI(A)}')\n",
    "print()\n",
    "\n",
    "# Skewed-symmetric matrix\n",
    "A = np.random.randn(5, 5)\n",
    "A = (A - A.T) / 2\n",
    "print('Skewed-symmetric matrix')\n",
    "print(np.round(A, 1))\n",
    "print()\n",
    "\n",
    "print(f'MAI of skewed-symmetric matrix: {MAI(A)}')\n",
    "print()\n",
    "\n",
    "# Random matrix\n",
    "A = np.random.randn(5, 5)\n",
    "print('Random matrix')\n",
    "print(np.round(A, 1))\n",
    "print()\n",
    "\n",
    "print(f'MAI of random matrix: {MAI(A)}')\n",
    "print()"
   ]
  },
  {
   "cell_type": "code",
   "execution_count": 32,
   "id": "53d7bc64",
   "metadata": {},
   "outputs": [
    {
     "data": {
      "image/png": "[encoded data removed]",
      "text/plain": [
       "<Figure size 432x288 with 1 Axes>"
      ]
     },
     "metadata": {
      "needs_background": "light"
     },
     "output_type": "display_data"
    }
   ],
   "source": [
    "ps = np.linspace(0, 1, 100)\n",
    "mais = []\n",
    "\n",
    "for i in range(len(ps)):\n",
    "    A = np.random.randn(5, 5)\n",
    "    p = ps[i]\n",
    "    B = (1 - p) * (A + A.T) + p * (A - A.T)\n",
    "    mai = MAI(B)\n",
    "    mais.append(mai)\n",
    "\n",
    "plt.plot(ps, mais)\n",
    "plt.grid()\n",
    "plt.xlabel('left: symmetric matrix, right: skewed-symmetric matrix')\n",
    "plt.ylabel('Matrix asymmetry index')\n",
    "plt.show()"
   ]
  }
 ],
 "metadata": {
  "kernelspec": {
   "display_name": "env-machine-learning",
   "language": "python",
   "name": "env-machine-learning"
  },
  "language_info": {
   "codemirror_mode": {
    "name": "ipython",
    "version": 3
   },
   "file_extension": ".py",
   "mimetype": "text/x-python",
   "name": "python",
   "nbconvert_exporter": "python",
   "pygments_lexer": "ipython3",
   "version": "3.9.5"
  }
 },
 "nbformat": 4,
 "nbformat_minor": 5
}
