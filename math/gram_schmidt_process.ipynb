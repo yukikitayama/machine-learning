{
 "cells": [
  {
   "cell_type": "markdown",
   "id": "1fc97182",
   "metadata": {},
   "source": [
    "# Gram-Schmidt Process"
   ]
  },
  {
   "cell_type": "code",
   "execution_count": 1,
   "id": "accf589c",
   "metadata": {},
   "outputs": [],
   "source": [
    "import numpy as np\n",
    "import matplotlib.pyplot as plt"
   ]
  },
  {
   "cell_type": "markdown",
   "id": "1121924c",
   "metadata": {},
   "source": [
    "## Manual implementation of Gram-Schmidt Process"
   ]
  },
  {
   "cell_type": "code",
   "execution_count": 10,
   "id": "c9eb687d",
   "metadata": {},
   "outputs": [
    {
     "name": "stdout",
     "output_type": "stream",
     "text": [
      "Q^T Q by computed Q\n",
      "[[ 1. -0. -0. -0.]\n",
      " [-0.  1.  0. -0.]\n",
      " [-0.  0.  1.  0.]\n",
      " [-0. -0.  0.  1.]]\n"
     ]
    },
    {
     "data": {
      "image/png": "[encoded data removed]",
      "text/plain": [
       "<Figure size 432x288 with 1 Axes>"
      ]
     },
     "metadata": {
      "needs_background": "light"
     },
     "output_type": "display_data"
    },
    {
     "name": "stdout",
     "output_type": "stream",
     "text": [
      "Computed Q\n",
      "[[ 0.152 -0.63   0.739  0.184]\n",
      " [-0.8    0.073  0.079  0.59 ]\n",
      " [-0.2    0.591  0.652 -0.431]\n",
      " [ 0.545  0.499  0.149  0.657]]\n",
      "\n",
      "Q from QR decomposition function\n",
      "[[-0.152 -0.63  -0.739  0.184]\n",
      " [ 0.8    0.073 -0.079  0.59 ]\n",
      " [ 0.2    0.591 -0.652 -0.431]\n",
      " [-0.545  0.499 -0.149  0.657]]\n",
      "\n",
      "It could have sign flips\n"
     ]
    }
   ],
   "source": [
    "m = 4\n",
    "n = 4\n",
    "\n",
    "# Given matrix\n",
    "A = np.random.randn(m, n)\n",
    "\n",
    "# Orthogonalized matrix by Gram-Schmidt Process\n",
    "Q = np.zeros((m, n))\n",
    "\n",
    "# Loop over columns\n",
    "for i in range(n):\n",
    "\n",
    "    Q[:, i] = A[:, i]\n",
    "    \n",
    "    # Current reference vector\n",
    "    a = A[:, i]\n",
    "    \n",
    "    # Orthogonalize the ith column in Q relative to previous columns in A\n",
    "    for j in range(i):\n",
    "        \n",
    "        # Get previous orthogonalized column\n",
    "        q = Q[:, j]\n",
    "        \n",
    "        # Subtract the projection of current vector onto previous orthogonalized vector from current vector\n",
    "        Q[:, i] = Q[:, i] - (np.dot(a, q) / np.dot(q, q)) * q\n",
    "        \n",
    "    # Normalize the ith column\n",
    "    Q[:, i] = Q[:, i] / np.linalg.norm(Q[:, i])\n",
    "\n",
    "# If Q is orthogonalized, Q^T Q should give identity matrix\n",
    "print('Q^T Q by computed Q')\n",
    "print(np.round(Q.T @ Q, 3))\n",
    "plt.imshow(Q.T @ Q)\n",
    "plt.title('$Q^T Q$ by computed $Q$')\n",
    "plt.show()\n",
    "\n",
    "# Compare our computed Q with Q from QR decomposition function\n",
    "Q2, R = np.linalg.qr(A, 'complete')\n",
    "print('Computed Q')\n",
    "print(np.round(Q, 3))\n",
    "print()\n",
    "\n",
    "print('Q from QR decomposition function')\n",
    "print(np.round(Q2, 3))\n",
    "print()\n",
    "\n",
    "print('It could have sign flips')"
   ]
  }
 ],
 "metadata": {
  "kernelspec": {
   "display_name": "env-machine-learning",
   "language": "python",
   "name": "env-machine-learning"
  },
  "language_info": {
   "codemirror_mode": {
    "name": "ipython",
    "version": 3
   },
   "file_extension": ".py",
   "mimetype": "text/x-python",
   "name": "python",
   "nbconvert_exporter": "python",
   "pygments_lexer": "ipython3",
   "version": "3.9.5"
  }
 },
 "nbformat": 4,
 "nbformat_minor": 5
}
