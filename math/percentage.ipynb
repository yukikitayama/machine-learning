{
 "cells": [
  {
   "cell_type": "markdown",
   "id": "e7a8f8d9",
   "metadata": {},
   "source": [
    "# Percentage"
   ]
  },
  {
   "cell_type": "code",
   "execution_count": 3,
   "id": "829ca2ed",
   "metadata": {},
   "outputs": [
    {
     "name": "stdout",
     "output_type": "stream",
     "text": [
      "[0.1, 0.2, 0.3, 0.3, 0.1]\n",
      "[0.3, 0.3, 0.1, 0.2, 0.1]\n",
      "[0.3, 0.1, 0.2, 0.3, 0.1]\n",
      "[0.3, 0.2, 0.3, 0.1, 0.1]\n",
      "[0.1, 0.5, 0.1, 0.1, 0.2]\n"
     ]
    }
   ],
   "source": [
    "import numpy as np\n",
    "\n",
    "\n",
    "def find_percentages(num_employees):\n",
    "    \n",
    "    ans = []\n",
    "    \n",
    "    for i in range(len(num_employees)):\n",
    "        \n",
    "        total = sum(num_employees[i])\n",
    "        \n",
    "        curr = []\n",
    "        \n",
    "        for j in range(len(num_employees[i])):\n",
    "            \n",
    "            curr.append(num_employees[i][j] / total)\n",
    "            \n",
    "        ans.append(curr)\n",
    "        \n",
    "    return ans\n",
    "\n",
    "\n",
    "num_employees = np.array([\n",
    "    [10, 20, 30, 30, 10],\n",
    "    [15, 15, 5, 10, 5],\n",
    "    [150, 50, 100, 150, 50],\n",
    "    [300, 200, 300, 100, 100],\n",
    "    [1, 5, 1, 1, 2]\n",
    "])\n",
    "percentage_by_department = find_percentages(num_employees)\n",
    "\n",
    "for row in percentage_by_department:\n",
    "    print(row)"
   ]
  }
 ],
 "metadata": {
  "kernelspec": {
   "display_name": "env-machine-learning",
   "language": "python",
   "name": "env-machine-learning"
  },
  "language_info": {
   "codemirror_mode": {
    "name": "ipython",
    "version": 3
   },
   "file_extension": ".py",
   "mimetype": "text/x-python",
   "name": "python",
   "nbconvert_exporter": "python",
   "pygments_lexer": "ipython3",
   "version": "3.9.5"
  }
 },
 "nbformat": 4,
 "nbformat_minor": 5
}
