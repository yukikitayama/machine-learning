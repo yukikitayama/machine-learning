{
 "cells": [
  {
   "cell_type": "markdown",
   "id": "7a706ed2",
   "metadata": {},
   "source": [
    "# Least-Squares by Calculus"
   ]
  },
  {
   "cell_type": "markdown",
   "id": "d0155812",
   "metadata": {},
   "source": [
    "## How to Compute Coefficient $\\beta$"
   ]
  },
  {
   "cell_type": "markdown",
   "id": "bfc6b413",
   "metadata": {},
   "source": [
    "**Residual sum-of-squares** RSS. $X$ is $N \\times p + 1$ matrix with each row an input vector and with all 1s in the first column.\n",
    "\n",
    "$$\n",
    "RSS(\\beta) = (y - X \\beta)^T (y - X \\beta)\n",
    "$$\n",
    "\n",
    "$$\n",
    "= (y^T - \\beta^T X^T) (y - X \\beta)\n",
    "$$\n",
    "\n",
    "$$\n",
    "= y^T y - y^T X \\beta - \\beta^T X^T y + \\beta^T X^T X \\beta\n",
    "$$\n",
    "\n",
    "$y^T X \\beta$ is a scaler, so we can transpose an entire term.\n",
    "\n",
    "$$\n",
    "= y^T y - \\beta^T X^T y - \\beta^T X^T y + \\beta^T X^T X \\beta\n",
    "$$\n",
    "$$\n",
    "= y^T y - 2 \\beta^T X^T y + \\beta^T X^T X \\beta\n",
    "$$\n",
    "\n",
    "Because $\\frac {\\partial} {\\partial x} x^T a = a$,\n",
    "\n",
    "$$\n",
    "\\frac {\\partial RSS} {\\partial \\beta} = - 2 X^T y + 2 X^T X \\beta\n",
    "$$\n",
    "\n",
    "Setting the first derivative to zero,\n",
    "\n",
    "$$\n",
    "- 2 X^T y + 2 X^T X \\beta = 0\n",
    "$$\n",
    "$$\n",
    "X^T y - X^T X \\beta = 0\n",
    "$$\n",
    "$$\n",
    "X^T X \\beta = X^T y\n",
    "$$\n",
    "$$\n",
    "(X^T X)^{-1} X^T X \\beta = (X^T X)^{-1} X^T y\n",
    "$$\n",
    "$$\n",
    "\\beta = (X^T X)^{-1} X^T y\n",
    "$$"
   ]
  },
  {
   "cell_type": "code",
   "execution_count": null,
   "id": "4960f8c4",
   "metadata": {},
   "outputs": [],
   "source": []
  },
  {
   "cell_type": "code",
   "execution_count": null,
   "id": "3757886e",
   "metadata": {},
   "outputs": [],
   "source": []
  },
  {
   "cell_type": "code",
   "execution_count": null,
   "id": "4072e691",
   "metadata": {},
   "outputs": [],
   "source": []
  },
  {
   "cell_type": "code",
   "execution_count": null,
   "id": "a5ca6ddd",
   "metadata": {},
   "outputs": [],
   "source": []
  }
 ],
 "metadata": {
  "kernelspec": {
   "display_name": "env-machine-learning",
   "language": "python",
   "name": "env-machine-learning"
  },
  "language_info": {
   "codemirror_mode": {
    "name": "ipython",
    "version": 3
   },
   "file_extension": ".py",
   "mimetype": "text/x-python",
   "name": "python",
   "nbconvert_exporter": "python",
   "pygments_lexer": "ipython3",
   "version": "3.9.5"
  }
 },
 "nbformat": 4,
 "nbformat_minor": 5
}
