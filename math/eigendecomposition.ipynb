{
 "cells": [
  {
   "cell_type": "markdown",
   "id": "f1192ef9",
   "metadata": {},
   "source": [
    "# Eigendecomposition"
   ]
  },
  {
   "cell_type": "markdown",
   "id": "12e9f13a",
   "metadata": {},
   "source": [
    "## Dependency"
   ]
  },
  {
   "cell_type": "code",
   "execution_count": 1,
   "id": "2cf2b7c2",
   "metadata": {},
   "outputs": [],
   "source": [
    "import numpy as np\n",
    "import matplotlib.pyplot as plt"
   ]
  },
  {
   "cell_type": "markdown",
   "id": "39da7a3d",
   "metadata": {},
   "source": [
    "## Application of eigendecomposition"
   ]
  },
  {
   "cell_type": "markdown",
   "id": "ade67671",
   "metadata": {},
   "source": [
    "- Principal component analysis\n",
    "- Regularization such as ridge regression\n",
    "- Linear discriminant analysis\n",
    "- Support vector machine\n",
    "\n",
    "So you need to understand eigendecomposition."
   ]
  },
  {
   "cell_type": "markdown",
   "id": "dae35c88",
   "metadata": {},
   "source": [
    "## Eigenvalue"
   ]
  },
  {
   "cell_type": "markdown",
   "id": "306d587a",
   "metadata": {},
   "source": [
    "$$ A v = \\lambda v $$\n",
    "$$ A v - \\lambda v = 0 $$\n",
    "$$ (A - \\lambda I) v = 0 $$\n",
    "\n",
    "We cannot do $(A - \\lambda) v$, because $A$ is a matrix, but $\\lambda$ is a scalar.\n",
    "\n",
    "$(A - \\lambda I) v = 0$ means that a vector $v$ is in the **null space** of a matrix $A$ shifted by $-\\lambda I$, because it's producting 0 vector. $B v = 0$ means $v$ is in the **null space** of a matrix $B$.\n",
    "\n",
    "In eigendecomposition, we exclude a case where $v$ is a vector of all 0s. $v$ needs to have at least one element non-zero. So to produce 0 at the right side of the equation, $(A - \\lambda I)$ must be a **singular matrix** (**reduced rank matrix**). If $(A - \\lambda I)$ is a singular matrix, it means that a **determinant** of $(A - \\lambda I)$ is 0.\n",
    "\n",
    "$$ |A - \\lambda I| = 0 $$\n",
    "\n",
    "In $(A - \\lambda I) v = 0$, $0$ is a 0 vector, but in $|A - \\lambda I| = 0$, $0$ is a scalar 0. $|A - \\lambda I| = 0$ is called **characteristic equation**."
   ]
  },
  {
   "cell_type": "code",
   "execution_count": 2,
   "id": "ad0f1195",
   "metadata": {},
   "outputs": [],
   "source": [
    "# From 131 in udemy"
   ]
  },
  {
   "cell_type": "code",
   "execution_count": null,
   "id": "b5756d9a",
   "metadata": {},
   "outputs": [],
   "source": []
  },
  {
   "cell_type": "code",
   "execution_count": null,
   "id": "1a5ff02c",
   "metadata": {},
   "outputs": [],
   "source": []
  }
 ],
 "metadata": {
  "kernelspec": {
   "display_name": "env-machine-learning",
   "language": "python",
   "name": "env-machine-learning"
  },
  "language_info": {
   "codemirror_mode": {
    "name": "ipython",
    "version": 3
   },
   "file_extension": ".py",
   "mimetype": "text/x-python",
   "name": "python",
   "nbconvert_exporter": "python",
   "pygments_lexer": "ipython3",
   "version": "3.9.5"
  }
 },
 "nbformat": 4,
 "nbformat_minor": 5
}
