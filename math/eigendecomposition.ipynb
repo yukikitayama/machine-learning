{
 "cells": [
  {
   "cell_type": "markdown",
   "id": "f1192ef9",
   "metadata": {},
   "source": [
    "# Eigendecomposition"
   ]
  },
  {
   "cell_type": "markdown",
   "id": "12e9f13a",
   "metadata": {},
   "source": [
    "## Dependency"
   ]
  },
  {
   "cell_type": "code",
   "execution_count": 1,
   "id": "2cf2b7c2",
   "metadata": {},
   "outputs": [],
   "source": [
    "import numpy as np\n",
    "import matplotlib.pyplot as plt"
   ]
  },
  {
   "cell_type": "markdown",
   "id": "39da7a3d",
   "metadata": {},
   "source": [
    "## Application of eigendecomposition"
   ]
  },
  {
   "cell_type": "markdown",
   "id": "ade67671",
   "metadata": {},
   "source": [
    "- Principal component analysis\n",
    "- Regularization such as ridge regression\n",
    "- Linear discriminant analysis\n",
    "- Support vector machine\n",
    "\n",
    "So you need to understand eigendecomposition."
   ]
  },
  {
   "cell_type": "markdown",
   "id": "dae35c88",
   "metadata": {},
   "source": [
    "## Eigenvalue"
   ]
  },
  {
   "cell_type": "markdown",
   "id": "306d587a",
   "metadata": {},
   "source": [
    "### How to compute eigenvalue\n",
    "\n",
    "$$ A v = \\lambda v $$\n",
    "$$ A v - \\lambda v = 0 $$\n",
    "$$ (A - \\lambda I) v = 0 $$\n",
    "\n",
    "We cannot do $(A - \\lambda) v$, because $A$ is a matrix, but $\\lambda$ is a scalar.\n",
    "\n",
    "$(A - \\lambda I) v = 0$ means that a vector $v$ is in the **null space** of a matrix $A$ shifted by $-\\lambda I$, because it's producting 0 vector. $B v = 0$ means $v$ is in the **null space** of a matrix $B$.\n",
    "\n",
    "In eigendecomposition, we exclude a case where $v$ is a vector of all 0s. $v$ needs to have at least one element non-zero. So to produce 0 at the right side of the equation, $(A - \\lambda I)$ must be a **singular matrix** (**reduced rank matrix**). If $(A - \\lambda I)$ is a singular matrix, it means that a **determinant** of $(A - \\lambda I)$ is 0.\n",
    "\n",
    "$$ |A - \\lambda I| = 0 $$\n",
    "\n",
    "In $(A - \\lambda I) v = 0$, $0$ is a 0 vector, but in $|A - \\lambda I| = 0$, $0$ is a scalar 0. $|A - \\lambda I| = 0$ is called **characteristic equation**.\n",
    "\n",
    "### How eigenvalue is related to the matrix\n",
    "\n",
    "If $A$ is a singular matrix (reduced-rank matrix, a matrix where one column can be a combination of other columns), at least one eigenvalue $\\lambda$ is 0."
   ]
  },
  {
   "cell_type": "markdown",
   "id": "817d5c23",
   "metadata": {},
   "source": [
    "## Eigenvalue of diagonal matrix"
   ]
  },
  {
   "cell_type": "markdown",
   "id": "c00aed3d",
   "metadata": {},
   "source": [
    "Eigenvalues of a diagonal matrix are diagonal elements of the diagonal matrix. For example,\n",
    "\n",
    "$$\n",
    "A = \n",
    "\\begin{bmatrix}\n",
    "1 & 0\\\\\n",
    "0 & 2\n",
    "\\end{bmatrix}\n",
    "$$\n",
    "\n",
    "$$\n",
    "\\begin{vmatrix}\n",
    "1 - \\lambda & 0\\\\\n",
    "0 & 2 - \\lambda\n",
    "\\end{vmatrix}\n",
    "= 0\n",
    "$$\n",
    "\n",
    "$$\n",
    "(1 - \\lambda)(2 - \\lambda) = 0\n",
    "$$\n",
    "\n",
    "$$\n",
    "\\lambda = 1, 2\n",
    "$$\n",
    "\n",
    "So we can imagine that, even if a diagonal matrix gets bigger, off-diagonal elements will disappear from **characteristic equations** and it gives us a bunch of $(d_i - \\lambda) = 0$, so we can directly use diagonal elements as eigenvalues."
   ]
  },
  {
   "cell_type": "code",
   "execution_count": 5,
   "id": "5b9eec88",
   "metadata": {},
   "outputs": [
    {
     "name": "stdout",
     "output_type": "stream",
     "text": [
      "Diagonal matrix\n",
      "[[ 1  0  0  0  0  0  0  0  0  0]\n",
      " [ 0  2  0  0  0  0  0  0  0  0]\n",
      " [ 0  0  3  0  0  0  0  0  0  0]\n",
      " [ 0  0  0  4  0  0  0  0  0  0]\n",
      " [ 0  0  0  0  5  0  0  0  0  0]\n",
      " [ 0  0  0  0  0  6  0  0  0  0]\n",
      " [ 0  0  0  0  0  0  7  0  0  0]\n",
      " [ 0  0  0  0  0  0  0  8  0  0]\n",
      " [ 0  0  0  0  0  0  0  0  9  0]\n",
      " [ 0  0  0  0  0  0  0  0  0 10]]\n",
      "\n",
      "Eigenvalues of diagonal matrix\n",
      "[ 1.  2.  3.  4.  5.  6.  7.  8.  9. 10.]\n",
      "\n"
     ]
    }
   ],
   "source": [
    "A = np.diag(np.arange(1, 10 + 1))\n",
    "\n",
    "print('Diagonal matrix')\n",
    "print(A)\n",
    "print()\n",
    "\n",
    "eigen_values = np.linalg.eig(A)[0]\n",
    "print('Eigenvalues of diagonal matrix')\n",
    "print(eigen_values)\n",
    "print()"
   ]
  },
  {
   "cell_type": "markdown",
   "id": "890ad77a",
   "metadata": {},
   "source": [
    "## Eigenvalue of triangular matrix"
   ]
  },
  {
   "cell_type": "markdown",
   "id": "e4d8aefc",
   "metadata": {},
   "source": [
    "Eigenvalues of a triangular matrix has the same result as a diagonal matrix. That is, regardless of upper triangular matrix or lower triangular matrix, eigenvalues will be diagonal elements of the triangular matrix. For example in 2x2 upper triangular matrix,\n",
    "\n",
    "$$\n",
    "A =\n",
    "\\begin{bmatrix}\n",
    "1 & 2\\\\\n",
    "0 & 3\n",
    "\\end{bmatrix}\n",
    "$$\n",
    "\n",
    "$$\n",
    "\\begin{vmatrix}\n",
    "1 - \\lambda & 2\\\\\n",
    "0 & 3 - \\lambda\n",
    "\\end{vmatrix}\n",
    "= 0\n",
    "$$\n",
    "\n",
    "$$\n",
    "(1 - \\lambda)(3 - \\lambda) = 0\n",
    "$$\n",
    "\n",
    "$$\n",
    "\\lambda = 1, 3\n",
    "$$\n",
    "\n",
    "Because when computing determinant and when making multiplication with diagonal elements, 0 at the either side of the diagonal cancels any number, so off-diagonal elements will disappear."
   ]
  },
  {
   "cell_type": "code",
   "execution_count": 9,
   "id": "1dab12db",
   "metadata": {},
   "outputs": [
    {
     "name": "stdout",
     "output_type": "stream",
     "text": [
      "Upper triangular matrix\n",
      "[[-0.3  0.1  2.3 -1.8]\n",
      " [ 0.   1.1  0.4 -0.5]\n",
      " [ 0.   0.   1.  -1. ]\n",
      " [ 0.   0.   0.   0.5]]\n",
      "\n",
      "Eigenvalue\n",
      "[-0.3  1.1  1.   0.5]\n",
      "\n"
     ]
    }
   ],
   "source": [
    "A = np.triu(np.random.randn(4, 4))\n",
    "\n",
    "print('Upper triangular matrix')\n",
    "print(np.round(A, 1))\n",
    "print()\n",
    "\n",
    "eigen_values = np.linalg.eig(A)[0]\n",
    "\n",
    "print('Eigenvalue')\n",
    "print(np.round(eigen_values, 1))\n",
    "print()"
   ]
  },
  {
   "cell_type": "code",
   "execution_count": 10,
   "id": "ba6d4286",
   "metadata": {},
   "outputs": [
    {
     "name": "stdout",
     "output_type": "stream",
     "text": [
      "Lower triangular matrix\n",
      "[[ 1.5  0.   0.   0. ]\n",
      " [-1.2  0.2  0.   0. ]\n",
      " [-0.7  0.5  0.1  0. ]\n",
      " [-1.2  1.5  1.1 -0.9]]\n",
      "\n",
      "Eigenvalue\n",
      "[-0.9  0.1  0.2  1.5]\n",
      "\n"
     ]
    }
   ],
   "source": [
    "A = np.tril(np.random.randn(4, 4))\n",
    "\n",
    "print('Lower triangular matrix')\n",
    "print(np.round(A, 1))\n",
    "print()\n",
    "\n",
    "eigen_values = np.linalg.eig(A)[0]\n",
    "\n",
    "print('Eigenvalue')\n",
    "print(np.round(eigen_values, 1))\n",
    "print()"
   ]
  },
  {
   "cell_type": "markdown",
   "id": "a60096d7",
   "metadata": {},
   "source": [
    "## Eigenvector"
   ]
  },
  {
   "cell_type": "markdown",
   "id": "cdd656a4",
   "metadata": {},
   "source": [
    "Eigenvector is more important than eigenvector, but you need to compute eigenvalue before computing eigenvector\n",
    "\n",
    "1. Find all eigenvalues $\\lambda$\n",
    "2. For each $\\lambda$, find a vector $v$ which is in the **null space** of a shifted matrix by $\\lambda$, $(A - \\lambda I)$. That is $v \\in C(A - \\lambda I)$\n",
    "\n",
    "$v$ in the null space of $(A - \\lambda I)$ means that $(A - \\lambda I) v$ gives us a vector with all 0s in elements. In math,\n",
    "\n",
    "$$\n",
    "(A - \\lambda I) v = \\textbf{0}\n",
    "$$\n",
    "\n",
    "Typically, after finding those vectors, people normalize it, meaning the vector has a unit length.\n",
    "\n",
    "To double check the process to compute eigenvector, first find eigenvalues, and shift the original matrix by the eigenvalue, and find the **basis vector** (meaning normalized unit length vector) for the **null space** of the shifted matrix."
   ]
  },
  {
   "cell_type": "code",
   "execution_count": 15,
   "id": "1a5ff02c",
   "metadata": {},
   "outputs": [
    {
     "name": "stdout",
     "output_type": "stream",
     "text": [
      "Matrix\n",
      "[[1 2]\n",
      " [2 1]]\n",
      "\n",
      "Eigenvector\n",
      "[[ 0.70710678 -0.70710678]\n",
      " [ 0.70710678  0.70710678]]\n",
      "\n",
      "Eigenvalue\n",
      "[ 3. -1.]\n",
      "\n",
      "First eigenvalue: 3.0000000000000004 has the associated eigenvector\n",
      "in first column of the eigenvector matrix: [0.70710678 0.70710678]\n",
      "\n",
      "Second eigenvalue: -0.9999999999999996 has the associated eigenvector\n",
      "in second column of the eigenvector matrix: [-0.70710678  0.70710678]\n"
     ]
    }
   ],
   "source": [
    "A = np.array([\n",
    "    [1, 2],\n",
    "    [2, 1]\n",
    "])\n",
    "\n",
    "print('Matrix')\n",
    "print(A)\n",
    "print()\n",
    "\n",
    "evals, evecs = np.linalg.eig(A)\n",
    "\n",
    "print('Eigenvector')\n",
    "print(evecs)\n",
    "print()\n",
    "\n",
    "print('Eigenvalue')\n",
    "print(evals)\n",
    "print()\n",
    "\n",
    "print(f'First eigenvalue: {evals[0]} has the associated eigenvector')\n",
    "print(f'in first column of the eigenvector matrix: {evecs[:, 0]}')\n",
    "print()\n",
    "\n",
    "print(f'Second eigenvalue: {evals[1]} has the associated eigenvector')\n",
    "print(f'in second column of the eigenvector matrix: {evecs[:, 1]}')"
   ]
  },
  {
   "cell_type": "markdown",
   "id": "4fd2c6f5",
   "metadata": {},
   "source": [
    "## Diagonalization of a matrix with eigenvalues and eigenvectors"
   ]
  },
  {
   "cell_type": "markdown",
   "id": "f3da3376",
   "metadata": {},
   "source": [
    "**Diagonalization** in the context of eigendecomposition means to extract a special property of a given matrix in a form of a diagonal matrix by using eigenvalue and eigenvector.\n",
    "\n",
    "After decomposition, we have a set of eigen values and the according eigen vectors. For example in 3x3,\n",
    "\n",
    "$$\n",
    "A v_1 = \\lambda_1 v_1\n",
    "$$\n",
    "$$\n",
    "A v_2 = \\lambda_2 v_2\n",
    "$$\n",
    "$$\n",
    "A v_3 = \\lambda_3 v_3\n",
    "$$\n",
    "\n",
    "These can be written in matrix as below. Let $v_{1} = [v_{11}, v_{21}, v_{31}]$\n",
    "\n",
    "$$\n",
    "\\begin{bmatrix}\n",
    "v_1 & v_2 & v_3\n",
    "\\end{bmatrix}\n",
    "\\begin{bmatrix}\n",
    "\\lambda_1 & 0 & 0\\\\\n",
    "0 & \\lambda_2 & 0\\\\\n",
    "0 & 0 & \\lambda_3\n",
    "\\end{bmatrix}\n",
    "=\n",
    "\\begin{bmatrix}\n",
    "v_{11} & v_{12} & v_{13}\\\\\n",
    "v_{21} & v_{22} & v_{23}\\\\\n",
    "v_{31} & v_{32} & v_{33}\n",
    "\\end{bmatrix}\n",
    "\\begin{bmatrix}\n",
    "\\lambda_1 & 0 & 0\\\\\n",
    "0 & \\lambda_2 & 0\\\\\n",
    "0 & 0 & \\lambda_3\n",
    "\\end{bmatrix}\n",
    "=\n",
    "\\begin{bmatrix}\n",
    "\\lambda_1 v_{11} & \\lambda_2 v_{12} & \\lambda_3 v_{13}\\\\\n",
    "\\lambda_1 v_{21} & \\lambda_2 v_{22} & \\lambda_3 v_{23}\\\\\n",
    "\\lambda_1 v_{31} & \\lambda_2 v_{32} & \\lambda_3 v_{33}\n",
    "\\end{bmatrix}\n",
    "$$\n",
    "\n",
    "A matrix with eigenvectors must **left multiply** a diagonal matrix of eigenvalues because the below is wrong.\n",
    "\n",
    "$$\n",
    "\\begin{bmatrix}\n",
    "\\lambda_1 & 0 & 0\\\\\n",
    "0 & \\lambda_2 & 0\\\\\n",
    "0 & 0 & \\lambda_3\n",
    "\\end{bmatrix}\n",
    "\\begin{bmatrix}\n",
    "v_{11} & v_{12} & v_{13}\\\\\n",
    "v_{21} & v_{22} & v_{23}\\\\\n",
    "v_{31} & v_{32} & v_{33}\n",
    "\\end{bmatrix}\n",
    "=\n",
    "\\begin{bmatrix}\n",
    "\\lambda_1 v_{11} & \\lambda_1 v_{12} & \\lambda_1 v_{13}\\\\\n",
    "\\lambda_2 v_{21} & \\lambda_2 v_{22} & \\lambda_2 v_{23}\\\\\n",
    "\\lambda_3 v_{31} & \\lambda_3 v_{32} & \\lambda_3 v_{33}\n",
    "\\end{bmatrix}\n",
    "$$\n",
    "\n",
    "That means that first eigenvalue is multiplied with the first element of each eigenvector. But it's wrong, becasue eigenvalue and eigenvector is a pair. You cannot mix an eigenvalue with a different eigenvector.\n",
    "\n",
    "So a set of $A v_i = \\lambda v_i$ can be written as below by using $A$ is the given matrix, $V$ is a matrix with eigenvectors in each column, and $\\Lambda$ is a diagonal matrix of eigenvalues.\n",
    "\n",
    "$$\n",
    "A V = V \\Lambda\n",
    "$$\n",
    "\n",
    "By right multiplying the both sides by $V^{-1}$\n",
    "\n",
    "$$\n",
    "A V V^{-1} = V \\Lambda V^{-1}\n",
    "$$\n",
    "$$\n",
    "A I = V \\Lambda V^{-1}\n",
    "$$\n",
    "$$\n",
    "A = V \\Lambda V^{-1}\n",
    "$$\n",
    "\n",
    "That can be interpreted as a hidden insight of a given square matrix $A$ is a diagonal matrix $\\Lambda$ by passing through $V$ and $V^{-1}$. And it also suggests that the given square matrix $A$ can be reconstructed by a set of eigenvectors $V$ and $V^{-1}$, and a diagonal matrix of eigenvalues $\\Lambda$.\n",
    "\n",
    "Also, after diagonalization, matrix powers will be easy.\n",
    "\n",
    "$$\n",
    "A = V \\Lambda V^{-1}\n",
    "$$\n",
    "\n",
    "Suppose getting $A$ to the 3rd power\n",
    "\n",
    "$$\n",
    "A^3 = (V \\Lambda V^{-1}) (V \\Lambda V^{-1}) (V \\Lambda V^{-1})\n",
    "$$\n",
    "\n",
    "By regrouping the matrices\n",
    "\n",
    "$$\n",
    "A^3 = V \\Lambda (V^{-1} V) \\Lambda (V^{-1} V) \\Lambda V^{-1}\n",
    "$$\n",
    "\n",
    "Because $V^{-1} V = I$\n",
    "\n",
    "$$\n",
    "A^3 = V \\Lambda I \\Lambda I \\Lambda V^{-1}\n",
    "$$\n",
    "$$\n",
    "A^3 = V \\Lambda \\Lambda \\Lambda V^{-1}\n",
    "$$\n",
    "\n",
    "Because $\\Lambda$ is a diagonal matrix, so $D D = D^2$\n",
    "\n",
    "$$\n",
    "A^3 = V \\Lambda^3 V^{-1}\n",
    "$$\n",
    "\n",
    "We just first did eigendecomposition, and get the power, but it still works by first getting power and do eigendecomposition, because if we have $A x = \\lambda x$, $A^2$ is\n",
    "\n",
    "$$\n",
    "A^2 x = A A x\n",
    "$$\n",
    "\n",
    "Because $A x = \\lambda x$\n",
    "\n",
    "$$\n",
    "A^2 x = A A x = A \\lambda x\n",
    "$$\n",
    "\n",
    "We cannot change the order of matrix multiplication, but $\\lambda$ is a scalar, so we can move it, so move it front\n",
    "\n",
    "$$\n",
    "A^2 x = A A x = A \\lambda x = \\lambda A x\n",
    "$$\n",
    "\n",
    "Because $A x = \\lambda x$\n",
    "\n",
    "$$\n",
    "A^2 x = A A x = A \\lambda x = \\lambda A x = \\lambda \\lambda x\n",
    "$$\n",
    "\n",
    "Because $\\lambda$ is a scalar\n",
    "\n",
    "$$\n",
    "A^2 x = A A x = A \\lambda x = \\lambda A x = \\lambda \\lambda x = \\lambda^2 x\n",
    "$$\n",
    "$$\n",
    "A^2 x = \\lambda^2 x\n",
    "$$"
   ]
  },
  {
   "cell_type": "code",
   "execution_count": 10,
   "id": "65b63d08",
   "metadata": {},
   "outputs": [
    {
     "data": {
      "image/png": "[encoded data removed]",
      "text/plain": [
       "<Figure size 432x288 with 4 Axes>"
      ]
     },
     "metadata": {
      "needs_background": "light"
     },
     "output_type": "display_data"
    }
   ],
   "source": [
    "A = np.random.randn(10, 10)\n",
    "A = A.T @ A\n",
    "\n",
    "# D: eigenvalue, V: eigenvector\n",
    "D, V = np.linalg.eig(A)\n",
    "\n",
    "# Visualize\n",
    "plt.subplot(141)\n",
    "plt.imshow(A)\n",
    "plt.title('A')\n",
    "plt.axis('off')\n",
    "\n",
    "plt.subplot(142)\n",
    "plt.imshow(V)\n",
    "plt.title('V')\n",
    "plt.axis('off')\n",
    "\n",
    "plt.subplot(143)\n",
    "plt.imshow(np.diag(D))\n",
    "plt.title('$\\Lambda$')\n",
    "plt.axis('off')\n",
    "\n",
    "plt.subplot(144)\n",
    "plt.imshow(np.linalg.inv(V))\n",
    "plt.title('$V^{-1}$')\n",
    "plt.axis('off')\n",
    "\n",
    "plt.show()"
   ]
  },
  {
   "cell_type": "code",
   "execution_count": 11,
   "id": "c2d98717",
   "metadata": {},
   "outputs": [
    {
     "name": "stdout",
     "output_type": "stream",
     "text": [
      "A\n",
      "[[ 120.  -68. -186.   66.]\n",
      " [ -68.  363.   72.  -19.]\n",
      " [-186.   72.  587. -306.]\n",
      " [  66.  -19. -306.  270.]]\n",
      "\n",
      "V\n",
      "[[ 0.27099937 -0.77804337 -0.55510939  0.11428655]\n",
      " [-0.18018525 -0.08023779 -0.17413038 -0.96476618]\n",
      " [-0.81779671 -0.47451288  0.29446638  0.13905258]\n",
      " [ 0.47465899 -0.40379194  0.75816999 -0.19190931]]\n",
      "\n",
      "Lambda\n",
      "[[842.10603029   0.           0.           0.        ]\n",
      " [  0.          33.80262392   0.           0.        ]\n",
      " [  0.           0.         107.19290412   0.        ]\n",
      " [  0.           0.           0.         356.89844167]]\n",
      "\n",
      "Reconstructed A\n",
      "[[ 120.  -68. -186.   66.]\n",
      " [ -68.  363.   72.  -19.]\n",
      " [-186.   72.  587. -306.]\n",
      " [  66.  -19. -306.  270.]]\n",
      "\n"
     ]
    },
    {
     "data": {
      "image/png": "[encoded data removed]",
      "text/plain": [
       "<Figure size 432x288 with 2 Axes>"
      ]
     },
     "metadata": {
      "needs_background": "light"
     },
     "output_type": "display_data"
    },
    {
     "name": "stdout",
     "output_type": "stream",
     "text": [
      "These should be the same\n"
     ]
    }
   ],
   "source": [
    "# Make a square matrix for eigendecomposition to be possible\n",
    "# Round it to make it integers to avoid having complex numbers\n",
    "A = np.round(10 * np.random.randn(4, 4))\n",
    "A = A.T @ A\n",
    "\n",
    "print('A')\n",
    "print(A)\n",
    "print()\n",
    "\n",
    "# Eigendecomposition\n",
    "evals, evecs = np.linalg.eig(A)\n",
    "\n",
    "print('V')\n",
    "print(evecs)\n",
    "print()\n",
    "\n",
    "print('Lambda')\n",
    "print(np.diag(evals))\n",
    "print()\n",
    "\n",
    "# Test reconstructing given matrix from eigenvalues eigenvectors\n",
    "Ap = evecs @ np.diag(evals) @ np.linalg.inv(evecs)\n",
    "\n",
    "print('Reconstructed A')\n",
    "print(Ap)\n",
    "print()\n",
    "\n",
    "# Visualize\n",
    "plt.subplot(121)\n",
    "plt.imshow(A)\n",
    "plt.axis('off')\n",
    "plt.title('A')\n",
    "\n",
    "plt.subplot(122)\n",
    "plt.imshow(Ap)\n",
    "plt.axis('off')\n",
    "plt.title('$V \\Lambda V^{-1}$')\n",
    "\n",
    "plt.show()\n",
    "\n",
    "print('These should be the same')"
   ]
  },
  {
   "cell_type": "code",
   "execution_count": 16,
   "id": "97afe48c",
   "metadata": {},
   "outputs": [],
   "source": [
    "# From 134 udemy"
   ]
  }
 ],
 "metadata": {
  "kernelspec": {
   "display_name": "env-machine-learning",
   "language": "python",
   "name": "env-machine-learning"
  },
  "language_info": {
   "codemirror_mode": {
    "name": "ipython",
    "version": 3
   },
   "file_extension": ".py",
   "mimetype": "text/x-python",
   "name": "python",
   "nbconvert_exporter": "python",
   "pygments_lexer": "ipython3",
   "version": "3.9.5"
  }
 },
 "nbformat": 4,
 "nbformat_minor": 5
}
