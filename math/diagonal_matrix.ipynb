{
 "cells": [
  {
   "cell_type": "markdown",
   "id": "21c9a952",
   "metadata": {},
   "source": [
    "# Diagonal Matrix"
   ]
  },
  {
   "cell_type": "code",
   "execution_count": 6,
   "id": "d0584a24",
   "metadata": {},
   "outputs": [],
   "source": [
    "import numpy as np\n",
    "np.random.seed(0)"
   ]
  },
  {
   "cell_type": "markdown",
   "id": "2f737078",
   "metadata": {},
   "source": [
    "## Diagonal matrix standard and Hadamard multiplication with itself"
   ]
  },
  {
   "cell_type": "code",
   "execution_count": 7,
   "id": "53368eb4",
   "metadata": {},
   "outputs": [
    {
     "name": "stdout",
     "output_type": "stream",
     "text": [
      "Diagonal matrix\n",
      "[[1.8 0.  0.  0. ]\n",
      " [0.  0.4 0.  0. ]\n",
      " [0.  0.  1.  0. ]\n",
      " [0.  0.  0.  2.2]]\n",
      "\n",
      "Standard multiplication with itself\n",
      "[[3.1 0.  0.  0. ]\n",
      " [0.  0.2 0.  0. ]\n",
      " [0.  0.  1.  0. ]\n",
      " [0.  0.  0.  5. ]]\n",
      "\n",
      "Hadamard multiplication with itself\n",
      "[[3.1 0.  0.  0. ]\n",
      " [0.  0.2 0.  0. ]\n",
      " [0.  0.  1.  0. ]\n",
      " [0.  0.  0.  5. ]]\n",
      "\n"
     ]
    }
   ],
   "source": [
    "n = 4\n",
    "D = np.diag(np.random.randn(n))\n",
    "print('Diagonal matrix')\n",
    "print(np.round(D, 1))\n",
    "print()\n",
    "\n",
    "print('Standard multiplication with itself')\n",
    "print(np.round(D @ D, 1))\n",
    "print()\n",
    "\n",
    "print('Hadamard multiplication with itself')\n",
    "print(np.round(D * D, 1))\n",
    "print()"
   ]
  },
  {
   "cell_type": "code",
   "execution_count": null,
   "id": "2911ba75",
   "metadata": {},
   "outputs": [],
   "source": []
  },
  {
   "cell_type": "code",
   "execution_count": null,
   "id": "422d66b7",
   "metadata": {},
   "outputs": [],
   "source": []
  }
 ],
 "metadata": {
  "kernelspec": {
   "display_name": "env-machine-learning",
   "language": "python",
   "name": "env-machine-learning"
  },
  "language_info": {
   "codemirror_mode": {
    "name": "ipython",
    "version": 3
   },
   "file_extension": ".py",
   "mimetype": "text/x-python",
   "name": "python",
   "nbconvert_exporter": "python",
   "pygments_lexer": "ipython3",
   "version": "3.9.5"
  }
 },
 "nbformat": 4,
 "nbformat_minor": 5
}
