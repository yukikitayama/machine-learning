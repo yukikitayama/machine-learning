{
 "cells": [
  {
   "cell_type": "code",
   "execution_count": 1,
   "id": "eecc77a2",
   "metadata": {},
   "outputs": [],
   "source": [
    "import numpy as np"
   ]
  },
  {
   "cell_type": "code",
   "execution_count": 7,
   "id": "6b3dc7fd",
   "metadata": {},
   "outputs": [
    {
     "name": "stdout",
     "output_type": "stream",
     "text": [
      "[2.1607111  0.47882775 0.7870892  0.72936425 0.85888342 0.83302173]\n"
     ]
    }
   ],
   "source": [
    "A = np.random.rand(4, 6)\n",
    "B = np.random.rand(4, 6)\n",
    "\n",
    "dot_products = np.zeros(A.shape[1])\n",
    "\n",
    "for i in range(A.shape[1]):\n",
    "    \n",
    "    dot_products[i] = np.dot(A[:, i], B[:, i])\n",
    "    \n",
    "print(dot_products)"
   ]
  },
  {
   "cell_type": "code",
   "execution_count": 15,
   "id": "534ca73b",
   "metadata": {},
   "outputs": [
    {
     "name": "stdout",
     "output_type": "stream",
     "text": [
      "dot1: [[27.24244843]], dot2: [[27.24244843]]\n",
      "dot3: 11, dot4: 11\n"
     ]
    }
   ],
   "source": [
    "a = np.random.rand(1, 100)\n",
    "b = np.random.rand(1, 100)\n",
    "\n",
    "dot1 = np.dot(a, b.T)\n",
    "dot2 = np.dot(b, a.T)\n",
    "\n",
    "print(f'dot1: {dot1}, dot2: {dot2}')\n",
    "\n",
    "c = np.array([1, 2])\n",
    "d = np.array([3, 4])\n",
    "\n",
    "dot3 = np.dot(c, d.T)\n",
    "dot4 = np.dot(d, c.T)\n",
    "\n",
    "print(f'dot3: {dot3}, dot4: {dot4}')"
   ]
  },
  {
   "cell_type": "code",
   "execution_count": 21,
   "id": "2bab636e",
   "metadata": {},
   "outputs": [
    {
     "name": "stdout",
     "output_type": "stream",
     "text": [
      "3.7416573867739413\n",
      "3.7416573867739413\n",
      "3.7416573867739413\n",
      "6.0\n"
     ]
    }
   ],
   "source": [
    "v = np.array([1, 2, 3])\n",
    "print(np.sqrt(sum(v * v)))\n",
    "print(np.sqrt(sum(v ** 2)))\n",
    "print(np.linalg.norm(v))\n",
    "print(np.sqrt(sum(v) ** 2))"
   ]
  }
 ],
 "metadata": {
  "kernelspec": {
   "display_name": "env-machine-learning",
   "language": "python",
   "name": "env-machine-learning"
  },
  "language_info": {
   "codemirror_mode": {
    "name": "ipython",
    "version": 3
   },
   "file_extension": ".py",
   "mimetype": "text/x-python",
   "name": "python",
   "nbconvert_exporter": "python",
   "pygments_lexer": "ipython3",
   "version": "3.9.5"
  }
 },
 "nbformat": 4,
 "nbformat_minor": 5
}
