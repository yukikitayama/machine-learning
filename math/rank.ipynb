{
 "cells": [
  {
   "cell_type": "markdown",
   "id": "01b67f79",
   "metadata": {},
   "source": [
    "# Rank"
   ]
  },
  {
   "cell_type": "code",
   "execution_count": 1,
   "id": "c6f3b7c2",
   "metadata": {},
   "outputs": [],
   "source": [
    "import numpy as np"
   ]
  },
  {
   "cell_type": "code",
   "execution_count": 10,
   "id": "d97737b4",
   "metadata": {},
   "outputs": [
    {
     "name": "stdout",
     "output_type": "stream",
     "text": [
      "Rank A: 4\n",
      "id(A): 1752809105232, id(B): 1752418781968\n",
      "B\n",
      "[[-0.6 -0.4  0.7 -1.8  1.2  0.2]\n",
      " [ 0.1 -1.8 -0.9  0.8 -0.6  1.3]\n",
      " [ 2.2 -1.  -0.5  0.2  0.4  0.9]\n",
      " [ 2.2 -1.  -0.5  0.2  0.4  0.9]]\n",
      "\n",
      "Rank B: 3\n"
     ]
    }
   ],
   "source": [
    "m = 4\n",
    "n = 6\n",
    "\n",
    "A = np.random.randn(m, n)\n",
    "\n",
    "ra = np.linalg.matrix_rank(A)\n",
    "print(f'Rank A: {ra}')\n",
    "\n",
    "B = A.copy()\n",
    "print(f'id(A): {id(A)}, id(B): {id(B)}')\n",
    "\n",
    "B[-1, :] = B[-2, :]\n",
    "print('B')\n",
    "print(np.round(B, 1))\n",
    "print()\n",
    "\n",
    "rb = np.linalg.matrix_rank(B)\n",
    "print(f'Rank B: {rb}')"
   ]
  },
  {
   "cell_type": "markdown",
   "id": "3ebee932",
   "metadata": {},
   "source": [
    "## Noise"
   ]
  },
  {
   "cell_type": "code",
   "execution_count": 17,
   "id": "2f451a17",
   "metadata": {},
   "outputs": [
    {
     "name": "stdout",
     "output_type": "stream",
     "text": [
      "A\n",
      "[[  6.   3.  -3.  -3.]\n",
      " [ -7.   2.  -1.  -1.]\n",
      " [-12. -14.   1.   1.]\n",
      " [ -4.  11.  -7.  -7.]]\n",
      "\n",
      "Noise: 1e-08\n",
      "Rank without noise: 3\n",
      "Rank with noise: 4\n",
      "\n",
      "Noise: 1e-11\n",
      "Rank without noise: 3\n",
      "Rank with noise: 4\n",
      "\n",
      "Noise: 1e-20\n",
      "Rank without noise: 3\n",
      "Rank with noise: 3\n",
      "\n",
      "Noise: 1e-42\n",
      "Rank without noise: 3\n",
      "Rank with noise: 3\n",
      "\n"
     ]
    }
   ],
   "source": [
    "A = np.round(10 * np.random.randn(m, m))\n",
    "A[:, -1] = A[:, -2]\n",
    "print('A')\n",
    "print(A)\n",
    "print()\n",
    "\n",
    "noises = [0.00000001, 0.00000000001, 0.00000000000000000001, 0.000000000000000000000000000000000000000001]\n",
    "\n",
    "for noiseamp in noises:\n",
    "    B = A + noiseamp * np.random.randn(m, m)\n",
    "\n",
    "    print(f'Noise: {noiseamp}')\n",
    "    print(f'Rank without noise: {np.linalg.matrix_rank(A)}')\n",
    "    print(f'Rank with noise: {np.linalg.matrix_rank(B)}')\n",
    "    print()"
   ]
  },
  {
   "cell_type": "markdown",
   "id": "ef604b46",
   "metadata": {},
   "source": [
    "## Rank by matrix multiplication\n",
    "- Use matrix multiplication to create a 10x10 rank-4 matrix"
   ]
  },
  {
   "cell_type": "code",
   "execution_count": 21,
   "id": "d7bd92b1",
   "metadata": {},
   "outputs": [
    {
     "name": "stdout",
     "output_type": "stream",
     "text": [
      "C\n",
      "(10, 10)\n",
      "Rank: 4\n",
      "\n",
      "A\n",
      "(8, 47)\n",
      "Rank: 3\n",
      "\n"
     ]
    }
   ],
   "source": [
    "A = np.random.randn(10, 4)\n",
    "B = np.random.randn(4, 10)\n",
    "C = A @ B\n",
    "print('C')\n",
    "print(C.shape)\n",
    "print(f'Rank: {np.linalg.matrix_rank(C)}')\n",
    "print()\n",
    "\n",
    "# Generalize\n",
    "m = 8\n",
    "n = 47\n",
    "r = 3\n",
    "\n",
    "A = np.random.randn(m, r) @ np.random.randn(r, n)\n",
    "print('A')\n",
    "print(A.shape)\n",
    "print(f'Rank: {np.linalg.matrix_rank(A)}')\n",
    "print()"
   ]
  },
  {
   "cell_type": "markdown",
   "id": "82aa998b",
   "metadata": {},
   "source": [
    "## Scalar multiplication\n",
    "- Scalar multiplication with a matrix does not change the rank of the matrix\n",
    "- Except 0 multiplication, because it makes 0 matrix, and rank of 0 matrix is 0."
   ]
  },
  {
   "cell_type": "code",
   "execution_count": 33,
   "id": "76aba8ca",
   "metadata": {},
   "outputs": [
    {
     "name": "stdout",
     "output_type": "stream",
     "text": [
      "Full rank matrix rank: 4\n",
      "Scalar multiplied full rank matrix rank: 4\n",
      "\n",
      "Reduced rank matrix rank: 3\n",
      "Scalar multiplied reduced rank matrix rank: 3\n",
      "\n",
      "Full rank matrix rank: 4\n",
      "Scalar multiplied full rank matrix rank: 0\n",
      "\n",
      "Reduced rank matrix rank: 3\n",
      "Scalar multiplied reduced rank matrix rank: 0\n",
      "\n"
     ]
    }
   ],
   "source": [
    "m = 6\n",
    "n = 4\n",
    "\n",
    "# Full rank matrix\n",
    "F = np.random.randn(m, n) * np.random.randn(n)\n",
    "\n",
    "# Reduced rank matrix\n",
    "R = np.random.randn(m, n - 1) @ np.random.randn(n - 1, m)\n",
    "\n",
    "scalar = 12345\n",
    "\n",
    "print(f'Full rank matrix rank: {np.linalg.matrix_rank(F)}')\n",
    "print(f'Scalar multiplied full rank matrix rank: {np.linalg.matrix_rank(F * scalar)}')\n",
    "print()\n",
    "print(f'Reduced rank matrix rank: {np.linalg.matrix_rank(R)}')\n",
    "print(f'Scalar multiplied reduced rank matrix rank: {np.linalg.matrix_rank(R * scalar)}')\n",
    "print()\n",
    "\n",
    "scalar = 0\n",
    "\n",
    "print(f'Full rank matrix rank: {np.linalg.matrix_rank(F)}')\n",
    "print(f'Scalar multiplied full rank matrix rank: {np.linalg.matrix_rank(F * scalar)}')\n",
    "print()\n",
    "print(f'Reduced rank matrix rank: {np.linalg.matrix_rank(R)}')\n",
    "print(f'Scalar multiplied reduced rank matrix rank: {np.linalg.matrix_rank(R * scalar)}')\n",
    "print()"
   ]
  },
  {
   "cell_type": "markdown",
   "id": "d0e5b29f",
   "metadata": {},
   "source": [
    "## Rank of A^T A and A A^T"
   ]
  },
  {
   "cell_type": "code",
   "execution_count": 7,
   "id": "f9d4929c",
   "metadata": {},
   "outputs": [
    {
     "name": "stdout",
     "output_type": "stream",
     "text": [
      "AtA shape: (3, 3), rank: 3\n",
      "AAt shape: (14, 14), rank: 3\n"
     ]
    }
   ],
   "source": [
    "m = 14\n",
    "n = 3\n",
    "\n",
    "A = np.round(10 * np.random.randn(m, n))\n",
    "\n",
    "AtA = A.T @ A\n",
    "AAt = A @ A.T\n",
    "\n",
    "print(f'AtA shape: {AtA.shape}, rank: {np.linalg.matrix_rank(AtA)}')\n",
    "print(f'AAt shape: {AAt.shape}, rank: {np.linalg.matrix_rank(AAt)}')"
   ]
  },
  {
   "cell_type": "markdown",
   "id": "ce46f462",
   "metadata": {},
   "source": [
    "## Rank of multiplied and summed matrices\n",
    "- Use the following ideas\n",
    "  - rank(A B) <= min(rank(A), rank(B))\n",
    "  - rank(A + B) <= rank(A) + rank(B)"
   ]
  },
  {
   "cell_type": "code",
   "execution_count": 14,
   "id": "d229b202",
   "metadata": {},
   "outputs": [
    {
     "name": "stdout",
     "output_type": "stream",
     "text": [
      "A.shape: (2, 10), rank: 2\n",
      "B.shape: (2, 10), rank: 2\n",
      "AtA.shape: (10, 10), rank: 2\n",
      "BtB.shape: (10, 10), rank: 2\n",
      "Rank(AtA BtB) should be 2: 2\n",
      "Rank(AtA + BtB) should be 4: 4\n"
     ]
    }
   ],
   "source": [
    "m = 2\n",
    "n = 10\n",
    "\n",
    "A = np.random.rand(m, n)\n",
    "B = np.random.rand(m, n)\n",
    "\n",
    "# Rank of A and B should be min of row and column\n",
    "print(f'A.shape: {A.shape}, rank: {np.linalg.matrix_rank(A)}')\n",
    "print(f'B.shape: {B.shape}, rank: {np.linalg.matrix_rank(B)}')\n",
    "\n",
    "AtA = A.T @ A\n",
    "BtB = B.T @ B\n",
    "\n",
    "# Rank of AtA and BtB should be equal to the rank of A and B\n",
    "print(f'AtA.shape: {AtA.shape}, rank: {np.linalg.matrix_rank(AtA)}')\n",
    "print(f'BtB.shape: {BtB.shape}, rank: {np.linalg.matrix_rank(BtB)}')\n",
    "\n",
    "# Finally see rank of multiplied and summed matrices\n",
    "print(f'Rank(AtA BtB) should be 2: {np.linalg.matrix_rank(AtA @ BtB)}')\n",
    "print(f'Rank(AtA + BtB) should be 4: {np.linalg.matrix_rank(AtA + BtB)}')"
   ]
  }
 ],
 "metadata": {
  "kernelspec": {
   "display_name": "env-machine-learning",
   "language": "python",
   "name": "env-machine-learning"
  },
  "language_info": {
   "codemirror_mode": {
    "name": "ipython",
    "version": 3
   },
   "file_extension": ".py",
   "mimetype": "text/x-python",
   "name": "python",
   "nbconvert_exporter": "python",
   "pygments_lexer": "ipython3",
   "version": "3.9.5"
  }
 },
 "nbformat": 4,
 "nbformat_minor": 5
}
