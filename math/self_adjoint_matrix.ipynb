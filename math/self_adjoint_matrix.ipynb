{
 "cells": [
  {
   "cell_type": "markdown",
   "id": "01bd14d2",
   "metadata": {},
   "source": [
    "# Self-Adjoint Matrix"
   ]
  },
  {
   "cell_type": "code",
   "execution_count": 1,
   "id": "bf563b8f",
   "metadata": {},
   "outputs": [],
   "source": [
    "import numpy as np"
   ]
  },
  {
   "cell_type": "code",
   "execution_count": 9,
   "id": "7576ab90",
   "metadata": {},
   "outputs": [
    {
     "name": "stdout",
     "output_type": "stream",
     "text": [
      "A\n",
      "[[ 1.4 -0.8  1.5  1.2  1.3]\n",
      " [-0.8  7.3  0.1 -2.9  4.1]\n",
      " [ 1.5  0.1  3.1  3.1  4. ]\n",
      " [ 1.2 -2.9  3.1  5.3  2.2]\n",
      " [ 1.3  4.1  4.   2.2  7.9]]\n",
      "\n",
      "v\n",
      "[-1.4  0.8  0.4 -1.4  0.4]\n",
      "\n",
      "w\n",
      "[-1.6  0.8  0.8 -0.7 -0.5]\n",
      "\n",
      "dot1: 17.55, dot2: 17.55\n"
     ]
    }
   ],
   "source": [
    "m = 5\n",
    "\n",
    "A = np.random.randn(m, m)\n",
    "# Make it a symmetric matrix\n",
    "A = A @ A.T\n",
    "\n",
    "print('A')\n",
    "print(np.round(A, 1))\n",
    "print()\n",
    "\n",
    "v = np.random.randn(m)\n",
    "print('v')\n",
    "print(np.round(v, 1))\n",
    "print()\n",
    "\n",
    "w = np.random.randn(m)\n",
    "print('w')\n",
    "print(np.round(w, 1))\n",
    "print()\n",
    "\n",
    "dot1 = np.dot(A @ v, w)\n",
    "dot2 = np.dot(v, A @ w)\n",
    "print(f'dot1: {dot1:.2f}, dot2: {dot2:.2f}')"
   ]
  },
  {
   "cell_type": "code",
   "execution_count": null,
   "id": "f1f96e20",
   "metadata": {},
   "outputs": [],
   "source": []
  },
  {
   "cell_type": "code",
   "execution_count": null,
   "id": "06d04d60",
   "metadata": {},
   "outputs": [],
   "source": []
  }
 ],
 "metadata": {
  "kernelspec": {
   "display_name": "env-machine-learning",
   "language": "python",
   "name": "env-machine-learning"
  },
  "language_info": {
   "codemirror_mode": {
    "name": "ipython",
    "version": 3
   },
   "file_extension": ".py",
   "mimetype": "text/x-python",
   "name": "python",
   "nbconvert_exporter": "python",
   "pygments_lexer": "ipython3",
   "version": "3.9.5"
  }
 },
 "nbformat": 4,
 "nbformat_minor": 5
}
