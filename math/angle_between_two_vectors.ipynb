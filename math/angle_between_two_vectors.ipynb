{
 "cells": [
  {
   "cell_type": "markdown",
   "id": "7b281cb2",
   "metadata": {},
   "source": [
    "# Angle between Two Vectors"
   ]
  },
  {
   "cell_type": "code",
   "execution_count": 4,
   "id": "483018ad",
   "metadata": {},
   "outputs": [
    {
     "name": "stdout",
     "output_type": "stream",
     "text": [
      "angle between a and b: 119.7\n",
      "angle between a and c: 153.4\n",
      "angle between b and c: 33.7\n"
     ]
    }
   ],
   "source": [
    "import numpy as np\n",
    "\n",
    "a = [1, -2]\n",
    "b = [2, 3]\n",
    "c = [0, 2]\n",
    "\n",
    "radian = np.arccos(np.dot(a, b) / (np.linalg.norm(a) * np.linalg.norm(b)))\n",
    "print(f'angle between a and b: {np.degrees(radian):.1f}')\n",
    "\n",
    "radian = np.arccos(np.dot(a, c) / (np.linalg.norm(a) * np.linalg.norm(c)))\n",
    "print(f'angle between a and c: {np.degrees(radian):.1f}')\n",
    "\n",
    "radian = np.arccos(np.dot(b, c) / (np.linalg.norm(b) * np.linalg.norm(c)))\n",
    "print(f'angle between b and c: {np.degrees(radian):.1f}')"
   ]
  },
  {
   "cell_type": "code",
   "execution_count": 11,
   "id": "65338a71",
   "metadata": {},
   "outputs": [
    {
     "name": "stdout",
     "output_type": "stream",
     "text": [
      "a and b are obtuse angle because dot product is negative: -4\n",
      "a and c are obtuse angle because dot product is negative: -4\n",
      "a and c are acute angle because dot product is positive: 6\n"
     ]
    }
   ],
   "source": [
    "print(f'a and b are obtuse angle because dot product is negative: {np.dot(a, b)}')\n",
    "print(f'a and c are obtuse angle because dot product is negative: {np.dot(a, c)}')\n",
    "print(f'a and c are acute angle because dot product is positive: {np.dot(b, c)}')"
   ]
  }
 ],
 "metadata": {
  "kernelspec": {
   "display_name": "env-machine-learning",
   "language": "python",
   "name": "env-machine-learning"
  },
  "language_info": {
   "codemirror_mode": {
    "name": "ipython",
    "version": 3
   },
   "file_extension": ".py",
   "mimetype": "text/x-python",
   "name": "python",
   "nbconvert_exporter": "python",
   "pygments_lexer": "ipython3",
   "version": "3.9.5"
  }
 },
 "nbformat": 4,
 "nbformat_minor": 5
}
