{
 "cells": [
  {
   "cell_type": "markdown",
   "id": "9ed72bbd",
   "metadata": {},
   "source": [
    "# Matrix Norm"
   ]
  },
  {
   "cell_type": "code",
   "execution_count": 16,
   "id": "1edbf9f6",
   "metadata": {},
   "outputs": [],
   "source": [
    "import numpy as np"
   ]
  },
  {
   "cell_type": "code",
   "execution_count": 17,
   "id": "c48118d0",
   "metadata": {},
   "outputs": [],
   "source": [
    "A = np.array([\n",
    "    [1, 2, 3],\n",
    "    [4, 5, 6],\n",
    "    [7, 7, 9]\n",
    "])"
   ]
  },
  {
   "cell_type": "markdown",
   "id": "3ce7b530",
   "metadata": {},
   "source": [
    "## Frobenius norm"
   ]
  },
  {
   "cell_type": "code",
   "execution_count": 18,
   "id": "1be268a5",
   "metadata": {},
   "outputs": [
    {
     "name": "stdout",
     "output_type": "stream",
     "text": [
      "Frobenius norm\n",
      "16.4\n"
     ]
    }
   ],
   "source": [
    "norm_frob = np.linalg.norm(A, 'fro')\n",
    "\n",
    "print('Frobenius norm')\n",
    "print(np.round(norm_frob, 1))"
   ]
  },
  {
   "cell_type": "markdown",
   "id": "1718702c",
   "metadata": {},
   "source": [
    "## Induced 2-norm"
   ]
  },
  {
   "cell_type": "code",
   "execution_count": 19,
   "id": "2f2aa89c",
   "metadata": {
    "scrolled": true
   },
   "outputs": [
    {
     "name": "stdout",
     "output_type": "stream",
     "text": [
      "Induced 2-norm\n",
      "16.4\n",
      "\n",
      "lamb\n",
      "16.4\n"
     ]
    }
   ],
   "source": [
    "norm_ind2 = np.linalg.norm(A, 2)\n",
    "\n",
    "print('Induced 2-norm')\n",
    "print(np.round(norm_ind2, 1))\n",
    "print()\n",
    "\n",
    "# Mechanism of computing induced 2-norm\n",
    "# Largest singular value (eigenvalue) of the matrix and square root\n",
    "lamb = np.sqrt(np.max(np.linalg.eig(A.T @ A)[0]))\n",
    "print('lamb')\n",
    "print(np.round(lamb, 1))"
   ]
  },
  {
   "cell_type": "markdown",
   "id": "e07e42a7",
   "metadata": {},
   "source": [
    "## Induced 2-norm after QR decomposition"
   ]
  },
  {
   "cell_type": "code",
   "execution_count": 20,
   "id": "f95d93b6",
   "metadata": {},
   "outputs": [
    {
     "name": "stdout",
     "output_type": "stream",
     "text": [
      "Induced 2-norm\n",
      "1.0\n",
      "\n",
      "lamb\n",
      "1.0\n"
     ]
    }
   ],
   "source": [
    "# Q is orthogonal matrix, every column is orthogonal to every other column,\n",
    "# and magnitude of each column is 1\n",
    "Q, R = np.linalg.qr(np.random.randn(5, 5))\n",
    "\n",
    "A_qr = Q\n",
    "\n",
    "norm_ind2 = np.linalg.norm(A_qr, 2)\n",
    "\n",
    "print('Induced 2-norm')\n",
    "print(np.round(norm_ind2, 1))\n",
    "print()\n",
    "\n",
    "# Mechanism of computing induced 2-norm\n",
    "# Largest singular value (eigenvalue) of the matrix and square root\n",
    "lamb = np.sqrt(np.max(np.linalg.eig(A_qr.T @ A_qr)[0]))\n",
    "print('lamb')\n",
    "print(np.round(lamb, 1))"
   ]
  },
  {
   "cell_type": "markdown",
   "id": "437e4096",
   "metadata": {},
   "source": [
    "## Schatten p-norm"
   ]
  },
  {
   "cell_type": "code",
   "execution_count": 21,
   "id": "0abcb4e6",
   "metadata": {},
   "outputs": [
    {
     "name": "stdout",
     "output_type": "stream",
     "text": [
      "Schatten p-norm with p 1\n",
      "17.8\n",
      "\n",
      "Schatten p-norm with p 2\n",
      "16.4\n",
      "\n"
     ]
    }
   ],
   "source": [
    "p = 1\n",
    "# Summing up all the singular values [1]\n",
    "singular_values = np.linalg.svd(A)[1]\n",
    "norm_schat = np.sum(singular_values ** p) ** (1 / p)\n",
    "\n",
    "print(f'Schatten p-norm with p {p}')\n",
    "print(np.round(norm_schat, 1))\n",
    "print()\n",
    "\n",
    "p = 2\n",
    "# Summing up all the singular values [1]\n",
    "singular_values = np.linalg.svd(A)[1]\n",
    "norm_schat = np.sum(singular_values ** p) ** (1 / p)\n",
    "\n",
    "print(f'Schatten p-norm with p {p}')\n",
    "print(np.round(norm_schat, 1))\n",
    "print()"
   ]
  },
  {
   "cell_type": "code",
   "execution_count": null,
   "id": "6da90157",
   "metadata": {},
   "outputs": [],
   "source": []
  },
  {
   "cell_type": "code",
   "execution_count": null,
   "id": "1f5e0da2",
   "metadata": {},
   "outputs": [],
   "source": []
  }
 ],
 "metadata": {
  "kernelspec": {
   "display_name": "env-machine-learning",
   "language": "python",
   "name": "env-machine-learning"
  },
  "language_info": {
   "codemirror_mode": {
    "name": "ipython",
    "version": 3
   },
   "file_extension": ".py",
   "mimetype": "text/x-python",
   "name": "python",
   "nbconvert_exporter": "python",
   "pygments_lexer": "ipython3",
   "version": "3.9.5"
  }
 },
 "nbformat": 4,
 "nbformat_minor": 5
}
