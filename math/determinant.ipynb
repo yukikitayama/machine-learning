{
 "cells": [
  {
   "cell_type": "markdown",
   "id": "2e8ff281",
   "metadata": {},
   "source": [
    "# Determinant"
   ]
  },
  {
   "cell_type": "code",
   "execution_count": 3,
   "id": "69a8e346",
   "metadata": {},
   "outputs": [],
   "source": [
    "import numpy as np\n",
    "import matplotlib.pyplot as plt"
   ]
  },
  {
   "cell_type": "markdown",
   "id": "33485a47",
   "metadata": {},
   "source": [
    "## Linearly independent matrix determinant"
   ]
  },
  {
   "cell_type": "code",
   "execution_count": 4,
   "id": "b846cac5",
   "metadata": {},
   "outputs": [
    {
     "name": "stdout",
     "output_type": "stream",
     "text": [
      "[[ 0.66506226 -0.44169975]\n",
      " [-0.54624859  0.84358644]]\n",
      "0.31975963729005014\n"
     ]
    }
   ],
   "source": [
    "A = np.random.randn(2, 2)\n",
    "\n",
    "print(A)\n",
    "print(np.linalg.det(A))"
   ]
  },
  {
   "cell_type": "markdown",
   "id": "ffaf4a6b",
   "metadata": {},
   "source": [
    "## Linearly dependent matrix determinant"
   ]
  },
  {
   "cell_type": "code",
   "execution_count": 5,
   "id": "9140b730",
   "metadata": {
    "scrolled": true
   },
   "outputs": [
    {
     "name": "stdout",
     "output_type": "stream",
     "text": [
      "[[1 3]\n",
      " [1 3]]\n",
      "0.0\n"
     ]
    }
   ],
   "source": [
    "A = np.array([\n",
    "    [1, 3],\n",
    "    [1, 3]\n",
    "])\n",
    "\n",
    "print(A)\n",
    "print(np.linalg.det(A))"
   ]
  },
  {
   "cell_type": "markdown",
   "id": "a5aa61ae",
   "metadata": {},
   "source": [
    "## Rank and determinant from a matrix with linearly dependent set"
   ]
  },
  {
   "cell_type": "code",
   "execution_count": 9,
   "id": "291cfbc4",
   "metadata": {},
   "outputs": [
    {
     "name": "stdout",
     "output_type": "stream",
     "text": [
      "Matrix\n",
      "[[ 0.7  0.7 -0.6]\n",
      " [-0.8 -0.8 -0.6]\n",
      " [ 1.1  1.1 -0.4]]\n",
      "\n",
      "Rank: 2\n",
      "Rank is not full-rank, because of linear dependency\n",
      "\n",
      "Determinant: -1.0371662519785668e-16\n",
      "Determinant is 0 because of linear dependency\n"
     ]
    }
   ],
   "source": [
    "m = 3\n",
    "A = np.random.randn(m, m)\n",
    "\n",
    "# Impose linear dependency\n",
    "A[:, 0] = A[:, 1]\n",
    "\n",
    "print('Matrix')\n",
    "print(np.round(A, 1))\n",
    "print()\n",
    "print(f'Rank: {np.linalg.matrix_rank(A)}')\n",
    "print('Rank is not full-rank, because of linear dependency')\n",
    "print()\n",
    "print(f'Determinant: {np.linalg.det(A)}')\n",
    "print('Determinant is 0 because of linear dependency')"
   ]
  },
  {
   "cell_type": "markdown",
   "id": "e9e17824",
   "metadata": {},
   "source": [
    "## Swap rows effect on determinant"
   ]
  },
  {
   "cell_type": "code",
   "execution_count": 6,
   "id": "eecdf0d4",
   "metadata": {},
   "outputs": [
    {
     "name": "stdout",
     "output_type": "stream",
     "text": [
      "A\n",
      "(6, 6)\n",
      "[[ 0.7  1.4 -0.3  1.   0.7  0.1]\n",
      " [ 0.3  0.3 -0.   0.1 -0.1  0.3]\n",
      " [ 0.8 -0.1  2.9  1.  -1.8  0.2]\n",
      " [-1.5  0.5 -0.2 -1.2  0.4 -0.6]\n",
      " [-1.1 -1.6  1.5  0.8 -1.6 -0.1]\n",
      " [-2.  -0.9  0.3 -0.7 -1.7 -0.5]]\n",
      "\n",
      "Before row swap determinant: 3.0245933712182347\n",
      "\n",
      "After 1 row swap determinant: -3.0245933712182347\n",
      "1 row swap flips the sign, but does not change the magnitude\n",
      "\n",
      "After 2 row swaps determinant: 3.0245933712182347\n",
      "2 row swaps turn the sign back to the original\n"
     ]
    }
   ],
   "source": [
    "m = 6\n",
    "A = np.random.randn(m, m)\n",
    "\n",
    "print('A')\n",
    "print(A.shape)\n",
    "print(np.round(A, 1))\n",
    "print()\n",
    "\n",
    "print(f'Before row swap determinant: {np.linalg.det(A)}')\n",
    "print()\n",
    "\n",
    "# Swap row 0 and row 1\n",
    "As = A[[1, 0, 2, 3, 4, 5], :]\n",
    "print(f'After 1 row swap determinant: {np.linalg.det(As)}')\n",
    "print('1 row swap flips the sign, but does not change the magnitude')\n",
    "print()\n",
    "\n",
    "# Swap row 3 and row 4\n",
    "Ass = A[[1, 0, 2, 4, 3, 5], :]\n",
    "print(f'After 2 row swaps determinant: {np.linalg.det(Ass)}')\n",
    "print('2 row swaps turn the sign back to the original')"
   ]
  },
  {
   "cell_type": "markdown",
   "id": "2bac5bd0",
   "metadata": {},
   "source": [
    "## Shifting a linearly dependent matrix gradually and check determinant"
   ]
  },
  {
   "cell_type": "code",
   "execution_count": 6,
   "id": "a865419e",
   "metadata": {
    "scrolled": true
   },
   "outputs": [
    {
     "data": {
      "image/png": "[encoded data removed]",
      "text/plain": [
       "<Figure size 432x288 with 1 Axes>"
      ]
     },
     "metadata": {
      "needs_background": "light"
     },
     "output_type": "display_data"
    }
   ],
   "source": [
    "lambdas = np.linspace(0, .1, 30)\n",
    "\n",
    "tmp = np.zeros(1000)\n",
    "dets = np.zeros(len(lambdas))\n",
    "\n",
    "for deti in range(len(lambdas)):\n",
    "    \n",
    "    for i in range(1000):\n",
    "        \n",
    "        M = np.random.randn(20, 20)\n",
    "        \n",
    "        # Impose a linear dependency\n",
    "        M[:, 0] = M[:, 1]\n",
    "        \n",
    "        # Compute the magnitude of determinant of shifted linear dependent matrix\n",
    "        tmp[i] = abs(np.linalg.det(M + lambdas[deti] * np.eye(20)))\n",
    "        \n",
    "    # Take average for each lambda\n",
    "    dets[deti] = np.mean(tmp)\n",
    "    \n",
    "plt.plot(lambdas, dets, 's-')\n",
    "plt.xlabel('Fraction of identity for shifting')\n",
    "plt.ylabel('Determinant')\n",
    "plt.show()"
   ]
  },
  {
   "cell_type": "markdown",
   "id": "22e2125b",
   "metadata": {},
   "source": [
    "## det(AB) = det(A) * det(B)"
   ]
  },
  {
   "cell_type": "code",
   "execution_count": 15,
   "id": "4ab9a780",
   "metadata": {},
   "outputs": [
    {
     "name": "stdout",
     "output_type": "stream",
     "text": [
      "Determinant of A: 0.983\n",
      "Determinant of B: -0.524\n",
      "Determinant of det(A) * det(B): -0.515\n",
      "Determinant of det(AB): -0.515\n"
     ]
    }
   ],
   "source": [
    "m = 3\n",
    "\n",
    "A = np.random.randn(m, m)\n",
    "B = np.random.randn(m, m)\n",
    "AB = A @ B\n",
    "\n",
    "print(f'Determinant of A: {np.linalg.det(A):.3f}')\n",
    "print(f'Determinant of B: {np.linalg.det(B):.3f}')\n",
    "print(f'Determinant of det(A) * det(B): {np.linalg.det(A) * np.linalg.det(B):.3f}')\n",
    "print(f'Determinant of det(AB): {np.linalg.det(AB):.3f}')"
   ]
  },
  {
   "cell_type": "code",
   "execution_count": 18,
   "id": "2971c360",
   "metadata": {},
   "outputs": [
    {
     "data": {
      "image/png": "[encoded data removed]",
      "text/plain": [
       "<Figure size 432x288 with 1 Axes>"
      ]
     },
     "metadata": {
      "needs_background": "light"
     },
     "output_type": "display_data"
    }
   ],
   "source": [
    "m = 40\n",
    "\n",
    "dets = np.zeros((m, 2))\n",
    "\n",
    "for k in range(m):\n",
    "    A = np.random.randn(k, k)\n",
    "    B = np.random.randn(k, k)\n",
    "    AB = A @ B\n",
    "    \n",
    "    # det(A) * det(B)\n",
    "    dets[k, 0] = np.linalg.det(A) * np.linalg.det(B)\n",
    "    \n",
    "    # det(AB)\n",
    "    dets[k, 1] = np.linalg.det(AB)\n",
    "    \n",
    "# det(A) * det(B) - det(AB) should be theoretically 0, \n",
    "# but because of computer rounding error, it won't be zero for a large matrix\n",
    "plt.plot(dets[:, 0] - dets[:, 1], 's-')\n",
    "plt.ylim([-1, 1])\n",
    "plt.xlabel('Matrix size\\nDifference is 0 for small matrices, but it cannot compute 0 for large matrices')\n",
    "plt.ylabel('det(A) * det(B) - det(AB)')\n",
    "plt.show()"
   ]
  }
 ],
 "metadata": {
  "kernelspec": {
   "display_name": "env-machine-learning",
   "language": "python",
   "name": "env-machine-learning"
  },
  "language_info": {
   "codemirror_mode": {
    "name": "ipython",
    "version": 3
   },
   "file_extension": ".py",
   "mimetype": "text/x-python",
   "name": "python",
   "nbconvert_exporter": "python",
   "pygments_lexer": "ipython3",
   "version": "3.9.5"
  }
 },
 "nbformat": 4,
 "nbformat_minor": 5
}
