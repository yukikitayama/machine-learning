{
 "cells": [
  {
   "cell_type": "markdown",
   "id": "7592dbe0",
   "metadata": {},
   "source": [
    "# Cauchy-Schwarz Inequality"
   ]
  },
  {
   "cell_type": "code",
   "execution_count": 21,
   "id": "3cf8c108",
   "metadata": {},
   "outputs": [
    {
     "name": "stdout",
     "output_type": "stream",
     "text": [
      "a: [1.76405235 0.40015721 0.97873798]\n",
      "b: [ 2.2408932   1.86755799 -0.97727788]\n",
      "scaler: [0.95008842]\n",
      "c: [1.6760057  0.38018473 0.92988762]\n",
      "\n",
      "a and b are linearly independent, so we should have <\n",
      "np.linalg.norm() returns a length (or magnitude or norm) of a vector\n",
      "3.7 < 6.3\n",
      "\n",
      "a and c are linearly dependent, so we should have =\n",
      "4.0 = 4.0\n"
     ]
    }
   ],
   "source": [
    "import numpy as np\n",
    "np.random.seed(0)\n",
    "\n",
    "dim = 3\n",
    "\n",
    "# Make linearly independent vector a and b\n",
    "a = np.random.randn(dim)\n",
    "b = np.random.randn(dim)\n",
    "\n",
    "print(f'a: {a}')\n",
    "print(f'b: {b}')\n",
    "\n",
    "# Make vector c which is linearly dependent on a, because it's a scaled vector of a\n",
    "scaler = np.random.randn(1)\n",
    "c = scaler * a\n",
    "print(f'scaler: {scaler}')\n",
    "print(f'c: {c}')\n",
    "\n",
    "# Dot product\n",
    "aTb = np.dot(a, b)\n",
    "aTc = np.dot(a, c)\n",
    "\n",
    "print()\n",
    "\n",
    "# Check cauchy-schwarz inequality\n",
    "print('a and b are linearly independent, so we should have <')\n",
    "print('np.linalg.norm() returns a length (or magnitude or norm) of a vector')\n",
    "print(f'{abs(aTb):.1f} < {np.linalg.norm(a) * np.linalg.norm(b):.1f}')\n",
    "\n",
    "print()\n",
    "\n",
    "print('a and c are linearly dependent, so we should have =')\n",
    "print(f'{abs(aTc):.1f} = {np.linalg.norm(a) * np.linalg.norm(c):.1f}')"
   ]
  }
 ],
 "metadata": {
  "kernelspec": {
   "display_name": "env-machine-learning",
   "language": "python",
   "name": "env-machine-learning"
  },
  "language_info": {
   "codemirror_mode": {
    "name": "ipython",
    "version": 3
   },
   "file_extension": ".py",
   "mimetype": "text/x-python",
   "name": "python",
   "nbconvert_exporter": "python",
   "pygments_lexer": "ipython3",
   "version": "3.9.5"
  }
 },
 "nbformat": 4,
 "nbformat_minor": 5
}
