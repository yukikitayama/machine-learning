{
 "cells": [
  {
   "cell_type": "markdown",
   "id": "fb42eb8f",
   "metadata": {},
   "source": [
    "# Symmetric Matrix"
   ]
  },
  {
   "cell_type": "code",
   "execution_count": 1,
   "id": "31e0ffaa",
   "metadata": {},
   "outputs": [],
   "source": [
    "import numpy as np\n",
    "from sympy import *"
   ]
  },
  {
   "cell_type": "markdown",
   "id": "e368cc50",
   "metadata": {},
   "source": [
    "## Additive method"
   ]
  },
  {
   "cell_type": "code",
   "execution_count": 5,
   "id": "5e2aa1ce",
   "metadata": {},
   "outputs": [
    {
     "name": "stdout",
     "output_type": "stream",
     "text": [
      "Original matrix\n",
      "[[ 0.3 -1.6 -0.8  1.  -1.3]\n",
      " [-1.1 -0.9 -0.1 -0.3  0.7]\n",
      " [ 0.4  2.2 -1.9 -0.3 -0.8]\n",
      " [ 2.2 -0.7  1.1  0.4 -1.2]\n",
      " [ 2.1 -2.2 -0.6 -1.  -0.8]]\n",
      "\n",
      "Symmetric matrix\n",
      "[[ 0.3 -1.4 -0.2  1.6  0.4]\n",
      " [-1.4 -0.9  1.  -0.5 -0.7]\n",
      " [-0.2  1.  -1.9  0.4 -0.7]\n",
      " [ 1.6 -0.5  0.4  0.4 -1.1]\n",
      " [ 0.4 -0.7 -0.7 -1.1 -0.8]]\n",
      "\n"
     ]
    }
   ],
   "source": [
    "m = 5\n",
    "n = 5\n",
    "\n",
    "a = np.random.randn(m, n)\n",
    "print('Original matrix')\n",
    "print(np.round(a, 1))\n",
    "print()\n",
    "\n",
    "symmetric = (a + a.T) / 2\n",
    "print('Symmetric matrix')\n",
    "print(np.round(symmetric, 1))\n",
    "print()"
   ]
  },
  {
   "cell_type": "markdown",
   "id": "38bd6a1c",
   "metadata": {},
   "source": [
    "## Multiplicative method"
   ]
  },
  {
   "cell_type": "code",
   "execution_count": 9,
   "id": "ef671413",
   "metadata": {},
   "outputs": [
    {
     "name": "stdout",
     "output_type": "stream",
     "text": [
      "Original matrix\n",
      "[[-0.8 -1.4  0.4]\n",
      " [ 1.4  1.6 -1.3]\n",
      " [ 1.8  0.1  1.6]\n",
      " [ 1.8  1.1  0.7]\n",
      " [ 0.3  0.7 -0.5]]\n",
      "\n",
      "Symmetric matrix\n",
      "[[ 9.5  5.8  1.9]\n",
      " [ 5.8  6.2 -2.1]\n",
      " [ 1.9 -2.1  5.1]]\n",
      "\n",
      "Symmetric matrix\n",
      "[[ 2.6 -3.9 -1.  -2.6 -1.4]\n",
      " [-3.9  6.4  0.8  3.4  2.3]\n",
      " [-1.   0.8  5.9  4.6 -0.1]\n",
      " [-2.6  3.4  4.6  5.   1. ]\n",
      " [-1.4  2.3 -0.1  1.   0.9]]\n",
      "\n"
     ]
    }
   ],
   "source": [
    "m = 5\n",
    "n = 3\n",
    "\n",
    "a = np.random.randn(m, n)\n",
    "print('Original matrix')\n",
    "print(np.round(a, 1))\n",
    "print()\n",
    "\n",
    "symmetric_1 = a.T @ a\n",
    "print('Symmetric matrix')\n",
    "print(np.round(symmetric_1, 1))\n",
    "print()\n",
    "\n",
    "symmetric_2 = a @ a.T\n",
    "print('Symmetric matrix')\n",
    "print(np.round(symmetric_2, 1))\n",
    "print()"
   ]
  },
  {
   "cell_type": "markdown",
   "id": "ed5be606",
   "metadata": {},
   "source": [
    "## Covariance matrix"
   ]
  },
  {
   "cell_type": "code",
   "execution_count": 19,
   "id": "c986e7b3",
   "metadata": {},
   "outputs": [
    {
     "name": "stdout",
     "output_type": "stream",
     "text": [
      "Original matrix\n",
      "[[ 0.6  1.6 -1. ]\n",
      " [-0.9 -0.2 -1.6]\n",
      " [ 0.2 -0.8 -1.6]\n",
      " [-0.  -1.3  1.2]\n",
      " [-1.1  1.1  0.4]]\n",
      "\n",
      "Covariance matrix\n",
      "[[ 1.8  1.   0.6 -1.7  0.3]\n",
      " [ 1.   0.5  0.3 -0.9  0.2]\n",
      " [ 0.6  0.3  0.8 -0.5 -0.8]\n",
      " [-1.7 -0.9 -0.5  1.6 -0.5]\n",
      " [ 0.3  0.2 -0.8 -0.5  1.3]]\n",
      "\n",
      "Symmetric matrix\n",
      "[[ 4.2  0.9  0.4 -3.5  0.7]\n",
      " [ 0.9  3.4  2.5 -1.7  0.2]\n",
      " [ 0.4  2.5  3.1 -0.8 -1.7]\n",
      " [-3.5 -1.7 -0.8  3.3 -0.9]\n",
      " [ 0.7  0.2 -1.7 -0.9  2.6]]\n",
      "\n"
     ]
    }
   ],
   "source": [
    "m = 5\n",
    "n = 3\n",
    "\n",
    "a = np.random.randn(m, n)\n",
    "print('Original matrix')\n",
    "print(np.round(a, 1))\n",
    "print()\n",
    "\n",
    "cov = np.cov(a)\n",
    "print('Covariance matrix')\n",
    "print(np.round(cov, 1))\n",
    "print()\n",
    "\n",
    "symmetric = a @ a.T\n",
    "print('Symmetric matrix')\n",
    "print(np.round(symmetric, 1))\n",
    "print()"
   ]
  },
  {
   "cell_type": "markdown",
   "id": "7335296c",
   "metadata": {},
   "source": [
    "## Combined symmetric matrices"
   ]
  },
  {
   "cell_type": "code",
   "execution_count": 7,
   "id": "f1678a85",
   "metadata": {},
   "outputs": [
    {
     "name": "stdout",
     "output_type": "stream",
     "text": [
      "Sum\n",
      "[[ 4.3 -4.1 -0.2]\n",
      " [-4.1  8.1 -1.1]\n",
      " [-0.2 -1.1  1.1]]\n",
      "[[0. 0. 0.]\n",
      " [0. 0. 0.]\n",
      " [0. 0. 0.]]\n",
      "\n",
      "Multiplication\n",
      "[[  5.7 -15.2   5.5]\n",
      " [ -6.3  18.7  -6.8]\n",
      " [ -0.6   1.1  -0.4]]\n",
      "[[ 0.  -8.9  6.1]\n",
      " [ 8.9  0.  -7.8]\n",
      " [-6.1  7.8  0. ]]\n",
      "\n",
      "Hadamard multiplication\n",
      "[[ 3.2  2.6 -0.2]\n",
      " [ 2.6 16.6 -0.5]\n",
      " [-0.2 -0.5  0.3]]\n",
      "[[0. 0. 0.]\n",
      " [0. 0. 0.]\n",
      " [0. 0. 0.]]\n",
      "\n"
     ]
    }
   ],
   "source": [
    "m = 3\n",
    "A = np.random.randn(m, m)\n",
    "AtA = A.T @ A\n",
    "\n",
    "B = np.random.randn(m, m)\n",
    "BtB = B.T @ B\n",
    "\n",
    "# Sum\n",
    "Cs = AtA + BtB\n",
    "\n",
    "# Multiplication\n",
    "Cm = AtA @ BtB\n",
    "\n",
    "# Hadamard multiplication\n",
    "Ch = AtA * BtB\n",
    "\n",
    "print('Sum')\n",
    "print(np.round(Cs, 1))\n",
    "print(np.round(Cs - Cs.T, 1))\n",
    "print()\n",
    "\n",
    "print('Multiplication')\n",
    "print(np.round(Cm, 1))\n",
    "print(np.round(Cm - Cm.T, 1))\n",
    "print()\n",
    "\n",
    "print('Hadamard multiplication')\n",
    "print(np.round(Ch, 1))\n",
    "print(np.round(Ch - Ch.T, 1))\n",
    "print()"
   ]
  },
  {
   "cell_type": "code",
   "execution_count": 11,
   "id": "db169ff4",
   "metadata": {},
   "outputs": [
    {
     "name": "stdout",
     "output_type": "stream",
     "text": [
      "Matrix([[0, 0, 0, 0], [0, 0, 0, 0], [0, 0, 0, 0], [0, 0, 0, 0]])\n",
      "Matrix([[0, 0, 0, 0], [0, 0, 0, 0], [0, 0, 0, 0], [0, 0, 0, 0]])\n",
      "\n",
      "a\n",
      "a\n",
      "a\n",
      "a\n",
      "\n",
      "l\n",
      "l\n",
      "l\n",
      "l\n",
      "\n"
     ]
    }
   ],
   "source": [
    "a,b,c,d,e,f,g,h,i,j,k,l,m,n,o,p,q,r,s,t,u = symbols('a b c d e f g h i j k l m n o p q r s t u', real=True)\n",
    "\n",
    "# Make symmetric matrices\n",
    "A = Matrix([\n",
    "    [a, b, c, d],\n",
    "    [b, a, e, f],\n",
    "    [c, e, a, h],\n",
    "    [d, f, h, a]\n",
    "])\n",
    "\n",
    "B = Matrix([\n",
    "    [l, m, n, o],\n",
    "    [m, l, q, r],\n",
    "    [n, q, l, t],\n",
    "    [o, r, t, l]\n",
    "])\n",
    "\n",
    "# Confirm they are symmetric\n",
    "print(A - A.T)\n",
    "print(B - B.T)\n",
    "print()\n",
    "\n",
    "# Confirm diagonal elements are constant\n",
    "for i in range(0, np.size(A, 0)):\n",
    "    print(A[i, i])\n",
    "print()\n",
    "\n",
    "for i in range(0, np.size(B, 0)):\n",
    "    print(B[i, i])\n",
    "print()"
   ]
  },
  {
   "cell_type": "code",
   "execution_count": 13,
   "id": "e6448653",
   "metadata": {},
   "outputs": [
    {
     "data": {
      "text/latex": [
       "$\\displaystyle \\left[\\begin{matrix}0 & c q + d r - e n - f o & b q + d t - e m - h o & b r + c t - f m - h n\\\\- c q - d r + e n + f o & 0 & b n - c m + f t - h r & b o - d m + e t - h q\\\\- b q - d t + e m + h o & - b n + c m - f t + h r & 0 & c o - d n + e r - f q\\\\- b r - c t + f m + h n & - b o + d m - e t + h q & - c o + d n - e r + f q & 0\\end{matrix}\\right]$"
      ],
      "text/plain": [
       "⎡          0             c⋅q + d⋅r - e⋅n - f⋅o   b⋅q + d⋅t - e⋅m - h⋅o   b⋅r +\n",
       "⎢                                                                             \n",
       "⎢-c⋅q - d⋅r + e⋅n + f⋅o            0             b⋅n - c⋅m + f⋅t - h⋅r   b⋅o -\n",
       "⎢                                                                             \n",
       "⎢-b⋅q - d⋅t + e⋅m + h⋅o  -b⋅n + c⋅m - f⋅t + h⋅r            0             c⋅o -\n",
       "⎢                                                                             \n",
       "⎣-b⋅r - c⋅t + f⋅m + h⋅n  -b⋅o + d⋅m - e⋅t + h⋅q  -c⋅o + d⋅n - e⋅r + f⋅q       \n",
       "\n",
       " c⋅t - f⋅m - h⋅n⎤\n",
       "                ⎥\n",
       " d⋅m + e⋅t - h⋅q⎥\n",
       "                ⎥\n",
       " d⋅n + e⋅r - f⋅q⎥\n",
       "                ⎥\n",
       "     0          ⎦"
      ]
     },
     "execution_count": 13,
     "metadata": {},
     "output_type": "execute_result"
    }
   ],
   "source": [
    "init_printing()\n",
    "\n",
    "# Because this does not produce zero matrix, the ouput matrix is not symmetric\n",
    "A @ B - (A @ B).T"
   ]
  },
  {
   "cell_type": "code",
   "execution_count": 14,
   "id": "983c6296",
   "metadata": {},
   "outputs": [
    {
     "data": {
      "text/latex": [
       "$\\displaystyle \\left[\\begin{matrix}0 & 0\\\\0 & 0\\end{matrix}\\right]$"
      ],
      "text/plain": [
       "⎡0  0⎤\n",
       "⎢    ⎥\n",
       "⎣0  0⎦"
      ]
     },
     "execution_count": 14,
     "metadata": {},
     "output_type": "execute_result"
    }
   ],
   "source": [
    "# Only 2 by 2 matrix produces symmetric matrix\n",
    "n = 2\n",
    "A1 = A[0:n, 0:n]\n",
    "B1 = B[0:n, 0:n]\n",
    "\n",
    "A1 @ B1 - (A1 @ B1).T"
   ]
  },
  {
   "cell_type": "code",
   "execution_count": null,
   "id": "86dc9eab",
   "metadata": {},
   "outputs": [],
   "source": []
  },
  {
   "cell_type": "code",
   "execution_count": null,
   "id": "ddd9ccaa",
   "metadata": {},
   "outputs": [],
   "source": []
  },
  {
   "cell_type": "code",
   "execution_count": null,
   "id": "8153c51c",
   "metadata": {},
   "outputs": [],
   "source": []
  }
 ],
 "metadata": {
  "kernelspec": {
   "display_name": "env-machine-learning",
   "language": "python",
   "name": "env-machine-learning"
  },
  "language_info": {
   "codemirror_mode": {
    "name": "ipython",
    "version": 3
   },
   "file_extension": ".py",
   "mimetype": "text/x-python",
   "name": "python",
   "nbconvert_exporter": "python",
   "pygments_lexer": "ipython3",
   "version": "3.9.5"
  }
 },
 "nbformat": 4,
 "nbformat_minor": 5
}
