{
 "cells": [
  {
   "cell_type": "markdown",
   "id": "fb42eb8f",
   "metadata": {},
   "source": [
    "# Symmetric Matrix"
   ]
  },
  {
   "cell_type": "code",
   "execution_count": 1,
   "id": "31e0ffaa",
   "metadata": {},
   "outputs": [],
   "source": [
    "import numpy as np"
   ]
  },
  {
   "cell_type": "markdown",
   "id": "e368cc50",
   "metadata": {},
   "source": [
    "## Additive method"
   ]
  },
  {
   "cell_type": "code",
   "execution_count": 5,
   "id": "5e2aa1ce",
   "metadata": {},
   "outputs": [
    {
     "name": "stdout",
     "output_type": "stream",
     "text": [
      "Original matrix\n",
      "[[ 0.3 -1.6 -0.8  1.  -1.3]\n",
      " [-1.1 -0.9 -0.1 -0.3  0.7]\n",
      " [ 0.4  2.2 -1.9 -0.3 -0.8]\n",
      " [ 2.2 -0.7  1.1  0.4 -1.2]\n",
      " [ 2.1 -2.2 -0.6 -1.  -0.8]]\n",
      "\n",
      "Symmetric matrix\n",
      "[[ 0.3 -1.4 -0.2  1.6  0.4]\n",
      " [-1.4 -0.9  1.  -0.5 -0.7]\n",
      " [-0.2  1.  -1.9  0.4 -0.7]\n",
      " [ 1.6 -0.5  0.4  0.4 -1.1]\n",
      " [ 0.4 -0.7 -0.7 -1.1 -0.8]]\n",
      "\n"
     ]
    }
   ],
   "source": [
    "m = 5\n",
    "n = 5\n",
    "\n",
    "a = np.random.randn(m, n)\n",
    "print('Original matrix')\n",
    "print(np.round(a, 1))\n",
    "print()\n",
    "\n",
    "symmetric = (a + a.T) / 2\n",
    "print('Symmetric matrix')\n",
    "print(np.round(symmetric, 1))\n",
    "print()"
   ]
  },
  {
   "cell_type": "markdown",
   "id": "38bd6a1c",
   "metadata": {},
   "source": [
    "## Multiplicative method"
   ]
  },
  {
   "cell_type": "code",
   "execution_count": 9,
   "id": "ef671413",
   "metadata": {},
   "outputs": [
    {
     "name": "stdout",
     "output_type": "stream",
     "text": [
      "Original matrix\n",
      "[[-0.8 -1.4  0.4]\n",
      " [ 1.4  1.6 -1.3]\n",
      " [ 1.8  0.1  1.6]\n",
      " [ 1.8  1.1  0.7]\n",
      " [ 0.3  0.7 -0.5]]\n",
      "\n",
      "Symmetric matrix\n",
      "[[ 9.5  5.8  1.9]\n",
      " [ 5.8  6.2 -2.1]\n",
      " [ 1.9 -2.1  5.1]]\n",
      "\n",
      "Symmetric matrix\n",
      "[[ 2.6 -3.9 -1.  -2.6 -1.4]\n",
      " [-3.9  6.4  0.8  3.4  2.3]\n",
      " [-1.   0.8  5.9  4.6 -0.1]\n",
      " [-2.6  3.4  4.6  5.   1. ]\n",
      " [-1.4  2.3 -0.1  1.   0.9]]\n",
      "\n"
     ]
    }
   ],
   "source": [
    "m = 5\n",
    "n = 3\n",
    "\n",
    "a = np.random.randn(m, n)\n",
    "print('Original matrix')\n",
    "print(np.round(a, 1))\n",
    "print()\n",
    "\n",
    "symmetric_1 = a.T @ a\n",
    "print('Symmetric matrix')\n",
    "print(np.round(symmetric_1, 1))\n",
    "print()\n",
    "\n",
    "symmetric_2 = a @ a.T\n",
    "print('Symmetric matrix')\n",
    "print(np.round(symmetric_2, 1))\n",
    "print()"
   ]
  },
  {
   "cell_type": "markdown",
   "id": "ed5be606",
   "metadata": {},
   "source": [
    "## Covariance matrix"
   ]
  },
  {
   "cell_type": "code",
   "execution_count": 19,
   "id": "c986e7b3",
   "metadata": {},
   "outputs": [
    {
     "name": "stdout",
     "output_type": "stream",
     "text": [
      "Original matrix\n",
      "[[ 0.6  1.6 -1. ]\n",
      " [-0.9 -0.2 -1.6]\n",
      " [ 0.2 -0.8 -1.6]\n",
      " [-0.  -1.3  1.2]\n",
      " [-1.1  1.1  0.4]]\n",
      "\n",
      "Covariance matrix\n",
      "[[ 1.8  1.   0.6 -1.7  0.3]\n",
      " [ 1.   0.5  0.3 -0.9  0.2]\n",
      " [ 0.6  0.3  0.8 -0.5 -0.8]\n",
      " [-1.7 -0.9 -0.5  1.6 -0.5]\n",
      " [ 0.3  0.2 -0.8 -0.5  1.3]]\n",
      "\n",
      "Symmetric matrix\n",
      "[[ 4.2  0.9  0.4 -3.5  0.7]\n",
      " [ 0.9  3.4  2.5 -1.7  0.2]\n",
      " [ 0.4  2.5  3.1 -0.8 -1.7]\n",
      " [-3.5 -1.7 -0.8  3.3 -0.9]\n",
      " [ 0.7  0.2 -1.7 -0.9  2.6]]\n",
      "\n"
     ]
    }
   ],
   "source": [
    "m = 5\n",
    "n = 3\n",
    "\n",
    "a = np.random.randn(m, n)\n",
    "print('Original matrix')\n",
    "print(np.round(a, 1))\n",
    "print()\n",
    "\n",
    "cov = np.cov(a)\n",
    "print('Covariance matrix')\n",
    "print(np.round(cov, 1))\n",
    "print()\n",
    "\n",
    "symmetric = a @ a.T\n",
    "print('Symmetric matrix')\n",
    "print(np.round(symmetric, 1))\n",
    "print()"
   ]
  }
 ],
 "metadata": {
  "kernelspec": {
   "display_name": "env-machine-learning",
   "language": "python",
   "name": "env-machine-learning"
  },
  "language_info": {
   "codemirror_mode": {
    "name": "ipython",
    "version": 3
   },
   "file_extension": ".py",
   "mimetype": "text/x-python",
   "name": "python",
   "nbconvert_exporter": "python",
   "pygments_lexer": "ipython3",
   "version": "3.9.5"
  }
 },
 "nbformat": 4,
 "nbformat_minor": 5
}
