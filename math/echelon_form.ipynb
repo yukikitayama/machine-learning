{
 "cells": [
  {
   "cell_type": "markdown",
   "id": "a29e5d60",
   "metadata": {},
   "source": [
    "# Echelon Form"
   ]
  },
  {
   "cell_type": "code",
   "execution_count": 1,
   "id": "336f00cd",
   "metadata": {},
   "outputs": [],
   "source": [
    "import numpy as np\n",
    "from sympy import Matrix"
   ]
  },
  {
   "cell_type": "markdown",
   "id": "3493eed8",
   "metadata": {},
   "source": [
    "## Reduced row echelon form"
   ]
  },
  {
   "cell_type": "markdown",
   "id": "07589d0b",
   "metadata": {},
   "source": [
    "### Square matrix"
   ]
  },
  {
   "cell_type": "code",
   "execution_count": 17,
   "id": "8b6d9bd8",
   "metadata": {},
   "outputs": [
    {
     "name": "stdout",
     "output_type": "stream",
     "text": [
      "Original matrix\n",
      "[[ 0.1 -2.3  1.1 -0.4]\n",
      " [-0.7  0.3 -0.7  0.6]\n",
      " [-0.8  0.4 -0.8 -0. ]\n",
      " [-0.7 -0.9  0.5 -0.6]]\n",
      "\n",
      "Reduced_row_echelon_form\n",
      "[[1 0 0 0]\n",
      " [0 1 0 0]\n",
      " [0 0 1 0]\n",
      " [0 0 0 1]]\n"
     ]
    }
   ],
   "source": [
    "a = np.random.randn(4, 4)\n",
    "A = Matrix(a)\n",
    "print('Original matrix')\n",
    "print(np.round(a, 1))\n",
    "print()\n",
    "\n",
    "reduced_row_echelon_form = A.rref()\n",
    "\n",
    "print('Reduced_row_echelon_form')\n",
    "print(np.array(reduced_row_echelon_form[0]))"
   ]
  },
  {
   "cell_type": "markdown",
   "id": "2c5f9f64",
   "metadata": {},
   "source": [
    "### Tall matrxi"
   ]
  },
  {
   "cell_type": "code",
   "execution_count": 19,
   "id": "acef9687",
   "metadata": {},
   "outputs": [
    {
     "name": "stdout",
     "output_type": "stream",
     "text": [
      "Original matrix\n",
      "[[ 0.3  0.4  0.1]\n",
      " [ 0.4  1.6 -0.6]\n",
      " [-1.3 -0.3 -0.6]\n",
      " [ 0.9 -1.2 -0.3]\n",
      " [ 0.5  0.5  0.9]\n",
      " [ 0.7  1.9  0.9]\n",
      " [ 0.3  0.9  1.9]\n",
      " [-0.7  2.7  0.4]]\n",
      "\n",
      "Reduced row echelon form\n",
      "[[1 0 0]\n",
      " [0 1 0]\n",
      " [0 0 1]\n",
      " [0 0 0]\n",
      " [0 0 0]\n",
      " [0 0 0]\n",
      " [0 0 0]\n",
      " [0 0 0]]\n"
     ]
    }
   ],
   "source": [
    "m = 8\n",
    "n = 3\n",
    "A = np.random.randn(m, n)\n",
    "print('Original matrix')\n",
    "print(np.round(A, 1))\n",
    "print()\n",
    "\n",
    "print('Reduced row echelon form')\n",
    "print(np.array(Matrix(A).rref()[0]))"
   ]
  },
  {
   "cell_type": "markdown",
   "id": "37897347",
   "metadata": {},
   "source": [
    "### Wide matrix"
   ]
  },
  {
   "cell_type": "code",
   "execution_count": 54,
   "id": "c12e3100",
   "metadata": {},
   "outputs": [
    {
     "name": "stdout",
     "output_type": "stream",
     "text": [
      "Original matrix\n",
      "[[-2.4 -1.6 -1.7  0.9 -0.1  0.2 -1.  -0.4]\n",
      " [-0.2  0.9  0.1  1.2  1.3 -1.1 -1.  -0.1]\n",
      " [ 0.5 -1.5  1.3 -1.6  0.2  0.1  1.  -0.2]]\n",
      "\n",
      "Reduced row echelon form\n",
      "1\t0\t0\t-1\t-2\t1\t1\t0\t\r\n",
      "0\t1\t0\t1\t1\t-1\t-1\t0\t\r\n",
      "0\t0\t1\t0\t2\t-1\t-1\t0\t\r\n"
     ]
    }
   ],
   "source": [
    "m = 3\n",
    "n = 8\n",
    "A = np.random.randn(m, n)\n",
    "print('Original matrix')\n",
    "print(np.round(A, 1))\n",
    "print()\n",
    "\n",
    "print('Reduced row echelon form')\n",
    "A = np.array(Matrix(A).rref()[0])\n",
    "for row in range(len(A)):\n",
    "    for col in range(len(A[0])):\n",
    "        print(round(A[row, col]), end='\\t')\n",
    "    print('\\r')"
   ]
  },
  {
   "cell_type": "markdown",
   "id": "4d5d1862",
   "metadata": {},
   "source": [
    "### Linear dependency"
   ]
  },
  {
   "cell_type": "code",
   "execution_count": 59,
   "id": "c1f27204",
   "metadata": {
    "scrolled": true
   },
   "outputs": [
    {
     "name": "stdout",
     "output_type": "stream",
     "text": [
      "Original matrix\n",
      "[[ 1.8  1.8  0.6 -1.1 -1.5]\n",
      " [ 0.5  0.5  0.3  0.1  0.5]\n",
      " [ 0.1  0.1 -0.8  1.2 -0.5]\n",
      " [ 0.9  0.9  0.2 -0.  -0.6]\n",
      " [ 0.9  0.9  0.4 -0.7  0. ]]\n",
      "\n",
      "Reduced_row_echelon_form\n",
      "1\t1\t0\t0\t0\t\r\n",
      "0\t0\t1\t0\t0\t\r\n",
      "0\t0\t0\t1\t0\t\r\n",
      "0\t0\t0\t0\t1\t\r\n",
      "0\t0\t0\t0\t0\t\r\n",
      "\n",
      "1 at row 0 and col 1 is not pivot\n"
     ]
    }
   ],
   "source": [
    "a = np.random.randn(5, 5)\n",
    "a[:, 0] = a[:, 1]\n",
    "A = Matrix(a)\n",
    "print('Original matrix')\n",
    "print(np.round(a, 1))\n",
    "print()\n",
    "\n",
    "print('Reduced_row_echelon_form')\n",
    "A = np.array(Matrix(A).rref()[0])\n",
    "for row in range(len(A)):\n",
    "    for col in range(len(A[0])):\n",
    "        print(round(A[row, col]), end='\\t')\n",
    "    print('\\r')\n",
    "print()\n",
    "print('1 at row 0 and col 1 is not pivot')"
   ]
  }
 ],
 "metadata": {
  "kernelspec": {
   "display_name": "env-machine-learning",
   "language": "python",
   "name": "env-machine-learning"
  },
  "language_info": {
   "codemirror_mode": {
    "name": "ipython",
    "version": 3
   },
   "file_extension": ".py",
   "mimetype": "text/x-python",
   "name": "python",
   "nbconvert_exporter": "python",
   "pygments_lexer": "ipython3",
   "version": "3.9.5"
  }
 },
 "nbformat": 4,
 "nbformat_minor": 5
}
