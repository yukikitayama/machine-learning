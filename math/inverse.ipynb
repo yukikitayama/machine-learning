{
 "cells": [
  {
   "cell_type": "markdown",
   "id": "8ee82647",
   "metadata": {},
   "source": [
    "# Inverse"
   ]
  },
  {
   "cell_type": "code",
   "execution_count": 3,
   "id": "56533c15",
   "metadata": {},
   "outputs": [],
   "source": [
    "import numpy as np\n",
    "import matplotlib.pyplot as plt\n",
    "from sympy import *"
   ]
  },
  {
   "cell_type": "markdown",
   "id": "22eeefe1",
   "metadata": {},
   "source": [
    "## Compute inverse by numpy\n",
    "- Random number matrix is almost 100% linearly independet matrix, so it's invertible"
   ]
  },
  {
   "cell_type": "code",
   "execution_count": 6,
   "id": "d437cb57",
   "metadata": {},
   "outputs": [
    {
     "name": "stdout",
     "output_type": "stream",
     "text": [
      "Original matrix\n",
      "[[-1.1 -1.8 -1.2]\n",
      " [ 0.2  0.  -1.4]\n",
      " [-0.7  2.1 -1.1]]\n",
      "\n",
      "Matrix inverse\n",
      "[[-0.5  0.8 -0.4]\n",
      " [-0.2 -0.1  0.3]\n",
      " [-0.1 -0.6 -0.1]]\n",
      "\n",
      "A $A^{-1}$\n",
      "[[ 1. -0.  0.]\n",
      " [-0.  1.  0.]\n",
      " [ 0.  0.  1.]]\n",
      "\n"
     ]
    },
    {
     "data": {
      "image/png": "[encoded data removed]",
      "text/plain": [
       "<Figure size 432x288 with 3 Axes>"
      ]
     },
     "metadata": {
      "needs_background": "light"
     },
     "output_type": "display_data"
    }
   ],
   "source": [
    "m = 3\n",
    "\n",
    "A = np.random.randn(m, m)\n",
    "print('Original matrix')\n",
    "print(np.round(A, 1))\n",
    "print()\n",
    "\n",
    "Ainv = np.linalg.inv(A)\n",
    "print('Matrix inverse')\n",
    "print(np.round(Ainv, 1))\n",
    "print()\n",
    "\n",
    "idm = A @ Ainv\n",
    "print('A $A^{-1}$')\n",
    "print(np.round(idm, 1))\n",
    "print()\n",
    "\n",
    "plt.subplot(131)\n",
    "plt.imshow(A)\n",
    "plt.title('Matrix A')\n",
    "\n",
    "plt.subplot(132)\n",
    "plt.imshow(Ainv)\n",
    "plt.title('Matrix $A^{-1}$')\n",
    "\n",
    "plt.subplot(133)\n",
    "plt.imshow(idm)\n",
    "plt.title('$A A^{-1}$')\n",
    "\n",
    "plt.show()"
   ]
  },
  {
   "cell_type": "markdown",
   "id": "2d096389",
   "metadata": {},
   "source": [
    "## MCA algorithm\n",
    "1. Minors matrix\n",
    "2. Cofactors matrix\n",
    "3. Adjugate matrix"
   ]
  },
  {
   "cell_type": "code",
   "execution_count": 9,
   "id": "21ab7105",
   "metadata": {},
   "outputs": [
    {
     "name": "stdout",
     "output_type": "stream",
     "text": [
      "$A$\n",
      "[[ 2.1 -0.9  0.2  1.4]\n",
      " [ 1.9  0.2 -1.  -0.8]\n",
      " [ 0.5  0.6 -0.2 -0.2]\n",
      " [ 0.8 -1.8  0.3 -2.4]]\n",
      "\n",
      "$A^{-1}$\n",
      "[[ 0.3 -0.1  0.9  0.1]\n",
      " [-0.  -0.3  1.5 -0. ]\n",
      " [ 0.4 -1.2  2.3  0.5]\n",
      " [ 0.2  0.  -0.5 -0.3]]\n",
      "\n",
      "$A A^{-1}$\n",
      "[[ 1. -0. -0.  0.]\n",
      " [ 0.  1.  0.  0.]\n",
      " [-0.  0.  1. -0.]\n",
      " [-0. -0. -0.  1.]]\n",
      "\n"
     ]
    },
    {
     "data": {
      "image/png": "[encoded data removed]",
      "text/plain": [
       "<Figure size 432x288 with 1 Axes>"
      ]
     },
     "metadata": {
      "needs_background": "light"
     },
     "output_type": "display_data"
    }
   ],
   "source": [
    "m = 4\n",
    "A = np.random.randn(m, m)\n",
    "\n",
    "# Minors matrix\n",
    "minors = np.zeros((m, m))\n",
    "H = np.zeros((m, m))\n",
    "\n",
    "for i in range(m):\n",
    "    for j in range(m):\n",
    "        \n",
    "        # Selet sub-matrix to calculate determinant\n",
    "        rows = [True] * m\n",
    "        rows[i] = False\n",
    "        cols = [True] * m\n",
    "        cols[j] = False\n",
    "        \n",
    "        # Compute minors matrix\n",
    "        minors[i, j] = np.linalg.det(A[rows, :][:, cols])\n",
    "        \n",
    "        # Compute +/- checkerboard\n",
    "        H[i, j] = (-1) ** (i + j)\n",
    "\n",
    "# Cofactor matrix\n",
    "C = H * minors\n",
    "\n",
    "# Adjugate matrix\n",
    "Ainv = C.T / np.linalg.det(A)\n",
    "\n",
    "print('$A$')\n",
    "print(np.round(A, 1))\n",
    "print()\n",
    "print('$A^{-1}$')\n",
    "print(np.round(Ainv, 1))\n",
    "print()\n",
    "print('$A A^{-1}$')\n",
    "print(np.round(A @ Ainv, 1))\n",
    "print()\n",
    "\n",
    "plt.imshow(A @ Ainv)\n",
    "plt.title('$A A^{-1}$')\n",
    "plt.show()"
   ]
  },
  {
   "cell_type": "markdown",
   "id": "f1dd4c16",
   "metadata": {},
   "source": [
    "## Compute inverse via row reduction\n",
    "- Do $rref([A | I]) = [I | A^{-1}]$"
   ]
  },
  {
   "cell_type": "code",
   "execution_count": 5,
   "id": "263766dd",
   "metadata": {},
   "outputs": [
    {
     "name": "stdout",
     "output_type": "stream",
     "text": [
      "A\n"
     ]
    },
    {
     "data": {
      "text/latex": [
       "$\\displaystyle \\left[\\begin{matrix}-3.0 & 15.0 & 13.0 & -9.0\\\\7.0 & 7.0 & -10.0 & 9.0\\\\-10.0 & -10.0 & -11.0 & 12.0\\\\-6.0 & 4.0 & 1.0 & -2.0\\end{matrix}\\right]$"
      ],
      "text/plain": [
       "Matrix([\n",
       "[ -3.0,  15.0,  13.0, -9.0],\n",
       "[  7.0,   7.0, -10.0,  9.0],\n",
       "[-10.0, -10.0, -11.0, 12.0],\n",
       "[ -6.0,   4.0,   1.0, -2.0]])"
      ]
     },
     "execution_count": 5,
     "metadata": {},
     "output_type": "execute_result"
    }
   ],
   "source": [
    "m = 4\n",
    "\n",
    "A = Matrix(np.round(10 * np.random.randn(m, m)), dtype='float')\n",
    "print('A')\n",
    "A"
   ]
  },
  {
   "cell_type": "code",
   "execution_count": 10,
   "id": "a4b4af1d",
   "metadata": {},
   "outputs": [
    {
     "name": "stdout",
     "output_type": "stream",
     "text": [
      "Augmented A\n",
      "Size: (4, 8)\n"
     ]
    },
    {
     "data": {
      "text/latex": [
       "$\\displaystyle \\left[\\begin{matrix}-3.0 & 15.0 & 13.0 & -9.0 & 1.0 & 0 & 0 & 0\\\\7.0 & 7.0 & -10.0 & 9.0 & 0 & 1.0 & 0 & 0\\\\-10.0 & -10.0 & -11.0 & 12.0 & 0 & 0 & 1.0 & 0\\\\-6.0 & 4.0 & 1.0 & -2.0 & 0 & 0 & 0 & 1.0\\end{matrix}\\right]$"
      ],
      "text/plain": [
       "Matrix([\n",
       "[ -3.0,  15.0,  13.0, -9.0, 1.0,   0,   0,   0],\n",
       "[  7.0,   7.0, -10.0,  9.0,   0, 1.0,   0,   0],\n",
       "[-10.0, -10.0, -11.0, 12.0,   0,   0, 1.0,   0],\n",
       "[ -6.0,   4.0,   1.0, -2.0,   0,   0,   0, 1.0]])"
      ]
     },
     "execution_count": 10,
     "metadata": {},
     "output_type": "execute_result"
    }
   ],
   "source": [
    "Aaug = Matrix(np.concatenate((A, np.eye(m, m)), axis=1))\n",
    "print('Augmented A')\n",
    "print(f'Size: {Aaug.shape}')\n",
    "Aaug"
   ]
  },
  {
   "cell_type": "code",
   "execution_count": 14,
   "id": "f9b7d05f",
   "metadata": {},
   "outputs": [
    {
     "name": "stdout",
     "output_type": "stream",
     "text": [
      "Row reduction\n"
     ]
    },
    {
     "data": {
      "text/latex": [
       "$\\displaystyle \\left[\\begin{matrix}1 & 0 & 0 & 0 & -0.00829875518672199 & 0.0179806362378976 & -0.0338865836791148 & -0.0850622406639004\\\\0 & 1 & 0 & 0 & 0.0264522821576763 & 0.0468533886583679 & -0.00656984785615491 & 0.0523858921161826\\\\0 & 0 & 1 & 0 & 0.150414937759336 & -0.0342323651452282 & 0.0933609958506224 & -0.270746887966805\\\\0 & 0 & 0 & 1 & 0.153008298755187 & 0.0226486860304288 & 0.135200553250346 & -0.275414937759336\\end{matrix}\\right]$"
      ],
      "text/plain": [
       "Matrix([\n",
       "[1, 0, 0, 0, -0.00829875518672199,  0.0179806362378976,  -0.0338865836791148, -0.0850622406639004],\n",
       "[0, 1, 0, 0,   0.0264522821576763,  0.0468533886583679, -0.00656984785615491,  0.0523858921161826],\n",
       "[0, 0, 1, 0,    0.150414937759336, -0.0342323651452282,   0.0933609958506224,  -0.270746887966805],\n",
       "[0, 0, 0, 1,    0.153008298755187,  0.0226486860304288,    0.135200553250346,  -0.275414937759336]])"
      ]
     },
     "execution_count": 14,
     "metadata": {},
     "output_type": "execute_result"
    }
   ],
   "source": [
    "Asol = Aaug.rref()\n",
    "print('Row reduction')\n",
    "Asol[0]"
   ]
  },
  {
   "cell_type": "code",
   "execution_count": 20,
   "id": "949fbd8e",
   "metadata": {},
   "outputs": [
    {
     "name": "stdout",
     "output_type": "stream",
     "text": [
      "$A^{-1}$ via row reduction\n"
     ]
    },
    {
     "data": {
      "text/latex": [
       "$\\displaystyle \\left[\\begin{matrix}-0.00829875518672199 & 0.0179806362378976 & -0.0338865836791148 & -0.0850622406639004\\\\0.0264522821576763 & 0.0468533886583679 & -0.00656984785615491 & 0.0523858921161826\\\\0.150414937759336 & -0.0342323651452282 & 0.0933609958506224 & -0.270746887966805\\\\0.153008298755187 & 0.0226486860304288 & 0.135200553250346 & -0.275414937759336\\end{matrix}\\right]$"
      ],
      "text/plain": [
       "Matrix([\n",
       "[-0.00829875518672199,  0.0179806362378976,  -0.0338865836791148, -0.0850622406639004],\n",
       "[  0.0264522821576763,  0.0468533886583679, -0.00656984785615491,  0.0523858921161826],\n",
       "[   0.150414937759336, -0.0342323651452282,   0.0933609958506224,  -0.270746887966805],\n",
       "[   0.153008298755187,  0.0226486860304288,    0.135200553250346,  -0.275414937759336]])"
      ]
     },
     "execution_count": 20,
     "metadata": {},
     "output_type": "execute_result"
    }
   ],
   "source": [
    "Ainvrref = Asol[0][:, m : m * 2]\n",
    "print('$A^{-1}$ via row reduction')\n",
    "Ainvrref"
   ]
  },
  {
   "cell_type": "code",
   "execution_count": 24,
   "id": "9560a1c0",
   "metadata": {},
   "outputs": [
    {
     "name": "stdout",
     "output_type": "stream",
     "text": [
      "$A^{-1}$ by sympy inv() method\n"
     ]
    },
    {
     "data": {
      "text/latex": [
       "$\\displaystyle \\left[\\begin{matrix}-0.00829875518672199 & 0.0179806362378976 & -0.0338865836791148 & -0.0850622406639004\\\\0.0264522821576763 & 0.0468533886583679 & -0.00656984785615491 & 0.0523858921161826\\\\0.150414937759336 & -0.0342323651452282 & 0.0933609958506224 & -0.270746887966805\\\\0.153008298755187 & 0.0226486860304288 & 0.135200553250346 & -0.275414937759336\\end{matrix}\\right]$"
      ],
      "text/plain": [
       "Matrix([\n",
       "[-0.00829875518672199,  0.0179806362378976,  -0.0338865836791148, -0.0850622406639004],\n",
       "[  0.0264522821576763,  0.0468533886583679, -0.00656984785615491,  0.0523858921161826],\n",
       "[   0.150414937759336, -0.0342323651452282,   0.0933609958506224,  -0.270746887966805],\n",
       "[   0.153008298755187,  0.0226486860304288,    0.135200553250346,  -0.275414937759336]])"
      ]
     },
     "execution_count": 24,
     "metadata": {},
     "output_type": "execute_result"
    }
   ],
   "source": [
    "Ainv = A.inv()\n",
    "print('$A^{-1}$ by sympy inv() method')\n",
    "Ainv"
   ]
  },
  {
   "cell_type": "code",
   "execution_count": 23,
   "id": "95d2b59a",
   "metadata": {
    "scrolled": true
   },
   "outputs": [
    {
     "data": {
      "text/latex": [
       "$\\displaystyle \\left[\\begin{matrix}0 & 0 & 0 & 0\\\\0 & 0 & 0 & 0\\\\0 & 0 & 0 & 0\\\\0 & 0 & 0 & 0\\end{matrix}\\right]$"
      ],
      "text/plain": [
       "Matrix([\n",
       "[0, 0, 0, 0],\n",
       "[0, 0, 0, 0],\n",
       "[0, 0, 0, 0],\n",
       "[0, 0, 0, 0]])"
      ]
     },
     "execution_count": 23,
     "metadata": {},
     "output_type": "execute_result"
    }
   ],
   "source": [
    "Ainvrref - Ainv"
   ]
  },
  {
   "cell_type": "markdown",
   "id": "5e55efad",
   "metadata": {},
   "source": [
    "## Inverse of diagonal matrix"
   ]
  },
  {
   "cell_type": "code",
   "execution_count": 3,
   "id": "b18499f6",
   "metadata": {},
   "outputs": [
    {
     "name": "stdout",
     "output_type": "stream",
     "text": [
      "A\n",
      "[[2 0]\n",
      " [0 3]]\n",
      "\n",
      "Inverse of A\n",
      "[[0.5        0.        ]\n",
      " [0.         0.33333333]]\n",
      "\n"
     ]
    }
   ],
   "source": [
    "A = np.array([\n",
    "    [2, 0],\n",
    "    [0, 3]\n",
    "])\n",
    "\n",
    "print('A')\n",
    "print(A)\n",
    "print()\n",
    "print('Inverse of A')\n",
    "print(np.linalg.inv(A))\n",
    "print()"
   ]
  },
  {
   "cell_type": "code",
   "execution_count": 9,
   "id": "af4af453",
   "metadata": {
    "scrolled": true
   },
   "outputs": [
    {
     "name": "stdout",
     "output_type": "stream",
     "text": [
      "A\n",
      "[[1 0 0 0 0]\n",
      " [0 2 0 0 0]\n",
      " [0 0 3 0 0]\n",
      " [0 0 0 4 0]\n",
      " [0 0 0 0 5]]\n",
      "\n",
      "Inverse of A\n",
      "[[1.         0.         0.         0.         0.        ]\n",
      " [0.         0.5        0.         0.         0.        ]\n",
      " [0.         0.         0.33333333 0.         0.        ]\n",
      " [0.         0.         0.         0.25       0.        ]\n",
      " [0.         0.         0.         0.         0.2       ]]\n",
      "\n",
      "1 / 1: 1.0\n",
      "1 / 2: 0.5\n",
      "1 / 3: 0.3333333333333333\n",
      "1 / 4: 0.25\n",
      "1 / 5: 0.2\n"
     ]
    }
   ],
   "source": [
    "A = np.diag(np.arange(1, 5 + 1))\n",
    "\n",
    "print('A')\n",
    "print(A)\n",
    "print()\n",
    "print('Inverse of A')\n",
    "print(np.linalg.inv(A))\n",
    "print()\n",
    "print(f'1 / 1: {1 / 1}')\n",
    "print(f'1 / 2: {1 / 2}')\n",
    "print(f'1 / 3: {1 / 3}')\n",
    "print(f'1 / 4: {1 / 4}')\n",
    "print(f'1 / 5: {1 / 5}')"
   ]
  },
  {
   "cell_type": "markdown",
   "id": "a15f1ec2",
   "metadata": {},
   "source": [
    "## Left inverse\n",
    "- $(A^{T} A)^{-1} (A^{T} A) = I$\n",
    "- $(A^{T} A)^{-1} A^{T}$ is left inverse of $A$"
   ]
  },
  {
   "cell_type": "code",
   "execution_count": 13,
   "id": "2cb65cdb",
   "metadata": {},
   "outputs": [
    {
     "name": "stdout",
     "output_type": "stream",
     "text": [
      "A\n",
      "(6, 3)\n",
      "[[-0.01 -1.52  0.04]\n",
      " [ 2.04  1.57 -1.64]\n",
      " [-0.19  1.33 -0.36]\n",
      " [ 0.6   1.73  0.53]\n",
      " [ 1.02  0.08 -1.3 ]\n",
      " [ 0.32 -0.37 -0.16]]\n",
      "\n",
      "A^T A\n",
      "(3, 3)\n",
      "[[ 5.71  3.97 -4.35]\n",
      " [ 3.97  9.67 -2.24]\n",
      " [-4.35 -2.24  4.84]]\n",
      "Rank of A^T A: 3\n",
      "A^T A gives us a square symmetrix matrix\n",
      "\n",
      "Left inverse of A\n",
      "(3, 6)\n",
      "[[ 0.27  0.28 -0.57  0.46 -0.03  0.21]\n",
      " [-0.23  0.03  0.26  0.12 -0.05 -0.1 ]\n",
      " [ 0.14 -0.07 -0.47  0.58 -0.32  0.11]]\n",
      "\n",
      "Left inverse times A\n",
      "(3, 3)\n",
      "[[ 1. -0.  0.]\n",
      " [-0.  1.  0.]\n",
      " [ 0. -0.  1.]]\n",
      "\n"
     ]
    }
   ],
   "source": [
    "# Create tall matrix by mxn, m > n\n",
    "m = 6\n",
    "n = 3\n",
    "\n",
    "# Use random to make it a full-rank matrix\n",
    "A = np.random.randn(m, n)\n",
    "print('A')\n",
    "print(A.shape)\n",
    "print(np.round(A, 2))\n",
    "print()\n",
    "\n",
    "AtA = A.T @ A\n",
    "print('A^T A')\n",
    "print(AtA.shape)\n",
    "print(np.round(AtA, 2))\n",
    "print(f'Rank of A^T A: {np.linalg.matrix_rank(AtA)}')\n",
    "print('A^T A gives us a square symmetrix matrix')\n",
    "print()\n",
    "\n",
    "# Create left inverse\n",
    "left_inverse = np.linalg.inv(AtA) @ A.T\n",
    "print('Left inverse of A')\n",
    "print(left_inverse.shape)\n",
    "print(np.round(left_inverse, 2))\n",
    "print()\n",
    "\n",
    "# Left inverse times A to get indentity matrix\n",
    "I = left_inverse @ A\n",
    "print('Left inverse times A')\n",
    "print(I.shape)\n",
    "print(np.round(I, 2))\n",
    "print()"
   ]
  },
  {
   "cell_type": "markdown",
   "id": "6b467c06",
   "metadata": {},
   "source": [
    "## Pseudo-inverse"
   ]
  },
  {
   "cell_type": "code",
   "execution_count": 19,
   "id": "0ded5456",
   "metadata": {},
   "outputs": [
    {
     "name": "stdout",
     "output_type": "stream",
     "text": [
      "Rank: 49\n"
     ]
    },
    {
     "data": {
      "image/png": "[encoded data removed]",
      "text/plain": [
       "<Figure size 432x288 with 4 Axes>"
      ]
     },
     "metadata": {
      "needs_background": "light"
     },
     "output_type": "display_data"
    },
    {
     "name": "stdout",
     "output_type": "stream",
     "text": [
      "AA* and A*A looks similar, but they are not the same\n",
      "AA*: 49.78\n",
      "A*A: 50.00\n"
     ]
    }
   ],
   "source": [
    "n = 50\n",
    "\n",
    "# Create full-rank matrix\n",
    "A = np.random.randn(n, n)\n",
    "\n",
    "# Make it rank-decificent\n",
    "A[:, n - 1] = A[:, n - 2]\n",
    "\n",
    "print(f'Rank: {np.linalg.matrix_rank(A)}')\n",
    "\n",
    "# Compute pseudo-inverse\n",
    "Ai = np.linalg.pinv(A)\n",
    "\n",
    "plt.subplot(221)\n",
    "plt.imshow(A)\n",
    "plt.axis('off')\n",
    "plt.title('A')\n",
    "\n",
    "plt.subplot(222)\n",
    "plt.imshow(Ai)\n",
    "plt.axis('off')\n",
    "plt.title('A$^*$')\n",
    "\n",
    "plt.subplot(223)\n",
    "plt.imshow(Ai @ A)\n",
    "plt.axis('off')\n",
    "plt.title('A$^*$A')\n",
    "\n",
    "plt.subplot(224)\n",
    "plt.imshow(A @ Ai)\n",
    "plt.axis('off')\n",
    "plt.title('AA$^*$')\n",
    "\n",
    "plt.show()\n",
    "\n",
    "print('AA* and A*A looks similar, but they are not the same')\n",
    "print(f'AA*: {np.sum(A @ Ai):.2f}')\n",
    "print(f'A*A: {np.sum(Ai @ A):.2f}')"
   ]
  },
  {
   "cell_type": "markdown",
   "id": "d2392a05",
   "metadata": {},
   "source": [
    "## Invertible matrix has the same real inverse and pseudoinverse"
   ]
  },
  {
   "cell_type": "code",
   "execution_count": 22,
   "id": "7ac62531",
   "metadata": {},
   "outputs": [
    {
     "name": "stdout",
     "output_type": "stream",
     "text": [
      "Real inverse\n",
      "[[ 0.817 -0.131 -0.182  0.029  0.307]\n",
      " [-1.12  -0.041  1.467  0.791 -0.175]\n",
      " [-1.006 -0.565  0.251  0.379  0.31 ]\n",
      " [-0.371 -0.571  0.66   0.17  -0.164]\n",
      " [ 0.6    0.416 -0.002 -0.576 -0.018]]\n",
      "\n",
      "Pseudoinverse\n",
      "[[ 0.817 -0.131 -0.182  0.029  0.307]\n",
      " [-1.12  -0.041  1.467  0.791 -0.175]\n",
      " [-1.006 -0.565  0.251  0.379  0.31 ]\n",
      " [-0.371 -0.571  0.66   0.17  -0.164]\n",
      " [ 0.6    0.416 -0.002 -0.576 -0.018]]\n",
      "\n",
      "Pseudoinverse - Real inverse should returns 0 matrix if invertible matrix\n",
      "[[-0. -0.  0.  0. -0.]\n",
      " [ 0.  0.  0.  0. -0.]\n",
      " [ 0.  0. -0. -0.  0.]\n",
      " [ 0.  0.  0.  0. -0.]\n",
      " [-0. -0.  0.  0. -0.]]\n",
      "\n"
     ]
    }
   ],
   "source": [
    "m = 5\n",
    "\n",
    "# Make invertible matrix\n",
    "A = np.random.randn(m, m)\n",
    "\n",
    "AinvF = np.linalg.inv(A)\n",
    "AinvP = np.linalg.pinv(A)\n",
    "\n",
    "print('Real inverse')\n",
    "print(np.round(AinvF, 3))\n",
    "print()\n",
    "\n",
    "print('Pseudoinverse')\n",
    "print(np.round(AinvP, 3))\n",
    "print()\n",
    "\n",
    "print('Pseudoinverse - Real inverse should returns 0 matrix if invertible matrix')\n",
    "print(np.round(AinvP - AinvF, 3))\n",
    "print()"
   ]
  }
 ],
 "metadata": {
  "kernelspec": {
   "display_name": "env-machine-learning",
   "language": "python",
   "name": "env-machine-learning"
  },
  "language_info": {
   "codemirror_mode": {
    "name": "ipython",
    "version": 3
   },
   "file_extension": ".py",
   "mimetype": "text/x-python",
   "name": "python",
   "nbconvert_exporter": "python",
   "pygments_lexer": "ipython3",
   "version": "3.9.5"
  }
 },
 "nbformat": 4,
 "nbformat_minor": 5
}
