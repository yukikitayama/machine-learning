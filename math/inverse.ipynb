{
 "cells": [
  {
   "cell_type": "markdown",
   "id": "8ee82647",
   "metadata": {},
   "source": [
    "# Inverse"
   ]
  },
  {
   "cell_type": "code",
   "execution_count": 4,
   "id": "56533c15",
   "metadata": {},
   "outputs": [],
   "source": [
    "import numpy as np\n",
    "import matplotlib.pyplot as plt"
   ]
  },
  {
   "cell_type": "markdown",
   "id": "22eeefe1",
   "metadata": {},
   "source": [
    "## Compute inverse by numpy\n",
    "- Random number matrix is almost 100% linearly independet matrix, so it's invertible"
   ]
  },
  {
   "cell_type": "code",
   "execution_count": 6,
   "id": "d437cb57",
   "metadata": {},
   "outputs": [
    {
     "name": "stdout",
     "output_type": "stream",
     "text": [
      "Original matrix\n",
      "[[-1.1 -1.8 -1.2]\n",
      " [ 0.2  0.  -1.4]\n",
      " [-0.7  2.1 -1.1]]\n",
      "\n",
      "Matrix inverse\n",
      "[[-0.5  0.8 -0.4]\n",
      " [-0.2 -0.1  0.3]\n",
      " [-0.1 -0.6 -0.1]]\n",
      "\n",
      "A $A^{-1}$\n",
      "[[ 1. -0.  0.]\n",
      " [-0.  1.  0.]\n",
      " [ 0.  0.  1.]]\n",
      "\n"
     ]
    },
    {
     "data": {
      "image/png": "[encoded data removed]",
      "text/plain": [
       "<Figure size 432x288 with 3 Axes>"
      ]
     },
     "metadata": {
      "needs_background": "light"
     },
     "output_type": "display_data"
    }
   ],
   "source": [
    "m = 3\n",
    "\n",
    "A = np.random.randn(m, m)\n",
    "print('Original matrix')\n",
    "print(np.round(A, 1))\n",
    "print()\n",
    "\n",
    "Ainv = np.linalg.inv(A)\n",
    "print('Matrix inverse')\n",
    "print(np.round(Ainv, 1))\n",
    "print()\n",
    "\n",
    "idm = A @ Ainv\n",
    "print('A $A^{-1}$')\n",
    "print(np.round(idm, 1))\n",
    "print()\n",
    "\n",
    "plt.subplot(131)\n",
    "plt.imshow(A)\n",
    "plt.title('Matrix A')\n",
    "\n",
    "plt.subplot(132)\n",
    "plt.imshow(Ainv)\n",
    "plt.title('Matrix $A^{-1}$')\n",
    "\n",
    "plt.subplot(133)\n",
    "plt.imshow(idm)\n",
    "plt.title('$A A^{-1}$')\n",
    "\n",
    "plt.show()"
   ]
  },
  {
   "cell_type": "markdown",
   "id": "2d096389",
   "metadata": {},
   "source": [
    "## MCA algorithm\n",
    "1. Minors matrix\n",
    "2. Cofactors matrix\n",
    "3. Adjugate matrix"
   ]
  },
  {
   "cell_type": "code",
   "execution_count": 9,
   "id": "21ab7105",
   "metadata": {},
   "outputs": [
    {
     "name": "stdout",
     "output_type": "stream",
     "text": [
      "$A$\n",
      "[[ 2.1 -0.9  0.2  1.4]\n",
      " [ 1.9  0.2 -1.  -0.8]\n",
      " [ 0.5  0.6 -0.2 -0.2]\n",
      " [ 0.8 -1.8  0.3 -2.4]]\n",
      "\n",
      "$A^{-1}$\n",
      "[[ 0.3 -0.1  0.9  0.1]\n",
      " [-0.  -0.3  1.5 -0. ]\n",
      " [ 0.4 -1.2  2.3  0.5]\n",
      " [ 0.2  0.  -0.5 -0.3]]\n",
      "\n",
      "$A A^{-1}$\n",
      "[[ 1. -0. -0.  0.]\n",
      " [ 0.  1.  0.  0.]\n",
      " [-0.  0.  1. -0.]\n",
      " [-0. -0. -0.  1.]]\n",
      "\n"
     ]
    },
    {
     "data": {
      "image/png": "[encoded data removed]",
      "text/plain": [
       "<Figure size 432x288 with 1 Axes>"
      ]
     },
     "metadata": {
      "needs_background": "light"
     },
     "output_type": "display_data"
    }
   ],
   "source": [
    "m = 4\n",
    "A = np.random.randn(m, m)\n",
    "\n",
    "# Minors matrix\n",
    "minors = np.zeros((m, m))\n",
    "H = np.zeros((m, m))\n",
    "\n",
    "for i in range(m):\n",
    "    for j in range(m):\n",
    "        \n",
    "        # Selet sub-matrix to calculate determinant\n",
    "        rows = [True] * m\n",
    "        rows[i] = False\n",
    "        cols = [True] * m\n",
    "        cols[j] = False\n",
    "        \n",
    "        # Compute minors matrix\n",
    "        minors[i, j] = np.linalg.det(A[rows, :][:, cols])\n",
    "        \n",
    "        # Compute +/- checkerboard\n",
    "        H[i, j] = (-1) ** (i + j)\n",
    "\n",
    "# Cofactor matrix\n",
    "C = H * minors\n",
    "\n",
    "# Adjugate matrix\n",
    "Ainv = C.T / np.linalg.det(A)\n",
    "\n",
    "print('$A$')\n",
    "print(np.round(A, 1))\n",
    "print()\n",
    "print('$A^{-1}$')\n",
    "print(np.round(Ainv, 1))\n",
    "print()\n",
    "print('$A A^{-1}$')\n",
    "print(np.round(A @ Ainv, 1))\n",
    "print()\n",
    "\n",
    "plt.imshow(A @ Ainv)\n",
    "plt.title('$A A^{-1}$')\n",
    "plt.show()"
   ]
  },
  {
   "cell_type": "code",
   "execution_count": null,
   "id": "ae3a3faf",
   "metadata": {},
   "outputs": [],
   "source": []
  }
 ],
 "metadata": {
  "kernelspec": {
   "display_name": "env-machine-learning",
   "language": "python",
   "name": "env-machine-learning"
  },
  "language_info": {
   "codemirror_mode": {
    "name": "ipython",
    "version": 3
   },
   "file_extension": ".py",
   "mimetype": "text/x-python",
   "name": "python",
   "nbconvert_exporter": "python",
   "pygments_lexer": "ipython3",
   "version": "3.9.5"
  }
 },
 "nbformat": 4,
 "nbformat_minor": 5
}
