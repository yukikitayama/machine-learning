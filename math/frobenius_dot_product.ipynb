{
 "cells": [
  {
   "cell_type": "markdown",
   "id": "8a329041",
   "metadata": {},
   "source": [
    "# Frobenius Dot Product"
   ]
  },
  {
   "cell_type": "code",
   "execution_count": 1,
   "id": "e9fd6f40",
   "metadata": {},
   "outputs": [],
   "source": [
    "import numpy as np"
   ]
  },
  {
   "cell_type": "code",
   "execution_count": 17,
   "id": "b1fdb6fb",
   "metadata": {},
   "outputs": [
    {
     "name": "stdout",
     "output_type": "stream",
     "text": [
      "A\n",
      "[[ 0.2 -1.5 -0.2  0.1]\n",
      " [ 0.7  0.1  0.4  2. ]\n",
      " [-0.7 -1.7  0.6 -1.8]\n",
      " [-0.7 -1.  -0.4 -1.2]\n",
      " [ 0.2  0.   1.2 -1.2]\n",
      " [ 1.9  0.8 -1.7  2. ]\n",
      " [-0.4 -0.5 -0.6  2. ]\n",
      " [ 0.4  1.1  0.3  0.6]\n",
      " [ 0.1 -1.5 -0.3 -0.6]]\n",
      "\n",
      "Av\n",
      "[ 0.2  0.7 -0.7 -0.7  0.2  1.9 -0.4  0.4  0.1 -1.5  0.1 -1.7 -1.   0.\n",
      "  0.8 -0.5  1.1 -1.5 -0.2  0.4  0.6 -0.4  1.2 -1.7 -0.6  0.3 -0.3  0.1\n",
      "  2.  -1.8 -1.2 -1.2  2.   2.   0.6 -0.6]\n",
      "\n",
      "Dot product method: Frobenius dot product 1\n",
      "-7.4\n",
      "\n",
      "Trace method: Frobenius dot product 2\n",
      "-7.4\n",
      "\n",
      "Matrix norm by Frobenius\n",
      "6.4\n",
      "\n",
      "Matrix norm by trace\n",
      "6.4\n",
      "\n"
     ]
    }
   ],
   "source": [
    "m = 9\n",
    "n = 4\n",
    "\n",
    "A = np.random.randn(m, n)\n",
    "B = np.random.randn(m, n)\n",
    "\n",
    "print('A')\n",
    "print(np.round(A, 1))\n",
    "print()\n",
    "\n",
    "# Vectorize by column-wise concatenation\n",
    "# order='F' reshapes by columns instead of by rows (by default)\n",
    "Av = np.reshape(A, m * n, order='F')\n",
    "print('Av')\n",
    "print(np.round(Av, 1))\n",
    "print()\n",
    "Bv = np.reshape(B, m * n, order='F')\n",
    "\n",
    "# Dot product method\n",
    "frob_dp1 = np.dot(Av, Bv)\n",
    "print('Dot product method: Frobenius dot product 1')\n",
    "print(np.round(frob_dp1, 1))\n",
    "print()\n",
    "\n",
    "# Trace method\n",
    "frob_dp2 = np.trace(A.T @ B)\n",
    "print('Trace method: Frobenius dot product 2')\n",
    "print(np.round(frob_dp2, 1))\n",
    "print()\n",
    "\n",
    "# Matrix norm\n",
    "Anorm1 = np.linalg.norm(A, ord='fro')\n",
    "print('Matrix norm by Frobenius')\n",
    "print(np.round(Anorm1, 1))\n",
    "print()\n",
    "\n",
    "Anorm2 = np.sqrt(np.trace(A.T @ A))\n",
    "print('Matrix norm by trace')\n",
    "print(np.round(Anorm2, 1))\n",
    "print()"
   ]
  },
  {
   "cell_type": "code",
   "execution_count": null,
   "id": "f0ae000d",
   "metadata": {},
   "outputs": [],
   "source": []
  },
  {
   "cell_type": "code",
   "execution_count": null,
   "id": "36ba7fed",
   "metadata": {},
   "outputs": [],
   "source": []
  },
  {
   "cell_type": "code",
   "execution_count": null,
   "id": "ea20176e",
   "metadata": {},
   "outputs": [],
   "source": []
  }
 ],
 "metadata": {
  "kernelspec": {
   "display_name": "env-machine-learning",
   "language": "python",
   "name": "env-machine-learning"
  },
  "language_info": {
   "codemirror_mode": {
    "name": "ipython",
    "version": 3
   },
   "file_extension": ".py",
   "mimetype": "text/x-python",
   "name": "python",
   "nbconvert_exporter": "python",
   "pygments_lexer": "ipython3",
   "version": "3.9.5"
  }
 },
 "nbformat": 4,
 "nbformat_minor": 5
}
