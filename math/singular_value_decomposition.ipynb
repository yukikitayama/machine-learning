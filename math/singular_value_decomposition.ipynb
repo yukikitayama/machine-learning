{
 "cells": [
  {
   "cell_type": "markdown",
   "id": "bd351360",
   "metadata": {},
   "source": [
    "# Singular Value Decomposition"
   ]
  },
  {
   "cell_type": "markdown",
   "id": "077aa456",
   "metadata": {},
   "source": [
    "## Dependency"
   ]
  },
  {
   "cell_type": "code",
   "execution_count": 1,
   "id": "89e1110a",
   "metadata": {},
   "outputs": [],
   "source": [
    "import numpy as np"
   ]
  },
  {
   "cell_type": "markdown",
   "id": "81526d22",
   "metadata": {},
   "source": [
    "## Singular value decomposition (SVD)"
   ]
  },
  {
   "cell_type": "markdown",
   "id": "c3e3b09e",
   "metadata": {},
   "source": [
    "SVD is similar to Eigendecomposition, but SVD is more general because it works on a rectangular matrix as well as a square matrix. Eigendecomposition only works for a square matrix. There are ways to think. Think eigendecomposition is a special case of SVD. Or think SVD is an extension of eigendecomposition.\n",
    "\n",
    "- $A A^T$ and $A^T A$ produce a square symmetric matrix\n",
    "- $C(A A^T) = C(A)$, column space of $A$\n",
    "- $R(A^T A) = R(A)$, row space of $A$\n",
    "\n",
    "### Big picture\n",
    "\n",
    "The goal of SVD is to decompose a given matrix $A$ into 3 matrices.\n",
    "\n",
    "$$\n",
    "A = U \\Sigma V^T\n",
    "$$\n",
    "\n",
    "$A$ is a given matrix, mxn\n",
    "\n",
    "$U$ is a **orthogonal matrix, orthogonal basis for column space** of $A$, mxm\n",
    "\n",
    "$\\Sigma$ is a **diagonal matirx with singular values** of $A$ on diagonal elements, mxn\n",
    "\n",
    "$V^T$ is a **orthogonal matrix, orthogonal basis for row space** of $A$, nxn. $V^T$ is called **right singular vectors**.\n",
    "\n",
    "It looks like a **diagonalization** that eigendecomposition produces, $A = V \\Lambda V^{-1} = V \\Lambda V^T$\n",
    "\n",
    "### How to compute $V$ in SVD\n",
    "\n",
    "Start from the SVD equation and **left-multiply it by $A^T$**\n",
    "\n",
    "$$\n",
    "A = U \\Sigma V^T\n",
    "$$\n",
    "$$\n",
    "A^T A = (U \\Sigma V^T)^T U \\Sigma V^T\n",
    "$$\n",
    "\n",
    "By **LIVE EVIL rule**,\n",
    "\n",
    "$$\n",
    "A^T A = V^{TT} \\Sigma^T U^T U \\Sigma V^T\n",
    "$$\n",
    "\n",
    "Becuase $U$ is an **orthogonal matrix**, it means that $U^T = U^{-1}$\n",
    "\n",
    "$$\n",
    "A^T A = V^{TT} \\Sigma^T U^{-1} U \\Sigma V^T\n",
    "$$\n",
    "\n",
    "Because $A^{-1} A = I$,\n",
    "\n",
    "$$\n",
    "A^T A = V^{TT} \\Sigma^T I \\Sigma V^T\n",
    "$$\n",
    "\n",
    "Because a transpose of a transposed matrix goes back to the original matrix,\n",
    "\n",
    "$$\n",
    "A^T A = V \\Sigma^T \\Sigma V^T\n",
    "$$\n",
    "\n",
    "Because $\\Sigma$ is a **diagonal matrix**, $\\Sigma^T = \\Sigma$, and powers of a diagonal matrix is powers of each diagonal element in a matrix,\n",
    "\n",
    "$$\n",
    "A^T A = V \\Sigma^2 V^T\n",
    "$$\n",
    "\n",
    "Because $A^T A$ is a square, this equation can be read as **eigendecomposition** of $A^T A$. So $V$ is **eigenvector** of $A^T A$ and $\\Sigma^2$ is **eigenvalue** of $A^T A$.\n",
    "\n",
    "### How to compute $U$ in SVD\n",
    "\n",
    "Start from the SVD equation and **right-multiply it by $A^T$**\n",
    "\n",
    "$$\n",
    "A = U \\Sigma V^T\n",
    "$$\n",
    "$$\n",
    "A A^T = U \\Sigma V^T (U \\Sigma V^T)^T\n",
    "$$\n",
    "$$\n",
    "A A^T = U \\Sigma V^T V^{TT} \\Sigma^T U^T\n",
    "$$\n",
    "$$\n",
    "A A^T = U \\Sigma V^T V \\Sigma^T U^T\n",
    "$$\n",
    "$$\n",
    "A A^T = U \\Sigma V^{-1} V \\Sigma^T U^T\n",
    "$$\n",
    "$$\n",
    "A A^T = U \\Sigma I \\Sigma^T U^T\n",
    "$$\n",
    "$$\n",
    "A A^T = U \\Sigma \\Sigma^T U^T\n",
    "$$\n",
    "$$\n",
    "A A^T = U \\Sigma \\Sigma U^T\n",
    "$$\n",
    "$$\n",
    "A A^T = U \\Sigma^2 U^T\n",
    "$$\n",
    "\n",
    "So to compute $U$, apply **eigendecomposition** to $A A^T$, and the **eigenvector** is $U$."
   ]
  },
  {
   "cell_type": "code",
   "execution_count": null,
   "id": "93f99039",
   "metadata": {},
   "outputs": [],
   "source": [
    "# From 148"
   ]
  }
 ],
 "metadata": {
  "kernelspec": {
   "display_name": "env-machine-learning",
   "language": "python",
   "name": "env-machine-learning"
  },
  "language_info": {
   "codemirror_mode": {
    "name": "ipython",
    "version": 3
   },
   "file_extension": ".py",
   "mimetype": "text/x-python",
   "name": "python",
   "nbconvert_exporter": "python",
   "pygments_lexer": "ipython3",
   "version": "3.9.5"
  }
 },
 "nbformat": 4,
 "nbformat_minor": 5
}
