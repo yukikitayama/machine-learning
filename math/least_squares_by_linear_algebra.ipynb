{
 "cells": [
  {
   "cell_type": "markdown",
   "id": "e9eb4932",
   "metadata": {},
   "source": [
    "# Least-Squares by Linear Algebra"
   ]
  },
  {
   "cell_type": "markdown",
   "id": "af1b9d71",
   "metadata": {},
   "source": [
    "## Dependency"
   ]
  },
  {
   "cell_type": "code",
   "execution_count": 28,
   "id": "9ae1d291",
   "metadata": {},
   "outputs": [],
   "source": [
    "import pandas as pd\n",
    "import numpy as np\n",
    "import matplotlib.pyplot as plt\n",
    "from sympy import *\n",
    "from sklearn.linear_model import LinearRegression"
   ]
  },
  {
   "cell_type": "markdown",
   "id": "41383c44",
   "metadata": {},
   "source": [
    "## Lease-squares by left inverse"
   ]
  },
  {
   "cell_type": "markdown",
   "id": "13454cec",
   "metadata": {},
   "source": [
    "$$ X \\beta = y $$\n",
    "\n",
    "- $X$\n",
    "  - Called **design matrix**\n",
    "  - **Tall matrix** (Typically has more number of data than the number of features)\n",
    "  - **Full column rank** meaning columns form the **linearly independent set**. If $X$ is $(m, n)$, the rank is $n$.\n",
    "    - If it's not full column rank meaning $X$ is a **reduced rank** matrix, also meaning the columns in a matrix forms **linearly dependent set**, it's called **multicollineariy** in statistics.\n",
    "  - $X$ itself is not invertible.\n",
    "  - But tall matrix can have one-sided, **left inverse** if it has linearly independet set of columns.\n",
    "  - We are given this data.\n",
    "- $\\beta$\n",
    "  - A vector of coefficient parameters.\n",
    "  - We are not given this data. We don't know.\n",
    "- $y$\n",
    "  - Dependent variable\n",
    "  - A vector\n",
    "  - We are given this data.\n",
    "\n",
    "The goal is to remove $X$ from the left side of the equation, and to compute the numbers for $\\beta$ by using $X$ and $y$.\n",
    "\n",
    "If $X$ is a *square, full-rank* matrix, we can remove $X$ by left-multiplying inverse of $X$, $X^{-1}$, and making it identity matrix to disappear from the left side. But $X$ is not square, so we can't do it.\n",
    "\n",
    "<center>We can't do this</center>\n",
    "$$ X^{-1} X \\beta = X^{-1} y $$\n",
    "$$ I \\beta = X^{-1} y $$\n",
    "$$ \\beta = X^{-1} y $$\n",
    "\n",
    "Instead, we first try to make it square by left-multiply $X^T$, because suppose $X$ has $(m, n)$, $X^T X$ is $(n, m)$ times $(m, n)$, so $X^T X$ is $(n, n)$ square.\n",
    "\n",
    "$$ X^T X \\beta = X^T y$$\n",
    "\n",
    "We wanna remove $X^T X$ so left-multiply the inverse of $X^T X$, $(X^T X)^{-1}$. We can do that because it's square.\n",
    "\n",
    "$$ (X^T X)^{-1} X^T X \\beta = (X^T X)^{-1} X^T y $$\n",
    "\n",
    "Because $A^{-1} A = I$, and as if $A = X^T X$\n",
    "\n",
    "$$ I \\beta = (X^T X)^{-1} X^T y $$\n",
    "$$ \\beta = (X^T X)^{-1} X^T y $$\n",
    "\n",
    "This equation has a weird looking, but we know why we have this, because we wanted to first **square** it, and take the **inverse**, and get **identity matrix** to leave the left side only $\\beta$.\n",
    "\n",
    "In linear algebra, $(X^T X)^{-1} X^T$ is called **left-inverse**. It appears when we have a tall matrix and we wanna get the inverse of it.\n",
    "\n",
    "We got numbers of $\\beta$, but $X \\beta$ typically does not produce the number exactly same as $y$. When $X \\beta$ produces exact $y$, it called **exact solution**. In linear algebra, it's the situation where $y$ belongs to the columns space of $X$. But in real-world problem that statistics solves, $y$ is unlikely to be in the column space, because statistics tries to develop a simplified equation to formulate the complex real-world problem.\n",
    "\n",
    "<center>Exact solution is this, but it's unlikely to happen</center>\n",
    "$$ y \\in C(X) $$\n",
    "\n",
    "Instead, we find $\\hat{y}$ which is $\\hat{y} \\in C(X)$, and use it as\n",
    "\n",
    "$$ \\beta = (X^T X)^{-1} X^T \\hat{y} $$\n",
    "$$ \\hat{y} \\in C(X) $$\n",
    "$$ y = X \\beta + \\varepsilon $$\n",
    "$$ (y + \\varepsilon) \\in C(X)$$"
   ]
  },
  {
   "cell_type": "markdown",
   "id": "0a98d47d",
   "metadata": {},
   "source": [
    "## Apply the math to example"
   ]
  },
  {
   "cell_type": "code",
   "execution_count": 29,
   "id": "79a6e948",
   "metadata": {},
   "outputs": [
    {
     "name": "stdout",
     "output_type": "stream",
     "text": [
      "Given data\n",
      "   car_price  years_used\n",
      "0        330         1.0\n",
      "1        290         1.5\n",
      "2        210         2.0\n",
      "3        250         2.0\n",
      "4        130         3.0\n",
      "5        105         3.0\n"
     ]
    },
    {
     "data": {
      "image/png": "[encoded data removed]",
      "text/plain": [
       "<Figure size 432x288 with 1 Axes>"
      ]
     },
     "metadata": {
      "needs_background": "light"
     },
     "output_type": "display_data"
    }
   ],
   "source": [
    "data = [\n",
    "    { 'car_price': 330, 'years_used': 1 },\n",
    "    { 'car_price': 290, 'years_used': 1.5 },\n",
    "    { 'car_price': 210, 'years_used': 2 },\n",
    "    { 'car_price': 250, 'years_used': 2 },\n",
    "    { 'car_price': 130, 'years_used': 3 },\n",
    "    { 'car_price': 105, 'years_used': 3 },\n",
    "]\n",
    "\n",
    "df = pd.DataFrame(data)\n",
    "\n",
    "print('Given data')\n",
    "print(df)\n",
    "\n",
    "plt.scatter(df['years_used'], df['car_price'])\n",
    "plt.xlabel('Years used')\n",
    "plt.ylabel('Car price')\n",
    "plt.grid()\n",
    "plt.show()"
   ]
  },
  {
   "cell_type": "code",
   "execution_count": 30,
   "id": "1a30bc93",
   "metadata": {},
   "outputs": [
    {
     "name": "stdout",
     "output_type": "stream",
     "text": [
      "X\n",
      "[[1.  1. ]\n",
      " [1.  1.5]\n",
      " [1.  2. ]\n",
      " [1.  2. ]\n",
      " [1.  3. ]\n",
      " [1.  3. ]]\n",
      "\n",
      "y\n",
      "[[330]\n",
      " [290]\n",
      " [210]\n",
      " [250]\n",
      " [130]\n",
      " [105]]\n",
      "\n",
      "beta\n",
      "[[ 446.17]\n",
      " [-108.96]]\n",
      "\n",
      "Predicted y\n",
      "[[337.21]\n",
      " [282.73]\n",
      " [228.25]\n",
      " [228.25]\n",
      " [119.29]\n",
      " [119.29]]\n",
      "\n"
     ]
    },
    {
     "data": {
      "image/png": "[encoded data removed]",
      "text/plain": [
       "<Figure size 432x288 with 1 Axes>"
      ]
     },
     "metadata": {
      "needs_background": "light"
     },
     "output_type": "display_data"
    }
   ],
   "source": [
    "# Create a design matrix\n",
    "df['intercept'] = 1\n",
    "X = df[['intercept', 'years_used']].to_numpy()\n",
    "y = df[['car_price']].to_numpy()\n",
    "\n",
    "print('X')\n",
    "print(X)\n",
    "print()\n",
    "\n",
    "print('y')\n",
    "print(y)\n",
    "print()\n",
    "\n",
    "# Compute beta\n",
    "beta = np.linalg.inv(X.T @ X) @ X.T @ y\n",
    "\n",
    "print('beta')\n",
    "print(np.round(beta, 2))\n",
    "print()\n",
    "\n",
    "# Predict y\n",
    "y_pred = X @ beta\n",
    "\n",
    "print('Predicted y')\n",
    "print(np.round(y_pred, 2))\n",
    "print()\n",
    "\n",
    "# Visualize\n",
    "xs = np.linspace(1, 3, 10)\n",
    "ys = beta[0][0] + beta[1][0] * xs \n",
    "plt.scatter(df['years_used'], df['car_price'], color='tab:blue', label='Data')\n",
    "plt.plot(xs, ys, color='tab:orange', label='Prediction')\n",
    "plt.xlabel('Years used')\n",
    "plt.ylabel('Car price')\n",
    "plt.grid()\n",
    "plt.legend()\n",
    "plt.show()"
   ]
  },
  {
   "cell_type": "markdown",
   "id": "7d831eec",
   "metadata": {},
   "source": [
    "## Get coefficients by Scikit-learn"
   ]
  },
  {
   "cell_type": "code",
   "execution_count": 31,
   "id": "15c7819d",
   "metadata": {},
   "outputs": [
    {
     "name": "stdout",
     "output_type": "stream",
     "text": [
      "beta_0 from sklearn: [446.16883117]\n",
      "beta_1 from sklearn: [[-108.96103896]]\n",
      "\n",
      "beta from math of left inverse\n",
      "[[ 446.16883117]\n",
      " [-108.96103896]]\n"
     ]
    }
   ],
   "source": [
    "model = LinearRegression()\n",
    "model.fit(df[['years_used']].to_numpy(), df[['car_price']].to_numpy())\n",
    "\n",
    "print(f'beta_0 from sklearn: {model.intercept_}')\n",
    "print(f'beta_1 from sklearn: {model.coef_}')\n",
    "print()\n",
    "print('beta from math of left inverse')\n",
    "print(beta)"
   ]
  },
  {
   "cell_type": "markdown",
   "id": "dc7e69bc",
   "metadata": {},
   "source": [
    "## Normal equation"
   ]
  },
  {
   "cell_type": "markdown",
   "id": "e005b1e6",
   "metadata": {},
   "source": [
    "$$ X \\beta = y $$\n",
    "\n",
    "Left-multiply the both sides of the equation by $X^T$\n",
    "\n",
    "$$ X^T X \\beta = X^T y $$\n",
    "\n",
    "That is **normal equation**. It's used in the following **least-squares by RREF** and **least-squares by QR decomposition**."
   ]
  },
  {
   "cell_type": "markdown",
   "id": "b0546aec",
   "metadata": {},
   "source": [
    "## Least-squares by reduced row echelon form (RREF)"
   ]
  },
  {
   "cell_type": "markdown",
   "id": "41ac9a35",
   "metadata": {},
   "source": [
    "$$ X \\beta = y $$\n",
    "\n",
    "First, convert it to **normal equation**.\n",
    "\n",
    "$$ X^T X \\beta = X^T y $$\n",
    "\n",
    "Apply **reduced row echelon form (RREF) to compute matrix inverse** to the given data. It's about making augmented matrix by concatenating matrix at the left and identity matrix at the right, apply RREF, and get augmented matrix of identity matrix at the left concatenated by **matrix inverse** at the right, as below\n",
    "\n",
    "$$ RREF([A | I]) = [I | A^{-1}] $$\n",
    "\n",
    "When we apply that to the augmented matrix concatenated by left and right side of **normal equation**, \n",
    "\n",
    "$$ RREF([X^T X | X^T y]) = [I | \\beta]$$"
   ]
  },
  {
   "cell_type": "code",
   "execution_count": 32,
   "id": "0819526b",
   "metadata": {},
   "outputs": [
    {
     "name": "stdout",
     "output_type": "stream",
     "text": [
      "After applying RREF\n"
     ]
    },
    {
     "data": {
      "text/latex": [
       "$\\displaystyle \\left[\\begin{matrix}1 & 0 & 0 & 0.178065929548368\\\\0 & 1 & 0 & -0.254627854093396\\\\0 & 0 & 1 & -0.599894738135172\\end{matrix}\\right]$"
      ],
      "text/plain": [
       "Matrix([\n",
       "[1, 0, 0,  0.178065929548368],\n",
       "[0, 1, 0, -0.254627854093396],\n",
       "[0, 0, 1, -0.599894738135172]])"
      ]
     },
     "execution_count": 32,
     "metadata": {},
     "output_type": "execute_result"
    }
   ],
   "source": [
    "m = 10\n",
    "n = 3\n",
    "\n",
    "X = np.random.randn(m, n)\n",
    "y = np.random.randn(m, 1)\n",
    "\n",
    "# Make components in normal equation\n",
    "XtX = X.T @ X\n",
    "Xty = X.T @ y\n",
    "\n",
    "# Make augmented matrix for RREF\n",
    "normEQ = Matrix(np.concatenate([XtX, Xty], axis=1))\n",
    "\n",
    "# Apply RREF\n",
    "Xsol = normEQ.rref()\n",
    "Xsol = Xsol[0]\n",
    "I, beta1 = Xsol[:, 0:3], Xsol[:, -1]\n",
    "print('After applying RREF')\n",
    "Xsol"
   ]
  },
  {
   "cell_type": "code",
   "execution_count": 33,
   "id": "ee3ee790",
   "metadata": {},
   "outputs": [
    {
     "name": "stdout",
     "output_type": "stream",
     "text": [
      "beta by RREF\n",
      "[[0.178065929548368]\n",
      " [-0.254627854093396]\n",
      " [-0.599894738135172]]\n",
      "\n",
      "beta from left-inverse\n",
      "[[ 0.17806593]\n",
      " [-0.25462785]\n",
      " [-0.59989474]]\n",
      "\n"
     ]
    }
   ],
   "source": [
    "print('beta by RREF')\n",
    "print(np.array(beta1))\n",
    "print()\n",
    "\n",
    "beta2 = np.linalg.solve(X.T @ X, X.T @ y)\n",
    "print('beta from left-inverse')\n",
    "print(beta2)\n",
    "print()"
   ]
  },
  {
   "cell_type": "markdown",
   "id": "8f71415e",
   "metadata": {},
   "source": [
    "## Least-squares by QR decomposition"
   ]
  },
  {
   "cell_type": "markdown",
   "id": "30dd35ab",
   "metadata": {},
   "source": [
    "$$ X \\beta = y $$\n",
    "\n",
    "The key part is, before applying **QR decomposition** to $X$, convert the equation to **normal equation** by left-multiplying by $X^T$\n",
    "\n",
    "$$ X^T X \\beta = X^T y $$\n",
    "\n",
    "Replace $X$ with $Q R$ as QR decomposition. $Q$ is orthogonal matrix. $R$ is residual matrix.\n",
    "\n",
    "$$ (Q R)^T Q R \\beta = (Q R)^T y $$\n",
    "\n",
    "Apply **LIVE EVIL rule** to apply transpose to inner matrices.\n",
    "\n",
    "$$ R^T Q^T Q R \\beta = (Q R)^T y $$\n",
    "\n",
    "$Q^T Q$ gives us identity matrix $I$, because they are orthogonal matrices.\n",
    "\n",
    "$$ R^T I R \\beta = (Q R)^T y $$\n",
    "$$ R^T R \\beta = (Q R)^T y $$\n",
    "\n",
    "Left-multiply both sides of the equation by $(R^T R)^{-1}$\n",
    "\n",
    "$$ (R^T R)^{-1} R^T R \\beta = (R^T R)^{-1} (Q R)^T y $$\n",
    "\n",
    "Because, letting $R^T R = A$, $A^{-1} A = I$\n",
    "\n",
    "$$ I \\beta = (R^T R)^{-1} (Q R)^T y $$\n",
    "$$ \\beta = (R^T R)^{-1} (Q R)^T y $$"
   ]
  },
  {
   "cell_type": "code",
   "execution_count": 34,
   "id": "a08f8a15",
   "metadata": {},
   "outputs": [
    {
     "name": "stdout",
     "output_type": "stream",
     "text": [
      "X\n",
      "(10, 3)\n",
      "[[ 1.56004335 -0.13331395  0.90572831]\n",
      " [-0.67650934 -1.38440452  0.05094464]\n",
      " [-0.29596751 -0.63363259  0.16937364]\n",
      " [ 1.6884753   0.14048036 -0.39332567]\n",
      " [ 0.15248577 -0.93820778 -0.22392895]\n",
      " [-0.58886307  0.37316003  1.25761659]\n",
      " [-0.80602179 -1.02462465  0.28682909]\n",
      " [-0.99541072  0.7291451  -0.24081645]\n",
      " [ 0.06878947  1.03821045  0.75453856]\n",
      " [ 0.56475893 -0.03420051 -0.08094141]]\n",
      "\n",
      "y\n",
      "(10, 1)\n",
      "[[ 1.27109839]\n",
      " [ 1.17781028]\n",
      " [-0.47839459]\n",
      " [ 0.74710893]\n",
      " [-0.2855962 ]\n",
      " [ 0.535066  ]\n",
      " [ 1.14912673]\n",
      " [-0.3275098 ]\n",
      " [ 0.13796082]\n",
      " [-1.15406713]]\n",
      "\n",
      "Q\n",
      "(10, 3)\n",
      "[[-0.5459854  -0.1287525  -0.52919334]\n",
      " [ 0.23676536 -0.53657542 -0.10323083]\n",
      " [ 0.10358298 -0.24623513 -0.12806536]\n",
      " [-0.59093413 -0.02237944  0.20289558]\n",
      " [-0.05336711 -0.39261321  0.06447652]\n",
      " [ 0.20609084  0.18120976 -0.66363098]\n",
      " [ 0.28209224 -0.38264851 -0.20981408]\n",
      " [ 0.34837475  0.34671755  0.19075146]\n",
      " [-0.024075    0.42319561 -0.35430989]\n",
      " [-0.19765485 -0.04083453  0.03497983]]\n",
      "\n",
      "R\n",
      "(3, 3)\n",
      "[[-2.85729866 -0.32992339  0.03350581]\n",
      " [ 0.          2.43449484  0.2683287 ]\n",
      " [ 0.          0.         -1.81137953]]\n",
      "\n",
      "beta from QR decomposition\n",
      "[[ 0.18348665]\n",
      " [-0.46534277]\n",
      " [ 0.74402894]]\n",
      "\n",
      "beta from left-inverse\n",
      "[[ 0.18348665]\n",
      " [-0.46534277]\n",
      " [ 0.74402894]]\n",
      "\n"
     ]
    }
   ],
   "source": [
    "m = 10\n",
    "n = 3\n",
    "\n",
    "X = np.random.randn(m, n)\n",
    "y = np.random.randn(m, 1)\n",
    "\n",
    "print('X')\n",
    "print(X.shape)\n",
    "print(X)\n",
    "print()\n",
    "print('y')\n",
    "print(y.shape)\n",
    "print(y)\n",
    "print()\n",
    "\n",
    "# QR decomposition\n",
    "Q, R = np.linalg.qr(X)\n",
    "print('Q')\n",
    "print(Q.shape)\n",
    "print(Q)\n",
    "print()\n",
    "print('R')\n",
    "print(R.shape)\n",
    "print(R)\n",
    "print()\n",
    "\n",
    "# Compute beta by equation derived by QR decomposition\n",
    "beta1 = np.linalg.solve(R.T @ R, (Q @ R).T @ y)\n",
    "print('beta from QR decomposition')\n",
    "print(beta1)\n",
    "print()\n",
    "\n",
    "# Verify computation with beta from left-inverse\n",
    "# Beta = (X^T X)^{-1} X^T y\n",
    "beta2 = np.linalg.solve(X.T @ X, X.T @ y)\n",
    "print('beta from left-inverse')\n",
    "print(beta2)\n",
    "print()"
   ]
  }
 ],
 "metadata": {
  "kernelspec": {
   "display_name": "env-machine-learning",
   "language": "python",
   "name": "env-machine-learning"
  },
  "language_info": {
   "codemirror_mode": {
    "name": "ipython",
    "version": 3
   },
   "file_extension": ".py",
   "mimetype": "text/x-python",
   "name": "python",
   "nbconvert_exporter": "python",
   "pygments_lexer": "ipython3",
   "version": "3.9.5"
  }
 },
 "nbformat": 4,
 "nbformat_minor": 5
}
