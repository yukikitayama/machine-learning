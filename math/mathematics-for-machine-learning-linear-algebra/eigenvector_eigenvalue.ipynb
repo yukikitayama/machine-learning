{
 "cells": [
  {
   "cell_type": "markdown",
   "id": "9b2512d3",
   "metadata": {},
   "source": [
    "# Eigenvector and Eigenvalue"
   ]
  },
  {
   "cell_type": "markdown",
   "id": "ccb36206",
   "metadata": {},
   "source": [
    "## Dependency"
   ]
  },
  {
   "cell_type": "code",
   "execution_count": 1,
   "id": "8c491aee",
   "metadata": {},
   "outputs": [],
   "source": [
    "import numpy as np"
   ]
  },
  {
   "cell_type": "code",
   "execution_count": 28,
   "id": "a62f8fd0",
   "metadata": {},
   "outputs": [
    {
     "name": "stdout",
     "output_type": "stream",
     "text": [
      "[-1.+0.j  1.+0.j  0.-1.j  0.+1.j]\n",
      "[-0.5+0.j  0.5+0.j -0.5+0.j  0.5+0.j]\n",
      "0j\n",
      "[-inf  inf -inf  inf]\n"
     ]
    },
    {
     "name": "stderr",
     "output_type": "stream",
     "text": [
      "C:\\Users\\YKITAY~1\\AppData\\Local\\Temp/ipykernel_10248/72270533.py:24: RuntimeWarning: divide by zero encountered in true_divide\n",
      "  print(100 * np.real(r / np.sum(r)))\n",
      "C:\\Users\\YKITAY~1\\AppData\\Local\\Temp/ipykernel_10248/72270533.py:24: RuntimeWarning: invalid value encountered in true_divide\n",
      "  print(100 * np.real(r / np.sum(r)))\n"
     ]
    }
   ],
   "source": [
    "L = np.array([\n",
    "    [0, 0, 0, 1],\n",
    "    [1, 0, 0, 0],\n",
    "    [0, 1, 0, 0],\n",
    "    [0, 0, 1, 0]\n",
    "])\n",
    "eigenvals, eigenvecs = np.linalg.eig(L)\n",
    "# print(f'Eigenvalue: {eigenvals.round(1)}')\n",
    "# print(f'Eigenvector: {eigenvecs.round(1)}')\n",
    "\n",
    "# Return the indices where absolute eigenvalues are descending order\n",
    "order = np.absolute(eigenvals).argsort()[::-1]\n",
    "\n",
    "# Reorder result\n",
    "eigenvals = eigenvals[order]\n",
    "eigenvecs = eigenvecs[:, order]\n",
    "\n",
    "# Sets r to be the principal eigenvector\n",
    "r = eigenvecs[:, 0]\n",
    "\n",
    "print(eigenvals.round(2))\n",
    "print(r)\n",
    "print(np.sum(r))\n",
    "print(100 * np.real(r / np.sum(r)))"
   ]
  },
  {
   "cell_type": "code",
   "execution_count": 27,
   "id": "7428c310",
   "metadata": {},
   "outputs": [
    {
     "name": "stdout",
     "output_type": "stream",
     "text": [
      "[ 1. +0.j   0. -0.6j  0. +0.6j -0.6+0.j ]\n",
      "[0.5+0.j 0.5+0.j 0.5+0.j 0.5+0.j]\n",
      "(2+0j)\n",
      "[25. 25. 25. 25.]\n"
     ]
    }
   ],
   "source": [
    "L = np.array([\n",
    "    [0.1, 0.1, 0.1, 0.7],\n",
    "    [0.7, 0.1, 0.1, 0.1],\n",
    "    [0.1, 0.7, 0.1, 0.1],\n",
    "    [0.1, 0.1, 0.7, 0.1]\n",
    "])\n",
    "eigenvals, eigenvecs = np.linalg.eig(L)\n",
    "# print(f'Eigenvalue: {eigenvals.round(1)}')\n",
    "# print(f'Eigenvector: {eigenvecs.round(1)}')\n",
    "\n",
    "# Return the indices where absolute eigenvalues are descending order\n",
    "order = np.absolute(eigenvals).argsort()[::-1]\n",
    "\n",
    "# Reorder result\n",
    "eigenvals = eigenvals[order]\n",
    "eigenvecs = eigenvecs[:, order]\n",
    "\n",
    "# Sets r to be the principal eigenvector\n",
    "r = eigenvecs[:, 0]\n",
    "\n",
    "print(eigenvals.round(2))\n",
    "print(r)\n",
    "print(np.sum(r))\n",
    "print(100 * np.real(r / np.sum(r)))"
   ]
  },
  {
   "cell_type": "code",
   "execution_count": 32,
   "id": "4a6660ed",
   "metadata": {},
   "outputs": [
    {
     "name": "stdout",
     "output_type": "stream",
     "text": [
      "0 iterations to convergence.\n"
     ]
    },
    {
     "data": {
      "text/plain": [
       "array([25., 25., 25., 25.])"
      ]
     },
     "execution_count": 32,
     "metadata": {},
     "output_type": "execute_result"
    }
   ],
   "source": [
    "L = np.array([\n",
    "    [0, 1, 0, 0],\n",
    "    [1, 0, 0, 0],\n",
    "    [0, 0, 0, 1],\n",
    "    [0, 0, 1, 0]\n",
    "])\n",
    "r = 100 * np.ones(L.shape[0]) / L.shape[0] # Sets up this vector (6 entries of 1/6 × 100 each)\n",
    "lastR = r\n",
    "r = L @ r\n",
    "i = 0\n",
    "while np.linalg.norm(lastR - r) > 0.01 :\n",
    "    lastR = r\n",
    "    r = L @ r\n",
    "    i += 1\n",
    "print(str(i) + \" iterations to convergence.\")\n",
    "r"
   ]
  },
  {
   "cell_type": "code",
   "execution_count": 34,
   "id": "8861ad22",
   "metadata": {
    "scrolled": true
   },
   "outputs": [
    {
     "name": "stdout",
     "output_type": "stream",
     "text": [
      "Determinant: 1.0\n",
      "Eigenvalue: [ 1. -1.  1. -1.]\n",
      "Eigenvector: [[ 0.7 -0.7  0.   0. ]\n",
      " [ 0.7  0.7  0.   0. ]\n",
      " [ 0.   0.   0.7 -0.7]\n",
      " [ 0.   0.   0.7  0.7]]\n",
      "[-1.  1. -1.  1.]\n",
      "[ 0.          0.         -0.70710678  0.70710678]\n",
      "0.0\n",
      "[ nan  nan -inf  inf]\n"
     ]
    },
    {
     "name": "stderr",
     "output_type": "stream",
     "text": [
      "C:\\Users\\YKITAY~1\\AppData\\Local\\Temp/ipykernel_10248/1964080954.py:28: RuntimeWarning: divide by zero encountered in true_divide\n",
      "  print(100 * np.real(r / np.sum(r)))\n",
      "C:\\Users\\YKITAY~1\\AppData\\Local\\Temp/ipykernel_10248/1964080954.py:28: RuntimeWarning: invalid value encountered in true_divide\n",
      "  print(100 * np.real(r / np.sum(r)))\n"
     ]
    }
   ],
   "source": [
    "L = np.array([\n",
    "    [0, 1, 0, 0],\n",
    "    [1, 0, 0, 0],\n",
    "    [0, 0, 0, 1],\n",
    "    [0, 0, 1, 0]\n",
    "])\n",
    "\n",
    "det = np.linalg.det(L)\n",
    "print(f'Determinant: {det}')\n",
    "\n",
    "eigenvals, eigenvecs = np.linalg.eig(L)\n",
    "print(f'Eigenvalue: {eigenvals.round(1)}')\n",
    "print(f'Eigenvector: {eigenvecs.round(1)}')\n",
    "\n",
    "# Return the indices where absolute eigenvalues are descending order\n",
    "order = np.absolute(eigenvals).argsort()[::-1]\n",
    "\n",
    "# Reorder result\n",
    "eigenvals = eigenvals[order]\n",
    "eigenvecs = eigenvecs[:, order]\n",
    "\n",
    "# Sets r to be the principal eigenvector\n",
    "r = eigenvecs[:, 0]\n",
    "\n",
    "print(eigenvals.round(2))\n",
    "print(r)\n",
    "print(np.sum(r))\n",
    "print(100 * np.real(r / np.sum(r)))"
   ]
  },
  {
   "cell_type": "code",
   "execution_count": 37,
   "id": "1d70ec1b",
   "metadata": {},
   "outputs": [
    {
     "name": "stdout",
     "output_type": "stream",
     "text": [
      "Characteristic polynomial coefficients: [ 1.   -2.    0.25]\n"
     ]
    }
   ],
   "source": [
    "A = np.array([\n",
    "    [3/2, -1],\n",
    "    [-1/2, 1/2]\n",
    "])\n",
    "coeffs = np.poly(A)\n",
    "print(f'Characteristic polynomial coefficients: {coeffs}')"
   ]
  },
  {
   "cell_type": "code",
   "execution_count": 38,
   "id": "6f5dfffe",
   "metadata": {},
   "outputs": [
    {
     "data": {
      "text/plain": [
       "array([[-2.09807621,  3.09807621],\n",
       "       [ 0.8660254 , -0.8660254 ]])"
      ]
     },
     "execution_count": 38,
     "metadata": {},
     "output_type": "execute_result"
    }
   ],
   "source": [
    "A = np.array([\n",
    "    [3/2, -1],\n",
    "    [-1/2, 1/2]\n",
    "])\n",
    "\n",
    "C = np.array([\n",
    "    [1 - np.sqrt(3), 1 + np.sqrt(3)],\n",
    "    [1, 1]\n",
    "])\n",
    "A @ C"
   ]
  },
  {
   "cell_type": "code",
   "execution_count": null,
   "id": "c83b61fa",
   "metadata": {},
   "outputs": [],
   "source": []
  },
  {
   "cell_type": "code",
   "execution_count": null,
   "id": "479d1f6d",
   "metadata": {},
   "outputs": [],
   "source": []
  },
  {
   "cell_type": "code",
   "execution_count": null,
   "id": "fb83a784",
   "metadata": {},
   "outputs": [],
   "source": []
  }
 ],
 "metadata": {
  "kernelspec": {
   "display_name": "env-machine-learning",
   "language": "python",
   "name": "env-machine-learning"
  },
  "language_info": {
   "codemirror_mode": {
    "name": "ipython",
    "version": 3
   },
   "file_extension": ".py",
   "mimetype": "text/x-python",
   "name": "python",
   "nbconvert_exporter": "python",
   "pygments_lexer": "ipython3",
   "version": "3.9.5"
  }
 },
 "nbformat": 4,
 "nbformat_minor": 5
}
