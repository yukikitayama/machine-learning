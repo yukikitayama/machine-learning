{
 "cells": [
  {
   "cell_type": "markdown",
   "id": "27d45bf1",
   "metadata": {},
   "source": [
    "# QR Decomposition\n",
    "- $A = Q R$\n",
    "- $A$ is original matrix\n",
    "- $Q$ is orthogonal matrix\n",
    "- $R$ is residual matrix, which contains the information loss happened by creating orthogonal matrix from original matrix.\n",
    "- To compute $R$, $Q^T A = R$"
   ]
  },
  {
   "cell_type": "code",
   "execution_count": 10,
   "id": "717f2fc8",
   "metadata": {},
   "outputs": [],
   "source": [
    "import numpy as np\n",
    "import matplotlib.pyplot as plt"
   ]
  },
  {
   "cell_type": "code",
   "execution_count": 7,
   "id": "c270aac1",
   "metadata": {},
   "outputs": [
    {
     "name": "stdout",
     "output_type": "stream",
     "text": [
      "A\n",
      "(3, 2)\n",
      "[[1 0]\n",
      " [1 0]\n",
      " [0 1]]\n",
      "\n",
      "Q by full QR decomposition\n",
      "(3, 3)\n",
      "[[-0.71  0.    0.71]\n",
      " [-0.71  0.   -0.71]\n",
      " [-0.   -1.    0.  ]]\n",
      "\n",
      "R\n",
      "(3, 2)\n",
      "[[-1.41  0.  ]\n",
      " [ 0.   -1.  ]\n",
      " [ 0.    0.  ]]\n",
      "\n",
      "Q by economy QR decomposition\n",
      "(3, 2)\n",
      "[[-0.71  0.  ]\n",
      " [-0.71  0.  ]\n",
      " [-0.   -1.  ]]\n",
      "\n"
     ]
    }
   ],
   "source": [
    "A = [\n",
    "    [1, 0],\n",
    "    [1, 0],\n",
    "    [0, 1]\n",
    "]\n",
    "print('A')\n",
    "print(np.array(A).shape)\n",
    "print(np.round(A, 2))\n",
    "print()\n",
    "\n",
    "# Full QR decomposition\n",
    "Q, R = np.linalg.qr(A, 'complete')\n",
    "print('Q by full QR decomposition')\n",
    "print(Q.shape)\n",
    "print(np.round(Q, 2))\n",
    "print()\n",
    "\n",
    "print('R')\n",
    "print(R.shape)\n",
    "print(np.round(R, 2))\n",
    "print()\n",
    "\n",
    "# Economy (chop off columns from Q which do not exist in A)\n",
    "Q, R = np.linalg.qr(A)\n",
    "print('Q by economy QR decomposition')\n",
    "print(Q.shape)\n",
    "print(np.round(Q, 2))\n",
    "print()"
   ]
  },
  {
   "cell_type": "markdown",
   "id": "e59c0788",
   "metadata": {},
   "source": [
    "## Visualize QR decomposition"
   ]
  },
  {
   "cell_type": "code",
   "execution_count": 19,
   "id": "399fa582",
   "metadata": {},
   "outputs": [
    {
     "name": "stdout",
     "output_type": "stream",
     "text": [
      "R from numpy QR decomposition\n",
      "[[-3.16  0.63 -0.32]\n",
      " [ 0.   -1.26  2.21]]\n",
      "\n",
      "R from Q^T M\n",
      "[[-3.16  0.63 -0.32]\n",
      " [ 0.   -1.26  2.21]]\n",
      "\n"
     ]
    },
    {
     "data": {
      "image/png": "[encoded data removed]",
      "text/plain": [
       "<Figure size 432x288 with 1 Axes>"
      ]
     },
     "metadata": {
      "needs_background": "light"
     },
     "output_type": "display_data"
    },
    {
     "name": "stdout",
     "output_type": "stream",
     "text": [
      "Black line: 1st column of M\n",
      "Red line: 2nd column of M\n",
      "Green line: 3rd column of M\n",
      "Q does not have 3rd vector because of loss of information\n"
     ]
    }
   ],
   "source": [
    "M = np.array([\n",
    "    [1, 1, -2],\n",
    "    [3, -1, 1]\n",
    "])\n",
    "\n",
    "Q, R = np.linalg.qr(M, 'complete')\n",
    "\n",
    "print('R from numpy QR decomposition')\n",
    "print(np.round(R, 2))\n",
    "print()\n",
    "\n",
    "print('R from Q^T M')\n",
    "print(np.round(Q.T @ M, 2))\n",
    "print()\n",
    "\n",
    "colorz = 'krg'\n",
    "\n",
    "for i in range(np.shape(M)[1]):\n",
    "    \n",
    "    # Plot original vector M\n",
    "    plt.plot([0, M[0, i]], [0, M[1, i]], colorz[i])\n",
    "    \n",
    "    # Plot orthogonalized vector Q\n",
    "    if i < np.shape(Q)[1]:\n",
    "        plt.plot([0, Q[0, i]], [0, Q[1, i]], colorz[i], linestyle='--')\n",
    "        \n",
    "    # Plot residual vector R\n",
    "    plt.plot([0, R[0, i]], [0, R[1, i]], colorz[i], linestyle=':')\n",
    "    \n",
    "plt.legend(['M$_1$', 'Q$_1$', 'R$_1$'])\n",
    "plt.axis('square')\n",
    "plt.xlim(-4, 4)\n",
    "plt.ylim(-4, 4)\n",
    "plt.grid()\n",
    "plt.show()\n",
    "\n",
    "print('Black line: 1st column of M')\n",
    "print('Red line: 2nd column of M')\n",
    "print('Green line: 3rd column of M')\n",
    "print('Q does not have 3rd vector because of loss of information')"
   ]
  },
  {
   "cell_type": "code",
   "execution_count": null,
   "id": "3bdf468d",
   "metadata": {},
   "outputs": [],
   "source": []
  }
 ],
 "metadata": {
  "kernelspec": {
   "display_name": "env-machine-learning",
   "language": "python",
   "name": "env-machine-learning"
  },
  "language_info": {
   "codemirror_mode": {
    "name": "ipython",
    "version": 3
   },
   "file_extension": ".py",
   "mimetype": "text/x-python",
   "name": "python",
   "nbconvert_exporter": "python",
   "pygments_lexer": "ipython3",
   "version": "3.9.5"
  }
 },
 "nbformat": 4,
 "nbformat_minor": 5
}
