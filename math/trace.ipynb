{
 "cells": [
  {
   "cell_type": "markdown",
   "id": "3afaf323",
   "metadata": {},
   "source": [
    "# Trace"
   ]
  },
  {
   "cell_type": "code",
   "execution_count": 14,
   "id": "aadc2776",
   "metadata": {},
   "outputs": [],
   "source": [
    "import numpy as np\n",
    "np.random.seed(0)"
   ]
  },
  {
   "cell_type": "markdown",
   "id": "fbe77f5b",
   "metadata": {},
   "source": [
    "## Linearity of trace"
   ]
  },
  {
   "cell_type": "code",
   "execution_count": 23,
   "id": "1565c781",
   "metadata": {},
   "outputs": [
    {
     "name": "stdout",
     "output_type": "stream",
     "text": [
      "trace(A+B): -1.12\n",
      "trace(A) + trace(B): -1.12\n",
      "\n",
      "trace(l * a): -2.63\n",
      "l * trace(a): -2.63\n"
     ]
    }
   ],
   "source": [
    "m = 4\n",
    "n = m\n",
    "\n",
    "a = np.random.randn(m, n)\n",
    "b = np.random.randn(m, n)\n",
    "l = np.random.rand()\n",
    "\n",
    "print(f'trace(A+B): {np.trace(a + b):.2f}')\n",
    "print(f'trace(A) + trace(B): {np.trace(a) + np.trace(b):.2f}')\n",
    "print()\n",
    "print(f'trace(l * a): {np.trace(l * a):.2f}')\n",
    "print(f'l * trace(a): {l * np.trace(a):.2f}')"
   ]
  },
  {
   "cell_type": "code",
   "execution_count": null,
   "id": "ffdc92f4",
   "metadata": {},
   "outputs": [],
   "source": []
  }
 ],
 "metadata": {
  "kernelspec": {
   "display_name": "env-machine-learning",
   "language": "python",
   "name": "env-machine-learning"
  },
  "language_info": {
   "codemirror_mode": {
    "name": "ipython",
    "version": 3
   },
   "file_extension": ".py",
   "mimetype": "text/x-python",
   "name": "python",
   "nbconvert_exporter": "python",
   "pygments_lexer": "ipython3",
   "version": "3.9.5"
  }
 },
 "nbformat": 4,
 "nbformat_minor": 5
}
