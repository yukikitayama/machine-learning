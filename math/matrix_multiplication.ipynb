{
 "cells": [
  {
   "cell_type": "markdown",
   "id": "cc339cf6",
   "metadata": {},
   "source": [
    "# Matrix Multiplication"
   ]
  },
  {
   "cell_type": "code",
   "execution_count": 1,
   "id": "6730b1d3",
   "metadata": {},
   "outputs": [],
   "source": [
    "import numpy as np\n",
    "np.random.seed(0)"
   ]
  },
  {
   "cell_type": "markdown",
   "id": "0bdf82b8",
   "metadata": {},
   "source": [
    "## Matrix multiplication via layers\n",
    "- Calculate out products and sum them"
   ]
  },
  {
   "cell_type": "code",
   "execution_count": 39,
   "id": "9d4de1e7",
   "metadata": {
    "scrolled": true
   },
   "outputs": [
    {
     "name": "stdout",
     "output_type": "stream",
     "text": [
      "c1\n",
      "[[ 9.25304851e-01 -2.15205779e-01 -2.73774581e-03 -4.37230744e-01]\n",
      " [-1.00483369e-01 -3.01390805e+00  1.95016457e-01 -4.20552903e+00]\n",
      " [ 2.43586067e+00 -6.68811690e-01  3.06932279e+00 -4.31307818e+00]\n",
      " [ 1.23472903e-01  5.45648522e-01 -4.12872031e-01 -2.90151481e+00]]\n",
      "\n",
      "c2\n",
      "[[ 9.25304851e-01 -2.15205779e-01 -2.73774581e-03 -4.37230744e-01]\n",
      " [-1.00483369e-01 -3.01390805e+00  1.95016457e-01 -4.20552903e+00]\n",
      " [ 2.43586067e+00 -6.68811690e-01  3.06932279e+00 -4.31307818e+00]\n",
      " [ 1.23472903e-01  5.45648522e-01 -4.12872031e-01 -2.90151481e+00]]\n",
      "\n",
      "c1 - c2\n",
      "[[ 0.  0. -0. -0.]\n",
      " [ 0.  0. -0.  0.]\n",
      " [-0.  0.  0.  0.]\n",
      " [-0.  0.  0.  0.]]\n"
     ]
    }
   ],
   "source": [
    "m = 4\n",
    "n = 6\n",
    "a = np.random.randn(m, n)\n",
    "b = np.random.randn(n, m)\n",
    "\n",
    "c1 = np.zeros((m, m))\n",
    "for i in range(n):\n",
    "    c1 += np.outer(a[:, i], b[i, :])\n",
    "\n",
    "print('c1')\n",
    "print(c1)\n",
    "print()\n",
    "\n",
    "# @ to do matrix multiplication\n",
    "c2 = a @ b\n",
    "\n",
    "print('c2')\n",
    "print(c2)\n",
    "print()\n",
    "\n",
    "print('c1 - c2')\n",
    "print(np.round(c1 - c2))"
   ]
  },
  {
   "cell_type": "markdown",
   "id": "69935ad6",
   "metadata": {},
   "source": [
    "## Matrix multiplication with a diagonal matrix"
   ]
  },
  {
   "cell_type": "code",
   "execution_count": 45,
   "id": "ebdcb6ab",
   "metadata": {
    "scrolled": true
   },
   "outputs": [
    {
     "name": "stdout",
     "output_type": "stream",
     "text": [
      "a\n",
      "[[1 1 1]\n",
      " [1 1 1]\n",
      " [1 1 1]]\n",
      "\n",
      "d\n",
      "[[1 0 0]\n",
      " [0 2 0]\n",
      " [0 0 3]]\n",
      "\n",
      "a @ d scales by column\n",
      "[[1 2 3]\n",
      " [1 2 3]\n",
      " [1 2 3]]\n",
      "\n",
      "d @ a scales by row\n",
      "[[1 1 1]\n",
      " [2 2 2]\n",
      " [3 3 3]]\n",
      "\n"
     ]
    }
   ],
   "source": [
    "a = np.array([\n",
    "    [1, 1, 1],\n",
    "    [1, 1, 1],\n",
    "    [1, 1, 1]\n",
    "])\n",
    "d = np.diag([1, 2, 3])\n",
    "\n",
    "print('a')\n",
    "print(a)\n",
    "print()\n",
    "\n",
    "print('d')\n",
    "print(d)\n",
    "print()\n",
    "\n",
    "print('a @ d scales by column')\n",
    "print(a @ d)\n",
    "print()\n",
    "\n",
    "print('d @ a scales by row')\n",
    "print(d @ a)\n",
    "print()"
   ]
  },
  {
   "cell_type": "markdown",
   "id": "2a9ef834",
   "metadata": {},
   "source": [
    "## Order-of-operations"
   ]
  },
  {
   "cell_type": "code",
   "execution_count": 50,
   "id": "e5e937b6",
   "metadata": {},
   "outputs": [
    {
     "name": "stdout",
     "output_type": "stream",
     "text": [
      "[[ 0.  0.]\n",
      " [ 0. -0.]]\n"
     ]
    }
   ],
   "source": [
    "n = 2\n",
    "l = np.random.randn(n, n)\n",
    "i = np.random.randn(n, n)\n",
    "v = np.random.randn(n, n)\n",
    "e = np.random.randn(n, n)\n",
    "\n",
    "# LIVE\n",
    "a1 = np.matrix.transpose(l @ i @ v @ e)\n",
    "\n",
    "# EVIL\n",
    "a2 = e.T @ v.T @ i.T @ l.T\n",
    "\n",
    "print(np.round(a1 - a2))"
   ]
  },
  {
   "cell_type": "markdown",
   "id": "7fee72ef",
   "metadata": {},
   "source": [
    "## Matrix-vector multiplication"
   ]
  },
  {
   "cell_type": "code",
   "execution_count": 21,
   "id": "7deaaadd",
   "metadata": {},
   "outputs": [
    {
     "name": "stdout",
     "output_type": "stream",
     "text": [
      "Non-symmetric matrix\n",
      "[[ -6 -10   0   4]\n",
      " [ 10   8  -6  -7]\n",
      " [  9  -3  -2   3]\n",
      " [ -5 -10  -2   5]]\n",
      "(4, 4)\n",
      "\n",
      "Symmetric matrix\n",
      "[[ 2. -6.  0. -1.]\n",
      " [-6.  4.  1.  4.]\n",
      " [ 0.  1.  0. -0.]\n",
      " [-1.  4. -0.  2.]]\n",
      "(4, 4)\n",
      "\n",
      "Vector\n",
      "[-1  0  1  2]\n",
      "(4,)\n",
      "\n",
      "[-4. 15.  0.  5.] (4,)\n",
      "[-4. 15.  0.  5.] (4,)\n",
      "[-4. 15.  0.  5.] (4,)\n",
      "[-4. 15.  0.  5.] (4,)\n",
      "[-4. 15.  0.  5.] (4,)\n",
      "\n",
      "[ 14 -30  -5  13] (4,)\n",
      "[ 14 -30  -5  13] (4,)\n",
      "[  5 -13  -6   9] (4,)\n",
      "[  5 -13  -6   9] (4,)\n",
      "[  5 -13  -6   9] (4,)\n",
      "\n"
     ]
    }
   ],
   "source": [
    "m = 4\n",
    "\n",
    "# Matrix\n",
    "non_symmetric = np.random.randint(-10, 11, (m, m))\n",
    "print('Non-symmetric matrix')\n",
    "print(non_symmetric)\n",
    "print(non_symmetric.shape)\n",
    "print()\n",
    "\n",
    "# Element-wise multiplication to make scaled symmetric matrix\n",
    "symmetric = np.round((non_symmetric.T * non_symmetric) / m**2)\n",
    "print('Symmetric matrix')\n",
    "print(symmetric)\n",
    "print(symmetric.shape)\n",
    "print()\n",
    "\n",
    "# Vector\n",
    "w = np.array([-1, 0, 1, 2])\n",
    "print('Vector')\n",
    "print(w)\n",
    "print(w.shape)\n",
    "print()\n",
    "\n",
    "# Matrix-vector multiplication with symmetric matrix\n",
    "print(symmetric @ w, (symmetric @ w).shape)  # (m by m) @ (m, 1) = (m, 1)\n",
    "print(symmetric.T @ w, (symmetric.T @ w).shape)  # (m by m) @ (m, 1) = (m, 1)\n",
    "print(w @ symmetric, (w @ symmetric).shape)  # (1 by m) @ (m, m) = (1, m)\n",
    "print(w.T @ symmetric.T, (w.T @ symmetric.T).shape)  # (1 by m) @ (m, m) = (1, m)\n",
    "print(w.T @ symmetric, (w.T @ symmetric).shape)  # (1 by m) @ (m, m) = (1, m)\n",
    "print()\n",
    "\n",
    "# Matrix-vector multiplication with non-symmetric matrix\n",
    "print(non_symmetric @ w, (non_symmetric @ w).shape)  # (m by m) @ (m, 1) = (m, 1)\n",
    "print(w.T @ non_symmetric.T, (w.T @ non_symmetric.T).shape)  # (1 by m) @ (m, m) = (1, m)\n",
    "print(non_symmetric.T @ w, (non_symmetric.T @ w).shape)  # (m by m) @ (m, 1) = (m, 1)\n",
    "print(w @ non_symmetric, (w @ non_symmetric).shape)  # (1 by m) @ (m, m) = (1, m)\n",
    "print(w.T @ non_symmetric, (w.T @ non_symmetric).shape)  # (1 by m) @ (m, m) = (1, m)\n",
    "print()"
   ]
  },
  {
   "cell_type": "code",
   "execution_count": null,
   "id": "f7900f28",
   "metadata": {},
   "outputs": [],
   "source": []
  },
  {
   "cell_type": "code",
   "execution_count": null,
   "id": "80a5f424",
   "metadata": {},
   "outputs": [],
   "source": []
  },
  {
   "cell_type": "code",
   "execution_count": null,
   "id": "ae59e4c9",
   "metadata": {},
   "outputs": [],
   "source": []
  },
  {
   "cell_type": "code",
   "execution_count": null,
   "id": "6996a643",
   "metadata": {},
   "outputs": [],
   "source": []
  }
 ],
 "metadata": {
  "kernelspec": {
   "display_name": "env-machine-learning",
   "language": "python",
   "name": "env-machine-learning"
  },
  "language_info": {
   "codemirror_mode": {
    "name": "ipython",
    "version": 3
   },
   "file_extension": ".py",
   "mimetype": "text/x-python",
   "name": "python",
   "nbconvert_exporter": "python",
   "pygments_lexer": "ipython3",
   "version": "3.9.5"
  }
 },
 "nbformat": 4,
 "nbformat_minor": 5
}
