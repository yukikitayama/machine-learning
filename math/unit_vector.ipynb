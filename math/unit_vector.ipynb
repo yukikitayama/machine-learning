{
 "cells": [
  {
   "cell_type": "markdown",
   "id": "cc7da203",
   "metadata": {},
   "source": [
    "# Unit Vector"
   ]
  },
  {
   "cell_type": "code",
   "execution_count": 3,
   "id": "79faa9ce",
   "metadata": {},
   "outputs": [],
   "source": [
    "import numpy as np\n",
    "np.random.seed(0)"
   ]
  },
  {
   "cell_type": "code",
   "execution_count": 2,
   "id": "e629293e",
   "metadata": {
    "scrolled": true
   },
   "outputs": [
    {
     "name": "stdout",
     "output_type": "stream",
     "text": [
      "Scaler: 0.1\n",
      "Unit vector: [-0.4472136   0.89442719]\n",
      "Scaler: 14.9\n",
      "Unit vector: [-0.4472136   0.89442719]\n"
     ]
    }
   ],
   "source": [
    "# Vector is big, so scaler should be less than 1 to shrink down\n",
    "v1 = np.array([-3, 6])\n",
    "scaler = 1 / np.linalg.norm(v1)\n",
    "unit_vector = v1 * scaler\n",
    "\n",
    "print(f'Scaler: {scaler:.1}')\n",
    "print(f'Unit vector: {unit_vector}')\n",
    "\n",
    "# Vector is small, so scaler should be big to strach longer\n",
    "v1 = np.array([-0.03, 0.06])\n",
    "scaler = 1 / np.linalg.norm(v1)\n",
    "unit_vector = v1 * scaler\n",
    "\n",
    "print(f'Scaler: {round(scaler, 1)}')\n",
    "print(f'Unit vector: {unit_vector}')"
   ]
  },
  {
   "cell_type": "markdown",
   "id": "e53c56e5",
   "metadata": {},
   "source": [
    "## Dot product of unit vectors\n",
    "- Dot product of two vectors is larger than the individual vectors\n",
    "- But dot product of two unit vectors than the individual unit vectors\n",
    "- Because geometric interpretation of dot product is |a| |b| cos(theta)\n",
    "- Dot product of two vectors is scaled up by the magnitude of two vectors\n",
    "- But dot product of two unit vectors is not scaled up because both magnitude is 1\n",
    "- And only depend on the value of cos(theta), which is -1 to 1."
   ]
  },
  {
   "cell_type": "code",
   "execution_count": 16,
   "id": "ed5b6733",
   "metadata": {},
   "outputs": [
    {
     "name": "stdout",
     "output_type": "stream",
     "text": [
      "v1: [ 0. 36.  3.  8.], magnitude: 37.0\n",
      "v2: [ 38. -27. -25.  19.], magnitude: 56.2\n",
      "Dot product magnitude of v1 and v2: 895.0\n",
      "\n",
      "v1 unit vector: [0.         0.97297297 0.08108108 0.21621622], magnitude: 1.0\n",
      "v2 unit vector: [ 0.67609665 -0.48038446 -0.44480043  0.33804832], magnitude: 1.0\n",
      "Dot product magnitude of unit vectors v1 and v2: 0.4\n"
     ]
    }
   ],
   "source": [
    "n = 4\n",
    "\n",
    "v1 = np.round(20 * np.random.randn(n))\n",
    "v2 = np.round(20 * np.random.randn(n))\n",
    "\n",
    "v1_magnitude = np.sqrt(np.dot(v1, v1))\n",
    "v2_magnitude = np.sqrt(np.dot(v2, v2))\n",
    "dot_product_magnitude_v1_v2 = np.abs(np.dot(v1, v2))\n",
    "\n",
    "print(f'v1: {v1}, magnitude: {v1_magnitude:.1f}')\n",
    "print(f'v2: {v2}, magnitude: {v2_magnitude:.1f}')\n",
    "print(f'Dot product magnitude of v1 and v2: {dot_product_magnitude_v1_v2:.1f}')\n",
    "print()\n",
    "\n",
    "# Unit vector\n",
    "v1_u = v1 / v1_magnitude\n",
    "v2_u = v2 / v2_magnitude\n",
    "v1_u_magnitude = np.sqrt(np.dot(v1_u, v1_u))\n",
    "v2_u_magnitude = np.sqrt(np.dot(v1_u, v1_u))\n",
    "dot_product_magnitude_v1_v2_unit_vectors = np.abs(np.dot(v1_u, v2_u))\n",
    "\n",
    "print(f'v1 unit vector: {v1_u}, magnitude: {v1_u_magnitude:.1f}')\n",
    "print(f'v2 unit vector: {v2_u}, magnitude: {v2_u_magnitude:.1f}')\n",
    "print(f'Dot product magnitude of unit vectors v1 and v2: {dot_product_magnitude_v1_v2_unit_vectors:.1f}')"
   ]
  }
 ],
 "metadata": {
  "kernelspec": {
   "display_name": "env-machine-learning",
   "language": "python",
   "name": "env-machine-learning"
  },
  "language_info": {
   "codemirror_mode": {
    "name": "ipython",
    "version": 3
   },
   "file_extension": ".py",
   "mimetype": "text/x-python",
   "name": "python",
   "nbconvert_exporter": "python",
   "pygments_lexer": "ipython3",
   "version": "3.9.5"
  }
 },
 "nbformat": 4,
 "nbformat_minor": 5
}
