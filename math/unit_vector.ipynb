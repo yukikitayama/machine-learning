{
 "cells": [
  {
   "cell_type": "code",
   "execution_count": 14,
   "id": "e629293e",
   "metadata": {},
   "outputs": [
    {
     "name": "stdout",
     "output_type": "stream",
     "text": [
      "Scaler: 0.1\n",
      "Unit vector: [-0.4472136   0.89442719]\n",
      "Scaler: 14.9\n",
      "Unit vector: [-0.4472136   0.89442719]\n"
     ]
    }
   ],
   "source": [
    "import numpy as np\n",
    "\n",
    "# Vector is big, so scaler should be less than 1 to shrink down\n",
    "v1 = np.array([-3, 6])\n",
    "scaler = 1 / np.linalg.norm(v1)\n",
    "unit_vector = v1 * scaler\n",
    "\n",
    "print(f'Scaler: {scaler:.1}')\n",
    "print(f'Unit vector: {unit_vector}')\n",
    "\n",
    "# Vector is small, so scaler should be big to strach longer\n",
    "v1 = np.array([-0.03, 0.06])\n",
    "scaler = 1 / np.linalg.norm(v1)\n",
    "unit_vector = v1 * scaler\n",
    "\n",
    "print(f'Scaler: {round(scaler, 1)}')\n",
    "print(f'Unit vector: {unit_vector}')"
   ]
  }
 ],
 "metadata": {
  "kernelspec": {
   "display_name": "env-machine-learning",
   "language": "python",
   "name": "env-machine-learning"
  },
  "language_info": {
   "codemirror_mode": {
    "name": "ipython",
    "version": 3
   },
   "file_extension": ".py",
   "mimetype": "text/x-python",
   "name": "python",
   "nbconvert_exporter": "python",
   "pygments_lexer": "ipython3",
   "version": "3.9.5"
  }
 },
 "nbformat": 4,
 "nbformat_minor": 5
}
