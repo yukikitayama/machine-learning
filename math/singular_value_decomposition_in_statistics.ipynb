{
 "cells": [
  {
   "cell_type": "markdown",
   "id": "f72e8dc7",
   "metadata": {},
   "source": [
    "# Singular Value Decomposition in Statistics"
   ]
  },
  {
   "cell_type": "markdown",
   "id": "0e3a8c74",
   "metadata": {},
   "source": [
    "## Dependency"
   ]
  },
  {
   "cell_type": "code",
   "execution_count": 1,
   "id": "f88b6228",
   "metadata": {},
   "outputs": [],
   "source": [
    "import numpy as np"
   ]
  },
  {
   "cell_type": "markdown",
   "id": "8610de46",
   "metadata": {},
   "source": [
    "## Least-Squares"
   ]
  },
  {
   "cell_type": "markdown",
   "id": "0d5c7cfb",
   "metadata": {},
   "source": [
    "In least-squares, $\\beta = (X^T X)^{-1} X^T y$\n",
    "\n",
    "$$\n",
    "X \\beta = X (X^T X)^{-1} X^T y\n",
    "$$\n",
    "$$\n",
    "= U D V^T ((U D V^T)^T U D V^T)^{-1} (U D V)^T y\n",
    "$$\n",
    "$$\n",
    "= U D V^T (V D U^T U D V^T)^{-1} V D U^T y\n",
    "$$\n",
    "$$\n",
    "= U D V^T (V D I D V^T)^{-1} V D U^T y\n",
    "$$\n",
    "$$\n",
    "= U D V^T (V D^2 V^T)^{-1} V D U^T y\n",
    "$$\n",
    "$$\n",
    "= U D V^T (V^{-T} D^{-2} V^{-1}) V D U^T y\n",
    "$$\n",
    "$$\n",
    "= U D I D^{-2} I D U^T y\n",
    "$$\n",
    "$$\n",
    "= U D D^{-2} D U^T y\n",
    "$$\n",
    "$$\n",
    "= U I U^T y\n",
    "$$\n",
    "$$\n",
    "= U U^T y\n",
    "$$"
   ]
  },
  {
   "cell_type": "markdown",
   "id": "52ed41d3",
   "metadata": {},
   "source": [
    "## Ridge Regression"
   ]
  },
  {
   "cell_type": "markdown",
   "id": "154a0033",
   "metadata": {},
   "source": [
    "Let $X$ be the centered input matrix without intercept. **centered input** means each $x_{ij}$ gets replaced by $x_{ij} - \\bar{x}$. $N$ is the number of data. $p$ is the number of features. So $X$ is $N \\times p$. So it doesn't include intercept column which appear in **design matrix**. \n",
    "\n",
    "By applying **singular value decomposition** to $X$,\n",
    "\n",
    "$$\n",
    "X = U D V^T\n",
    "$$\n",
    "\n",
    "In ridge regression, $\\hat {\\beta}^{ridge} = (X^T X + \\lambda I)^{-1} X^T y$\n",
    "\n",
    "$$\n",
    "X \\hat {\\beta}^{ridge} = X (X^T X + \\lambda I)^{-1} X^T y\n",
    "$$\n",
    "$$\n",
    "= U D V^T ((U D V^T)^T U D V^T + \\lambda I)^{-1} (U D V^T)^T y\n",
    "$$\n",
    "$$\n",
    "= U D V^T (V D U^T U D V^T + \\lambda I)^{-1} V D U^T y\n",
    "$$\n",
    "$$\n",
    "= U D V^T (V D^2 V^T + \\lambda I)^{-1} V D U^T y\n",
    "$$\n",
    "$$\n",
    "= U D (D^2 V^T + \\lambda I)^{-1} V D U^T y\n",
    "$$\n",
    "$$\n",
    "= U D (D^2 + \\lambda I)^{-1} D U^T y\n",
    "$$\n",
    "$$\n",
    "= U \\frac {D^2} {D^2 + \\lambda I} U^T y\n",
    "$$\n",
    "\n",
    "By using the sum of the out products,\n",
    "\n",
    "$$\n",
    "\\sum_{j = 1}^{p} u_j \\frac {d_{j}^2} {d_{j}^2 + \\lambda} u_{j}^T y\n",
    "$$\n",
    "\n",
    "Because $\\lambda \\ge 0$ in ridge regression,\n",
    "\n",
    "$$\n",
    "\\frac {d_{j}^2} {d_{j}^2 + \\lambda} \\le 1\n",
    "$$\n",
    "\n",
    "So the effect of $\\lambda$ in ridge regression is to shrink **singular values**. Singular values indictate the importance of each **singular vector**.\n",
    "\n",
    "\n",
    "**Ridge regression shrinks the small singular values the most. The less important the principal components are, the more ridge regression penalizes.**\n",
    "\n",
    "For example, suppose ridge regression $\\lambda$ is 100, the first singular value $d_1$ is 100, and the second singular value $d_2$ is 10. By substituting $\\lambda$ and singular value to the ratio formula $\\frac {d_{j}^2} {d_{j}^2 + \\lambda}$,\n",
    "\n",
    "$$\n",
    "\\lambda = 100\n",
    "$$\n",
    "$$\n",
    "d_1 = 100 \\quad \\frac {d_{1}^2} {d_{1}^2 + \\lambda} = 0.99\n",
    "$$\n",
    "$$\n",
    "d_2 = 10 \\quad \\frac {d_{2}^2} {d_{2}^2 + \\lambda} = 0.5\n",
    "$$"
   ]
  },
  {
   "cell_type": "code",
   "execution_count": 8,
   "id": "b164ca5f",
   "metadata": {},
   "outputs": [
    {
     "name": "stdout",
     "output_type": "stream",
     "text": [
      "0.990\n",
      "0.500\n"
     ]
    }
   ],
   "source": [
    "l = 100\n",
    "d1 = 100\n",
    "d2 = 10\n",
    "\n",
    "def compute_ratio(singular_value, lambda_):\n",
    "    return singular_value**2 / (singular_value**2 + lambda_)\n",
    "\n",
    "r1 = compute_ratio(d1, l)\n",
    "r2 = compute_ratio(d2, l)\n",
    "\n",
    "print(f'{r1:.3f}')\n",
    "print(f'{r2:.3f}')"
   ]
  }
 ],
 "metadata": {
  "kernelspec": {
   "display_name": "env-machine-learning",
   "language": "python",
   "name": "env-machine-learning"
  },
  "language_info": {
   "codemirror_mode": {
    "name": "ipython",
    "version": 3
   },
   "file_extension": ".py",
   "mimetype": "text/x-python",
   "name": "python",
   "nbconvert_exporter": "python",
   "pygments_lexer": "ipython3",
   "version": "3.9.5"
  }
 },
 "nbformat": 4,
 "nbformat_minor": 5
}
