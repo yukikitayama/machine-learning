{
 "cells": [
  {
   "cell_type": "code",
   "execution_count": 1,
   "id": "80ec30a1",
   "metadata": {},
   "outputs": [],
   "source": [
    "import numpy as np"
   ]
  },
  {
   "cell_type": "code",
   "execution_count": 7,
   "id": "5c8199bb",
   "metadata": {},
   "outputs": [
    {
     "name": "stdout",
     "output_type": "stream",
     "text": [
      "a1: [ 0.76 -0.76]\n"
     ]
    }
   ],
   "source": [
    "W = np.array([\n",
    "    [-2, 4, -1], \n",
    "    [6, 0, -3]\n",
    "])\n",
    "b = np.array([0.1, -2.5])\n",
    "x = np.array([0.3, 0.4, 0.1])\n",
    "sigma = np.tanh\n",
    "\n",
    "a1 = sigma(np.matmul(W, x) + b)\n",
    "print(f'a1: {np.round(a1, 2)}')"
   ]
  }
 ],
 "metadata": {
  "kernelspec": {
   "display_name": "env-machine-learning",
   "language": "python",
   "name": "env-machine-learning"
  },
  "language_info": {
   "codemirror_mode": {
    "name": "ipython",
    "version": 3
   },
   "file_extension": ".py",
   "mimetype": "text/x-python",
   "name": "python",
   "nbconvert_exporter": "python",
   "pygments_lexer": "ipython3",
   "version": "3.9.5"
  }
 },
 "nbformat": 4,
 "nbformat_minor": 5
}
