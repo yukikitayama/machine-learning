{
 "cells": [
  {
   "cell_type": "markdown",
   "id": "a53c50ca",
   "metadata": {},
   "source": [
    "# Vectorization"
   ]
  },
  {
   "cell_type": "markdown",
   "id": "a4f3de54",
   "metadata": {},
   "source": [
    "## Dependency"
   ]
  },
  {
   "cell_type": "code",
   "execution_count": 1,
   "id": "97ca480e",
   "metadata": {},
   "outputs": [],
   "source": [
    "import numpy as np\n",
    "import time"
   ]
  },
  {
   "cell_type": "markdown",
   "id": "7993bc12",
   "metadata": {},
   "source": [
    "## Concept\n",
    "\n",
    "**Vectorization** is the implementation used in **neural network** to achieve a faster computation. In neural network, there are many multiplication and summation between many parameters and data. Instead of implementating the explicit for loop, doing dot product or matrix multiplication is faster both in CPU and GPU. This is called vectorization. The computed numbers are the same between the vectorization and the explicit for loop."
   ]
  },
  {
   "cell_type": "code",
   "execution_count": 12,
   "id": "5fcfd8f0",
   "metadata": {},
   "outputs": [
    {
     "name": "stdout",
     "output_type": "stream",
     "text": [
      "Explicit for loop\n",
      "Computed: 250116.5607\n",
      "Spent: 322.4046 milliseconds\n",
      "\n",
      "Vectorization\n",
      "Computed: 250116.5607\n",
      "Spent: 0.9463 milliseconds\n",
      "\n"
     ]
    }
   ],
   "source": [
    "np.random.seed(0)\n",
    "\n",
    "n = 1000000\n",
    "a = np.random.rand(n)\n",
    "b = np.random.rand(n)\n",
    "\n",
    "start_time = time.time()\n",
    "c = 0\n",
    "for i in range(n):\n",
    "    c += a[i] * b[i]\n",
    "end_time = time.time()\n",
    "\n",
    "print('Explicit for loop')\n",
    "print(f'Computed: {c:.4f}')\n",
    "print(f'Spent: {1000 * (end_time - start_time):.4f} milliseconds')\n",
    "print()\n",
    "\n",
    "start_time = time.time()\n",
    "c = np.dot(a, b)\n",
    "end_time = time.time()\n",
    "\n",
    "print('Vectorization')\n",
    "print(f'Computed: {c:.4f}')\n",
    "print(f'Spent: {1000 * (end_time - start_time):.4f} milliseconds')\n",
    "print()"
   ]
  },
  {
   "cell_type": "code",
   "execution_count": null,
   "id": "1e76c72d",
   "metadata": {},
   "outputs": [],
   "source": []
  },
  {
   "cell_type": "code",
   "execution_count": null,
   "id": "5bdacf17",
   "metadata": {},
   "outputs": [],
   "source": []
  },
  {
   "cell_type": "code",
   "execution_count": null,
   "id": "dc61b083",
   "metadata": {},
   "outputs": [],
   "source": []
  }
 ],
 "metadata": {
  "kernelspec": {
   "display_name": "env-machine-learning",
   "language": "python",
   "name": "env-machine-learning"
  },
  "language_info": {
   "codemirror_mode": {
    "name": "ipython",
    "version": 3
   },
   "file_extension": ".py",
   "mimetype": "text/x-python",
   "name": "python",
   "nbconvert_exporter": "python",
   "pygments_lexer": "ipython3",
   "version": "3.9.5"
  }
 },
 "nbformat": 4,
 "nbformat_minor": 5
}
