{
 "cells": [
  {
   "cell_type": "markdown",
   "metadata": {},
   "source": [
    "# DREAM Preterm Birth Prediction challenge"
   ]
  },
  {
   "cell_type": "markdown",
   "metadata": {},
   "source": [
    "This is analysis of data competition \"DREAM Preterm Birth Prediction challenge\". The goal is to predict the gestational age, the months from the last period after pregnancy and the child birth, based on the blood genome data. The main difficulty is to extract important features from the data, which has 30,000 columns."
   ]
  },
  {
   "cell_type": "markdown",
   "metadata": {},
   "source": [
    "# Package"
   ]
  },
  {
   "cell_type": "code",
   "execution_count": 1,
   "metadata": {},
   "outputs": [],
   "source": [
    "import pandas as pd\n",
    "import numpy as np\n",
    "import matplotlib.pyplot as plt\n",
    "\n",
    "import statistics\n",
    "import math\n",
    "import statsmodels.api as sm\n",
    "\n",
    "from sklearn.preprocessing import StandardScaler\n",
    "from sklearn.decomposition import PCA\n",
    "from sklearn.linear_model import LinearRegression, Ridge, Lasso\n",
    "from sklearn.model_selection import cross_val_score, GridSearchCV, train_test_split\n",
    "from sklearn.metrics import accuracy_score\n",
    "\n",
    "import tensorflow as tf\n",
    "from tensorflow import keras\n",
    "from tensorflow.keras import Sequential, layers"
   ]
  },
  {
   "cell_type": "markdown",
   "metadata": {},
   "source": [
    "# Data "
   ]
  },
  {
   "cell_type": "markdown",
   "metadata": {},
   "source": [
    "The following data was preprocessed in R, by merging eset_HTA20 and anoSC1_v11_nokey.csv. It contains both train and test observations."
   ]
  },
  {
   "cell_type": "code",
   "execution_count": 2,
   "metadata": {},
   "outputs": [
    {
     "data": {
      "text/html": [
       "<div>\n",
       "<style scoped>\n",
       "    .dataframe tbody tr th:only-of-type {\n",
       "        vertical-align: middle;\n",
       "    }\n",
       "\n",
       "    .dataframe tbody tr th {\n",
       "        vertical-align: top;\n",
       "    }\n",
       "\n",
       "    .dataframe thead th {\n",
       "        text-align: right;\n",
       "    }\n",
       "</style>\n",
       "<table border=\"1\" class=\"dataframe\">\n",
       "  <thead>\n",
       "    <tr style=\"text-align: right;\">\n",
       "      <th></th>\n",
       "      <th>Unnamed: 0</th>\n",
       "      <th>g_1</th>\n",
       "      <th>g_2</th>\n",
       "      <th>g_3</th>\n",
       "      <th>g_4</th>\n",
       "      <th>g_5</th>\n",
       "      <th>g_6</th>\n",
       "      <th>g_7</th>\n",
       "      <th>g_8</th>\n",
       "      <th>g_9</th>\n",
       "      <th>...</th>\n",
       "      <th>g_32827</th>\n",
       "      <th>g_32828</th>\n",
       "      <th>g_32829</th>\n",
       "      <th>g_32830</th>\n",
       "      <th>SampleID</th>\n",
       "      <th>GA</th>\n",
       "      <th>Batch</th>\n",
       "      <th>Set</th>\n",
       "      <th>Train</th>\n",
       "      <th>Platform</th>\n",
       "    </tr>\n",
       "  </thead>\n",
       "  <tbody>\n",
       "    <tr>\n",
       "      <th>0</th>\n",
       "      <td>1</td>\n",
       "      <td>6.062215</td>\n",
       "      <td>3.796484</td>\n",
       "      <td>5.849338</td>\n",
       "      <td>3.567779</td>\n",
       "      <td>6.166815</td>\n",
       "      <td>4.443027</td>\n",
       "      <td>5.836522</td>\n",
       "      <td>6.330018</td>\n",
       "      <td>4.922339</td>\n",
       "      <td>...</td>\n",
       "      <td>8.972873</td>\n",
       "      <td>10.440245</td>\n",
       "      <td>12.101476</td>\n",
       "      <td>13.695705</td>\n",
       "      <td>Tarca_001_P1A01</td>\n",
       "      <td>11.0</td>\n",
       "      <td>1</td>\n",
       "      <td>PRB_HTA</td>\n",
       "      <td>1</td>\n",
       "      <td>HTA20</td>\n",
       "    </tr>\n",
       "    <tr>\n",
       "      <th>1</th>\n",
       "      <td>2</td>\n",
       "      <td>6.125023</td>\n",
       "      <td>3.805305</td>\n",
       "      <td>6.191562</td>\n",
       "      <td>3.452524</td>\n",
       "      <td>5.678373</td>\n",
       "      <td>4.773199</td>\n",
       "      <td>6.143398</td>\n",
       "      <td>5.601745</td>\n",
       "      <td>4.711765</td>\n",
       "      <td>...</td>\n",
       "      <td>9.376194</td>\n",
       "      <td>10.845176</td>\n",
       "      <td>12.370891</td>\n",
       "      <td>13.635522</td>\n",
       "      <td>Tarca_003_P1A03</td>\n",
       "      <td>NaN</td>\n",
       "      <td>1</td>\n",
       "      <td>PRB_HTA</td>\n",
       "      <td>0</td>\n",
       "      <td>HTA20</td>\n",
       "    </tr>\n",
       "    <tr>\n",
       "      <th>2</th>\n",
       "      <td>3</td>\n",
       "      <td>5.875502</td>\n",
       "      <td>3.450245</td>\n",
       "      <td>6.550525</td>\n",
       "      <td>3.316134</td>\n",
       "      <td>6.185059</td>\n",
       "      <td>4.393488</td>\n",
       "      <td>5.898364</td>\n",
       "      <td>6.137984</td>\n",
       "      <td>4.628124</td>\n",
       "      <td>...</td>\n",
       "      <td>8.843612</td>\n",
       "      <td>10.493416</td>\n",
       "      <td>12.295786</td>\n",
       "      <td>13.616688</td>\n",
       "      <td>Tarca_004_P1A04</td>\n",
       "      <td>32.6</td>\n",
       "      <td>1</td>\n",
       "      <td>PRB_HTA</td>\n",
       "      <td>1</td>\n",
       "      <td>HTA20</td>\n",
       "    </tr>\n",
       "    <tr>\n",
       "      <th>3</th>\n",
       "      <td>4</td>\n",
       "      <td>6.126131</td>\n",
       "      <td>3.628411</td>\n",
       "      <td>6.421877</td>\n",
       "      <td>3.432451</td>\n",
       "      <td>5.633757</td>\n",
       "      <td>4.623783</td>\n",
       "      <td>6.019792</td>\n",
       "      <td>5.787502</td>\n",
       "      <td>4.796283</td>\n",
       "      <td>...</td>\n",
       "      <td>9.191471</td>\n",
       "      <td>10.879879</td>\n",
       "      <td>12.249936</td>\n",
       "      <td>13.524328</td>\n",
       "      <td>Tarca_005_P1A05</td>\n",
       "      <td>30.6</td>\n",
       "      <td>1</td>\n",
       "      <td>PRB_HTA</td>\n",
       "      <td>1</td>\n",
       "      <td>HTA20</td>\n",
       "    </tr>\n",
       "    <tr>\n",
       "      <th>4</th>\n",
       "      <td>5</td>\n",
       "      <td>6.146466</td>\n",
       "      <td>3.446812</td>\n",
       "      <td>6.260962</td>\n",
       "      <td>3.477162</td>\n",
       "      <td>5.313198</td>\n",
       "      <td>4.422651</td>\n",
       "      <td>6.407699</td>\n",
       "      <td>5.830437</td>\n",
       "      <td>4.726488</td>\n",
       "      <td>...</td>\n",
       "      <td>9.247768</td>\n",
       "      <td>10.754316</td>\n",
       "      <td>12.245458</td>\n",
       "      <td>13.509353</td>\n",
       "      <td>Tarca_006_P1A06</td>\n",
       "      <td>NaN</td>\n",
       "      <td>1</td>\n",
       "      <td>PRB_HTA</td>\n",
       "      <td>0</td>\n",
       "      <td>HTA20</td>\n",
       "    </tr>\n",
       "  </tbody>\n",
       "</table>\n",
       "<p>5 rows × 32837 columns</p>\n",
       "</div>"
      ],
      "text/plain": [
       "   Unnamed: 0       g_1       g_2       g_3       g_4       g_5       g_6  \\\n",
       "0           1  6.062215  3.796484  5.849338  3.567779  6.166815  4.443027   \n",
       "1           2  6.125023  3.805305  6.191562  3.452524  5.678373  4.773199   \n",
       "2           3  5.875502  3.450245  6.550525  3.316134  6.185059  4.393488   \n",
       "3           4  6.126131  3.628411  6.421877  3.432451  5.633757  4.623783   \n",
       "4           5  6.146466  3.446812  6.260962  3.477162  5.313198  4.422651   \n",
       "\n",
       "        g_7       g_8       g_9    ...      g_32827    g_32828    g_32829  \\\n",
       "0  5.836522  6.330018  4.922339    ...     8.972873  10.440245  12.101476   \n",
       "1  6.143398  5.601745  4.711765    ...     9.376194  10.845176  12.370891   \n",
       "2  5.898364  6.137984  4.628124    ...     8.843612  10.493416  12.295786   \n",
       "3  6.019792  5.787502  4.796283    ...     9.191471  10.879879  12.249936   \n",
       "4  6.407699  5.830437  4.726488    ...     9.247768  10.754316  12.245458   \n",
       "\n",
       "     g_32830         SampleID    GA  Batch      Set  Train  Platform  \n",
       "0  13.695705  Tarca_001_P1A01  11.0      1  PRB_HTA      1     HTA20  \n",
       "1  13.635522  Tarca_003_P1A03   NaN      1  PRB_HTA      0     HTA20  \n",
       "2  13.616688  Tarca_004_P1A04  32.6      1  PRB_HTA      1     HTA20  \n",
       "3  13.524328  Tarca_005_P1A05  30.6      1  PRB_HTA      1     HTA20  \n",
       "4  13.509353  Tarca_006_P1A06   NaN      1  PRB_HTA      0     HTA20  \n",
       "\n",
       "[5 rows x 32837 columns]"
      ]
     },
     "execution_count": 2,
     "metadata": {},
     "output_type": "execute_result"
    }
   ],
   "source": [
    "alldata = pd.read_csv(\"alldata.csv\")\n",
    "alldata.head()"
   ]
  },
  {
   "cell_type": "markdown",
   "metadata": {},
   "source": [
    "# Train and test split"
   ]
  },
  {
   "cell_type": "code",
   "execution_count": 3,
   "metadata": {},
   "outputs": [
    {
     "name": "stdout",
     "output_type": "stream",
     "text": [
      "X_train dimension: (367, 32830)\n",
      "y_train dimension: (367,)\n",
      "X_test dimension: (368, 32830)\n"
     ]
    }
   ],
   "source": [
    "X_train_df = alldata.loc[alldata['Train'] == 1, 'g_1':'g_32830']\n",
    "y_train_df = alldata.loc[alldata['Train'] == 1, 'GA']\n",
    "X_test_df = alldata.loc[alldata['Train'] == 0, 'g_1':'g_32830']\n",
    "ID_test_df = alldata.loc[alldata['Train'] == 0, 'SampleID']\n",
    "print(\"X_train dimension:\", X_train_df.shape)\n",
    "print(\"y_train dimension:\", y_train_df.shape)\n",
    "print(\"X_test dimension:\", X_test_df.shape)"
   ]
  },
  {
   "cell_type": "markdown",
   "metadata": {},
   "source": [
    "# EDA"
   ]
  },
  {
   "cell_type": "code",
   "execution_count": 4,
   "metadata": {},
   "outputs": [
    {
     "data": {
      "image/png": "[encoded data removed]",
      "text/plain": [
       "<Figure size 432x288 with 1 Axes>"
      ]
     },
     "metadata": {
      "needs_background": "light"
     },
     "output_type": "display_data"
    }
   ],
   "source": [
    "_ = plt.hist(y_train_df)\n",
    "_ = plt.xlabel(\"Gestational age\")\n",
    "_ = plt.ylabel(\"Number of observed data\")\n",
    "_ = plt.title(\"Histogram of gestational age\")\n",
    "plt.show()"
   ]
  },
  {
   "cell_type": "markdown",
   "metadata": {},
   "source": [
    "# Hyperparameter tuning with GridSearchCV"
   ]
  },
  {
   "cell_type": "markdown",
   "metadata": {},
   "source": [
    "Use GridSearchCV and apply 10-fold cross valadation to tune alpha parameter of lasso."
   ]
  },
  {
   "cell_type": "code",
   "execution_count": 5,
   "metadata": {},
   "outputs": [
    {
     "name": "stderr",
     "output_type": "stream",
     "text": [
      "C:\\Users\\yukic\\Anaconda3\\lib\\site-packages\\sklearn\\model_selection\\_search.py:841: DeprecationWarning: The default of the `iid` parameter will change from True to False in version 0.22 and will be removed in 0.24. This will change numeric results when test-set sizes are unequal.\n",
      "  DeprecationWarning)\n"
     ]
    },
    {
     "name": "stdout",
     "output_type": "stream",
     "text": [
      "Tuned lasso regression hyperparameters: {'alpha': 0.04}\n",
      "Best score: 0.37\n",
      "RMSE: 5.25\n",
      "Number of predictors: 59\n"
     ]
    }
   ],
   "source": [
    "k = 10\n",
    "alpha_lower = 0.01\n",
    "alpha_upper = 0.1\n",
    "\n",
    "# Setup the parameter grid\n",
    "alpha_space = np.arange(alpha_lower, alpha_upper, 0.01)\n",
    "param_grid = {'alpha':alpha_space}\n",
    "\n",
    "# Instantiate a lasso regression\n",
    "lasso = Lasso(normalize = True)\n",
    "\n",
    "# Instantiate the GridSearchCV object\n",
    "lasso_cv = GridSearchCV(lasso, param_grid, cv = k)\n",
    "\n",
    "# Fit it to data\n",
    "lasso_cv.fit(X_train_df.values, y_train_df.values)\n",
    "\n",
    "# Calculate training accuracy by RMSE\n",
    "y_pred = lasso_cv.predict(X_train_df.values)\n",
    "rmse = math.sqrt(statistics.mean((y_train_df.values - y_pred)**2))\n",
    "\n",
    "# Predictors\n",
    "best_alpha = lasso_cv.best_params_['alpha']\n",
    "lasso = Lasso(alpha = best_alpha, normalize = True)\n",
    "lasso.fit(X_train_df.values, y_train_df.values)\n",
    "lasso_coef = lasso.coef_\n",
    "p = sum(abs(lasso_coef) > 0)\n",
    "\n",
    "# Print the tuned parameters and score\n",
    "print(\"Tuned lasso regression hyperparameters: {}\".format(lasso_cv.best_params_))\n",
    "print(\"Best score: {0:.2f}\".format(lasso_cv.best_score_))\n",
    "print(\"RMSE: {0:.2f}\".format(rmse))\n",
    "print(\"Number of predictors: {}\".format(p))"
   ]
  },
  {
   "cell_type": "markdown",
   "metadata": {},
   "source": [
    "The above allows us to have the best alpha hyperparameter which acchieve the best accuracy in the validation dataset, and RMSE improved. But we still have 59 predictors and we might have overfitting, and I want to reduce the number of predictors further."
   ]
  },
  {
   "cell_type": "markdown",
   "metadata": {},
   "source": [
    "# Correlation among predictors after Lasso"
   ]
  },
  {
   "cell_type": "markdown",
   "metadata": {},
   "source": [
    "Since the number of predictor is large, I suspect that we have multicolinearity among them, so I check their correlation."
   ]
  },
  {
   "cell_type": "code",
   "execution_count": 15,
   "metadata": {},
   "outputs": [
    {
     "name": "stdout",
     "output_type": "stream",
     "text": [
      "  Variable  Lasso_coefficient\n",
      "0    g_966           0.029606\n",
      "1   g_1096          -0.611407\n",
      "2   g_3102           1.309736\n",
      "3   g_3825          -0.389717\n",
      "4   g_4092           0.142927\n"
     ]
    }
   ],
   "source": [
    "COLUMNS = X_train_df.columns\n",
    "var = pd.Series(COLUMNS[abs(lasso_coef) > 0])\n",
    "coef = pd.Series(lasso_coef[abs(lasso_coef) > 0])\n",
    "lasso_result = pd.concat(objs = [var, coef],\n",
    "                         axis = 1,\n",
    "                         keys = ['Variable', 'Lasso_coefficient'])\n",
    "print(lasso_result.iloc[0:5,:])"
   ]
  },
  {
   "cell_type": "code",
   "execution_count": 7,
   "metadata": {},
   "outputs": [
    {
     "data": {
      "text/html": [
       "<div>\n",
       "<style scoped>\n",
       "    .dataframe tbody tr th:only-of-type {\n",
       "        vertical-align: middle;\n",
       "    }\n",
       "\n",
       "    .dataframe tbody tr th {\n",
       "        vertical-align: top;\n",
       "    }\n",
       "\n",
       "    .dataframe thead th {\n",
       "        text-align: right;\n",
       "    }\n",
       "</style>\n",
       "<table border=\"1\" class=\"dataframe\">\n",
       "  <thead>\n",
       "    <tr style=\"text-align: right;\">\n",
       "      <th></th>\n",
       "      <th>var_1</th>\n",
       "      <th>var_2</th>\n",
       "      <th>correlation</th>\n",
       "    </tr>\n",
       "  </thead>\n",
       "  <tbody>\n",
       "    <tr>\n",
       "      <th>3114</th>\n",
       "      <td>g_28122</td>\n",
       "      <td>g_26873</td>\n",
       "      <td>0.724736</td>\n",
       "    </tr>\n",
       "    <tr>\n",
       "      <th>2766</th>\n",
       "      <td>g_26873</td>\n",
       "      <td>g_28122</td>\n",
       "      <td>0.724736</td>\n",
       "    </tr>\n",
       "    <tr>\n",
       "      <th>2170</th>\n",
       "      <td>g_22398</td>\n",
       "      <td>g_26873</td>\n",
       "      <td>0.664767</td>\n",
       "    </tr>\n",
       "    <tr>\n",
       "      <th>2750</th>\n",
       "      <td>g_26873</td>\n",
       "      <td>g_22398</td>\n",
       "      <td>0.664767</td>\n",
       "    </tr>\n",
       "    <tr>\n",
       "      <th>3220</th>\n",
       "      <td>g_29804</td>\n",
       "      <td>g_22158</td>\n",
       "      <td>0.627796</td>\n",
       "    </tr>\n",
       "  </tbody>\n",
       "</table>\n",
       "</div>"
      ],
      "text/plain": [
       "        var_1    var_2  correlation\n",
       "3114  g_28122  g_26873     0.724736\n",
       "2766  g_26873  g_28122     0.724736\n",
       "2170  g_22398  g_26873     0.664767\n",
       "2750  g_26873  g_22398     0.664767\n",
       "3220  g_29804  g_22158     0.627796"
      ]
     },
     "execution_count": 7,
     "metadata": {},
     "output_type": "execute_result"
    }
   ],
   "source": [
    "COLUMNS = lasso_result['Variable'].tolist()\n",
    "corrmat = X_train_df[COLUMNS].corr()\n",
    "corrmat = corrmat.rename_axis(None).rename_axis(None, axis = 1)\n",
    "corrmat = corrmat.stack().reset_index()\n",
    "corrmat.columns = ['var_1', 'var_2', 'correlation']\n",
    "corrmat = corrmat[corrmat['correlation'] != 1]\n",
    "corrmat.sort_values(by = 'correlation', ascending = False).head(5)"
   ]
  },
  {
   "cell_type": "markdown",
   "metadata": {},
   "source": [
    "Some has high correlation. Next, we check the p-values of those predictors."
   ]
  },
  {
   "cell_type": "markdown",
   "metadata": {},
   "source": [
    "# p-values of predictos of Lasso variable selection"
   ]
  },
  {
   "cell_type": "code",
   "execution_count": 8,
   "metadata": {},
   "outputs": [
    {
     "name": "stdout",
     "output_type": "stream",
     "text": [
      "                            OLS Regression Results                            \n",
      "==============================================================================\n",
      "Dep. Variable:                      y   R-squared:                       0.782\n",
      "Model:                            OLS   Adj. R-squared:                  0.740\n",
      "Method:                 Least Squares   F-statistic:                     18.68\n",
      "Date:                Sat, 20 Jul 2019   Prob (F-statistic):           4.14e-72\n",
      "Time:                        15:07:25   Log-Likelihood:                -1021.3\n",
      "No. Observations:                 367   AIC:                             2163.\n",
      "Df Residuals:                     307   BIC:                             2397.\n",
      "Df Model:                          59                                         \n",
      "Covariance Type:            nonrobust                                         \n",
      "==============================================================================\n",
      "                 coef    std err          t      P>|t|      [0.025      0.975]\n",
      "------------------------------------------------------------------------------\n",
      "const       -171.2488     69.502     -2.464      0.014    -308.009     -34.488\n",
      "x1             0.8984      0.425      2.116      0.035       0.063       1.734\n",
      "x2            -4.2760      2.633     -1.624      0.105      -9.458       0.906\n",
      "x3             2.1110      1.057      1.997      0.047       0.031       4.191\n",
      "x4            -1.8998      1.551     -1.225      0.222      -4.952       1.152\n",
      "x5             1.2074      0.852      1.417      0.157      -0.469       2.884\n",
      "x6            11.1376      2.867      3.885      0.000       5.497      16.779\n",
      "x7             0.1197      0.742      0.161      0.872      -1.340       1.579\n",
      "x8             4.4724      3.381      1.323      0.187      -2.181      11.125\n",
      "x9            -3.2123      3.311     -0.970      0.333      -9.727       3.302\n",
      "x10            4.0949      1.601      2.557      0.011       0.944       7.246\n",
      "x11            3.2727      3.478      0.941      0.347      -3.572      10.117\n",
      "x12            0.9736      2.481      0.392      0.695      -3.909       5.856\n",
      "x13           -3.7015      1.721     -2.150      0.032      -7.089      -0.314\n",
      "x14            2.2678      1.496      1.516      0.131      -0.676       5.212\n",
      "x15            1.6343      2.305      0.709      0.479      -2.900       6.169\n",
      "x16            4.3348      1.259      3.443      0.001       1.858       6.812\n",
      "x17            4.1083      1.680      2.445      0.015       0.803       7.414\n",
      "x18            2.2023      1.440      1.529      0.127      -0.631       5.036\n",
      "x19            0.9907      0.278      3.560      0.000       0.443       1.538\n",
      "x20           -2.4305      2.542     -0.956      0.340      -7.433       2.572\n",
      "x21           -0.4163      1.693     -0.246      0.806      -3.747       2.915\n",
      "x22           -0.6490      0.914     -0.710      0.478      -2.447       1.149\n",
      "x23            1.4915      1.098      1.359      0.175      -0.669       3.652\n",
      "x24           -0.0246      0.643     -0.038      0.970      -1.291       1.241\n",
      "x25            2.3148      1.716      1.349      0.178      -1.063       5.692\n",
      "x26            0.0081      2.655      0.003      0.998      -5.217       5.233\n",
      "x27            1.1753      1.110      1.059      0.291      -1.009       3.360\n",
      "x28           -4.1731      1.832     -2.278      0.023      -7.778      -0.568\n",
      "x29           -1.1462      0.870     -1.318      0.189      -2.858       0.565\n",
      "x30           -0.4984      0.803     -0.621      0.535      -2.078       1.082\n",
      "x31           -1.6298      1.406     -1.159      0.247      -4.397       1.137\n",
      "x32           -2.0073      1.082     -1.855      0.065      -4.137       0.122\n",
      "x33           -0.3101      0.449     -0.690      0.491      -1.194       0.574\n",
      "x34            1.0105      0.988      1.023      0.307      -0.933       2.954\n",
      "x35            0.4672      1.568      0.298      0.766      -2.617       3.552\n",
      "x36           -2.7695      2.692     -1.029      0.304      -8.066       2.527\n",
      "x37            2.4167      1.978      1.222      0.223      -1.475       6.308\n",
      "x38           -6.6133      2.999     -2.205      0.028     -12.515      -0.712\n",
      "x39           -4.0349      2.734     -1.476      0.141      -9.414       1.344\n",
      "x40            2.6026      2.163      1.203      0.230      -1.653       6.858\n",
      "x41            1.0472      0.811      1.291      0.198      -0.549       2.643\n",
      "x42            2.9568      1.196      2.471      0.014       0.603       5.311\n",
      "x43           -6.9732      2.823     -2.470      0.014     -12.527      -1.419\n",
      "x44            1.7320      1.044      1.659      0.098      -0.322       3.786\n",
      "x45            0.7025      1.545      0.455      0.650      -2.338       3.743\n",
      "x46           -1.5868      1.521     -1.044      0.298      -4.579       1.405\n",
      "x47           -0.3373      0.813     -0.415      0.678      -1.937       1.262\n",
      "x48            6.4061      1.186      5.403      0.000       4.073       8.739\n",
      "x49           -0.1522      0.832     -0.183      0.855      -1.789       1.485\n",
      "x50            0.1736      0.725      0.240      0.811      -1.252       1.599\n",
      "x51           -4.1914      1.540     -2.722      0.007      -7.222      -1.161\n",
      "x52            5.5983      2.482      2.255      0.025       0.714      10.483\n",
      "x53            1.8099      0.795      2.278      0.023       0.246       3.373\n",
      "x54           10.7816      2.642      4.081      0.000       5.583      15.981\n",
      "x55           10.3495      1.953      5.300      0.000       6.507      14.192\n",
      "x56           -1.6994      2.477     -0.686      0.493      -6.573       3.175\n",
      "x57           -7.4945      2.595     -2.888      0.004     -12.601      -2.388\n",
      "x58            0.8153      2.314      0.352      0.725      -3.737       5.368\n",
      "x59           -2.1516      1.246     -1.726      0.085      -4.604       0.301\n",
      "==============================================================================\n",
      "Omnibus:                        8.490   Durbin-Watson:                   1.527\n",
      "Prob(Omnibus):                  0.014   Jarque-Bera (JB):               11.866\n",
      "Skew:                           0.173   Prob(JB):                      0.00265\n",
      "Kurtosis:                       3.810   Cond. No.                     1.43e+04\n",
      "==============================================================================\n",
      "\n",
      "Warnings:\n",
      "[1] Standard Errors assume that the covariance matrix of the errors is correctly specified.\n",
      "[2] The condition number is large, 1.43e+04. This might indicate that there are\n",
      "strong multicollinearity or other numerical problems.\n"
     ]
    }
   ],
   "source": [
    "COLUMNS = lasso_result['Variable'].tolist()\n",
    "X = X_train_df[COLUMNS].values\n",
    "X = sm.add_constant(X)\n",
    "y = y_train_df.values\n",
    "result = sm.OLS(y, X).fit()\n",
    "print(result.summary())"
   ]
  },
  {
   "cell_type": "markdown",
   "metadata": {},
   "source": [
    "So it shows that we can do variable selection by lasso regression and reduced the dimension from 30,000 to 50~80 smaller subset. But when you make an ordinary least squares regression, we still have many non-significant predictor. Drop predictors which has high p-values. We implement backwards elimination procedure."
   ]
  },
  {
   "cell_type": "markdown",
   "metadata": {},
   "source": [
    "# Estimate best number of predictors"
   ]
  },
  {
   "cell_type": "markdown",
   "metadata": {},
   "source": [
    "Prepare validation data to check the accuracy according to the number of predictors."
   ]
  },
  {
   "cell_type": "code",
   "execution_count": 38,
   "metadata": {},
   "outputs": [],
   "source": [
    "TEST_SIZE = 0.33\n",
    "SEED = 42\n",
    "\n",
    "# split to training and validation\n",
    "X_train, X_vali, y_train, y_vali = train_test_split(X_train_df, y_train_df, test_size = TEST_SIZE, random_state = SEED)"
   ]
  },
  {
   "cell_type": "code",
   "execution_count": 39,
   "metadata": {},
   "outputs": [
    {
     "name": "stdout",
     "output_type": "stream",
     "text": [
      "(245, 32830)\n",
      "(245,)\n",
      "(122, 32830)\n",
      "(122,)\n"
     ]
    }
   ],
   "source": [
    "print(X_train.shape)\n",
    "print(y_train.shape)\n",
    "print(X_vali.shape)\n",
    "print(y_vali.shape)"
   ]
  },
  {
   "cell_type": "markdown",
   "metadata": {},
   "source": [
    "Function to extract OLS summary information"
   ]
  },
  {
   "cell_type": "code",
   "execution_count": 40,
   "metadata": {},
   "outputs": [],
   "source": [
    "def results_summary_to_dataframe(results):\n",
    "    '''take the result of an statsmodel results table and transforms it into a dataframe'''\n",
    "    coeff = results.params\n",
    "    pvals = results.pvalues\n",
    "    conf_lower = results.conf_int()[:,0]\n",
    "    conf_higher = results.conf_int()[:,1]\n",
    "\n",
    "    results_df = pd.DataFrame({\"coeff\":coeff,\n",
    "                               \"pvals\":pvals,\n",
    "                               \"conf_lower\":conf_lower,\n",
    "                               \"conf_higher\":conf_higher\n",
    "                                })\n",
    "    return results_df"
   ]
  },
  {
   "cell_type": "markdown",
   "metadata": {},
   "source": [
    "# Backwards elimination procedure"
   ]
  },
  {
   "cell_type": "markdown",
   "metadata": {},
   "source": [
    "In backwards elimination, in the end, we want only predictors which are significant. However, at the same time, we want to know the best number of predictors from validation data."
   ]
  },
  {
   "cell_type": "code",
   "execution_count": 41,
   "metadata": {},
   "outputs": [],
   "source": [
    "# initial variables\n",
    "COLUMNS = np.array(lasso_result['Variable'])\n",
    "\n",
    "# store validation result\n",
    "n = len(COLUMNS)\n",
    "rmse_list = np.zeros(n)\n",
    "p_list = np.zeros(n)\n",
    "max_pval_list = np.zeros(n)\n",
    "\n",
    "for i in range(n):\n",
    "    \n",
    "    # run OLS regression\n",
    "    X = X_train[COLUMNS].values\n",
    "    X = sm.add_constant(X)\n",
    "    y = y_train.values\n",
    "    result = sm.OLS(y, X).fit()\n",
    "\n",
    "    # predict validation accuracy\n",
    "    X = X_vali[COLUMNS].values\n",
    "    X = sm.add_constant(X)\n",
    "    y_vali_pred = result.predict(X)\n",
    "    rmse = math.sqrt(statistics.mean((y_vali - y_vali_pred)**2))\n",
    "    rmse_list[i] = rmse\n",
    "    \n",
    "    # store number of predictors\n",
    "    p_list[i] = len(COLUMNS)\n",
    "    \n",
    "    # extract ols results\n",
    "    result_df = results_summary_to_dataframe(result)\n",
    "\n",
    "    # Adding Intercept label\n",
    "    COLUMNS_int = COLUMNS.copy()\n",
    "    COLUMNS_int = np.append('Intercept', COLUMNS_int)\n",
    "    result_df['predictors'] = COLUMNS_int\n",
    "    \n",
    "    # delete one predictor\n",
    "    result_nonint = result_df.copy()\n",
    "    result_nonint = result_nonint.drop(0, axis = 0) # delete intercept row\n",
    "    max_pval_list[i] = max(result_nonint['pvals']) # store max p-value\n",
    "    idx_del = result_nonint['pvals'].idxmax()\n",
    "    result_nonint = result_nonint.drop(idx_del, axis = 0)\n",
    "\n",
    "    # store list of predictors after drop one predictors\n",
    "    COLUMNS = np.array(result_nonint['predictors'])"
   ]
  },
  {
   "cell_type": "code",
   "execution_count": 42,
   "metadata": {},
   "outputs": [
    {
     "data": {
      "image/png": "[encoded data removed]",
      "text/plain": [
       "<Figure size 432x288 with 1 Axes>"
      ]
     },
     "metadata": {
      "needs_background": "light"
     },
     "output_type": "display_data"
    }
   ],
   "source": [
    "_ = plt.plot(p_list, max_pval_list)\n",
    "_ = plt.xlabel('Number of predictors')\n",
    "_ = plt.ylabel('Max p-values')\n",
    "plt.show()"
   ]
  },
  {
   "cell_type": "code",
   "execution_count": 43,
   "metadata": {},
   "outputs": [
    {
     "data": {
      "image/png": "[encoded data removed]",
      "text/plain": [
       "<Figure size 432x288 with 1 Axes>"
      ]
     },
     "metadata": {
      "needs_background": "light"
     },
     "output_type": "display_data"
    }
   ],
   "source": [
    "_ = plt.plot(p_list, rmse_list)\n",
    "_ = plt.xlabel('Number of predictors')\n",
    "_ = plt.ylabel('Root Mean Square Error')\n",
    "plt.show()"
   ]
  },
  {
   "cell_type": "code",
   "execution_count": 44,
   "metadata": {},
   "outputs": [
    {
     "name": "stdout",
     "output_type": "stream",
     "text": [
      "Number of predictors: [34.]\n",
      "Max p-value: [0.257]\n"
     ]
    }
   ],
   "source": [
    "best = np.where(rmse_list == min(rmse_list))\n",
    "print(\"Number of predictors: {}\".format(p_list[best]))\n",
    "print(\"Max p-value: {}\".format(np.round(max_pval_list[best], decimals = 3)))"
   ]
  },
  {
   "cell_type": "markdown",
   "metadata": {},
   "source": [
    "Even though we achieve the best accuracy in the test set by backwards elimination, it does not mean that we only have significant predictors. We improve the procedure. Make while roop to have only significant predictors in the last model."
   ]
  },
  {
   "cell_type": "markdown",
   "metadata": {},
   "source": [
    "# Backwards elimination with p-value control"
   ]
  },
  {
   "cell_type": "code",
   "execution_count": 88,
   "metadata": {},
   "outputs": [],
   "source": [
    "# initial values\n",
    "COLUMNS = np.array(lasso_result['Variable'])\n",
    "X_train = X_train_df # we don't use validation set to check accuracy\n",
    "y_train = y_train_df\n",
    "p_max = 1.0\n",
    "i = 0 # counter\n",
    "\n",
    "# store validation result\n",
    "n = len(COLUMNS)\n",
    "p_list = np.zeros(n)\n",
    "max_pval_list = np.zeros(n)\n",
    "\n",
    "# threshold of p-value\n",
    "p_threshold = 0.00001\n",
    "\n",
    "while p_max > p_threshold:\n",
    "       \n",
    "    # run OLS regression\n",
    "    X = X_train[COLUMNS].values\n",
    "    X = sm.add_constant(X)\n",
    "    y = y_train.values\n",
    "    result = sm.OLS(y, X).fit()\n",
    "    \n",
    "    # store number of predictors\n",
    "    p_list[i] = len(COLUMNS)\n",
    "    \n",
    "    # extract ols results\n",
    "    result_df = results_summary_to_dataframe(result)\n",
    "\n",
    "    # Adding Intercept label\n",
    "    COLUMNS_int = COLUMNS.copy()\n",
    "    COLUMNS_int = np.append('Intercept', COLUMNS_int)\n",
    "    result_df['predictors'] = COLUMNS_int\n",
    "    \n",
    "    # check max p-value\n",
    "    result_nonint = result_df.copy()\n",
    "    result_nonint = result_nonint.drop(0, axis = 0) # delete intercept row\n",
    "    max_pval_list[i] = max(result_nonint['pvals']) # store max p-value\n",
    "    p_max = max(result_nonint['pvals'])\n",
    "    \n",
    "    # delete one predictor\n",
    "    idx_del = result_nonint['pvals'].idxmax()\n",
    "    result_nonint = result_nonint.drop(idx_del, axis = 0)\n",
    "\n",
    "    # store list of predictors after drop one predictors\n",
    "    COLUMNS = np.array(result_nonint['predictors'])\n",
    "    \n",
    "    # counter plus one\n",
    "    i = i + 1"
   ]
  },
  {
   "cell_type": "code",
   "execution_count": 89,
   "metadata": {},
   "outputs": [
    {
     "data": {
      "text/plain": [
       "1e-05"
      ]
     },
     "execution_count": 89,
     "metadata": {},
     "output_type": "execute_result"
    }
   ],
   "source": [
    "np.round(p_max, decimals = 5)"
   ]
  },
  {
   "cell_type": "code",
   "execution_count": 90,
   "metadata": {},
   "outputs": [
    {
     "data": {
      "text/plain": [
       "array([59., 58., 57., 56., 55., 54., 53., 52., 51., 50., 49., 48., 47.,\n",
       "       46., 45., 44., 43., 42., 41., 40., 39., 38., 37., 36., 35., 34.,\n",
       "       33., 32., 31., 30., 29., 28., 27., 26., 25., 24., 23., 22., 21.,\n",
       "       20., 19., 18., 17., 16., 15., 14., 13., 12., 11., 10.,  9.,  0.,\n",
       "        0.,  0.,  0.,  0.,  0.,  0.,  0.])"
      ]
     },
     "execution_count": 90,
     "metadata": {},
     "output_type": "execute_result"
    }
   ],
   "source": [
    "p_list"
   ]
  },
  {
   "cell_type": "code",
   "execution_count": 91,
   "metadata": {},
   "outputs": [
    {
     "data": {
      "text/plain": [
       "array([0.998, 0.97 , 0.871, 0.848, 0.813, 0.778, 0.754, 0.728, 0.733,\n",
       "       0.631, 0.566, 0.517, 0.434, 0.414, 0.362, 0.396, 0.422, 0.314,\n",
       "       0.285, 0.266, 0.272, 0.259, 0.141, 0.13 , 0.125, 0.135, 0.115,\n",
       "       0.073, 0.111, 0.095, 0.082, 0.073, 0.04 , 0.028, 0.011, 0.011,\n",
       "       0.007, 0.011, 0.013, 0.003, 0.003, 0.001, 0.001, 0.   , 0.   ,\n",
       "       0.   , 0.   , 0.   , 0.   , 0.   , 0.   , 0.   , 0.   , 0.   ,\n",
       "       0.   , 0.   , 0.   , 0.   , 0.   ])"
      ]
     },
     "execution_count": 91,
     "metadata": {},
     "output_type": "execute_result"
    }
   ],
   "source": [
    "np.round(max_pval_list, decimals = 3)"
   ]
  },
  {
   "cell_type": "code",
   "execution_count": 92,
   "metadata": {},
   "outputs": [
    {
     "data": {
      "text/html": [
       "<div>\n",
       "<style scoped>\n",
       "    .dataframe tbody tr th:only-of-type {\n",
       "        vertical-align: middle;\n",
       "    }\n",
       "\n",
       "    .dataframe tbody tr th {\n",
       "        vertical-align: top;\n",
       "    }\n",
       "\n",
       "    .dataframe thead th {\n",
       "        text-align: right;\n",
       "    }\n",
       "</style>\n",
       "<table border=\"1\" class=\"dataframe\">\n",
       "  <thead>\n",
       "    <tr style=\"text-align: right;\">\n",
       "      <th></th>\n",
       "      <th>coeff</th>\n",
       "      <th>pvals</th>\n",
       "      <th>conf_lower</th>\n",
       "      <th>conf_higher</th>\n",
       "      <th>predictors</th>\n",
       "    </tr>\n",
       "  </thead>\n",
       "  <tbody>\n",
       "    <tr>\n",
       "      <th>0</th>\n",
       "      <td>-195.7002</td>\n",
       "      <td>0.0</td>\n",
       "      <td>-253.2966</td>\n",
       "      <td>-138.1037</td>\n",
       "      <td>Intercept</td>\n",
       "    </tr>\n",
       "    <tr>\n",
       "      <th>1</th>\n",
       "      <td>6.9224</td>\n",
       "      <td>0.0</td>\n",
       "      <td>3.9407</td>\n",
       "      <td>9.9041</td>\n",
       "      <td>g_5745</td>\n",
       "    </tr>\n",
       "    <tr>\n",
       "      <th>2</th>\n",
       "      <td>1.3357</td>\n",
       "      <td>0.0</td>\n",
       "      <td>0.7600</td>\n",
       "      <td>1.9115</td>\n",
       "      <td>g_10446</td>\n",
       "    </tr>\n",
       "    <tr>\n",
       "      <th>3</th>\n",
       "      <td>-9.1096</td>\n",
       "      <td>0.0</td>\n",
       "      <td>-11.3763</td>\n",
       "      <td>-6.8428</td>\n",
       "      <td>g_17724</td>\n",
       "    </tr>\n",
       "    <tr>\n",
       "      <th>4</th>\n",
       "      <td>-15.3145</td>\n",
       "      <td>0.0</td>\n",
       "      <td>-20.8790</td>\n",
       "      <td>-9.7499</td>\n",
       "      <td>g_25719</td>\n",
       "    </tr>\n",
       "    <tr>\n",
       "      <th>5</th>\n",
       "      <td>10.1441</td>\n",
       "      <td>0.0</td>\n",
       "      <td>8.5728</td>\n",
       "      <td>11.7154</td>\n",
       "      <td>g_26984</td>\n",
       "    </tr>\n",
       "    <tr>\n",
       "      <th>6</th>\n",
       "      <td>10.4892</td>\n",
       "      <td>0.0</td>\n",
       "      <td>5.9002</td>\n",
       "      <td>15.0782</td>\n",
       "      <td>g_27948</td>\n",
       "    </tr>\n",
       "    <tr>\n",
       "      <th>7</th>\n",
       "      <td>3.8711</td>\n",
       "      <td>0.0</td>\n",
       "      <td>2.9293</td>\n",
       "      <td>4.8130</td>\n",
       "      <td>g_28122</td>\n",
       "    </tr>\n",
       "    <tr>\n",
       "      <th>8</th>\n",
       "      <td>13.7469</td>\n",
       "      <td>0.0</td>\n",
       "      <td>8.2776</td>\n",
       "      <td>19.2163</td>\n",
       "      <td>g_28914</td>\n",
       "    </tr>\n",
       "    <tr>\n",
       "      <th>9</th>\n",
       "      <td>15.1490</td>\n",
       "      <td>0.0</td>\n",
       "      <td>12.2797</td>\n",
       "      <td>18.0184</td>\n",
       "      <td>g_29804</td>\n",
       "    </tr>\n",
       "  </tbody>\n",
       "</table>\n",
       "</div>"
      ],
      "text/plain": [
       "      coeff  pvals  conf_lower  conf_higher predictors\n",
       "0 -195.7002    0.0   -253.2966    -138.1037  Intercept\n",
       "1    6.9224    0.0      3.9407       9.9041     g_5745\n",
       "2    1.3357    0.0      0.7600       1.9115    g_10446\n",
       "3   -9.1096    0.0    -11.3763      -6.8428    g_17724\n",
       "4  -15.3145    0.0    -20.8790      -9.7499    g_25719\n",
       "5   10.1441    0.0      8.5728      11.7154    g_26984\n",
       "6   10.4892    0.0      5.9002      15.0782    g_27948\n",
       "7    3.8711    0.0      2.9293       4.8130    g_28122\n",
       "8   13.7469    0.0      8.2776      19.2163    g_28914\n",
       "9   15.1490    0.0     12.2797      18.0184    g_29804"
      ]
     },
     "execution_count": 92,
     "metadata": {},
     "output_type": "execute_result"
    }
   ],
   "source": [
    "np.round(result_df, decimals = 4)"
   ]
  },
  {
   "cell_type": "code",
   "execution_count": 80,
   "metadata": {},
   "outputs": [
    {
     "data": {
      "image/png": "[encoded data removed]",
      "text/plain": [
       "<Figure size 432x288 with 1 Axes>"
      ]
     },
     "metadata": {
      "needs_background": "light"
     },
     "output_type": "display_data"
    }
   ],
   "source": [
    "_ = plt.plot(p_list, max_pval_list)\n",
    "_ = plt.xlabel('Number of predictors')\n",
    "_ = plt.ylabel('Max p-values')\n",
    "plt.show()"
   ]
  },
  {
   "cell_type": "code",
   "execution_count": 82,
   "metadata": {},
   "outputs": [
    {
     "data": {
      "text/plain": [
       "0    Intercept\n",
       "1       g_5745\n",
       "2      g_10446\n",
       "3      g_17724\n",
       "4      g_25719\n",
       "5      g_26984\n",
       "6      g_27948\n",
       "7      g_28122\n",
       "8      g_28914\n",
       "9      g_29804\n",
       "Name: predictors, dtype: object"
      ]
     },
     "execution_count": 82,
     "metadata": {},
     "output_type": "execute_result"
    }
   ],
   "source": [
    "result_df['predictors']"
   ]
  },
  {
   "cell_type": "markdown",
   "metadata": {},
   "source": [
    "Now the number of predictors are 9, and I conclude this is reasonable number of predictors, so use them to predict test set."
   ]
  },
  {
   "cell_type": "markdown",
   "metadata": {},
   "source": [
    "# Prediction of training dataset"
   ]
  },
  {
   "cell_type": "code",
   "execution_count": 95,
   "metadata": {},
   "outputs": [
    {
     "data": {
      "text/plain": [
       "array(['g_5745', 'g_10446', 'g_17724', 'g_25719', 'g_26984', 'g_27948',\n",
       "       'g_28122', 'g_28914', 'g_29804'], dtype=object)"
      ]
     },
     "execution_count": 95,
     "metadata": {},
     "output_type": "execute_result"
    }
   ],
   "source": [
    "COLUMNS_final = np.array(result_df['predictors'].drop(0, axis = 0))\n",
    "COLUMNS_final"
   ]
  },
  {
   "cell_type": "code",
   "execution_count": 96,
   "metadata": {},
   "outputs": [
    {
     "name": "stdout",
     "output_type": "stream",
     "text": [
      "RMSE of training:  5.46\n"
     ]
    }
   ],
   "source": [
    "X = X_train_df[COLUMNS_final].values\n",
    "X = sm.add_constant(X)\n",
    "y = y_train_df.values\n",
    "model = sm.OLS(y, X).fit()\n",
    "y_train_pred = model.predict(X)\n",
    "\n",
    "# Calculate accuracy\n",
    "rmse = math.sqrt(statistics.mean((y - y_train_pred)**2))\n",
    "print(\"RMSE of training: {:5.2f}\".format(rmse))"
   ]
  },
  {
   "cell_type": "markdown",
   "metadata": {},
   "source": [
    "# Prediction of test dataset"
   ]
  },
  {
   "cell_type": "code",
   "execution_count": 97,
   "metadata": {},
   "outputs": [
    {
     "data": {
      "text/html": [
       "<div>\n",
       "<style scoped>\n",
       "    .dataframe tbody tr th:only-of-type {\n",
       "        vertical-align: middle;\n",
       "    }\n",
       "\n",
       "    .dataframe tbody tr th {\n",
       "        vertical-align: top;\n",
       "    }\n",
       "\n",
       "    .dataframe thead th {\n",
       "        text-align: right;\n",
       "    }\n",
       "</style>\n",
       "<table border=\"1\" class=\"dataframe\">\n",
       "  <thead>\n",
       "    <tr style=\"text-align: right;\">\n",
       "      <th></th>\n",
       "      <th>SampleID</th>\n",
       "      <th>GA</th>\n",
       "    </tr>\n",
       "  </thead>\n",
       "  <tbody>\n",
       "    <tr>\n",
       "      <th>0</th>\n",
       "      <td>Tarca_003_P1A03</td>\n",
       "      <td>22.3</td>\n",
       "    </tr>\n",
       "    <tr>\n",
       "      <th>1</th>\n",
       "      <td>Tarca_006_P1A06</td>\n",
       "      <td>22.2</td>\n",
       "    </tr>\n",
       "    <tr>\n",
       "      <th>2</th>\n",
       "      <td>Tarca_011_P1A11</td>\n",
       "      <td>20.1</td>\n",
       "    </tr>\n",
       "    <tr>\n",
       "      <th>3</th>\n",
       "      <td>Tarca_012_P1A12</td>\n",
       "      <td>37.5</td>\n",
       "    </tr>\n",
       "    <tr>\n",
       "      <th>4</th>\n",
       "      <td>Tarca_015_P1B03</td>\n",
       "      <td>26.6</td>\n",
       "    </tr>\n",
       "  </tbody>\n",
       "</table>\n",
       "</div>"
      ],
      "text/plain": [
       "          SampleID    GA\n",
       "0  Tarca_003_P1A03  22.3\n",
       "1  Tarca_006_P1A06  22.2\n",
       "2  Tarca_011_P1A11  20.1\n",
       "3  Tarca_012_P1A12  37.5\n",
       "4  Tarca_015_P1B03  26.6"
      ]
     },
     "execution_count": 97,
     "metadata": {},
     "output_type": "execute_result"
    }
   ],
   "source": [
    "X_test = X_test_df[COLUMNS_final].values\n",
    "X_test = sm.add_constant(X_test)\n",
    "test_pred = model.predict(X_test).round(1) # DREAM allows only 1 decimal point\n",
    "result = pd.concat([pd.Series(ID_test_df.values), pd.Series(test_pred)],\n",
    "                  axis = 1,\n",
    "                  keys = ['SampleID', 'GA'])\n",
    "result.head()"
   ]
  },
  {
   "cell_type": "code",
   "execution_count": 100,
   "metadata": {},
   "outputs": [
    {
     "data": {
      "text/html": [
       "<div>\n",
       "<style scoped>\n",
       "    .dataframe tbody tr th:only-of-type {\n",
       "        vertical-align: middle;\n",
       "    }\n",
       "\n",
       "    .dataframe tbody tr th {\n",
       "        vertical-align: top;\n",
       "    }\n",
       "\n",
       "    .dataframe thead th {\n",
       "        text-align: right;\n",
       "    }\n",
       "</style>\n",
       "<table border=\"1\" class=\"dataframe\">\n",
       "  <thead>\n",
       "    <tr style=\"text-align: right;\">\n",
       "      <th></th>\n",
       "      <th>GA</th>\n",
       "    </tr>\n",
       "  </thead>\n",
       "  <tbody>\n",
       "    <tr>\n",
       "      <th>count</th>\n",
       "      <td>368.000000</td>\n",
       "    </tr>\n",
       "    <tr>\n",
       "      <th>mean</th>\n",
       "      <td>26.677989</td>\n",
       "    </tr>\n",
       "    <tr>\n",
       "      <th>std</th>\n",
       "      <td>7.252351</td>\n",
       "    </tr>\n",
       "    <tr>\n",
       "      <th>min</th>\n",
       "      <td>7.300000</td>\n",
       "    </tr>\n",
       "    <tr>\n",
       "      <th>25%</th>\n",
       "      <td>21.400000</td>\n",
       "    </tr>\n",
       "    <tr>\n",
       "      <th>50%</th>\n",
       "      <td>26.550000</td>\n",
       "    </tr>\n",
       "    <tr>\n",
       "      <th>75%</th>\n",
       "      <td>32.225000</td>\n",
       "    </tr>\n",
       "    <tr>\n",
       "      <th>max</th>\n",
       "      <td>50.100000</td>\n",
       "    </tr>\n",
       "  </tbody>\n",
       "</table>\n",
       "</div>"
      ],
      "text/plain": [
       "               GA\n",
       "count  368.000000\n",
       "mean    26.677989\n",
       "std      7.252351\n",
       "min      7.300000\n",
       "25%     21.400000\n",
       "50%     26.550000\n",
       "75%     32.225000\n",
       "max     50.100000"
      ]
     },
     "execution_count": 100,
     "metadata": {},
     "output_type": "execute_result"
    }
   ],
   "source": [
    "result.describe()"
   ]
  },
  {
   "cell_type": "markdown",
   "metadata": {},
   "source": [
    "# Adjustment"
   ]
  },
  {
   "cell_type": "markdown",
   "metadata": {},
   "source": [
    "DREAM suggests that values are expected to be >8 and <42, so adjusts predicted values.\n",
    "<br>\n",
    "https://www.synapse.org/#!Synapse:syn18380862/wiki/590817"
   ]
  },
  {
   "cell_type": "code",
   "execution_count": 101,
   "metadata": {},
   "outputs": [
    {
     "name": "stdout",
     "output_type": "stream",
     "text": [
      "4\n",
      "1\n"
     ]
    }
   ],
   "source": [
    "print((result['GA'] >= 42).sum())\n",
    "print((result['GA'] <= 8).sum())"
   ]
  },
  {
   "cell_type": "code",
   "execution_count": 102,
   "metadata": {},
   "outputs": [],
   "source": [
    "result.loc[result['GA'] >= 42, 'GA'] = 41.9\n",
    "result.loc[result['GA'] <= 8, 'GA'] = 8.1"
   ]
  },
  {
   "cell_type": "code",
   "execution_count": 103,
   "metadata": {},
   "outputs": [
    {
     "data": {
      "text/plain": [
       "count    368.000000\n",
       "mean      26.636413\n",
       "std        7.135365\n",
       "min        8.100000\n",
       "25%       21.400000\n",
       "50%       26.550000\n",
       "75%       32.225000\n",
       "max       41.900000\n",
       "Name: GA, dtype: float64"
      ]
     },
     "execution_count": 103,
     "metadata": {},
     "output_type": "execute_result"
    }
   ],
   "source": [
    "result['GA'].describe()"
   ]
  },
  {
   "cell_type": "markdown",
   "metadata": {},
   "source": [
    "# Submission"
   ]
  },
  {
   "cell_type": "code",
   "execution_count": 104,
   "metadata": {},
   "outputs": [],
   "source": [
    "sub = result\n",
    "# sub.to_csv('C:\\\\Users\\\\yukic\\\\Documents\\\\DREAM\\\\submission_190707.csv', index = False)\n",
    "# sub.to_csv('C:\\\\Users\\\\yukic\\\\Documents\\\\DREAM\\\\submission_190712.csv', index = False)\n",
    "# sub.to_csv('C:\\\\Users\\\\yukic\\\\Documents\\\\DREAM\\\\submission_190720.csv', index = False)"
   ]
  }
 ],
 "metadata": {
  "kernelspec": {
   "display_name": "Python 3",
   "language": "python",
   "name": "python3"
  },
  "language_info": {
   "codemirror_mode": {
    "name": "ipython",
    "version": 3
   },
   "file_extension": ".py",
   "mimetype": "text/x-python",
   "name": "python",
   "nbconvert_exporter": "python",
   "pygments_lexer": "ipython3",
   "version": "3.7.1"
  }
 },
 "nbformat": 4,
 "nbformat_minor": 2
}
