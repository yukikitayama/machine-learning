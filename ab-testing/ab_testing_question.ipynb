{
 "cells": [
  {
   "cell_type": "markdown",
   "id": "3eb3fed7",
   "metadata": {},
   "source": [
    "# A/B Testing Questions"
   ]
  },
  {
   "cell_type": "markdown",
   "id": "1130e6d6",
   "metadata": {},
   "source": [
    "## 20 variants\n",
    "\n",
    "You are running A/B tests on a website with 20 different variants, and one of the variants is significant. Is this result reliable?\n",
    "\n",
    "The probability that we reach significance on a variant by chance is high. Use 0.05 significance level.\n",
    "\n",
    "$$\n",
    "P(\\text{At least one significant result}) = 1 - P(\\text{Not significant result})\n",
    "$$\n",
    "$$\n",
    "= 1 - (1 - 0.05)\n",
    "$$\n",
    "$$\n",
    "= 0.05\n",
    "$$\n",
    "\n",
    "We have a 5% probability of getting one significant result by chance. Extend this math to 20 results and compute a probability that we get at least one significant result by chance\n",
    "\n",
    "$$\n",
    "P(\\text{At least one significant result}) = 1 - P(\\text{All results are not significant})\n",
    "$$\n",
    "$$\n",
    "1 - (1 - 0.05)^{20}\n",
    "$$"
   ]
  },
  {
   "cell_type": "code",
   "execution_count": 3,
   "id": "7eb5e6ad",
   "metadata": {},
   "outputs": [
    {
     "data": {
      "text/plain": [
       "0.6415140775914581"
      ]
     },
     "execution_count": 3,
     "metadata": {},
     "output_type": "execute_result"
    }
   ],
   "source": [
    "1 - (1 - 0.05) ** 20"
   ]
  },
  {
   "cell_type": "markdown",
   "id": "54c7650f",
   "metadata": {},
   "source": [
    "We have 64% probability that we get a significant result by chance. So the 20 variants results are not reliable.\n",
    "\n",
    "We should use **Bonferroni correction** to divide the significance level by the number of variants. If significance level is 0.05 and number of variants is 20,\n",
    "\n",
    "$$\n",
    "\\frac{0.05}{20}\n",
    "$$"
   ]
  },
  {
   "cell_type": "code",
   "execution_count": 4,
   "id": "4d1edba9",
   "metadata": {},
   "outputs": [
    {
     "data": {
      "text/plain": [
       "0.0025"
      ]
     },
     "execution_count": 4,
     "metadata": {},
     "output_type": "execute_result"
    }
   ],
   "source": [
    "0.05 / 20"
   ]
  },
  {
   "cell_type": "markdown",
   "id": "5937d993",
   "metadata": {},
   "source": [
    "We should use the significance level 0.0025 for 20 variants A/B testing, so that the probability that one significant result by chance will be\n",
    "\n",
    "$$\n",
    "1 - (1 - 0.0025)^{20}\n",
    "$$"
   ]
  },
  {
   "cell_type": "code",
   "execution_count": 5,
   "id": "2cd2ee9b",
   "metadata": {},
   "outputs": [
    {
     "data": {
      "text/plain": [
       "0.04883012474683324"
      ]
     },
     "execution_count": 5,
     "metadata": {},
     "output_type": "execute_result"
    }
   ],
   "source": [
    "1 - (1 - 0.0025) ** 20"
   ]
  },
  {
   "cell_type": "markdown",
   "id": "0cc69059",
   "metadata": {},
   "source": [
    "5% probability that we get one significant result by chance, so we can have a standard threshold for statistical tests."
   ]
  }
 ],
 "metadata": {
  "kernelspec": {
   "display_name": "env-machine-learning",
   "language": "python",
   "name": "env-machine-learning"
  },
  "language_info": {
   "codemirror_mode": {
    "name": "ipython",
    "version": 3
   },
   "file_extension": ".py",
   "mimetype": "text/x-python",
   "name": "python",
   "nbconvert_exporter": "python",
   "pygments_lexer": "ipython3",
   "version": "3.9.5"
  }
 },
 "nbformat": 4,
 "nbformat_minor": 5
}
