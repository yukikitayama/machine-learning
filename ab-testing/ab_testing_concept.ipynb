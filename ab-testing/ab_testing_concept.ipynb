{
 "cells": [
  {
   "cell_type": "markdown",
   "id": "14ad4483",
   "metadata": {},
   "source": [
    "# A/B Testing\n",
    "\n",
    "A is the existing thing, and B is the new thing. And we want B to be better than A. So we use a one-way hypothesis test. But in case we want B to be different from A, meaning we don’t care about the direction, we use two-way hypothesis.\n",
    "\n",
    "## Statistical significance\n",
    "\n",
    "- 1 minus p-value\n",
    "- The sufficient level of statistical significance depends on how much false positive you can have\n",
    "- If statistical significance is 80%, it means that 1 false positive out of 5 tests\n",
    "- If 95%, 1 out of 20\n",
    "- If 100%, 1 out of 100\n",
    "\n",
    "## Sample size\n",
    "\n",
    "- Effect size is the minimum size of the effect that you hope to be able to detect in a statistical test, such as 20% improvement in click rates\n",
    "- Power is the probability of detecting a specified effect size with specified sample size and variability.\n",
    "- Standard approach is to predefine the effect size, and then drives the sample size\n",
    "- Statistical software can use sample size, effect size, significance level and power. Specify any three of them, and the fourth can be calculated. So if we wanna know the sample size, we can compute it if we have the effect size, significance level and power.\n",
    "\n",
    "## Resampling permutation procedure\n",
    "\n",
    "- Shuffle group A and B to produce distribution and compare our test statistic to the distribution.\n",
    "\n",
    "## Type 1 error\n",
    "\n",
    "Mistakenly concluding an effect is real when it is due to chance\n",
    "\n",
    "## Type 2 error\n",
    "\n",
    "Mistakenly concluding an effect is due to chance when it is real"
   ]
  }
 ],
 "metadata": {
  "kernelspec": {
   "display_name": "env-machine-learning",
   "language": "python",
   "name": "env-machine-learning"
  },
  "language_info": {
   "codemirror_mode": {
    "name": "ipython",
    "version": 3
   },
   "file_extension": ".py",
   "mimetype": "text/x-python",
   "name": "python",
   "nbconvert_exporter": "python",
   "pygments_lexer": "ipython3",
   "version": "3.9.5"
  }
 },
 "nbformat": 4,
 "nbformat_minor": 5
}
