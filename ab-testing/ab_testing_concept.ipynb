{
 "cells": [
  {
   "cell_type": "markdown",
   "id": "57bb9124",
   "metadata": {},
   "source": [
    "# A/B Testing"
   ]
  },
  {
   "cell_type": "code",
   "execution_count": 31,
   "id": "f450919d",
   "metadata": {},
   "outputs": [],
   "source": [
    "import pandas as pd\n",
    "import numpy as np\n",
    "import matplotlib.pyplot as plt\n",
    "import seaborn as sns\n",
    "import random\n",
    "plt.style.use('default')"
   ]
  },
  {
   "cell_type": "markdown",
   "id": "14ad4483",
   "metadata": {},
   "source": [
    "## Background\n",
    "\n",
    "Data scientists often need to conduct experiments about user interface and product marketing. It's designed to test the hypothesis in such a way that it hopefully will deliver conclusive results. For example, a new interface B is better than the existing interface A. **Treatment** is something that a test is applied, such as interfaces, products, prices. **Control group** group is a standard, existing, without-new-things group, and **treatment group** is a group with a specific thing that we wanna test. **Subjects** are typically users like web visitors or patients that are exposed to treatments. Having a control group gives us assurance that all other things are equal and that any difference is due to the treatment or to chance. **A/B testing** is common in web design, marketing, and ecommerce such as web page desing, price of a product, wording of a headline. \n",
    "\n",
    "The outcomes that A/B testing typically measures are\n",
    "\n",
    "- Number of clicks\n",
    "- Number of purchases\n",
    "- Duration of web page visits\n",
    "- Number of pages visited\n",
    "- Whether a particular page is visited\n",
    "\n",
    "## Hypothesis test\n",
    "\n",
    "Something the A/B testing typically constructs. In A/B testing, when we see difference between A and B, we think it's due to either random chance or true difference. Hypothesis test gives us the assessment whether random chance is a reasonable explanation.\n",
    "\n",
    "A/B testing typically uses **one-way** hypothesis test (**one-tail** hypothesis test), in which we make decision that one option is assigned as default unless the other option proves better.\n",
    "\n",
    "## Researcher bias\n",
    "\n",
    "Selecting a test static after the experiment. But a test static needs to be established beforehand.\n",
    "\n",
    "## Multi-arm bandit\n",
    "\n",
    "If the number of experiments gets more than 2, for example, out of price A, B, C and B, which is the best, the experimental design is called **multi-arm bandit**.\n",
    "\n",
    "## Statistical significance\n",
    "\n",
    "- 1 minus p-value\n",
    "- The sufficient level of statistical significance depends on how much false positive you can have\n",
    "- If statistical significance is 80%, it means that 1 false positive out of 5 tests\n",
    "- If 95%, 1 out of 20\n",
    "- If 100%, 1 out of 100\n",
    "\n",
    "## Sample size\n",
    "\n",
    "- Effect size is the minimum size of the effect that you hope to be able to detect in a statistical test, such as 20% improvement in click rates\n",
    "- Power is the probability of detecting a specified effect size with specified sample size and variability.\n",
    "- Standard approach is to predefine the effect size, and then drives the sample size\n",
    "- Statistical software can use sample size, effect size, significance level and power. Specify any three of them, and the fourth can be calculated. So if we wanna know the sample size, we can compute it if we have the effect size, significance level and power.\n",
    "\n",
    "## Resampling permutation procedure\n",
    "\n",
    "- Shuffle group A and B to produce distribution and compare our test statistic to the distribution.\n",
    "\n",
    "## Random permutation test (Randomization test)\n",
    "\n",
    "Permute means to change the order of a set of values.\n",
    "\n",
    "Combine two or more groups of samples together and randomly reallocate the groups to the resampled data. People also call it randomization test, random permutation test, or exact test. Permute means to change the order of a set of values. The goal is to compare the observed test statistic and the many test statistics which are obtained the permutations. If the observed test statistic lies outside most of the permutation distribution, statistically significant.\n",
    "\n",
    "Sample without replacement.\n",
    "\n",
    "Assumption about normally distributed data is not needed.\n",
    "\n",
    "Creating a distribution from resampling is to have the reference null hypothesis distribution from the data like t-test.\n",
    "\n",
    "## Bootstrap permutation test\n",
    "\n",
    "The above approach by using sample with replacement"
   ]
  },
  {
   "cell_type": "code",
   "execution_count": 11,
   "id": "46e0144a",
   "metadata": {},
   "outputs": [],
   "source": [
    "df = pd.read_csv('../data/web_page_data.csv')"
   ]
  },
  {
   "cell_type": "code",
   "execution_count": 15,
   "id": "c933da97",
   "metadata": {},
   "outputs": [
    {
     "data": {
      "text/html": [
       "<div>\n",
       "<style scoped>\n",
       "    .dataframe tbody tr th:only-of-type {\n",
       "        vertical-align: middle;\n",
       "    }\n",
       "\n",
       "    .dataframe tbody tr th {\n",
       "        vertical-align: top;\n",
       "    }\n",
       "\n",
       "    .dataframe thead th {\n",
       "        text-align: right;\n",
       "    }\n",
       "</style>\n",
       "<table border=\"1\" class=\"dataframe\">\n",
       "  <thead>\n",
       "    <tr style=\"text-align: right;\">\n",
       "      <th></th>\n",
       "      <th>Page</th>\n",
       "      <th>Time</th>\n",
       "    </tr>\n",
       "  </thead>\n",
       "  <tbody>\n",
       "    <tr>\n",
       "      <th>0</th>\n",
       "      <td>Page A</td>\n",
       "      <td>0.21</td>\n",
       "    </tr>\n",
       "    <tr>\n",
       "      <th>1</th>\n",
       "      <td>Page B</td>\n",
       "      <td>2.53</td>\n",
       "    </tr>\n",
       "    <tr>\n",
       "      <th>2</th>\n",
       "      <td>Page A</td>\n",
       "      <td>0.35</td>\n",
       "    </tr>\n",
       "    <tr>\n",
       "      <th>3</th>\n",
       "      <td>Page B</td>\n",
       "      <td>0.71</td>\n",
       "    </tr>\n",
       "    <tr>\n",
       "      <th>4</th>\n",
       "      <td>Page A</td>\n",
       "      <td>0.67</td>\n",
       "    </tr>\n",
       "  </tbody>\n",
       "</table>\n",
       "</div>"
      ],
      "text/plain": [
       "     Page  Time\n",
       "0  Page A  0.21\n",
       "1  Page B  2.53\n",
       "2  Page A  0.35\n",
       "3  Page B  0.71\n",
       "4  Page A  0.67"
      ]
     },
     "execution_count": 15,
     "metadata": {},
     "output_type": "execute_result"
    }
   ],
   "source": [
    "df.head()"
   ]
  },
  {
   "cell_type": "code",
   "execution_count": 16,
   "id": "ccb94b0b",
   "metadata": {},
   "outputs": [
    {
     "data": {
      "text/html": [
       "<div>\n",
       "<style scoped>\n",
       "    .dataframe tbody tr th:only-of-type {\n",
       "        vertical-align: middle;\n",
       "    }\n",
       "\n",
       "    .dataframe tbody tr th {\n",
       "        vertical-align: top;\n",
       "    }\n",
       "\n",
       "    .dataframe thead th {\n",
       "        text-align: right;\n",
       "    }\n",
       "</style>\n",
       "<table border=\"1\" class=\"dataframe\">\n",
       "  <thead>\n",
       "    <tr style=\"text-align: right;\">\n",
       "      <th></th>\n",
       "      <th>Page</th>\n",
       "      <th>Time</th>\n",
       "    </tr>\n",
       "  </thead>\n",
       "  <tbody>\n",
       "    <tr>\n",
       "      <th>31</th>\n",
       "      <td>Page A</td>\n",
       "      <td>0.74</td>\n",
       "    </tr>\n",
       "    <tr>\n",
       "      <th>32</th>\n",
       "      <td>Page A</td>\n",
       "      <td>0.86</td>\n",
       "    </tr>\n",
       "    <tr>\n",
       "      <th>33</th>\n",
       "      <td>Page A</td>\n",
       "      <td>1.18</td>\n",
       "    </tr>\n",
       "    <tr>\n",
       "      <th>34</th>\n",
       "      <td>Page A</td>\n",
       "      <td>2.06</td>\n",
       "    </tr>\n",
       "    <tr>\n",
       "      <th>35</th>\n",
       "      <td>Page A</td>\n",
       "      <td>0.93</td>\n",
       "    </tr>\n",
       "  </tbody>\n",
       "</table>\n",
       "</div>"
      ],
      "text/plain": [
       "      Page  Time\n",
       "31  Page A  0.74\n",
       "32  Page A  0.86\n",
       "33  Page A  1.18\n",
       "34  Page A  2.06\n",
       "35  Page A  0.93"
      ]
     },
     "execution_count": 16,
     "metadata": {},
     "output_type": "execute_result"
    }
   ],
   "source": [
    "df.tail()"
   ]
  },
  {
   "cell_type": "code",
   "execution_count": 14,
   "id": "79f7e3d2",
   "metadata": {},
   "outputs": [
    {
     "data": {
      "text/html": [
       "<div>\n",
       "<style scoped>\n",
       "    .dataframe tbody tr th:only-of-type {\n",
       "        vertical-align: middle;\n",
       "    }\n",
       "\n",
       "    .dataframe tbody tr th {\n",
       "        vertical-align: top;\n",
       "    }\n",
       "\n",
       "    .dataframe thead tr th {\n",
       "        text-align: left;\n",
       "    }\n",
       "\n",
       "    .dataframe thead tr:last-of-type th {\n",
       "        text-align: right;\n",
       "    }\n",
       "</style>\n",
       "<table border=\"1\" class=\"dataframe\">\n",
       "  <thead>\n",
       "    <tr>\n",
       "      <th></th>\n",
       "      <th colspan=\"8\" halign=\"left\">Time</th>\n",
       "    </tr>\n",
       "    <tr>\n",
       "      <th></th>\n",
       "      <th>count</th>\n",
       "      <th>mean</th>\n",
       "      <th>std</th>\n",
       "      <th>min</th>\n",
       "      <th>25%</th>\n",
       "      <th>50%</th>\n",
       "      <th>75%</th>\n",
       "      <th>max</th>\n",
       "    </tr>\n",
       "    <tr>\n",
       "      <th>Page</th>\n",
       "      <th></th>\n",
       "      <th></th>\n",
       "      <th></th>\n",
       "      <th></th>\n",
       "      <th></th>\n",
       "      <th></th>\n",
       "      <th></th>\n",
       "      <th></th>\n",
       "    </tr>\n",
       "  </thead>\n",
       "  <tbody>\n",
       "    <tr>\n",
       "      <th>Page A</th>\n",
       "      <td>21.0</td>\n",
       "      <td>1.263333</td>\n",
       "      <td>0.884632</td>\n",
       "      <td>0.21</td>\n",
       "      <td>0.67</td>\n",
       "      <td>0.95</td>\n",
       "      <td>1.730</td>\n",
       "      <td>3.42</td>\n",
       "    </tr>\n",
       "    <tr>\n",
       "      <th>Page B</th>\n",
       "      <td>15.0</td>\n",
       "      <td>1.620000</td>\n",
       "      <td>1.011364</td>\n",
       "      <td>0.43</td>\n",
       "      <td>0.80</td>\n",
       "      <td>1.47</td>\n",
       "      <td>2.345</td>\n",
       "      <td>3.57</td>\n",
       "    </tr>\n",
       "  </tbody>\n",
       "</table>\n",
       "</div>"
      ],
      "text/plain": [
       "        Time                                                   \n",
       "       count      mean       std   min   25%   50%    75%   max\n",
       "Page                                                           \n",
       "Page A  21.0  1.263333  0.884632  0.21  0.67  0.95  1.730  3.42\n",
       "Page B  15.0  1.620000  1.011364  0.43  0.80  1.47  2.345  3.57"
      ]
     },
     "execution_count": 14,
     "metadata": {},
     "output_type": "execute_result"
    }
   ],
   "source": [
    "df.groupby(['Page']).describe()"
   ]
  },
  {
   "cell_type": "code",
   "execution_count": 12,
   "id": "b7c04089",
   "metadata": {},
   "outputs": [
    {
     "data": {
      "image/png": "[encoded data removed]",
      "text/plain": [
       "<Figure size 597.75x500 with 1 Axes>"
      ]
     },
     "metadata": {},
     "output_type": "display_data"
    }
   ],
   "source": [
    "sns.displot(\n",
    "    df,\n",
    "    x='Time',\n",
    "    hue='Page',\n",
    "    kind='kde'\n",
    ")\n",
    "plt.show()"
   ]
  },
  {
   "cell_type": "code",
   "execution_count": 25,
   "id": "7da1e971",
   "metadata": {},
   "outputs": [
    {
     "name": "stdout",
     "output_type": "stream",
     "text": [
      "Observed difference: 0.3566666666666669\n"
     ]
    }
   ],
   "source": [
    "mean_a = df.loc[df['Page'] == 'Page A', 'Time'].mean()\n",
    "mean_b = df.loc[df['Page'] == 'Page B', 'Time'].mean()\n",
    "\n",
    "observed_difference = mean_b - mean_a\n",
    "\n",
    "print(f'Observed difference: {observed_difference}')"
   ]
  },
  {
   "cell_type": "code",
   "execution_count": 21,
   "id": "e2620fbf",
   "metadata": {},
   "outputs": [],
   "source": [
    "def permute_and_compute_difference(df, n_a, n_b):\n",
    "    # Assumes dataframe has index from 0 to n - 1\n",
    "    indices = [i for i in range(n_a + n_b)]\n",
    "    index_b = set(random.sample(indices, n_b))\n",
    "    index_a = set(indices) - index_b\n",
    "    mean_a = df.loc[index_a, 'Time'].mean()\n",
    "    mean_b = df.loc[index_b, 'Time'].mean()\n",
    "    return mean_b - mean_a\n",
    "\n",
    "\n",
    "n_a = len(df.loc[df['Page'] == 'Page A'])\n",
    "n_b = len(df.loc[df['Page'] == 'Page B'])\n",
    "num_sampling = 1000\n",
    "permuted_differences = []\n",
    "\n",
    "for _ in range(num_sampling):\n",
    "    \n",
    "    difference = permute_and_compute_difference(df, n_a, n_b)\n",
    "    permuted_differences.append(difference)"
   ]
  },
  {
   "cell_type": "code",
   "execution_count": 28,
   "id": "ab647996",
   "metadata": {},
   "outputs": [
    {
     "data": {
      "image/png": "[encoded data removed]",
      "text/plain": [
       "<Figure size 640x480 with 1 Axes>"
      ]
     },
     "metadata": {},
     "output_type": "display_data"
    }
   ],
   "source": [
    "plt.hist(\n",
    "    permuted_differences, \n",
    "    bins=30,\n",
    "    label='Permuted differences'\n",
    ")\n",
    "plt.axvline(\n",
    "    observed_difference,\n",
    "    color='tab:orange',\n",
    "    linestyle='--',\n",
    "    label='Observed difference'\n",
    ")\n",
    "plt.legend()\n",
    "plt.show()"
   ]
  },
  {
   "cell_type": "code",
   "execution_count": 34,
   "id": "8c6b3915",
   "metadata": {},
   "outputs": [
    {
     "name": "stdout",
     "output_type": "stream",
     "text": [
      "0.129\n"
     ]
    }
   ],
   "source": [
    "p_value = np.mean(observed_difference < permuted_differences)\n",
    "\n",
    "print(p_value)"
   ]
  },
  {
   "cell_type": "markdown",
   "id": "7484619d",
   "metadata": {},
   "source": [
    "## p-value\n",
    "\n",
    "The probability that results as extreme as the observed results might occurr, given a null hypothesis model.\n",
    "\n",
    "Given a chance model, what is the probability of a result this extreme?\n",
    "\n",
    "The proportion of times that the permutation test produces a difference equal to or greater than the observed difference.\n",
    "\n",
    "The wrong interpretation of p-value is the probability that the result is due to chance.\n",
    "\n",
    "## Type 1 error\n",
    "\n",
    "Mistakenly concluding an effect is real when it is due to chance. \n",
    "\n",
    "False positive\n",
    "\n",
    "We typically try to minimize Type 1 error because we don't wanna be fooled by random chance.\n",
    "\n",
    "As we run multiple testing, it increases the probability of making a type 1 error. This is called **alpha inflation**.\n",
    "\n",
    "When $\\alpha$ is the probability that falsely test is significant, $(1 - \\alpha)$ is the probability that correctly test is not significant. When we run $n$ tests and all are correctly tested as non-significant, the probability is $(1 - \\alpha)^n$. So the probability that at least one test will falsely test significant is $1 - (1 - \\alpha)^n$. When $\\alpha = 0.05$ and $n = 20$, \n",
    "\n",
    "$$\n",
    "1 - (1 - 0.05)^{20}\n",
    "$$\n",
    "$$\n",
    "= 1 - 0.95^{20}\n",
    "$$\n",
    "$$\n",
    "= 1 - 0.36\n",
    "$$\n",
    "$$\n",
    "= 0.64\n",
    "$$\n",
    "\n",
    "So the probability of making at least one type 1 error in multiple testing is high.\n",
    "\n",
    "## Bonferroni adjustment\n",
    "\n",
    "Divide alpha by the number of multiple test, $\\frac{\\alpha}{n}$.\n",
    "\n",
    "## Tukey's HSD\n",
    "\n",
    "Tukey's honest significant difference is another approach for multiple tests\n",
    "\n",
    "## Type 2 error\n",
    "\n",
    "Mistakenly concluding an effect is due to chance when it is real. This could happen becuase the sample size is too small to detect the effect. In such case, it could be that a larger sample would yield a smaller p-value.\n",
    "\n",
    "False negative\n",
    "\n",
    "## Multiple testing\n",
    "\n",
    "- Boferroni\n",
    "- F test\n",
    "- Multi-arm bandit\n",
    "\n",
    "## Compute sample size\n",
    "\n",
    "- Effect size\n",
    "- Power, probability of detecting the effect size\n",
    "- Significance level alpha\n",
    "\n",
    "## Churn rate\n",
    "\n",
    "The rate at which customers stop doing business with a company,  or stop subscribing to a service.\n",
    "\n",
    "## Reference\n",
    "\n",
    "- O'REILLY Practical Statistics for Data Scientist, 50+ Essential Concepts Using R and Python\n",
    "- [How to A/B Test Your Pricing (And Why It Might Be a Bad Idea)](https://blog.hubspot.com/marketing/price-testing)\n",
    "- [Common Mistakes During A/B Testing](https://towardsdatascience.com/common-mistakes-during-a-b-testing-bdb9eefdc7f0)"
   ]
  }
 ],
 "metadata": {
  "kernelspec": {
   "display_name": "env-machine-learning",
   "language": "python",
   "name": "env-machine-learning"
  },
  "language_info": {
   "codemirror_mode": {
    "name": "ipython",
    "version": 3
   },
   "file_extension": ".py",
   "mimetype": "text/x-python",
   "name": "python",
   "nbconvert_exporter": "python",
   "pygments_lexer": "ipython3",
   "version": "3.9.5"
  }
 },
 "nbformat": 4,
 "nbformat_minor": 5
}
