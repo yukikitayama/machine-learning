{
 "cells": [
  {
   "cell_type": "markdown",
   "id": "60a496ff",
   "metadata": {},
   "source": [
    "# Z and t Tests\n",
    "\n",
    "What are the Z and t tests? What are they used for? What is the difference between them? When should you use one over the other?\n",
    "\n",
    "Both are hypothesis test that are used to determine if the mean obtained from the sample is different from a certain value or more or less than the value. Both Z and t tests assume that the samples follow a normal distribution, have the null and alternative hypothesis, and use the same test statistic below. $s$ is the standard deviation. $n$ is the sample size.\n",
    "\n",
    "$$\n",
    "\\frac{\\hat{\\mu} - \\mu_0}{\\frac{s}{\\sqrt{n}}}\n",
    "$$\n",
    "\n",
    "The only difference is that the Z and t tests use the different probability distribution function to compute the p-value. The Z test uses the probability distribution function of the **standard normal distribution**. The t test uses the probability distribution function of **t-distribution**. The t-distribution has the **degrees of freedom**. As it gets large, the t-distribution starts to resemble the standard normal distribution.\n",
    "\n",
    "The t-distribution has the fatter tails. Because of this, it's harder to reject the null hypothesis in a t-test when the sample size is small. So when the sample size is small, the t-test is more appropriate than Z test."
   ]
  }
 ],
 "metadata": {
  "kernelspec": {
   "display_name": "env-machine-learning",
   "language": "python",
   "name": "env-machine-learning"
  },
  "language_info": {
   "codemirror_mode": {
    "name": "ipython",
    "version": 3
   },
   "file_extension": ".py",
   "mimetype": "text/x-python",
   "name": "python",
   "nbconvert_exporter": "python",
   "pygments_lexer": "ipython3",
   "version": "3.9.5"
  }
 },
 "nbformat": 4,
 "nbformat_minor": 5
}
