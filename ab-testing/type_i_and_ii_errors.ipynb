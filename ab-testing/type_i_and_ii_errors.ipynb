{
 "cells": [
  {
   "cell_type": "markdown",
   "id": "903c4b3c",
   "metadata": {},
   "source": [
    "# Type I and II Errors\n",
    "\n",
    "In the context of hypothesis testing, what are type I errors and type II errors? What is the difference between the two?\n",
    "\n",
    "Type I error is that you reject the null hypothesis when the null hypothesis is true. For example, we wanna test a drug has effect on a patient. Null hypothesis is it has no effect, and the alternative hypothesis is it has effect. Type I error is to conclude that drug works. It's false positive rate.\n",
    "\n",
    "Type II error is that you fail to reject the null hypothesis when the null hypothesis is false. For example, in the new drug effect on a patient situation, Type II error is to conclude that the drug has no effect, but it actually has effect. It's false negative rate.\n",
    "\n",
    "## Resource\n",
    "\n",
    "- [Type I & Type II Errors | Differences, Examples, Visualizations](https://www.scribbr.com/statistics/type-i-and-type-ii-errors/)"
   ]
  }
 ],
 "metadata": {
  "kernelspec": {
   "display_name": "env-machine-learning",
   "language": "python",
   "name": "env-machine-learning"
  },
  "language_info": {
   "codemirror_mode": {
    "name": "ipython",
    "version": 3
   },
   "file_extension": ".py",
   "mimetype": "text/x-python",
   "name": "python",
   "nbconvert_exporter": "python",
   "pygments_lexer": "ipython3",
   "version": "3.9.5"
  }
 },
 "nbformat": 4,
 "nbformat_minor": 5
}
