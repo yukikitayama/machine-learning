{
 "cells": [
  {
   "cell_type": "markdown",
   "metadata": {},
   "source": [
    "## Task"
   ]
  },
  {
   "cell_type": "markdown",
   "metadata": {},
   "source": [
    "I wanna draw a smaller bounding box."
   ]
  },
  {
   "cell_type": "markdown",
   "metadata": {},
   "source": [
    "## Setup"
   ]
  },
  {
   "cell_type": "code",
   "execution_count": 1,
   "metadata": {},
   "outputs": [],
   "source": [
    "import numpy as np\n",
    "import matplotlib.pyplot as plt\n",
    "\n",
    "import torch\n",
    "from torch import optim\n",
    "from torch import nn\n",
    "import torch.nn.functional as F\n",
    "from torchvision import datasets\n",
    "import torchvision.transforms as transforms\n",
    "\n",
    "import cv2"
   ]
  },
  {
   "cell_type": "code",
   "execution_count": 2,
   "metadata": {},
   "outputs": [
    {
     "data": {
      "text/plain": [
       "<torch._C.Generator at 0x21f51285c70>"
      ]
     },
     "execution_count": 2,
     "metadata": {},
     "output_type": "execute_result"
    }
   ],
   "source": [
    "SEED = 1\n",
    "np.random.seed(SEED)\n",
    "torch.manual_seed(SEED)"
   ]
  },
  {
   "cell_type": "markdown",
   "metadata": {},
   "source": [
    "## Data (from MNIST digits)"
   ]
  },
  {
   "cell_type": "code",
   "execution_count": 3,
   "metadata": {},
   "outputs": [],
   "source": [
    "transform = transforms.ToTensor()\n",
    "\n",
    "train_data = datasets.MNIST(root = 'data', train = True, download = True, transform = transform)\n",
    "test_data = datasets.MNIST(root = 'data', train = False, download = True, transform = transform)"
   ]
  },
  {
   "cell_type": "code",
   "execution_count": 4,
   "metadata": {},
   "outputs": [],
   "source": [
    "num_workers = 0\n",
    "batch_size = 16\n",
    "\n",
    "train_loader = torch.utils.data.DataLoader(train_data, batch_size = batch_size, num_workers = num_workers, shuffle = True)\n",
    "test_loader = torch.utils.data.DataLoader(test_data, batch_size = batch_size, num_workers = num_workers, shuffle = False)"
   ]
  },
  {
   "cell_type": "code",
   "execution_count": 5,
   "metadata": {},
   "outputs": [
    {
     "name": "stdout",
     "output_type": "stream",
     "text": [
      "torch.Size([60000, 28, 28])\n"
     ]
    }
   ],
   "source": [
    "print(train_loader.dataset.data.shape)"
   ]
  },
  {
   "cell_type": "markdown",
   "metadata": {},
   "source": [
    "## Model specification"
   ]
  },
  {
   "cell_type": "code",
   "execution_count": 6,
   "metadata": {},
   "outputs": [],
   "source": [
    "# class Model(nn.Module):\n",
    "#     def __init__(self):\n",
    "#         super(Model, self).__init__()\n",
    "#         self.conv1 = nn.Conv2d(1, 32, 5)\n",
    "#         self.conv2 = nn.Conv2d(32, 32, 3)\n",
    "#         self.conv3 = nn.Conv2d(32, 800, 5)\n",
    "#         self.conv4 = nn.Conv2d(800, 800, 1)\n",
    "#         self.conv5 = nn.Conv2d(800, 10, 1)\n",
    "#         self.pool = nn.MaxPool2d((2,2))\n",
    "#     def forward(self, x):\n",
    "        \n",
    "#         # (1, 28, 28) to (32, 24, 24)\n",
    "#         x = F.relu(self.conv1(x))\n",
    "#         # 24 = ((I - K + 2P)/S + 1) = ((28 - 5 + 2*0)/1 + 1), I = input size, K = kernel size, P = zero padding size, S = stride\n",
    "        \n",
    "#         # (32, 24, 24) to (32, 12, 12)\n",
    "#         x = self.pool(x)\n",
    "        \n",
    "#         # (32, 12, 12) to (32, 10, 10)\n",
    "#         x = F.relu(self.conv2(x))\n",
    "#         # ((12 - 3 + 2 * 0)/1 + 1) = 10\n",
    "        \n",
    "#         # (32, 10, 10) to (32, 5, 5)\n",
    "#         x = self.pool(x)\n",
    "        \n",
    "#         # (32, 5, 5) to (800, 1, 1)\n",
    "#         x = F.relu(self.conv3(x))\n",
    "#         # ((5 - 5 + 2 * 0)/1 + 1) = 1\n",
    "        \n",
    "#         # (800, 1, 1) to (800, 1, 1)\n",
    "#         x = F.relu(self.conv4(x))\n",
    "#         # ((1 - 1 + 2 * 0)/1 + 1) = 1 \n",
    "        \n",
    "#         # (800, 1, 1) to (10, 1, 1)\n",
    "#         x = self.conv5(x)\n",
    "#         # ((1 - 1 + 2 * 0)/1 + 1) = 1\n",
    "        \n",
    "#         return x"
   ]
  },
  {
   "cell_type": "code",
   "execution_count": 7,
   "metadata": {},
   "outputs": [],
   "source": [
    "# class Model(nn.Module):\n",
    "    \n",
    "#     def __init__(self):\n",
    "#         super(Model, self).__init__()\n",
    "#         self.relu = nn.ReLU(inplace = True)\n",
    "#         self.conv1 = nn.Conv2d(1, 32, 3) # in_channels, out_channels, kernel_size\n",
    "#         self.conv2 = nn.Conv2d(32, 64, 2)\n",
    "#         self.conv3 = nn.Conv2d(64, 64, 3)\n",
    "#         self.maxpool = nn.MaxPool2d((2, 2))\n",
    "#         self.drop = nn.Dropout(p = 0.5)\n",
    "#         self.fc1 = nn.Linear(1024, 64)\n",
    "#         self.fc2 = nn.Linear(64, 128)\n",
    "#         self.fc3 = nn.Linear(128, 10)\n",
    "        \n",
    "#     def forward(self, x):\n",
    "#         x = self.relu(self.conv1(x))\n",
    "#         x = self.maxpool(x)\n",
    "#         x = self.relu(self.conv2(x))\n",
    "#         x = self.maxpool(x)\n",
    "#         x = self.relu(self.conv3(x))\n",
    "#         # the below is flatten\n",
    "#         x = x.view(x.size(0), -1)\n",
    "#         x = self.relu(self.fc1(x))\n",
    "#         x = self.drop(x)\n",
    "#         x = self.relu(self.fc2(x))\n",
    "#         x = self.drop(x)\n",
    "#         x = self.fc3(x)\n",
    "        \n",
    "#         return x    "
   ]
  },
  {
   "cell_type": "code",
   "execution_count": 8,
   "metadata": {},
   "outputs": [],
   "source": [
    "# class Model(nn.Module):\n",
    "#     def __init__(self):\n",
    "#         super(Model, self).__init__()    \n",
    "        \n",
    "#         self.relu = nn.ReLU()\n",
    "    \n",
    "#         # input channels = 1, output channels = 32\n",
    "#         self.conv1 = nn.Conv2d(in_channels = 1, out_channels = 32, kernel_size = 3)\n",
    "#         self.conv2 = nn.Conv2d(in_channels = 32, out_channels = 32, kernel_size = 1)\n",
    "#         self.conv3 = nn.Conv2d(in_channels = 32, out_channels = 10, kernel_size = 1)\n",
    "#         self.maxpool = nn.MaxPool2d(kernel_size = 2)\n",
    "# #         self.maxpool = nn.MaxPool2d((2,2))\n",
    "        \n",
    "#     def forward(self, x):\n",
    "        \n",
    "#         # size changes from (1, 28, 28) to (32, 26, 26) \n",
    "#         x = self.relu(self.conv1(x))\n",
    "#         # ((28 - 3 + 2 * 0)/1 + 1) = 26\n",
    "        \n",
    "#         # size changes from (32, 26, 26) to (32, 13, 13)\n",
    "#         x = self.maxpool(x)\n",
    "        \n",
    "#         # (32, 13, 13) to (32, 13, 13)\n",
    "#         x = self.relu(self.conv2(x))\n",
    "#         # ((13 - 1 + 2 * 0)/1 + 1) = 13\n",
    "        \n",
    "#         # size changes from (32, 13, 13) to (32, 13, 13)\n",
    "#         x = self.conv3(x)\n",
    "#         # ((13 - 1 + 2 * 0)/1 + 1) = 13\n",
    "        \n",
    "#         return x"
   ]
  },
  {
   "cell_type": "code",
   "execution_count": 25,
   "metadata": {},
   "outputs": [],
   "source": [
    "class Model(nn.Module):\n",
    "    def __init__(self):\n",
    "        super(Model, self).__init__()    \n",
    "        \n",
    "        self.relu = nn.ReLU()\n",
    "    \n",
    "        # input channels = 1, output channels = 32\n",
    "        self.conv1 = nn.Conv2d(in_channels = 1, out_channels = 32, kernel_size = 27)\n",
    "        self.conv2 = nn.Conv2d(in_channels = 32, out_channels = 32, kernel_size = 1)\n",
    "        self.conv3 = nn.Conv2d(in_channels = 32, out_channels = 10, kernel_size = 1)\n",
    "#         self.maxpool = nn.MaxPool2d(kernel_size = 2)\n",
    "        self.maxpool = nn.MaxPool2d((2,2))\n",
    "        \n",
    "    def forward(self, x):\n",
    "        \n",
    "        # size changes from (1, 28, 28) to (32, 2, 2) \n",
    "        x = self.relu(self.conv1(x))\n",
    "        # ((28 - 27 + 2 * 0)/1 + 1) = 2\n",
    "        \n",
    "        # size changes from (32, 2, 2) to (32, 1, 1)\n",
    "        x = self.maxpool(x)\n",
    "        \n",
    "        # (32, 1, 1) to (32, 1, 1)\n",
    "        x = self.relu(self.conv2(x))\n",
    "        # ((1 - 1 + 2 * 0)/1 + 1) = 1\n",
    "        \n",
    "        # size changes from (32, 1, 1) to (10, 1, 1)\n",
    "        x = self.conv3(x)\n",
    "        # ((1 - 1 + 2 * 0)/1 + 1) = 1\n",
    "        \n",
    "        return x"
   ]
  },
  {
   "cell_type": "markdown",
   "metadata": {},
   "source": [
    "## Train model"
   ]
  },
  {
   "cell_type": "code",
   "execution_count": 26,
   "metadata": {},
   "outputs": [],
   "source": [
    "model = Model()"
   ]
  },
  {
   "cell_type": "code",
   "execution_count": 27,
   "metadata": {},
   "outputs": [],
   "source": [
    "def train_model(model, train_loader, test_loader, n_epochs):\n",
    "    \"\"\"helper function to train the model\n",
    "        inputs: model --> our model\n",
    "                train_loader --> the train images loader\n",
    "                test_loader --> the test images loader\n",
    "                n_epchs --> number of iterations                \n",
    "    \"\"\"\n",
    "    # specify loss function (categorical cross-entropy)\n",
    "    criterion = nn.CrossEntropyLoss()\n",
    "    # specify optimizer\n",
    "    optimizer = optim.Adam(model.parameters(), lr=0.001)\n",
    "    min_test_accuracy = 0\n",
    "    for epoch in range(1, n_epochs+1):\n",
    "\n",
    "        # keep track of training and validation loss\n",
    "        train_loss = 0.0\n",
    "        train_accuracy = 0\n",
    "        test_accuracy = 0\n",
    "        ###################\n",
    "        # train the model #\n",
    "        ###################\n",
    "        model.train()\n",
    "        for images, labels in train_loader:\n",
    "            \n",
    "            # move tensors to GPU if CUDA is available\n",
    "#             if use_cuda:\n",
    "#                 images = images.cuda()\n",
    "#                 labels = labels.cuda()\n",
    "\n",
    "            # clear the gradients of all optimized variables\n",
    "            optimizer.zero_grad()\n",
    "        \n",
    "            # forward pass: compute predicted outputs by passing inputs to the model\n",
    "            logits = model(images).squeeze()\n",
    "            _, outs_k = logits.topk(1, dim=1)\n",
    "            equals = (outs_k == labels.view(*outs_k.shape))\n",
    "            train_accuracy += torch.mean(equals.type(torch.FloatTensor)).item()\n",
    "            \n",
    "            # calculate the batch loss\n",
    "            loss = criterion(logits, labels)\n",
    "            # backward pass: compute gradient of the loss with respect to model parameters\n",
    "            loss.backward()\n",
    "            # perform a single optimization step (parameter update)\n",
    "            optimizer.step()\n",
    "            # update training loss\n",
    "            train_loss += loss.item()\n",
    "\n",
    "\n",
    "        train_loss = train_loss/len(train_loader)\n",
    "        train_accuracy /= len(train_loader)\n",
    "        ######################\n",
    "        # validate the model #\n",
    "        ######################\n",
    "        model.eval()\n",
    "        for images, labels in test_loader:\n",
    "#             if use_cuda:\n",
    "#                 images = images.cuda()\n",
    "#                 labels = labels.cuda()\n",
    "            logits = model(images).squeeze()\n",
    "            _, outs_k = logits.topk(1, dim=1)\n",
    "            equals = (outs_k == labels.view(*outs_k.shape))\n",
    "            test_accuracy += torch.mean(equals.type(torch.FloatTensor)).item()\n",
    "        \n",
    "        test_accuracy /= len(test_loader)\n",
    "        print(\"\"\"Epoch: {} \\tTraining Loss: {:.6f} \n",
    "        \\tTrain accuracy: {:.6f} \\Test accuracy: {:.6f}\"\"\".format(\n",
    "            epoch, train_loss,  train_accuracy, test_accuracy))\n",
    "    \n",
    "        # save model if validation accuracy has increased\n",
    "        if test_accuracy >= min_test_accuracy:    \n",
    "            torch.save(model.state_dict(), 'model.pt')\n",
    "            min_test_accuracy = test_accuracy"
   ]
  },
  {
   "cell_type": "code",
   "execution_count": 28,
   "metadata": {},
   "outputs": [],
   "source": [
    "# model = Model()\n",
    "# criterion = nn.CrossEntropyLoss()\n",
    "# optimizer = optim.Adam(model.parameters(), lr = 3e-4)\n",
    "\n",
    "# for epoch in range(1):\n",
    "    \n",
    "#     # training\n",
    "#     for i, data in enumerate(train_loader, 0):\n",
    "        \n",
    "#         # get the inputs\n",
    "#         inputs, labels = data\n",
    "        \n",
    "#         # zero parameter gradient\n",
    "#         optimizer.zero_grad()\n",
    "        \n",
    "#         # Forward + backward + optimze\n",
    "#         outputs = model(inputs).squeeze()\n",
    "#         loss = criterion(outputs, labels)\n",
    "#         loss.backward()\n",
    "#         optimizer.step()\n",
    "\n",
    "# #     # validation\n",
    "# #     model.eval()\n",
    "# #     for i, data in enumerate(test_loader, 0):\n",
    "        \n",
    "# #         # get the inputs\n",
    "# #         inputs, labels = datas\n",
    "\n",
    "# print('Finished Training')"
   ]
  },
  {
   "cell_type": "code",
   "execution_count": 29,
   "metadata": {},
   "outputs": [
    {
     "name": "stdout",
     "output_type": "stream",
     "text": [
      "Epoch: 1 \tTraining Loss: 0.315954 \n",
      "        \tTrain accuracy: 0.906867 \\Test accuracy: 0.951400\n",
      "Epoch: 2 \tTraining Loss: 0.146771 \n",
      "        \tTrain accuracy: 0.956067 \\Test accuracy: 0.961200\n"
     ]
    }
   ],
   "source": [
    "train_model(model, train_loader, test_loader, 2)"
   ]
  },
  {
   "cell_type": "code",
   "execution_count": 30,
   "metadata": {},
   "outputs": [
    {
     "data": {
      "text/plain": [
       "Model(\n",
       "  (relu): ReLU()\n",
       "  (conv1): Conv2d(1, 32, kernel_size=(27, 27), stride=(1, 1))\n",
       "  (conv2): Conv2d(32, 32, kernel_size=(1, 1), stride=(1, 1))\n",
       "  (conv3): Conv2d(32, 10, kernel_size=(1, 1), stride=(1, 1))\n",
       "  (maxpool): MaxPool2d(kernel_size=(2, 2), stride=(2, 2), padding=0, dilation=1, ceil_mode=False)\n",
       ")"
      ]
     },
     "execution_count": 30,
     "metadata": {},
     "output_type": "execute_result"
    }
   ],
   "source": [
    "model.eval()"
   ]
  },
  {
   "cell_type": "markdown",
   "metadata": {},
   "source": [
    "## Check predictions"
   ]
  },
  {
   "cell_type": "code",
   "execution_count": 31,
   "metadata": {},
   "outputs": [],
   "source": [
    "# # load first batch\n",
    "# test_iterator = iter(test_loader)\n",
    "# images, labels = test_iterator.next()\n",
    "# # send it to gpu if available\n",
    "# # if use_cuda:\n",
    "# #     images = images.cuda()\n",
    "# #     labels = labels.cuda()\n",
    "# # get predictions\n",
    "# predictions = F.softmax(model(images), dim=1).squeeze()\n",
    "# probs , outs = predictions.topk(1, dim=1)\n",
    "\n",
    "# # get random images from bacth\n",
    "# random_idx = np.random.randint(batch_size)\n",
    "# # if use_cuda:\n",
    "# #     image1 = images[random_idx].cpu().detach().numpy().squeeze()\n",
    "# #     image2 = images[(random_idx+1)%batch_size].cpu().detach().numpy().squeeze()\n",
    "# # else : \n",
    "# #     image1 = images[random_idx].numpy().squeeze()\n",
    "# #     image2 = images[(random_idx+1)%batch_size].numpy().squeeze()    \n",
    "# image1 = images[random_idx].numpy().squeeze()\n",
    "# image2 = images[(random_idx+1)%batch_size].numpy().squeeze()    \n",
    "\n",
    "# prob1 = probs[random_idx, 0]. item()\n",
    "# out1 = outs[random_idx, 0]. item()\n",
    "# prob2 = probs[(random_idx+1)%batch_size, 0]. item()\n",
    "# out2 = outs[(random_idx+1)%batch_size, 0]. item()\n",
    "\n",
    "# # visualise results\n",
    "# fig, axs = plt.subplots(1, 2)\n",
    "# axs[0].imshow(image1)\n",
    "# axs[0].set_title('{}({:.2f})'.format(out1,prob1))\n",
    "# axs[1].imshow(image2)\n",
    "# axs[1].set_title('{}({:.2f})'.format(out2,prob2))"
   ]
  },
  {
   "cell_type": "code",
   "execution_count": 32,
   "metadata": {},
   "outputs": [
    {
     "data": {
      "image/png": "[encoded data removed]",
      "text/plain": [
       "<Figure size 1080x720 with 3 Axes>"
      ]
     },
     "metadata": {
      "needs_background": "light"
     },
     "output_type": "display_data"
    }
   ],
   "source": [
    "# obtain test data\n",
    "test_iterator = iter(test_loader)\n",
    "images, labels = test_iterator.next()\n",
    "\n",
    "# check data\n",
    "# print(F.softmax(model(images), dim = 1)[0])\n",
    "# print(torch.round(F.softmax(model(images), dim = 1)[0]))\n",
    "\n",
    "# predict probability of each labels\n",
    "predictions = F.softmax(model(images), dim = 1).squeeze()\n",
    "# torch.squeeze() removes dimension 1\n",
    "\n",
    "# get the highest probability and its label since k = 1 (batch size 16)\n",
    "probs, outs = predictions.topk(1, dim = 1)\n",
    "# https://pytorch.org/docs/stable/torch.html#torch.topk\n",
    "\n",
    "# randomly check the prediction results\n",
    "index = np.random.randint(batch_size)\n",
    "# since batch_size 16 is argument, random integers from 0 to 15\n",
    "\n",
    "# to use plt imshow, make it numpy array\n",
    "image1 = images[index].numpy().squeeze()\n",
    "image2 = images[(index + 1) % batch_size].numpy().squeeze()\n",
    "image3 = images[(index + 2) % batch_size].numpy().squeeze()\n",
    "\n",
    "# prefiction confidence\n",
    "# second argument 0 specification makes values, and torch.item() make it Python number\n",
    "probs1 = probs[index, 0].item()\n",
    "probs2 = probs[(index + 1) % batch_size].item()\n",
    "probs3 = probs[(index + 2) % batch_size].item()\n",
    "\n",
    "# predicted label\n",
    "out1 = outs[index, 0].item()\n",
    "out2 = outs[(index + 1) % batch_size].item()\n",
    "out3 = outs[(index + 2) % batch_size].item()\n",
    "\n",
    "# visualize\n",
    "fig, axs = plt.subplots(nrows = 1, ncols = 3, figsize = (15, 10))\n",
    "axs[0].imshow(image1)\n",
    "axs[0].set_title('Pred label {} (Prob {:.2f})'.format(out1, probs1))\n",
    "axs[1].imshow(image2)\n",
    "axs[1].set_title('Pred label {} (Prob {:.2f})'.format(out2, probs2))\n",
    "axs[2].imshow(image3)\n",
    "axs[2].set_title('Pred label {} (Prob {:.2f})'.format(out3, probs3))\n",
    "\n",
    "plt.show()"
   ]
  },
  {
   "cell_type": "markdown",
   "metadata": {},
   "source": [
    "## Digit location detection"
   ]
  },
  {
   "cell_type": "markdown",
   "metadata": {},
   "source": [
    "To detect where the digits are, we make bigger size image, some part of which has digits."
   ]
  },
  {
   "cell_type": "code",
   "execution_count": 33,
   "metadata": {},
   "outputs": [],
   "source": [
    "# first_tensor = images[random_idx]\n",
    "# second_tensor = images[(random_idx+1)%batch_size]\n",
    "# third_tensor = images[(random_idx+2)%batch_size]\n",
    "\n",
    "# black_tensor = torch.zeros_like(first_tensor)\n",
    "\n",
    "# # torch.cat 2 and 1 are dimensions over which tensors are concatenated\n",
    "# tmp_0 = torch.cat((black_tensor, black_tensor, black_tensor, black_tensor,\n",
    "#                    black_tensor, black_tensor, black_tensor, third_tensor), 2)\n",
    "# tmp_1 = torch.cat((black_tensor, black_tensor, black_tensor, black_tensor,\n",
    "#                    black_tensor, black_tensor, black_tensor, black_tensor), 2)\n",
    "# tmp_2 = torch.cat((black_tensor, black_tensor, black_tensor, black_tensor,\n",
    "#                    black_tensor, black_tensor, black_tensor, black_tensor), 2)\n",
    "\n",
    "# tmp_3 = torch.cat((black_tensor, black_tensor,first_tensor, second_tensor,\n",
    "#                    black_tensor, black_tensor, black_tensor, black_tensor), 2)\n",
    "# tmp_4 = torch.cat((black_tensor, black_tensor, black_tensor, black_tensor,\n",
    "#                    black_tensor, black_tensor, black_tensor, black_tensor), 2)\n",
    "\n",
    "# test_image = torch.cat((tmp_0, tmp_1, tmp_2, tmp_3, tmp_4), 1)\n",
    "\n",
    "# # if use_cuda:\n",
    "# #     test_image_numpy = test_image.cpu().numpy().squeeze()\n",
    "# # else : \n",
    "# #     test_image_numpy = test_image.numpy().squeeze()\n",
    "# test_image_numpy = test_image.numpy().squeeze()\n",
    "    \n",
    "# plt.imshow(test_image_numpy)"
   ]
  },
  {
   "cell_type": "markdown",
   "metadata": {},
   "source": [
    "If each digit image has 0 values, those area become black background. So if we make all zero image, it become an image looking like having no digit images."
   ]
  },
  {
   "cell_type": "code",
   "execution_count": 34,
   "metadata": {},
   "outputs": [
    {
     "data": {
      "image/png": "[encoded data removed]",
      "text/plain": [
       "<Figure size 576x576 with 1 Axes>"
      ]
     },
     "metadata": {
      "needs_background": "light"
     },
     "output_type": "display_data"
    }
   ],
   "source": [
    "digit_1 = images[index]\n",
    "digit_2 = images[(index + 1) % batch_size]\n",
    "digit_3 = images[(index + 2) % batch_size]\n",
    "\n",
    "no_digit = torch.zeros_like(digit_1)\n",
    "\n",
    "# torch.cat combines tensors, dim is concatenate dimensions\n",
    "row_1 = torch.cat((no_digit, no_digit, no_digit, no_digit, digit_1 ), dim = 2)\n",
    "row_2 = torch.cat((no_digit, no_digit, no_digit, no_digit, no_digit), dim = 2)\n",
    "row_3 = torch.cat((no_digit, digit_2,  no_digit, no_digit, no_digit), dim = 2)\n",
    "row_4 = torch.cat((no_digit, no_digit, no_digit, digit_3,  no_digit), dim = 2)\n",
    "row_5 = torch.cat((no_digit, no_digit, no_digit, no_digit, no_digit), dim = 2)\n",
    "\n",
    "bigger_image = torch.cat((row_1, row_2, row_3, row_4, row_5), dim = 1)\n",
    "\n",
    "# to use plt imshow, make it numpy array\n",
    "bigger_image_numpy = bigger_image.numpy().squeeze()\n",
    "\n",
    "plt.figure(figsize = (8, 8))\n",
    "plt.imshow(bigger_image_numpy)\n",
    "plt.show()"
   ]
  },
  {
   "cell_type": "code",
   "execution_count": 35,
   "metadata": {},
   "outputs": [],
   "source": [
    "# # Now test_image is bigger and contains several digits\n",
    "\n",
    "# # get predicted labels and score\n",
    "# prediction = F.softmax(model(test_image.unsqueeze(dim=0)))\n",
    "# values, indices = prediction.squeeze().max(0)\n",
    "# # get the shape\n",
    "# values.shape, indices.shape"
   ]
  },
  {
   "cell_type": "code",
   "execution_count": 36,
   "metadata": {},
   "outputs": [
    {
     "name": "stderr",
     "output_type": "stream",
     "text": [
      "C:\\Users\\yukic\\Anaconda3\\lib\\site-packages\\ipykernel_launcher.py:2: UserWarning: Implicit dimension choice for softmax has been deprecated. Change the call to include dim=X as an argument.\n",
      "  \n"
     ]
    },
    {
     "name": "stdout",
     "output_type": "stream",
     "text": [
      "torch.Size([57, 57]) torch.Size([57, 57])\n",
      "tensor([0.1689, 0.1689, 0.1689, 0.1689, 0.1689, 0.1689, 0.1689, 0.1689, 0.1689,\n",
      "        0.1689, 0.1689, 0.1689, 0.1689, 0.1689, 0.1689, 0.1689, 0.1689, 0.1689,\n",
      "        0.1689, 0.1689, 0.1689, 0.1689, 0.1689, 0.1689, 0.1689, 0.1689, 0.1689,\n",
      "        0.1689, 0.1689, 0.1689, 0.1689, 0.1689, 0.1689, 0.1689, 0.1689, 0.1689,\n",
      "        0.1689, 0.1689, 0.1689, 0.1689, 0.1689, 0.1689, 0.1689, 0.1689, 0.1689,\n",
      "        0.1689, 0.3827, 0.8893, 0.8318, 0.6050, 0.8405, 0.7115, 0.7262, 0.9640,\n",
      "        0.4360, 0.9998, 0.9958], grad_fn=<SelectBackward>)\n",
      "tensor([5, 5, 5, 5, 5, 5, 5, 5, 5, 5, 5, 5, 5, 5, 5, 5, 5, 5, 5, 5, 5, 5, 5, 5,\n",
      "        5, 5, 5, 5, 5, 5, 5, 5, 5, 5, 5, 5, 5, 5, 5, 5, 5, 5, 5, 5, 5, 5, 2, 2,\n",
      "        2, 2, 2, 2, 2, 1, 6, 6, 6])\n"
     ]
    }
   ],
   "source": [
    "# unsqueeze returns a new tensor with a dimension of size one\n",
    "predictions = F.softmax(model(bigger_image.unsqueeze(dim = 0)))\n",
    "\n",
    "# squeeze returns a tensor with all the dimensions of size 1 removed\n",
    "values, indices = predictions.squeeze().max(0)\n",
    "\n",
    "# values = probability?, indices = predicted digits?\n",
    "print(values.shape, indices.shape)\n",
    "print(values[0])\n",
    "print(indices[0])"
   ]
  },
  {
   "cell_type": "code",
   "execution_count": 37,
   "metadata": {},
   "outputs": [
    {
     "name": "stdout",
     "output_type": "stream",
     "text": [
      "[0.16887742 0.16887742 0.16887742 0.16887742 0.16887742 0.16887742\n",
      " 0.16887742 0.16887742 0.16887742 0.16887742 0.16887742 0.16887742\n",
      " 0.16887742 0.16887742 0.16887742 0.16887742 0.16887742 0.16887742\n",
      " 0.16887742 0.16887742 0.16887742 0.16887742 0.16887742 0.16887742\n",
      " 0.16887742 0.16887742 0.16887742 0.16887742 0.16887742 0.16887742\n",
      " 0.16887742 0.16887742 0.16887742 0.16887742 0.16887742 0.16887742\n",
      " 0.16887742 0.16887742 0.16887742 0.16887742 0.16887742 0.16887742\n",
      " 0.16887742 0.16887742 0.16887742 0.16887742 0.38272858 0.88931286\n",
      " 0.83183265 0.6050383  0.8405263  0.71151483 0.72624403 0.9640088\n",
      " 0.43599167 0.9997682  0.99580246]\n",
      "[5 5 5 5 5 5 5 5 5 5 5 5 5 5 5 5 5 5 5 5 5 5 5 5 5 5 5 5 5 5 5 5 5 5 5 5 5\n",
      " 5 5 5 5 5 5 5 5 5 2 2 2 2 2 2 2 1 6 6 6]\n"
     ]
    }
   ],
   "source": [
    "# tensor to numpy\n",
    "# .detach() avoids making a copy\n",
    "values = values.detach().numpy()\n",
    "indices = indices.detach().numpy()\n",
    "print(values[0])\n",
    "print(indices[0])"
   ]
  },
  {
   "cell_type": "code",
   "execution_count": 38,
   "metadata": {},
   "outputs": [
    {
     "data": {
      "text/plain": [
       "(57, 57)"
      ]
     },
     "execution_count": 38,
     "metadata": {},
     "output_type": "execute_result"
    }
   ],
   "source": [
    "values.shape"
   ]
  },
  {
   "cell_type": "code",
   "execution_count": 39,
   "metadata": {},
   "outputs": [],
   "source": [
    "# let's define our confidence level\n",
    "CONFIDENCE_LEVEL = 0.999999"
   ]
  },
  {
   "cell_type": "markdown",
   "metadata": {},
   "source": [
    "Even if some part does not contain digits, the model outputs some level of probability so outputs some digits. But we set cutoff and suppose there is not digit, if the probability is low."
   ]
  },
  {
   "cell_type": "code",
   "execution_count": 40,
   "metadata": {},
   "outputs": [
    {
     "data": {
      "image/png": "[encoded data removed]",
      "text/plain": [
       "<Figure size 576x576 with 2 Axes>"
      ]
     },
     "metadata": {
      "needs_background": "light"
     },
     "output_type": "display_data"
    }
   ],
   "source": [
    "plt.figure(figsize = (8, 8))\n",
    "\n",
    "# show probability of each pixel\n",
    "plt.imshow(values)\n",
    "\n",
    "# show color level of probability\n",
    "plt.colorbar()\n",
    "\n",
    "# put predicted digits in each pixel in grid way\n",
    "height, width = indices.shape\n",
    "\n",
    "for y in range(height):\n",
    "    for x in range(width):\n",
    "        digit = indices[y, x]\n",
    "        \n",
    "        # show predicted digits by plt.annotate\n",
    "        plt.annotate(str(digit), \n",
    "                     xy = (x, y),\n",
    "                     horizontalalignment = 'center',\n",
    "                     verticalalignment = 'center',\n",
    "                     size = 9,\n",
    "                     # if probability is high, the color is light, so to see digit, text be black\n",
    "                     color = 'white' if values[y][x] < CONFIDENCE_LEVEL else 'black')\n",
    "        \n",
    "plt.show()"
   ]
  },
  {
   "cell_type": "code",
   "execution_count": 29,
   "metadata": {},
   "outputs": [],
   "source": [
    "# plt.imshow(values)\n",
    "# plt.colorbar()\n",
    "# height, width = indices.shape\n",
    "# for y in range(height):\n",
    "#         for x in range(width):\n",
    "#             val = indices[y, x]\n",
    "#             plt.annotate(str(val), xy=(x,y),\n",
    "#                     horizontalalignment='center',\n",
    "#                     verticalalignment='center', size=8,\n",
    "#                     color='white' if values[y][x]<CONFIDENCE_LEVEL else 'black')"
   ]
  },
  {
   "cell_type": "code",
   "execution_count": 28,
   "metadata": {},
   "outputs": [],
   "source": [
    "# def extract_boxes(image, step, sub_size_x=28, sub_size_y=28):\n",
    "#     height, width = image.shape[0], image.shape[1]\n",
    "#     nb_slides_x = (width-sub_size_x)//step + 1\n",
    "#     nb_slides_y = (height-sub_size_y)//step + 1\n",
    "#     location_boxes = []\n",
    "#     for y in range(nb_slides_y):\n",
    "#         for x in range(nb_slides_x):\n",
    "#             location_boxes.append([y*step, x*step, sub_size_y, sub_size_x])\n",
    "#     return np.array(location_boxes)"
   ]
  },
  {
   "cell_type": "code",
   "execution_count": 40,
   "metadata": {},
   "outputs": [],
   "source": [
    "# print(bigger_image_numpy.shape[1] - 28)\n",
    "# print((bigger_image_numpy.shape[1] - 28) // 4)\n",
    "# print(112 / 4)\n",
    "# print(113 / 4)\n",
    "# print(113 // 4)\n",
    "# s = 4\n",
    "# print((bigger_image_numpy.shape[1] - 28) // s)\n",
    "# s = 5\n",
    "# print((bigger_image_numpy.shape[1] - 28) // s)\n",
    "# s = 6\n",
    "# print((bigger_image_numpy.shape[1] - 28) // s)"
   ]
  },
  {
   "cell_type": "code",
   "execution_count": 76,
   "metadata": {},
   "outputs": [],
   "source": [
    "def box(image, step, sub_size_x = 28, sub_size_y = 28):\n",
    "    height = image.shape[0]\n",
    "    width = image.shape[1]\n",
    "    \n",
    "    # // (floor division) removes digits after decimanl and return integer\n",
    "    # nb_slides_x and y for what ?\n",
    "    nb_slides_x = (width - sub_size_x) // step + 1\n",
    "    nb_slides_y = (height - sub_size_y) // step + 1\n",
    "    \n",
    "    # location_boxes info for what?\n",
    "    location_boxes = []\n",
    "    \n",
    "    for y in range(nb_slides_y):\n",
    "        for x in range(nb_slides_x):\n",
    "            location_boxes.append([y * step, x * step, sub_size_y, sub_size_x])\n",
    "            \n",
    "    return np.array(location_boxes)"
   ]
  },
  {
   "cell_type": "code",
   "execution_count": 77,
   "metadata": {},
   "outputs": [],
   "source": [
    "def box2(image, box_size):\n",
    "    \n",
    "    shape_big = image.shape[0]\n",
    "    shape_small = values.shape[0]\n",
    "    slide = shape_big // shape_small + 1\n",
    "    \n",
    "    # initialize\n",
    "    location_boxes = []\n",
    "    \n",
    "    for i in range(shape_small):\n",
    "        for j in range(shape_small):\n",
    "            location_boxes.append([i * slide, j * slide, box_size, box_size])\n",
    "    \n",
    "    return np.array(location_boxes)"
   ]
  },
  {
   "cell_type": "code",
   "execution_count": 78,
   "metadata": {},
   "outputs": [
    {
     "name": "stdout",
     "output_type": "stream",
     "text": [
      "bigger image shape (140, 140)\n",
      "prediction shape (57, 57)\n",
      "4.827586206896552\n"
     ]
    }
   ],
   "source": [
    "print(\"bigger image shape\", bigger_image_numpy.shape)\n",
    "print(\"prediction shape\", values.shape)\n",
    "print(140/29)"
   ]
  },
  {
   "cell_type": "code",
   "execution_count": 79,
   "metadata": {},
   "outputs": [
    {
     "name": "stdout",
     "output_type": "stream",
     "text": [
      "[[  0   0  20  20]\n",
      " [  0   3  20  20]\n",
      " [  0   6  20  20]\n",
      " ...\n",
      " [168 162  20  20]\n",
      " [168 165  20  20]\n",
      " [168 168  20  20]]\n",
      "(3249, 4)\n",
      "[[  0   0  28  28]\n",
      " [  0   3  28  28]\n",
      " [  0   6  28  28]\n",
      " ...\n",
      " [168 162  28  28]\n",
      " [168 165  28  28]\n",
      " [168 168  28  28]]\n",
      "(3249, 4)\n",
      "[[  0   0  24  24]\n",
      " [  0   3  24  24]\n",
      " [  0   6  24  24]\n",
      " ...\n",
      " [168 162  24  24]\n",
      " [168 165  24  24]\n",
      " [168 168  24  24]]\n",
      "(3249, 4)\n"
     ]
    }
   ],
   "source": [
    "print(box2(bigger_image_numpy, box_size = 20))\n",
    "print(box2(bigger_image_numpy, box_size = 20).shape)\n",
    "print(box2(bigger_image_numpy, box_size = 28))\n",
    "print(box2(bigger_image_numpy, box_size = 28).shape)\n",
    "print(box2(bigger_image_numpy, box_size = 24))\n",
    "print(box2(bigger_image_numpy, box_size = 24).shape)"
   ]
  },
  {
   "cell_type": "markdown",
   "metadata": {},
   "source": [
    "the summation of start coordinate and end coordinate can't exceed bigger image shape 140."
   ]
  },
  {
   "cell_type": "code",
   "execution_count": 80,
   "metadata": {},
   "outputs": [
    {
     "name": "stdout",
     "output_type": "stream",
     "text": [
      "(140, 140)\n",
      "29\n"
     ]
    }
   ],
   "source": [
    "print(bigger_image_numpy.shape)\n",
    "print((bigger_image_numpy.shape[0] - 28) // 4 + 1) "
   ]
  },
  {
   "cell_type": "code",
   "execution_count": 81,
   "metadata": {},
   "outputs": [
    {
     "name": "stdout",
     "output_type": "stream",
     "text": [
      "29\n"
     ]
    }
   ],
   "source": [
    "print((bigger_image_numpy.shape[0] - 26) // 4 + 1) "
   ]
  },
  {
   "cell_type": "code",
   "execution_count": 29,
   "metadata": {},
   "outputs": [],
   "source": [
    "# location_boxes = extract_boxes(test_image_numpy, step=4)"
   ]
  },
  {
   "cell_type": "code",
   "execution_count": 82,
   "metadata": {},
   "outputs": [
    {
     "name": "stdout",
     "output_type": "stream",
     "text": [
      "(841, 4)\n",
      "[[  0   0  28  28]\n",
      " [  0   4  28  28]\n",
      " [  0   8  28  28]\n",
      " ...\n",
      " [112 104  28  28]\n",
      " [112 108  28  28]\n",
      " [112 112  28  28]]\n"
     ]
    }
   ],
   "source": [
    "location_boxes = box(bigger_image_numpy, step = 4)\n",
    "# location_boxes = box(bigger_image_numpy, step = 4, sub_size_x = 26, sub_size_y = 26)\n",
    "# location_boxes = box(bigger_image_numpy, step =4, sub_size_x = 20, sub_size_y = 20)\n",
    "# location_boxes = box2(bigger_image_numpy, box_size = 14)\n",
    "\n",
    "print(location_boxes.shape)\n",
    "print(location_boxes)"
   ]
  },
  {
   "cell_type": "markdown",
   "metadata": {},
   "source": [
    "location_boxes = box(bigger_image_numpy, step = 4, sub_size_x = 26, sub_size_y = 26) <br>\n",
    "(841, 4)\n",
    "[[  0   0  26  26]\n",
    " [  0   4  26  26]\n",
    " [  0   8  26  26]\n",
    " ...\n",
    " [112 104  26  26]\n",
    " [112 108  26  26]\n",
    " [112 112  26  26]]\n",
    "location_boxes = box(bigger_image_numpy, step = 4, sub_size_x = 20, sub_size_y = 20) <br>\n",
    "(961, 4)\n",
    "[[  0   0  20  20]\n",
    " [  0   4  20  20]\n",
    " [  0   8  20  20]\n",
    " ...\n",
    " [120 112  20  20]\n",
    " [120 116  20  20]\n",
    " [120 120  20  20]]"
   ]
  },
  {
   "cell_type": "markdown",
   "metadata": {},
   "source": [
    "<font color = red> length of values and length of location_boxes need to be matched </font>"
   ]
  },
  {
   "cell_type": "code",
   "execution_count": 83,
   "metadata": {},
   "outputs": [
    {
     "data": {
      "text/plain": [
       "841"
      ]
     },
     "execution_count": 83,
     "metadata": {},
     "output_type": "execute_result"
    }
   ],
   "source": [
    "29 * 29"
   ]
  },
  {
   "cell_type": "markdown",
   "metadata": {},
   "source": [
    "The number of rows of location box darray is 29 * 29 = 841"
   ]
  },
  {
   "cell_type": "code",
   "execution_count": 110,
   "metadata": {},
   "outputs": [],
   "source": [
    "# # keep cells which activates more than the confidence level\n",
    "# indexes_to_keep = np.where(values.flatten() > CONFIDENCE_LEVEL)[0]\n",
    "# # These are the confidences and bounding boxes we want to keep for the detection\n",
    "# confident_scores = values.flatten()[indexes_to_keep]\n",
    "# confident_boxes = location_boxes[indexes_to_keep]\n",
    "# confident_labels = indices.flatten()[indexes_to_keep]"
   ]
  },
  {
   "cell_type": "code",
   "execution_count": 84,
   "metadata": {},
   "outputs": [
    {
     "name": "stdout",
     "output_type": "stream",
     "text": [
      "[ 275  284  332 1618 1675 1773 2384 2427 2441 2502 2503 2559 2560 2616\n",
      " 2655 2673 2712 2770]\n",
      "(57, 57)\n",
      "3249\n"
     ]
    }
   ],
   "source": [
    "# print(type(np.where(values.flatten() > CONFIDENCE_LEVEL)))\n",
    "# print(type(np.where(values.flatten() > CONFIDENCE_LEVEL)[0]))\n",
    "# print(np.where(values.flatten() > CONFIDENCE_LEVEL))\n",
    "print(np.where(values.flatten() > CONFIDENCE_LEVEL)[0])\n",
    "print(values.shape)\n",
    "print(values.shape[0] * values.shape[1])"
   ]
  },
  {
   "cell_type": "code",
   "execution_count": 85,
   "metadata": {},
   "outputs": [
    {
     "ename": "IndexError",
     "evalue": "index 1618 is out of bounds for axis 0 with size 841",
     "output_type": "error",
     "traceback": [
      "\u001b[1;31m---------------------------------------------------------------------------\u001b[0m",
      "\u001b[1;31mIndexError\u001b[0m                                Traceback (most recent call last)",
      "\u001b[1;32m<ipython-input-85-a7315c79b67c>\u001b[0m in \u001b[0;36m<module>\u001b[1;34m\u001b[0m\n\u001b[0;32m      6\u001b[0m \u001b[1;31m# extract information to make bounding boxes\u001b[0m\u001b[1;33m\u001b[0m\u001b[1;33m\u001b[0m\u001b[1;33m\u001b[0m\u001b[0m\n\u001b[0;32m      7\u001b[0m \u001b[0mconfident_scores\u001b[0m \u001b[1;33m=\u001b[0m \u001b[0mvalues\u001b[0m\u001b[1;33m.\u001b[0m\u001b[0mflatten\u001b[0m\u001b[1;33m(\u001b[0m\u001b[1;33m)\u001b[0m\u001b[1;33m[\u001b[0m\u001b[0mindexes_to_keep\u001b[0m\u001b[1;33m]\u001b[0m\u001b[1;33m\u001b[0m\u001b[1;33m\u001b[0m\u001b[0m\n\u001b[1;32m----> 8\u001b[1;33m \u001b[0mconfident_boxes\u001b[0m \u001b[1;33m=\u001b[0m \u001b[0mlocation_boxes\u001b[0m\u001b[1;33m[\u001b[0m\u001b[0mindexes_to_keep\u001b[0m\u001b[1;33m]\u001b[0m\u001b[1;33m\u001b[0m\u001b[1;33m\u001b[0m\u001b[0m\n\u001b[0m\u001b[0;32m      9\u001b[0m \u001b[0mconfident_labels\u001b[0m \u001b[1;33m=\u001b[0m \u001b[0mindices\u001b[0m\u001b[1;33m.\u001b[0m\u001b[0mflatten\u001b[0m\u001b[1;33m(\u001b[0m\u001b[1;33m)\u001b[0m\u001b[1;33m[\u001b[0m\u001b[0mindexes_to_keep\u001b[0m\u001b[1;33m]\u001b[0m\u001b[1;33m\u001b[0m\u001b[1;33m\u001b[0m\u001b[0m\n",
      "\u001b[1;31mIndexError\u001b[0m: index 1618 is out of bounds for axis 0 with size 841"
     ]
    }
   ],
   "source": [
    "# values is grid of probability\n",
    "# numpy flatten() methods collapse it to 1 dimension\n",
    "# by [0] at the end array numpy info becomes numpy array\n",
    "indexes_to_keep = np.where(values.flatten() > CONFIDENCE_LEVEL)[0]\n",
    "\n",
    "# extract information to make bounding boxes\n",
    "confident_scores = values.flatten()[indexes_to_keep]\n",
    "confident_boxes = location_boxes[indexes_to_keep]\n",
    "confident_labels = indices.flatten()[indexes_to_keep]"
   ]
  },
  {
   "cell_type": "code",
   "execution_count": 29,
   "metadata": {},
   "outputs": [
    {
     "name": "stdout",
     "output_type": "stream",
     "text": [
      "841\n",
      "841\n"
     ]
    }
   ],
   "source": [
    "print(len(location_boxes))\n",
    "print(len(values.flatten()))"
   ]
  },
  {
   "cell_type": "code",
   "execution_count": 106,
   "metadata": {},
   "outputs": [],
   "source": [
    "# def draw_predictions(image, confident_boxes):\n",
    "#     for y, x, box_size_y, box_size_x in confident_boxes:\n",
    "#         image = cv2.rectangle(image,(x,y),(x+box_size_x,y+box_size_y),(255,0,0),1)\n",
    "#     return image"
   ]
  },
  {
   "cell_type": "markdown",
   "metadata": {},
   "source": [
    "cv2.rectangle arguments ( <br>\n",
    "image, <br>\n",
    "(starting x coordinate, starting y coordinate), <br>\n",
    "(ending x coordinate, ending y coordinate), <br>\n",
    "color (rectangle color or brightness), <br>\n",
    "???) <br>\n",
    "https://docs.opencv.org/2.4/modules/core/doc/drawing_functions.html"
   ]
  },
  {
   "cell_type": "code",
   "execution_count": 30,
   "metadata": {},
   "outputs": [],
   "source": [
    "def draw_bounding_box(image, confident_boxes):\n",
    "    # extract box info\n",
    "    for y, x, box_size_y, box_size_x in confident_boxes:\n",
    "        \n",
    "        # making bounding box\n",
    "        image = cv2.rectangle(image, (x, y), (x + box_size_x, y + box_size_y), (255, 0, 0), 1)\n",
    "#         image = cv2.rectangle(image, (x, y), (x + box_size_x, y + box_size_y), (255, 0, 0))\n",
    "    \n",
    "    return image"
   ]
  },
  {
   "cell_type": "code",
   "execution_count": 77,
   "metadata": {},
   "outputs": [],
   "source": [
    "# test_image_with_boxes = cv2.cvtColor(test_image_numpy.copy(), cv2.COLOR_GRAY2BGR)\n",
    "# test_image_with_boxes = draw_predictions(test_image_with_boxes, confident_boxes)\n",
    "# plt.imshow(test_image_with_boxes);"
   ]
  },
  {
   "cell_type": "markdown",
   "metadata": {},
   "source": [
    "cvtColor performs color conversion. cv2.cvtColor argument (input_image, flag) where flag decides the conversion. <br>\n",
    "COLOR_GRAY2BGR performs BGR to Gray conversion, which is specified in flag argument of cvtColor. <br>\n",
    "https://opencv-python-tutroals.readthedocs.io/en/latest/py_tutorials/py_imgproc/py_colorspaces/py_colorspaces.html"
   ]
  },
  {
   "cell_type": "code",
   "execution_count": 97,
   "metadata": {},
   "outputs": [
    {
     "name": "stderr",
     "output_type": "stream",
     "text": [
      "Clipping input data to the valid range for imshow with RGB data ([0..1] for floats or [0..255] for integers).\n"
     ]
    },
    {
     "data": {
      "image/png": "[encoded data removed]",
      "text/plain": [
       "<Figure size 576x576 with 1 Axes>"
      ]
     },
     "metadata": {
      "needs_background": "light"
     },
     "output_type": "display_data"
    }
   ],
   "source": [
    "# make plot bigger\n",
    "plt.figure(figsize = (8, 8))\n",
    "\n",
    "# making bounding box\n",
    "bigger_image_with_boxes = cv2.cvtColor(bigger_image_numpy.copy(), cv2.COLOR_GRAY2BGR)\n",
    "bigger_image_with_boxes = draw_bounding_box(bigger_image_with_boxes, confident_boxes)\n",
    "\n",
    "# show the image with bounding boxes\n",
    "plt.imshow(bigger_image_with_boxes)\n",
    "plt.show()"
   ]
  },
  {
   "cell_type": "code",
   "execution_count": 103,
   "metadata": {},
   "outputs": [
    {
     "data": {
      "text/plain": [
       "array([[  0, 112,  32,  28],\n",
       "       [  4, 112,  28,  28],\n",
       "       [ 44,  28,  28,  28],\n",
       "       [ 56,  28,  28,  28],\n",
       "       [ 68,  20,  28,  28],\n",
       "       [ 80,  72,  28,  28],\n",
       "       [ 80,  76,  28,  28],\n",
       "       [ 80,  80,  28,  28],\n",
       "       [ 84,  84,  28,  28],\n",
       "       [ 92,  72,  28,  28],\n",
       "       [ 92,  76,  28,  28],\n",
       "       [ 96,  76,  28,  28]])"
      ]
     },
     "execution_count": 103,
     "metadata": {},
     "output_type": "execute_result"
    }
   ],
   "source": [
    "confident_boxes\n",
    "# [y, x, y_length, x_length]"
   ]
  },
  {
   "cell_type": "code",
   "execution_count": 80,
   "metadata": {},
   "outputs": [],
   "source": [
    "# def expansion(bounding_boxes, slide_x = 1, slide_y=1):\n",
    "#     nb_boxes = len(bounding_boxes)   \n",
    "#     idx = 0\n",
    "#     while idx < nb_boxes-1:\n",
    "#         y1, x1, box_size_y1, box_size_x1 = bounding_boxes[idx]\n",
    "#         y2, x2, box_size_y2, box_size_x2 = bounding_boxes[idx+1]      \n",
    "#         if (((x1 + box_size_x1 + slide_x >= x2) or (x2 + box_size_x2 + slide_x >= x1))\n",
    "#             and (y1 + box_size_y1 + slide_y >= y2)):\n",
    "#             x = min(x1, x2)\n",
    "#             y = min(y1, y2)\n",
    "#             box_size_y = max(y2+box_size_y2, y1+box_size_y1) - min(y1,y2)\n",
    "#             box_size_x = max(x2+box_size_x2, x1+box_size_x1) - min(x1,x2)\n",
    "#             bounding_boxes[idx]= np.array([y, x, box_size_y, box_size_x])\n",
    "#             bounding_boxes = np.delete(bounding_boxes, idx+1, axis = 0 )\n",
    "#             nb_boxes = len(bounding_boxes)   \n",
    "#         else:\n",
    "#             idx+=1\n",
    "\n",
    "#     return bounding_boxes"
   ]
  },
  {
   "cell_type": "code",
   "execution_count": 156,
   "metadata": {},
   "outputs": [],
   "source": [
    "# bouding_boxes to be \"confident_boxes\"\n",
    "def expansion(bounding_boxes, slide_x = 1, slide_y = 1):\n",
    "    \n",
    "    # the number of bounding boxes which has high probability\n",
    "    nb_boxes = len(bounding_boxes)\n",
    "    # initialize\n",
    "    index = 0\n",
    "    \n",
    "    while index < (nb_boxes - 1):\n",
    "        \n",
    "        # get info of a box\n",
    "        y1, x1, box_size_y1, box_size_x1 = bounding_boxes[index]\n",
    "        # get info of a nearby box\n",
    "        y2, x2, box_size_y2, box_size_x2 = bounding_boxes[index + 1]\n",
    "        \n",
    "        # the below is the conditions when we want to merge bounding boxes to make a bigger box\n",
    "        if (((x2 + box_size_x2 >= x1 + box_size_x1) \n",
    "            or (y2 + box_size_y2 >= y1 + box_size_y1))\n",
    "            and (x2 <= x1 + box_size_x1)\n",
    "            and (y2 <= y1 + box_size_y1)\n",
    "           ): \n",
    "            \n",
    "            # update bounding box information\n",
    "            x = min(x1, x2)\n",
    "            y = min(y1, y2)\n",
    "            box_size_x = max(x1 + box_size_x1, x2 + box_size_x2) - min(x1, x2) \n",
    "            box_size_y = max(y1 + box_size_y1, y2 + box_size_y2) - min(y1, y2)\n",
    "            \n",
    "            # store bounding box information\n",
    "            bounding_boxes[index] = np.array([y, x, box_size_y, box_size_x])\n",
    "            bounding_boxes = np.delete(bounding_boxes, index + 1, axis = 0)\n",
    "            \n",
    "            # we deleted bouding boxes above, so update the number of bounding_boxes\n",
    "            nb_boxes = len(bounding_boxes)\n",
    "        else:\n",
    "            index += 1\n",
    "            \n",
    "    return bounding_boxes"
   ]
  },
  {
   "cell_type": "code",
   "execution_count": 157,
   "metadata": {},
   "outputs": [],
   "source": [
    "bounding_boxes = expansion(confident_boxes)"
   ]
  },
  {
   "cell_type": "code",
   "execution_count": 158,
   "metadata": {},
   "outputs": [
    {
     "data": {
      "text/plain": [
       "array([[  0, 112,  32,  28],\n",
       "       [ 44,  20,  52,  36],\n",
       "       [ 80,  72,  44,  40]])"
      ]
     },
     "execution_count": 158,
     "metadata": {},
     "output_type": "execute_result"
    }
   ],
   "source": [
    "bounding_boxes"
   ]
  },
  {
   "cell_type": "code",
   "execution_count": 155,
   "metadata": {},
   "outputs": [],
   "source": [
    "# test_image_with_boxes = cv2.cvtColor(test_image_numpy.copy(), cv2.COLOR_GRAY2BGR)\n",
    "# test_image_with_boxes = draw_predictions(test_image_with_boxes, bounding_boxes)\n",
    "# plt.imshow(test_image_with_boxes);"
   ]
  },
  {
   "cell_type": "code",
   "execution_count": 159,
   "metadata": {},
   "outputs": [
    {
     "name": "stderr",
     "output_type": "stream",
     "text": [
      "Clipping input data to the valid range for imshow with RGB data ([0..1] for floats or [0..255] for integers).\n"
     ]
    },
    {
     "data": {
      "image/png": "[encoded data removed]",
      "text/plain": [
       "<Figure size 576x576 with 1 Axes>"
      ]
     },
     "metadata": {
      "needs_background": "light"
     },
     "output_type": "display_data"
    }
   ],
   "source": [
    "# make plot bigger\n",
    "plt.figure(figsize = (8, 8))\n",
    "\n",
    "# making bounding box\n",
    "bigger_image_with_boxes = cv2.cvtColor(bigger_image_numpy.copy(), cv2.COLOR_GRAY2BGR)\n",
    "bigger_imgae_with_boxes = draw_bounding_box(bigger_image_with_boxes, bounding_boxes)\n",
    "\n",
    "# show the image with bounding boxes\n",
    "plt.imshow(bigger_image_with_boxes)\n",
    "plt.show()"
   ]
  }
 ],
 "metadata": {
  "kernelspec": {
   "display_name": "Python 3",
   "language": "python",
   "name": "python3"
  },
  "language_info": {
   "codemirror_mode": {
    "name": "ipython",
    "version": 3
   },
   "file_extension": ".py",
   "mimetype": "text/x-python",
   "name": "python",
   "nbconvert_exporter": "python",
   "pygments_lexer": "ipython3",
   "version": "3.7.1"
  }
 },
 "nbformat": 4,
 "nbformat_minor": 2
}
