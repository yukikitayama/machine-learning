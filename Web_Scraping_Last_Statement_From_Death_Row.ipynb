{
 "cells": [
  {
   "cell_type": "markdown",
   "metadata": {},
   "source": [
    "# Web scraping - last statements from death row"
   ]
  },
  {
   "cell_type": "markdown",
   "metadata": {},
   "source": [
    "https://www.tdcj.texas.gov/death_row/dr_executed_offenders.html"
   ]
  },
  {
   "cell_type": "markdown",
   "metadata": {},
   "source": [
    "## Setup"
   ]
  },
  {
   "cell_type": "code",
   "execution_count": 242,
   "metadata": {},
   "outputs": [],
   "source": [
    "from bs4 import BeautifulSoup\n",
    "import requests\n",
    "import re\n",
    "import pickle"
   ]
  },
  {
   "cell_type": "markdown",
   "metadata": {},
   "source": [
    "## Web scrape links"
   ]
  },
  {
   "cell_type": "code",
   "execution_count": 2,
   "metadata": {},
   "outputs": [],
   "source": [
    "url = \"https://www.tdcj.texas.gov/death_row/dr_executed_offenders.html\""
   ]
  },
  {
   "cell_type": "code",
   "execution_count": 25,
   "metadata": {},
   "outputs": [],
   "source": [
    "html_doc = requests.get(url)\n",
    "soup = BeautifulSoup(html_doc.text, 'html.parser')\n",
    "\n",
    "tmp = []\n",
    "\n",
    "for link in soup.find_all('a'):\n",
    "    tmp.append(link.get('href'))"
   ]
  },
  {
   "cell_type": "code",
   "execution_count": 58,
   "metadata": {},
   "outputs": [],
   "source": [
    "# manually checked the location\n",
    "# tmp\n",
    "start_loc = 26\n",
    "end_loc = 1155\n",
    "\n",
    "# contains both offender information and last statement\n",
    "link_last = tmp[26:1156]"
   ]
  },
  {
   "cell_type": "code",
   "execution_count": 73,
   "metadata": {},
   "outputs": [],
   "source": [
    "offender_info = []\n",
    "last_statement = []\n",
    "\n",
    "for i in range(len(link_last)):\n",
    "    if (i % 2) == 0:\n",
    "        offender_info.append(link_last[i])\n",
    "    else:\n",
    "        last_statement.append(link_last[i])"
   ]
  },
  {
   "cell_type": "code",
   "execution_count": 84,
   "metadata": {},
   "outputs": [
    {
     "name": "stdout",
     "output_type": "stream",
     "text": [
      "Head\n",
      "['dr_info/sparksrobertlast.html', 'dr_info/solizmarkanthonylast.html', 'dr_info/crutsingerbillylast.html', 'dr_info/swearingenlarrylast.html', 'dr_info/kingjohnlast.html']\n",
      "Tail\n",
      "['dr_info/skillerndoylelast.html', 'dr_info/barefootthomaslast.html', 'dr_info/obryanronaldlast.html', 'dr_info/no_last_statement.html', 'dr_info/brookscharlielast.html']\n"
     ]
    }
   ],
   "source": [
    "print(\"Head\")\n",
    "print(last_statement[:5])\n",
    "print(\"Tail\")\n",
    "print(last_statement[len(last_statement)-5:len(last_statement)+1])"
   ]
  },
  {
   "cell_type": "markdown",
   "metadata": {},
   "source": [
    "## Web scrape last statements"
   ]
  },
  {
   "cell_type": "code",
   "execution_count": 56,
   "metadata": {},
   "outputs": [],
   "source": [
    "header = \"https://www.tdcj.texas.gov/death_row/\""
   ]
  },
  {
   "cell_type": "code",
   "execution_count": 229,
   "metadata": {},
   "outputs": [],
   "source": [
    "statement = []\n",
    "\n",
    "for i in range(len(last_statement)):\n",
    "# for i in range(25):\n",
    "\n",
    "    # access individual last statement page\n",
    "    ls_link = header + last_statement[i]\n",
    "    ls_doc = requests.get(ls_link)\n",
    "    soup = BeautifulSoup(ls_doc.text, 'html.parser')\n",
    "\n",
    "    # extract text data\n",
    "    tmp = [re.sub(\"<p|<p>|</p>|\\xa0|\\r\\n\", \"\", text.text) for text in soup.find_all('p')]\n",
    "\n",
    "    # extract only statement data\n",
    "    for j in range(len(tmp)):\n",
    "        num = str(tmp[j]).find(\"Last Statement\")\n",
    "        if num > -1:\n",
    "            loc = j + 1\n",
    "        tmp2 = tmp[loc:]\n",
    "    tmp3 = \" \".join(tmp2)\n",
    "\n",
    "    # store sentences\n",
    "    statement.append(tmp3)"
   ]
  },
  {
   "cell_type": "code",
   "execution_count": 244,
   "metadata": {},
   "outputs": [],
   "source": [
    "# save statement object since scraping takes times\n",
    "filename = \"statement.pkl\"\n",
    "pickle.dump(statement, open(filename, \"wb\"))"
   ]
  },
  {
   "cell_type": "code",
   "execution_count": 246,
   "metadata": {},
   "outputs": [
    {
     "data": {
      "text/plain": [
       "'I’d like to take a moment to say I’m sorry. No  amount of words could ever undo what I’ve done. To the family of my  victims, I wish I could undo that past. It is what it is. God bless  all of you, I will die with a clear conscience. I made my peace. There is  no others. I would like to wish a Happy Birthday to Barbara Carrol, today  is her birthday. I would like to especially thank those that have helped  me, you know who you are. God bless everybody until we meet again.  I’m ready warden. '"
      ]
     },
     "execution_count": 246,
     "metadata": {},
     "output_type": "execute_result"
    }
   ],
   "source": [
    "# load statement object\n",
    "test = pickle.load(open(filename, \"rb\"))\n",
    "\n",
    "test[20]"
   ]
  }
 ],
 "metadata": {
  "kernelspec": {
   "display_name": "Python 3",
   "language": "python",
   "name": "python3"
  },
  "language_info": {
   "codemirror_mode": {
    "name": "ipython",
    "version": 3
   },
   "file_extension": ".py",
   "mimetype": "text/x-python",
   "name": "python",
   "nbconvert_exporter": "python",
   "pygments_lexer": "ipython3",
   "version": "3.7.1"
  }
 },
 "nbformat": 4,
 "nbformat_minor": 2
}
