{
 "cells": [
  {
   "cell_type": "code",
   "execution_count": 1,
   "metadata": {},
   "outputs": [],
   "source": [
    "import pandas as pd\n",
    "import numpy as np\n",
    "import matplotlib.pyplot as plt\n",
    "\n",
    "import statistics\n",
    "import math\n",
    "\n",
    "from sklearn.preprocessing import StandardScaler\n",
    "from sklearn.decomposition import PCA\n",
    "from sklearn.linear_model import LinearRegression, Ridge, Lasso\n",
    "from sklearn.model_selection import cross_val_score, GridSearchCV"
   ]
  },
  {
   "cell_type": "markdown",
   "metadata": {},
   "source": [
    "# Import data "
   ]
  },
  {
   "cell_type": "markdown",
   "metadata": {},
   "source": [
    "The following data was preprocessed in R, by merging eset_HTA20 and anoSC1_v11_nokey.csv"
   ]
  },
  {
   "cell_type": "code",
   "execution_count": 2,
   "metadata": {},
   "outputs": [],
   "source": [
    "alldata = pd.read_csv(\"alldata.csv\")"
   ]
  },
  {
   "cell_type": "markdown",
   "metadata": {},
   "source": [
    "Check the data"
   ]
  },
  {
   "cell_type": "code",
   "execution_count": 3,
   "metadata": {},
   "outputs": [
    {
     "data": {
      "text/html": [
       "<div>\n",
       "<style scoped>\n",
       "    .dataframe tbody tr th:only-of-type {\n",
       "        vertical-align: middle;\n",
       "    }\n",
       "\n",
       "    .dataframe tbody tr th {\n",
       "        vertical-align: top;\n",
       "    }\n",
       "\n",
       "    .dataframe thead th {\n",
       "        text-align: right;\n",
       "    }\n",
       "</style>\n",
       "<table border=\"1\" class=\"dataframe\">\n",
       "  <thead>\n",
       "    <tr style=\"text-align: right;\">\n",
       "      <th></th>\n",
       "      <th>Unnamed: 0</th>\n",
       "      <th>g_1</th>\n",
       "      <th>g_2</th>\n",
       "      <th>g_3</th>\n",
       "      <th>g_4</th>\n",
       "      <th>g_5</th>\n",
       "      <th>g_6</th>\n",
       "      <th>g_7</th>\n",
       "      <th>g_8</th>\n",
       "      <th>g_9</th>\n",
       "      <th>...</th>\n",
       "      <th>g_32827</th>\n",
       "      <th>g_32828</th>\n",
       "      <th>g_32829</th>\n",
       "      <th>g_32830</th>\n",
       "      <th>SampleID</th>\n",
       "      <th>GA</th>\n",
       "      <th>Batch</th>\n",
       "      <th>Set</th>\n",
       "      <th>Train</th>\n",
       "      <th>Platform</th>\n",
       "    </tr>\n",
       "  </thead>\n",
       "  <tbody>\n",
       "    <tr>\n",
       "      <th>0</th>\n",
       "      <td>1</td>\n",
       "      <td>6.062215</td>\n",
       "      <td>3.796484</td>\n",
       "      <td>5.849338</td>\n",
       "      <td>3.567779</td>\n",
       "      <td>6.166815</td>\n",
       "      <td>4.443027</td>\n",
       "      <td>5.836522</td>\n",
       "      <td>6.330018</td>\n",
       "      <td>4.922339</td>\n",
       "      <td>...</td>\n",
       "      <td>8.972873</td>\n",
       "      <td>10.440245</td>\n",
       "      <td>12.101476</td>\n",
       "      <td>13.695705</td>\n",
       "      <td>Tarca_001_P1A01</td>\n",
       "      <td>11.0</td>\n",
       "      <td>1</td>\n",
       "      <td>PRB_HTA</td>\n",
       "      <td>1</td>\n",
       "      <td>HTA20</td>\n",
       "    </tr>\n",
       "    <tr>\n",
       "      <th>1</th>\n",
       "      <td>2</td>\n",
       "      <td>6.125023</td>\n",
       "      <td>3.805305</td>\n",
       "      <td>6.191562</td>\n",
       "      <td>3.452524</td>\n",
       "      <td>5.678373</td>\n",
       "      <td>4.773199</td>\n",
       "      <td>6.143398</td>\n",
       "      <td>5.601745</td>\n",
       "      <td>4.711765</td>\n",
       "      <td>...</td>\n",
       "      <td>9.376194</td>\n",
       "      <td>10.845176</td>\n",
       "      <td>12.370891</td>\n",
       "      <td>13.635522</td>\n",
       "      <td>Tarca_003_P1A03</td>\n",
       "      <td>NaN</td>\n",
       "      <td>1</td>\n",
       "      <td>PRB_HTA</td>\n",
       "      <td>0</td>\n",
       "      <td>HTA20</td>\n",
       "    </tr>\n",
       "    <tr>\n",
       "      <th>2</th>\n",
       "      <td>3</td>\n",
       "      <td>5.875502</td>\n",
       "      <td>3.450245</td>\n",
       "      <td>6.550525</td>\n",
       "      <td>3.316134</td>\n",
       "      <td>6.185059</td>\n",
       "      <td>4.393488</td>\n",
       "      <td>5.898364</td>\n",
       "      <td>6.137984</td>\n",
       "      <td>4.628124</td>\n",
       "      <td>...</td>\n",
       "      <td>8.843612</td>\n",
       "      <td>10.493416</td>\n",
       "      <td>12.295786</td>\n",
       "      <td>13.616688</td>\n",
       "      <td>Tarca_004_P1A04</td>\n",
       "      <td>32.6</td>\n",
       "      <td>1</td>\n",
       "      <td>PRB_HTA</td>\n",
       "      <td>1</td>\n",
       "      <td>HTA20</td>\n",
       "    </tr>\n",
       "    <tr>\n",
       "      <th>3</th>\n",
       "      <td>4</td>\n",
       "      <td>6.126131</td>\n",
       "      <td>3.628411</td>\n",
       "      <td>6.421877</td>\n",
       "      <td>3.432451</td>\n",
       "      <td>5.633757</td>\n",
       "      <td>4.623783</td>\n",
       "      <td>6.019792</td>\n",
       "      <td>5.787502</td>\n",
       "      <td>4.796283</td>\n",
       "      <td>...</td>\n",
       "      <td>9.191471</td>\n",
       "      <td>10.879879</td>\n",
       "      <td>12.249936</td>\n",
       "      <td>13.524328</td>\n",
       "      <td>Tarca_005_P1A05</td>\n",
       "      <td>30.6</td>\n",
       "      <td>1</td>\n",
       "      <td>PRB_HTA</td>\n",
       "      <td>1</td>\n",
       "      <td>HTA20</td>\n",
       "    </tr>\n",
       "    <tr>\n",
       "      <th>4</th>\n",
       "      <td>5</td>\n",
       "      <td>6.146466</td>\n",
       "      <td>3.446812</td>\n",
       "      <td>6.260962</td>\n",
       "      <td>3.477162</td>\n",
       "      <td>5.313198</td>\n",
       "      <td>4.422651</td>\n",
       "      <td>6.407699</td>\n",
       "      <td>5.830437</td>\n",
       "      <td>4.726488</td>\n",
       "      <td>...</td>\n",
       "      <td>9.247768</td>\n",
       "      <td>10.754316</td>\n",
       "      <td>12.245458</td>\n",
       "      <td>13.509353</td>\n",
       "      <td>Tarca_006_P1A06</td>\n",
       "      <td>NaN</td>\n",
       "      <td>1</td>\n",
       "      <td>PRB_HTA</td>\n",
       "      <td>0</td>\n",
       "      <td>HTA20</td>\n",
       "    </tr>\n",
       "  </tbody>\n",
       "</table>\n",
       "<p>5 rows × 32837 columns</p>\n",
       "</div>"
      ],
      "text/plain": [
       "   Unnamed: 0       g_1       g_2       g_3       g_4       g_5       g_6  \\\n",
       "0           1  6.062215  3.796484  5.849338  3.567779  6.166815  4.443027   \n",
       "1           2  6.125023  3.805305  6.191562  3.452524  5.678373  4.773199   \n",
       "2           3  5.875502  3.450245  6.550525  3.316134  6.185059  4.393488   \n",
       "3           4  6.126131  3.628411  6.421877  3.432451  5.633757  4.623783   \n",
       "4           5  6.146466  3.446812  6.260962  3.477162  5.313198  4.422651   \n",
       "\n",
       "        g_7       g_8       g_9    ...      g_32827    g_32828    g_32829  \\\n",
       "0  5.836522  6.330018  4.922339    ...     8.972873  10.440245  12.101476   \n",
       "1  6.143398  5.601745  4.711765    ...     9.376194  10.845176  12.370891   \n",
       "2  5.898364  6.137984  4.628124    ...     8.843612  10.493416  12.295786   \n",
       "3  6.019792  5.787502  4.796283    ...     9.191471  10.879879  12.249936   \n",
       "4  6.407699  5.830437  4.726488    ...     9.247768  10.754316  12.245458   \n",
       "\n",
       "     g_32830         SampleID    GA  Batch      Set  Train  Platform  \n",
       "0  13.695705  Tarca_001_P1A01  11.0      1  PRB_HTA      1     HTA20  \n",
       "1  13.635522  Tarca_003_P1A03   NaN      1  PRB_HTA      0     HTA20  \n",
       "2  13.616688  Tarca_004_P1A04  32.6      1  PRB_HTA      1     HTA20  \n",
       "3  13.524328  Tarca_005_P1A05  30.6      1  PRB_HTA      1     HTA20  \n",
       "4  13.509353  Tarca_006_P1A06   NaN      1  PRB_HTA      0     HTA20  \n",
       "\n",
       "[5 rows x 32837 columns]"
      ]
     },
     "execution_count": 3,
     "metadata": {},
     "output_type": "execute_result"
    }
   ],
   "source": [
    "alldata.head()"
   ]
  },
  {
   "cell_type": "markdown",
   "metadata": {},
   "source": [
    "# Make train and test dataset"
   ]
  },
  {
   "cell_type": "code",
   "execution_count": 4,
   "metadata": {},
   "outputs": [],
   "source": [
    "X_train = alldata.loc[alldata['Train'] == 1, 'g_1':'g_32830'].values\n",
    "X_train_df = alldata.loc[alldata['Train'] == 1, 'g_1':'g_32830']"
   ]
  },
  {
   "cell_type": "code",
   "execution_count": 5,
   "metadata": {},
   "outputs": [],
   "source": [
    "y_train = alldata.loc[alldata['Train'] == 1, 'GA'].values\n",
    "y_train_df = alldata.loc[alldata['Train'] == 1, 'GA']"
   ]
  },
  {
   "cell_type": "code",
   "execution_count": 6,
   "metadata": {},
   "outputs": [],
   "source": [
    "# X_test = alldata.loc[alldata['Train'] == 0, 'g_1':'g_32830'].values\n",
    "X_test_df = alldata.loc[alldata['Train'] == 0, 'g_1':'g_32830']\n",
    "ID_test = alldata.loc[alldata['Train'] == 0, 'SampleID'].values"
   ]
  },
  {
   "cell_type": "code",
   "execution_count": 8,
   "metadata": {},
   "outputs": [
    {
     "name": "stdout",
     "output_type": "stream",
     "text": [
      "(367, 32830)\n",
      "(367,)\n"
     ]
    }
   ],
   "source": [
    "print(X_train.shape)\n",
    "print(y_train.shape)"
   ]
  },
  {
   "cell_type": "markdown",
   "metadata": {},
   "source": [
    "# EDA"
   ]
  },
  {
   "cell_type": "code",
   "execution_count": 9,
   "metadata": {},
   "outputs": [
    {
     "data": {
      "image/png": "[encoded data removed]",
      "text/plain": [
       "<Figure size 432x288 with 1 Axes>"
      ]
     },
     "metadata": {
      "needs_background": "light"
     },
     "output_type": "display_data"
    }
   ],
   "source": [
    "_ = plt.hist(y_train)\n",
    "_ = plt.xlabel(\"Gestational age\")\n",
    "_ = plt.ylabel(\"Number of observed data\")\n",
    "_ = plt.title(\"Histogram of gestational age\")\n",
    "plt.show()"
   ]
  },
  {
   "cell_type": "markdown",
   "metadata": {},
   "source": [
    "# Ridge regression "
   ]
  },
  {
   "cell_type": "code",
   "execution_count": 10,
   "metadata": {},
   "outputs": [],
   "source": [
    "def display_plot(cv_scores, cv_scores_std):\n",
    "    fig = plt.figure()\n",
    "    ax = fig.add_subplot(1,1,1)\n",
    "    ax.plot(alpha_space, cv_scores)\n",
    "\n",
    "    std_error = cv_scores_std / np.sqrt(10)\n",
    "\n",
    "    ax.fill_between(alpha_space, cv_scores + std_error, cv_scores - std_error, alpha=0.2)\n",
    "    ax.set_ylabel('CV Score +/- Std Error')\n",
    "    ax.set_xlabel('Alpha')\n",
    "    ax.axhline(np.max(cv_scores), linestyle='--', color='.5')\n",
    "    ax.set_xlim([alpha_space[0], alpha_space[-1]])\n",
    "    ax.set_xscale('log')\n",
    "    plt.show()"
   ]
  },
  {
   "cell_type": "code",
   "execution_count": 11,
   "metadata": {},
   "outputs": [],
   "source": [
    "# Setup the array of alphas and lists to store scores\n",
    "# alpha_space = np.logspace(-4, 0, 50)\n",
    "alpha_space = np.array([0.1, 1, 10, 100, 1000, 10000, 100000])\n",
    "ridge_scores = []\n",
    "ridge_scores_std = []"
   ]
  },
  {
   "cell_type": "code",
   "execution_count": 14,
   "metadata": {},
   "outputs": [],
   "source": [
    "# Create ridge regression\n",
    "ridge = Ridge(normalize = True)\n",
    "\n",
    "# Compute scores over range of alphas\n",
    "for alpha in alpha_space:\n",
    "    \n",
    "    # Specify the alpha value to use\n",
    "    ridge.alpha = alpha\n",
    "    \n",
    "    # Perform 10-fold CV\n",
    "    ridge_cv_scores = cross_val_score(ridge, X_train, y_train, cv = 10)\n",
    "    \n",
    "    # Append the mean of ridge_cv_scores\n",
    "    ridge_scores.append(np.mean(ridge_cv_scores))\n",
    "    \n",
    "    # Append the std of ridge_cv_scores\n",
    "    ridge_scores_std.append(np.std(ridge_cv_scores))"
   ]
  },
  {
   "cell_type": "code",
   "execution_count": 15,
   "metadata": {},
   "outputs": [
    {
     "data": {
      "image/png": "[encoded data removed]",
      "text/plain": [
       "<Figure size 432x288 with 1 Axes>"
      ]
     },
     "metadata": {
      "needs_background": "light"
     },
     "output_type": "display_data"
    }
   ],
   "source": [
    "display_plot(ridge_scores, ridge_scores_std)"
   ]
  }
 ],
 "metadata": {
  "kernelspec": {
   "display_name": "Python 3",
   "language": "python",
   "name": "python3"
  },
  "language_info": {
   "codemirror_mode": {
    "name": "ipython",
    "version": 3
   },
   "file_extension": ".py",
   "mimetype": "text/x-python",
   "name": "python",
   "nbconvert_exporter": "python",
   "pygments_lexer": "ipython3",
   "version": "3.7.1"
  }
 },
 "nbformat": 4,
 "nbformat_minor": 2
}
