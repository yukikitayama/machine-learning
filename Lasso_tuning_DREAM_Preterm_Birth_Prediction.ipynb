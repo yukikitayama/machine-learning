{
 "cells": [
  {
   "cell_type": "code",
   "execution_count": 1,
   "metadata": {},
   "outputs": [],
   "source": [
    "import pandas as pd\n",
    "import numpy as np\n",
    "import matplotlib.pyplot as plt\n",
    "\n",
    "import statistics\n",
    "import math\n",
    "\n",
    "from sklearn.preprocessing import StandardScaler\n",
    "from sklearn.decomposition import PCA\n",
    "from sklearn.linear_model import LinearRegression, Ridge, Lasso\n",
    "from sklearn.model_selection import cross_val_score, GridSearchCV"
   ]
  },
  {
   "cell_type": "markdown",
   "metadata": {},
   "source": [
    "# Import data "
   ]
  },
  {
   "cell_type": "markdown",
   "metadata": {},
   "source": [
    "The following data was preprocessed in R, by merging eset_HTA20 and anoSC1_v11_nokey.csv"
   ]
  },
  {
   "cell_type": "code",
   "execution_count": 2,
   "metadata": {},
   "outputs": [],
   "source": [
    "alldata = pd.read_csv(\"alldata.csv\")"
   ]
  },
  {
   "cell_type": "markdown",
   "metadata": {},
   "source": [
    "Check the data"
   ]
  },
  {
   "cell_type": "code",
   "execution_count": 3,
   "metadata": {},
   "outputs": [
    {
     "data": {
      "text/html": [
       "<div>\n",
       "<style scoped>\n",
       "    .dataframe tbody tr th:only-of-type {\n",
       "        vertical-align: middle;\n",
       "    }\n",
       "\n",
       "    .dataframe tbody tr th {\n",
       "        vertical-align: top;\n",
       "    }\n",
       "\n",
       "    .dataframe thead th {\n",
       "        text-align: right;\n",
       "    }\n",
       "</style>\n",
       "<table border=\"1\" class=\"dataframe\">\n",
       "  <thead>\n",
       "    <tr style=\"text-align: right;\">\n",
       "      <th></th>\n",
       "      <th>Unnamed: 0</th>\n",
       "      <th>g_1</th>\n",
       "      <th>g_2</th>\n",
       "      <th>g_3</th>\n",
       "      <th>g_4</th>\n",
       "      <th>g_5</th>\n",
       "      <th>g_6</th>\n",
       "      <th>g_7</th>\n",
       "      <th>g_8</th>\n",
       "      <th>g_9</th>\n",
       "      <th>...</th>\n",
       "      <th>g_32827</th>\n",
       "      <th>g_32828</th>\n",
       "      <th>g_32829</th>\n",
       "      <th>g_32830</th>\n",
       "      <th>SampleID</th>\n",
       "      <th>GA</th>\n",
       "      <th>Batch</th>\n",
       "      <th>Set</th>\n",
       "      <th>Train</th>\n",
       "      <th>Platform</th>\n",
       "    </tr>\n",
       "  </thead>\n",
       "  <tbody>\n",
       "    <tr>\n",
       "      <th>0</th>\n",
       "      <td>1</td>\n",
       "      <td>6.062215</td>\n",
       "      <td>3.796484</td>\n",
       "      <td>5.849338</td>\n",
       "      <td>3.567779</td>\n",
       "      <td>6.166815</td>\n",
       "      <td>4.443027</td>\n",
       "      <td>5.836522</td>\n",
       "      <td>6.330018</td>\n",
       "      <td>4.922339</td>\n",
       "      <td>...</td>\n",
       "      <td>8.972873</td>\n",
       "      <td>10.440245</td>\n",
       "      <td>12.101476</td>\n",
       "      <td>13.695705</td>\n",
       "      <td>Tarca_001_P1A01</td>\n",
       "      <td>11.0</td>\n",
       "      <td>1</td>\n",
       "      <td>PRB_HTA</td>\n",
       "      <td>1</td>\n",
       "      <td>HTA20</td>\n",
       "    </tr>\n",
       "    <tr>\n",
       "      <th>1</th>\n",
       "      <td>2</td>\n",
       "      <td>6.125023</td>\n",
       "      <td>3.805305</td>\n",
       "      <td>6.191562</td>\n",
       "      <td>3.452524</td>\n",
       "      <td>5.678373</td>\n",
       "      <td>4.773199</td>\n",
       "      <td>6.143398</td>\n",
       "      <td>5.601745</td>\n",
       "      <td>4.711765</td>\n",
       "      <td>...</td>\n",
       "      <td>9.376194</td>\n",
       "      <td>10.845176</td>\n",
       "      <td>12.370891</td>\n",
       "      <td>13.635522</td>\n",
       "      <td>Tarca_003_P1A03</td>\n",
       "      <td>NaN</td>\n",
       "      <td>1</td>\n",
       "      <td>PRB_HTA</td>\n",
       "      <td>0</td>\n",
       "      <td>HTA20</td>\n",
       "    </tr>\n",
       "    <tr>\n",
       "      <th>2</th>\n",
       "      <td>3</td>\n",
       "      <td>5.875502</td>\n",
       "      <td>3.450245</td>\n",
       "      <td>6.550525</td>\n",
       "      <td>3.316134</td>\n",
       "      <td>6.185059</td>\n",
       "      <td>4.393488</td>\n",
       "      <td>5.898364</td>\n",
       "      <td>6.137984</td>\n",
       "      <td>4.628124</td>\n",
       "      <td>...</td>\n",
       "      <td>8.843612</td>\n",
       "      <td>10.493416</td>\n",
       "      <td>12.295786</td>\n",
       "      <td>13.616688</td>\n",
       "      <td>Tarca_004_P1A04</td>\n",
       "      <td>32.6</td>\n",
       "      <td>1</td>\n",
       "      <td>PRB_HTA</td>\n",
       "      <td>1</td>\n",
       "      <td>HTA20</td>\n",
       "    </tr>\n",
       "    <tr>\n",
       "      <th>3</th>\n",
       "      <td>4</td>\n",
       "      <td>6.126131</td>\n",
       "      <td>3.628411</td>\n",
       "      <td>6.421877</td>\n",
       "      <td>3.432451</td>\n",
       "      <td>5.633757</td>\n",
       "      <td>4.623783</td>\n",
       "      <td>6.019792</td>\n",
       "      <td>5.787502</td>\n",
       "      <td>4.796283</td>\n",
       "      <td>...</td>\n",
       "      <td>9.191471</td>\n",
       "      <td>10.879879</td>\n",
       "      <td>12.249936</td>\n",
       "      <td>13.524328</td>\n",
       "      <td>Tarca_005_P1A05</td>\n",
       "      <td>30.6</td>\n",
       "      <td>1</td>\n",
       "      <td>PRB_HTA</td>\n",
       "      <td>1</td>\n",
       "      <td>HTA20</td>\n",
       "    </tr>\n",
       "    <tr>\n",
       "      <th>4</th>\n",
       "      <td>5</td>\n",
       "      <td>6.146466</td>\n",
       "      <td>3.446812</td>\n",
       "      <td>6.260962</td>\n",
       "      <td>3.477162</td>\n",
       "      <td>5.313198</td>\n",
       "      <td>4.422651</td>\n",
       "      <td>6.407699</td>\n",
       "      <td>5.830437</td>\n",
       "      <td>4.726488</td>\n",
       "      <td>...</td>\n",
       "      <td>9.247768</td>\n",
       "      <td>10.754316</td>\n",
       "      <td>12.245458</td>\n",
       "      <td>13.509353</td>\n",
       "      <td>Tarca_006_P1A06</td>\n",
       "      <td>NaN</td>\n",
       "      <td>1</td>\n",
       "      <td>PRB_HTA</td>\n",
       "      <td>0</td>\n",
       "      <td>HTA20</td>\n",
       "    </tr>\n",
       "  </tbody>\n",
       "</table>\n",
       "<p>5 rows × 32837 columns</p>\n",
       "</div>"
      ],
      "text/plain": [
       "   Unnamed: 0       g_1       g_2       g_3       g_4       g_5       g_6  \\\n",
       "0           1  6.062215  3.796484  5.849338  3.567779  6.166815  4.443027   \n",
       "1           2  6.125023  3.805305  6.191562  3.452524  5.678373  4.773199   \n",
       "2           3  5.875502  3.450245  6.550525  3.316134  6.185059  4.393488   \n",
       "3           4  6.126131  3.628411  6.421877  3.432451  5.633757  4.623783   \n",
       "4           5  6.146466  3.446812  6.260962  3.477162  5.313198  4.422651   \n",
       "\n",
       "        g_7       g_8       g_9    ...      g_32827    g_32828    g_32829  \\\n",
       "0  5.836522  6.330018  4.922339    ...     8.972873  10.440245  12.101476   \n",
       "1  6.143398  5.601745  4.711765    ...     9.376194  10.845176  12.370891   \n",
       "2  5.898364  6.137984  4.628124    ...     8.843612  10.493416  12.295786   \n",
       "3  6.019792  5.787502  4.796283    ...     9.191471  10.879879  12.249936   \n",
       "4  6.407699  5.830437  4.726488    ...     9.247768  10.754316  12.245458   \n",
       "\n",
       "     g_32830         SampleID    GA  Batch      Set  Train  Platform  \n",
       "0  13.695705  Tarca_001_P1A01  11.0      1  PRB_HTA      1     HTA20  \n",
       "1  13.635522  Tarca_003_P1A03   NaN      1  PRB_HTA      0     HTA20  \n",
       "2  13.616688  Tarca_004_P1A04  32.6      1  PRB_HTA      1     HTA20  \n",
       "3  13.524328  Tarca_005_P1A05  30.6      1  PRB_HTA      1     HTA20  \n",
       "4  13.509353  Tarca_006_P1A06   NaN      1  PRB_HTA      0     HTA20  \n",
       "\n",
       "[5 rows x 32837 columns]"
      ]
     },
     "execution_count": 3,
     "metadata": {},
     "output_type": "execute_result"
    }
   ],
   "source": [
    "alldata.head()"
   ]
  },
  {
   "cell_type": "markdown",
   "metadata": {},
   "source": [
    "# Make train and test dataset"
   ]
  },
  {
   "cell_type": "code",
   "execution_count": 4,
   "metadata": {},
   "outputs": [],
   "source": [
    "X_train = alldata.loc[alldata['Train'] == 1, 'g_1':'g_32830'].values\n",
    "X_train_df = alldata.loc[alldata['Train'] == 1, 'g_1':'g_32830']"
   ]
  },
  {
   "cell_type": "code",
   "execution_count": 5,
   "metadata": {},
   "outputs": [],
   "source": [
    "y_train = alldata.loc[alldata['Train'] == 1, 'GA'].values\n",
    "y_train_df = alldata.loc[alldata['Train'] == 1, 'GA']"
   ]
  },
  {
   "cell_type": "code",
   "execution_count": 6,
   "metadata": {},
   "outputs": [],
   "source": [
    "# X_test = alldata.loc[alldata['Train'] == 0, 'g_1':'g_32830'].values\n",
    "X_test_df = alldata.loc[alldata['Train'] == 0, 'g_1':'g_32830']\n",
    "ID_test = alldata.loc[alldata['Train'] == 0, 'SampleID'].values"
   ]
  },
  {
   "cell_type": "code",
   "execution_count": 9,
   "metadata": {},
   "outputs": [
    {
     "name": "stdout",
     "output_type": "stream",
     "text": [
      "(367, 32830)\n",
      "(367,)\n"
     ]
    }
   ],
   "source": [
    "print(X_train.shape)\n",
    "print(y_train.shape)"
   ]
  },
  {
   "cell_type": "markdown",
   "metadata": {},
   "source": [
    "# EDA"
   ]
  },
  {
   "cell_type": "code",
   "execution_count": 10,
   "metadata": {},
   "outputs": [
    {
     "data": {
      "image/png": "[encoded data removed]",
      "text/plain": [
       "<Figure size 432x288 with 1 Axes>"
      ]
     },
     "metadata": {
      "needs_background": "light"
     },
     "output_type": "display_data"
    }
   ],
   "source": [
    "_ = plt.hist(y_train)\n",
    "_ = plt.xlabel(\"Gestational age\")\n",
    "_ = plt.ylabel(\"Number of observed data\")\n",
    "_ = plt.title(\"Histogram of gestational age\")\n",
    "plt.show()"
   ]
  },
  {
   "cell_type": "markdown",
   "metadata": {},
   "source": [
    "# Lasso regression"
   ]
  },
  {
   "cell_type": "code",
   "execution_count": 11,
   "metadata": {},
   "outputs": [
    {
     "name": "stdout",
     "output_type": "stream",
     "text": [
      "(32830,)\n",
      "[ 0.  0. -0. -0. -0.]\n",
      "[-0. -0. -0. -0. -0.]\n"
     ]
    },
    {
     "data": {
      "image/png": "[encoded data removed]",
      "text/plain": [
       "<Figure size 432x288 with 1 Axes>"
      ]
     },
     "metadata": {
      "needs_background": "light"
     },
     "output_type": "display_data"
    }
   ],
   "source": [
    "alpha = 0.1\n",
    "lasso = Lasso(alpha = alpha, normalize = True)\n",
    "lasso.fit(X_train, y_train)\n",
    "lasso_coef = lasso.coef_\n",
    "print(lasso_coef.shape)\n",
    "print(lasso_coef[0:5])\n",
    "print(lasso_coef[32825:32831])\n",
    "_ = plt.plot(lasso_coef)\n",
    "plt.show()"
   ]
  },
  {
   "cell_type": "code",
   "execution_count": 12,
   "metadata": {},
   "outputs": [
    {
     "name": "stdout",
     "output_type": "stream",
     "text": [
      "  Variable  Lasso_coefficient\n",
      "0  g_14088           1.287940\n",
      "1  g_15452           1.197929\n",
      "2  g_16391           0.931973\n",
      "3  g_22398           1.476096\n",
      "4  g_22824          -4.424946\n",
      "5  g_27389          -1.089270\n",
      "6  g_32432          -2.418021\n"
     ]
    }
   ],
   "source": [
    "COLUMNS = alldata.loc[alldata['Train'] == 1, 'g_1':'g_32830'].columns\n",
    "var = pd.Series(COLUMNS[abs(lasso_coef) > 0.5])\n",
    "coef = pd.Series(lasso_coef[abs(lasso_coef) > 0.5])\n",
    "lasso_result = pd.concat(objs = [var, coef],\n",
    "                         axis = 1,\n",
    "                         keys = ['Variable', 'Lasso_coefficient'])\n",
    "print(lasso_result)"
   ]
  },
  {
   "cell_type": "markdown",
   "metadata": {},
   "source": [
    "# Trial prediction"
   ]
  },
  {
   "cell_type": "markdown",
   "metadata": {},
   "source": [
    "DREAM rules predicted gestational age in fractional weeks up to one decimal place."
   ]
  },
  {
   "cell_type": "code",
   "execution_count": 13,
   "metadata": {},
   "outputs": [
    {
     "data": {
      "text/html": [
       "<div>\n",
       "<style scoped>\n",
       "    .dataframe tbody tr th:only-of-type {\n",
       "        vertical-align: middle;\n",
       "    }\n",
       "\n",
       "    .dataframe tbody tr th {\n",
       "        vertical-align: top;\n",
       "    }\n",
       "\n",
       "    .dataframe thead th {\n",
       "        text-align: right;\n",
       "    }\n",
       "</style>\n",
       "<table border=\"1\" class=\"dataframe\">\n",
       "  <thead>\n",
       "    <tr style=\"text-align: right;\">\n",
       "      <th></th>\n",
       "      <th>GA_act</th>\n",
       "      <th>GA_pred</th>\n",
       "    </tr>\n",
       "  </thead>\n",
       "  <tbody>\n",
       "    <tr>\n",
       "      <th>0</th>\n",
       "      <td>11.0</td>\n",
       "      <td>12.2</td>\n",
       "    </tr>\n",
       "    <tr>\n",
       "      <th>1</th>\n",
       "      <td>32.6</td>\n",
       "      <td>33.4</td>\n",
       "    </tr>\n",
       "    <tr>\n",
       "      <th>2</th>\n",
       "      <td>30.6</td>\n",
       "      <td>23.6</td>\n",
       "    </tr>\n",
       "    <tr>\n",
       "      <th>3</th>\n",
       "      <td>26.1</td>\n",
       "      <td>22.6</td>\n",
       "    </tr>\n",
       "    <tr>\n",
       "      <th>4</th>\n",
       "      <td>22.6</td>\n",
       "      <td>24.6</td>\n",
       "    </tr>\n",
       "  </tbody>\n",
       "</table>\n",
       "</div>"
      ],
      "text/plain": [
       "   GA_act  GA_pred\n",
       "0    11.0     12.2\n",
       "1    32.6     33.4\n",
       "2    30.6     23.6\n",
       "3    26.1     22.6\n",
       "4    22.6     24.6"
      ]
     },
     "execution_count": 13,
     "metadata": {},
     "output_type": "execute_result"
    }
   ],
   "source": [
    "COLUMNS = lasso_result['Variable'].tolist()\n",
    "X = X_train_df[COLUMNS].values\n",
    "y = y_train\n",
    "model = LinearRegression()\n",
    "model.fit(X, y)\n",
    "train_pred = model.predict(X).round(1)\n",
    "result = pd.concat([pd.Series(y_train), pd.Series(train_pred)], \n",
    "                   axis = 1,\n",
    "                   keys = ['GA_act', 'GA_pred'])\n",
    "result.head()"
   ]
  },
  {
   "cell_type": "markdown",
   "metadata": {},
   "source": [
    "# Training accuracy"
   ]
  },
  {
   "cell_type": "markdown",
   "metadata": {},
   "source": [
    "DREAM judges by Root Mean Squared Error."
   ]
  },
  {
   "cell_type": "code",
   "execution_count": 14,
   "metadata": {},
   "outputs": [
    {
     "data": {
      "text/plain": [
       "6.425040421208954"
      ]
     },
     "execution_count": 14,
     "metadata": {},
     "output_type": "execute_result"
    }
   ],
   "source": [
    "math.sqrt(statistics.mean((result['GA_act'] - result['GA_pred'])**2))"
   ]
  },
  {
   "cell_type": "markdown",
   "metadata": {},
   "source": [
    "# Prediction in test data"
   ]
  },
  {
   "cell_type": "code",
   "execution_count": 15,
   "metadata": {},
   "outputs": [
    {
     "data": {
      "text/html": [
       "<div>\n",
       "<style scoped>\n",
       "    .dataframe tbody tr th:only-of-type {\n",
       "        vertical-align: middle;\n",
       "    }\n",
       "\n",
       "    .dataframe tbody tr th {\n",
       "        vertical-align: top;\n",
       "    }\n",
       "\n",
       "    .dataframe thead th {\n",
       "        text-align: right;\n",
       "    }\n",
       "</style>\n",
       "<table border=\"1\" class=\"dataframe\">\n",
       "  <thead>\n",
       "    <tr style=\"text-align: right;\">\n",
       "      <th></th>\n",
       "      <th>SampleID</th>\n",
       "      <th>GA</th>\n",
       "    </tr>\n",
       "  </thead>\n",
       "  <tbody>\n",
       "    <tr>\n",
       "      <th>0</th>\n",
       "      <td>Tarca_003_P1A03</td>\n",
       "      <td>27.4</td>\n",
       "    </tr>\n",
       "    <tr>\n",
       "      <th>1</th>\n",
       "      <td>Tarca_006_P1A06</td>\n",
       "      <td>25.4</td>\n",
       "    </tr>\n",
       "    <tr>\n",
       "      <th>2</th>\n",
       "      <td>Tarca_011_P1A11</td>\n",
       "      <td>22.9</td>\n",
       "    </tr>\n",
       "    <tr>\n",
       "      <th>3</th>\n",
       "      <td>Tarca_012_P1A12</td>\n",
       "      <td>35.9</td>\n",
       "    </tr>\n",
       "    <tr>\n",
       "      <th>4</th>\n",
       "      <td>Tarca_015_P1B03</td>\n",
       "      <td>25.4</td>\n",
       "    </tr>\n",
       "  </tbody>\n",
       "</table>\n",
       "</div>"
      ],
      "text/plain": [
       "          SampleID    GA\n",
       "0  Tarca_003_P1A03  27.4\n",
       "1  Tarca_006_P1A06  25.4\n",
       "2  Tarca_011_P1A11  22.9\n",
       "3  Tarca_012_P1A12  35.9\n",
       "4  Tarca_015_P1B03  25.4"
      ]
     },
     "execution_count": 15,
     "metadata": {},
     "output_type": "execute_result"
    }
   ],
   "source": [
    "COLUMNS = lasso_result['Variable'].tolist()\n",
    "X_test = X_test_df[COLUMNS].values\n",
    "test_pred = model.predict(X_test).round(1)\n",
    "result = pd.concat([pd.Series(ID_test), pd.Series(test_pred)],\n",
    "                  axis = 1,\n",
    "                  keys = ['SampleID', 'GA'])\n",
    "result.head()"
   ]
  },
  {
   "cell_type": "code",
   "execution_count": 16,
   "metadata": {},
   "outputs": [
    {
     "data": {
      "text/plain": [
       "count    368.000000\n",
       "mean      26.029076\n",
       "std        5.683093\n",
       "min        8.100000\n",
       "25%       22.550000\n",
       "50%       26.200000\n",
       "75%       29.925000\n",
       "max       42.800000\n",
       "Name: GA, dtype: float64"
      ]
     },
     "execution_count": 16,
     "metadata": {},
     "output_type": "execute_result"
    }
   ],
   "source": [
    "result['GA'].describe()"
   ]
  },
  {
   "cell_type": "markdown",
   "metadata": {},
   "source": [
    "# Adjustment"
   ]
  },
  {
   "cell_type": "markdown",
   "metadata": {},
   "source": [
    "DREAM suggests that values are expected to be >8 and <42, so adjusts predicted values.\n",
    "<br>\n",
    "https://www.synapse.org/#!Synapse:syn18380862/wiki/590817"
   ]
  },
  {
   "cell_type": "code",
   "execution_count": 17,
   "metadata": {},
   "outputs": [
    {
     "data": {
      "text/plain": [
       "1"
      ]
     },
     "execution_count": 17,
     "metadata": {},
     "output_type": "execute_result"
    }
   ],
   "source": [
    "(result['GA'] >= 42).sum()"
   ]
  },
  {
   "cell_type": "code",
   "execution_count": 18,
   "metadata": {},
   "outputs": [],
   "source": [
    "result.loc[result['GA'] >= 42, 'GA'] = 42"
   ]
  },
  {
   "cell_type": "code",
   "execution_count": 19,
   "metadata": {},
   "outputs": [
    {
     "data": {
      "text/plain": [
       "SampleID    Tarca_844_P8D10\n",
       "GA                       42\n",
       "Name: 350, dtype: object"
      ]
     },
     "execution_count": 19,
     "metadata": {},
     "output_type": "execute_result"
    }
   ],
   "source": [
    "result.iloc[350]"
   ]
  },
  {
   "cell_type": "code",
   "execution_count": 20,
   "metadata": {},
   "outputs": [
    {
     "data": {
      "text/plain": [
       "count    368.000000\n",
       "mean      26.026902\n",
       "std        5.676810\n",
       "min        8.100000\n",
       "25%       22.550000\n",
       "50%       26.200000\n",
       "75%       29.925000\n",
       "max       42.000000\n",
       "Name: GA, dtype: float64"
      ]
     },
     "execution_count": 20,
     "metadata": {},
     "output_type": "execute_result"
    }
   ],
   "source": [
    "result['GA'].describe()"
   ]
  },
  {
   "cell_type": "markdown",
   "metadata": {},
   "source": [
    "# Export prediction"
   ]
  },
  {
   "cell_type": "code",
   "execution_count": 21,
   "metadata": {},
   "outputs": [],
   "source": [
    "sub = result"
   ]
  },
  {
   "cell_type": "code",
   "execution_count": 22,
   "metadata": {},
   "outputs": [],
   "source": [
    "# sub.to_csv('C:\\\\Users\\\\yukic\\\\Documents\\\\DREAM\\\\submission_190707.csv', index = False)"
   ]
  },
  {
   "cell_type": "markdown",
   "metadata": {},
   "source": [
    "# Hyperparameter tuning with GridSearchCV"
   ]
  },
  {
   "cell_type": "markdown",
   "metadata": {},
   "source": [
    "https://campus.datacamp.com/courses/supervised-learning-with-scikit-learn/fine-tuning-your-model?ex=10"
   ]
  },
  {
   "cell_type": "code",
   "execution_count": 23,
   "metadata": {},
   "outputs": [
    {
     "name": "stderr",
     "output_type": "stream",
     "text": [
      "C:\\Users\\yukic\\Anaconda3\\lib\\site-packages\\sklearn\\model_selection\\_search.py:841: DeprecationWarning: The default of the `iid` parameter will change from True to False in version 0.22 and will be removed in 0.24. This will change numeric results when test-set sizes are unequal.\n",
      "  DeprecationWarning)\n"
     ]
    },
    {
     "name": "stdout",
     "output_type": "stream",
     "text": [
      "Tuned lasso regression parameters: {'alpha': 0.04}\n",
      "Best score is 0.36562012784922776\n"
     ]
    }
   ],
   "source": [
    "# Setup the parameter grid\n",
    "alpha_space = np.arange(0.01, 0.1, 0.01)\n",
    "param_grid = {'alpha':alpha_space}\n",
    "\n",
    "# Instantiate a lasso regression\n",
    "lasso = Lasso(normalize = True)\n",
    "\n",
    "# Instantiate the GridSearchCV object\n",
    "lasso_cv = GridSearchCV(lasso, param_grid, cv = 10)\n",
    "\n",
    "# Fit it to data\n",
    "lasso_cv.fit(X_train, y_train)\n",
    "\n",
    "# Print the tuned parameters and score\n",
    "print(\"Tuned lasso regression parameters: {}\".format(lasso_cv.best_params_))\n",
    "print(\"Best score is {}\".format(lasso_cv.best_score_))"
   ]
  },
  {
   "cell_type": "markdown",
   "metadata": {},
   "source": [
    "# Check variables"
   ]
  },
  {
   "cell_type": "code",
   "execution_count": 24,
   "metadata": {},
   "outputs": [
    {
     "data": {
      "image/png": "[encoded data removed]",
      "text/plain": [
       "<Figure size 432x288 with 1 Axes>"
      ]
     },
     "metadata": {
      "needs_background": "light"
     },
     "output_type": "display_data"
    }
   ],
   "source": [
    "# Run lasso regression\n",
    "alpha = 0.04\n",
    "lasso = Lasso(alpha = alpha, normalize = True)\n",
    "lasso.fit(X_train, y_train)\n",
    "lasso_coef = lasso.coef_\n",
    "\n",
    "# Obtain parameter estimates\n",
    "_ = plt.plot(lasso_coef)\n",
    "_ = plt.title('Coefficients of lasso regression')\n",
    "_ = plt.ylabel('Coefficients')\n",
    "_ = plt.xlabel('Index of variables')\n",
    "plt.show()"
   ]
  },
  {
   "cell_type": "code",
   "execution_count": 25,
   "metadata": {},
   "outputs": [
    {
     "name": "stdout",
     "output_type": "stream",
     "text": [
      "22823\n"
     ]
    }
   ],
   "source": [
    "index = np.argmax(abs(lasso_coef))\n",
    "print(index)"
   ]
  },
  {
   "cell_type": "markdown",
   "metadata": {},
   "source": [
    "g_1=0, g_32830=32829"
   ]
  },
  {
   "cell_type": "code",
   "execution_count": 26,
   "metadata": {},
   "outputs": [
    {
     "data": {
      "image/png": "[encoded data removed]",
      "text/plain": [
       "<Figure size 432x288 with 1 Axes>"
      ]
     },
     "metadata": {
      "needs_background": "light"
     },
     "output_type": "display_data"
    }
   ],
   "source": [
    "_ = plt.scatter(X_train[:, index], y_train)\n",
    "_ = plt.title('22823')\n",
    "_ = plt.xlabel('level of g_22824')\n",
    "_ = plt.ylabel('Gestational age')\n",
    "plt.show()"
   ]
  },
  {
   "cell_type": "code",
   "execution_count": 27,
   "metadata": {},
   "outputs": [
    {
     "name": "stdout",
     "output_type": "stream",
     "text": [
      "29803\n"
     ]
    }
   ],
   "source": [
    "index = np.argmax(lasso_coef)\n",
    "print(index)"
   ]
  },
  {
   "cell_type": "code",
   "execution_count": 28,
   "metadata": {},
   "outputs": [
    {
     "data": {
      "image/png": "[encoded data removed]",
      "text/plain": [
       "<Figure size 432x288 with 1 Axes>"
      ]
     },
     "metadata": {
      "needs_background": "light"
     },
     "output_type": "display_data"
    }
   ],
   "source": [
    "_ = plt.scatter(X_train[:, index], y_train)\n",
    "_ = plt.title('29803')\n",
    "_ = plt.xlabel('level of g_29804')\n",
    "_ = plt.ylabel('Gestational age')\n",
    "plt.show()"
   ]
  },
  {
   "cell_type": "code",
   "execution_count": 29,
   "metadata": {},
   "outputs": [
    {
     "name": "stdout",
     "output_type": "stream",
     "text": [
      "59\n",
      "[ 0.03 -0.61  1.31 -0.39  0.14  3.02  0.23  1.21 -3.82  1.51 -1.03 -0.09\n",
      " -0.71  0.27  0.8   0.06  0.07  0.15  0.56 -1.36  0.42 -0.35  0.07  1.14\n",
      "  2.48 -0.23  0.61 -0.51 -0.57 -0.05 -1.7  -0.01 -0.22  0.6   0.41 -0.08\n",
      "  2.56 -8.18 -1.15  2.02  0.41  0.02 -0.56  1.09  1.56 -0.56  0.01  3.15\n",
      " -0.2   0.04 -0.84  3.32  0.11  1.63  7.04 -2.2  -0.44  1.81 -2.49]\n"
     ]
    }
   ],
   "source": [
    "print((lasso_coef != 0).sum())\n",
    "index_nonzero = np.where(lasso_coef != 0)\n",
    "print(lasso_coef[index_nonzero].round(2))"
   ]
  },
  {
   "cell_type": "code",
   "execution_count": 30,
   "metadata": {},
   "outputs": [],
   "source": [
    "# for i in np.arange(0, 59, 1):\n",
    "#     index = index_nonzero[0][i]\n",
    "#     _ = plt.scatter(X_train[:, index], y_train)\n",
    "#     _ = plt.title(index)\n",
    "#     _ = plt.ylabel('Gestational age')\n",
    "#     plt.show()"
   ]
  },
  {
   "cell_type": "code",
   "execution_count": 31,
   "metadata": {},
   "outputs": [
    {
     "data": {
      "text/plain": [
       "array([5.31756370e-03, 1.22660856e-02, 1.94018054e-02, 2.96060169e-02,\n",
       "       3.68623512e-02, 5.46988091e-02, 6.35446230e-02, 7.16218214e-02,\n",
       "       7.16955696e-02, 7.71096297e-02, 8.89294525e-02, 1.05350926e-01,\n",
       "       1.42927018e-01, 1.49538818e-01, 2.02391648e-01, 2.21204962e-01,\n",
       "       2.25797841e-01, 2.28983441e-01, 2.72817898e-01, 3.48212636e-01,\n",
       "       3.89717487e-01, 4.06831358e-01, 4.10130742e-01, 4.22874032e-01,\n",
       "       4.43156394e-01, 5.09033906e-01, 5.57474908e-01, 5.62260910e-01,\n",
       "       5.63941553e-01, 5.67600671e-01, 6.04748784e-01, 6.11407220e-01,\n",
       "       6.12181201e-01, 7.07198722e-01, 8.03690646e-01, 8.44762571e-01,\n",
       "       1.03391324e+00, 1.08717533e+00, 1.14129979e+00, 1.15297809e+00,\n",
       "       1.20800193e+00, 1.30973552e+00, 1.35679940e+00, 1.50661423e+00,\n",
       "       1.55640733e+00, 1.62646621e+00, 1.70495060e+00, 1.81376924e+00,\n",
       "       2.01515067e+00, 2.19954827e+00, 2.48389025e+00, 2.48840264e+00,\n",
       "       2.55757142e+00, 3.01537714e+00, 3.15031432e+00, 3.31545586e+00,\n",
       "       3.81544631e+00, 7.03835284e+00, 8.17659864e+00])"
      ]
     },
     "execution_count": 31,
     "metadata": {},
     "output_type": "execute_result"
    }
   ],
   "source": [
    "np.sort(abs(lasso_coef[index_nonzero]))"
   ]
  },
  {
   "cell_type": "markdown",
   "metadata": {},
   "source": [
    "# Prediction by lasso results"
   ]
  },
  {
   "cell_type": "code",
   "execution_count": 33,
   "metadata": {},
   "outputs": [],
   "source": [
    "X_test = alldata.loc[alldata['Train'] == 0, 'g_1':'g_32830'].values\n",
    "pred_test = lasso.predict(X_test)"
   ]
  },
  {
   "cell_type": "code",
   "execution_count": 34,
   "metadata": {},
   "outputs": [
    {
     "data": {
      "image/png": "[encoded data removed]",
      "text/plain": [
       "<Figure size 432x288 with 1 Axes>"
      ]
     },
     "metadata": {
      "needs_background": "light"
     },
     "output_type": "display_data"
    }
   ],
   "source": [
    "_ = plt.hist(pred_test)\n",
    "_ = plt.title(\"Histogram of gestational age\")\n",
    "_ = plt.xlabel(\"Gestational age\")\n",
    "_ = plt.ylabel(\"Number of observed data\")\n",
    "plt.show()"
   ]
  },
  {
   "cell_type": "markdown",
   "metadata": {},
   "source": [
    "# Variable selection based on lasso results"
   ]
  },
  {
   "cell_type": "markdown",
   "metadata": {},
   "source": [
    "For the moment, for prediction, I set 1 is threshold for lasso regression parameters, and try prediction."
   ]
  },
  {
   "cell_type": "code",
   "execution_count": 35,
   "metadata": {},
   "outputs": [
    {
     "data": {
      "text/plain": [
       "15"
      ]
     },
     "execution_count": 35,
     "metadata": {},
     "output_type": "execute_result"
    }
   ],
   "source": [
    "threshold = 1\n",
    "(lasso_coef > threshold).sum()"
   ]
  },
  {
   "cell_type": "code",
   "execution_count": 36,
   "metadata": {},
   "outputs": [],
   "source": [
    "lasso_coef[lasso_coef < threshold] = 0"
   ]
  },
  {
   "cell_type": "code",
   "execution_count": 37,
   "metadata": {},
   "outputs": [
    {
     "data": {
      "text/plain": [
       "array([0., 0., 0., ..., 0., 0., 0.])"
      ]
     },
     "execution_count": 37,
     "metadata": {},
     "output_type": "execute_result"
    }
   ],
   "source": [
    "lasso_coef"
   ]
  }
 ],
 "metadata": {
  "kernelspec": {
   "display_name": "Python 3",
   "language": "python",
   "name": "python3"
  },
  "language_info": {
   "codemirror_mode": {
    "name": "ipython",
    "version": 3
   },
   "file_extension": ".py",
   "mimetype": "text/x-python",
   "name": "python",
   "nbconvert_exporter": "python",
   "pygments_lexer": "ipython3",
   "version": "3.7.1"
  }
 },
 "nbformat": 4,
 "nbformat_minor": 2
}
