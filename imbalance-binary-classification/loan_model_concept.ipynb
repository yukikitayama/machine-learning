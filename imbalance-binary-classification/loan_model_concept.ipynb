{
 "cells": [
  {
   "cell_type": "markdown",
   "id": "ababdbef",
   "metadata": {},
   "source": [
    "## Load Model Concept\n",
    "\n",
    "Suppose we work for a bank to give customers loans. We build a model which takes customer input and return if we can make a loan or not.\n",
    "\n",
    "1. What model do we build?\n",
    "\n",
    "We build a binary classification model.\n",
    "\n",
    "2. Suppose we develop a potentially better model. How would we measure the difference between the two credit risk models within a timeframe?\n",
    "\n",
    "We split the data to training and test data. Evaluate both models against the test data, and see which model performs better on the test data.\n",
    "\n",
    "3. What metrics would you track to measure the model success?\n",
    "\n",
    "We can use accuracy, precision (about prediciton), recall (about actual) and F1-score. \n",
    "\n",
    "For example, in bomb detection, we wanna avoid false negative and can accept some false positive to definitely find all bombs. In this case, we should check recall.\n",
    "\n",
    "For example, in bank loan, we wanna minimize false positive (meaning telling customers that you are bad) and miss some true positive (bad customers). In this case, we can check Precision."
   ]
  }
 ],
 "metadata": {
  "kernelspec": {
   "display_name": "env-machine-learning",
   "language": "python",
   "name": "env-machine-learning"
  },
  "language_info": {
   "codemirror_mode": {
    "name": "ipython",
    "version": 3
   },
   "file_extension": ".py",
   "mimetype": "text/x-python",
   "name": "python",
   "nbconvert_exporter": "python",
   "pygments_lexer": "ipython3",
   "version": "3.9.5"
  }
 },
 "nbformat": 4,
 "nbformat_minor": 5
}
