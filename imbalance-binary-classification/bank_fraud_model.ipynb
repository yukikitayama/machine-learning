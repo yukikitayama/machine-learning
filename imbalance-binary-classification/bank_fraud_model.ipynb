{
 "cells": [
  {
   "cell_type": "markdown",
   "id": "126b68fd",
   "metadata": {},
   "source": [
    "# Bank Fraud Model\n",
    "\n",
    "We wanna build a model to detect fraud on the bank platform. The bank wants to implement a text messaging service which will text customers when the model detects a fraudulent transaction to allow the customer to approve or deny the transaction by reponding to the text. How would we build this model?\n",
    "\n",
    "We need to build a binary classification model based on the imbalanced class dataset, because we wanna detect whether a transaction is fraudulent or not, and typically compared to the number of the normal transactions, the fraudulent transactions are rare.\n",
    "\n",
    "We need to consider how accurate the fraud labelings are, because they were previously judged to be fraudulent. Also there are transactions that we haven't noticed that they were fraudulent transactions.\n",
    "\n",
    "We also need to consider that people might care about the interpretability of the model. If we go to the machine learning model approach, it's a good idea to implement interpretability such as feature importance.\n",
    "\n",
    "We should care about the cost of misclassification by recall and precision. Based on the following reasoning, it makes sense to optimize recall and to avoid costly fraudulent charges.\n",
    "\n",
    "Low recall means that more fraudulent transactions go to customer without identifying them. It means that customers are defrauded and the bank needs to refund the cost to the customer, and the bank loses revenue.\n",
    "\n",
    "Low precision means that customers think that their accounts are defrauded quite often. Maybe customers feel annoyed and switch to another bank, but the loss by refunding is smaller.\n",
    "\n",
    "To overcome the imbalanced class, we can consider applying different weight on each instance to increase the impact of the minority fraud class, or implement SMOTE to generate synthetic data of the fraud class."
   ]
  }
 ],
 "metadata": {
  "kernelspec": {
   "display_name": "env-machine-learning",
   "language": "python",
   "name": "env-machine-learning"
  },
  "language_info": {
   "codemirror_mode": {
    "name": "ipython",
    "version": 3
   },
   "file_extension": ".py",
   "mimetype": "text/x-python",
   "name": "python",
   "nbconvert_exporter": "python",
   "pygments_lexer": "ipython3",
   "version": "3.9.5"
  }
 },
 "nbformat": 4,
 "nbformat_minor": 5
}
