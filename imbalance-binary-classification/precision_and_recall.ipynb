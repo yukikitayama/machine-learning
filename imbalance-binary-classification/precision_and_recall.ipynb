{
 "cells": [
  {
   "cell_type": "markdown",
   "id": "a4320aeb",
   "metadata": {},
   "source": [
    "# Precision and Recall"
   ]
  },
  {
   "cell_type": "markdown",
   "id": "fd03f02a",
   "metadata": {},
   "source": [
    "## Precision\n",
    "\n",
    "$$\n",
    "\\text{Precision} = \\frac{\\text{TP}}{\\text{TP} + \\text{FP}}\n",
    "$$\n",
    "\n",
    "Precision means that, among positive predictions, how much were actually positive. \n",
    "\n",
    "When the positive is a rare bad thing, and when precision is low, there are too many alerts.\n",
    "\n",
    "## Recall\n",
    "\n",
    "$$\n",
    "\\text{Recall} = \\frac{\\text{TP}}{\\text{FN} + \\text{TP}}\n",
    "$$\n",
    "\n",
    "Recall means that, among actual positive response, how much we were able to predict as positive. \n",
    "\n",
    "When the positive is a rare bad thing, and when recall is low, we are missing too many times, and it's damaging our sysmte.\n",
    "\n",
    "## Problem\n",
    "\n",
    "Given a confusion matrix, write a function to compute precision and recall. The vertical represents actual positive, negative. The horizontal represents predicted positive and negative."
   ]
  },
  {
   "cell_type": "code",
   "execution_count": 2,
   "id": "1cae80e8",
   "metadata": {},
   "outputs": [
    {
     "name": "stdout",
     "output_type": "stream",
     "text": [
      "(0.8768115942028986, 0.9307692307692308)\n"
     ]
    }
   ],
   "source": [
    "conf_mat = [\n",
    "    [121, 9],\n",
    "    [17, 144]\n",
    "]\n",
    "\n",
    "\n",
    "def precision_recall(P):\n",
    "    # Precision is about prediction\n",
    "    precision = P[0][0] / (P[0][0] + P[1][0])\n",
    "    \n",
    "    # Recall is about actual\n",
    "    recall = P[0][0] / (P[0][0] + P[0][1])\n",
    "    \n",
    "    return precision, recall\n",
    "\n",
    "\n",
    "print(precision_recall(conf_mat))"
   ]
  },
  {
   "cell_type": "markdown",
   "id": "38b96c3d",
   "metadata": {},
   "source": [
    "## Resource\n",
    "\n",
    "- [Precision and recall](https://en.wikipedia.org/wiki/Precision_and_recall)"
   ]
  }
 ],
 "metadata": {
  "kernelspec": {
   "display_name": "env-machine-learning",
   "language": "python",
   "name": "env-machine-learning"
  },
  "language_info": {
   "codemirror_mode": {
    "name": "ipython",
    "version": 3
   },
   "file_extension": ".py",
   "mimetype": "text/x-python",
   "name": "python",
   "nbconvert_exporter": "python",
   "pygments_lexer": "ipython3",
   "version": "3.9.5"
  }
 },
 "nbformat": 4,
 "nbformat_minor": 5
}
